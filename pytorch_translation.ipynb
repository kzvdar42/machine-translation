{
 "cells": [
  {
   "cell_type": "code",
   "execution_count": 1,
   "metadata": {
    "colab": {},
    "colab_type": "code",
    "id": "GMu08_zMAY7m"
   },
   "outputs": [],
   "source": [
    "%matplotlib inline\n",
    "\n",
    "from tqdm.notebook import tqdm\n",
    "import os\n",
    "\n",
    "import torch\n",
    "from torch import nn, Tensor\n",
    "import torch.nn.functional as F\n",
    "from torch.utils.data import DataLoader\n",
    "from torch.nn.utils.rnn import pad_sequence\n",
    "\n",
    "import math\n",
    "import pandas as pd\n",
    "import numpy as np\n",
    "from sklearn.model_selection import train_test_split\n",
    "\n",
    "try:\n",
    "    import youtokentome as yttm\n",
    "except:\n",
    "    # Install YouTokenToMe for tokenization\n",
    "    !pip install youtokentome\n",
    "    import youtokentome as yttm\n",
    "\n",
    "vocab_size = 2 ** 15 # TODO: maybe use power of two?\n",
    "PADDING_TOKEN = 0\n",
    "UNK_TOKEN = 1\n",
    "BOS_TOKEN = 2\n",
    "EOS_TOKEN = 3\n",
    "\n",
    "device = torch.device('cuda' if torch.cuda.is_available() else 'cpu')\n",
    "BATCH_SIZE = 16\n",
    "\n",
    "# Choose dataset\n",
    "data_path = 'data'\n",
    "# path = f'{data_path}/paracrawl-clean'\n",
    "path = f'{data_path}/yandex'\n",
    "# Tokenizer model path.\n",
    "tokenizer_path = f'{path}_v{vocab_size}.tokenizer'\n",
    "\n",
    "# Model save path.\n",
    "save_path = 'models'\n",
    "sub_name = '_1'\n",
    "save_model_name = f'test_model{sub_name}.pth'\n",
    "model_save_path = os.path.join(save_path, save_model_name)\n",
    "\n",
    "if not os.path.exists(save_path):\n",
    "    os.makedirs(save_path)\n",
    "\n",
    "def load_files(path):\n",
    "    res = ([], [])\n",
    "    for i, ext in enumerate(['.en', '.ru']):\n",
    "        with open(path + ext, encoding='utf8') as in_file:\n",
    "            res[i].extend(in_file.readlines())\n",
    "    return res"
   ]
  },
  {
   "cell_type": "code",
   "execution_count": 2,
   "metadata": {},
   "outputs": [],
   "source": [
    "BATCH_SIZE = 32"
   ]
  },
  {
   "cell_type": "markdown",
   "metadata": {
    "colab_type": "text",
    "id": "vaMjWUZtg38R"
   },
   "source": [
    "## Preparation\n",
    "Update/Install packages and download datasets"
   ]
  },
  {
   "cell_type": "code",
   "execution_count": 42,
   "metadata": {
    "colab": {
     "base_uri": "https://localhost:8080/",
     "height": 34
    },
    "colab_type": "code",
    "id": "vmfrqBmzyNBY",
    "outputId": "88e898ca-1af8-4cc3-f60a-f6c2b279a55e"
   },
   "outputs": [
    {
     "data": {
      "text/plain": [
       "(1000000, 2)"
      ]
     },
     "execution_count": 42,
     "metadata": {},
     "output_type": "execute_result"
    }
   ],
   "source": [
    "data_en, data_ru = load_files(path)\n",
    "\n",
    "raw_data = {'English' : [line for line in data_en], 'Russian': [line for line in data_ru]}\n",
    "\n",
    "df = pd.DataFrame(raw_data, columns=list(raw_data.keys()))\n",
    "df.shape"
   ]
  },
  {
   "cell_type": "code",
   "execution_count": 43,
   "metadata": {
    "colab": {
     "base_uri": "https://localhost:8080/",
     "height": 34
    },
    "colab_type": "code",
    "id": "loAavSAPym44",
    "outputId": "f5e943c0-b0b6-4bc8-a253-4d7d4644b768"
   },
   "outputs": [
    {
     "data": {
      "text/plain": [
       "(1000000, 2)"
      ]
     },
     "execution_count": 43,
     "metadata": {},
     "output_type": "execute_result"
    }
   ],
   "source": [
    "df['en_len'] = df['English'].str.count(' ')\n",
    "df['ru_len'] = df['Russian'].str.count(' ')\n",
    "# df = df.query('ru_len < 30 & en_len < 30')\n",
    "# df = df.query('ru_len < en_len * 1.5 & ru_len * 1.5 > en_len')\n",
    "# df.sort_values(['ru_len', 'en_len'], ascending=[True, True], inplace=True)\n",
    "del df['en_len'], df['ru_len']\n",
    "df.shape"
   ]
  },
  {
   "cell_type": "code",
   "execution_count": 44,
   "metadata": {
    "colab": {
     "base_uri": "https://localhost:8080/",
     "height": 34
    },
    "colab_type": "code",
    "id": "bRQEFSLt3zKx",
    "outputId": "868a427e-339d-4812-b1bd-551645add33b"
   },
   "outputs": [
    {
     "data": {
      "text/plain": [
       "(200000, 2)"
      ]
     },
     "execution_count": 44,
     "metadata": {},
     "output_type": "execute_result"
    }
   ],
   "source": [
    "df = df[:200000]\n",
    "# import nltk\n",
    "# df['English'] = df.English.apply(lambda x: ' '.join(nltk.word_tokenize(x)))\n",
    "# df['Russian'] = df.Russian.apply(lambda x: ' '.join(nltk.word_tokenize(x)))\n",
    "df.shape"
   ]
  },
  {
   "cell_type": "code",
   "execution_count": 45,
   "metadata": {
    "colab": {},
    "colab_type": "code",
    "id": "yYYvRotrzRq9"
   },
   "outputs": [],
   "source": [
    "# Create train, test, val sets.\n",
    "train, test = train_test_split(df, test_size=0.2)\n",
    "test, val = train_test_split(test, test_size=0.5)\n",
    "train.to_csv(os.path.join(data_path, 'train.csv'), index=False)\n",
    "test.to_csv(os.path.join(data_path, 'test.csv'), index=False)\n",
    "val.to_csv(os.path.join(data_path, 'val.csv'), index=False)"
   ]
  },
  {
   "cell_type": "markdown",
   "metadata": {
    "colab_type": "text",
    "id": "s2CY1bO1hMVj"
   },
   "source": [
    "## Load data"
   ]
  },
  {
   "cell_type": "code",
   "execution_count": 3,
   "metadata": {
    "colab": {},
    "colab_type": "code",
    "id": "IZN-aua3JPTa"
   },
   "outputs": [],
   "source": [
    "if os.path.exists(tokenizer_path):\n",
    "    tokenizer = yttm.BPE(model=tokenizer_path)\n",
    "else:\n",
    "    # Create temp file with data to train tokenizer.\n",
    "    data_en, data_ru = load_files(path)\n",
    "    temp_file_path = 'tokenizer_text.temp'\n",
    "    with open(temp_file_path, 'w', encoding='utf8') as out_file:\n",
    "        out_file.write('\\n'.join(map(str.lower, data_en)))\n",
    "        out_file.write('\\n'.join(map(str.lower, data_ru)))\n",
    "    # Train tokenizer.\n",
    "    tokenizer = yttm.BPE.train(data=temp_file_path, vocab_size=vocab_size, model=tokenizer_path)\n",
    "    # Delete temp file.\n",
    "    os.remove(temp_file_path)"
   ]
  },
  {
   "cell_type": "code",
   "execution_count": 47,
   "metadata": {
    "colab": {
     "base_uri": "https://localhost:8080/",
     "height": 34
    },
    "colab_type": "code",
    "id": "6UnqEDMXsd-C",
    "outputId": "8744bcd2-41b3-498f-9f9d-966b14cff2e1"
   },
   "outputs": [
    {
     "name": "stdout",
     "output_type": "stream",
     "text": [
      "Train: 133329 \n",
      "Val: 16692 \n",
      "Test: 16736\n"
     ]
    }
   ],
   "source": [
    "class TextDataset(torch.utils.data.Dataset):\n",
    "\n",
    "    __output_types = { 'id': yttm.OutputType.ID,\n",
    "                       'subword':yttm.OutputType.SUBWORD }\n",
    "\n",
    "    def __init__(self, csv_file, tokenizer, max_len=50, max_len_ratio=1.5):\n",
    "        self.tokenizer = tokenizer\n",
    "        df = pd.read_csv(csv_file)\n",
    "        # Tokenize sentences using tokenizer.\n",
    "        # TODO: Improve code by rewriting lambdas to smth else.\n",
    "        tokenize_lambda = lambda x: self.tokenize(x.lower().strip(), 'subword')\n",
    "        df['eng_enc'] = df.English.apply(tokenize_lambda)\n",
    "        df['rus_enc'] = df.Russian.apply(tokenize_lambda)\n",
    "        # Delete sentences that exceed the max length and max length ratio.\n",
    "        df['en_len'] = df['eng_enc'].str.len()\n",
    "        df['ru_len'] = df['rus_enc'].str.len()\n",
    "        df.query(f'ru_len < {max_len} & en_len < {max_len}', inplace=True)\n",
    "        df.query(f'ru_len < en_len * {max_len_ratio} & ru_len * {max_len_ratio} > en_len', inplace=True)\n",
    "        # Sort the values for less padding in batching.\n",
    "        df.sort_values(['ru_len', 'en_len'], ascending=[False, False], inplace=True)\n",
    "        # TODO: better unpacking\n",
    "        raw_src, raw_tgt = zip(df[['Russian', 'English']].T.values)\n",
    "        src, tgt = zip(df[['rus_enc', 'eng_enc']].T.values)\n",
    "        self.tgt, self.src = tgt[0], src[0]\n",
    "        self.raw_src, self.raw_tgt = raw_src[0], raw_tgt[0]\n",
    "        \n",
    "\n",
    "    def tokenize(self, s, output_type='id'):\n",
    "        \"\"\"Tokenize the sentence.\n",
    "        :param s: the sentence to tokenize\n",
    "        :param output_type: either 'id' or 'subword' for corresponding output\n",
    "        :return: tokenized sentence\"\"\"\n",
    "        return self.tokenizer.encode(s, output_type=self.__output_types[output_type],\n",
    "                                bos=True, eos=True)\n",
    "    def decode(self, tokens):\n",
    "        return self.tokenizer.id_to_subword(tokens)\n",
    "\n",
    "    def __len__(self):\n",
    "        return len(self.src)\n",
    "\n",
    "    def __getitem__(self, idx):\n",
    "        if torch.is_tensor(idx):\n",
    "            idx = idx.tolist()\n",
    "        src = self.src[idx]\n",
    "        src = [self.tokenizer.subword_to_id(token) for token in src]\n",
    "        tgt = self.tgt[idx]\n",
    "        tgt = [self.tokenizer.subword_to_id(token) for token in tgt]\n",
    "        return src, tgt\n",
    "\n",
    "def load_datasets(path, tokenizer, ext='.csv'):\n",
    "    res = []\n",
    "    for name in  ['train', 'val', 'test']:\n",
    "        dataset_path = os.path.join(path, name + ext)\n",
    "        res.append(TextDataset(dataset_path, tokenizer))\n",
    "    return res\n",
    "\n",
    "train_data, val_data, test_data = load_datasets(data_path, tokenizer)\n",
    "print('Train:', len(train_data),\n",
    "      '\\nVal:', len(val_data),\n",
    "      '\\nTest:', len(test_data))"
   ]
  },
  {
   "cell_type": "markdown",
   "metadata": {
    "colab_type": "text",
    "id": "b_Ysl0QUn2c3"
   },
   "source": [
    "## Dataloaders"
   ]
  },
  {
   "cell_type": "code",
   "execution_count": 48,
   "metadata": {
    "colab": {},
    "colab_type": "code",
    "id": "qNztDWcjn2c5"
   },
   "outputs": [],
   "source": [
    "def my_collate(batch):\n",
    "    src, tgt = zip(*batch)\n",
    "    src = [Tensor(s) for s in src]\n",
    "    tgt = [Tensor(t) for t in tgt]\n",
    "    # TODO: Generalize padding value\n",
    "    src = pad_sequence(src, batch_first=True, padding_value=PADDING_TOKEN).long()\n",
    "    tgt = pad_sequence(tgt, batch_first=True, padding_value=PADDING_TOKEN).long()\n",
    "    return src.t(), tgt.t()\n",
    "\n",
    "def make_dataloaders(datasets, batch_size, num_workers=0):\n",
    "    res = []\n",
    "    for dataset in datasets:\n",
    "        res.append(DataLoader(dataset, batch_size=batch_size,\n",
    "                        shuffle=False, num_workers=num_workers, collate_fn=my_collate))\n",
    "    return res\n",
    "\n",
    "(train_iterator,\n",
    " val_iterator,\n",
    " test_iterator) = make_dataloaders([train_data, val_data, test_data],\n",
    "                                   batch_size=BATCH_SIZE,\n",
    "                                   num_workers=0)\n",
    "\n",
    "data_iterators = {\n",
    "    'train': train_iterator,\n",
    "    'val': val_iterator,\n",
    "    'test': test_iterator,\n",
    "}"
   ]
  },
  {
   "cell_type": "code",
   "execution_count": 49,
   "metadata": {
    "colab": {
     "base_uri": "https://localhost:8080/",
     "height": 141
    },
    "colab_type": "code",
    "id": "NQwdXgmPB36j",
    "outputId": "0f83abc0-01c2-42bf-b548-f3157ec38a11"
   },
   "outputs": [
    {
     "name": "stdout",
     "output_type": "stream",
     "text": [
      "Raw input: Она неутомимо и страстно атакует соперницу, стараясь решительно сокрушить ее (из 47 побед, 31 Кристи завершила нокаутом) - Кристи называет себя \"бойцом концентрированного действия\".\n",
      " She tirelessly and passionately batters her opponent trying to decidedly trounce her (she ended her fights with 31 knockouts out of 47 wins) - Christy called herself an \"action-packed fighter\".\n",
      "\n",
      "Tokenized input: ['<BOS>', '▁она', '▁неу', 'то', 'ми', 'мо', '▁и', '▁стра', 'стно', '▁ата', 'ку', 'ет', '▁сопер', 'ницу', ',', '▁ста', 'раясь', '▁решительно', '▁со', 'кру', 'шить', '▁ее', '▁(из', '▁47', '▁побе', 'д,', '▁31', '▁кри', 'сти', '▁заверши', 'ла', '▁но', 'ка', 'у', 'том', ')', '▁-', '▁кри', 'сти', '▁называет', '▁себя', '▁\"', 'бой', 'цом', '▁концентри', 'рованного', '▁действия', '\".', '<EOS>'] ['<BOS>', '▁she', '▁t', 'ire', 'lessly', '▁and', '▁passion', 'ately', '▁bat', 'ters', '▁her', '▁opponent', '▁trying', '▁to', '▁decided', 'ly', '▁tr', 'ounce', '▁her', '▁(s', 'he', '▁ended', '▁her', '▁fight', 's', '▁with', '▁31', '▁knock', 'out', 's', '▁out', '▁of', '▁47', '▁win', 's)', '▁-', '▁christ', 'y', '▁called', '▁herself', '▁an', '▁\"', 'action', '-p', 'ack', 'ed', '▁fighter', '\".', '<EOS>']\n",
      "src shape: torch.Size([49, 32])\n",
      "tgt shape: torch.Size([49, 32])\n",
      "['<BOS>', '▁она', '▁неу', 'то', 'ми', 'мо', '▁и', '▁стра', 'стно', '▁ата', 'ку', 'ет', '▁сопер', 'ницу', ',', '▁ста', 'раясь', '▁решительно', '▁со', 'кру', 'шить', '▁ее', '▁(из', '▁47', '▁побе', 'д,', '▁31', '▁кри', 'сти', '▁заверши', 'ла', '▁но', 'ка', 'у', 'том', ')', '▁-', '▁кри', 'сти', '▁называет', '▁себя', '▁\"', 'бой', 'цом', '▁концентри', 'рованного', '▁действия', '\".', '<EOS>']\n",
      "['<BOS>', '▁she', '▁t', 'ire', 'lessly', '▁and', '▁passion', 'ately', '▁bat', 'ters', '▁her', '▁opponent', '▁trying', '▁to', '▁decided', 'ly', '▁tr', 'ounce', '▁her', '▁(s', 'he', '▁ended', '▁her', '▁fight', 's', '▁with', '▁31', '▁knock', 'out', 's', '▁out', '▁of', '▁47', '▁win', 's)', '▁-', '▁christ', 'y', '▁called', '▁herself', '▁an', '▁\"', 'action', '-p', 'ack', 'ed', '▁fighter', '\".', '<EOS>']\n",
      "['<BOS>', '▁на', '▁самом', '▁деле,', '▁одна', '▁из', '▁причин,', '▁по', '▁которой', '▁я', '▁выбра', 'ла', '▁небольшое', '▁бу', 'нга', 'ло,', '▁в', '▁котором', '▁живу', '▁сейчас', '▁на', '▁га', 'вай', 'ях', '▁-', '▁это', '▁была', '▁кро', 'ше', 'чная', '▁бесполез', 'ная', '▁комната,', '▁присоеди', 'ня', 'ющаяся', '▁к', '▁другой', '▁кро', 'ше', 'чной', '▁бесполез', 'ной', '▁комнате', '▁с', '▁ра', 'кови', 'ной.', '<EOS>']\n",
      "['<BOS>', '▁actual', 'ly,', '▁one', '▁of', '▁the', '▁reasons', '▁i', '▁chose', '▁the', '▁little', '▁b', 'ung', 'al', 'ow', '▁where', '▁i', '▁live', '▁in', '▁haw', 'ai', 'i', '▁is', '▁because', '▁there', '▁was', '▁this', '▁tiny', '▁little', '▁us', 'eless', '▁room', '▁that', '▁att', 'aches', '▁to', '▁another', '▁tiny', '▁little', '▁us', 'eless', '▁room', '▁with', '▁a', '▁s', 'ink', '▁in', '▁it.', '<EOS>']\n"
     ]
    }
   ],
   "source": [
    "# Test dataset\n",
    "print('Raw input:', train_data.raw_src[0], train_data.raw_tgt[0])\n",
    "print('Tokenized input:', train_data.src[0], train_data.tgt[0])\n",
    "# Test iterator\n",
    "for _, (src, tgt) in enumerate(train_iterator):\n",
    "    print('src shape:', src.shape)\n",
    "    print('tgt shape:', tgt.shape)\n",
    "    for s, t in zip(src.t()[:2], tgt.t()[:2]):\n",
    "        print([tokenizer.id_to_subword(token) for token in s])\n",
    "        print([tokenizer.id_to_subword(token) for token in t])\n",
    "    break"
   ]
  },
  {
   "cell_type": "markdown",
   "metadata": {
    "colab_type": "text",
    "id": "jYV4b6icn2dB"
   },
   "source": [
    "Defining our ``nn.Module`` and ``Optimizer``\n",
    "----------------\n"
   ]
  },
  {
   "cell_type": "code",
   "execution_count": 7,
   "metadata": {
    "colab": {},
    "colab_type": "code",
    "id": "_3y5Drcrn2dD"
   },
   "outputs": [],
   "source": [
    "class PositionalEncoding(nn.Module):\n",
    "    # From https://pytorch.org/tutorials/beginner/transformer_tutorial.html\n",
    "\n",
    "    def __init__(self, d_model, dropout=0.1):\n",
    "        super(PositionalEncoding, self).__init__()\n",
    "        self.dropout = nn.Dropout(p=dropout)\n",
    "        self.d_model = d_model\n",
    "    \n",
    "    def create_pe(self, seq_len):\n",
    "        pe = torch.zeros(seq_len, self.d_model)\n",
    "        position = torch.arange(0, seq_len, dtype=torch.float).unsqueeze(1)\n",
    "        div_term = torch.exp(torch.arange(0, self.d_model, 2).float() * (-math.log(10000.0) / self.d_model))\n",
    "        pe[:, 0::2] = torch.sin(position * div_term)\n",
    "        pe[:, 1::2] = torch.cos(position * div_term)\n",
    "        pe = pe.unsqueeze(0).transpose(0, 1)\n",
    "        return pe\n",
    "\n",
    "    def forward(self, x):\n",
    "        pe = self.create_pe(x.size(0))\n",
    "        x = x + pe.to(x.device)\n",
    "        return self.dropout(x)\n",
    "\n",
    "\n",
    "class TransformerModel(nn.Module):\n",
    "\n",
    "    def __init__(self, ntokens_src, ntokens_tgt, ninp, nhead, dim_feedforward, nlayers, pad_token, dropout=0.5):\n",
    "        super(TransformerModel, self).__init__()\n",
    "        from torch.nn import Transformer\n",
    "        self.model_type = 'Transformer'\n",
    "        self.ninp = ninp\n",
    "        self.pad_token = pad_token\n",
    "        self.masks = {\n",
    "            'src': None,\n",
    "            'tgt': None,\n",
    "            'memory': None,\n",
    "        }\n",
    "        # Token Encoders\n",
    "        self.src_encoder = nn.Embedding(ntokens_src, ninp)\n",
    "        self.tgt_encoder = nn.Embedding(ntokens_tgt, ninp)\n",
    "        # Positional Encoding\n",
    "        self.pos_encoder = PositionalEncoding(ninp, dropout)\n",
    "        # Transformer\n",
    "        self.transformer = Transformer(\n",
    "            d_model=ninp,\n",
    "            nhead=nhead,\n",
    "            num_encoder_layers=nlayers,\n",
    "            num_decoder_layers=nlayers,\n",
    "            dropout=dropout,\n",
    "            dim_feedforward=dim_feedforward,\n",
    "        )\n",
    "        self.out = nn.Linear(ninp, ntokens_tgt)\n",
    "\n",
    "        self.init_weights()\n",
    "\n",
    "    def _generate_square_subsequent_mask(self, sx, sy=None):\n",
    "        \"\"\"Generate matrix for seqential reveal of tokens.\"\"\"\n",
    "        sy = sy or sx\n",
    "        mask = (torch.triu(torch.ones((sx, sy))) == 1).transpose(0, 1)\n",
    "        mask = mask.float().masked_fill(mask == 0, float('-inf')).masked_fill(mask == 1, float(0.0))\n",
    "        return mask\n",
    "\n",
    "    def init_weights(self):\n",
    "        self.transformer._reset_parameters()\n",
    "    \n",
    "    def preprocess(self, x, x_type):\n",
    "        # Create masks\n",
    "        padding_mask = (x == self.pad_token).bool().t()\n",
    "        if self.masks[x_type] is None or self.masks[x_type].size(0) != len(x):\n",
    "            self.masks[x_type] = self._generate_square_subsequent_mask(len(x), len(x)).to(x.device)\n",
    "        \n",
    "        x_enc = self.src_encoder(x) if x_type == 'src' else self.tgt_encoder(x)\n",
    "        x_enc *= math.sqrt(self.ninp) # TODO: * or / or remove?\n",
    "        x_enc = self.pos_encoder(x_enc)\n",
    "        \n",
    "        return x_enc, self.masks[x_type], padding_mask\n",
    "        \n",
    "    def forward(self, src, tgt):\n",
    "\n",
    "        # TODO: Do we need memory mask?\n",
    "        if (    self.masks['memory'] is None or\n",
    "                self.masks['src'].size(0) != len(src) or\n",
    "                self.masks['tgt'].size(0) != len(tgt)):\n",
    "            self.masks['memory'] = self._generate_square_subsequent_mask(len(src), len(tgt)).to(src.device)\n",
    "        \n",
    "        src_enc, _, src_key_padding_mask = self.preprocess(src, 'src')\n",
    "        tgt_enc, _, tgt_key_padding_mask = self.preprocess(tgt, 'tgt')\n",
    "        memory_key_padding_mask = src_key_padding_mask.clone().detach()\n",
    "        \n",
    "        output = self.transformer(src_enc, tgt_enc,\n",
    "#                                   src_mask=self.masks['src'],\n",
    "                                  tgt_mask=self.masks['tgt'],\n",
    "#                                   memory_mask=self.masks['memory'],\n",
    "                                  src_key_padding_mask=src_key_padding_mask,\n",
    "                                  tgt_key_padding_mask=tgt_key_padding_mask,\n",
    "                                  memory_key_padding_mask=memory_key_padding_mask,\n",
    "                                  )\n",
    "        output = self.out(output)\n",
    "        return output"
   ]
  },
  {
   "cell_type": "code",
   "execution_count": 50,
   "metadata": {},
   "outputs": [],
   "source": [
    "def run_model(model, criterion, optimizer, data_iterator, is_train_phase, n_words=1, desc=''):\n",
    "    \"\"\"Run one epoch of a model with given data.\n",
    "    \n",
    "    :param model: model to run on\n",
    "    :param criterion: critetion to use\n",
    "    :param optimizer: optimizer to use\n",
    "    :param data_iterator: iterator of (x, y) data tuples\n",
    "    :param is_train_phase: True if you want to train\n",
    "    :param n_words: number of words to predict, the bigger the longer it takes to run\n",
    "    :param desc: description for tqdm bar\n",
    "    :return: epoch loss\n",
    "    \"\"\"\n",
    "    if is_train_phase:\n",
    "        model.train() # Turn on the train mode\n",
    "    else:\n",
    "        model.eval()\n",
    "    total_loss = 0.0\n",
    "    pbar = tqdm(total=len(data_iterator), desc=desc, position=0, leave=True)\n",
    "    for i, (src, tgt) in enumerate(data_iterator):\n",
    "        src, tgt = src.to(device), tgt.to(device)\n",
    "        \n",
    "        tgt_losses = 0.0\n",
    "        # Predict `n_words` last words.\n",
    "        for j in range(max(1, len(tgt) - n_words), len(tgt)):\n",
    "            optimizer.zero_grad()\n",
    "            tgt_in = tgt[:j, :]\n",
    "            tgt_out = tgt[1:j+1, :]\n",
    "            \n",
    "            with torch.set_grad_enabled(is_train_phase):\n",
    "                output = model(src, tgt_in).transpose(1, 2)\n",
    "                loss = criterion(output, tgt_out)\n",
    "\n",
    "                if is_train_phase:\n",
    "                    loss.backward()\n",
    "                    # Clip gradient to deal with gradient explosion\n",
    "                    torch.nn.utils.clip_grad_norm_(model.parameters(), 1.)\n",
    "                    optimizer.step()\n",
    "            tgt_losses += loss.item()\n",
    "        total_loss += tgt_losses / j\n",
    "        pbar.update(1)\n",
    "        pbar.set_description(desc + f'- loss: {total_loss / (i+1):7.4}')\n",
    "        if i % 2000 == 0:\n",
    "            translate(model, 'Машинное обучение это здорово!', verbose=True)\n",
    "            rand_ind = np.random.randint(0, len(test_data))\n",
    "            translate(model, test_data.raw_src[rand_ind], verbose=True)\n",
    "    return total_loss / (i+1)\n",
    "\n",
    "def train_model(model, n_epochs, data_iterators,\n",
    "                criterion, optimizer, n_words=1, scheduler=None, model_save_path=None):\n",
    "    stats = {'train':{'loss':[]},\n",
    "             'val':{'loss':[]}}\n",
    "    best_loss = None\n",
    "    \n",
    "    for epoch in range(n_epochs):\n",
    "        lr = optimizer.state_dict()['param_groups'][0]['lr']\n",
    "        print(f'------------ Epoch {epoch}; lr: {lr:.5f} ------------')\n",
    "        for phase in ['train', 'val']:\n",
    "            desc = f'{phase.title()} Epoch #{epoch} '\n",
    "            epoch_loss = run_model(model, criterion, optimizer,\n",
    "                                   data_iterators[phase], phase == 'train',\n",
    "                                   n_words, desc)\n",
    "            stats[phase]['loss'].append(epoch_loss)\n",
    "            print_hist = lambda l: ' -> '.join(map(lambda x:f\"{x:.4}\", l[-2:]))\n",
    "            tqdm.write(f'{phase.title()} Loss: ' + print_hist(stats[phase]['loss']))\n",
    "        if best_loss == None or stats['val']['loss'][-1] < best_loss:\n",
    "            best_loss = stats['val']['loss'][-1]\n",
    "            print('Smallest val loss')\n",
    "            print('Saving model...')\n",
    "            if model_save_path:\n",
    "                try:\n",
    "                    torch.save(model, model_save_path)\n",
    "                    print('Saved successfully')\n",
    "                except FileNotFoundError:\n",
    "                    print('Error during saving!')\n",
    "        try:\n",
    "            translate(model, 'Машинное обучение это здорово!', verbose=True)\n",
    "            rand_ind = np.random.randint(0, len(test_data))\n",
    "            translate(model, test_data.raw_src[rand_ind], verbose=True)\n",
    "        except:\n",
    "            print('Error while translation.')\n",
    "        if scheduler:\n",
    "            scheduler.step()\n",
    "    return stats"
   ]
  },
  {
   "cell_type": "code",
   "execution_count": 51,
   "metadata": {
    "colab": {},
    "colab_type": "code",
    "id": "OOgM82TGthyA"
   },
   "outputs": [],
   "source": [
    "ntokens_src = tokenizer.vocab_size() # the size of vocabulary\n",
    "ntokens_tgt = tokenizer.vocab_size() # the size of vocabulary\n",
    "pad_token = PADDING_TOKEN\n",
    "emsize = 256 # embedding dimension\n",
    "nhid = 256 # the dimension of the feedforward network model in nn.TransformerEncoder\n",
    "nlayers = 4 # the number of nn.TransformerEncoderLayer in nn.TransformerEncoder\n",
    "nhead = 4 # the number of heads in the multiheadattention models\n",
    "dropout = 0.1 # the dropout value\n",
    "# model = TransformerModel(ntokens_src, ntokens_tgt, emsize, nhead, nhid, nlayers, pad_token, dropout).to(device)"
   ]
  },
  {
   "cell_type": "code",
   "execution_count": 52,
   "metadata": {},
   "outputs": [],
   "source": [
    "# Model save path.\n",
    "save_path = 'models'\n",
    "sub_name = '_1_2'\n",
    "save_model_name = f'test_model{sub_name}.pth'\n",
    "model_save_path = os.path.join(save_path, save_model_name)"
   ]
  },
  {
   "cell_type": "code",
   "execution_count": 22,
   "metadata": {},
   "outputs": [],
   "source": [
    "# torch.save(model, model_save_path)\n",
    "model = torch.load(model_save_path)"
   ]
  },
  {
   "cell_type": "code",
   "execution_count": 94,
   "metadata": {
    "colab": {},
    "colab_type": "code",
    "id": "lNl9Nrjon2dO"
   },
   "outputs": [],
   "source": [
    "# Ignore padding index during the loss computation.\n",
    "PAD_IDX = PADDING_TOKEN\n",
    "criterion = nn.CrossEntropyLoss(ignore_index=PAD_IDX, reduction='mean')\n",
    "lr = 0.1 # learning rate\n",
    "optimizer = torch.optim.SGD(model.parameters(), lr=lr)\n",
    "scheduler = torch.optim.lr_scheduler.StepLR(optimizer, 1.0, gamma=0.9)"
   ]
  },
  {
   "cell_type": "code",
   "execution_count": null,
   "metadata": {
    "colab": {
     "base_uri": "https://localhost:8080/",
     "height": 1000
    },
    "colab_type": "code",
    "id": "vXr1J0fQ_TP9",
    "outputId": "e86488c3-ba8e-4f80-89f2-4c9b7c8582fd",
    "scrolled": false
   },
   "outputs": [
    {
     "name": "stdout",
     "output_type": "stream",
     "text": [
      "------------ Epoch 0; lr: 0.10000 ------------\n"
     ]
    },
    {
     "data": {
      "application/vnd.jupyter.widget-view+json": {
       "model_id": "2945356db5864064a435f8d1ebf835be",
       "version_major": 2,
       "version_minor": 0
      },
      "text/plain": [
       "HBox(children=(FloatProgress(value=0.0, description='Train Epoch #0 ', max=4167.0, style=ProgressStyle(descrip…"
      ]
     },
     "metadata": {},
     "output_type": "display_data"
    },
    {
     "name": "stdout",
     "output_type": "stream",
     "text": [
      "------------ Translation ------------\n",
      "Input: Машинное обучение это здорово!\n",
      "Output weights:\n",
      "  0 {'▁the': 0.11004267632961273, '▁this': 0.07904434949159622, '▁it': 0.059231411665678024}\n",
      "  1 {'▁way': 0.01204590406268835, '▁d': 0.0060770632699131966, '▁second': 0.005667828489094973}\n",
      "  2 {'▁to': 0.1039687916636467, '▁of': 0.09857677668333054, '▁it': 0.071696437895298}\n",
      "translation: <BOS> the way to make it a great way to make it a great way to make it a great way to understand the way!<EOS>\n",
      "------------ Translation ------------\n",
      "Input: У меня уже есть трудовой опыт с немцами и итальянцами и могу констатировать, что с чехами у меня большее взаимопонимание.\n",
      "\n",
      "Output weights:\n",
      "  0 {'▁the': 0.11565890163183212, '▁it': 0.05007937550544739, '▁i': 0.029847433790564537}\n",
      "  1 {'▁second': 0.011151408776640892, '▁idea': 0.009973309934139252, '▁decision': 0.008864009752869606}\n",
      "  2 {'▁reason': 0.037126556038856506, '▁thing': 0.02684709243476391, '▁stage': 0.013499141670763493}\n",
      "translation: <BOS> the second reason for the purpose of the health care and the problem of the problem is that the problem is to be able to get the problem of the environment.<EOS>\n",
      "------------ Translation ------------\n",
      "Input: Машинное обучение это здорово!\n",
      "Output weights:\n",
      "  0 {'▁the': 0.042829856276512146, '▁let': 0.022413402795791626, '▁dear': 0.017622051760554314}\n",
      "  1 {'▁d': 0.007004592102020979, '▁l': 0.005607934202998877, '▁g': 0.005372087005525827}\n",
      "  2 {'ive': 0.02298927679657936, 'ess': 0.018639933317899704, 'amp': 0.01809670589864254}\n",
      "translation: <BOS> the dive of the sunbard is a great deal of the holy ghost of the holy ghost.<EOS>\n",
      "------------ Translation ------------\n",
      "Input: Был ли это пророческий взгляд на изменяющий мир эффект, который это знание окажет на каждого человека, как только подавленной истине, наконец, позволят увидеть дневной свет?\n",
      "\n",
      "Output weights:\n",
      "  0 {'▁the': 0.2639942765235901, '▁a': 0.03171581029891968, '▁an': 0.010662046261131763}\n",
      "  1 {'▁main': 0.006451605353504419, '▁second': 0.005227240733802319, '▁best': 0.00504894508048892}\n",
      "  2 {'▁thing': 0.061098065227270126, '▁reason': 0.021293748170137405, '▁body': 0.010806511156260967}\n",
      "translation: <BOS> the main thing is that the right of the universe is the right of the universe of the universe of the universe of the universe.<EOS>\n",
      "------------ Translation ------------\n",
      "Input: Машинное обучение это здорово!\n",
      "Output weights:\n",
      "  0 {'▁let': 0.06464803218841553, '▁the': 0.05594506114721298, '▁you': 0.022700974717736244}\n",
      "  1 {'▁us': 0.37356752157211304, '▁me': 0.2183918058872223, '▁the': 0.0705682560801506}\n",
      "  2 {'▁know': 0.0402064174413681, '▁get': 0.037184007465839386, '▁make': 0.037175849080085754}\n",
      "translation: <BOS> let us know the way to do it.<EOS>\n",
      "------------ Translation ------------\n",
      "Input: В случаях чрезвычайных рыночных или экономических ситуаций средства пенсионного плана кратковременно можно держать до 100% активов пенсионного плана в виде денежных средств в банке-держателе и во вложениях в кредитных учреждениях.\n",
      "\n",
      "Output weights:\n",
      "  0 {'▁the': 0.3256310224533081, '▁a': 0.01942128874361515, '▁there': 0.017632512375712395}\n",
      "  1 {'▁main': 0.02255082130432129, '▁third': 0.01019490510225296, '▁state': 0.009901966899633408}\n",
      "  2 {'▁element': 0.012425464577972889, '▁form': 0.011839941143989563, '▁factor': 0.010558940470218658}\n",
      "translation: <BOS> the main element is to be found.<EOS>\n",
      "Train Loss: 0.2361\n"
     ]
    },
    {
     "data": {
      "application/vnd.jupyter.widget-view+json": {
       "model_id": "c95537c437214fe894e8ab8f1fb77c45",
       "version_major": 2,
       "version_minor": 0
      },
      "text/plain": [
       "HBox(children=(FloatProgress(value=0.0, description='Val Epoch #0 ', max=522.0, style=ProgressStyle(descriptio…"
      ]
     },
     "metadata": {},
     "output_type": "display_data"
    },
    {
     "name": "stdout",
     "output_type": "stream",
     "text": [
      "------------ Translation ------------\n",
      "Input: Машинное обучение это здорово!\n",
      "Output weights:\n",
      "  0 {'▁let': 0.04806356132030487, \"▁it's\": 0.040228333324193954, '▁the': 0.024042978882789612}\n",
      "  1 {'▁us': 0.4976542294025421, '▁me': 0.18254466354846954, '▁the': 0.0315854549407959}\n",
      "  2 {'▁know': 0.037218738347291946, '▁see': 0.034714680165052414, '▁understand': 0.031841401010751724}\n",
      "translation: <BOS> let us know<EOS>\n",
      "------------ Translation ------------\n",
      "Input: ArcSight ESM контролирует все события по всему предприятию и применяет мощные инструменты для анализа и корреляции с целью выявления деловых и технологических угроз.\n",
      "\n",
      "Output weights:\n",
      "  0 {'▁the': 0.059592097997665405, '▁a': 0.010768134146928787, '▁special': 0.007886426523327827}\n",
      "  1 {'▁main': 0.01938093639910221, '▁best': 0.012697727419435978, '▁key': 0.00845651887357235}\n",
      "  2 {'▁features': 0.04411599412560463, '▁thing': 0.024239061400294304, '▁feature': 0.021930957213044167}\n",
      "translation: <BOS> the main features<EOS>\n",
      "Val Loss: 0.4337\n",
      "Smallest val loss\n",
      "Saving model...\n"
     ]
    },
    {
     "name": "stderr",
     "output_type": "stream",
     "text": [
      "C:\\Users\\kzvda\\Anaconda3\\envs\\tabnine\\lib\\site-packages\\torch\\serialization.py:256: UserWarning: Couldn't retrieve source code for container of type TransformerModel. It won't be checked for correctness upon loading.\n",
      "  \"type \" + obj.__name__ + \". It won't be checked \"\n",
      "C:\\Users\\kzvda\\Anaconda3\\envs\\tabnine\\lib\\site-packages\\torch\\serialization.py:256: UserWarning: Couldn't retrieve source code for container of type PositionalEncoding. It won't be checked for correctness upon loading.\n",
      "  \"type \" + obj.__name__ + \". It won't be checked \"\n"
     ]
    },
    {
     "name": "stdout",
     "output_type": "stream",
     "text": [
      "Saved successfully\n",
      "------------ Translation ------------\n",
      "Input: Машинное обучение это здорово!\n",
      "Output weights:\n",
      "  0 {'▁let': 0.04806356132030487, \"▁it's\": 0.040228333324193954, '▁the': 0.024042978882789612}\n",
      "  1 {'▁us': 0.4976542294025421, '▁me': 0.18254466354846954, '▁the': 0.0315854549407959}\n",
      "  2 {'▁know': 0.037218738347291946, '▁see': 0.034714680165052414, '▁understand': 0.031841401010751724}\n",
      "translation: <BOS> let us know<EOS>\n",
      "------------ Translation ------------\n",
      "Input: Учитывая глобальный характер Интернета, пользование Сайтом для сбора и обработки личной информации неизбежно подразумевает передачу данных на международной основе.\n",
      "\n",
      "Output weights:\n",
      "  0 {'▁the': 0.04498930275440216, '▁a': 0.01855502650141716, '▁special': 0.00816279835999012}\n",
      "  1 {'▁main': 0.012413336895406246, '▁author': 0.00936434231698513, '▁current': 0.00710848206654191}\n",
      "  2 {'▁features': 0.032591190189123154, '▁element': 0.025745755061507225, '▁topic': 0.023528005927801132}\n",
      "translation: <BOS> the main features<EOS>\n",
      "------------ Epoch 1; lr: 0.09000 ------------\n"
     ]
    },
    {
     "data": {
      "application/vnd.jupyter.widget-view+json": {
       "model_id": "add1750cbbfa41c998345586bd861e53",
       "version_major": 2,
       "version_minor": 0
      },
      "text/plain": [
       "HBox(children=(FloatProgress(value=0.0, description='Train Epoch #1 ', max=4167.0, style=ProgressStyle(descrip…"
      ]
     },
     "metadata": {},
     "output_type": "display_data"
    },
    {
     "name": "stdout",
     "output_type": "stream",
     "text": [
      "------------ Translation ------------\n",
      "Input: Машинное обучение это здорово!\n",
      "Output weights:\n",
      "  0 {'▁let': 0.04936174303293228, \"▁it's\": 0.04003230854868889, '▁the': 0.024674812331795692}\n",
      "  1 {'▁us': 0.4916578233242035, '▁me': 0.18118657171726227, '▁the': 0.03361755982041359}\n",
      "  2 {'▁know': 0.037714261561632156, '▁see': 0.03622036799788475, '▁understand': 0.03315741941332817}\n",
      "translation: <BOS> let us know<EOS>\n",
      "------------ Translation ------------\n",
      "Input: 310 на первом этапе Принципиальное соглашение с МФ и 316 на втором о поэтапном (два этапа) отказе от этапеc) БМ к концу 2008 года 127 203?\n",
      "\n",
      "Output weights:\n",
      "  0 {'▁the': 0.07105135917663574, '▁a': 0.015260101296007633, '▁special': 0.008429670706391335}\n",
      "  1 {'▁main': 0.017750665545463562, '▁author': 0.01018123421818018, '▁current': 0.009392685256898403}\n",
      "  2 {'▁thing': 0.024097789078950882, '▁topic': 0.019400086253881454, '▁event': 0.014818182215094566}\n",
      "translation: <BOS> the main thing<EOS>\n"
     ]
    }
   ],
   "source": [
    "torch.cuda.empty_cache()\n",
    "n_epochs = 3\n",
    "n_words = 1\n",
    "stats = train_model(model, n_epochs, data_iterators,\n",
    "                    criterion, optimizer, n_words, scheduler, model_save_path)\n",
    "\n",
    "n_epochs = 1\n",
    "n_words = 2\n",
    "stats = train_model(model, n_epochs, data_iterators,\n",
    "                    criterion, optimizer, n_words, scheduler, model_save_path)\n",
    "\n",
    "n_epochs = 5\n",
    "n_words = 1\n",
    "stats = train_model(model, n_epochs, data_iterators,\n",
    "                    criterion, optimizer, n_words, scheduler, model_save_path)\n",
    "# 1.444"
   ]
  },
  {
   "cell_type": "code",
   "execution_count": 55,
   "metadata": {
    "colab": {},
    "colab_type": "code",
    "id": "NtY1RCJnLQA_"
   },
   "outputs": [],
   "source": [
    "def subword_to_str(tokens):\n",
    "    return ''.join(tokens).replace('▁', ' ')\n",
    "\n",
    "def tokens_to_str(tokens):\n",
    "    return subword_to_str([tokenizer.id_to_subword(ix) for ix in tokens])\n",
    "\n",
    "def translate(model, text, max_len=80, verbose=False):\n",
    "    model.eval()\n",
    "    \n",
    "    if verbose:\n",
    "        print('------------ Translation ------------')\n",
    "        print('Input:', text)\n",
    "    # Prepare text\n",
    "    src = tokenizer.encode(text, output_type=yttm.OutputType.ID,\n",
    "                           bos=True, eos=True)\n",
    "    src = Tensor(src).long().to(device)\n",
    "    # Run encoder\n",
    "    src_enc, src_mask, _ = model.preprocess(src, 'src')\n",
    "    e_outputs = model.transformer.encoder(src_enc, \n",
    "                                          src_mask,\n",
    "                                          )\n",
    "    \n",
    "    # Prepare tensor for answers\n",
    "    outputs = torch.zeros(max_len).type_as(src.data)\n",
    "    # Set the first token as '<sos>'\n",
    "    outputs[0] = torch.LongTensor([BOS_TOKEN])\n",
    "    vals = []\n",
    "    for i in range(1, max_len):\n",
    "        outputs_enc, tgt_mask, _ = model.preprocess(outputs[:i].unsqueeze(1), 'tgt')\n",
    "#         memory_mask = model._generate_square_subsequent_mask(len(src), i+1).to(src.device)\n",
    "        d_out = model.transformer.decoder(outputs_enc, e_outputs,\n",
    "                                          tgt_mask=tgt_mask,\n",
    "#                                           memory_mask=memory_mask,\n",
    "                                          )\n",
    "        out = model.out(d_out)\n",
    "        out = F.softmax(out, dim=-1)\n",
    "        val, ix = out.data.topk(3, dim=-1)\n",
    "        outputs[i] = ix[-1][0][0]\n",
    "        if outputs[i] == EOS_TOKEN:\n",
    "            break\n",
    "    result = tokens_to_str(outputs[:i+1])\n",
    "    if verbose:\n",
    "        print('Output weights:')\n",
    "        for j in range(min(3, i)):\n",
    "            print(f'  {j}', {tokenizer.id_to_subword(k):v.item()\n",
    "                             for k, v in zip(ix[j][0], val[j][0])})\n",
    "        print('translation:', result)\n",
    "    return result"
   ]
  },
  {
   "cell_type": "code",
   "execution_count": 56,
   "metadata": {},
   "outputs": [
    {
     "name": "stdout",
     "output_type": "stream",
     "text": [
      "------------ Translation ------------\n",
      "Input: Машинное обучение это здорово!\n",
      "Output weights:\n",
      "  0 {'▁the': 0.10451338440179825, '▁this': 0.08264591544866562, '▁it': 0.06017918884754181}\n",
      "  1 {'▁way': 0.013550149276852608, '▁best': 0.00585717149078846, '▁d': 0.005779571365565062}\n",
      "  2 {'▁to': 0.10261761397123337, '▁of': 0.08953908085823059, '▁it': 0.07421953231096268}\n",
      "translation: <BOS> the way to make it easy to understand the way of the brain is to understand the way of the universe!<EOS>\n"
     ]
    },
    {
     "data": {
      "text/plain": [
       "'<BOS> the way to make it easy to understand the way of the brain is to understand the way of the universe!<EOS>'"
      ]
     },
     "execution_count": 56,
     "metadata": {},
     "output_type": "execute_result"
    }
   ],
   "source": [
    "translate(model, 'Машинное обучение это здорово!', verbose=True)"
   ]
  },
  {
   "cell_type": "code",
   "execution_count": 89,
   "metadata": {},
   "outputs": [
    {
     "name": "stdout",
     "output_type": "stream",
     "text": [
      "------------ Translation ------------\n",
      "Input: При участии астронавтки Хайди Стефанишин-Пайпер и всемирно известного писателя Пауло Коэльо состоялось награждение победителей стипендиальной программы Фонда Виктора Пинчука \"Завтра.\n",
      "\n",
      "Output weights:\n",
      "  0 {'▁the': 0.16819918155670166, '▁a': 0.019818376749753952, '▁8.': 0.009165264666080475}\n",
      "  1 {'▁main': 0.007805072236806154, '▁author': 0.0066763185895979404, '▁second': 0.006010976620018482}\n",
      "  2 {'▁idea': 0.004995526280254126, '▁award': 0.00440758652985096, '▁material': 0.004048016853630543}\n",
      "translation: <BOS> the main idea of the kel's office is to be the main part of the kitten.<EOS>\n",
      "--------------\n",
      "real: The astronaut Heidi Stefanyshyn-Piper and the world famous writer Paulo Coelho attended the ceremony of rewarding winners of the scholarship programme of Victor Pinchuk Fund ZAVTRA.UA\n",
      "\n"
     ]
    }
   ],
   "source": [
    "index = np.random.randint(0, 50)\n",
    "translate(model, train_data.raw_src[index], verbose=True)\n",
    "print('--------------')\n",
    "print('real:', train_data.raw_tgt[index])"
   ]
  },
  {
   "cell_type": "code",
   "execution_count": 82,
   "metadata": {},
   "outputs": [],
   "source": [
    "def translate_beam(model, text, max_len=10, beam_capacity=3, verbose=False):\n",
    "    \"\"\"\n",
    "    Algorithm: https://www.youtube.com/watch?v=RLWuzLLSIgw\n",
    "    \"\"\"\n",
    "    model.eval()\n",
    "    if verbose:\n",
    "        print('------------ Translation ------------')\n",
    "        print('Input:', text)\n",
    "    # Prepare text\n",
    "    src = tokenizer.encode(text, output_type=yttm.OutputType.ID,\n",
    "                           bos=True, eos=True)\n",
    "    src = Tensor(src).long().to(device)\n",
    "    # Run encoder\n",
    "    src_enc, src_mask, _ = model.preprocess(src, 'src')\n",
    "    e_outputs = model.transformer.encoder(src_enc, \n",
    "#                                           src_mask,\n",
    "                                          )\n",
    "\n",
    "    # Prepare tensor for answers\n",
    "    basic_vec = torch.zeros(max_len).type_as(src.data)\n",
    "    basic_vec[0] = torch.LongTensor([BOS_TOKEN])\n",
    "\n",
    "    beam_pool = [(basic_vec, 1.0)]\n",
    "\n",
    "    def beam_filter(pool, top_k=beam_capacity):\n",
    "        return sorted(pool, key=lambda x: x[1], reverse=True)[:top_k]\n",
    "\n",
    "    for i in range(1, max_len):\n",
    "        if verbose:\n",
    "            print(\"Beam epoch: \", i)\n",
    "        new_pool = []\n",
    "        # For each candidate path:\n",
    "        for beam, old_prob in beam_pool:\n",
    "            outputs_enc, tgt_mask, _ = model.preprocess(beam[:i].unsqueeze(1), 'tgt')\n",
    "            d_out = model.transformer.decoder(outputs_enc, e_outputs,\n",
    "                                              tgt_mask=tgt_mask,\n",
    "                                              )\n",
    "            out = model.out(d_out).cpu().detach()\n",
    "            out = F.softmax(out, dim=-1)\n",
    "            probs, ixs = out[-1, :].topk(beam_capacity)\n",
    "            for prob, token_id in zip(probs.squeeze(), ixs.squeeze()):\n",
    "                tmp_beam = beam.clone()\n",
    "                tmp_beam[i] = token_id.item()\n",
    "                new_pool.append((tmp_beam, prob * old_prob))\n",
    "        beam_pool = beam_filter(new_pool)\n",
    "        if verbose:\n",
    "            for beam, old_prob in beam_pool:\n",
    "                print(\"Candidate '{}' with prob: {:.7f}\".format(\n",
    "                    tokens_to_str(beam[1:i + 1]), prob * old_prob\n",
    "                ))\n",
    "        # Stop if EOS_TOKEN\n",
    "        if beam_pool[0][0][i] == EOS_TOKEN:\n",
    "            break\n",
    "    the_best = beam_filter(beam_pool, 1)[0][0]\n",
    "    # Cut by EOS_TOKEN\n",
    "#     if EOS_TOKEN in the_best:\n",
    "#         i = (the_best == EOS_TOKEN).nonzero()[0]\n",
    "    result = tokens_to_str(the_best[:i+1])\n",
    "    return result"
   ]
  },
  {
   "cell_type": "code",
   "execution_count": 90,
   "metadata": {},
   "outputs": [
    {
     "data": {
      "text/plain": [
       "'<BOS> the author of the kings of the russian federation of the ussr, and the general assembly of the ussr.<EOS>'"
      ]
     },
     "execution_count": 90,
     "metadata": {},
     "output_type": "execute_result"
    }
   ],
   "source": [
    "translate_beam(model, train_data.raw_src[index], verbose=False, beam_capacity=4, max_len=50)"
   ]
  },
  {
   "cell_type": "markdown",
   "metadata": {},
   "source": [
    "### Test BLEU score"
   ]
  },
  {
   "cell_type": "code",
   "execution_count": 93,
   "metadata": {},
   "outputs": [
    {
     "data": {
      "application/vnd.jupyter.widget-view+json": {
       "model_id": "b02489582f7c49f791ae332cadda28df",
       "version_major": 2,
       "version_minor": 0
      },
      "text/plain": [
       "HBox(children=(FloatProgress(value=0.0, description='Test BLEU score', max=16736.0, style=ProgressStyle(descri…"
      ]
     },
     "metadata": {},
     "output_type": "display_data"
    },
    {
     "data": {
      "application/vnd.jupyter.widget-view+json": {
       "model_id": "8f9d9e69d9f94e00a9d4d2dc276376c5",
       "version_major": 2,
       "version_minor": 0
      },
      "text/plain": [
       "HBox(children=(FloatProgress(value=0.0, max=16736.0), HTML(value='')))"
      ]
     },
     "metadata": {},
     "output_type": "display_data"
    },
    {
     "name": "stdout",
     "output_type": "stream",
     "text": [
      "\n",
      "Test BLEU score - 0.2212\n"
     ]
    }
   ],
   "source": [
    "from nltk.translate.bleu_score import corpus_bleu\n",
    "references = []\n",
    "candidates = []\n",
    "pbar = tqdm(total=len(test_data), desc='Test BLEU score')\n",
    "# TODO: batch translation.\n",
    "for raw_src, raw_tgt in tqdm(zip(test_data.raw_src[:30], test_data.raw_tgt), total=len(test_data)):\n",
    "    references.append([raw_tgt])\n",
    "    candidate = translate_beam(model, raw_src, beam_capacity=4, max_len=50)\n",
    "    candidate = candidate.replace('<BOS>', '').replace('<EOS>', '')\n",
    "    candidates.append(candidate)\n",
    "    pbar.update(1)\n",
    "score = corpus_bleu(references, candidates, weights=(0.5, 0.5, 0, 0))\n",
    "print(f'Test BLEU score - {score:.4f}')"
   ]
  },
  {
   "cell_type": "code",
   "execution_count": 92,
   "metadata": {},
   "outputs": [
    {
     "name": "stdout",
     "output_type": "stream",
     "text": [
      "Test BLEU score - 0.2564\n"
     ]
    }
   ],
   "source": [
    "score = corpus_bleu(references, candidates, weights=(0.5, 0.5, 0, 0))\n",
    "print(f'Test BLEU score - {score:.4f}')"
   ]
  },
  {
   "cell_type": "code",
   "execution_count": 34,
   "metadata": {},
   "outputs": [],
   "source": [
    "with open('data/truth.txt', encoding='utf8') as in_file:\n",
    "    sentences = in_file.readlines()\n",
    "    sentences = list(map(lambda s: s.lower().strip(), sentences))\n",
    "#     encode = lambda s: tokenizer.encode(s, output_type=yttm.OutputType.ID, bos=True, eos=True)\n",
    "#     truth_data = [encode(s) for s in sentences]"
   ]
  },
  {
   "cell_type": "code",
   "execution_count": 35,
   "metadata": {},
   "outputs": [
    {
     "data": {
      "text/plain": [
       "'исполнительный совет'"
      ]
     },
     "execution_count": 35,
     "metadata": {},
     "output_type": "execute_result"
    }
   ],
   "source": [
    "sentences[0]"
   ]
  },
  {
   "cell_type": "code",
   "execution_count": 39,
   "metadata": {},
   "outputs": [
    {
     "data": {
      "application/vnd.jupyter.widget-view+json": {
       "model_id": "b2741ceb427b46578fd87ab999c48449",
       "version_major": 2,
       "version_minor": 0
      },
      "text/plain": [
       "HBox(children=(FloatProgress(value=0.0, max=7768.0), HTML(value='')))"
      ]
     },
     "metadata": {},
     "output_type": "display_data"
    },
    {
     "ename": "KeyboardInterrupt",
     "evalue": "",
     "output_type": "error",
     "traceback": [
      "\u001b[1;31m---------------------------------------------------------------------------\u001b[0m",
      "\u001b[1;31mKeyboardInterrupt\u001b[0m                         Traceback (most recent call last)",
      "\u001b[1;32m<ipython-input-39-fad71f7ced9d>\u001b[0m in \u001b[0;36m<module>\u001b[1;34m\u001b[0m\n\u001b[0;32m      1\u001b[0m \u001b[0mpred\u001b[0m \u001b[1;33m=\u001b[0m \u001b[1;33m[\u001b[0m\u001b[1;33m]\u001b[0m\u001b[1;33m\u001b[0m\u001b[1;33m\u001b[0m\u001b[0m\n\u001b[0;32m      2\u001b[0m \u001b[1;32mfor\u001b[0m \u001b[0msentence\u001b[0m \u001b[1;32min\u001b[0m \u001b[0mtqdm\u001b[0m\u001b[1;33m(\u001b[0m\u001b[0msentences\u001b[0m\u001b[1;33m)\u001b[0m\u001b[1;33m:\u001b[0m\u001b[1;33m\u001b[0m\u001b[1;33m\u001b[0m\u001b[0m\n\u001b[1;32m----> 3\u001b[1;33m     \u001b[0mpred\u001b[0m\u001b[1;33m.\u001b[0m\u001b[0mappend\u001b[0m\u001b[1;33m(\u001b[0m\u001b[0mtranslate\u001b[0m\u001b[1;33m(\u001b[0m\u001b[0mmodel\u001b[0m\u001b[1;33m,\u001b[0m \u001b[0msentence\u001b[0m\u001b[1;33m,\u001b[0m \u001b[0mmax_len\u001b[0m\u001b[1;33m=\u001b[0m\u001b[1;36m150\u001b[0m\u001b[1;33m)\u001b[0m\u001b[1;33m)\u001b[0m\u001b[1;33m\u001b[0m\u001b[1;33m\u001b[0m\u001b[0m\n\u001b[0m",
      "\u001b[1;32m<ipython-input-13-acb131c89c16>\u001b[0m in \u001b[0;36mtranslate\u001b[1;34m(model, text, max_len, custom_string, verbose)\u001b[0m\n\u001b[0;32m     30\u001b[0m \u001b[1;31m#         memory_mask = model._generate_square_subsequent_mask(len(src), i+1).to(src.device)\u001b[0m\u001b[1;33m\u001b[0m\u001b[1;33m\u001b[0m\u001b[1;33m\u001b[0m\u001b[0m\n\u001b[0;32m     31\u001b[0m         d_out = model.transformer.decoder(outputs_enc, e_outputs,\n\u001b[1;32m---> 32\u001b[1;33m                                           \u001b[0mtgt_mask\u001b[0m\u001b[1;33m=\u001b[0m\u001b[0mtgt_mask\u001b[0m\u001b[1;33m,\u001b[0m\u001b[1;33m\u001b[0m\u001b[1;33m\u001b[0m\u001b[0m\n\u001b[0m\u001b[0;32m     33\u001b[0m \u001b[1;31m#                                           memory_mask=memory_mask,\u001b[0m\u001b[1;33m\u001b[0m\u001b[1;33m\u001b[0m\u001b[1;33m\u001b[0m\u001b[0m\n\u001b[0;32m     34\u001b[0m                                           )\n",
      "\u001b[1;32m~\\Anaconda3\\envs\\tabnine\\lib\\site-packages\\torch\\nn\\modules\\module.py\u001b[0m in \u001b[0;36m__call__\u001b[1;34m(self, *input, **kwargs)\u001b[0m\n\u001b[0;32m    545\u001b[0m             \u001b[0mresult\u001b[0m \u001b[1;33m=\u001b[0m \u001b[0mself\u001b[0m\u001b[1;33m.\u001b[0m\u001b[0m_slow_forward\u001b[0m\u001b[1;33m(\u001b[0m\u001b[1;33m*\u001b[0m\u001b[0minput\u001b[0m\u001b[1;33m,\u001b[0m \u001b[1;33m**\u001b[0m\u001b[0mkwargs\u001b[0m\u001b[1;33m)\u001b[0m\u001b[1;33m\u001b[0m\u001b[1;33m\u001b[0m\u001b[0m\n\u001b[0;32m    546\u001b[0m         \u001b[1;32melse\u001b[0m\u001b[1;33m:\u001b[0m\u001b[1;33m\u001b[0m\u001b[1;33m\u001b[0m\u001b[0m\n\u001b[1;32m--> 547\u001b[1;33m             \u001b[0mresult\u001b[0m \u001b[1;33m=\u001b[0m \u001b[0mself\u001b[0m\u001b[1;33m.\u001b[0m\u001b[0mforward\u001b[0m\u001b[1;33m(\u001b[0m\u001b[1;33m*\u001b[0m\u001b[0minput\u001b[0m\u001b[1;33m,\u001b[0m \u001b[1;33m**\u001b[0m\u001b[0mkwargs\u001b[0m\u001b[1;33m)\u001b[0m\u001b[1;33m\u001b[0m\u001b[1;33m\u001b[0m\u001b[0m\n\u001b[0m\u001b[0;32m    548\u001b[0m         \u001b[1;32mfor\u001b[0m \u001b[0mhook\u001b[0m \u001b[1;32min\u001b[0m \u001b[0mself\u001b[0m\u001b[1;33m.\u001b[0m\u001b[0m_forward_hooks\u001b[0m\u001b[1;33m.\u001b[0m\u001b[0mvalues\u001b[0m\u001b[1;33m(\u001b[0m\u001b[1;33m)\u001b[0m\u001b[1;33m:\u001b[0m\u001b[1;33m\u001b[0m\u001b[1;33m\u001b[0m\u001b[0m\n\u001b[0;32m    549\u001b[0m             \u001b[0mhook_result\u001b[0m \u001b[1;33m=\u001b[0m \u001b[0mhook\u001b[0m\u001b[1;33m(\u001b[0m\u001b[0mself\u001b[0m\u001b[1;33m,\u001b[0m \u001b[0minput\u001b[0m\u001b[1;33m,\u001b[0m \u001b[0mresult\u001b[0m\u001b[1;33m)\u001b[0m\u001b[1;33m\u001b[0m\u001b[1;33m\u001b[0m\u001b[0m\n",
      "\u001b[1;32m~\\Anaconda3\\envs\\tabnine\\lib\\site-packages\\torch\\nn\\modules\\transformer.py\u001b[0m in \u001b[0;36mforward\u001b[1;34m(self, tgt, memory, tgt_mask, memory_mask, tgt_key_padding_mask, memory_key_padding_mask)\u001b[0m\n\u001b[0;32m    214\u001b[0m                                     \u001b[0mmemory_mask\u001b[0m\u001b[1;33m=\u001b[0m\u001b[0mmemory_mask\u001b[0m\u001b[1;33m,\u001b[0m\u001b[1;33m\u001b[0m\u001b[1;33m\u001b[0m\u001b[0m\n\u001b[0;32m    215\u001b[0m                                     \u001b[0mtgt_key_padding_mask\u001b[0m\u001b[1;33m=\u001b[0m\u001b[0mtgt_key_padding_mask\u001b[0m\u001b[1;33m,\u001b[0m\u001b[1;33m\u001b[0m\u001b[1;33m\u001b[0m\u001b[0m\n\u001b[1;32m--> 216\u001b[1;33m                                     memory_key_padding_mask=memory_key_padding_mask)\n\u001b[0m\u001b[0;32m    217\u001b[0m \u001b[1;33m\u001b[0m\u001b[0m\n\u001b[0;32m    218\u001b[0m         \u001b[1;32mif\u001b[0m \u001b[0mself\u001b[0m\u001b[1;33m.\u001b[0m\u001b[0mnorm\u001b[0m\u001b[1;33m:\u001b[0m\u001b[1;33m\u001b[0m\u001b[1;33m\u001b[0m\u001b[0m\n",
      "\u001b[1;32m~\\Anaconda3\\envs\\tabnine\\lib\\site-packages\\torch\\nn\\modules\\module.py\u001b[0m in \u001b[0;36m__call__\u001b[1;34m(self, *input, **kwargs)\u001b[0m\n\u001b[0;32m    545\u001b[0m             \u001b[0mresult\u001b[0m \u001b[1;33m=\u001b[0m \u001b[0mself\u001b[0m\u001b[1;33m.\u001b[0m\u001b[0m_slow_forward\u001b[0m\u001b[1;33m(\u001b[0m\u001b[1;33m*\u001b[0m\u001b[0minput\u001b[0m\u001b[1;33m,\u001b[0m \u001b[1;33m**\u001b[0m\u001b[0mkwargs\u001b[0m\u001b[1;33m)\u001b[0m\u001b[1;33m\u001b[0m\u001b[1;33m\u001b[0m\u001b[0m\n\u001b[0;32m    546\u001b[0m         \u001b[1;32melse\u001b[0m\u001b[1;33m:\u001b[0m\u001b[1;33m\u001b[0m\u001b[1;33m\u001b[0m\u001b[0m\n\u001b[1;32m--> 547\u001b[1;33m             \u001b[0mresult\u001b[0m \u001b[1;33m=\u001b[0m \u001b[0mself\u001b[0m\u001b[1;33m.\u001b[0m\u001b[0mforward\u001b[0m\u001b[1;33m(\u001b[0m\u001b[1;33m*\u001b[0m\u001b[0minput\u001b[0m\u001b[1;33m,\u001b[0m \u001b[1;33m**\u001b[0m\u001b[0mkwargs\u001b[0m\u001b[1;33m)\u001b[0m\u001b[1;33m\u001b[0m\u001b[1;33m\u001b[0m\u001b[0m\n\u001b[0m\u001b[0;32m    548\u001b[0m         \u001b[1;32mfor\u001b[0m \u001b[0mhook\u001b[0m \u001b[1;32min\u001b[0m \u001b[0mself\u001b[0m\u001b[1;33m.\u001b[0m\u001b[0m_forward_hooks\u001b[0m\u001b[1;33m.\u001b[0m\u001b[0mvalues\u001b[0m\u001b[1;33m(\u001b[0m\u001b[1;33m)\u001b[0m\u001b[1;33m:\u001b[0m\u001b[1;33m\u001b[0m\u001b[1;33m\u001b[0m\u001b[0m\n\u001b[0;32m    549\u001b[0m             \u001b[0mhook_result\u001b[0m \u001b[1;33m=\u001b[0m \u001b[0mhook\u001b[0m\u001b[1;33m(\u001b[0m\u001b[0mself\u001b[0m\u001b[1;33m,\u001b[0m \u001b[0minput\u001b[0m\u001b[1;33m,\u001b[0m \u001b[0mresult\u001b[0m\u001b[1;33m)\u001b[0m\u001b[1;33m\u001b[0m\u001b[1;33m\u001b[0m\u001b[0m\n",
      "\u001b[1;32m~\\Anaconda3\\envs\\tabnine\\lib\\site-packages\\torch\\nn\\modules\\transformer.py\u001b[0m in \u001b[0;36mforward\u001b[1;34m(self, tgt, memory, tgt_mask, memory_mask, tgt_key_padding_mask, memory_key_padding_mask)\u001b[0m\n\u001b[0;32m    323\u001b[0m         \"\"\"\n\u001b[0;32m    324\u001b[0m         tgt2 = self.self_attn(tgt, tgt, tgt, attn_mask=tgt_mask,\n\u001b[1;32m--> 325\u001b[1;33m                               key_padding_mask=tgt_key_padding_mask)[0]\n\u001b[0m\u001b[0;32m    326\u001b[0m         \u001b[0mtgt\u001b[0m \u001b[1;33m=\u001b[0m \u001b[0mtgt\u001b[0m \u001b[1;33m+\u001b[0m \u001b[0mself\u001b[0m\u001b[1;33m.\u001b[0m\u001b[0mdropout1\u001b[0m\u001b[1;33m(\u001b[0m\u001b[0mtgt2\u001b[0m\u001b[1;33m)\u001b[0m\u001b[1;33m\u001b[0m\u001b[1;33m\u001b[0m\u001b[0m\n\u001b[0;32m    327\u001b[0m         \u001b[0mtgt\u001b[0m \u001b[1;33m=\u001b[0m \u001b[0mself\u001b[0m\u001b[1;33m.\u001b[0m\u001b[0mnorm1\u001b[0m\u001b[1;33m(\u001b[0m\u001b[0mtgt\u001b[0m\u001b[1;33m)\u001b[0m\u001b[1;33m\u001b[0m\u001b[1;33m\u001b[0m\u001b[0m\n",
      "\u001b[1;32m~\\Anaconda3\\envs\\tabnine\\lib\\site-packages\\torch\\nn\\modules\\module.py\u001b[0m in \u001b[0;36m__call__\u001b[1;34m(self, *input, **kwargs)\u001b[0m\n\u001b[0;32m    545\u001b[0m             \u001b[0mresult\u001b[0m \u001b[1;33m=\u001b[0m \u001b[0mself\u001b[0m\u001b[1;33m.\u001b[0m\u001b[0m_slow_forward\u001b[0m\u001b[1;33m(\u001b[0m\u001b[1;33m*\u001b[0m\u001b[0minput\u001b[0m\u001b[1;33m,\u001b[0m \u001b[1;33m**\u001b[0m\u001b[0mkwargs\u001b[0m\u001b[1;33m)\u001b[0m\u001b[1;33m\u001b[0m\u001b[1;33m\u001b[0m\u001b[0m\n\u001b[0;32m    546\u001b[0m         \u001b[1;32melse\u001b[0m\u001b[1;33m:\u001b[0m\u001b[1;33m\u001b[0m\u001b[1;33m\u001b[0m\u001b[0m\n\u001b[1;32m--> 547\u001b[1;33m             \u001b[0mresult\u001b[0m \u001b[1;33m=\u001b[0m \u001b[0mself\u001b[0m\u001b[1;33m.\u001b[0m\u001b[0mforward\u001b[0m\u001b[1;33m(\u001b[0m\u001b[1;33m*\u001b[0m\u001b[0minput\u001b[0m\u001b[1;33m,\u001b[0m \u001b[1;33m**\u001b[0m\u001b[0mkwargs\u001b[0m\u001b[1;33m)\u001b[0m\u001b[1;33m\u001b[0m\u001b[1;33m\u001b[0m\u001b[0m\n\u001b[0m\u001b[0;32m    548\u001b[0m         \u001b[1;32mfor\u001b[0m \u001b[0mhook\u001b[0m \u001b[1;32min\u001b[0m \u001b[0mself\u001b[0m\u001b[1;33m.\u001b[0m\u001b[0m_forward_hooks\u001b[0m\u001b[1;33m.\u001b[0m\u001b[0mvalues\u001b[0m\u001b[1;33m(\u001b[0m\u001b[1;33m)\u001b[0m\u001b[1;33m:\u001b[0m\u001b[1;33m\u001b[0m\u001b[1;33m\u001b[0m\u001b[0m\n\u001b[0;32m    549\u001b[0m             \u001b[0mhook_result\u001b[0m \u001b[1;33m=\u001b[0m \u001b[0mhook\u001b[0m\u001b[1;33m(\u001b[0m\u001b[0mself\u001b[0m\u001b[1;33m,\u001b[0m \u001b[0minput\u001b[0m\u001b[1;33m,\u001b[0m \u001b[0mresult\u001b[0m\u001b[1;33m)\u001b[0m\u001b[1;33m\u001b[0m\u001b[1;33m\u001b[0m\u001b[0m\n",
      "\u001b[1;32m~\\Anaconda3\\envs\\tabnine\\lib\\site-packages\\torch\\nn\\modules\\activation.py\u001b[0m in \u001b[0;36mforward\u001b[1;34m(self, query, key, value, key_padding_mask, need_weights, attn_mask)\u001b[0m\n\u001b[0;32m    781\u001b[0m                 \u001b[0mtraining\u001b[0m\u001b[1;33m=\u001b[0m\u001b[0mself\u001b[0m\u001b[1;33m.\u001b[0m\u001b[0mtraining\u001b[0m\u001b[1;33m,\u001b[0m\u001b[1;33m\u001b[0m\u001b[1;33m\u001b[0m\u001b[0m\n\u001b[0;32m    782\u001b[0m                 \u001b[0mkey_padding_mask\u001b[0m\u001b[1;33m=\u001b[0m\u001b[0mkey_padding_mask\u001b[0m\u001b[1;33m,\u001b[0m \u001b[0mneed_weights\u001b[0m\u001b[1;33m=\u001b[0m\u001b[0mneed_weights\u001b[0m\u001b[1;33m,\u001b[0m\u001b[1;33m\u001b[0m\u001b[1;33m\u001b[0m\u001b[0m\n\u001b[1;32m--> 783\u001b[1;33m                 attn_mask=attn_mask)\n\u001b[0m\u001b[0;32m    784\u001b[0m \u001b[1;33m\u001b[0m\u001b[0m\n\u001b[0;32m    785\u001b[0m \u001b[1;33m\u001b[0m\u001b[0m\n",
      "\u001b[1;32m~\\Anaconda3\\envs\\tabnine\\lib\\site-packages\\torch\\nn\\functional.py\u001b[0m in \u001b[0;36mmulti_head_attention_forward\u001b[1;34m(query, key, value, embed_dim_to_check, num_heads, in_proj_weight, in_proj_bias, bias_k, bias_v, add_zero_attn, dropout_p, out_proj_weight, out_proj_bias, training, key_padding_mask, need_weights, attn_mask, use_separate_proj_weight, q_proj_weight, k_proj_weight, v_proj_weight, static_k, static_v)\u001b[0m\n\u001b[0;32m   3096\u001b[0m \u001b[1;33m\u001b[0m\u001b[0m\n\u001b[0;32m   3097\u001b[0m     \u001b[0mqkv_same\u001b[0m \u001b[1;33m=\u001b[0m \u001b[0mtorch\u001b[0m\u001b[1;33m.\u001b[0m\u001b[0mequal\u001b[0m\u001b[1;33m(\u001b[0m\u001b[0mquery\u001b[0m\u001b[1;33m,\u001b[0m \u001b[0mkey\u001b[0m\u001b[1;33m)\u001b[0m \u001b[1;32mand\u001b[0m \u001b[0mtorch\u001b[0m\u001b[1;33m.\u001b[0m\u001b[0mequal\u001b[0m\u001b[1;33m(\u001b[0m\u001b[0mkey\u001b[0m\u001b[1;33m,\u001b[0m \u001b[0mvalue\u001b[0m\u001b[1;33m)\u001b[0m\u001b[1;33m\u001b[0m\u001b[1;33m\u001b[0m\u001b[0m\n\u001b[1;32m-> 3098\u001b[1;33m     \u001b[0mkv_same\u001b[0m \u001b[1;33m=\u001b[0m \u001b[0mtorch\u001b[0m\u001b[1;33m.\u001b[0m\u001b[0mequal\u001b[0m\u001b[1;33m(\u001b[0m\u001b[0mkey\u001b[0m\u001b[1;33m,\u001b[0m \u001b[0mvalue\u001b[0m\u001b[1;33m)\u001b[0m\u001b[1;33m\u001b[0m\u001b[1;33m\u001b[0m\u001b[0m\n\u001b[0m\u001b[0;32m   3099\u001b[0m \u001b[1;33m\u001b[0m\u001b[0m\n\u001b[0;32m   3100\u001b[0m     \u001b[0mtgt_len\u001b[0m\u001b[1;33m,\u001b[0m \u001b[0mbsz\u001b[0m\u001b[1;33m,\u001b[0m \u001b[0membed_dim\u001b[0m \u001b[1;33m=\u001b[0m \u001b[0mquery\u001b[0m\u001b[1;33m.\u001b[0m\u001b[0msize\u001b[0m\u001b[1;33m(\u001b[0m\u001b[1;33m)\u001b[0m\u001b[1;33m\u001b[0m\u001b[1;33m\u001b[0m\u001b[0m\n",
      "\u001b[1;31mKeyboardInterrupt\u001b[0m: "
     ]
    }
   ],
   "source": [
    "pred = []\n",
    "for sentence in tqdm(sentences):\n",
    "    pred.append(translate(model, sentence, max_len=150))"
   ]
  },
  {
   "cell_type": "code",
   "execution_count": 40,
   "metadata": {},
   "outputs": [],
   "source": [
    "with open('answer.txt', 'w') as out_file:\n",
    "    out_file.writelines('\\n'.join(pred))"
   ]
  }
 ],
 "metadata": {
  "accelerator": "GPU",
  "colab": {
   "collapsed_sections": [
    "vaMjWUZtg38R"
   ],
   "machine_shape": "hm",
   "name": "torchtext_translation_tutorial (1).ipynb",
   "provenance": [],
   "toc_visible": true
  },
  "kernelspec": {
   "display_name": "Python 3",
   "language": "python",
   "name": "python3"
  },
  "language_info": {
   "codemirror_mode": {
    "name": "ipython",
    "version": 3
   },
   "file_extension": ".py",
   "mimetype": "text/x-python",
   "name": "python",
   "nbconvert_exporter": "python",
   "pygments_lexer": "ipython3",
   "version": "3.7.6"
  },
  "widgets": {
   "application/vnd.jupyter.widget-state+json": {
    "state": {
     "003cbdb034374fc9a596a0283b497df6": {
      "model_module": "@jupyter-widgets/controls",
      "model_module_version": "1.5.0",
      "model_name": "ProgressStyleModel",
      "state": {
       "description_width": "initial"
      }
     },
     "00508ef359194cebba2845a3a9559c53": {
      "model_module": "@jupyter-widgets/base",
      "model_module_version": "1.2.0",
      "model_name": "LayoutModel",
      "state": {}
     },
     "00647f8a7f9b46bb85804a3917f4f2ca": {
      "model_module": "@jupyter-widgets/base",
      "model_module_version": "1.2.0",
      "model_name": "LayoutModel",
      "state": {}
     },
     "0095e2c2e41a4c75a8ae5117b4ec5c44": {
      "model_module": "@jupyter-widgets/controls",
      "model_module_version": "1.5.0",
      "model_name": "ProgressStyleModel",
      "state": {
       "description_width": "initial"
      }
     },
     "00bbb9f99e1446b3af391a0b3fb150b5": {
      "model_module": "@jupyter-widgets/base",
      "model_module_version": "1.2.0",
      "model_name": "LayoutModel",
      "state": {}
     },
     "00cb58c6232f4d34997565c886ddf373": {
      "model_module": "@jupyter-widgets/base",
      "model_module_version": "1.2.0",
      "model_name": "LayoutModel",
      "state": {}
     },
     "00e009f7475c47d2960bf405e0129651": {
      "model_module": "@jupyter-widgets/controls",
      "model_module_version": "1.5.0",
      "model_name": "DescriptionStyleModel",
      "state": {
       "description_width": ""
      }
     },
     "01210978123143729c3564a344467a5e": {
      "model_module": "@jupyter-widgets/controls",
      "model_module_version": "1.5.0",
      "model_name": "HTMLModel",
      "state": {
       "layout": "IPY_MODEL_0e09929f93854bbebef0ae401a9baa56",
       "style": "IPY_MODEL_98cec6613cfd4b85a4166f9a68632c2e",
       "value": " 589/589 [4:30:37&lt;00:00,  2.40it/s]"
      }
     },
     "01262591f1a14c97802c3df55fd60cd7": {
      "model_module": "@jupyter-widgets/base",
      "model_module_version": "1.2.0",
      "model_name": "LayoutModel",
      "state": {}
     },
     "015b9d46abeb4f5cb940fb432e69cd19": {
      "model_module": "@jupyter-widgets/controls",
      "model_module_version": "1.5.0",
      "model_name": "HTMLModel",
      "state": {
       "layout": "IPY_MODEL_35da1c2575ac4509aa3db040820380d0",
       "style": "IPY_MODEL_8861d791cd6e4ba3a12df123e3da7169",
       "value": " 74/74 [1:02:48&lt;00:00,  5.33it/s]"
      }
     },
     "0164b0e219da41ba873f4b3e344c8e2a": {
      "model_module": "@jupyter-widgets/base",
      "model_module_version": "1.2.0",
      "model_name": "LayoutModel",
      "state": {}
     },
     "01694262bb654a3bb0d0b927da5bfe4b": {
      "model_module": "@jupyter-widgets/controls",
      "model_module_version": "1.5.0",
      "model_name": "FloatProgressModel",
      "state": {
       "description": "Train Epoch #20 - loss:   5.236:  33%",
       "layout": "IPY_MODEL_1acaa08ccd1d4b998961e4139c11d8d5",
       "max": 589,
       "style": "IPY_MODEL_ec30a086ca8e49e58f7d33a7770aebd9",
       "value": 196
      }
     },
     "017b8d826feb4907b06ad6a2fc96b862": {
      "model_module": "@jupyter-widgets/controls",
      "model_module_version": "1.5.0",
      "model_name": "FloatProgressModel",
      "state": {
       "description": "Val Epoch #47 - loss:   7.656: 100%",
       "layout": "IPY_MODEL_fdd2239ec30f4fe9a1c1b3230988d2d1",
       "max": 74,
       "style": "IPY_MODEL_19f727273eb84939a45e0f4f38dc28a8",
       "value": 74
      }
     },
     "018a2fc6a64d48adbd7aca21b5672d16": {
      "model_module": "@jupyter-widgets/controls",
      "model_module_version": "1.5.0",
      "model_name": "DescriptionStyleModel",
      "state": {
       "description_width": ""
      }
     },
     "01b6573926274904beb5e10992287d41": {
      "model_module": "@jupyter-widgets/controls",
      "model_module_version": "1.5.0",
      "model_name": "DescriptionStyleModel",
      "state": {
       "description_width": ""
      }
     },
     "01bcf3ce4b8543e7ad13f881e311587f": {
      "model_module": "@jupyter-widgets/controls",
      "model_module_version": "1.5.0",
      "model_name": "ProgressStyleModel",
      "state": {
       "description_width": "initial"
      }
     },
     "01c48dfb1a7e47869c8638344269a081": {
      "model_module": "@jupyter-widgets/controls",
      "model_module_version": "1.5.0",
      "model_name": "DescriptionStyleModel",
      "state": {
       "description_width": ""
      }
     },
     "0217b0221dd041b5b775722ee63a1185": {
      "model_module": "@jupyter-widgets/base",
      "model_module_version": "1.2.0",
      "model_name": "LayoutModel",
      "state": {}
     },
     "02346cc607e44a0690fadb990cf955cc": {
      "model_module": "@jupyter-widgets/controls",
      "model_module_version": "1.5.0",
      "model_name": "DescriptionStyleModel",
      "state": {
       "description_width": ""
      }
     },
     "024219cb0e044b8191e60bee386506b6": {
      "model_module": "@jupyter-widgets/base",
      "model_module_version": "1.2.0",
      "model_name": "LayoutModel",
      "state": {}
     },
     "025d449ab7ef47bea77534386101861d": {
      "model_module": "@jupyter-widgets/controls",
      "model_module_version": "1.5.0",
      "model_name": "DescriptionStyleModel",
      "state": {
       "description_width": ""
      }
     },
     "02bc794a34004ac0ae2d0ec0ca4fdfb6": {
      "model_module": "@jupyter-widgets/controls",
      "model_module_version": "1.5.0",
      "model_name": "ProgressStyleModel",
      "state": {
       "description_width": "initial"
      }
     },
     "0309564383514f988543a0488091f8c3": {
      "model_module": "@jupyter-widgets/controls",
      "model_module_version": "1.5.0",
      "model_name": "DescriptionStyleModel",
      "state": {
       "description_width": ""
      }
     },
     "03484af57e8a41aca7c018fdffb5d7e5": {
      "model_module": "@jupyter-widgets/base",
      "model_module_version": "1.2.0",
      "model_name": "LayoutModel",
      "state": {}
     },
     "03520e61cf6f43cba4792a8ea7638893": {
      "model_module": "@jupyter-widgets/controls",
      "model_module_version": "1.5.0",
      "model_name": "DescriptionStyleModel",
      "state": {
       "description_width": ""
      }
     },
     "03700cfba1734b498e3ba6dde3e38c02": {
      "model_module": "@jupyter-widgets/controls",
      "model_module_version": "1.5.0",
      "model_name": "HTMLModel",
      "state": {
       "layout": "IPY_MODEL_b8fefb1b49b044849e664b3c32456d2f",
       "style": "IPY_MODEL_6e203035beb3405a9942218e6b52f82f",
       "value": " 0/589 [00:00&lt;?, ?it/s]"
      }
     },
     "0379d65f50f1499c98f541d236f6ce7e": {
      "model_module": "@jupyter-widgets/controls",
      "model_module_version": "1.5.0",
      "model_name": "HBoxModel",
      "state": {
       "children": [
        "IPY_MODEL_e6e7181cb3e94002883d7593e49ddb3a",
        "IPY_MODEL_dfa3c2a4ad37449ba6d433b664eba50d"
       ],
       "layout": "IPY_MODEL_af466a96568649599a982e036195457a"
      }
     },
     "03b207bea7b94df680c0ee9060ed8ebb": {
      "model_module": "@jupyter-widgets/controls",
      "model_module_version": "1.5.0",
      "model_name": "DescriptionStyleModel",
      "state": {
       "description_width": ""
      }
     },
     "03be6ea929604f279caa10ae151ceb0b": {
      "model_module": "@jupyter-widgets/base",
      "model_module_version": "1.2.0",
      "model_name": "LayoutModel",
      "state": {}
     },
     "03d95993d1694976a4644e6dd6f66959": {
      "model_module": "@jupyter-widgets/controls",
      "model_module_version": "1.5.0",
      "model_name": "ProgressStyleModel",
      "state": {
       "description_width": "initial"
      }
     },
     "03f617ec42ef4ce1a513661c64af56d8": {
      "model_module": "@jupyter-widgets/controls",
      "model_module_version": "1.5.0",
      "model_name": "FloatProgressModel",
      "state": {
       "description": "Val Epoch #88 - loss:   8.679: 100%",
       "layout": "IPY_MODEL_cf095cb91ca847a8a3ebf2265473ba8d",
       "max": 74,
       "style": "IPY_MODEL_819a557506464d37b4ec0ad1810a17a6",
       "value": 74
      }
     },
     "03f903d16b77419585aa38109115eed5": {
      "model_module": "@jupyter-widgets/base",
      "model_module_version": "1.2.0",
      "model_name": "LayoutModel",
      "state": {}
     },
     "041481ceb5854573ba7e5c1f9263d63f": {
      "model_module": "@jupyter-widgets/controls",
      "model_module_version": "1.5.0",
      "model_name": "ProgressStyleModel",
      "state": {
       "description_width": "initial"
      }
     },
     "04509bc5d61842fc832d6da0c6dfbaa0": {
      "model_module": "@jupyter-widgets/controls",
      "model_module_version": "1.5.0",
      "model_name": "DescriptionStyleModel",
      "state": {
       "description_width": ""
      }
     },
     "0455b1c3966348249f305e455c8b19d0": {
      "model_module": "@jupyter-widgets/controls",
      "model_module_version": "1.5.0",
      "model_name": "DescriptionStyleModel",
      "state": {
       "description_width": ""
      }
     },
     "04924bc8542f4bd2b81d5de3c8a5b9a8": {
      "model_module": "@jupyter-widgets/controls",
      "model_module_version": "1.5.0",
      "model_name": "HBoxModel",
      "state": {
       "children": [
        "IPY_MODEL_a462fb94acfd4d64a7373542d94390a3",
        "IPY_MODEL_793597c6429b487d953752dac9bc81f3"
       ],
       "layout": "IPY_MODEL_dfc721c354654263ba5b13c504f0b768"
      }
     },
     "04ba7191b57b4210a1d419315ad27df9": {
      "model_module": "@jupyter-widgets/controls",
      "model_module_version": "1.5.0",
      "model_name": "FloatProgressModel",
      "state": {
       "description": "Val Epoch #4 - loss:   7.829: 100%",
       "layout": "IPY_MODEL_d17f06b987f6436383311a7e349c4f2e",
       "max": 74,
       "style": "IPY_MODEL_5afca717c298448c921a5a825f34de2b",
       "value": 74
      }
     },
     "04c8c2712dbe49009a61b58f4c676e65": {
      "model_module": "@jupyter-widgets/controls",
      "model_module_version": "1.5.0",
      "model_name": "HTMLModel",
      "state": {
       "layout": "IPY_MODEL_b1722cc1ed8e4b8dbf4346932693fbaa",
       "style": "IPY_MODEL_b86a5fed05454ecf8e4d08a4d1500f2b",
       "value": " 74/74 [8:07:15&lt;00:00, 11.66it/s]"
      }
     },
     "04ed710270e943f18e5a549c944691b9": {
      "model_module": "@jupyter-widgets/controls",
      "model_module_version": "1.5.0",
      "model_name": "DescriptionStyleModel",
      "state": {
       "description_width": ""
      }
     },
     "04ef7d4fa98e4b84998b8424b28ce478": {
      "model_module": "@jupyter-widgets/controls",
      "model_module_version": "1.5.0",
      "model_name": "HTMLModel",
      "state": {
       "layout": "IPY_MODEL_5c65ec25dc1f41cba2afed0124e129cc",
       "style": "IPY_MODEL_f9613bbc51904cdd9f19a4c5544edf8e",
       "value": " 589/589 [4:08:20&lt;00:00,  2.51it/s]"
      }
     },
     "04f1ecbcd24f4ffa83cfff0aa847c5c8": {
      "model_module": "@jupyter-widgets/controls",
      "model_module_version": "1.5.0",
      "model_name": "HBoxModel",
      "state": {
       "children": [
        "IPY_MODEL_1ba7cf15f2984a6bb9370b9c0f8c4d65",
        "IPY_MODEL_89361305c25c468bad5e9912ec65150d"
       ],
       "layout": "IPY_MODEL_2ea6c1b0119c4c5198709c979667584a"
      }
     },
     "05239dd3647d4a8ebf5bbd63e469ed24": {
      "model_module": "@jupyter-widgets/base",
      "model_module_version": "1.2.0",
      "model_name": "LayoutModel",
      "state": {}
     },
     "0535028574fc4181930908c573cbeecb": {
      "model_module": "@jupyter-widgets/controls",
      "model_module_version": "1.5.0",
      "model_name": "ProgressStyleModel",
      "state": {
       "description_width": "initial"
      }
     },
     "053d423120594f3088b9b60b12e3341e": {
      "model_module": "@jupyter-widgets/controls",
      "model_module_version": "1.5.0",
      "model_name": "DescriptionStyleModel",
      "state": {
       "description_width": ""
      }
     },
     "0554b595fd2d4f80b46001eb27f4746e": {
      "model_module": "@jupyter-widgets/controls",
      "model_module_version": "1.5.0",
      "model_name": "HBoxModel",
      "state": {
       "children": [
        "IPY_MODEL_6d70b95d95674f66a0959cb420cbf0c5",
        "IPY_MODEL_cdb62b2723af4972bcf2b0f8c7f16727"
       ],
       "layout": "IPY_MODEL_87208b8ce8274c6696241f1feaaa10e7"
      }
     },
     "057d1b21f6c64cb0b5f27ed072bc6108": {
      "model_module": "@jupyter-widgets/base",
      "model_module_version": "1.2.0",
      "model_name": "LayoutModel",
      "state": {}
     },
     "0581bd6d206c4aefa19c993abd238b52": {
      "model_module": "@jupyter-widgets/controls",
      "model_module_version": "1.5.0",
      "model_name": "DescriptionStyleModel",
      "state": {
       "description_width": ""
      }
     },
     "05aa6af69682441dae2bcc0a775b288d": {
      "model_module": "@jupyter-widgets/controls",
      "model_module_version": "1.5.0",
      "model_name": "DescriptionStyleModel",
      "state": {
       "description_width": ""
      }
     },
     "05b3220da8f942e5a3ff9471ff71c814": {
      "model_module": "@jupyter-widgets/base",
      "model_module_version": "1.2.0",
      "model_name": "LayoutModel",
      "state": {}
     },
     "05b896a30b994dd8ad8596bd3b0c4786": {
      "model_module": "@jupyter-widgets/controls",
      "model_module_version": "1.5.0",
      "model_name": "ProgressStyleModel",
      "state": {
       "description_width": "initial"
      }
     },
     "05bd9bb0f0c24cc0948b661a2139d87c": {
      "model_module": "@jupyter-widgets/controls",
      "model_module_version": "1.5.0",
      "model_name": "HTMLModel",
      "state": {
       "layout": "IPY_MODEL_9dc5589b605845b0afb3d52d50761efe",
       "style": "IPY_MODEL_e3b43bd2568b4c2397860fad4724a4f8",
       "value": " 74/74 [1:11:13&lt;00:00,  6.02it/s]"
      }
     },
     "05e8fab1a54448568b49cc65b570a35c": {
      "model_module": "@jupyter-widgets/base",
      "model_module_version": "1.2.0",
      "model_name": "LayoutModel",
      "state": {}
     },
     "05e9f05aa06e47358da96faba8e0beab": {
      "model_module": "@jupyter-widgets/controls",
      "model_module_version": "1.5.0",
      "model_name": "ProgressStyleModel",
      "state": {
       "description_width": "initial"
      }
     },
     "06115c2c8b2c4b0bacd381c914f04655": {
      "model_module": "@jupyter-widgets/controls",
      "model_module_version": "1.5.0",
      "model_name": "DescriptionStyleModel",
      "state": {
       "description_width": ""
      }
     },
     "063cafd3f5884e4792cd60ffd6e56fce": {
      "model_module": "@jupyter-widgets/base",
      "model_module_version": "1.2.0",
      "model_name": "LayoutModel",
      "state": {}
     },
     "064fd0e6fed1429d96d6fb94271849da": {
      "model_module": "@jupyter-widgets/controls",
      "model_module_version": "1.5.0",
      "model_name": "FloatProgressModel",
      "state": {
       "description": "Train Epoch #9 - loss:   6.213: 100%",
       "layout": "IPY_MODEL_6640bbcd90a042969521bb261e8c9096",
       "max": 589,
       "style": "IPY_MODEL_820539aae58e409bb836da8e57cd8ffc",
       "value": 589
      }
     },
     "0655bad732a9453a83e9b02db8fa872c": {
      "model_module": "@jupyter-widgets/controls",
      "model_module_version": "1.5.0",
      "model_name": "FloatProgressModel",
      "state": {
       "description": "Train Epoch #0 - loss:   7.897: 100%",
       "layout": "IPY_MODEL_52e4d87300a842568f0090fe868407ff",
       "max": 589,
       "style": "IPY_MODEL_723ea5b4be38462c9e7b26bc4851d1f5",
       "value": 589
      }
     },
     "0684b0ca434a4cc697e1947d7366db3f": {
      "model_module": "@jupyter-widgets/controls",
      "model_module_version": "1.5.0",
      "model_name": "HBoxModel",
      "state": {
       "children": [
        "IPY_MODEL_4f3045aa3ded480b9a53bcc4597ee2df",
        "IPY_MODEL_9f47688f4f674d38a5f917340d720271"
       ],
       "layout": "IPY_MODEL_2fc69a97a57e44eb9349390220589065"
      }
     },
     "0688b56c1fe9425b9a41003bdf2dc3a9": {
      "model_module": "@jupyter-widgets/controls",
      "model_module_version": "1.5.0",
      "model_name": "HTMLModel",
      "state": {
       "layout": "IPY_MODEL_eec94b4d03de4077863bc03e7edf2322",
       "style": "IPY_MODEL_291672e22ee94bfe8ccf0a15d7aa1abc",
       "value": " 589/589 [8:49:10&lt;00:00,  3.43it/s]"
      }
     },
     "06c223f8ebd34332b4c745c7beaa804e": {
      "model_module": "@jupyter-widgets/controls",
      "model_module_version": "1.5.0",
      "model_name": "HTMLModel",
      "state": {
       "layout": "IPY_MODEL_404e3b8a326743ad927da37ac36645b4",
       "style": "IPY_MODEL_204ef29d7ee54f4f9bdc5cca45a1f831",
       "value": " 589/589 [1:23:44&lt;00:00,  2.19it/s]"
      }
     },
     "06d16680d05640b0ab3c3e3286b5ec0c": {
      "model_module": "@jupyter-widgets/controls",
      "model_module_version": "1.5.0",
      "model_name": "HBoxModel",
      "state": {
       "children": [
        "IPY_MODEL_6ae98c00fdeb46c7944d828b9c293972",
        "IPY_MODEL_015b9d46abeb4f5cb940fb432e69cd19"
       ],
       "layout": "IPY_MODEL_d76e51ca8fd24e2ba36d0f7821815df2"
      }
     },
     "06eccb3006134617a47ff9d7b0c25711": {
      "model_module": "@jupyter-widgets/controls",
      "model_module_version": "1.5.0",
      "model_name": "DescriptionStyleModel",
      "state": {
       "description_width": ""
      }
     },
     "0719425d5ff2476f8535b800812beff9": {
      "model_module": "@jupyter-widgets/controls",
      "model_module_version": "1.5.0",
      "model_name": "HTMLModel",
      "state": {
       "layout": "IPY_MODEL_25b8d8bc5c9c4613ada0a3359c33fe0c",
       "style": "IPY_MODEL_4e12ae04c7f642ee8615461ea6d37100",
       "value": " 74/74 [8:05:19&lt;00:00, 12.03it/s]"
      }
     },
     "0723d0856ef44836adb7b07ab5d69239": {
      "model_module": "@jupyter-widgets/controls",
      "model_module_version": "1.5.0",
      "model_name": "ProgressStyleModel",
      "state": {
       "description_width": "initial"
      }
     },
     "0728c68dc1484f3c9841faa38d278d06": {
      "model_module": "@jupyter-widgets/controls",
      "model_module_version": "1.5.0",
      "model_name": "ProgressStyleModel",
      "state": {
       "description_width": "initial"
      }
     },
     "0738d393da3544f8a92a642bc3f3832c": {
      "model_module": "@jupyter-widgets/controls",
      "model_module_version": "1.5.0",
      "model_name": "HTMLModel",
      "state": {
       "layout": "IPY_MODEL_92081b6d2b084a9c800365b7484b711c",
       "style": "IPY_MODEL_43780c1745874b06a54bb723a090c6ad",
       "value": " 589/589 [4:12:04&lt;00:00,  2.60it/s]"
      }
     },
     "07525e36a49c4064b29fa3c1cb2d73a7": {
      "model_module": "@jupyter-widgets/base",
      "model_module_version": "1.2.0",
      "model_name": "LayoutModel",
      "state": {}
     },
     "0752922c796942d29d6d8315b0e7288c": {
      "model_module": "@jupyter-widgets/controls",
      "model_module_version": "1.5.0",
      "model_name": "HTMLModel",
      "state": {
       "layout": "IPY_MODEL_cb514eeebd1f444e8951ec6dfca7cf6f",
       "style": "IPY_MODEL_ecae87c9408e424db28460a5c04bd773",
       "value": " 74/74 [6:31:11&lt;00:00,  4.98it/s]"
      }
     },
     "0776b617bbd741ecb036bd97f60b7c8a": {
      "model_module": "@jupyter-widgets/base",
      "model_module_version": "1.2.0",
      "model_name": "LayoutModel",
      "state": {}
     },
     "07945c70a998421eaaa47a779dece529": {
      "model_module": "@jupyter-widgets/base",
      "model_module_version": "1.2.0",
      "model_name": "LayoutModel",
      "state": {}
     },
     "07d5f938039546e7859c0468df7c778d": {
      "model_module": "@jupyter-widgets/controls",
      "model_module_version": "1.5.0",
      "model_name": "FloatProgressModel",
      "state": {
       "description": "Train Epoch #5 - loss:   7.282: 100%",
       "layout": "IPY_MODEL_8e4c16ec716b4ad6ad79c3378948d1bd",
       "max": 589,
       "style": "IPY_MODEL_3250fd7c433649d1a15b1efb2e051fc3",
       "value": 589
      }
     },
     "07f09ed44d1c4675806a18fec44e5ac8": {
      "model_module": "@jupyter-widgets/base",
      "model_module_version": "1.2.0",
      "model_name": "LayoutModel",
      "state": {}
     },
     "082d5e1942b14d118ac169dceb004867": {
      "model_module": "@jupyter-widgets/controls",
      "model_module_version": "1.5.0",
      "model_name": "HTMLModel",
      "state": {
       "layout": "IPY_MODEL_1f356b4deb92414bbb0d8b74264a048e",
       "style": "IPY_MODEL_571a3f697ec84af690b38d3ad588b238",
       "value": " 589/589 [2:52:33&lt;00:00,  2.14it/s]"
      }
     },
     "082e3eb55c3d467594a111ae26629c54": {
      "model_module": "@jupyter-widgets/controls",
      "model_module_version": "1.5.0",
      "model_name": "HBoxModel",
      "state": {
       "children": [
        "IPY_MODEL_f0c2710eaf0c461d8ffec42c1937e7ac",
        "IPY_MODEL_751fdc98828e4682877f0ca0d8a6166f"
       ],
       "layout": "IPY_MODEL_4b516566472c4b0bb8b5bee208989a5d"
      }
     },
     "0852d555585945009a30e0330ba94d1a": {
      "model_module": "@jupyter-widgets/base",
      "model_module_version": "1.2.0",
      "model_name": "LayoutModel",
      "state": {}
     },
     "086c2db3d36a43eda94221fba45a91b4": {
      "model_module": "@jupyter-widgets/controls",
      "model_module_version": "1.5.0",
      "model_name": "FloatProgressModel",
      "state": {
       "description": "Val Epoch #44 - loss:   7.696: 100%",
       "layout": "IPY_MODEL_a6fb7aab60a9401e89df146cc7718a73",
       "max": 74,
       "style": "IPY_MODEL_2188d11f20894bf1a023437e8856160c",
       "value": 74
      }
     },
     "08801cfe51774a60a75299619eefec15": {
      "model_module": "@jupyter-widgets/controls",
      "model_module_version": "1.5.0",
      "model_name": "DescriptionStyleModel",
      "state": {
       "description_width": ""
      }
     },
     "08958e6d60654fe08d2efda0e27316f5": {
      "model_module": "@jupyter-widgets/base",
      "model_module_version": "1.2.0",
      "model_name": "LayoutModel",
      "state": {}
     },
     "08a035f66e2f4d6292168027ee755a4f": {
      "model_module": "@jupyter-widgets/base",
      "model_module_version": "1.2.0",
      "model_name": "LayoutModel",
      "state": {}
     },
     "08a716c99b774f5c888288607262eb87": {
      "model_module": "@jupyter-widgets/base",
      "model_module_version": "1.2.0",
      "model_name": "LayoutModel",
      "state": {}
     },
     "08a8803de8db4a3688cbeaca9939e0ec": {
      "model_module": "@jupyter-widgets/base",
      "model_module_version": "1.2.0",
      "model_name": "LayoutModel",
      "state": {}
     },
     "08b6ba200c314dbf908db90f06119bb6": {
      "model_module": "@jupyter-widgets/base",
      "model_module_version": "1.2.0",
      "model_name": "LayoutModel",
      "state": {}
     },
     "08c3e08913844b85a544d009b66b210c": {
      "model_module": "@jupyter-widgets/controls",
      "model_module_version": "1.5.0",
      "model_name": "HBoxModel",
      "state": {
       "children": [
        "IPY_MODEL_1de99b96aeec445cb150f7c3613ecea1",
        "IPY_MODEL_9e1c83a55c82477b8182aa24ed084621"
       ],
       "layout": "IPY_MODEL_8dbad0caa0d549809c33fff4b9be446e"
      }
     },
     "08c9011c9eb345a0beb6f15119e7da86": {
      "model_module": "@jupyter-widgets/base",
      "model_module_version": "1.2.0",
      "model_name": "LayoutModel",
      "state": {}
     },
     "08d18e8274974db081124db4fc926dc0": {
      "model_module": "@jupyter-widgets/controls",
      "model_module_version": "1.5.0",
      "model_name": "ProgressStyleModel",
      "state": {
       "description_width": "initial"
      }
     },
     "08db1e14b5464a74acdc61369355e5a2": {
      "model_module": "@jupyter-widgets/controls",
      "model_module_version": "1.5.0",
      "model_name": "DescriptionStyleModel",
      "state": {
       "description_width": ""
      }
     },
     "090d3a0d8fd647019aba457caf3dfda6": {
      "model_module": "@jupyter-widgets/controls",
      "model_module_version": "1.5.0",
      "model_name": "ProgressStyleModel",
      "state": {
       "description_width": "initial"
      }
     },
     "0919b83b0421453280fd9544bff67394": {
      "model_module": "@jupyter-widgets/controls",
      "model_module_version": "1.5.0",
      "model_name": "ProgressStyleModel",
      "state": {
       "description_width": "initial"
      }
     },
     "092145de29924aea93c4f7506fbb9b0d": {
      "model_module": "@jupyter-widgets/controls",
      "model_module_version": "1.5.0",
      "model_name": "DescriptionStyleModel",
      "state": {
       "description_width": ""
      }
     },
     "09408a075ce34da9947a6e911012cb40": {
      "model_module": "@jupyter-widgets/controls",
      "model_module_version": "1.5.0",
      "model_name": "DescriptionStyleModel",
      "state": {
       "description_width": ""
      }
     },
     "0967b91e7b7249a29c6b3f7ad5b4021d": {
      "model_module": "@jupyter-widgets/controls",
      "model_module_version": "1.5.0",
      "model_name": "HTMLModel",
      "state": {
       "layout": "IPY_MODEL_cb010581111a47b2bc31992ddf277ba4",
       "style": "IPY_MODEL_4afcfded0ec643af97a8211aefcc10b3",
       "value": " 589/589 [5:09:40&lt;00:00,  2.70it/s]"
      }
     },
     "0978fa69d78e489ea55e69ef4a8ce60e": {
      "model_module": "@jupyter-widgets/base",
      "model_module_version": "1.2.0",
      "model_name": "LayoutModel",
      "state": {}
     },
     "09853d983eee453c93a5f937f4892890": {
      "model_module": "@jupyter-widgets/base",
      "model_module_version": "1.2.0",
      "model_name": "LayoutModel",
      "state": {}
     },
     "0a1ad64a46ab4058976d24e4861193e2": {
      "model_module": "@jupyter-widgets/controls",
      "model_module_version": "1.5.0",
      "model_name": "DescriptionStyleModel",
      "state": {
       "description_width": ""
      }
     },
     "0a4d7ba7add248adb3f7503ec6d6280a": {
      "model_module": "@jupyter-widgets/controls",
      "model_module_version": "1.5.0",
      "model_name": "DescriptionStyleModel",
      "state": {
       "description_width": ""
      }
     },
     "0a692fa4ccdd4491820c5a57ebad52ae": {
      "model_module": "@jupyter-widgets/controls",
      "model_module_version": "1.5.0",
      "model_name": "DescriptionStyleModel",
      "state": {
       "description_width": ""
      }
     },
     "0a869dcf79fe40e3bcab5bd137158e86": {
      "model_module": "@jupyter-widgets/base",
      "model_module_version": "1.2.0",
      "model_name": "LayoutModel",
      "state": {}
     },
     "0a9545769a894e149259b1431a77e52e": {
      "model_module": "@jupyter-widgets/base",
      "model_module_version": "1.2.0",
      "model_name": "LayoutModel",
      "state": {}
     },
     "0aa7e6a189e54d079b33e4d76eddf2e7": {
      "model_module": "@jupyter-widgets/base",
      "model_module_version": "1.2.0",
      "model_name": "LayoutModel",
      "state": {}
     },
     "0abe9a668fd24f79af357f0bf10d7fc1": {
      "model_module": "@jupyter-widgets/controls",
      "model_module_version": "1.5.0",
      "model_name": "ProgressStyleModel",
      "state": {
       "description_width": "initial"
      }
     },
     "0ad96651c39147649f32d58d12915910": {
      "model_module": "@jupyter-widgets/controls",
      "model_module_version": "1.5.0",
      "model_name": "FloatProgressModel",
      "state": {
       "description": "Train Epoch #95 - loss:   1.299: 100%",
       "layout": "IPY_MODEL_ae85eef3c18d42da8ec67ac7564f57c5",
       "max": 589,
       "style": "IPY_MODEL_e3752949b5c346f3849981a091eb60ab",
       "value": 589
      }
     },
     "0af3253195f74d06aae8a91fb479c805": {
      "model_module": "@jupyter-widgets/controls",
      "model_module_version": "1.5.0",
      "model_name": "HTMLModel",
      "state": {
       "layout": "IPY_MODEL_2ecb9b64e138445f85c69293bc170c06",
       "style": "IPY_MODEL_b53947806cd14fb1b3e176c55fbd8943",
       "value": " 589/589 [3:49:11&lt;00:00,  2.73it/s]"
      }
     },
     "0b057d1c1ea541a596acc29dfad6ab9a": {
      "model_module": "@jupyter-widgets/base",
      "model_module_version": "1.2.0",
      "model_name": "LayoutModel",
      "state": {}
     },
     "0b65926623b44267b88fb7bec43af33c": {
      "model_module": "@jupyter-widgets/base",
      "model_module_version": "1.2.0",
      "model_name": "LayoutModel",
      "state": {}
     },
     "0bb4d2ac3b0945738f58e61ac1cbdb79": {
      "model_module": "@jupyter-widgets/controls",
      "model_module_version": "1.5.0",
      "model_name": "DescriptionStyleModel",
      "state": {
       "description_width": ""
      }
     },
     "0bce29ee52c045bf9ce1da59d5fedb62": {
      "model_module": "@jupyter-widgets/controls",
      "model_module_version": "1.5.0",
      "model_name": "HBoxModel",
      "state": {
       "children": [
        "IPY_MODEL_5ba70d913c714401bf4e07a98e24f527",
        "IPY_MODEL_a1adec5b23ee44b9bbbe8b6cd6b045e2"
       ],
       "layout": "IPY_MODEL_1db53fff57734bd3be282085de309f93"
      }
     },
     "0be46c4b7ad041d4ab14e29a481d07d9": {
      "model_module": "@jupyter-widgets/controls",
      "model_module_version": "1.5.0",
      "model_name": "HBoxModel",
      "state": {
       "children": [
        "IPY_MODEL_b9ce2817dbe84ce7b48c6af60bafa1ff",
        "IPY_MODEL_b090f3c4770e4933b2170a45f6615763"
       ],
       "layout": "IPY_MODEL_c35c98a661284e8f897dd6def299dc06"
      }
     },
     "0bfc65d9ca154e65be0ceb365bdb5278": {
      "model_module": "@jupyter-widgets/controls",
      "model_module_version": "1.5.0",
      "model_name": "HBoxModel",
      "state": {
       "children": [
        "IPY_MODEL_e1a87d5727224b559eca08cc0f02f7d5",
        "IPY_MODEL_ff5b1e706f644aa98bf72fad4f022361"
       ],
       "layout": "IPY_MODEL_c8343af4d06142f4a269e4d389b9020c"
      }
     },
     "0c1a7ae2ad1940ce915c61399b54c0c1": {
      "model_module": "@jupyter-widgets/controls",
      "model_module_version": "1.5.0",
      "model_name": "ProgressStyleModel",
      "state": {
       "description_width": "initial"
      }
     },
     "0c6b5cedaf2e407b89aea7b7dd772513": {
      "model_module": "@jupyter-widgets/controls",
      "model_module_version": "1.5.0",
      "model_name": "HTMLModel",
      "state": {
       "layout": "IPY_MODEL_442027cad36c4a59bab3e085d50bfe1a",
       "style": "IPY_MODEL_ad80b5d74de44b85b0d38e19e66d7388",
       "value": " 351/589 [01:52&lt;01:13,  3.24it/s]"
      }
     },
     "0c8e7d0916604c88a47455d6061ad4b0": {
      "model_module": "@jupyter-widgets/controls",
      "model_module_version": "1.5.0",
      "model_name": "HBoxModel",
      "state": {
       "children": [
        "IPY_MODEL_850c4e8a9e14497fb059e7eb6e974a1d",
        "IPY_MODEL_dbb661dd280c42dca7394a066cc2234f"
       ],
       "layout": "IPY_MODEL_8086476e60c943f78cfa20dda18914be"
      }
     },
     "0c9b10a211044682ae27ea624d2cb202": {
      "model_module": "@jupyter-widgets/controls",
      "model_module_version": "1.5.0",
      "model_name": "ProgressStyleModel",
      "state": {
       "description_width": "initial"
      }
     },
     "0cce81e7a3724821bbf75f77c162f920": {
      "model_module": "@jupyter-widgets/controls",
      "model_module_version": "1.5.0",
      "model_name": "FloatProgressModel",
      "state": {
       "description": "Val Epoch #2 - loss:   9.782: 100%",
       "layout": "IPY_MODEL_ef9fd3684fb04ee988ae20d5241b893c",
       "max": 74,
       "style": "IPY_MODEL_0728c68dc1484f3c9841faa38d278d06",
       "value": 74
      }
     },
     "0cdc144e665e4152beb7fde617faed52": {
      "model_module": "@jupyter-widgets/controls",
      "model_module_version": "1.5.0",
      "model_name": "DescriptionStyleModel",
      "state": {
       "description_width": ""
      }
     },
     "0ce05fa9d99d4e13b2d748387c7c1e8a": {
      "model_module": "@jupyter-widgets/controls",
      "model_module_version": "1.5.0",
      "model_name": "HBoxModel",
      "state": {
       "children": [
        "IPY_MODEL_6d8a2befa14a4cbdbecf6d9d012376de",
        "IPY_MODEL_40c018fc827548ec902032a575dfc7a7"
       ],
       "layout": "IPY_MODEL_419e4200f4f3456d9efdfd49d50f0710"
      }
     },
     "0cf59bb7c49045bd869e369e195e8d0c": {
      "model_module": "@jupyter-widgets/controls",
      "model_module_version": "1.5.0",
      "model_name": "HBoxModel",
      "state": {
       "children": [
        "IPY_MODEL_ac26abc04da943b0bd9dd1392ad84f0a",
        "IPY_MODEL_9645d14fdfe34e7ba7e64d19bf0a4ed3"
       ],
       "layout": "IPY_MODEL_ef9b1bcc83f0499495a54f2086e0df06"
      }
     },
     "0d0edcbb4d4f45a7a7c6cc23f9eb15cf": {
      "model_module": "@jupyter-widgets/base",
      "model_module_version": "1.2.0",
      "model_name": "LayoutModel",
      "state": {}
     },
     "0d4bc7292fe74266b0f1ec84c7043ace": {
      "model_module": "@jupyter-widgets/controls",
      "model_module_version": "1.5.0",
      "model_name": "FloatProgressModel",
      "state": {
       "description": "Val Epoch #94 - loss:   8.723: 100%",
       "layout": "IPY_MODEL_a4e83cd4e7884b14a9eb750c2d4939a6",
       "max": 74,
       "style": "IPY_MODEL_22a9787fc5644ad8b68875ee982c7f34",
       "value": 74
      }
     },
     "0daa7d1f44dd486eb79c26448d53177e": {
      "model_module": "@jupyter-widgets/controls",
      "model_module_version": "1.5.0",
      "model_name": "DescriptionStyleModel",
      "state": {
       "description_width": ""
      }
     },
     "0db9fe48fb77417199ac614bdea7a353": {
      "model_module": "@jupyter-widgets/base",
      "model_module_version": "1.2.0",
      "model_name": "LayoutModel",
      "state": {}
     },
     "0de8abf159844fa6ac9a7c8162f0659e": {
      "model_module": "@jupyter-widgets/controls",
      "model_module_version": "1.5.0",
      "model_name": "HTMLModel",
      "state": {
       "layout": "IPY_MODEL_d8d3b54b3bbc4654a61f6b78dae5a6bb",
       "style": "IPY_MODEL_7c73d304b6d8403996364a6bc9bb08d7",
       "value": " 589/589 [3:25:24&lt;00:00,  2.27it/s]"
      }
     },
     "0e09929f93854bbebef0ae401a9baa56": {
      "model_module": "@jupyter-widgets/base",
      "model_module_version": "1.2.0",
      "model_name": "LayoutModel",
      "state": {}
     },
     "0e17b0c53a0e49739edef3c6587dba6d": {
      "model_module": "@jupyter-widgets/base",
      "model_module_version": "1.2.0",
      "model_name": "LayoutModel",
      "state": {}
     },
     "0e509b06669d4d6796b995e552712f61": {
      "model_module": "@jupyter-widgets/base",
      "model_module_version": "1.2.0",
      "model_name": "LayoutModel",
      "state": {}
     },
     "0e74b39717a14b10b77967ef7541b6ca": {
      "model_module": "@jupyter-widgets/controls",
      "model_module_version": "1.5.0",
      "model_name": "HTMLModel",
      "state": {
       "layout": "IPY_MODEL_38f51a104304495eaf1123c6cef1e1c4",
       "style": "IPY_MODEL_3ad5de6f1962430c9f461c5616d60a28",
       "value": " 589/589 [03:40&lt;00:00,  2.71it/s]"
      }
     },
     "0e775cf2b68e40b38cc95731aff37364": {
      "model_module": "@jupyter-widgets/controls",
      "model_module_version": "1.5.0",
      "model_name": "DescriptionStyleModel",
      "state": {
       "description_width": ""
      }
     },
     "0e87ee845fbe4c4ead11ceb8ad804c42": {
      "model_module": "@jupyter-widgets/base",
      "model_module_version": "1.2.0",
      "model_name": "LayoutModel",
      "state": {}
     },
     "0e9a784d3b604624be57b73a98821a06": {
      "model_module": "@jupyter-widgets/controls",
      "model_module_version": "1.5.0",
      "model_name": "HBoxModel",
      "state": {
       "children": [
        "IPY_MODEL_283749b43f3d440da3aa050771e6832a",
        "IPY_MODEL_a18ae495a0f940d68511777be25179d9"
       ],
       "layout": "IPY_MODEL_3c9dab41b6c2491292066e93b53e7b39"
      }
     },
     "0ecabb6c42f44ab8b380c61db02ac537": {
      "model_module": "@jupyter-widgets/controls",
      "model_module_version": "1.5.0",
      "model_name": "HBoxModel",
      "state": {
       "children": [
        "IPY_MODEL_9c85059c2d2c4f2abb8d499ef3f416dc",
        "IPY_MODEL_8259a3e1208e44ec844786305b3d401c"
       ],
       "layout": "IPY_MODEL_cb4001bf36f644c39568204ce38b5087"
      }
     },
     "0ed90f1b816a4809b24a643116307e2f": {
      "model_module": "@jupyter-widgets/base",
      "model_module_version": "1.2.0",
      "model_name": "LayoutModel",
      "state": {}
     },
     "0eec7d9478514cb5b76eebdeadd285c4": {
      "model_module": "@jupyter-widgets/base",
      "model_module_version": "1.2.0",
      "model_name": "LayoutModel",
      "state": {}
     },
     "0f02d88dfbf34f328f1ad26d6023a615": {
      "model_module": "@jupyter-widgets/controls",
      "model_module_version": "1.5.0",
      "model_name": "ProgressStyleModel",
      "state": {
       "description_width": "initial"
      }
     },
     "0f0e8e3b374d4caa83274dd810a8a7d1": {
      "model_module": "@jupyter-widgets/controls",
      "model_module_version": "1.5.0",
      "model_name": "HTMLModel",
      "state": {
       "layout": "IPY_MODEL_a870f7329b064541bfb8b88c7e17060e",
       "style": "IPY_MODEL_4c9705c3c306484bb804dfb4f92caaef",
       "value": " 589/589 [6:17:10&lt;00:00,  2.64it/s]"
      }
     },
     "0f0f21afa0c04be3afe331bee00bb3a3": {
      "model_module": "@jupyter-widgets/base",
      "model_module_version": "1.2.0",
      "model_name": "LayoutModel",
      "state": {}
     },
     "0fa296eed83f4cc08b48b8e6b5cb937f": {
      "model_module": "@jupyter-widgets/controls",
      "model_module_version": "1.5.0",
      "model_name": "DescriptionStyleModel",
      "state": {
       "description_width": ""
      }
     },
     "0fd2526ecf9e4c23b67eba36d0e96024": {
      "model_module": "@jupyter-widgets/base",
      "model_module_version": "1.2.0",
      "model_name": "LayoutModel",
      "state": {}
     },
     "0fe18e7e9c754b989c444ece51ac3db1": {
      "model_module": "@jupyter-widgets/base",
      "model_module_version": "1.2.0",
      "model_name": "LayoutModel",
      "state": {}
     },
     "1032c6859e754984ad47a8f253e4de38": {
      "model_module": "@jupyter-widgets/controls",
      "model_module_version": "1.5.0",
      "model_name": "DescriptionStyleModel",
      "state": {
       "description_width": ""
      }
     },
     "104eb220bf28403facdf052977227494": {
      "model_module": "@jupyter-widgets/controls",
      "model_module_version": "1.5.0",
      "model_name": "HBoxModel",
      "state": {
       "children": [
        "IPY_MODEL_cf60130ed1d14a95959306dbd49c99bb",
        "IPY_MODEL_ecf5f8d55e5a496bb38644e0f2f3f068"
       ],
       "layout": "IPY_MODEL_709c859e6130441083342a30834a4ad1"
      }
     },
     "1066785e46b14d40acd88737e17bf339": {
      "model_module": "@jupyter-widgets/controls",
      "model_module_version": "1.5.0",
      "model_name": "DescriptionStyleModel",
      "state": {
       "description_width": ""
      }
     },
     "107d29fa43134e979b8b90b56196c18f": {
      "model_module": "@jupyter-widgets/controls",
      "model_module_version": "1.5.0",
      "model_name": "HBoxModel",
      "state": {
       "children": [
        "IPY_MODEL_93ffebfa137048d9b01feeeec8716961",
        "IPY_MODEL_d5356b2817bb4227943187734274d682"
       ],
       "layout": "IPY_MODEL_52802db1c8bb41a696b5e49add24f580"
      }
     },
     "10b4a347b006403791a536d0987dd0f1": {
      "model_module": "@jupyter-widgets/base",
      "model_module_version": "1.2.0",
      "model_name": "LayoutModel",
      "state": {}
     },
     "10d625ab9d6d46ffbf6bab1bcd2b8ef9": {
      "model_module": "@jupyter-widgets/controls",
      "model_module_version": "1.5.0",
      "model_name": "DescriptionStyleModel",
      "state": {
       "description_width": ""
      }
     },
     "10daa3b4e63a4ab1be9174729fecd3c2": {
      "model_module": "@jupyter-widgets/controls",
      "model_module_version": "1.5.0",
      "model_name": "HBoxModel",
      "state": {
       "children": [
        "IPY_MODEL_915fbf7a51274159b2ad5e5cb5816c4d",
        "IPY_MODEL_e097dbfb18c14ca688bf324827cef16e"
       ],
       "layout": "IPY_MODEL_07f09ed44d1c4675806a18fec44e5ac8"
      }
     },
     "10e075a167914b0589ec2435d27b7596": {
      "model_module": "@jupyter-widgets/base",
      "model_module_version": "1.2.0",
      "model_name": "LayoutModel",
      "state": {}
     },
     "10e192e0b6ea4888bfabced37a41715d": {
      "model_module": "@jupyter-widgets/base",
      "model_module_version": "1.2.0",
      "model_name": "LayoutModel",
      "state": {}
     },
     "10e59073fc164b419622de74df91d01a": {
      "model_module": "@jupyter-widgets/controls",
      "model_module_version": "1.5.0",
      "model_name": "HBoxModel",
      "state": {
       "children": [
        "IPY_MODEL_30ecf3fb705f4179907c5ba0b0f5d352",
        "IPY_MODEL_febee90ddf4d4ba1aed358d5e6818cf8"
       ],
       "layout": "IPY_MODEL_91aa04a10b9c4b8bb6ddff03a96304d6"
      }
     },
     "10eeddd851cb483280d9e54405415200": {
      "model_module": "@jupyter-widgets/controls",
      "model_module_version": "1.5.0",
      "model_name": "FloatProgressModel",
      "state": {
       "description": "Val Epoch #19 - loss:   6.976: 100%",
       "layout": "IPY_MODEL_5c8a131c20b04e29bb8625044ed3ec17",
       "max": 74,
       "style": "IPY_MODEL_fed74e6905b14f81b3dcc84fa8fb248a",
       "value": 74
      }
     },
     "110b7e72e10d42bc9ba2d28de6a58d9b": {
      "model_module": "@jupyter-widgets/controls",
      "model_module_version": "1.5.0",
      "model_name": "ProgressStyleModel",
      "state": {
       "description_width": "initial"
      }
     },
     "11306d0234914689ac33924645a4b131": {
      "model_module": "@jupyter-widgets/controls",
      "model_module_version": "1.5.0",
      "model_name": "DescriptionStyleModel",
      "state": {
       "description_width": ""
      }
     },
     "1136bcdf37ab4a8aa7827eec0f8b0939": {
      "model_module": "@jupyter-widgets/controls",
      "model_module_version": "1.5.0",
      "model_name": "HBoxModel",
      "state": {
       "children": [
        "IPY_MODEL_1fde01a835a441a68fd381d36cdc7f21",
        "IPY_MODEL_6780194dc27e45b199dce7e1012b3bef"
       ],
       "layout": "IPY_MODEL_2bc0da4921b2481ab57bdec260f3683e"
      }
     },
     "11738076522c4d3591305e44e3dcb439": {
      "model_module": "@jupyter-widgets/controls",
      "model_module_version": "1.5.0",
      "model_name": "DescriptionStyleModel",
      "state": {
       "description_width": ""
      }
     },
     "118bd266fe7b4ebdbdacaf6a84784780": {
      "model_module": "@jupyter-widgets/controls",
      "model_module_version": "1.5.0",
      "model_name": "ProgressStyleModel",
      "state": {
       "description_width": "initial"
      }
     },
     "11949d74235a464fa8922ef98dce6767": {
      "model_module": "@jupyter-widgets/base",
      "model_module_version": "1.2.0",
      "model_name": "LayoutModel",
      "state": {}
     },
     "11c22fe4531b4e24ac496c83f9afc788": {
      "model_module": "@jupyter-widgets/controls",
      "model_module_version": "1.5.0",
      "model_name": "HBoxModel",
      "state": {
       "children": [
        "IPY_MODEL_68c3bb7835394af8b2e865cf6eb24639",
        "IPY_MODEL_941ca6ca9ecf418482c9e12a6e4c74d7"
       ],
       "layout": "IPY_MODEL_b235b604fb0148778b0da9abf9ee11b9"
      }
     },
     "11cbd47a9f89493b9615d8e48bb30a01": {
      "model_module": "@jupyter-widgets/controls",
      "model_module_version": "1.5.0",
      "model_name": "FloatProgressModel",
      "state": {
       "description": "Val Epoch #32 - loss:   7.114: 100%",
       "layout": "IPY_MODEL_f6d834b49af04a00a61dede4ae2e38c4",
       "max": 74,
       "style": "IPY_MODEL_91f370c06ec4497ab1118a8223c14a9e",
       "value": 74
      }
     },
     "11eef49bdf7c488ba4958aa843f1a0df": {
      "model_module": "@jupyter-widgets/controls",
      "model_module_version": "1.5.0",
      "model_name": "DescriptionStyleModel",
      "state": {
       "description_width": ""
      }
     },
     "12006208bd0644e89847a23b0b7a8866": {
      "model_module": "@jupyter-widgets/controls",
      "model_module_version": "1.5.0",
      "model_name": "HBoxModel",
      "state": {
       "children": [
        "IPY_MODEL_8ca6482d35724a10ad301cb573311a18",
        "IPY_MODEL_239a1e07626b4b9eb31e3582cd48aa22"
       ],
       "layout": "IPY_MODEL_c60e570266ee433cac8e2fdbb898c5ee"
      }
     },
     "1214a720495d4121b379df3a755b6545": {
      "model_module": "@jupyter-widgets/base",
      "model_module_version": "1.2.0",
      "model_name": "LayoutModel",
      "state": {}
     },
     "1228736c89c1432e8899569e1fd40230": {
      "model_module": "@jupyter-widgets/controls",
      "model_module_version": "1.5.0",
      "model_name": "HTMLModel",
      "state": {
       "layout": "IPY_MODEL_6a684dee7bd94e248918035e72742a7b",
       "style": "IPY_MODEL_65ea4fb1ffb64c9289311ebc1602c5fb",
       "value": " 589/589 [7:24:56&lt;00:00,  2.11it/s]"
      }
     },
     "12564200b69c49739d5808e4f08156b3": {
      "model_module": "@jupyter-widgets/controls",
      "model_module_version": "1.5.0",
      "model_name": "ProgressStyleModel",
      "state": {
       "description_width": "initial"
      }
     },
     "1257f1d2121f4522ac429cab08d8b27c": {
      "model_module": "@jupyter-widgets/controls",
      "model_module_version": "1.5.0",
      "model_name": "HBoxModel",
      "state": {
       "children": [
        "IPY_MODEL_6eeb1a05abe647db9b35d8a841b56b84",
        "IPY_MODEL_8a22ef3d68ee4dfe81e675addde92ca4"
       ],
       "layout": "IPY_MODEL_13b72c84f41a49809ecaaf2eac73c6eb"
      }
     },
     "1286931ffad4435bb254b201d8fd82b2": {
      "model_module": "@jupyter-widgets/base",
      "model_module_version": "1.2.0",
      "model_name": "LayoutModel",
      "state": {}
     },
     "12d177dcf64b4ec98dcf2050b44baeb0": {
      "model_module": "@jupyter-widgets/controls",
      "model_module_version": "1.5.0",
      "model_name": "HBoxModel",
      "state": {
       "children": [
        "IPY_MODEL_7b22dc47099d49cd8603b3884e7af72d",
        "IPY_MODEL_fc4fa9c58c0947228587a447330c0bda"
       ],
       "layout": "IPY_MODEL_7c94308b32fa4c32ba307fcca6efe409"
      }
     },
     "12efb9755314456f875632168fe65d31": {
      "model_module": "@jupyter-widgets/controls",
      "model_module_version": "1.5.0",
      "model_name": "ProgressStyleModel",
      "state": {
       "description_width": "initial"
      }
     },
     "12fd537463f744f8af3aeff3085e56e4": {
      "model_module": "@jupyter-widgets/base",
      "model_module_version": "1.2.0",
      "model_name": "LayoutModel",
      "state": {}
     },
     "131e4030ea314c94ae81074e901cf4db": {
      "model_module": "@jupyter-widgets/base",
      "model_module_version": "1.2.0",
      "model_name": "LayoutModel",
      "state": {}
     },
     "137ce1f532a84999bb537ac48768d088": {
      "model_module": "@jupyter-widgets/base",
      "model_module_version": "1.2.0",
      "model_name": "LayoutModel",
      "state": {}
     },
     "13b72c84f41a49809ecaaf2eac73c6eb": {
      "model_module": "@jupyter-widgets/base",
      "model_module_version": "1.2.0",
      "model_name": "LayoutModel",
      "state": {}
     },
     "13beea99b00146f6a23c0f9fe0dd1d26": {
      "model_module": "@jupyter-widgets/controls",
      "model_module_version": "1.5.0",
      "model_name": "HBoxModel",
      "state": {
       "children": [
        "IPY_MODEL_b74ed78499d24fd790c3721562d94011",
        "IPY_MODEL_0688b56c1fe9425b9a41003bdf2dc3a9"
       ],
       "layout": "IPY_MODEL_599a4d373e01436390f10ec0120a1f23"
      }
     },
     "13ce10733c514f0786d35d3d3504dddc": {
      "model_module": "@jupyter-widgets/base",
      "model_module_version": "1.2.0",
      "model_name": "LayoutModel",
      "state": {}
     },
     "13e124ca6c114ab3b5edfb604616b399": {
      "model_module": "@jupyter-widgets/controls",
      "model_module_version": "1.5.0",
      "model_name": "DescriptionStyleModel",
      "state": {
       "description_width": ""
      }
     },
     "13f89919d82e41c18e78d61f399af5d3": {
      "model_module": "@jupyter-widgets/controls",
      "model_module_version": "1.5.0",
      "model_name": "ProgressStyleModel",
      "state": {
       "description_width": "initial"
      }
     },
     "14600dd36de246c3a796fb959bb770ff": {
      "model_module": "@jupyter-widgets/controls",
      "model_module_version": "1.5.0",
      "model_name": "ProgressStyleModel",
      "state": {
       "description_width": "initial"
      }
     },
     "1484dca344b54694b6b099270da1e99c": {
      "model_module": "@jupyter-widgets/controls",
      "model_module_version": "1.5.0",
      "model_name": "ProgressStyleModel",
      "state": {
       "description_width": "initial"
      }
     },
     "149c9ed29be94f89a151cafc8617dd02": {
      "model_module": "@jupyter-widgets/base",
      "model_module_version": "1.2.0",
      "model_name": "LayoutModel",
      "state": {}
     },
     "14b5e8ee1d224c6a9f1b5aaa3ddfe798": {
      "model_module": "@jupyter-widgets/controls",
      "model_module_version": "1.5.0",
      "model_name": "FloatProgressModel",
      "state": {
       "description": "Val Epoch #52 - loss:   7.916: 100%",
       "layout": "IPY_MODEL_20ac54f94819450685cbfda1578b5079",
       "max": 74,
       "style": "IPY_MODEL_bc395d1b4cb046148de720a2ad08a0e3",
       "value": 74
      }
     },
     "14c727c2c8844da8ba04a798eb29869d": {
      "model_module": "@jupyter-widgets/base",
      "model_module_version": "1.2.0",
      "model_name": "LayoutModel",
      "state": {}
     },
     "14f85bc8e9bc4f48b3d09287ab3f1528": {
      "model_module": "@jupyter-widgets/base",
      "model_module_version": "1.2.0",
      "model_name": "LayoutModel",
      "state": {}
     },
     "1504b5a257ca4b46bcc821547c122716": {
      "model_module": "@jupyter-widgets/base",
      "model_module_version": "1.2.0",
      "model_name": "LayoutModel",
      "state": {}
     },
     "151b07d3d1ca4d1fb409b6abd3940f01": {
      "model_module": "@jupyter-widgets/controls",
      "model_module_version": "1.5.0",
      "model_name": "ProgressStyleModel",
      "state": {
       "description_width": "initial"
      }
     },
     "1539b2497a244d7ab7cc168bb0507fe7": {
      "model_module": "@jupyter-widgets/controls",
      "model_module_version": "1.5.0",
      "model_name": "HTMLModel",
      "state": {
       "layout": "IPY_MODEL_1fe376d58bb642d8a1c3a152fb8eefd8",
       "style": "IPY_MODEL_7a9590d36ccc492a8a0df0da70689b2a",
       "value": " 589/589 [5:35:58&lt;00:00,  2.72it/s]"
      }
     },
     "1542af1cc3da46eeac730a9026c0ec7c": {
      "model_module": "@jupyter-widgets/base",
      "model_module_version": "1.2.0",
      "model_name": "LayoutModel",
      "state": {}
     },
     "158dd478216c405f80ba58ff7ffa7496": {
      "model_module": "@jupyter-widgets/controls",
      "model_module_version": "1.5.0",
      "model_name": "DescriptionStyleModel",
      "state": {
       "description_width": ""
      }
     },
     "15dddb3ebfd84208b2a0018b175d5b95": {
      "model_module": "@jupyter-widgets/controls",
      "model_module_version": "1.5.0",
      "model_name": "DescriptionStyleModel",
      "state": {
       "description_width": ""
      }
     },
     "15fa4806f64e4dcab36ad8a50ac1d730": {
      "model_module": "@jupyter-widgets/base",
      "model_module_version": "1.2.0",
      "model_name": "LayoutModel",
      "state": {}
     },
     "16712ae71923437d8796d531ebdbe998": {
      "model_module": "@jupyter-widgets/base",
      "model_module_version": "1.2.0",
      "model_name": "LayoutModel",
      "state": {}
     },
     "1676a8e2d7c94343be7a61592d6ac40a": {
      "model_module": "@jupyter-widgets/base",
      "model_module_version": "1.2.0",
      "model_name": "LayoutModel",
      "state": {}
     },
     "168223c6a8af49259ec6b17d4daeffe7": {
      "model_module": "@jupyter-widgets/controls",
      "model_module_version": "1.5.0",
      "model_name": "HTMLModel",
      "state": {
       "layout": "IPY_MODEL_bbc6c06fc27940959609743877011f19",
       "style": "IPY_MODEL_a24007a8e8184e368f1b37321f94888d",
       "value": " 74/74 [4:08:33&lt;00:00,  5.66it/s]"
      }
     },
     "16d59701ff384b2d898044ceca73f08b": {
      "model_module": "@jupyter-widgets/controls",
      "model_module_version": "1.5.0",
      "model_name": "HTMLModel",
      "state": {
       "layout": "IPY_MODEL_6775bc75f8ac420694e69defb4a53fc4",
       "style": "IPY_MODEL_cde1bdde111e4a87b9bd37fbd5913030",
       "value": " 74/74 [7:01:47&lt;00:00,  5.68it/s]"
      }
     },
     "16ddb05a65a94d0bb8874cd5c83812ba": {
      "model_module": "@jupyter-widgets/controls",
      "model_module_version": "1.5.0",
      "model_name": "ProgressStyleModel",
      "state": {
       "description_width": "initial"
      }
     },
     "16f3ef0e52934af581a32108ca14dc39": {
      "model_module": "@jupyter-widgets/controls",
      "model_module_version": "1.5.0",
      "model_name": "ProgressStyleModel",
      "state": {
       "description_width": "initial"
      }
     },
     "17051c842c0440b2810ac805da3f7248": {
      "model_module": "@jupyter-widgets/base",
      "model_module_version": "1.2.0",
      "model_name": "LayoutModel",
      "state": {}
     },
     "170b7805db844b8f994d211fe29de0bd": {
      "model_module": "@jupyter-widgets/controls",
      "model_module_version": "1.5.0",
      "model_name": "HTMLModel",
      "state": {
       "layout": "IPY_MODEL_e35f02c752a34a56a762c9b87a98e3f6",
       "style": "IPY_MODEL_9753231a61594250a5a4b1f3272f7042",
       "value": " 74/74 [6:34:31&lt;00:00,  5.61it/s]"
      }
     },
     "171a8364323b4fe8a53c1ea7d48494c7": {
      "model_module": "@jupyter-widgets/controls",
      "model_module_version": "1.5.0",
      "model_name": "DescriptionStyleModel",
      "state": {
       "description_width": ""
      }
     },
     "172d4afd1a164dda91fb20db69c2890b": {
      "model_module": "@jupyter-widgets/base",
      "model_module_version": "1.2.0",
      "model_name": "LayoutModel",
      "state": {}
     },
     "173e6729ee6749ce8b025ba0f21a10e4": {
      "model_module": "@jupyter-widgets/controls",
      "model_module_version": "1.5.0",
      "model_name": "ProgressStyleModel",
      "state": {
       "description_width": "initial"
      }
     },
     "17771a0a876e4ddbb9a1b8fe39f4350d": {
      "model_module": "@jupyter-widgets/controls",
      "model_module_version": "1.5.0",
      "model_name": "ProgressStyleModel",
      "state": {
       "description_width": "initial"
      }
     },
     "177f291eef1d424a9a9426ea0156b00c": {
      "model_module": "@jupyter-widgets/base",
      "model_module_version": "1.2.0",
      "model_name": "LayoutModel",
      "state": {}
     },
     "1787efb4fde549d49a1613a161ab1a98": {
      "model_module": "@jupyter-widgets/controls",
      "model_module_version": "1.5.0",
      "model_name": "FloatProgressModel",
      "state": {
       "description": "Train Epoch #3 - loss:   6.493: 100%",
       "layout": "IPY_MODEL_1bcc56be3460446baff1d41e1546435a",
       "max": 589,
       "style": "IPY_MODEL_a11fea4816bc4f52bb0be743182c427b",
       "value": 589
      }
     },
     "17d64c46c8ec4ecfb252471872eceb32": {
      "model_module": "@jupyter-widgets/base",
      "model_module_version": "1.2.0",
      "model_name": "LayoutModel",
      "state": {}
     },
     "17d7e3131e43422ab690b54375f359b0": {
      "model_module": "@jupyter-widgets/controls",
      "model_module_version": "1.5.0",
      "model_name": "HTMLModel",
      "state": {
       "layout": "IPY_MODEL_254d624ab5094112a0c8076511c78c97",
       "style": "IPY_MODEL_eaf38e68143b451a9a3942bba3b7a79d",
       "value": " 589/589 [6:27:29&lt;00:00,  2.58it/s]"
      }
     },
     "17e377a91b43468982fa365b50d24725": {
      "model_module": "@jupyter-widgets/controls",
      "model_module_version": "1.5.0",
      "model_name": "HTMLModel",
      "state": {
       "layout": "IPY_MODEL_e11baf88bb08479b8da179ebf3de76ae",
       "style": "IPY_MODEL_83807df73e93473791304f807bd7ee03",
       "value": " 589/589 [3:37:25&lt;00:00,  2.29it/s]"
      }
     },
     "17eea5653cce473e9bb651128231d837": {
      "model_module": "@jupyter-widgets/controls",
      "model_module_version": "1.5.0",
      "model_name": "DescriptionStyleModel",
      "state": {
       "description_width": ""
      }
     },
     "180f0268be524dbb9c6ec73db4fa0b41": {
      "model_module": "@jupyter-widgets/controls",
      "model_module_version": "1.5.0",
      "model_name": "HBoxModel",
      "state": {
       "children": [
        "IPY_MODEL_a8828015552f4ff3948f2e3ba6f0c367",
        "IPY_MODEL_9190c35eae7f4ac48610c358865e56bd"
       ],
       "layout": "IPY_MODEL_d0eff4f786f544f5b261ae70db016561"
      }
     },
     "1814a370a0ec44b5a8e4db39e6034615": {
      "model_module": "@jupyter-widgets/controls",
      "model_module_version": "1.5.0",
      "model_name": "HBoxModel",
      "state": {
       "children": [
        "IPY_MODEL_43a2fd25736d40049b71221d9d28ae52",
        "IPY_MODEL_f5583dc8ac6547daa681f6a67a84d762"
       ],
       "layout": "IPY_MODEL_1b5d9ce559ce42be850a60210be4ed6b"
      }
     },
     "1836f4f7a7474f7bae0d611cf82141ce": {
      "model_module": "@jupyter-widgets/controls",
      "model_module_version": "1.5.0",
      "model_name": "DescriptionStyleModel",
      "state": {
       "description_width": ""
      }
     },
     "183a1377568749948237863a8412d95f": {
      "model_module": "@jupyter-widgets/controls",
      "model_module_version": "1.5.0",
      "model_name": "ProgressStyleModel",
      "state": {
       "description_width": "initial"
      }
     },
     "184430aa3ae540e0ab999db5a9ea579d": {
      "model_module": "@jupyter-widgets/base",
      "model_module_version": "1.2.0",
      "model_name": "LayoutModel",
      "state": {}
     },
     "186283ef28464313b46ab6905b1e75da": {
      "model_module": "@jupyter-widgets/base",
      "model_module_version": "1.2.0",
      "model_name": "LayoutModel",
      "state": {}
     },
     "1897ebcc0f4f4b8db026172cfb940fed": {
      "model_module": "@jupyter-widgets/base",
      "model_module_version": "1.2.0",
      "model_name": "LayoutModel",
      "state": {}
     },
     "1899a3a09b62434e81a9f384bc16e230": {
      "model_module": "@jupyter-widgets/controls",
      "model_module_version": "1.5.0",
      "model_name": "ProgressStyleModel",
      "state": {
       "description_width": "initial"
      }
     },
     "189ab060f7444d15b398b8f0940ed592": {
      "model_module": "@jupyter-widgets/base",
      "model_module_version": "1.2.0",
      "model_name": "LayoutModel",
      "state": {}
     },
     "18a18babb8fb44dda848d67224039c7b": {
      "model_module": "@jupyter-widgets/controls",
      "model_module_version": "1.5.0",
      "model_name": "FloatProgressModel",
      "state": {
       "description": "Val Epoch #0 - loss:   9.124: 100%",
       "layout": "IPY_MODEL_bd9fa18b9f9a4b7abb7c81f2c579875c",
       "max": 74,
       "style": "IPY_MODEL_c2378734340e4583871be0a8aac7ed1a",
       "value": 74
      }
     },
     "18baf9d4377a4eda8ee820957f3f06a2": {
      "model_module": "@jupyter-widgets/base",
      "model_module_version": "1.2.0",
      "model_name": "LayoutModel",
      "state": {}
     },
     "192a2b73734f4414a553a2811342489e": {
      "model_module": "@jupyter-widgets/base",
      "model_module_version": "1.2.0",
      "model_name": "LayoutModel",
      "state": {}
     },
     "1961a82a2c00409497f6c81c5812102a": {
      "model_module": "@jupyter-widgets/controls",
      "model_module_version": "1.5.0",
      "model_name": "FloatProgressModel",
      "state": {
       "description": "Val Epoch #63 - loss:   8.181: 100%",
       "layout": "IPY_MODEL_b55c18167f6148e7b3f8fc99934101ef",
       "max": 74,
       "style": "IPY_MODEL_7662636c2e3140879fdeaa85589e73f2",
       "value": 74
      }
     },
     "19b6f50ea9c8467292d76b8f0d5d2cd3": {
      "model_module": "@jupyter-widgets/base",
      "model_module_version": "1.2.0",
      "model_name": "LayoutModel",
      "state": {}
     },
     "19f727273eb84939a45e0f4f38dc28a8": {
      "model_module": "@jupyter-widgets/controls",
      "model_module_version": "1.5.0",
      "model_name": "ProgressStyleModel",
      "state": {
       "description_width": "initial"
      }
     },
     "1a1d9fd8b52c4f86b0b5a0e1139cf250": {
      "model_module": "@jupyter-widgets/base",
      "model_module_version": "1.2.0",
      "model_name": "LayoutModel",
      "state": {}
     },
     "1a35091ce69442108adaa4699ffcb055": {
      "model_module": "@jupyter-widgets/controls",
      "model_module_version": "1.5.0",
      "model_name": "HTMLModel",
      "state": {
       "layout": "IPY_MODEL_18baf9d4377a4eda8ee820957f3f06a2",
       "style": "IPY_MODEL_15dddb3ebfd84208b2a0018b175d5b95",
       "value": " 589/589 [1:32:12&lt;00:00,  2.14it/s]"
      }
     },
     "1a69e6371aab4665a1416ddfd9a4b6e1": {
      "model_module": "@jupyter-widgets/base",
      "model_module_version": "1.2.0",
      "model_name": "LayoutModel",
      "state": {}
     },
     "1a95785fc2d44e5aa1cc14338f679caa": {
      "model_module": "@jupyter-widgets/base",
      "model_module_version": "1.2.0",
      "model_name": "LayoutModel",
      "state": {}
     },
     "1a9b2e76338648f4a7dedb772a29729d": {
      "model_module": "@jupyter-widgets/base",
      "model_module_version": "1.2.0",
      "model_name": "LayoutModel",
      "state": {}
     },
     "1a9d93122fe34384b7f6130308b4db7f": {
      "model_module": "@jupyter-widgets/controls",
      "model_module_version": "1.5.0",
      "model_name": "FloatProgressModel",
      "state": {
       "description": "Val Epoch #82 - loss:   8.578: 100%",
       "layout": "IPY_MODEL_786da688b2bd48999b2fae7c0dd93868",
       "max": 74,
       "style": "IPY_MODEL_b6661b49210b4e4b9bf8947ff6544c09",
       "value": 74
      }
     },
     "1aa71509a0a04d50bbec9ba2c13275a1": {
      "model_module": "@jupyter-widgets/controls",
      "model_module_version": "1.5.0",
      "model_name": "HTMLModel",
      "state": {
       "layout": "IPY_MODEL_88c3b0b2df3e4393887e82237160411e",
       "style": "IPY_MODEL_40bc627f41834b5485cbeab832b170df",
       "value": " 74/74 [5:42:21&lt;00:00,  5.66it/s]"
      }
     },
     "1acaa08ccd1d4b998961e4139c11d8d5": {
      "model_module": "@jupyter-widgets/base",
      "model_module_version": "1.2.0",
      "model_name": "LayoutModel",
      "state": {}
     },
     "1ad9c059f3b442c98f0d4d409ad72ac3": {
      "model_module": "@jupyter-widgets/base",
      "model_module_version": "1.2.0",
      "model_name": "LayoutModel",
      "state": {}
     },
     "1ae2ebe1a2e249bfab8a7478dfc71e83": {
      "model_module": "@jupyter-widgets/controls",
      "model_module_version": "1.5.0",
      "model_name": "HBoxModel",
      "state": {
       "children": [
        "IPY_MODEL_f1181c89801147b38d6f3e82ca038256",
        "IPY_MODEL_b8747f4f477b4f6d914271b20fd56a74"
       ],
       "layout": "IPY_MODEL_e764cb5a92ef4e9ca75bd48301f8476f"
      }
     },
     "1b13aae48300444a96ac87c8cd28ed62": {
      "model_module": "@jupyter-widgets/controls",
      "model_module_version": "1.5.0",
      "model_name": "FloatProgressModel",
      "state": {
       "description": "Train Epoch #25 - loss:   3.827: 100%",
       "layout": "IPY_MODEL_37827bc640a94a03b74a969ddff9c7e7",
       "max": 589,
       "style": "IPY_MODEL_fab5047ffc7448aca7fce8fddfaf0c09",
       "value": 589
      }
     },
     "1b165458641b4e70a8fd4e71bc6ea30f": {
      "model_module": "@jupyter-widgets/base",
      "model_module_version": "1.2.0",
      "model_name": "LayoutModel",
      "state": {}
     },
     "1b24e3f4a46f47aca2eacf5055c5a541": {
      "model_module": "@jupyter-widgets/controls",
      "model_module_version": "1.5.0",
      "model_name": "HTMLModel",
      "state": {
       "layout": "IPY_MODEL_6bf24283154549adaa2f8ad35035c9e1",
       "style": "IPY_MODEL_648e01ce051a4855ba9d8aa52592ff1b",
       "value": " 74/74 [5:20:13&lt;00:00,  5.97it/s]"
      }
     },
     "1b46413e2b0a4ed9b4ef190f1874dcff": {
      "model_module": "@jupyter-widgets/controls",
      "model_module_version": "1.5.0",
      "model_name": "DescriptionStyleModel",
      "state": {
       "description_width": ""
      }
     },
     "1b4fb35ff86e4316bfa6029cfe1113a0": {
      "model_module": "@jupyter-widgets/controls",
      "model_module_version": "1.5.0",
      "model_name": "ProgressStyleModel",
      "state": {
       "description_width": "initial"
      }
     },
     "1b5d9ce559ce42be850a60210be4ed6b": {
      "model_module": "@jupyter-widgets/base",
      "model_module_version": "1.2.0",
      "model_name": "LayoutModel",
      "state": {}
     },
     "1b6f1eefccd24d32b85c14a54d62678e": {
      "model_module": "@jupyter-widgets/controls",
      "model_module_version": "1.5.0",
      "model_name": "DescriptionStyleModel",
      "state": {
       "description_width": ""
      }
     },
     "1b863b524d9a45f9b0798e0df9798e82": {
      "model_module": "@jupyter-widgets/base",
      "model_module_version": "1.2.0",
      "model_name": "LayoutModel",
      "state": {}
     },
     "1ba7cf15f2984a6bb9370b9c0f8c4d65": {
      "model_module": "@jupyter-widgets/controls",
      "model_module_version": "1.5.0",
      "model_name": "FloatProgressModel",
      "state": {
       "description": "Val Epoch #2 - loss:   8.273: 100%",
       "layout": "IPY_MODEL_72b2fd87115f4134a345e159758d3b84",
       "max": 74,
       "style": "IPY_MODEL_881111f7dbb146b5ac0e3e2431065772",
       "value": 74
      }
     },
     "1bbf56c4decb47c1abe7c565b2bfaad1": {
      "model_module": "@jupyter-widgets/controls",
      "model_module_version": "1.5.0",
      "model_name": "ProgressStyleModel",
      "state": {
       "description_width": "initial"
      }
     },
     "1bcc56be3460446baff1d41e1546435a": {
      "model_module": "@jupyter-widgets/base",
      "model_module_version": "1.2.0",
      "model_name": "LayoutModel",
      "state": {}
     },
     "1c025b03225f4d9499e5e4ec7796184e": {
      "model_module": "@jupyter-widgets/base",
      "model_module_version": "1.2.0",
      "model_name": "LayoutModel",
      "state": {}
     },
     "1c162b4e5e4a4af492f1452ba778df3a": {
      "model_module": "@jupyter-widgets/base",
      "model_module_version": "1.2.0",
      "model_name": "LayoutModel",
      "state": {}
     },
     "1c1696e979174229aa9174423fb9367f": {
      "model_module": "@jupyter-widgets/base",
      "model_module_version": "1.2.0",
      "model_name": "LayoutModel",
      "state": {}
     },
     "1c40870b12844237ae4fa15f8fe3d1bf": {
      "model_module": "@jupyter-widgets/controls",
      "model_module_version": "1.5.0",
      "model_name": "HBoxModel",
      "state": {
       "children": [
        "IPY_MODEL_a7ef125e35a544e28ef8f20c75b582e6",
        "IPY_MODEL_274bf23db51246e69665a86ca6125576"
       ],
       "layout": "IPY_MODEL_80aaaadf1d4346f4a302ed00d6f78a19"
      }
     },
     "1c6b45ecabe0476e8ee0ac443dbc1c12": {
      "model_module": "@jupyter-widgets/base",
      "model_module_version": "1.2.0",
      "model_name": "LayoutModel",
      "state": {}
     },
     "1ca74973edc34ac3afd70e4245d0228b": {
      "model_module": "@jupyter-widgets/controls",
      "model_module_version": "1.5.0",
      "model_name": "HTMLModel",
      "state": {
       "layout": "IPY_MODEL_0a869dcf79fe40e3bcab5bd137158e86",
       "style": "IPY_MODEL_3e35864a378c4317ba8dedbb63d79954",
       "value": " 74/74 [1:19:40&lt;00:00,  5.13it/s]"
      }
     },
     "1ce211fe9a69470dbcd8e56433e92efa": {
      "model_module": "@jupyter-widgets/base",
      "model_module_version": "1.2.0",
      "model_name": "LayoutModel",
      "state": {}
     },
     "1ce7a1d0ebec4b58a1df974f7f750468": {
      "model_module": "@jupyter-widgets/base",
      "model_module_version": "1.2.0",
      "model_name": "LayoutModel",
      "state": {}
     },
     "1cfead26cc984f6fb8e05a21c31bb742": {
      "model_module": "@jupyter-widgets/controls",
      "model_module_version": "1.5.0",
      "model_name": "DescriptionStyleModel",
      "state": {
       "description_width": ""
      }
     },
     "1d2ce1967536403d88ed9f4b4d989dfb": {
      "model_module": "@jupyter-widgets/controls",
      "model_module_version": "1.5.0",
      "model_name": "HBoxModel",
      "state": {
       "children": [
        "IPY_MODEL_382e137e724a4f729e3f57e3127deabd",
        "IPY_MODEL_17d7e3131e43422ab690b54375f359b0"
       ],
       "layout": "IPY_MODEL_d5a65e090dfc4bbe9cc2a6be9ec1072a"
      }
     },
     "1d45c5c449a9443f917856e923860f2f": {
      "model_module": "@jupyter-widgets/controls",
      "model_module_version": "1.5.0",
      "model_name": "DescriptionStyleModel",
      "state": {
       "description_width": ""
      }
     },
     "1d549603516944cbbd5beb9d9f95901e": {
      "model_module": "@jupyter-widgets/controls",
      "model_module_version": "1.5.0",
      "model_name": "HBoxModel",
      "state": {
       "children": [
        "IPY_MODEL_f436248a913e4d418d1feb4c86ab1b26",
        "IPY_MODEL_9aaae4b48b5346cb9c886beebaaa2456"
       ],
       "layout": "IPY_MODEL_be9d750c396e44aca774aa98cf93115d"
      }
     },
     "1d646d9643e74779a1d5cffa54d47c1c": {
      "model_module": "@jupyter-widgets/base",
      "model_module_version": "1.2.0",
      "model_name": "LayoutModel",
      "state": {}
     },
     "1d79444cb60c48e3998a6c901e754a7c": {
      "model_module": "@jupyter-widgets/controls",
      "model_module_version": "1.5.0",
      "model_name": "FloatProgressModel",
      "state": {
       "description": "Val Epoch #11 - loss:    6.86: 100%",
       "layout": "IPY_MODEL_6e2af48862aa41669f5f0162581dd46b",
       "max": 74,
       "style": "IPY_MODEL_f5bc3bf8e0cb49c8a8c53e5bf792ab9c",
       "value": 74
      }
     },
     "1db4de2818be4508a3789567f60c2a6a": {
      "model_module": "@jupyter-widgets/controls",
      "model_module_version": "1.5.0",
      "model_name": "ProgressStyleModel",
      "state": {
       "description_width": "initial"
      }
     },
     "1db53fff57734bd3be282085de309f93": {
      "model_module": "@jupyter-widgets/base",
      "model_module_version": "1.2.0",
      "model_name": "LayoutModel",
      "state": {}
     },
     "1dc63bb7d9f444bb8785962ff2a1d47b": {
      "model_module": "@jupyter-widgets/base",
      "model_module_version": "1.2.0",
      "model_name": "LayoutModel",
      "state": {}
     },
     "1de99b96aeec445cb150f7c3613ecea1": {
      "model_module": "@jupyter-widgets/controls",
      "model_module_version": "1.5.0",
      "model_name": "FloatProgressModel",
      "state": {
       "description": "Val Epoch #49 - loss:   7.804: 100%",
       "layout": "IPY_MODEL_8d91bc9c7a884cb78f193d6b05735722",
       "max": 74,
       "style": "IPY_MODEL_f6dc77664ab74f86977e15b9a2a3425e",
       "value": 74
      }
     },
     "1e01ec5c85b34a038a1dc6d1d35acbbe": {
      "model_module": "@jupyter-widgets/controls",
      "model_module_version": "1.5.0",
      "model_name": "FloatProgressModel",
      "state": {
       "description": "Train Epoch #75 - loss:   1.448: 100%",
       "layout": "IPY_MODEL_5ca09d76a73c4bb7b5a9e6b8bb437e02",
       "max": 589,
       "style": "IPY_MODEL_8876fddb99ad4f85a7fbcd1854532afb",
       "value": 589
      }
     },
     "1e08604bbd7b49eaba1547362a2b9866": {
      "model_module": "@jupyter-widgets/controls",
      "model_module_version": "1.5.0",
      "model_name": "HBoxModel",
      "state": {
       "children": [
        "IPY_MODEL_0d4bc7292fe74266b0f1ec84c7043ace",
        "IPY_MODEL_05bd9bb0f0c24cc0948b661a2139d87c"
       ],
       "layout": "IPY_MODEL_48b46b74fbaa48719d280583a757f2d8"
      }
     },
     "1e30132733cb4936bdcb421ccacf03da": {
      "model_module": "@jupyter-widgets/controls",
      "model_module_version": "1.5.0",
      "model_name": "ProgressStyleModel",
      "state": {
       "description_width": "initial"
      }
     },
     "1e442475f53649f6a704c5f8de1b4dd6": {
      "model_module": "@jupyter-widgets/base",
      "model_module_version": "1.2.0",
      "model_name": "LayoutModel",
      "state": {}
     },
     "1e44274fc84f40909dce3a1503012eb5": {
      "model_module": "@jupyter-widgets/base",
      "model_module_version": "1.2.0",
      "model_name": "LayoutModel",
      "state": {}
     },
     "1e471fd6fe754c20be8c1a1384473220": {
      "model_module": "@jupyter-widgets/controls",
      "model_module_version": "1.5.0",
      "model_name": "FloatProgressModel",
      "state": {
       "description": "Val Epoch #1 - loss:   9.424: 100%",
       "layout": "IPY_MODEL_8dd2a86bda354d0caf5222a882fedee1",
       "max": 74,
       "style": "IPY_MODEL_03d95993d1694976a4644e6dd6f66959",
       "value": 74
      }
     },
     "1e4addab77e640359c6234c075dac51e": {
      "model_module": "@jupyter-widgets/base",
      "model_module_version": "1.2.0",
      "model_name": "LayoutModel",
      "state": {}
     },
     "1e5cf46320dc4ad4b0039e7bbef639ba": {
      "model_module": "@jupyter-widgets/controls",
      "model_module_version": "1.5.0",
      "model_name": "HBoxModel",
      "state": {
       "children": [
        "IPY_MODEL_8f6c57c0594149669241911a01f187a2",
        "IPY_MODEL_2dd6cf0cf0ec4d0bbdc057519457374f"
       ],
       "layout": "IPY_MODEL_dfb145d4c5114421b2304b2274aef3cd"
      }
     },
     "1e828677d8fe43208eeb9af21daa88ee": {
      "model_module": "@jupyter-widgets/base",
      "model_module_version": "1.2.0",
      "model_name": "LayoutModel",
      "state": {}
     },
     "1e9fdf29c57b472b901f83bf32e1f4dd": {
      "model_module": "@jupyter-widgets/base",
      "model_module_version": "1.2.0",
      "model_name": "LayoutModel",
      "state": {}
     },
     "1eada084dd7a47368e2b6c7e37ae6e0c": {
      "model_module": "@jupyter-widgets/controls",
      "model_module_version": "1.5.0",
      "model_name": "ProgressStyleModel",
      "state": {
       "description_width": "initial"
      }
     },
     "1ecd61abc660429b8d411de0be805d1c": {
      "model_module": "@jupyter-widgets/controls",
      "model_module_version": "1.5.0",
      "model_name": "HTMLModel",
      "state": {
       "layout": "IPY_MODEL_4044664eb69c403eb2f0d06033349de9",
       "style": "IPY_MODEL_e780a5f33bbe4cb39f50183137a648c6",
       "value": " 74/74 [4:30:51&lt;00:00,  5.87it/s]"
      }
     },
     "1ef4d570a4434dfab3fc667987d96bef": {
      "model_module": "@jupyter-widgets/controls",
      "model_module_version": "1.5.0",
      "model_name": "FloatProgressModel",
      "state": {
       "description": "Val Epoch #4 - loss:   7.811: 100%",
       "layout": "IPY_MODEL_eede02b2612e4b82985d79300274cd37",
       "max": 74,
       "style": "IPY_MODEL_703952eee17f48e2bf7506b7c9ead500",
       "value": 74
      }
     },
     "1f356b4deb92414bbb0d8b74264a048e": {
      "model_module": "@jupyter-widgets/base",
      "model_module_version": "1.2.0",
      "model_name": "LayoutModel",
      "state": {}
     },
     "1f58526de96c4de4b542ac2f8341e96f": {
      "model_module": "@jupyter-widgets/controls",
      "model_module_version": "1.5.0",
      "model_name": "FloatProgressModel",
      "state": {
       "description": "Train Epoch #77 - loss:   1.424: 100%",
       "layout": "IPY_MODEL_35e3c87044f045749f988129fe617c38",
       "max": 589,
       "style": "IPY_MODEL_21f1b68663b7426ca004e0fc9880f826",
       "value": 589
      }
     },
     "1f7f66e354e24921ab86535bf74c7bdd": {
      "model_module": "@jupyter-widgets/controls",
      "model_module_version": "1.5.0",
      "model_name": "HBoxModel",
      "state": {
       "children": [
        "IPY_MODEL_2e176d3db4844dc08b9a6b9e894a92c6",
        "IPY_MODEL_f502c6bf1feb4b15b9729168c1f009b8"
       ],
       "layout": "IPY_MODEL_5161eecaef594eb196b80e68c13ca10f"
      }
     },
     "1f831c84927e47a988e8c624980d4392": {
      "model_module": "@jupyter-widgets/base",
      "model_module_version": "1.2.0",
      "model_name": "LayoutModel",
      "state": {}
     },
     "1f9efcb6313142249660f77ebfb9a4de": {
      "model_module": "@jupyter-widgets/controls",
      "model_module_version": "1.5.0",
      "model_name": "FloatProgressModel",
      "state": {
       "description": "Train Epoch #2 - loss:   6.644: 100%",
       "layout": "IPY_MODEL_d9ff1913f5d04780ae2e4f259153f6cf",
       "max": 589,
       "style": "IPY_MODEL_1484dca344b54694b6b099270da1e99c",
       "value": 589
      }
     },
     "1fb169b1deb94cbea5ef07b9c284a6c9": {
      "model_module": "@jupyter-widgets/base",
      "model_module_version": "1.2.0",
      "model_name": "LayoutModel",
      "state": {}
     },
     "1fb172c8d42341768e8dfb5dacba664f": {
      "model_module": "@jupyter-widgets/base",
      "model_module_version": "1.2.0",
      "model_name": "LayoutModel",
      "state": {}
     },
     "1fcfc83255ad44c1a6d0905b7ee3c56a": {
      "model_module": "@jupyter-widgets/controls",
      "model_module_version": "1.5.0",
      "model_name": "ProgressStyleModel",
      "state": {
       "description_width": "initial"
      }
     },
     "1fde01a835a441a68fd381d36cdc7f21": {
      "model_module": "@jupyter-widgets/controls",
      "model_module_version": "1.5.0",
      "model_name": "FloatProgressModel",
      "state": {
       "description": "Train Epoch #0 - loss:   7.385: 100%",
       "layout": "IPY_MODEL_e52108416fdb481da0e07a4869ca08bb",
       "max": 589,
       "style": "IPY_MODEL_ad5d890d367d46c69c7b60c40b246d92",
       "value": 589
      }
     },
     "1fe376d58bb642d8a1c3a152fb8eefd8": {
      "model_module": "@jupyter-widgets/base",
      "model_module_version": "1.2.0",
      "model_name": "LayoutModel",
      "state": {}
     },
     "1ff0366da6f9453daa51f9ec03695bef": {
      "model_module": "@jupyter-widgets/controls",
      "model_module_version": "1.5.0",
      "model_name": "ProgressStyleModel",
      "state": {
       "description_width": "initial"
      }
     },
     "1ff9f20f06b5488f81c2472f6618c9b8": {
      "model_module": "@jupyter-widgets/base",
      "model_module_version": "1.2.0",
      "model_name": "LayoutModel",
      "state": {}
     },
     "1ffa0a3024f64f9280f539c2e271e553": {
      "model_module": "@jupyter-widgets/controls",
      "model_module_version": "1.5.0",
      "model_name": "ProgressStyleModel",
      "state": {
       "description_width": "initial"
      }
     },
     "202a7d32338841fa83f69c5dfcfdca5f": {
      "model_module": "@jupyter-widgets/controls",
      "model_module_version": "1.5.0",
      "model_name": "HBoxModel",
      "state": {
       "children": [
        "IPY_MODEL_5f1628fd87564d069f2ac11e4dd8a818",
        "IPY_MODEL_2d12c0f903b84b1da0ceda70fcd40048"
       ],
       "layout": "IPY_MODEL_4ddd32cbf5c84cb8aa39bd0cd88a240f"
      }
     },
     "202b01b0f7b44053ae1833e18fbf11d3": {
      "model_module": "@jupyter-widgets/controls",
      "model_module_version": "1.5.0",
      "model_name": "DescriptionStyleModel",
      "state": {
       "description_width": ""
      }
     },
     "204c178511a443d4871764c56a9832d7": {
      "model_module": "@jupyter-widgets/controls",
      "model_module_version": "1.5.0",
      "model_name": "HTMLModel",
      "state": {
       "layout": "IPY_MODEL_59086bef58104890b7a9b921a7a86fff",
       "style": "IPY_MODEL_dc5764a4e3ff433a80492d2fff7b6274",
       "value": " 74/74 [1:53:33&lt;00:00,  5.45it/s]"
      }
     },
     "204ef29d7ee54f4f9bdc5cca45a1f831": {
      "model_module": "@jupyter-widgets/controls",
      "model_module_version": "1.5.0",
      "model_name": "DescriptionStyleModel",
      "state": {
       "description_width": ""
      }
     },
     "206235664b2c4bea8ec6d3b0f00c8026": {
      "model_module": "@jupyter-widgets/controls",
      "model_module_version": "1.5.0",
      "model_name": "HTMLModel",
      "state": {
       "layout": "IPY_MODEL_d85252bba169420e814501c520eee318",
       "style": "IPY_MODEL_b9b82e7647294bd8b7cfa51144a93c3d",
       "value": " 589/589 [4:37:55&lt;00:00,  2.50it/s]"
      }
     },
     "2065c4b4e9cf4307ac306b3034340b47": {
      "model_module": "@jupyter-widgets/controls",
      "model_module_version": "1.5.0",
      "model_name": "HBoxModel",
      "state": {
       "children": [
        "IPY_MODEL_6226918402954df9a228d8ccf27b1085",
        "IPY_MODEL_2fbd676f6f9b4375b7665ddd139da754"
       ],
       "layout": "IPY_MODEL_cf0f7ae198f1425896c2f5ef0ab32f58"
      }
     },
     "2071665ff77246068f23b6f79bb4d66e": {
      "model_module": "@jupyter-widgets/base",
      "model_module_version": "1.2.0",
      "model_name": "LayoutModel",
      "state": {}
     },
     "20a8daf8ed9a42419144bc097ca520cf": {
      "model_module": "@jupyter-widgets/controls",
      "model_module_version": "1.5.0",
      "model_name": "HTMLModel",
      "state": {
       "layout": "IPY_MODEL_3656a18ec90a435ebaec98ede4cb2feb",
       "style": "IPY_MODEL_d8c30d2ac7254602bb7f7f284d14ccd1",
       "value": " 589/589 [1:57:35&lt;00:00,  2.06it/s]"
      }
     },
     "20a9bf37858e44deaf3cdb0afc280ddc": {
      "model_module": "@jupyter-widgets/base",
      "model_module_version": "1.2.0",
      "model_name": "LayoutModel",
      "state": {}
     },
     "20ac54f94819450685cbfda1578b5079": {
      "model_module": "@jupyter-widgets/base",
      "model_module_version": "1.2.0",
      "model_name": "LayoutModel",
      "state": {}
     },
     "20d73b73f2d249ea8bd196fce14d4b84": {
      "model_module": "@jupyter-widgets/controls",
      "model_module_version": "1.5.0",
      "model_name": "DescriptionStyleModel",
      "state": {
       "description_width": ""
      }
     },
     "20f35ed5ae714f40a22a6f22ddc84a12": {
      "model_module": "@jupyter-widgets/base",
      "model_module_version": "1.2.0",
      "model_name": "LayoutModel",
      "state": {}
     },
     "2128e49950d54ddc9f9eaa0890b7da36": {
      "model_module": "@jupyter-widgets/base",
      "model_module_version": "1.2.0",
      "model_name": "LayoutModel",
      "state": {}
     },
     "213ee906651f4a0a91dc4150e575f369": {
      "model_module": "@jupyter-widgets/base",
      "model_module_version": "1.2.0",
      "model_name": "LayoutModel",
      "state": {}
     },
     "2155c79699a144aea18565eb177df90b": {
      "model_module": "@jupyter-widgets/base",
      "model_module_version": "1.2.0",
      "model_name": "LayoutModel",
      "state": {}
     },
     "216f6044458c466abfaa6baefed693d9": {
      "model_module": "@jupyter-widgets/controls",
      "model_module_version": "1.5.0",
      "model_name": "FloatProgressModel",
      "state": {
       "description": "Train Epoch #54 - loss:   1.842: 100%",
       "layout": "IPY_MODEL_2d4d89b961d04f179c058582a16f9374",
       "max": 589,
       "style": "IPY_MODEL_d6ab0dbe57414db9972ee86207dc33c2",
       "value": 589
      }
     },
     "2177534bf23a476283b7c88d11610e4c": {
      "model_module": "@jupyter-widgets/base",
      "model_module_version": "1.2.0",
      "model_name": "LayoutModel",
      "state": {}
     },
     "21847ec7e2b644af8b72088ff707fdee": {
      "model_module": "@jupyter-widgets/controls",
      "model_module_version": "1.5.0",
      "model_name": "HTMLModel",
      "state": {
       "layout": "IPY_MODEL_817db1ff79a54fe9969c39204f3c4448",
       "style": "IPY_MODEL_71b6fe8afd144528848f75ff51bc4ebc",
       "value": " 74/74 [3:49:25&lt;00:00,  5.28it/s]"
      }
     },
     "2188d11f20894bf1a023437e8856160c": {
      "model_module": "@jupyter-widgets/controls",
      "model_module_version": "1.5.0",
      "model_name": "ProgressStyleModel",
      "state": {
       "description_width": "initial"
      }
     },
     "21f1b68663b7426ca004e0fc9880f826": {
      "model_module": "@jupyter-widgets/controls",
      "model_module_version": "1.5.0",
      "model_name": "ProgressStyleModel",
      "state": {
       "description_width": "initial"
      }
     },
     "21fe34db13a5442bbc6bb3238d5bf909": {
      "model_module": "@jupyter-widgets/controls",
      "model_module_version": "1.5.0",
      "model_name": "HTMLModel",
      "state": {
       "layout": "IPY_MODEL_5556cd63c5c54319ad7654d3a6831535",
       "style": "IPY_MODEL_fc848555d9584f65b8f4aca92744fd70",
       "value": " 74/74 [4:04:46&lt;00:00,  5.34it/s]"
      }
     },
     "2205b87d67824cfbbc1be47d1c4b955c": {
      "model_module": "@jupyter-widgets/controls",
      "model_module_version": "1.5.0",
      "model_name": "HTMLModel",
      "state": {
       "layout": "IPY_MODEL_e41a75f01c224234b875cf280dc26d48",
       "style": "IPY_MODEL_af22f8cd950b48fe84c943398399c16e",
       "value": " 74/74 [1:23:58&lt;00:00,  5.55it/s]"
      }
     },
     "2208625a8bf44b5995a213d0913e1309": {
      "model_module": "@jupyter-widgets/base",
      "model_module_version": "1.2.0",
      "model_name": "LayoutModel",
      "state": {}
     },
     "22198061d17243cfbf55afe7f2dd12c3": {
      "model_module": "@jupyter-widgets/controls",
      "model_module_version": "1.5.0",
      "model_name": "HBoxModel",
      "state": {
       "children": [
        "IPY_MODEL_c421a8ac9e1f41afacc28940c8a0302c",
        "IPY_MODEL_c906eae195a344e0b09481977b07ead9"
       ],
       "layout": "IPY_MODEL_0852d555585945009a30e0330ba94d1a"
      }
     },
     "221c0d96f1c54705818a3c3503619b14": {
      "model_module": "@jupyter-widgets/base",
      "model_module_version": "1.2.0",
      "model_name": "LayoutModel",
      "state": {}
     },
     "22213eccb57e451fbc2a1d52a909dbf1": {
      "model_module": "@jupyter-widgets/controls",
      "model_module_version": "1.5.0",
      "model_name": "FloatProgressModel",
      "state": {
       "description": "Val Epoch #8 - loss:   7.117: 100%",
       "layout": "IPY_MODEL_1b165458641b4e70a8fd4e71bc6ea30f",
       "max": 74,
       "style": "IPY_MODEL_33bddd91fd4b47998165c2f9b10ef0c1",
       "value": 74
      }
     },
     "225a42283fb348d9b945987c0c1da5cc": {
      "model_module": "@jupyter-widgets/controls",
      "model_module_version": "1.5.0",
      "model_name": "HBoxModel",
      "state": {
       "children": [
        "IPY_MODEL_a441f26044ee4c178eabf852856fa721",
        "IPY_MODEL_8db7ab0313f14d51bba1bc5f26db3e1f"
       ],
       "layout": "IPY_MODEL_e95df7c8b6944488ad35ec96e04ed578"
      }
     },
     "22a400a47a474f8292e620fecc26429b": {
      "model_module": "@jupyter-widgets/base",
      "model_module_version": "1.2.0",
      "model_name": "LayoutModel",
      "state": {}
     },
     "22a9787fc5644ad8b68875ee982c7f34": {
      "model_module": "@jupyter-widgets/controls",
      "model_module_version": "1.5.0",
      "model_name": "ProgressStyleModel",
      "state": {
       "description_width": "initial"
      }
     },
     "22cc1e83bffa4a5c971e80bccbe9616d": {
      "model_module": "@jupyter-widgets/controls",
      "model_module_version": "1.5.0",
      "model_name": "HTMLModel",
      "state": {
       "layout": "IPY_MODEL_9090a2870a6845bd8d3540c5a65e8350",
       "style": "IPY_MODEL_2a4fd6bc8cb249c1aeeb6d38ad2e45ff",
       "value": " 589/589 [7:43:30&lt;00:00,  3.31it/s]"
      }
     },
     "22e0369354ad44d494149ed0fda92981": {
      "model_module": "@jupyter-widgets/base",
      "model_module_version": "1.2.0",
      "model_name": "LayoutModel",
      "state": {}
     },
     "2325ba8340ae463fa88b0ceb64c32b8f": {
      "model_module": "@jupyter-widgets/controls",
      "model_module_version": "1.5.0",
      "model_name": "HBoxModel",
      "state": {
       "children": [
        "IPY_MODEL_72ad1676da7341bb988e6948a9e6a3f6",
        "IPY_MODEL_ca661600f36344f6bdb7cef760c84400"
       ],
       "layout": "IPY_MODEL_c086a25fdfa84c6e9e1a4e03c57a59cd"
      }
     },
     "2328a2c5c1374d82a2c91a3e1c15e4a8": {
      "model_module": "@jupyter-widgets/controls",
      "model_module_version": "1.5.0",
      "model_name": "HTMLModel",
      "state": {
       "layout": "IPY_MODEL_77f690e7668049739c2307041dbdea51",
       "style": "IPY_MODEL_da0a191421ce41aa95c681114cfe03a2",
       "value": " 74/74 [4:48:56&lt;00:00,  5.50it/s]"
      }
     },
     "2333d0d998f448a1bd7fa603db31d816": {
      "model_module": "@jupyter-widgets/base",
      "model_module_version": "1.2.0",
      "model_name": "LayoutModel",
      "state": {}
     },
     "236e72d98b6f406087922d3058d78555": {
      "model_module": "@jupyter-widgets/controls",
      "model_module_version": "1.5.0",
      "model_name": "FloatProgressModel",
      "state": {
       "description": "Train Epoch #93 - loss:    1.31: 100%",
       "layout": "IPY_MODEL_b05b76702e014d0781470a8b2762a84d",
       "max": 589,
       "style": "IPY_MODEL_d636af84a0c84ff18a6ee948ea5437a1",
       "value": 589
      }
     },
     "239a1e07626b4b9eb31e3582cd48aa22": {
      "model_module": "@jupyter-widgets/controls",
      "model_module_version": "1.5.0",
      "model_name": "HTMLModel",
      "state": {
       "layout": "IPY_MODEL_d2183b67644b42c4a55961449166434f",
       "style": "IPY_MODEL_b674b70146364aa19b37c80865ec9621",
       "value": " 589/589 [7:31:33&lt;00:00,  3.07it/s]"
      }
     },
     "23baf69d3089441faea56b8c6a09ba80": {
      "model_module": "@jupyter-widgets/base",
      "model_module_version": "1.2.0",
      "model_name": "LayoutModel",
      "state": {}
     },
     "23e6265864cc42b1a3a4bf0979586198": {
      "model_module": "@jupyter-widgets/base",
      "model_module_version": "1.2.0",
      "model_name": "LayoutModel",
      "state": {}
     },
     "2434adec2739401f8bbbdf0b42d4c5e7": {
      "model_module": "@jupyter-widgets/controls",
      "model_module_version": "1.5.0",
      "model_name": "ProgressStyleModel",
      "state": {
       "description_width": "initial"
      }
     },
     "2444c15bf86e4880a87579a70ffcc226": {
      "model_module": "@jupyter-widgets/controls",
      "model_module_version": "1.5.0",
      "model_name": "HBoxModel",
      "state": {
       "children": [
        "IPY_MODEL_ecf28ee13a4b446c8e1f0731a10085ef",
        "IPY_MODEL_8b8c186600944fb78ba4a8aeb5aeddc1"
       ],
       "layout": "IPY_MODEL_c9e593f4f10a4919918a7fb15f179cf8"
      }
     },
     "2459a543b58e42b59c1d8509f493ed71": {
      "model_module": "@jupyter-widgets/controls",
      "model_module_version": "1.5.0",
      "model_name": "FloatProgressModel",
      "state": {
       "description": "Train Epoch #0 - loss:   1.493: 100%",
       "layout": "IPY_MODEL_70ed7d8515ee441e85c1eef84c6273cd",
       "max": 589,
       "style": "IPY_MODEL_e47e8a910d3d49998a8cfd88a5eb99a3",
       "value": 589
      }
     },
     "246b892f638a4714a6cd9120ae5b9ccc": {
      "model_module": "@jupyter-widgets/controls",
      "model_module_version": "1.5.0",
      "model_name": "ProgressStyleModel",
      "state": {
       "description_width": "initial"
      }
     },
     "24891c4f92af42b38fc87ac471fda18f": {
      "model_module": "@jupyter-widgets/controls",
      "model_module_version": "1.5.0",
      "model_name": "HTMLModel",
      "state": {
       "layout": "IPY_MODEL_8be49a370f044ca595b4c5002867a4ee",
       "style": "IPY_MODEL_09408a075ce34da9947a6e911012cb40",
       "value": " 589/589 [4:23:12&lt;00:00,  2.37it/s]"
      }
     },
     "2493f4a1d33e4c13ba9d1fdad36d071d": {
      "model_module": "@jupyter-widgets/base",
      "model_module_version": "1.2.0",
      "model_name": "LayoutModel",
      "state": {}
     },
     "24b940614d6247fd802beef2c39061f2": {
      "model_module": "@jupyter-widgets/base",
      "model_module_version": "1.2.0",
      "model_name": "LayoutModel",
      "state": {}
     },
     "24c75b01384d4e2a8ae50526fea0d0f9": {
      "model_module": "@jupyter-widgets/base",
      "model_module_version": "1.2.0",
      "model_name": "LayoutModel",
      "state": {}
     },
     "24cc9b03413c40c6aeab8f2eb70f2043": {
      "model_module": "@jupyter-widgets/base",
      "model_module_version": "1.2.0",
      "model_name": "LayoutModel",
      "state": {}
     },
     "2509308874dc4a42b2006833649d8481": {
      "model_module": "@jupyter-widgets/base",
      "model_module_version": "1.2.0",
      "model_name": "LayoutModel",
      "state": {}
     },
     "2532ebc76ad5405cbd6d0aceaa8784bf": {
      "model_module": "@jupyter-widgets/controls",
      "model_module_version": "1.5.0",
      "model_name": "HTMLModel",
      "state": {
       "layout": "IPY_MODEL_75b8b332307e46a8800e07bcab49c2ba",
       "style": "IPY_MODEL_93e4d300b2cc4b84a827f9ce901370c0",
       "value": " 74/74 [9:07:43&lt;00:00,  5.87it/s]"
      }
     },
     "2547de8bfe574e5ab0dcf746406052cb": {
      "model_module": "@jupyter-widgets/controls",
      "model_module_version": "1.5.0",
      "model_name": "HTMLModel",
      "state": {
       "layout": "IPY_MODEL_853e4b696ee6491b9e1ce1555756a211",
       "style": "IPY_MODEL_f6104511bbfd4c7f822bc9cab248cfee",
       "value": " 589/589 [8:11:48&lt;00:00,  3.64it/s]"
      }
     },
     "254d624ab5094112a0c8076511c78c97": {
      "model_module": "@jupyter-widgets/base",
      "model_module_version": "1.2.0",
      "model_name": "LayoutModel",
      "state": {}
     },
     "2557d012cab840feadc6f2bbb75cf259": {
      "model_module": "@jupyter-widgets/controls",
      "model_module_version": "1.5.0",
      "model_name": "FloatProgressModel",
      "state": {
       "description": "Train Epoch #53 - loss:   1.877: 100%",
       "layout": "IPY_MODEL_6f862bbb0c324e62bdd37eeee00f2a82",
       "max": 589,
       "style": "IPY_MODEL_afa620d66d98453dac4b06be02532a26",
       "value": 589
      }
     },
     "2598915d46754cfbaea619dd0630bcdd": {
      "model_module": "@jupyter-widgets/base",
      "model_module_version": "1.2.0",
      "model_name": "LayoutModel",
      "state": {}
     },
     "25a6f96f32974769bf78190b69f57762": {
      "model_module": "@jupyter-widgets/controls",
      "model_module_version": "1.5.0",
      "model_name": "DescriptionStyleModel",
      "state": {
       "description_width": ""
      }
     },
     "25b8d8bc5c9c4613ada0a3359c33fe0c": {
      "model_module": "@jupyter-widgets/base",
      "model_module_version": "1.2.0",
      "model_name": "LayoutModel",
      "state": {}
     },
     "25c1d6ed30264da688df526ae1738b99": {
      "model_module": "@jupyter-widgets/controls",
      "model_module_version": "1.5.0",
      "model_name": "HTMLModel",
      "state": {
       "layout": "IPY_MODEL_4dfc3742d58d455e8b2841fcc8d39baf",
       "style": "IPY_MODEL_20d73b73f2d249ea8bd196fce14d4b84",
       "value": " 74/74 [5:45:22&lt;00:00,  5.85it/s]"
      }
     },
     "25dd970427bd48a6ac97c7df5759dc66": {
      "model_module": "@jupyter-widgets/controls",
      "model_module_version": "1.5.0",
      "model_name": "HBoxModel",
      "state": {
       "children": [
        "IPY_MODEL_40d1cedce1024765be94d8124bdb4435",
        "IPY_MODEL_44b2b4d4198c43c7ac25e177cc245b72"
       ],
       "layout": "IPY_MODEL_379a261c662740fca04b53694a8a6e6b"
      }
     },
     "25e6626c401e4cb99833e4dd893cea93": {
      "model_module": "@jupyter-widgets/base",
      "model_module_version": "1.2.0",
      "model_name": "LayoutModel",
      "state": {}
     },
     "25fd953b2a65431381196321f130f157": {
      "model_module": "@jupyter-widgets/controls",
      "model_module_version": "1.5.0",
      "model_name": "FloatProgressModel",
      "state": {
       "description": "Train Epoch #92 - loss:   1.314: 100%",
       "layout": "IPY_MODEL_024219cb0e044b8191e60bee386506b6",
       "max": 589,
       "style": "IPY_MODEL_fdbfde06fbf647b2a10bb0405ef0cc9b",
       "value": 589
      }
     },
     "26077aedfb684c8d987d229fcaf7bcd2": {
      "model_module": "@jupyter-widgets/controls",
      "model_module_version": "1.5.0",
      "model_name": "FloatProgressModel",
      "state": {
       "description": "Train Epoch #41 - loss:    2.43: 100%",
       "layout": "IPY_MODEL_00bbb9f99e1446b3af391a0b3fb150b5",
       "max": 589,
       "style": "IPY_MODEL_6c8c2b0db8f2417cbc66c9bc4753d0d8",
       "value": 589
      }
     },
     "26393d0836b74be8964820d384660542": {
      "model_module": "@jupyter-widgets/controls",
      "model_module_version": "1.5.0",
      "model_name": "FloatProgressModel",
      "state": {
       "description": "Val Epoch #12 - loss:   7.311: 100%",
       "layout": "IPY_MODEL_eba2879a560546ffb2e6aed468641b05",
       "max": 74,
       "style": "IPY_MODEL_3bafc50ef01c4d9e95475a4de35ffff7",
       "value": 74
      }
     },
     "266c22c382ff4d50ab2b9f1031004ed2": {
      "model_module": "@jupyter-widgets/base",
      "model_module_version": "1.2.0",
      "model_name": "LayoutModel",
      "state": {}
     },
     "269285afe82d4588ae055480159a397c": {
      "model_module": "@jupyter-widgets/controls",
      "model_module_version": "1.5.0",
      "model_name": "HBoxModel",
      "state": {
       "children": [
        "IPY_MODEL_75a8ad49e37545f88682abfd29ca6da5",
        "IPY_MODEL_c4f74c6471bc46b79090197f05f72fae"
       ],
       "layout": "IPY_MODEL_00647f8a7f9b46bb85804a3917f4f2ca"
      }
     },
     "2693b91268734b73bee4edc85b74ca91": {
      "model_module": "@jupyter-widgets/base",
      "model_module_version": "1.2.0",
      "model_name": "LayoutModel",
      "state": {}
     },
     "26ab2e2e11bd4701ba01721681bf6726": {
      "model_module": "@jupyter-widgets/controls",
      "model_module_version": "1.5.0",
      "model_name": "HTMLModel",
      "state": {
       "layout": "IPY_MODEL_8b370a0bf1554c828e628b39ebc99f3f",
       "style": "IPY_MODEL_91e8667c49874c50ace94c97250966af",
       "value": " 589/589 [7:37:29&lt;00:00,  1.37it/s]"
      }
     },
     "26ca05993e844cc5a91366414a780ec0": {
      "model_module": "@jupyter-widgets/controls",
      "model_module_version": "1.5.0",
      "model_name": "HTMLModel",
      "state": {
       "layout": "IPY_MODEL_b2b9416d65254c35aea47f3e95f0b5f6",
       "style": "IPY_MODEL_d02c9107e8074eae8e522f1792044bdf",
       "value": " 589/589 [3:13:13&lt;00:00,  2.24it/s]"
      }
     },
     "2706b98685d048e48a2f7cb5ec800ff4": {
      "model_module": "@jupyter-widgets/base",
      "model_module_version": "1.2.0",
      "model_name": "LayoutModel",
      "state": {}
     },
     "2726bbb3861544ab9176c86a5ca1e9a1": {
      "model_module": "@jupyter-widgets/controls",
      "model_module_version": "1.5.0",
      "model_name": "FloatProgressModel",
      "state": {
       "description": "Val Epoch #25 - loss:   6.954: 100%",
       "layout": "IPY_MODEL_59d294b6c6be4d2bbdfbe0f89feec4d2",
       "max": 74,
       "style": "IPY_MODEL_ed30771cbd7d41229448be1f4b8752c2",
       "value": 74
      }
     },
     "2730ba1abbd445428f4f53c773ee7a23": {
      "model_module": "@jupyter-widgets/controls",
      "model_module_version": "1.5.0",
      "model_name": "DescriptionStyleModel",
      "state": {
       "description_width": ""
      }
     },
     "274bf23db51246e69665a86ca6125576": {
      "model_module": "@jupyter-widgets/controls",
      "model_module_version": "1.5.0",
      "model_name": "HTMLModel",
      "state": {
       "layout": "IPY_MODEL_e51f498c0b5a40ddba5a90a18afc8921",
       "style": "IPY_MODEL_b2a1b929a770485e9e55fe40affaf406",
       "value": " 74/74 [5:48:22&lt;00:00,  6.09it/s]"
      }
     },
     "2756dc65ccd445e2857d599abfd2afc4": {
      "model_module": "@jupyter-widgets/controls",
      "model_module_version": "1.5.0",
      "model_name": "DescriptionStyleModel",
      "state": {
       "description_width": ""
      }
     },
     "276fc2f8c1db4ac5984a31ba17eb96a8": {
      "model_module": "@jupyter-widgets/base",
      "model_module_version": "1.2.0",
      "model_name": "LayoutModel",
      "state": {}
     },
     "277374b9027f4272b48ef575c3856cea": {
      "model_module": "@jupyter-widgets/base",
      "model_module_version": "1.2.0",
      "model_name": "LayoutModel",
      "state": {}
     },
     "2795f6a05ebe4af589951cb3138b001a": {
      "model_module": "@jupyter-widgets/controls",
      "model_module_version": "1.5.0",
      "model_name": "HBoxModel",
      "state": {
       "children": [
        "IPY_MODEL_f066daa0aed1490296f017004ef961ef",
        "IPY_MODEL_3319a63da5de4c47baf482cd0bb437e5"
       ],
       "layout": "IPY_MODEL_d7710656ad004c50a79debe2a4e4ebba"
      }
     },
     "27a46105cef541b8b71431df9acf6237": {
      "model_module": "@jupyter-widgets/base",
      "model_module_version": "1.2.0",
      "model_name": "LayoutModel",
      "state": {}
     },
     "27b252e2550e432ab263486c9eafc02f": {
      "model_module": "@jupyter-widgets/controls",
      "model_module_version": "1.5.0",
      "model_name": "DescriptionStyleModel",
      "state": {
       "description_width": ""
      }
     },
     "27b308de978e4bedbdcfdad858bc484c": {
      "model_module": "@jupyter-widgets/controls",
      "model_module_version": "1.5.0",
      "model_name": "ProgressStyleModel",
      "state": {
       "description_width": "initial"
      }
     },
     "27ca15d0b7b44b22afdac5df4f690d6a": {
      "model_module": "@jupyter-widgets/controls",
      "model_module_version": "1.5.0",
      "model_name": "ProgressStyleModel",
      "state": {
       "description_width": "initial"
      }
     },
     "27d06ab77dff4757b9c1594fa41f356a": {
      "model_module": "@jupyter-widgets/controls",
      "model_module_version": "1.5.0",
      "model_name": "HBoxModel",
      "state": {
       "children": [
        "IPY_MODEL_31ac98df04ef4867a6e5a4c8f517d75c",
        "IPY_MODEL_0967b91e7b7249a29c6b3f7ad5b4021d"
       ],
       "layout": "IPY_MODEL_2128e49950d54ddc9f9eaa0890b7da36"
      }
     },
     "27e08989846c49ee99842175ae95438f": {
      "model_module": "@jupyter-widgets/base",
      "model_module_version": "1.2.0",
      "model_name": "LayoutModel",
      "state": {}
     },
     "27e8ebd434b24d9985c0033cd7ad1ae0": {
      "model_module": "@jupyter-widgets/base",
      "model_module_version": "1.2.0",
      "model_name": "LayoutModel",
      "state": {}
     },
     "27ed24f7aa04457b83aeda5113d45b76": {
      "model_module": "@jupyter-widgets/controls",
      "model_module_version": "1.5.0",
      "model_name": "DescriptionStyleModel",
      "state": {
       "description_width": ""
      }
     },
     "27f8df053a5a49219bd0c60b7d1b9bc7": {
      "model_module": "@jupyter-widgets/controls",
      "model_module_version": "1.5.0",
      "model_name": "DescriptionStyleModel",
      "state": {
       "description_width": ""
      }
     },
     "27fcdc1b85da4f2394b6f131c813eb07": {
      "model_module": "@jupyter-widgets/base",
      "model_module_version": "1.2.0",
      "model_name": "LayoutModel",
      "state": {}
     },
     "281c9d8da03b4ee781c0477bed6d1c36": {
      "model_module": "@jupyter-widgets/base",
      "model_module_version": "1.2.0",
      "model_name": "LayoutModel",
      "state": {}
     },
     "281ebf1abf0d4981b1c9cd91429a278a": {
      "model_module": "@jupyter-widgets/controls",
      "model_module_version": "1.5.0",
      "model_name": "FloatProgressModel",
      "state": {
       "description": "Val Epoch #15 - loss:   6.835: 100%",
       "layout": "IPY_MODEL_08a8803de8db4a3688cbeaca9939e0ec",
       "max": 74,
       "style": "IPY_MODEL_5e989a1cca0b45c29cc832e2b45eedbc",
       "value": 74
      }
     },
     "282e900cfa4e4671ad54645f55d68253": {
      "model_module": "@jupyter-widgets/controls",
      "model_module_version": "1.5.0",
      "model_name": "FloatProgressModel",
      "state": {
       "description": "Train Epoch #99 - loss:   1.281: 100%",
       "layout": "IPY_MODEL_88cafcd3c06f4b58a4b9bd26383e7b5b",
       "max": 589,
       "style": "IPY_MODEL_9d9cdad42f954cff9c7ac4e74e2e32cb",
       "value": 589
      }
     },
     "283749b43f3d440da3aa050771e6832a": {
      "model_module": "@jupyter-widgets/controls",
      "model_module_version": "1.5.0",
      "model_name": "FloatProgressModel",
      "state": {
       "description": "Train Epoch #38 - loss:   2.627: 100%",
       "layout": "IPY_MODEL_83b4d454ec3e43acaf649b42b266e7a8",
       "max": 589,
       "style": "IPY_MODEL_3590abdcfeda46518bbe9f27d869cf9b",
       "value": 589
      }
     },
     "286a37550f5348649c518dee1e123846": {
      "model_module": "@jupyter-widgets/base",
      "model_module_version": "1.2.0",
      "model_name": "LayoutModel",
      "state": {}
     },
     "28a911f5a3a740909776589519963aff": {
      "model_module": "@jupyter-widgets/base",
      "model_module_version": "1.2.0",
      "model_name": "LayoutModel",
      "state": {}
     },
     "28abb468bed947c3b7f4a4feaef2db35": {
      "model_module": "@jupyter-widgets/controls",
      "model_module_version": "1.5.0",
      "model_name": "DescriptionStyleModel",
      "state": {
       "description_width": ""
      }
     },
     "28b8ded380a44ea8b999c07220ca4cdc": {
      "model_module": "@jupyter-widgets/controls",
      "model_module_version": "1.5.0",
      "model_name": "HTMLModel",
      "state": {
       "layout": "IPY_MODEL_d8ebd07c08e14cb6bda7cacf100a32de",
       "style": "IPY_MODEL_31829c765e9c4392837528b95411990c",
       "value": " 74/74 [3:09:21&lt;00:00,  5.51it/s]"
      }
     },
     "28c3befdc00547f59b95f71290d97836": {
      "model_module": "@jupyter-widgets/controls",
      "model_module_version": "1.5.0",
      "model_name": "FloatProgressModel",
      "state": {
       "description": "Train Epoch #28 - loss:   3.502: 100%",
       "layout": "IPY_MODEL_ad97222e94ff46e2809683416b4125f7",
       "max": 589,
       "style": "IPY_MODEL_2434adec2739401f8bbbdf0b42d4c5e7",
       "value": 589
      }
     },
     "290c618ef1664b56967c0f69ede9cf2e": {
      "model_module": "@jupyter-widgets/controls",
      "model_module_version": "1.5.0",
      "model_name": "HTMLModel",
      "state": {
       "layout": "IPY_MODEL_521525f0048545028e2dedaa0d54e6c5",
       "style": "IPY_MODEL_4543d9f70e1e4869b15db541c315497c",
       "value": " 74/74 [7:15:24&lt;00:00,  5.58it/s]"
      }
     },
     "291672e22ee94bfe8ccf0a15d7aa1abc": {
      "model_module": "@jupyter-widgets/controls",
      "model_module_version": "1.5.0",
      "model_name": "DescriptionStyleModel",
      "state": {
       "description_width": ""
      }
     },
     "291c2f8c10fa41998ac3bbe53bd34382": {
      "model_module": "@jupyter-widgets/controls",
      "model_module_version": "1.5.0",
      "model_name": "FloatProgressModel",
      "state": {
       "description": "Val Epoch #59 - loss:    8.14: 100%",
       "layout": "IPY_MODEL_b636406cf71b478d81997a99a3882e11",
       "max": 74,
       "style": "IPY_MODEL_6d009f9a3cbb4076beb0913b401e7417",
       "value": 74
      }
     },
     "292830ea2d7e4756b9adb9ece10fd0ac": {
      "model_module": "@jupyter-widgets/base",
      "model_module_version": "1.2.0",
      "model_name": "LayoutModel",
      "state": {}
     },
     "292dd1597b204d0dbc93d2c1fb498cc8": {
      "model_module": "@jupyter-widgets/controls",
      "model_module_version": "1.5.0",
      "model_name": "HTMLModel",
      "state": {
       "layout": "IPY_MODEL_a310edd587bd482ab5064c733a6f9b97",
       "style": "IPY_MODEL_bc3769d25c9f4d8aa2b12a5f7ea45ecd",
       "value": " 589/589 [2:31:31&lt;00:00,  2.22it/s]"
      }
     },
     "29573c24b1fd445a90955f010237b541": {
      "model_module": "@jupyter-widgets/base",
      "model_module_version": "1.2.0",
      "model_name": "LayoutModel",
      "state": {}
     },
     "29b5b7f1c8e54a4987dad1e0bfc41b95": {
      "model_module": "@jupyter-widgets/base",
      "model_module_version": "1.2.0",
      "model_name": "LayoutModel",
      "state": {}
     },
     "29c29b3de32f41a1b42290bb497915a3": {
      "model_module": "@jupyter-widgets/controls",
      "model_module_version": "1.5.0",
      "model_name": "HBoxModel",
      "state": {
       "children": [
        "IPY_MODEL_ff19cb8ab9264d728df31e8465271733",
        "IPY_MODEL_3baf6e95a4d548bfb1902c1bef9c41e8"
       ],
       "layout": "IPY_MODEL_d5b7eb010f1948cdbc7e1ca23524ac6a"
      }
     },
     "29c6ddfab35b4d9c8791a228a9a14ca0": {
      "model_module": "@jupyter-widgets/controls",
      "model_module_version": "1.5.0",
      "model_name": "DescriptionStyleModel",
      "state": {
       "description_width": ""
      }
     },
     "2a0f922451dc4930a79baf61b150af8d": {
      "model_module": "@jupyter-widgets/controls",
      "model_module_version": "1.5.0",
      "model_name": "HTMLModel",
      "state": {
       "layout": "IPY_MODEL_341896d76ebb4fb2b661495030a44af7",
       "style": "IPY_MODEL_0e775cf2b68e40b38cc95731aff37364",
       "value": " 74/74 [8:54:47&lt;00:00,  6.25it/s]"
      }
     },
     "2a39ff23d0fa4122976f4c90528cdc84": {
      "model_module": "@jupyter-widgets/controls",
      "model_module_version": "1.5.0",
      "model_name": "HTMLModel",
      "state": {
       "layout": "IPY_MODEL_908457f8f9654eee99c4439c57087b1f",
       "style": "IPY_MODEL_4fc598b09eb04d2db63ddf4490c3aaf5",
       "value": " 74/74 [3:53:18&lt;00:00,  5.68it/s]"
      }
     },
     "2a4fd6bc8cb249c1aeeb6d38ad2e45ff": {
      "model_module": "@jupyter-widgets/controls",
      "model_module_version": "1.5.0",
      "model_name": "DescriptionStyleModel",
      "state": {
       "description_width": ""
      }
     },
     "2a57bc9a102f4e92a669c44ec87b510c": {
      "model_module": "@jupyter-widgets/controls",
      "model_module_version": "1.5.0",
      "model_name": "DescriptionStyleModel",
      "state": {
       "description_width": ""
      }
     },
     "2a5abea1c20347e5966a501d9d017845": {
      "model_module": "@jupyter-widgets/base",
      "model_module_version": "1.2.0",
      "model_name": "LayoutModel",
      "state": {}
     },
     "2a73697dc1214904b6f9a60056bcf5c0": {
      "model_module": "@jupyter-widgets/controls",
      "model_module_version": "1.5.0",
      "model_name": "HBoxModel",
      "state": {
       "children": [
        "IPY_MODEL_8f0452d003e94dc689a0258b12026e80",
        "IPY_MODEL_85e2cde586bb4c9fb2768853e503dbd9"
       ],
       "layout": "IPY_MODEL_b676aae5497741c9919541277e946345"
      }
     },
     "2a99c94dddbc4d11ae0d017a03c52f7c": {
      "model_module": "@jupyter-widgets/base",
      "model_module_version": "1.2.0",
      "model_name": "LayoutModel",
      "state": {}
     },
     "2acc9ac793794b1ca97526a2a7eced02": {
      "model_module": "@jupyter-widgets/base",
      "model_module_version": "1.2.0",
      "model_name": "LayoutModel",
      "state": {}
     },
     "2b20543e3638455ab56d22095422e4f4": {
      "model_module": "@jupyter-widgets/controls",
      "model_module_version": "1.5.0",
      "model_name": "HTMLModel",
      "state": {
       "layout": "IPY_MODEL_0a9545769a894e149259b1431a77e52e",
       "style": "IPY_MODEL_158dd478216c405f80ba58ff7ffa7496",
       "value": " 589/589 [6:37:33&lt;00:00,  2.63it/s]"
      }
     },
     "2b268b1f5b534cab8fe6e783b522835d": {
      "model_module": "@jupyter-widgets/controls",
      "model_module_version": "1.5.0",
      "model_name": "FloatProgressModel",
      "state": {
       "description": "Val Epoch #1 - loss:   9.162: 100%",
       "layout": "IPY_MODEL_6f16a8f1a0df4ee9ac7071269ac98f65",
       "max": 74,
       "style": "IPY_MODEL_7b863310046a446ebf7d76837435cbb4",
       "value": 74
      }
     },
     "2b344eb35c1b4294a5394607107d5229": {
      "model_module": "@jupyter-widgets/base",
      "model_module_version": "1.2.0",
      "model_name": "LayoutModel",
      "state": {}
     },
     "2b5b8fde5090449d8b8052d3b03eb44f": {
      "model_module": "@jupyter-widgets/controls",
      "model_module_version": "1.5.0",
      "model_name": "HBoxModel",
      "state": {
       "children": [
        "IPY_MODEL_dfcce521426d4abeac3703fae341af51",
        "IPY_MODEL_e1d9aab1d3364f0580716069187211bd"
       ],
       "layout": "IPY_MODEL_bb3d5341dccc4b2a93ebc71486d08468"
      }
     },
     "2b8c740d8d9a4fdbb18e36294a526c4f": {
      "model_module": "@jupyter-widgets/controls",
      "model_module_version": "1.5.0",
      "model_name": "DescriptionStyleModel",
      "state": {
       "description_width": ""
      }
     },
     "2bc0da4921b2481ab57bdec260f3683e": {
      "model_module": "@jupyter-widgets/base",
      "model_module_version": "1.2.0",
      "model_name": "LayoutModel",
      "state": {}
     },
     "2beb426334314a5593682f80d198107b": {
      "model_module": "@jupyter-widgets/base",
      "model_module_version": "1.2.0",
      "model_name": "LayoutModel",
      "state": {}
     },
     "2bf9c0a954784b44ac85d1c1fe8ce9b9": {
      "model_module": "@jupyter-widgets/controls",
      "model_module_version": "1.5.0",
      "model_name": "FloatProgressModel",
      "state": {
       "description": "Val Epoch #1 - loss:   7.832: 100%",
       "layout": "IPY_MODEL_10e192e0b6ea4888bfabced37a41715d",
       "max": 74,
       "style": "IPY_MODEL_b1933a6227b7442180c3d9981ab40765",
       "value": 74
      }
     },
     "2bfd9f49afa340d1ab74bab357293a50": {
      "model_module": "@jupyter-widgets/controls",
      "model_module_version": "1.5.0",
      "model_name": "ProgressStyleModel",
      "state": {
       "description_width": "initial"
      }
     },
     "2c078853f4d94cd6b1e1b764311b2b61": {
      "model_module": "@jupyter-widgets/controls",
      "model_module_version": "1.5.0",
      "model_name": "HTMLModel",
      "state": {
       "layout": "IPY_MODEL_a3bc474676204145bbefb479e48a60cd",
       "style": "IPY_MODEL_c1ef9734d0dd437695297ed02a6f2bd7",
       "value": " 74/74 [8:19:39&lt;00:00,  5.85it/s]"
      }
     },
     "2c2ad9bcb4604967a3b73f1579374bb7": {
      "model_module": "@jupyter-widgets/base",
      "model_module_version": "1.2.0",
      "model_name": "LayoutModel",
      "state": {}
     },
     "2c7649c450d745af92a75a30e5ab77ab": {
      "model_module": "@jupyter-widgets/base",
      "model_module_version": "1.2.0",
      "model_name": "LayoutModel",
      "state": {}
     },
     "2c8a767f8737455cafadc7d51a2b7a15": {
      "model_module": "@jupyter-widgets/base",
      "model_module_version": "1.2.0",
      "model_name": "LayoutModel",
      "state": {}
     },
     "2c9b62f847764ea58cb60f242d0bef69": {
      "model_module": "@jupyter-widgets/controls",
      "model_module_version": "1.5.0",
      "model_name": "HTMLModel",
      "state": {
       "layout": "IPY_MODEL_eec0f73a8d8b4743afb20738b824c0a0",
       "style": "IPY_MODEL_ae8f0abfceb146c19a402435019814b0",
       "value": " 74/74 [1:45:04&lt;00:00,  5.84it/s]"
      }
     },
     "2ca32ad47064458ab5191d0ef984b7d1": {
      "model_module": "@jupyter-widgets/controls",
      "model_module_version": "1.5.0",
      "model_name": "DescriptionStyleModel",
      "state": {
       "description_width": ""
      }
     },
     "2cac886eacb14a1aab227758fb70254f": {
      "model_module": "@jupyter-widgets/controls",
      "model_module_version": "1.5.0",
      "model_name": "ProgressStyleModel",
      "state": {
       "description_width": "initial"
      }
     },
     "2cbffb7c2fa640a09aec5a1d41a24e67": {
      "model_module": "@jupyter-widgets/base",
      "model_module_version": "1.2.0",
      "model_name": "LayoutModel",
      "state": {}
     },
     "2cd098f9609240809b50987ee5cba2e0": {
      "model_module": "@jupyter-widgets/controls",
      "model_module_version": "1.5.0",
      "model_name": "HTMLModel",
      "state": {
       "layout": "IPY_MODEL_6b7a1134de4445b7810a4a1e1c97896d",
       "style": "IPY_MODEL_d0013a0275f047dcafb12ba386d48021",
       "value": " 74/74 [5:13:25&lt;00:00,  4.31it/s]"
      }
     },
     "2cddba25c2374b2e8787ae391318c20c": {
      "model_module": "@jupyter-widgets/controls",
      "model_module_version": "1.5.0",
      "model_name": "ProgressStyleModel",
      "state": {
       "description_width": "initial"
      }
     },
     "2cf5ad4bf9e4432a8df6b3abe50f34f5": {
      "model_module": "@jupyter-widgets/base",
      "model_module_version": "1.2.0",
      "model_name": "LayoutModel",
      "state": {}
     },
     "2cf73dfb5dcf4071ac16a779c626fb09": {
      "model_module": "@jupyter-widgets/base",
      "model_module_version": "1.2.0",
      "model_name": "LayoutModel",
      "state": {}
     },
     "2d12c0f903b84b1da0ceda70fcd40048": {
      "model_module": "@jupyter-widgets/controls",
      "model_module_version": "1.5.0",
      "model_name": "HTMLModel",
      "state": {
       "layout": "IPY_MODEL_39283f5adc994c1f845fa034471858c4",
       "style": "IPY_MODEL_01c48dfb1a7e47869c8638344269a081",
       "value": " 74/74 [8:22:22&lt;00:00,  5.72it/s]"
      }
     },
     "2d4d89b961d04f179c058582a16f9374": {
      "model_module": "@jupyter-widgets/base",
      "model_module_version": "1.2.0",
      "model_name": "LayoutModel",
      "state": {}
     },
     "2d74f4da4af848868a047f37ee287ead": {
      "model_module": "@jupyter-widgets/controls",
      "model_module_version": "1.5.0",
      "model_name": "ProgressStyleModel",
      "state": {
       "description_width": "initial"
      }
     },
     "2da939beb0664c6d8fce54936f9d94b6": {
      "model_module": "@jupyter-widgets/base",
      "model_module_version": "1.2.0",
      "model_name": "LayoutModel",
      "state": {}
     },
     "2db8348e1c3849daae52f4731cbe6e45": {
      "model_module": "@jupyter-widgets/controls",
      "model_module_version": "1.5.0",
      "model_name": "ProgressStyleModel",
      "state": {
       "description_width": "initial"
      }
     },
     "2dd6cf0cf0ec4d0bbdc057519457374f": {
      "model_module": "@jupyter-widgets/controls",
      "model_module_version": "1.5.0",
      "model_name": "HTMLModel",
      "state": {
       "layout": "IPY_MODEL_80b7f061c97446de9a114959499085d3",
       "style": "IPY_MODEL_65cd1834448845d98172fd67e68e29ad",
       "value": " 589/589 [8:03:15&lt;00:00,  4.50it/s]"
      }
     },
     "2dff680d2c8c482b915b80fd517804ee": {
      "model_module": "@jupyter-widgets/controls",
      "model_module_version": "1.5.0",
      "model_name": "HBoxModel",
      "state": {
       "children": [
        "IPY_MODEL_83b4e9f3460f48788fe206107fb72294",
        "IPY_MODEL_a8e5e47a9ab04ff3a0aca8fb55fba862"
       ],
       "layout": "IPY_MODEL_e07e77a6103c414d8b75843fb217ba3a"
      }
     },
     "2e07410a60274e84a6dd557c946df110": {
      "model_module": "@jupyter-widgets/controls",
      "model_module_version": "1.5.0",
      "model_name": "HTMLModel",
      "state": {
       "layout": "IPY_MODEL_aa8fd0d34fe54d0ba3ca8c7f54106021",
       "style": "IPY_MODEL_0a692fa4ccdd4491820c5a57ebad52ae",
       "value": " 589/589 [2:27:20&lt;00:00,  2.20it/s]"
      }
     },
     "2e176d3db4844dc08b9a6b9e894a92c6": {
      "model_module": "@jupyter-widgets/controls",
      "model_module_version": "1.5.0",
      "model_name": "FloatProgressModel",
      "state": {
       "description": "Train Epoch #5 - loss:   7.146: 100%",
       "layout": "IPY_MODEL_a9e85e6854e54b0a8a6574ed365dd038",
       "max": 589,
       "style": "IPY_MODEL_6e0f9bd042bc48c09f2784285c060364",
       "value": 589
      }
     },
     "2e3e115a2a1748328601286a71c292fe": {
      "model_module": "@jupyter-widgets/controls",
      "model_module_version": "1.5.0",
      "model_name": "HTMLModel",
      "state": {
       "layout": "IPY_MODEL_957e20e52d1c4ec78ce56bee3788a68c",
       "style": "IPY_MODEL_92f748b9d7934a1a97a1dba95b627b5e",
       "value": " 74/74 [6:20:54&lt;00:00,  5.35it/s]"
      }
     },
     "2e6926b9dc314c14925a874ce11e2081": {
      "model_module": "@jupyter-widgets/base",
      "model_module_version": "1.2.0",
      "model_name": "LayoutModel",
      "state": {}
     },
     "2e701ce06feb4289a9c4dcf062f57a24": {
      "model_module": "@jupyter-widgets/controls",
      "model_module_version": "1.5.0",
      "model_name": "FloatProgressModel",
      "state": {
       "description": "Val Epoch #6 - loss:   7.784: 100%",
       "layout": "IPY_MODEL_83618c94660241d4abf7a9ec5541db6e",
       "max": 74,
       "style": "IPY_MODEL_712ca24503a64c859e96d87c728cba69",
       "value": 74
      }
     },
     "2e73466b86cb460f863e811cee032720": {
      "model_module": "@jupyter-widgets/controls",
      "model_module_version": "1.5.0",
      "model_name": "HTMLModel",
      "state": {
       "layout": "IPY_MODEL_4f85c8b71e084cb59fcd9855b6c64276",
       "style": "IPY_MODEL_adf5bbb163bb4fccbabd601c067070f7",
       "value": " 589/589 [3:17:17&lt;00:00,  2.22it/s]"
      }
     },
     "2e79b809a27e470d9bb5bf078c4ace81": {
      "model_module": "@jupyter-widgets/base",
      "model_module_version": "1.2.0",
      "model_name": "LayoutModel",
      "state": {}
     },
     "2e82bf9aed2540219855ec21b415442d": {
      "model_module": "@jupyter-widgets/base",
      "model_module_version": "1.2.0",
      "model_name": "LayoutModel",
      "state": {}
     },
     "2e8b92b194384186a8747362d6a89eb2": {
      "model_module": "@jupyter-widgets/base",
      "model_module_version": "1.2.0",
      "model_name": "LayoutModel",
      "state": {}
     },
     "2e8e75c2155c4a2a8a3c60caf0164b5d": {
      "model_module": "@jupyter-widgets/controls",
      "model_module_version": "1.5.0",
      "model_name": "ProgressStyleModel",
      "state": {
       "description_width": "initial"
      }
     },
     "2e99a9e9218245af8758551b15af0d00": {
      "model_module": "@jupyter-widgets/base",
      "model_module_version": "1.2.0",
      "model_name": "LayoutModel",
      "state": {}
     },
     "2ea6c1b0119c4c5198709c979667584a": {
      "model_module": "@jupyter-widgets/base",
      "model_module_version": "1.2.0",
      "model_name": "LayoutModel",
      "state": {}
     },
     "2ecb9b64e138445f85c69293bc170c06": {
      "model_module": "@jupyter-widgets/base",
      "model_module_version": "1.2.0",
      "model_name": "LayoutModel",
      "state": {}
     },
     "2eebdd362b7746fdaff00e226d3365a5": {
      "model_module": "@jupyter-widgets/base",
      "model_module_version": "1.2.0",
      "model_name": "LayoutModel",
      "state": {}
     },
     "2ef3f8cca63a44f19c1bc27de76deaf2": {
      "model_module": "@jupyter-widgets/base",
      "model_module_version": "1.2.0",
      "model_name": "LayoutModel",
      "state": {}
     },
     "2f10e7237dde4a61b6df366d2b558ba4": {
      "model_module": "@jupyter-widgets/base",
      "model_module_version": "1.2.0",
      "model_name": "LayoutModel",
      "state": {}
     },
     "2f1803c0f8be4f01b1ec2fe064d573d9": {
      "model_module": "@jupyter-widgets/controls",
      "model_module_version": "1.5.0",
      "model_name": "HBoxModel",
      "state": {
       "children": [
        "IPY_MODEL_e3acc8c2647d4a0bb7133cc44de79e4a",
        "IPY_MODEL_663907fa6a2247d2b0c7c4cb44b91372"
       ],
       "layout": "IPY_MODEL_f7cb8cdb47cd4c4e9eb395db004886f1"
      }
     },
     "2f45167541d84c10b1241fbbb24e2dcc": {
      "model_module": "@jupyter-widgets/controls",
      "model_module_version": "1.5.0",
      "model_name": "FloatProgressModel",
      "state": {
       "description": "Train Epoch #6 - loss:   7.265: 100%",
       "layout": "IPY_MODEL_f66fecd3875d46ce96e5e0ca90b3ec94",
       "max": 589,
       "style": "IPY_MODEL_515aadab793b4187bc1eee966dc9662f",
       "value": 589
      }
     },
     "2f67b32fe04f477296ff6e62e6409399": {
      "model_module": "@jupyter-widgets/base",
      "model_module_version": "1.2.0",
      "model_name": "LayoutModel",
      "state": {}
     },
     "2f6d39e7dfba4b69b86d763609a708af": {
      "model_module": "@jupyter-widgets/base",
      "model_module_version": "1.2.0",
      "model_name": "LayoutModel",
      "state": {}
     },
     "2f711ee5d1f84200abc109c91afee6f6": {
      "model_module": "@jupyter-widgets/controls",
      "model_module_version": "1.5.0",
      "model_name": "DescriptionStyleModel",
      "state": {
       "description_width": ""
      }
     },
     "2f8eeb1801274a79b3ad26d3b79a4edb": {
      "model_module": "@jupyter-widgets/controls",
      "model_module_version": "1.5.0",
      "model_name": "DescriptionStyleModel",
      "state": {
       "description_width": ""
      }
     },
     "2fb5263460ab41b38e914568ce714875": {
      "model_module": "@jupyter-widgets/controls",
      "model_module_version": "1.5.0",
      "model_name": "DescriptionStyleModel",
      "state": {
       "description_width": ""
      }
     },
     "2fbd676f6f9b4375b7665ddd139da754": {
      "model_module": "@jupyter-widgets/controls",
      "model_module_version": "1.5.0",
      "model_name": "HTMLModel",
      "state": {
       "layout": "IPY_MODEL_936249e1aff74b279b7bf5d1b5e7643a",
       "style": "IPY_MODEL_fcd11db9e24141e59cea06b407b8fd38",
       "value": " 74/74 [2:19:04&lt;00:00,  5.41it/s]"
      }
     },
     "2fc69a97a57e44eb9349390220589065": {
      "model_module": "@jupyter-widgets/base",
      "model_module_version": "1.2.0",
      "model_name": "LayoutModel",
      "state": {}
     },
     "2fdec8131aea4a3bb0a69af044ec25fd": {
      "model_module": "@jupyter-widgets/controls",
      "model_module_version": "1.5.0",
      "model_name": "DescriptionStyleModel",
      "state": {
       "description_width": ""
      }
     },
     "3018c5ccd4254f4387294deabcc092ca": {
      "model_module": "@jupyter-widgets/controls",
      "model_module_version": "1.5.0",
      "model_name": "ProgressStyleModel",
      "state": {
       "description_width": "initial"
      }
     },
     "30516c6d919a48e9950aa8b50f563c1a": {
      "model_module": "@jupyter-widgets/controls",
      "model_module_version": "1.5.0",
      "model_name": "HBoxModel",
      "state": {
       "children": [
        "IPY_MODEL_04ba7191b57b4210a1d419315ad27df9",
        "IPY_MODEL_f324dec7ab104aab9db3ef8b26163ef2"
       ],
       "layout": "IPY_MODEL_d80c095f3c23404483aeba28ff6a071f"
      }
     },
     "3056e73010274d48ba4731370fb7054a": {
      "model_module": "@jupyter-widgets/base",
      "model_module_version": "1.2.0",
      "model_name": "LayoutModel",
      "state": {}
     },
     "305cb406eaa64ddbbfabda8cf3a6a41d": {
      "model_module": "@jupyter-widgets/controls",
      "model_module_version": "1.5.0",
      "model_name": "ProgressStyleModel",
      "state": {
       "description_width": "initial"
      }
     },
     "3068c9a9ea9c4236b80ae6ab01b8f885": {
      "model_module": "@jupyter-widgets/controls",
      "model_module_version": "1.5.0",
      "model_name": "FloatProgressModel",
      "state": {
       "description": "Train Epoch #65 - loss:   1.585: 100%",
       "layout": "IPY_MODEL_63ffdec2c3ae4ce68f74829472bd6e00",
       "max": 589,
       "style": "IPY_MODEL_8444cef847634aaab13aae366aea59ec",
       "value": 589
      }
     },
     "308c138c784b4ac2b37ed9fa3ee16f74": {
      "model_module": "@jupyter-widgets/base",
      "model_module_version": "1.2.0",
      "model_name": "LayoutModel",
      "state": {}
     },
     "30c6b3f47b074dffacfa83b1cbb0a1e8": {
      "model_module": "@jupyter-widgets/base",
      "model_module_version": "1.2.0",
      "model_name": "LayoutModel",
      "state": {}
     },
     "30d5dc434ec144dca477a6f19ffce32c": {
      "model_module": "@jupyter-widgets/controls",
      "model_module_version": "1.5.0",
      "model_name": "HBoxModel",
      "state": {
       "children": [
        "IPY_MODEL_53c907451b3b413aabbda2dd7dd46e9b",
        "IPY_MODEL_429a8e8dbedd458e85be3c62fabdc428"
       ],
       "layout": "IPY_MODEL_f84efa5a9eea4bfeab8b1ba96d0368ae"
      }
     },
     "30ecf3fb705f4179907c5ba0b0f5d352": {
      "model_module": "@jupyter-widgets/controls",
      "model_module_version": "1.5.0",
      "model_name": "FloatProgressModel",
      "state": {
       "description": "Train Epoch #1 - loss:   7.362: 100%",
       "layout": "IPY_MODEL_cc019fe457ae41a2a174de394ef0ce26",
       "max": 589,
       "style": "IPY_MODEL_b125eb881c484d77a5499ebbe322ffa4",
       "value": 589
      }
     },
     "310c43a95c454455bef60f2a419e5421": {
      "model_module": "@jupyter-widgets/controls",
      "model_module_version": "1.5.0",
      "model_name": "FloatProgressModel",
      "state": {
       "description": "Val Epoch #31 - loss:   7.268: 100%",
       "layout": "IPY_MODEL_e7542d23607b4d8eabc106ad4d86f3e6",
       "max": 74,
       "style": "IPY_MODEL_0919b83b0421453280fd9544bff67394",
       "value": 74
      }
     },
     "311a4c51a2b344c6836c92f601283bdd": {
      "model_module": "@jupyter-widgets/controls",
      "model_module_version": "1.5.0",
      "model_name": "FloatProgressModel",
      "state": {
       "description": "Train Epoch #14 - loss:   5.109: 100%",
       "layout": "IPY_MODEL_a7693429cb0f4f0bb1929d4c957f1357",
       "max": 589,
       "style": "IPY_MODEL_839c3f1387c74aa0ba9f67ded8730520",
       "value": 589
      }
     },
     "3146ed856c1a47c397a32f68c6529c3d": {
      "model_module": "@jupyter-widgets/controls",
      "model_module_version": "1.5.0",
      "model_name": "ProgressStyleModel",
      "state": {
       "description_width": "initial"
      }
     },
     "314d932232674ea78528683aee81abcb": {
      "model_module": "@jupyter-widgets/base",
      "model_module_version": "1.2.0",
      "model_name": "LayoutModel",
      "state": {}
     },
     "316476f029784ba3a5eadb5fe064530a": {
      "model_module": "@jupyter-widgets/controls",
      "model_module_version": "1.5.0",
      "model_name": "HBoxModel",
      "state": {
       "children": [
        "IPY_MODEL_689ce625189a4303899e410daf8e593a",
        "IPY_MODEL_a4956505976244da9d47426013f8f9d1"
       ],
       "layout": "IPY_MODEL_50d5c4b6b1cb4460aaf61ca93831c05a"
      }
     },
     "316b6257c771438f9eadf50660edaac1": {
      "model_module": "@jupyter-widgets/base",
      "model_module_version": "1.2.0",
      "model_name": "LayoutModel",
      "state": {}
     },
     "31829c765e9c4392837528b95411990c": {
      "model_module": "@jupyter-widgets/controls",
      "model_module_version": "1.5.0",
      "model_name": "DescriptionStyleModel",
      "state": {
       "description_width": ""
      }
     },
     "319398eec607464b8b1af2c672b39de6": {
      "model_module": "@jupyter-widgets/controls",
      "model_module_version": "1.5.0",
      "model_name": "HTMLModel",
      "state": {
       "layout": "IPY_MODEL_7769c8f93633481bacb66d26014b880b",
       "style": "IPY_MODEL_8d875f7278d248ecb8ab3c5b819ba074",
       "value": " 74/74 [4:12:17&lt;00:00,  5.55it/s]"
      }
     },
     "31a355e25ca849e4bf21b39887895886": {
      "model_module": "@jupyter-widgets/controls",
      "model_module_version": "1.5.0",
      "model_name": "ProgressStyleModel",
      "state": {
       "description_width": "initial"
      }
     },
     "31ac98df04ef4867a6e5a4c8f517d75c": {
      "model_module": "@jupyter-widgets/controls",
      "model_module_version": "1.5.0",
      "model_name": "FloatProgressModel",
      "state": {
       "description": "Train Epoch #35 - loss:   2.855: 100%",
       "layout": "IPY_MODEL_6214749d26434f6a8fc5c11f69d113f0",
       "max": 589,
       "style": "IPY_MODEL_e14df2bd58b649358d049c3d9a3b09bc",
       "value": 589
      }
     },
     "31b81dae4d1549cf9b4828da2b6ff1ea": {
      "model_module": "@jupyter-widgets/base",
      "model_module_version": "1.2.0",
      "model_name": "LayoutModel",
      "state": {}
     },
     "31d086bffc764bcc8d3defadab5b150a": {
      "model_module": "@jupyter-widgets/controls",
      "model_module_version": "1.5.0",
      "model_name": "HTMLModel",
      "state": {
       "layout": "IPY_MODEL_66f371d0bb58451f8b49eb063e80970d",
       "style": "IPY_MODEL_1d45c5c449a9443f917856e923860f2f",
       "value": " 589/589 [5:56:56&lt;00:00,  2.84it/s]"
      }
     },
     "31e0ae0c57764001a9baecaeba5ed28d": {
      "model_module": "@jupyter-widgets/controls",
      "model_module_version": "1.5.0",
      "model_name": "HBoxModel",
      "state": {
       "children": [
        "IPY_MODEL_282e900cfa4e4671ad54645f55d68253",
        "IPY_MODEL_828da0d949544ad18eb2a7c08f175ff1"
       ],
       "layout": "IPY_MODEL_6ebd1b9962b04107b66ed510f71d55ad"
      }
     },
     "31e302c6c8e0498b85056c6a32930892": {
      "model_module": "@jupyter-widgets/controls",
      "model_module_version": "1.5.0",
      "model_name": "HBoxModel",
      "state": {
       "children": [
        "IPY_MODEL_1f58526de96c4de4b542ac2f8341e96f",
        "IPY_MODEL_2e07410a60274e84a6dd557c946df110"
       ],
       "layout": "IPY_MODEL_4f9b7c9128614116ac2e6211dff10193"
      }
     },
     "3210c19354874027a068e3927921842d": {
      "model_module": "@jupyter-widgets/controls",
      "model_module_version": "1.5.0",
      "model_name": "ProgressStyleModel",
      "state": {
       "description_width": "initial"
      }
     },
     "3250fd7c433649d1a15b1efb2e051fc3": {
      "model_module": "@jupyter-widgets/controls",
      "model_module_version": "1.5.0",
      "model_name": "ProgressStyleModel",
      "state": {
       "description_width": "initial"
      }
     },
     "328afca7ef904a3db4a3aa72ebb1ead5": {
      "model_module": "@jupyter-widgets/controls",
      "model_module_version": "1.5.0",
      "model_name": "HBoxModel",
      "state": {
       "children": [
        "IPY_MODEL_dc886d189fce48a0a9f7eaac0c9c6209",
        "IPY_MODEL_26ab2e2e11bd4701ba01721681bf6726"
       ],
       "layout": "IPY_MODEL_47d82f32a24f4f98874a0b6ec7e29d5d"
      }
     },
     "3291c6f2e79448019e7677d2f2f30508": {
      "model_module": "@jupyter-widgets/controls",
      "model_module_version": "1.5.0",
      "model_name": "HBoxModel",
      "state": {
       "children": [
        "IPY_MODEL_311a4c51a2b344c6836c92f601283bdd",
        "IPY_MODEL_4a7e48abb21f4d70acf49d3bf1a083aa"
       ],
       "layout": "IPY_MODEL_cb095eecc883446ea45482fdee1f91e2"
      }
     },
     "32a0429d439c460c9fcd523725a882a2": {
      "model_module": "@jupyter-widgets/controls",
      "model_module_version": "1.5.0",
      "model_name": "DescriptionStyleModel",
      "state": {
       "description_width": ""
      }
     },
     "32aca9d18cea484f82e0744f7e002955": {
      "model_module": "@jupyter-widgets/controls",
      "model_module_version": "1.5.0",
      "model_name": "HTMLModel",
      "state": {
       "layout": "IPY_MODEL_f199f4078ab54b849a906f70802e8479",
       "style": "IPY_MODEL_d92d8b4ba876489490cab789784dc41b",
       "value": " 589/589 [7:18:34&lt;00:00,  3.24it/s]"
      }
     },
     "3319a63da5de4c47baf482cd0bb437e5": {
      "model_module": "@jupyter-widgets/controls",
      "model_module_version": "1.5.0",
      "model_name": "HTMLModel",
      "state": {
       "layout": "IPY_MODEL_14f85bc8e9bc4f48b3d09287ab3f1528",
       "style": "IPY_MODEL_0cdc144e665e4152beb7fde617faed52",
       "value": " 74/74 [4:27:10&lt;00:00,  5.70it/s]"
      }
     },
     "3352f97f5d574bf3a191106b5f98b495": {
      "model_module": "@jupyter-widgets/controls",
      "model_module_version": "1.5.0",
      "model_name": "ProgressStyleModel",
      "state": {
       "description_width": "initial"
      }
     },
     "3353d5affcfc4cedb7e160c83ef5a997": {
      "model_module": "@jupyter-widgets/base",
      "model_module_version": "1.2.0",
      "model_name": "LayoutModel",
      "state": {}
     },
     "33783463b17f49d89dcbe8e665864776": {
      "model_module": "@jupyter-widgets/controls",
      "model_module_version": "1.5.0",
      "model_name": "HTMLModel",
      "state": {
       "layout": "IPY_MODEL_186283ef28464313b46ab6905b1e75da",
       "style": "IPY_MODEL_d55bf9b18e854f98a4861e076f1484fa",
       "value": " 589/589 [3:29:26&lt;00:00,  2.30it/s]"
      }
     },
     "338312d2595a4735a92dfc225ce3a49a": {
      "model_module": "@jupyter-widgets/controls",
      "model_module_version": "1.5.0",
      "model_name": "FloatProgressModel",
      "state": {
       "description": "Val Epoch #0 - loss:   6.978: 100%",
       "layout": "IPY_MODEL_e7f2d42f9e324defad61a35133449ddd",
       "max": 74,
       "style": "IPY_MODEL_173e6729ee6749ce8b025ba0f21a10e4",
       "value": 74
      }
     },
     "33906820954c47f091edde920472aab7": {
      "model_module": "@jupyter-widgets/base",
      "model_module_version": "1.2.0",
      "model_name": "LayoutModel",
      "state": {}
     },
     "339c0793844a41129453c71c8cd004cb": {
      "model_module": "@jupyter-widgets/controls",
      "model_module_version": "1.5.0",
      "model_name": "HTMLModel",
      "state": {
       "layout": "IPY_MODEL_73e3064dab514bc29823c5b17cafc1db",
       "style": "IPY_MODEL_db5b53e8617a41d49c9059921568459a",
       "value": " 74/74 [7:46:52&lt;00:00,  6.60it/s]"
      }
     },
     "33a6f01e7ee9402e85f4173f54fd8daa": {
      "model_module": "@jupyter-widgets/controls",
      "model_module_version": "1.5.0",
      "model_name": "HTMLModel",
      "state": {
       "layout": "IPY_MODEL_9b68eec21b4345d0b4e8988e13c7c108",
       "style": "IPY_MODEL_d432fc5ebda54c939af34786c4639fb7",
       "value": " 74/74 [3:37:38&lt;00:00,  5.33it/s]"
      }
     },
     "33bddd91fd4b47998165c2f9b10ef0c1": {
      "model_module": "@jupyter-widgets/controls",
      "model_module_version": "1.5.0",
      "model_name": "ProgressStyleModel",
      "state": {
       "description_width": "initial"
      }
     },
     "33c708b442bc48618f7eed1bfce44b7f": {
      "model_module": "@jupyter-widgets/controls",
      "model_module_version": "1.5.0",
      "model_name": "FloatProgressModel",
      "state": {
       "description": "Val Epoch #54 - loss:    7.99: 100%",
       "layout": "IPY_MODEL_355f79d531be4c2ebe5eb5723a2e181c",
       "max": 74,
       "style": "IPY_MODEL_0abe9a668fd24f79af357f0bf10d7fc1",
       "value": 74
      }
     },
     "33d5fabd518143c8be65979a07891c39": {
      "model_module": "@jupyter-widgets/controls",
      "model_module_version": "1.5.0",
      "model_name": "HBoxModel",
      "state": {
       "children": [
        "IPY_MODEL_b27f3b56ba8742968b5e7ceef973d9d7",
        "IPY_MODEL_fbe1d299847c4bbeada6ce47e226b30b"
       ],
       "layout": "IPY_MODEL_d83b9a7fa8c5468c9e9a3b72f1ce0bcc"
      }
     },
     "33d87734bc4f4756a4e278b8bce8b29c": {
      "model_module": "@jupyter-widgets/controls",
      "model_module_version": "1.5.0",
      "model_name": "ProgressStyleModel",
      "state": {
       "description_width": "initial"
      }
     },
     "341896d76ebb4fb2b661495030a44af7": {
      "model_module": "@jupyter-widgets/base",
      "model_module_version": "1.2.0",
      "model_name": "LayoutModel",
      "state": {}
     },
     "342d052ee2c249ce9c2e9d22ff572088": {
      "model_module": "@jupyter-widgets/base",
      "model_module_version": "1.2.0",
      "model_name": "LayoutModel",
      "state": {}
     },
     "34601a5cef7f48a0b531f067e2fa097c": {
      "model_module": "@jupyter-widgets/controls",
      "model_module_version": "1.5.0",
      "model_name": "HTMLModel",
      "state": {
       "layout": "IPY_MODEL_e83cf79c1e004b22b71f21f0b35e6226",
       "style": "IPY_MODEL_2730ba1abbd445428f4f53c773ee7a23",
       "value": " 589/589 [1:06:47&lt;00:00,  2.22it/s]"
      }
     },
     "346645d27bbe43b6a3932cad80b2b08c": {
      "model_module": "@jupyter-widgets/controls",
      "model_module_version": "1.5.0",
      "model_name": "ProgressStyleModel",
      "state": {
       "description_width": "initial"
      }
     },
     "3476bc5a3aa5477998ed4bbc6722bfae": {
      "model_module": "@jupyter-widgets/controls",
      "model_module_version": "1.5.0",
      "model_name": "FloatProgressModel",
      "state": {
       "description": "Train Epoch #37 - loss:   2.699: 100%",
       "layout": "IPY_MODEL_bf50c54ce6f54a6b8766c42aa183a5fe",
       "max": 589,
       "style": "IPY_MODEL_c301a65493c34a029250aeaca278c2f3",
       "value": 589
      }
     },
     "348baf641d96451889930250342d05e2": {
      "model_module": "@jupyter-widgets/controls",
      "model_module_version": "1.5.0",
      "model_name": "HTMLModel",
      "state": {
       "layout": "IPY_MODEL_137ce1f532a84999bb537ac48768d088",
       "style": "IPY_MODEL_7eafad45769f40c1b35ee8853273688f",
       "value": " 74/74 [5:57:11&lt;00:00,  5.75it/s]"
      }
     },
     "349a0dbe3d5e4d9089b8d85ed14e19b2": {
      "model_module": "@jupyter-widgets/controls",
      "model_module_version": "1.5.0",
      "model_name": "HBoxModel",
      "state": {
       "children": [
        "IPY_MODEL_88df11f7fa464e5db5827e3cea137559",
        "IPY_MODEL_4f40c71a85b24a8898ce4bea5c37a92a"
       ],
       "layout": "IPY_MODEL_7998ea3d01e14445925169f72b1415de"
      }
     },
     "34bc09ba34d2482787b9e573b1735319": {
      "model_module": "@jupyter-widgets/base",
      "model_module_version": "1.2.0",
      "model_name": "LayoutModel",
      "state": {}
     },
     "34db2440961d454d83b9b47fafc8f3b8": {
      "model_module": "@jupyter-widgets/controls",
      "model_module_version": "1.5.0",
      "model_name": "ProgressStyleModel",
      "state": {
       "description_width": "initial"
      }
     },
     "34dd628de96f4cbc98c3330e3a4f3f16": {
      "model_module": "@jupyter-widgets/controls",
      "model_module_version": "1.5.0",
      "model_name": "DescriptionStyleModel",
      "state": {
       "description_width": ""
      }
     },
     "34ffa14d6d374d02a15cdc1a0991d755": {
      "model_module": "@jupyter-widgets/controls",
      "model_module_version": "1.5.0",
      "model_name": "HBoxModel",
      "state": {
       "children": [
        "IPY_MODEL_5704e0d6da0943fbbf6c09a5df92a719",
        "IPY_MODEL_2c9b62f847764ea58cb60f242d0bef69"
       ],
       "layout": "IPY_MODEL_c3861751fb154f3caaafaf89276d4e7f"
      }
     },
     "3505ad2df0da4dc18b72dee132f0adc1": {
      "model_module": "@jupyter-widgets/base",
      "model_module_version": "1.2.0",
      "model_name": "LayoutModel",
      "state": {}
     },
     "35177f174ed347b19aa34751282bea27": {
      "model_module": "@jupyter-widgets/controls",
      "model_module_version": "1.5.0",
      "model_name": "HBoxModel",
      "state": {
       "children": [
        "IPY_MODEL_5fdd99312b244758b2c8db585527047e",
        "IPY_MODEL_e51e9aeb4e0742ccbd1bf5cf9bb89a60"
       ],
       "layout": "IPY_MODEL_1fb169b1deb94cbea5ef07b9c284a6c9"
      }
     },
     "353a71b2d9e74fbc984253ff2fe2b774": {
      "model_module": "@jupyter-widgets/controls",
      "model_module_version": "1.5.0",
      "model_name": "FloatProgressModel",
      "state": {
       "description": "Val Epoch #20 - loss:   6.858: 100%",
       "layout": "IPY_MODEL_4bddd6d803294e4797a2324c801a94da",
       "max": 74,
       "style": "IPY_MODEL_63f1c01bec96414fb8c9aec1a627eb9d",
       "value": 74
      }
     },
     "355f79d531be4c2ebe5eb5723a2e181c": {
      "model_module": "@jupyter-widgets/base",
      "model_module_version": "1.2.0",
      "model_name": "LayoutModel",
      "state": {}
     },
     "356fd2240a53469c86fe8593cbaf82ca": {
      "model_module": "@jupyter-widgets/controls",
      "model_module_version": "1.5.0",
      "model_name": "FloatProgressModel",
      "state": {
       "description": "Val Epoch #66 - loss:   8.258: 100%",
       "layout": "IPY_MODEL_e66d9ec3e1274f3ea95a9141fa3a5810",
       "max": 74,
       "style": "IPY_MODEL_3352f97f5d574bf3a191106b5f98b495",
       "value": 74
      }
     },
     "358fe0b20c5944ee8de1da680f87ce6f": {
      "model_module": "@jupyter-widgets/controls",
      "model_module_version": "1.5.0",
      "model_name": "FloatProgressModel",
      "state": {
       "description": "Val Epoch #24 - loss:   7.104: 100%",
       "layout": "IPY_MODEL_7e47d0961efc48bda18280511e4a574a",
       "max": 74,
       "style": "IPY_MODEL_ed6b9f84d3674665999fb63bada0b9a8",
       "value": 74
      }
     },
     "3590abdcfeda46518bbe9f27d869cf9b": {
      "model_module": "@jupyter-widgets/controls",
      "model_module_version": "1.5.0",
      "model_name": "ProgressStyleModel",
      "state": {
       "description_width": "initial"
      }
     },
     "35923cb2cb12467fab9462d4b66af74e": {
      "model_module": "@jupyter-widgets/controls",
      "model_module_version": "1.5.0",
      "model_name": "ProgressStyleModel",
      "state": {
       "description_width": "initial"
      }
     },
     "3599490172b54a40b9113b3c9eb0b735": {
      "model_module": "@jupyter-widgets/base",
      "model_module_version": "1.2.0",
      "model_name": "LayoutModel",
      "state": {}
     },
     "359f68f34ced44c9a655ff3c7c5dc3fa": {
      "model_module": "@jupyter-widgets/controls",
      "model_module_version": "1.5.0",
      "model_name": "FloatProgressModel",
      "state": {
       "description": "Train Epoch #3 - loss:   6.763: 100%",
       "layout": "IPY_MODEL_a1159f94533b4b7abf39ab15e09547f0",
       "max": 589,
       "style": "IPY_MODEL_b2f11b5ccd614995926831ee06f9e1cd",
       "value": 589
      }
     },
     "35cd9b912e9741b39ad522bb7ad1302a": {
      "model_module": "@jupyter-widgets/controls",
      "model_module_version": "1.5.0",
      "model_name": "HTMLModel",
      "state": {
       "layout": "IPY_MODEL_677b751a0a1241f2849cb2e2ba3db523",
       "style": "IPY_MODEL_c8278be7d1404aecbe13db56788720de",
       "value": " 589/589 [8:27:33&lt;00:00,  3.25it/s]"
      }
     },
     "35da1c2575ac4509aa3db040820380d0": {
      "model_module": "@jupyter-widgets/base",
      "model_module_version": "1.2.0",
      "model_name": "LayoutModel",
      "state": {}
     },
     "35dc6bf120d7459bad8d4c6675bd08a8": {
      "model_module": "@jupyter-widgets/controls",
      "model_module_version": "1.5.0",
      "model_name": "HBoxModel",
      "state": {
       "children": [
        "IPY_MODEL_064fd0e6fed1429d96d6fb94271849da",
        "IPY_MODEL_d77fc8f336384d4f969c733126830744"
       ],
       "layout": "IPY_MODEL_ae86af50bfef43008fc8912bf71ad696"
      }
     },
     "35e3c87044f045749f988129fe617c38": {
      "model_module": "@jupyter-widgets/base",
      "model_module_version": "1.2.0",
      "model_name": "LayoutModel",
      "state": {}
     },
     "361051f330b8401691aa4e91f21bd62a": {
      "model_module": "@jupyter-widgets/controls",
      "model_module_version": "1.5.0",
      "model_name": "ProgressStyleModel",
      "state": {
       "description_width": "initial"
      }
     },
     "3632e4cab4754e2c87bb4c66434a6e0f": {
      "model_module": "@jupyter-widgets/controls",
      "model_module_version": "1.5.0",
      "model_name": "ProgressStyleModel",
      "state": {
       "description_width": "initial"
      }
     },
     "3634c891d9404add860fed79d601000d": {
      "model_module": "@jupyter-widgets/controls",
      "model_module_version": "1.5.0",
      "model_name": "ProgressStyleModel",
      "state": {
       "description_width": "initial"
      }
     },
     "36522321edb646bb8144ba1b44cef4ef": {
      "model_module": "@jupyter-widgets/controls",
      "model_module_version": "1.5.0",
      "model_name": "HBoxModel",
      "state": {
       "children": [
        "IPY_MODEL_4514bce92f234b358fe449ab1c8d7e43",
        "IPY_MODEL_082d5e1942b14d118ac169dceb004867"
       ],
       "layout": "IPY_MODEL_9cadd892459a4c4a96eb72a6b56f55df"
      }
     },
     "3656a18ec90a435ebaec98ede4cb2feb": {
      "model_module": "@jupyter-widgets/base",
      "model_module_version": "1.2.0",
      "model_name": "LayoutModel",
      "state": {}
     },
     "36785581528242e58e2bdebe63527171": {
      "model_module": "@jupyter-widgets/controls",
      "model_module_version": "1.5.0",
      "model_name": "DescriptionStyleModel",
      "state": {
       "description_width": ""
      }
     },
     "367fdf31a98844d292853c4c59f40c75": {
      "model_module": "@jupyter-widgets/base",
      "model_module_version": "1.2.0",
      "model_name": "LayoutModel",
      "state": {}
     },
     "368109887bfb4e26a63f4d67bc991dc7": {
      "model_module": "@jupyter-widgets/base",
      "model_module_version": "1.2.0",
      "model_name": "LayoutModel",
      "state": {}
     },
     "369227f939c44723af77988d6322a98c": {
      "model_module": "@jupyter-widgets/controls",
      "model_module_version": "1.5.0",
      "model_name": "HBoxModel",
      "state": {
       "children": [
        "IPY_MODEL_25fd953b2a65431381196321f130f157",
        "IPY_MODEL_06c223f8ebd34332b4c745c7beaa804e"
       ],
       "layout": "IPY_MODEL_c416b51518f1430485fbb633aee37f22"
      }
     },
     "369c1b25c04a48d9a976b5b031ddc528": {
      "model_module": "@jupyter-widgets/base",
      "model_module_version": "1.2.0",
      "model_name": "LayoutModel",
      "state": {}
     },
     "36ba8f69f7e6428eac83588ffd21636e": {
      "model_module": "@jupyter-widgets/controls",
      "model_module_version": "1.5.0",
      "model_name": "HBoxModel",
      "state": {
       "children": [
        "IPY_MODEL_729e60223d314009b6e62a8a8691db25",
        "IPY_MODEL_7f60f23eb06a4b598df78810c5435a50"
       ],
       "layout": "IPY_MODEL_a23f7164abf845039658758176dce62f"
      }
     },
     "36cb73ca5e534fd8a2391a616c690a89": {
      "model_module": "@jupyter-widgets/base",
      "model_module_version": "1.2.0",
      "model_name": "LayoutModel",
      "state": {}
     },
     "36cdbadf268b4dbc90439cd66b838cd1": {
      "model_module": "@jupyter-widgets/controls",
      "model_module_version": "1.5.0",
      "model_name": "HBoxModel",
      "state": {
       "children": [
        "IPY_MODEL_df3a8717870e4fb5ac0f3d94797c124d",
        "IPY_MODEL_f625ba5e324f49fb9ff6d0fceb372555"
       ],
       "layout": "IPY_MODEL_0ed90f1b816a4809b24a643116307e2f"
      }
     },
     "36e5cb0a7d604efaad7a697e2bceea2d": {
      "model_module": "@jupyter-widgets/controls",
      "model_module_version": "1.5.0",
      "model_name": "DescriptionStyleModel",
      "state": {
       "description_width": ""
      }
     },
     "36eeeeb8e19d486c82e7ebbb0e5a3534": {
      "model_module": "@jupyter-widgets/base",
      "model_module_version": "1.2.0",
      "model_name": "LayoutModel",
      "state": {}
     },
     "36f2986349a74ebe97a0290f653ef6f2": {
      "model_module": "@jupyter-widgets/controls",
      "model_module_version": "1.5.0",
      "model_name": "DescriptionStyleModel",
      "state": {
       "description_width": ""
      }
     },
     "371337ee354443f69c8fab1f3b65aef8": {
      "model_module": "@jupyter-widgets/controls",
      "model_module_version": "1.5.0",
      "model_name": "DescriptionStyleModel",
      "state": {
       "description_width": ""
      }
     },
     "37662f1ab1194d7f854ee97048888acc": {
      "model_module": "@jupyter-widgets/base",
      "model_module_version": "1.2.0",
      "model_name": "LayoutModel",
      "state": {}
     },
     "376a6176de2a4b00853b98f938d9a2e3": {
      "model_module": "@jupyter-widgets/controls",
      "model_module_version": "1.5.0",
      "model_name": "ProgressStyleModel",
      "state": {
       "description_width": "initial"
      }
     },
     "3775c17e42bf4fa08adc368cd0b95675": {
      "model_module": "@jupyter-widgets/controls",
      "model_module_version": "1.5.0",
      "model_name": "HTMLModel",
      "state": {
       "layout": "IPY_MODEL_10b4a347b006403791a536d0987dd0f1",
       "style": "IPY_MODEL_88f63eb74dd84e6fb2046b5f10ad9e88",
       "value": " 589/589 [4:19:31&lt;00:00,  2.59it/s]"
      }
     },
     "37827bc640a94a03b74a969ddff9c7e7": {
      "model_module": "@jupyter-widgets/base",
      "model_module_version": "1.2.0",
      "model_name": "LayoutModel",
      "state": {}
     },
     "3792a3da6e304532a5de99bb5d6d70a2": {
      "model_module": "@jupyter-widgets/base",
      "model_module_version": "1.2.0",
      "model_name": "LayoutModel",
      "state": {}
     },
     "379a261c662740fca04b53694a8a6e6b": {
      "model_module": "@jupyter-widgets/base",
      "model_module_version": "1.2.0",
      "model_name": "LayoutModel",
      "state": {}
     },
     "37adab152f7d4fb68d6b390ea4f10393": {
      "model_module": "@jupyter-widgets/controls",
      "model_module_version": "1.5.0",
      "model_name": "HBoxModel",
      "state": {
       "children": [
        "IPY_MODEL_eef9df3bbe5e4502b276f9b6b7f3556c",
        "IPY_MODEL_9852ff74816e4c31922547ddf781502d"
       ],
       "layout": "IPY_MODEL_b9e33b99ada0467e89d32ed3f0852965"
      }
     },
     "37be8417389f464993e83bf1fbb2657b": {
      "model_module": "@jupyter-widgets/controls",
      "model_module_version": "1.5.0",
      "model_name": "DescriptionStyleModel",
      "state": {
       "description_width": ""
      }
     },
     "37cd613cfb084a708563006e57aee84a": {
      "model_module": "@jupyter-widgets/base",
      "model_module_version": "1.2.0",
      "model_name": "LayoutModel",
      "state": {}
     },
     "380fdd5a69664581bad9976472f0668a": {
      "model_module": "@jupyter-widgets/base",
      "model_module_version": "1.2.0",
      "model_name": "LayoutModel",
      "state": {}
     },
     "382e137e724a4f729e3f57e3127deabd": {
      "model_module": "@jupyter-widgets/controls",
      "model_module_version": "1.5.0",
      "model_name": "FloatProgressModel",
      "state": {
       "description": "Train Epoch #10 - loss:   5.602: 100%",
       "layout": "IPY_MODEL_86f9052c7f9f4268b59d9616f904843c",
       "max": 589,
       "style": "IPY_MODEL_33d87734bc4f4756a4e278b8bce8b29c",
       "value": 589
      }
     },
     "38597055dba24f00931220b9380f5b52": {
      "model_module": "@jupyter-widgets/base",
      "model_module_version": "1.2.0",
      "model_name": "LayoutModel",
      "state": {}
     },
     "38b2f87936e24d04848d58dae372938c": {
      "model_module": "@jupyter-widgets/controls",
      "model_module_version": "1.5.0",
      "model_name": "HBoxModel",
      "state": {
       "children": [
        "IPY_MODEL_dc7d789b594541d08f6c82114e87cc78",
        "IPY_MODEL_cbf2d9b00fad4417b727cd48294ce065"
       ],
       "layout": "IPY_MODEL_5237f28bd23c488a860e81d74716b795"
      }
     },
     "38b3eb1b5a3f4a8ebeab2329a31a2bc6": {
      "model_module": "@jupyter-widgets/controls",
      "model_module_version": "1.5.0",
      "model_name": "DescriptionStyleModel",
      "state": {
       "description_width": ""
      }
     },
     "38f51a104304495eaf1123c6cef1e1c4": {
      "model_module": "@jupyter-widgets/base",
      "model_module_version": "1.2.0",
      "model_name": "LayoutModel",
      "state": {}
     },
     "3900acd49bf2485ab1f14336668a3cc9": {
      "model_module": "@jupyter-widgets/controls",
      "model_module_version": "1.5.0",
      "model_name": "DescriptionStyleModel",
      "state": {
       "description_width": ""
      }
     },
     "39283f5adc994c1f845fa034471858c4": {
      "model_module": "@jupyter-widgets/base",
      "model_module_version": "1.2.0",
      "model_name": "LayoutModel",
      "state": {}
     },
     "393699a20fb94142b8e1267768f03a71": {
      "model_module": "@jupyter-widgets/controls",
      "model_module_version": "1.5.0",
      "model_name": "ProgressStyleModel",
      "state": {
       "description_width": "initial"
      }
     },
     "395e19ffbf3748348ccd0c4c214f31d5": {
      "model_module": "@jupyter-widgets/controls",
      "model_module_version": "1.5.0",
      "model_name": "ProgressStyleModel",
      "state": {
       "description_width": "initial"
      }
     },
     "397061d65e714a9c8d3d08a9c557deea": {
      "model_module": "@jupyter-widgets/controls",
      "model_module_version": "1.5.0",
      "model_name": "DescriptionStyleModel",
      "state": {
       "description_width": ""
      }
     },
     "39a5416a963741288d36ea888e170dc6": {
      "model_module": "@jupyter-widgets/controls",
      "model_module_version": "1.5.0",
      "model_name": "ProgressStyleModel",
      "state": {
       "description_width": "initial"
      }
     },
     "39b69628edb14f07a47112537d9297ac": {
      "model_module": "@jupyter-widgets/controls",
      "model_module_version": "1.5.0",
      "model_name": "HBoxModel",
      "state": {
       "children": [
        "IPY_MODEL_1787efb4fde549d49a1613a161ab1a98",
        "IPY_MODEL_90b6c8098bfe414c9a2c4bbd28dcc58d"
       ],
       "layout": "IPY_MODEL_37cd613cfb084a708563006e57aee84a"
      }
     },
     "3a151a740057455890c9023eaadc06ed": {
      "model_module": "@jupyter-widgets/base",
      "model_module_version": "1.2.0",
      "model_name": "LayoutModel",
      "state": {}
     },
     "3a162822287e48debefdc9300b01ac2f": {
      "model_module": "@jupyter-widgets/controls",
      "model_module_version": "1.5.0",
      "model_name": "FloatProgressModel",
      "state": {
       "description": "Train Epoch #17 - loss:   4.769: 100%",
       "layout": "IPY_MODEL_48f60620fae44f1c91bf344b69034132",
       "max": 589,
       "style": "IPY_MODEL_50b15074cf4140539941deec3acc5700",
       "value": 589
      }
     },
     "3a496b53b8054b8b9011a3fe622bc96f": {
      "model_module": "@jupyter-widgets/controls",
      "model_module_version": "1.5.0",
      "model_name": "HBoxModel",
      "state": {
       "children": [
        "IPY_MODEL_b2e4f9b1e5ea427c9d151893702cf1bb",
        "IPY_MODEL_b9e009c8c96a41bbbbed1b9d88306229"
       ],
       "layout": "IPY_MODEL_401c7434dd484338b138bb9ab5b29b09"
      }
     },
     "3ab4ab088669462e8766ba93f0eb1904": {
      "model_module": "@jupyter-widgets/base",
      "model_module_version": "1.2.0",
      "model_name": "LayoutModel",
      "state": {}
     },
     "3ab8891a7e2b4caea24aa68ac287d582": {
      "model_module": "@jupyter-widgets/controls",
      "model_module_version": "1.5.0",
      "model_name": "HTMLModel",
      "state": {
       "layout": "IPY_MODEL_e315bd0593f1443d835796c2fef7190e",
       "style": "IPY_MODEL_29c6ddfab35b4d9c8791a228a9a14ca0",
       "value": " 589/589 [5:23:14&lt;00:00,  2.94it/s]"
      }
     },
     "3ac7246dc999460f9ed62530cada374c": {
      "model_module": "@jupyter-widgets/controls",
      "model_module_version": "1.5.0",
      "model_name": "DescriptionStyleModel",
      "state": {
       "description_width": ""
      }
     },
     "3ac843e9f1044e88b470da38b6f42813": {
      "model_module": "@jupyter-widgets/controls",
      "model_module_version": "1.5.0",
      "model_name": "ProgressStyleModel",
      "state": {
       "description_width": "initial"
      }
     },
     "3ad5de6f1962430c9f461c5616d60a28": {
      "model_module": "@jupyter-widgets/controls",
      "model_module_version": "1.5.0",
      "model_name": "DescriptionStyleModel",
      "state": {
       "description_width": ""
      }
     },
     "3ad9860d9c7242508c1a61836b337d8c": {
      "model_module": "@jupyter-widgets/base",
      "model_module_version": "1.2.0",
      "model_name": "LayoutModel",
      "state": {}
     },
     "3af9cb91115d4bdcbfb852d46e5f4d70": {
      "model_module": "@jupyter-widgets/controls",
      "model_module_version": "1.5.0",
      "model_name": "HBoxModel",
      "state": {
       "children": [
        "IPY_MODEL_c10eefa2c7074ca8be9fbe726c83ac02",
        "IPY_MODEL_ba54eb743ef4465ebe170017948eece7"
       ],
       "layout": "IPY_MODEL_342d052ee2c249ce9c2e9d22ff572088"
      }
     },
     "3b13d36ddb0c4677b90a924b5e385742": {
      "model_module": "@jupyter-widgets/base",
      "model_module_version": "1.2.0",
      "model_name": "LayoutModel",
      "state": {}
     },
     "3b495816a9514dbfafa85236bf0407d5": {
      "model_module": "@jupyter-widgets/controls",
      "model_module_version": "1.5.0",
      "model_name": "HBoxModel",
      "state": {
       "children": [
        "IPY_MODEL_7a80c031246441da8d0e825ccf0b5268",
        "IPY_MODEL_fabd0d259159447ca0331ea505e70bcc"
       ],
       "layout": "IPY_MODEL_b17edbc6a51c416e99612a58b780983d"
      }
     },
     "3b9796a63bb049b1a47f952572f79c2a": {
      "model_module": "@jupyter-widgets/base",
      "model_module_version": "1.2.0",
      "model_name": "LayoutModel",
      "state": {}
     },
     "3baf6e95a4d548bfb1902c1bef9c41e8": {
      "model_module": "@jupyter-widgets/controls",
      "model_module_version": "1.5.0",
      "model_name": "HTMLModel",
      "state": {
       "layout": "IPY_MODEL_854ba70239b04fde8aaa5bcefc45f30f",
       "style": "IPY_MODEL_36785581528242e58e2bdebe63527171",
       "value": " 589/589 [9:10:13&lt;00:00,  3.64it/s]"
      }
     },
     "3bafc50ef01c4d9e95475a4de35ffff7": {
      "model_module": "@jupyter-widgets/controls",
      "model_module_version": "1.5.0",
      "model_name": "ProgressStyleModel",
      "state": {
       "description_width": "initial"
      }
     },
     "3bd7a129732742869b5a30964c40f20f": {
      "model_module": "@jupyter-widgets/controls",
      "model_module_version": "1.5.0",
      "model_name": "ProgressStyleModel",
      "state": {
       "description_width": "initial"
      }
     },
     "3c10a011ee3d46d78e1fea73f183508c": {
      "model_module": "@jupyter-widgets/controls",
      "model_module_version": "1.5.0",
      "model_name": "ProgressStyleModel",
      "state": {
       "description_width": "initial"
      }
     },
     "3c164d40001247d383eaca531bc8eacd": {
      "model_module": "@jupyter-widgets/controls",
      "model_module_version": "1.5.0",
      "model_name": "ProgressStyleModel",
      "state": {
       "description_width": "initial"
      }
     },
     "3c18aa25bebf44218511ffd6c7360a9b": {
      "model_module": "@jupyter-widgets/base",
      "model_module_version": "1.2.0",
      "model_name": "LayoutModel",
      "state": {}
     },
     "3c1d27c8aae54deb95fa02b854ecdba6": {
      "model_module": "@jupyter-widgets/controls",
      "model_module_version": "1.5.0",
      "model_name": "FloatProgressModel",
      "state": {
       "description": "Val Epoch #67 - loss:   8.326: 100%",
       "layout": "IPY_MODEL_5876ffd6ffdf4b4ca959af6092b343e9",
       "max": 74,
       "style": "IPY_MODEL_ee5d89d20c524c58b5d65ce6b9e18200",
       "value": 74
      }
     },
     "3c2c6be2f88649a59860c125f856e047": {
      "model_module": "@jupyter-widgets/base",
      "model_module_version": "1.2.0",
      "model_name": "LayoutModel",
      "state": {}
     },
     "3c32ea0c62994b6589a00c51ef7a0803": {
      "model_module": "@jupyter-widgets/controls",
      "model_module_version": "1.5.0",
      "model_name": "DescriptionStyleModel",
      "state": {
       "description_width": ""
      }
     },
     "3c5fb6c8a6c049bd8925a8beb2553f3b": {
      "model_module": "@jupyter-widgets/base",
      "model_module_version": "1.2.0",
      "model_name": "LayoutModel",
      "state": {}
     },
     "3c9dab41b6c2491292066e93b53e7b39": {
      "model_module": "@jupyter-widgets/base",
      "model_module_version": "1.2.0",
      "model_name": "LayoutModel",
      "state": {}
     },
     "3ccb47b0e9644983b75bb220668a2153": {
      "model_module": "@jupyter-widgets/controls",
      "model_module_version": "1.5.0",
      "model_name": "HTMLModel",
      "state": {
       "layout": "IPY_MODEL_3edd3e0c1f664ec6b6c15f99168c2ce8",
       "style": "IPY_MODEL_7e39fcf74e5045a08ff8bb190e0c2263",
       "value": " 74/74 [6:17:28&lt;00:00,  4.81it/s]"
      }
     },
     "3ceace26052a4334bdccdcbdb88ce35e": {
      "model_module": "@jupyter-widgets/base",
      "model_module_version": "1.2.0",
      "model_name": "LayoutModel",
      "state": {}
     },
     "3d173a6df0874121b88428508eaaa128": {
      "model_module": "@jupyter-widgets/controls",
      "model_module_version": "1.5.0",
      "model_name": "HTMLModel",
      "state": {
       "layout": "IPY_MODEL_688f7e44e0d04225980bd7afd64024e6",
       "style": "IPY_MODEL_2fdec8131aea4a3bb0a69af044ec25fd",
       "value": " 589/589 [7:56:50&lt;00:00,  3.34it/s]"
      }
     },
     "3d3a39f454fb4142b7c6688f21e64994": {
      "model_module": "@jupyter-widgets/controls",
      "model_module_version": "1.5.0",
      "model_name": "DescriptionStyleModel",
      "state": {
       "description_width": ""
      }
     },
     "3d5ae3c5606e4a51abeaf32aed84de5a": {
      "model_module": "@jupyter-widgets/base",
      "model_module_version": "1.2.0",
      "model_name": "LayoutModel",
      "state": {}
     },
     "3da9194e3d054a908819bc9aadc7f355": {
      "model_module": "@jupyter-widgets/controls",
      "model_module_version": "1.5.0",
      "model_name": "FloatProgressModel",
      "state": {
       "description": "Train Epoch #91 - loss:   1.321: 100%",
       "layout": "IPY_MODEL_6a863802a5af4d1f8f2ab6421ad95687",
       "max": 589,
       "style": "IPY_MODEL_1eada084dd7a47368e2b6c7e37ae6e0c",
       "value": 589
      }
     },
     "3e04368ccea942b48ca0ac4d77068b78": {
      "model_module": "@jupyter-widgets/controls",
      "model_module_version": "1.5.0",
      "model_name": "HBoxModel",
      "state": {
       "children": [
        "IPY_MODEL_1d79444cb60c48e3998a6c901e754a7c",
        "IPY_MODEL_2e3e115a2a1748328601286a71c292fe"
       ],
       "layout": "IPY_MODEL_25e6626c401e4cb99833e4dd893cea93"
      }
     },
     "3e220ddf4d6040e9baf729f1b1d2462c": {
      "model_module": "@jupyter-widgets/controls",
      "model_module_version": "1.5.0",
      "model_name": "HTMLModel",
      "state": {
       "layout": "IPY_MODEL_20a9bf37858e44deaf3cdb0afc280ddc",
       "style": "IPY_MODEL_1836f4f7a7474f7bae0d611cf82141ce",
       "value": " 74/74 [4:38:08&lt;00:00,  5.69it/s]"
      }
     },
     "3e35864a378c4317ba8dedbb63d79954": {
      "model_module": "@jupyter-widgets/controls",
      "model_module_version": "1.5.0",
      "model_name": "DescriptionStyleModel",
      "state": {
       "description_width": ""
      }
     },
     "3e63760c58a34cd8b9884f0aef75350c": {
      "model_module": "@jupyter-widgets/base",
      "model_module_version": "1.2.0",
      "model_name": "LayoutModel",
      "state": {}
     },
     "3e8bf0081af642ddba4b2b48c787d962": {
      "model_module": "@jupyter-widgets/base",
      "model_module_version": "1.2.0",
      "model_name": "LayoutModel",
      "state": {}
     },
     "3e956a0cc489459ab7fd9d79b23f444b": {
      "model_module": "@jupyter-widgets/base",
      "model_module_version": "1.2.0",
      "model_name": "LayoutModel",
      "state": {}
     },
     "3e9f07e87a034dc186ff4b664414be6f": {
      "model_module": "@jupyter-widgets/base",
      "model_module_version": "1.2.0",
      "model_name": "LayoutModel",
      "state": {}
     },
     "3ea48f136ad54554af70d7483ae10a42": {
      "model_module": "@jupyter-widgets/controls",
      "model_module_version": "1.5.0",
      "model_name": "DescriptionStyleModel",
      "state": {
       "description_width": ""
      }
     },
     "3ea98c4c051042b797c7a151feaa75e0": {
      "model_module": "@jupyter-widgets/base",
      "model_module_version": "1.2.0",
      "model_name": "LayoutModel",
      "state": {}
     },
     "3ebf5b9b9b784bf6a413e8785f26a495": {
      "model_module": "@jupyter-widgets/controls",
      "model_module_version": "1.5.0",
      "model_name": "ProgressStyleModel",
      "state": {
       "description_width": "initial"
      }
     },
     "3ec6bbfa3fab4b2db92585fa7f0e463f": {
      "model_module": "@jupyter-widgets/base",
      "model_module_version": "1.2.0",
      "model_name": "LayoutModel",
      "state": {}
     },
     "3ed00cfd924840f79747a8446a97c3fb": {
      "model_module": "@jupyter-widgets/base",
      "model_module_version": "1.2.0",
      "model_name": "LayoutModel",
      "state": {}
     },
     "3edd3e0c1f664ec6b6c15f99168c2ce8": {
      "model_module": "@jupyter-widgets/base",
      "model_module_version": "1.2.0",
      "model_name": "LayoutModel",
      "state": {}
     },
     "3ee4c4e061154ffcb4f58e6645be4906": {
      "model_module": "@jupyter-widgets/base",
      "model_module_version": "1.2.0",
      "model_name": "LayoutModel",
      "state": {}
     },
     "3f0521dfe8f241a0ae298b7a8641f8e4": {
      "model_module": "@jupyter-widgets/controls",
      "model_module_version": "1.5.0",
      "model_name": "HTMLModel",
      "state": {
       "layout": "IPY_MODEL_c0b859674144435592980bf5052f5051",
       "style": "IPY_MODEL_f76f2d44110d49ef95ea37a1bf45f590",
       "value": " 74/74 [5:23:31&lt;00:00,  5.45it/s]"
      }
     },
     "3f349e7d4ccc4ed1b5868b3cf02880e9": {
      "model_module": "@jupyter-widgets/controls",
      "model_module_version": "1.5.0",
      "model_name": "FloatProgressModel",
      "state": {
       "description": "Train Epoch #26 - loss:   3.719: 100%",
       "layout": "IPY_MODEL_666cf38737924592ac346ea0bf94b6d3",
       "max": 589,
       "style": "IPY_MODEL_4463ed203ac249099b0f420435570d5b",
       "value": 589
      }
     },
     "3f48871115174d95b8df05728f8677fe": {
      "model_module": "@jupyter-widgets/controls",
      "model_module_version": "1.5.0",
      "model_name": "HBoxModel",
      "state": {
       "children": [
        "IPY_MODEL_e9b5a3c533ae42e484a19a7580210d00",
        "IPY_MODEL_ebf6d6d5468f4cacbbe2d87338d6d8fb"
       ],
       "layout": "IPY_MODEL_e299dd1d416a48bd8c3d0fc472b65289"
      }
     },
     "3f496a8f0d1b4e3c86860145f35736c2": {
      "model_module": "@jupyter-widgets/controls",
      "model_module_version": "1.5.0",
      "model_name": "ProgressStyleModel",
      "state": {
       "description_width": "initial"
      }
     },
     "3f5c046ee61d4898a70ef927fad36b59": {
      "model_module": "@jupyter-widgets/controls",
      "model_module_version": "1.5.0",
      "model_name": "HBoxModel",
      "state": {
       "children": [
        "IPY_MODEL_5a683ef5a2d14890a6d1b586335f956e",
        "IPY_MODEL_16d59701ff384b2d898044ceca73f08b"
       ],
       "layout": "IPY_MODEL_8458919cbabb47e9a7631b89ae9bf919"
      }
     },
     "3f660af6eac84a2a865f0da25fe484dd": {
      "model_module": "@jupyter-widgets/controls",
      "model_module_version": "1.5.0",
      "model_name": "HTMLModel",
      "state": {
       "layout": "IPY_MODEL_616a89741dad4073b7a47c5b4daff8f7",
       "style": "IPY_MODEL_7459ad0cf8cb416bb0d95c00bad0f83b",
       "value": " 74/74 [6:47:51&lt;00:00,  5.42it/s]"
      }
     },
     "3f80ca9e7de64be7aa49318d8287ced7": {
      "model_module": "@jupyter-widgets/base",
      "model_module_version": "1.2.0",
      "model_name": "LayoutModel",
      "state": {}
     },
     "3f831fce85c242c194abb9a170841519": {
      "model_module": "@jupyter-widgets/controls",
      "model_module_version": "1.5.0",
      "model_name": "HBoxModel",
      "state": {
       "children": [
        "IPY_MODEL_defcd904fbc94b9c9037449a0ddc3bca",
        "IPY_MODEL_65c58f30a30f44bea5c933641091a286"
       ],
       "layout": "IPY_MODEL_2f10e7237dde4a61b6df366d2b558ba4"
      }
     },
     "3f8d513b1d194f0b93412b2a3956231f": {
      "model_module": "@jupyter-widgets/controls",
      "model_module_version": "1.5.0",
      "model_name": "ProgressStyleModel",
      "state": {
       "description_width": "initial"
      }
     },
     "3f9bfcda02ed4cb29b569db15db040ab": {
      "model_module": "@jupyter-widgets/controls",
      "model_module_version": "1.5.0",
      "model_name": "DescriptionStyleModel",
      "state": {
       "description_width": ""
      }
     },
     "3f9e47ca0a2b40468a04979f9f26b1f2": {
      "model_module": "@jupyter-widgets/controls",
      "model_module_version": "1.5.0",
      "model_name": "FloatProgressModel",
      "state": {
       "description": "Val Epoch #97 - loss:    8.74: 100%",
       "layout": "IPY_MODEL_9a95b3a28b1f4e8ea66c961a7b534066",
       "max": 74,
       "style": "IPY_MODEL_a2dbccd2aff1447d8e1370a9d6400352",
       "value": 74
      }
     },
     "3fac38ecb35f4949908022010950fbc6": {
      "model_module": "@jupyter-widgets/controls",
      "model_module_version": "1.5.0",
      "model_name": "HTMLModel",
      "state": {
       "layout": "IPY_MODEL_cb49c6b566884742b346d6677029f202",
       "style": "IPY_MODEL_4b7455d78a2341659dec56743c7dbd8b",
       "value": " 589/589 [8:38:03&lt;00:00,  3.28it/s]"
      }
     },
     "3fe08a0e665a4ec9a96345a858cb72d8": {
      "model_module": "@jupyter-widgets/controls",
      "model_module_version": "1.5.0",
      "model_name": "HTMLModel",
      "state": {
       "layout": "IPY_MODEL_5d0b4624ac964579b8e8de7905bdefb1",
       "style": "IPY_MODEL_a0151f897db843cba890eebdb30e2960",
       "value": " 589/589 [2:10:17&lt;00:00,  2.20it/s]"
      }
     },
     "3ff92247511f46f5af0bc4fe4ddd766a": {
      "model_module": "@jupyter-widgets/base",
      "model_module_version": "1.2.0",
      "model_name": "LayoutModel",
      "state": {}
     },
     "401c7434dd484338b138bb9ab5b29b09": {
      "model_module": "@jupyter-widgets/base",
      "model_module_version": "1.2.0",
      "model_name": "LayoutModel",
      "state": {}
     },
     "4026c1c026a54ee5a7a5fd6af0a757f6": {
      "model_module": "@jupyter-widgets/base",
      "model_module_version": "1.2.0",
      "model_name": "LayoutModel",
      "state": {}
     },
     "40358c42283548e6908e2b5840da2aa0": {
      "model_module": "@jupyter-widgets/controls",
      "model_module_version": "1.5.0",
      "model_name": "ProgressStyleModel",
      "state": {
       "description_width": "initial"
      }
     },
     "4035984302724672959acf1290dd68b5": {
      "model_module": "@jupyter-widgets/controls",
      "model_module_version": "1.5.0",
      "model_name": "FloatProgressModel",
      "state": {
       "description": "Val Epoch #64 - loss:   8.218: 100%",
       "layout": "IPY_MODEL_8971f835037b44f58e3c56da5fd9e1ac",
       "max": 74,
       "style": "IPY_MODEL_e3bb62efab8e4432a4d25fc46a31715a",
       "value": 74
      }
     },
     "4044664eb69c403eb2f0d06033349de9": {
      "model_module": "@jupyter-widgets/base",
      "model_module_version": "1.2.0",
      "model_name": "LayoutModel",
      "state": {}
     },
     "404e3b8a326743ad927da37ac36645b4": {
      "model_module": "@jupyter-widgets/base",
      "model_module_version": "1.2.0",
      "model_name": "LayoutModel",
      "state": {}
     },
     "4071deabe30f4cd6ad32a6571b0be28a": {
      "model_module": "@jupyter-widgets/base",
      "model_module_version": "1.2.0",
      "model_name": "LayoutModel",
      "state": {}
     },
     "40720998031048be8ee6f6f9ca1588f3": {
      "model_module": "@jupyter-widgets/controls",
      "model_module_version": "1.5.0",
      "model_name": "ProgressStyleModel",
      "state": {
       "description_width": "initial"
      }
     },
     "40bc627f41834b5485cbeab832b170df": {
      "model_module": "@jupyter-widgets/controls",
      "model_module_version": "1.5.0",
      "model_name": "DescriptionStyleModel",
      "state": {
       "description_width": ""
      }
     },
     "40c018fc827548ec902032a575dfc7a7": {
      "model_module": "@jupyter-widgets/controls",
      "model_module_version": "1.5.0",
      "model_name": "HTMLModel",
      "state": {
       "layout": "IPY_MODEL_5f14ac80038a42d481c5d6933a4fd1d6",
       "style": "IPY_MODEL_08801cfe51774a60a75299619eefec15",
       "value": " 74/74 [7:04:39&lt;00:00,  6.49it/s]"
      }
     },
     "40caae155fe745c2901d4d87e7f0dc8f": {
      "model_module": "@jupyter-widgets/base",
      "model_module_version": "1.2.0",
      "model_name": "LayoutModel",
      "state": {}
     },
     "40d1cedce1024765be94d8124bdb4435": {
      "model_module": "@jupyter-widgets/controls",
      "model_module_version": "1.5.0",
      "model_name": "FloatProgressModel",
      "state": {
       "description": "Val Epoch #1 - loss:   8.621: 100%",
       "layout": "IPY_MODEL_bc32285cbfb64e718c3bdee5aeac1d90",
       "max": 74,
       "style": "IPY_MODEL_523e6696f4b347b0b96e891b9562b966",
       "value": 74
      }
     },
     "40feac9edc3844c793fbc56a1c08d774": {
      "model_module": "@jupyter-widgets/base",
      "model_module_version": "1.2.0",
      "model_name": "LayoutModel",
      "state": {}
     },
     "40fff8dec7544120990c0d8f79166eaa": {
      "model_module": "@jupyter-widgets/controls",
      "model_module_version": "1.5.0",
      "model_name": "FloatProgressModel",
      "state": {
       "description": "Train Epoch #72 - loss:   1.478: 100%",
       "layout": "IPY_MODEL_266c22c382ff4d50ab2b9f1031004ed2",
       "max": 589,
       "style": "IPY_MODEL_3ebf5b9b9b784bf6a413e8785f26a495",
       "value": 589
      }
     },
     "41300a6a53b84762a9f7efcb19072487": {
      "model_module": "@jupyter-widgets/controls",
      "model_module_version": "1.5.0",
      "model_name": "HBoxModel",
      "state": {
       "children": [
        "IPY_MODEL_422daf2d142f48589c08378b96c97c93",
        "IPY_MODEL_693f51e5fc3d48cc90f43020085b9d0b"
       ],
       "layout": "IPY_MODEL_a3f8fe6b8ea1437aab3eb744b7d1bfc8"
      }
     },
     "4134db6b3a9e455691724eae4a162327": {
      "model_module": "@jupyter-widgets/controls",
      "model_module_version": "1.5.0",
      "model_name": "DescriptionStyleModel",
      "state": {
       "description_width": ""
      }
     },
     "4156dc91e57a45e1aee2d7873ea2461c": {
      "model_module": "@jupyter-widgets/controls",
      "model_module_version": "1.5.0",
      "model_name": "DescriptionStyleModel",
      "state": {
       "description_width": ""
      }
     },
     "4160bae73cfa4b62a36066a1849323c5": {
      "model_module": "@jupyter-widgets/controls",
      "model_module_version": "1.5.0",
      "model_name": "FloatProgressModel",
      "state": {
       "description": "Val Epoch #19 - loss:   7.311: 100%",
       "layout": "IPY_MODEL_0b65926623b44267b88fb7bec43af33c",
       "max": 74,
       "style": "IPY_MODEL_3ac843e9f1044e88b470da38b6f42813",
       "value": 74
      }
     },
     "419e4200f4f3456d9efdfd49d50f0710": {
      "model_module": "@jupyter-widgets/base",
      "model_module_version": "1.2.0",
      "model_name": "LayoutModel",
      "state": {}
     },
     "41a874980ff84ffaab137df84182d731": {
      "model_module": "@jupyter-widgets/base",
      "model_module_version": "1.2.0",
      "model_name": "LayoutModel",
      "state": {}
     },
     "41b215dc1a9442ab9c6e13855c4d1b2e": {
      "model_module": "@jupyter-widgets/base",
      "model_module_version": "1.2.0",
      "model_name": "LayoutModel",
      "state": {}
     },
     "41c3226f696a4dfe82ecb6646f0b0ebc": {
      "model_module": "@jupyter-widgets/base",
      "model_module_version": "1.2.0",
      "model_name": "LayoutModel",
      "state": {}
     },
     "41c35088a70b484f8c24f235a2d268c8": {
      "model_module": "@jupyter-widgets/controls",
      "model_module_version": "1.5.0",
      "model_name": "ProgressStyleModel",
      "state": {
       "description_width": "initial"
      }
     },
     "41d1714b2b55484cb6f4299efcc57b69": {
      "model_module": "@jupyter-widgets/controls",
      "model_module_version": "1.5.0",
      "model_name": "DescriptionStyleModel",
      "state": {
       "description_width": ""
      }
     },
     "42227e13299d4d3aa32a3d4b2a870480": {
      "model_module": "@jupyter-widgets/controls",
      "model_module_version": "1.5.0",
      "model_name": "HTMLModel",
      "state": {
       "layout": "IPY_MODEL_b85c44732ae5446facbd799c6c20f873",
       "style": "IPY_MODEL_06115c2c8b2c4b0bacd381c914f04655",
       "value": " 74/74 [6:44:34&lt;00:00,  6.06it/s]"
      }
     },
     "4222b11ee3c046829205fdccb3326665": {
      "model_module": "@jupyter-widgets/base",
      "model_module_version": "1.2.0",
      "model_name": "LayoutModel",
      "state": {}
     },
     "422daf2d142f48589c08378b96c97c93": {
      "model_module": "@jupyter-widgets/controls",
      "model_module_version": "1.5.0",
      "model_name": "FloatProgressModel",
      "state": {
       "description": "Train Epoch #4 - loss:   7.292: 100%",
       "layout": "IPY_MODEL_8e43dc7dc77f49c6bfe9f7a56b162099",
       "max": 589,
       "style": "IPY_MODEL_5232561178f94feb89bb580f44f7506e",
       "value": 589
      }
     },
     "4254e0a1bb81471c9eeabce197b52e09": {
      "model_module": "@jupyter-widgets/controls",
      "model_module_version": "1.5.0",
      "model_name": "ProgressStyleModel",
      "state": {
       "description_width": "initial"
      }
     },
     "425dc8aeb28b4fbca1e09aedb6937298": {
      "model_module": "@jupyter-widgets/controls",
      "model_module_version": "1.5.0",
      "model_name": "DescriptionStyleModel",
      "state": {
       "description_width": ""
      }
     },
     "4265326e9042425c9ce2c9bedd4d9c61": {
      "model_module": "@jupyter-widgets/base",
      "model_module_version": "1.2.0",
      "model_name": "LayoutModel",
      "state": {}
     },
     "426ad6b7513e4b02ace19ee12083dcca": {
      "model_module": "@jupyter-widgets/controls",
      "model_module_version": "1.5.0",
      "model_name": "HBoxModel",
      "state": {
       "children": [
        "IPY_MODEL_1f9efcb6313142249660f77ebfb9a4de",
        "IPY_MODEL_771b34e0999d49a986532ffb3cad42b8"
       ],
       "layout": "IPY_MODEL_d3b1c9014688454483a24956deb17892"
      }
     },
     "42824f4ea0a64dc58101526270d4e04b": {
      "model_module": "@jupyter-widgets/controls",
      "model_module_version": "1.5.0",
      "model_name": "FloatProgressModel",
      "state": {
       "description": "Val Epoch #5 - loss:   7.836: 100%",
       "layout": "IPY_MODEL_abdb3b2b3dfd49b88d3852c64ec93fe6",
       "max": 74,
       "style": "IPY_MODEL_f12695f7d970492c807d64351fcc17fd",
       "value": 74
      }
     },
     "429a8e8dbedd458e85be3c62fabdc428": {
      "model_module": "@jupyter-widgets/controls",
      "model_module_version": "1.5.0",
      "model_name": "HTMLModel",
      "state": {
       "layout": "IPY_MODEL_9b98cf31fa0b45ac93daa4d5c0bd4217",
       "style": "IPY_MODEL_afead963a2454e18bdc5e29ba1a2112a",
       "value": " 589/589 [8:24:52&lt;00:00,  3.39it/s]"
      }
     },
     "42a86823e3314a9482f05a3188a96f09": {
      "model_module": "@jupyter-widgets/base",
      "model_module_version": "1.2.0",
      "model_name": "LayoutModel",
      "state": {}
     },
     "42bfc9c2e17c4168b27e884280d46cc0": {
      "model_module": "@jupyter-widgets/base",
      "model_module_version": "1.2.0",
      "model_name": "LayoutModel",
      "state": {}
     },
     "4326903256b14234884636c8c099f22a": {
      "model_module": "@jupyter-widgets/controls",
      "model_module_version": "1.5.0",
      "model_name": "DescriptionStyleModel",
      "state": {
       "description_width": ""
      }
     },
     "4348f51242c74de888b4a1cfda20f511": {
      "model_module": "@jupyter-widgets/controls",
      "model_module_version": "1.5.0",
      "model_name": "HBoxModel",
      "state": {
       "children": [
        "IPY_MODEL_c8ff94e82427432d8368ef5a7181efb0",
        "IPY_MODEL_0719425d5ff2476f8535b800812beff9"
       ],
       "layout": "IPY_MODEL_09853d983eee453c93a5f937f4892890"
      }
     },
     "434d366038a24a4b91a6727334037d80": {
      "model_module": "@jupyter-widgets/controls",
      "model_module_version": "1.5.0",
      "model_name": "HBoxModel",
      "state": {
       "children": [
        "IPY_MODEL_07d5f938039546e7859c0468df7c778d",
        "IPY_MODEL_cff378d13d3949878cb228c615d105c9"
       ],
       "layout": "IPY_MODEL_8ab6852cb7f74dd4a731ad71f571a15e"
      }
     },
     "43632b30411443c4af1aea4470cd907d": {
      "model_module": "@jupyter-widgets/base",
      "model_module_version": "1.2.0",
      "model_name": "LayoutModel",
      "state": {}
     },
     "43780c1745874b06a54bb723a090c6ad": {
      "model_module": "@jupyter-widgets/controls",
      "model_module_version": "1.5.0",
      "model_name": "DescriptionStyleModel",
      "state": {
       "description_width": ""
      }
     },
     "439737cecf344effb4146dc180b21501": {
      "model_module": "@jupyter-widgets/controls",
      "model_module_version": "1.5.0",
      "model_name": "DescriptionStyleModel",
      "state": {
       "description_width": ""
      }
     },
     "43a2fd25736d40049b71221d9d28ae52": {
      "model_module": "@jupyter-widgets/controls",
      "model_module_version": "1.5.0",
      "model_name": "FloatProgressModel",
      "state": {
       "description": "Train Epoch #1 - loss:   7.716: 100%",
       "layout": "IPY_MODEL_f24c852003d14f108a80a8bcda199003",
       "max": 589,
       "style": "IPY_MODEL_9f8b585dc77d48bc9ab809e69961bc6e",
       "value": 589
      }
     },
     "43ab195365c54083b215788076ed2595": {
      "model_module": "@jupyter-widgets/controls",
      "model_module_version": "1.5.0",
      "model_name": "HTMLModel",
      "state": {
       "layout": "IPY_MODEL_78ca93982fd8492c8c5b5a9de7a59f8a",
       "style": "IPY_MODEL_f8fe10c3bf244022b42b1c5fc51dfdbf",
       "value": " 589/589 [6:08:15&lt;00:00,  3.09it/s]"
      }
     },
     "43b7e71aedab460cbde1a87995ce57ca": {
      "model_module": "@jupyter-widgets/controls",
      "model_module_version": "1.5.0",
      "model_name": "DescriptionStyleModel",
      "state": {
       "description_width": ""
      }
     },
     "43c54eb7738d4234870fd90e0ce97233": {
      "model_module": "@jupyter-widgets/controls",
      "model_module_version": "1.5.0",
      "model_name": "DescriptionStyleModel",
      "state": {
       "description_width": ""
      }
     },
     "43f4961a634c4505a454da23d8eea7fc": {
      "model_module": "@jupyter-widgets/controls",
      "model_module_version": "1.5.0",
      "model_name": "ProgressStyleModel",
      "state": {
       "description_width": "initial"
      }
     },
     "43f810bbacff4a8c83985204da32c669": {
      "model_module": "@jupyter-widgets/base",
      "model_module_version": "1.2.0",
      "model_name": "LayoutModel",
      "state": {}
     },
     "4403c4e0a66d458e841981f8cf568eb5": {
      "model_module": "@jupyter-widgets/controls",
      "model_module_version": "1.5.0",
      "model_name": "FloatProgressModel",
      "state": {
       "description": "Train Epoch #8 - loss:    5.83: 100%",
       "layout": "IPY_MODEL_acb5ff84b2cb42569f6c322e3f99d2e1",
       "max": 589,
       "style": "IPY_MODEL_60442e1c49f043f4841767c7f8c44b8c",
       "value": 589
      }
     },
     "441bf4e3d826425290c111d9ea217779": {
      "model_module": "@jupyter-widgets/controls",
      "model_module_version": "1.5.0",
      "model_name": "HTMLModel",
      "state": {
       "layout": "IPY_MODEL_8c21d22521c04374863a5177d38ae2a9",
       "style": "IPY_MODEL_04509bc5d61842fc832d6da0c6dfbaa0",
       "value": " 74/74 [9:05:04&lt;00:00,  5.97it/s]"
      }
     },
     "442027cad36c4a59bab3e085d50bfe1a": {
      "model_module": "@jupyter-widgets/base",
      "model_module_version": "1.2.0",
      "model_name": "LayoutModel",
      "state": {}
     },
     "4429c1e26f274c6e913bd3289db87ab8": {
      "model_module": "@jupyter-widgets/controls",
      "model_module_version": "1.5.0",
      "model_name": "HBoxModel",
      "state": {
       "children": [
        "IPY_MODEL_358fe0b20c5944ee8de1da680f87ce6f",
        "IPY_MODEL_1aa71509a0a04d50bbec9ba2c13275a1"
       ],
       "layout": "IPY_MODEL_a38dd07baa5d434cb8c8f60a778b80e2"
      }
     },
     "444685c9458a479fbc2b29f548309034": {
      "model_module": "@jupyter-widgets/controls",
      "model_module_version": "1.5.0",
      "model_name": "ProgressStyleModel",
      "state": {
       "description_width": "initial"
      }
     },
     "444a8f9ed4ef4ee0a14065f58bb7824d": {
      "model_module": "@jupyter-widgets/controls",
      "model_module_version": "1.5.0",
      "model_name": "FloatProgressModel",
      "state": {
       "description": "Val Epoch #17 - loss:   7.168: 100%",
       "layout": "IPY_MODEL_5e2ca1277aca48c48a61ec8ee7cba097",
       "max": 74,
       "style": "IPY_MODEL_d5b2eb9ed991472cb341c76c47eab779",
       "value": 74
      }
     },
     "4463ed203ac249099b0f420435570d5b": {
      "model_module": "@jupyter-widgets/controls",
      "model_module_version": "1.5.0",
      "model_name": "ProgressStyleModel",
      "state": {
       "description_width": "initial"
      }
     },
     "447e358c1ff34a198cb2cf99035c4d90": {
      "model_module": "@jupyter-widgets/base",
      "model_module_version": "1.2.0",
      "model_name": "LayoutModel",
      "state": {}
     },
     "44b2b4d4198c43c7ac25e177cc245b72": {
      "model_module": "@jupyter-widgets/controls",
      "model_module_version": "1.5.0",
      "model_name": "HTMLModel",
      "state": {
       "layout": "IPY_MODEL_2e99a9e9218245af8758551b15af0d00",
       "style": "IPY_MODEL_1066785e46b14d40acd88737e17bf339",
       "value": " 74/74 [6:54:18&lt;00:00,  5.35it/s]"
      }
     },
     "44bb0ca781034d6ba3e88fb0667d39fc": {
      "model_module": "@jupyter-widgets/base",
      "model_module_version": "1.2.0",
      "model_name": "LayoutModel",
      "state": {}
     },
     "44c22627537642f39d4137f11edce19f": {
      "model_module": "@jupyter-widgets/base",
      "model_module_version": "1.2.0",
      "model_name": "LayoutModel",
      "state": {}
     },
     "44c32260a5c748aab6b40cc06cd0853c": {
      "model_module": "@jupyter-widgets/controls",
      "model_module_version": "1.5.0",
      "model_name": "HBoxModel",
      "state": {
       "children": [
        "IPY_MODEL_960ae09711744eb79fbc0c215855f98d",
        "IPY_MODEL_74bb556d64be4859a81b8254a8adf7bf"
       ],
       "layout": "IPY_MODEL_29b5b7f1c8e54a4987dad1e0bfc41b95"
      }
     },
     "44cefbe47ec74b82a8289fcd003433b5": {
      "model_module": "@jupyter-widgets/controls",
      "model_module_version": "1.5.0",
      "model_name": "HBoxModel",
      "state": {
       "children": [
        "IPY_MODEL_4fdccda019714ddf8774c38c9b81dbf3",
        "IPY_MODEL_aaedc70dc1ae4e5fabe9ff941059f1b7"
       ],
       "layout": "IPY_MODEL_08958e6d60654fe08d2efda0e27316f5"
      }
     },
     "4507e5a1c83a445fab0bfe3fca117a87": {
      "model_module": "@jupyter-widgets/base",
      "model_module_version": "1.2.0",
      "model_name": "LayoutModel",
      "state": {}
     },
     "4514bce92f234b358fe449ab1c8d7e43": {
      "model_module": "@jupyter-widgets/controls",
      "model_module_version": "1.5.0",
      "model_name": "FloatProgressModel",
      "state": {
       "description": "Train Epoch #71 - loss:   1.492: 100%",
       "layout": "IPY_MODEL_e8f2dac68cb94e9a9f3b4ffe6e121530",
       "max": 589,
       "style": "IPY_MODEL_e94940dad40c46d3a5c60fb4fe9f9f0b",
       "value": 589
      }
     },
     "451a03c63af54d4bae47bf89f6caf43a": {
      "model_module": "@jupyter-widgets/controls",
      "model_module_version": "1.5.0",
      "model_name": "HBoxModel",
      "state": {
       "children": [
        "IPY_MODEL_1e01ec5c85b34a038a1dc6d1d35acbbe",
        "IPY_MODEL_7032605d0a164580afdfceea8d3ef394"
       ],
       "layout": "IPY_MODEL_1fb172c8d42341768e8dfb5dacba664f"
      }
     },
     "451d26f4e872454e970d5e5b15f7c6b7": {
      "model_module": "@jupyter-widgets/controls",
      "model_module_version": "1.5.0",
      "model_name": "HBoxModel",
      "state": {
       "children": [
        "IPY_MODEL_a749c2105dba4cd1bab9ad783ceb2802",
        "IPY_MODEL_720eaac798df4edb85cb59df1b0bc2bd"
       ],
       "layout": "IPY_MODEL_c40d5fceeed54ac4be9d00ed498e0c6b"
      }
     },
     "4522548212734658bf55ea77e91aa900": {
      "model_module": "@jupyter-widgets/base",
      "model_module_version": "1.2.0",
      "model_name": "LayoutModel",
      "state": {}
     },
     "4543d9f70e1e4869b15db541c315497c": {
      "model_module": "@jupyter-widgets/controls",
      "model_module_version": "1.5.0",
      "model_name": "DescriptionStyleModel",
      "state": {
       "description_width": ""
      }
     },
     "45745155fc2f41679d6cfdd48a25f389": {
      "model_module": "@jupyter-widgets/controls",
      "model_module_version": "1.5.0",
      "model_name": "ProgressStyleModel",
      "state": {
       "description_width": "initial"
      }
     },
     "45919a1763044400938514457852881f": {
      "model_module": "@jupyter-widgets/controls",
      "model_module_version": "1.5.0",
      "model_name": "HTMLModel",
      "state": {
       "layout": "IPY_MODEL_beb9562479b6462090d3609604aaeb41",
       "style": "IPY_MODEL_d11f3a59e65e4caab3d748919629436c",
       "value": " 589/589 [5:32:51&lt;00:00,  2.98it/s]"
      }
     },
     "45955e8b45254a8fb2abf421aa075b1f": {
      "model_module": "@jupyter-widgets/controls",
      "model_module_version": "1.5.0",
      "model_name": "HBoxModel",
      "state": {
       "children": [
        "IPY_MODEL_9e6170db0e884fcab99f47e4e8d5acca",
        "IPY_MODEL_0738d393da3544f8a92a642bc3f3832c"
       ],
       "layout": "IPY_MODEL_47d82b42fae04d92b8774ac81498c21e"
      }
     },
     "46012bc46c6f469787bebbf6e89c3dec": {
      "model_module": "@jupyter-widgets/controls",
      "model_module_version": "1.5.0",
      "model_name": "ProgressStyleModel",
      "state": {
       "description_width": "initial"
      }
     },
     "461e89b3047b4ad387d7cb0de0e61d4e": {
      "model_module": "@jupyter-widgets/controls",
      "model_module_version": "1.5.0",
      "model_name": "HBoxModel",
      "state": {
       "children": [
        "IPY_MODEL_947615bc3f84443ab531a5c9c854772c",
        "IPY_MODEL_60cf6f2dc5e343399b3cad414f5c4e11"
       ],
       "layout": "IPY_MODEL_1c162b4e5e4a4af492f1452ba778df3a"
      }
     },
     "4628116f9d8c4168b1ec30d5e6ae1ba8": {
      "model_module": "@jupyter-widgets/base",
      "model_module_version": "1.2.0",
      "model_name": "LayoutModel",
      "state": {}
     },
     "465aa4bbff9b4d838a283be305d1ff8e": {
      "model_module": "@jupyter-widgets/base",
      "model_module_version": "1.2.0",
      "model_name": "LayoutModel",
      "state": {}
     },
     "469bc88bb4ac4bfdb2f762ceb668cc08": {
      "model_module": "@jupyter-widgets/controls",
      "model_module_version": "1.5.0",
      "model_name": "FloatProgressModel",
      "state": {
       "description": "Train Epoch #63 - loss:   1.619: 100%",
       "layout": "IPY_MODEL_e261d6f0940d4df38f3b44ecf2306cdf",
       "max": 589,
       "style": "IPY_MODEL_a0d39a4518054f1d9061d05fdc82b7f2",
       "value": 589
      }
     },
     "46b06d36a7d9492f8b5a55483bdb68bd": {
      "model_module": "@jupyter-widgets/base",
      "model_module_version": "1.2.0",
      "model_name": "LayoutModel",
      "state": {}
     },
     "46c14a066b094937ab11638d775a74a9": {
      "model_module": "@jupyter-widgets/base",
      "model_module_version": "1.2.0",
      "model_name": "LayoutModel",
      "state": {}
     },
     "47023753b72b48cbacb8922502cbddae": {
      "model_module": "@jupyter-widgets/controls",
      "model_module_version": "1.5.0",
      "model_name": "FloatProgressModel",
      "state": {
       "description": "Val Epoch #15 - loss:    7.15: 100%",
       "layout": "IPY_MODEL_99e6ff7ea53a4b0b88f0b922dad5a542",
       "max": 74,
       "style": "IPY_MODEL_14600dd36de246c3a796fb959bb770ff",
       "value": 74
      }
     },
     "470a4900b95c49359fd97616fb8c8ff0": {
      "model_module": "@jupyter-widgets/base",
      "model_module_version": "1.2.0",
      "model_name": "LayoutModel",
      "state": {}
     },
     "4729c7f5ee4946c2a491584947e40b5e": {
      "model_module": "@jupyter-widgets/controls",
      "model_module_version": "1.5.0",
      "model_name": "DescriptionStyleModel",
      "state": {
       "description_width": ""
      }
     },
     "4757b108fce94f798c48196d367e9944": {
      "model_module": "@jupyter-widgets/controls",
      "model_module_version": "1.5.0",
      "model_name": "HBoxModel",
      "state": {
       "children": [
        "IPY_MODEL_1e471fd6fe754c20be8c1a1384473220",
        "IPY_MODEL_441bf4e3d826425290c111d9ea217779"
       ],
       "layout": "IPY_MODEL_465aa4bbff9b4d838a283be305d1ff8e"
      }
     },
     "47975f66feb847dca99556e38c697fae": {
      "model_module": "@jupyter-widgets/controls",
      "model_module_version": "1.5.0",
      "model_name": "HBoxModel",
      "state": {
       "children": [
        "IPY_MODEL_8b199beb60ca4349a6f71b5fba530f3f",
        "IPY_MODEL_2532ebc76ad5405cbd6d0aceaa8784bf"
       ],
       "layout": "IPY_MODEL_3e956a0cc489459ab7fd9d79b23f444b"
      }
     },
     "47d82b42fae04d92b8774ac81498c21e": {
      "model_module": "@jupyter-widgets/base",
      "model_module_version": "1.2.0",
      "model_name": "LayoutModel",
      "state": {}
     },
     "47d82f32a24f4f98874a0b6ec7e29d5d": {
      "model_module": "@jupyter-widgets/base",
      "model_module_version": "1.2.0",
      "model_name": "LayoutModel",
      "state": {}
     },
     "47dc0f6f1ca74c848d8a4a0997522b54": {
      "model_module": "@jupyter-widgets/base",
      "model_module_version": "1.2.0",
      "model_name": "LayoutModel",
      "state": {}
     },
     "48547498639f4d419328ce21198efd70": {
      "model_module": "@jupyter-widgets/base",
      "model_module_version": "1.2.0",
      "model_name": "LayoutModel",
      "state": {}
     },
     "48854c7a85b14748aed6b629a1cbf62a": {
      "model_module": "@jupyter-widgets/base",
      "model_module_version": "1.2.0",
      "model_name": "LayoutModel",
      "state": {}
     },
     "48b46b74fbaa48719d280583a757f2d8": {
      "model_module": "@jupyter-widgets/base",
      "model_module_version": "1.2.0",
      "model_name": "LayoutModel",
      "state": {}
     },
     "48ce8dabe92542218f1c4235cda60fcf": {
      "model_module": "@jupyter-widgets/base",
      "model_module_version": "1.2.0",
      "model_name": "LayoutModel",
      "state": {}
     },
     "48f60620fae44f1c91bf344b69034132": {
      "model_module": "@jupyter-widgets/base",
      "model_module_version": "1.2.0",
      "model_name": "LayoutModel",
      "state": {}
     },
     "492d2b260cea4838b8ec58171f788e5c": {
      "model_module": "@jupyter-widgets/base",
      "model_module_version": "1.2.0",
      "model_name": "LayoutModel",
      "state": {}
     },
     "493f267aa902476a8c198a8d38fff846": {
      "model_module": "@jupyter-widgets/base",
      "model_module_version": "1.2.0",
      "model_name": "LayoutModel",
      "state": {}
     },
     "494f564f12854993907324f027bc0016": {
      "model_module": "@jupyter-widgets/controls",
      "model_module_version": "1.5.0",
      "model_name": "HTMLModel",
      "state": {
       "layout": "IPY_MODEL_ba8c46e6992e4c75b817cc5b5d712109",
       "style": "IPY_MODEL_11eef49bdf7c488ba4958aa843f1a0df",
       "value": " 74/74 [8:35:29&lt;00:00,  5.24it/s]"
      }
     },
     "4955a51622c4479786d0ded45701921d": {
      "model_module": "@jupyter-widgets/controls",
      "model_module_version": "1.5.0",
      "model_name": "ProgressStyleModel",
      "state": {
       "description_width": "initial"
      }
     },
     "496518a5ba6d4f6c96f24c92f5188820": {
      "model_module": "@jupyter-widgets/base",
      "model_module_version": "1.2.0",
      "model_name": "LayoutModel",
      "state": {}
     },
     "4971a3aa29f84cd7b172d1304e3fdbe3": {
      "model_module": "@jupyter-widgets/base",
      "model_module_version": "1.2.0",
      "model_name": "LayoutModel",
      "state": {}
     },
     "49d5715217064382b8572133cf52749e": {
      "model_module": "@jupyter-widgets/base",
      "model_module_version": "1.2.0",
      "model_name": "LayoutModel",
      "state": {}
     },
     "4a1261dc116c45afb782bd1d5311db26": {
      "model_module": "@jupyter-widgets/controls",
      "model_module_version": "1.5.0",
      "model_name": "HTMLModel",
      "state": {
       "layout": "IPY_MODEL_985a1102639e4363961fd1c8ff6edfd8",
       "style": "IPY_MODEL_e4bed93276e8431b9a837ddc996884ab",
       "value": " 589/589 [3:56:57&lt;00:00,  2.46it/s]"
      }
     },
     "4a13498ee2134d96ae94a2fa484aa72b": {
      "model_module": "@jupyter-widgets/controls",
      "model_module_version": "1.5.0",
      "model_name": "DescriptionStyleModel",
      "state": {
       "description_width": ""
      }
     },
     "4a3ac695ab9e4bb19b83e224f94d001a": {
      "model_module": "@jupyter-widgets/base",
      "model_module_version": "1.2.0",
      "model_name": "LayoutModel",
      "state": {}
     },
     "4a48f984c0884ccab9a6aaf3c48d30c2": {
      "model_module": "@jupyter-widgets/controls",
      "model_module_version": "1.5.0",
      "model_name": "ProgressStyleModel",
      "state": {
       "description_width": "initial"
      }
     },
     "4a7e48abb21f4d70acf49d3bf1a083aa": {
      "model_module": "@jupyter-widgets/controls",
      "model_module_version": "1.5.0",
      "model_name": "HTMLModel",
      "state": {
       "layout": "IPY_MODEL_aaa948b90d1d4815956a94c2c255c5a4",
       "style": "IPY_MODEL_f5d44d793a754aa9959e2eac10e2c4b6",
       "value": " 589/589 [6:13:44&lt;00:00,  3.27it/s]"
      }
     },
     "4ad54835ee8745f8a4e98aaf44ccb6ae": {
      "model_module": "@jupyter-widgets/controls",
      "model_module_version": "1.5.0",
      "model_name": "DescriptionStyleModel",
      "state": {
       "description_width": ""
      }
     },
     "4ae6d068726f436d8b8327259a35b9d1": {
      "model_module": "@jupyter-widgets/base",
      "model_module_version": "1.2.0",
      "model_name": "LayoutModel",
      "state": {}
     },
     "4afcfded0ec643af97a8211aefcc10b3": {
      "model_module": "@jupyter-widgets/controls",
      "model_module_version": "1.5.0",
      "model_name": "DescriptionStyleModel",
      "state": {
       "description_width": ""
      }
     },
     "4b1538e7ad8f4c1b88b0742236092c0c": {
      "model_module": "@jupyter-widgets/base",
      "model_module_version": "1.2.0",
      "model_name": "LayoutModel",
      "state": {}
     },
     "4b5102fa011843108140428cd5e3c4d8": {
      "model_module": "@jupyter-widgets/controls",
      "model_module_version": "1.5.0",
      "model_name": "FloatProgressModel",
      "state": {
       "description": "Val Epoch #61 - loss:   8.161: 100%",
       "layout": "IPY_MODEL_ea0a3d940ba3479386169e23b213718d",
       "max": 74,
       "style": "IPY_MODEL_559a4ce0f3d94102b9f98ed09a867d13",
       "value": 74
      }
     },
     "4b516566472c4b0bb8b5bee208989a5d": {
      "model_module": "@jupyter-widgets/base",
      "model_module_version": "1.2.0",
      "model_name": "LayoutModel",
      "state": {}
     },
     "4b7455d78a2341659dec56743c7dbd8b": {
      "model_module": "@jupyter-widgets/controls",
      "model_module_version": "1.5.0",
      "model_name": "DescriptionStyleModel",
      "state": {
       "description_width": ""
      }
     },
     "4b82ee0e936b4d3886461efd10851a71": {
      "model_module": "@jupyter-widgets/base",
      "model_module_version": "1.2.0",
      "model_name": "LayoutModel",
      "state": {}
     },
     "4bb4f33565b4461588aaae53b87fbea4": {
      "model_module": "@jupyter-widgets/base",
      "model_module_version": "1.2.0",
      "model_name": "LayoutModel",
      "state": {}
     },
     "4bddd6d803294e4797a2324c801a94da": {
      "model_module": "@jupyter-widgets/base",
      "model_module_version": "1.2.0",
      "model_name": "LayoutModel",
      "state": {}
     },
     "4bedd21ea3c947f997f36f49c924e899": {
      "model_module": "@jupyter-widgets/controls",
      "model_module_version": "1.5.0",
      "model_name": "HBoxModel",
      "state": {
       "children": [
        "IPY_MODEL_3476bc5a3aa5477998ed4bbc6722bfae",
        "IPY_MODEL_da0f88dac3ea47dbb685d304df0867bf"
       ],
       "layout": "IPY_MODEL_64b4725f43c04a89a621e5ab6ed043b7"
      }
     },
     "4c00768e60ed40dab438bff23e56a362": {
      "model_module": "@jupyter-widgets/controls",
      "model_module_version": "1.5.0",
      "model_name": "FloatProgressModel",
      "state": {
       "description": "Val Epoch #57 - loss:   8.069: 100%",
       "layout": "IPY_MODEL_bd5f77c7aaf34efb83cb27fd560d9448",
       "max": 74,
       "style": "IPY_MODEL_a793807604074db68d447631ae5c03fd",
       "value": 74
      }
     },
     "4c1b4e511c8c491889d3dad22735c495": {
      "model_module": "@jupyter-widgets/controls",
      "model_module_version": "1.5.0",
      "model_name": "FloatProgressModel",
      "state": {
       "description": "Train Epoch #2 - loss:   7.332: 100%",
       "layout": "IPY_MODEL_c9a7aa578024401aaae17700f20e1026",
       "max": 589,
       "style": "IPY_MODEL_003cbdb034374fc9a596a0283b497df6",
       "value": 589
      }
     },
     "4c368f9d9b104244a63adbcdcaf40d6a": {
      "model_module": "@jupyter-widgets/base",
      "model_module_version": "1.2.0",
      "model_name": "LayoutModel",
      "state": {}
     },
     "4c7dea9829104798a2568e7408a5eeb8": {
      "model_module": "@jupyter-widgets/base",
      "model_module_version": "1.2.0",
      "model_name": "LayoutModel",
      "state": {}
     },
     "4c864bb852754b3f916e6e95f78d84ad": {
      "model_module": "@jupyter-widgets/base",
      "model_module_version": "1.2.0",
      "model_name": "LayoutModel",
      "state": {}
     },
     "4c9705c3c306484bb804dfb4f92caaef": {
      "model_module": "@jupyter-widgets/controls",
      "model_module_version": "1.5.0",
      "model_name": "DescriptionStyleModel",
      "state": {
       "description_width": ""
      }
     },
     "4cb5f23dc306410d89006bba0daa0e30": {
      "model_module": "@jupyter-widgets/controls",
      "model_module_version": "1.5.0",
      "model_name": "DescriptionStyleModel",
      "state": {
       "description_width": ""
      }
     },
     "4ce6b1ab44994ac8928d205a010a5d35": {
      "model_module": "@jupyter-widgets/controls",
      "model_module_version": "1.5.0",
      "model_name": "HBoxModel",
      "state": {
       "children": [
        "IPY_MODEL_a830d810c07b42589b0e90b7ad31904a",
        "IPY_MODEL_2547de8bfe574e5ab0dcf746406052cb"
       ],
       "layout": "IPY_MODEL_1d646d9643e74779a1d5cffa54d47c1c"
      }
     },
     "4d1072f8e0b74829bc66a66d63b0b1bb": {
      "model_module": "@jupyter-widgets/controls",
      "model_module_version": "1.5.0",
      "model_name": "HBoxModel",
      "state": {
       "children": [
        "IPY_MODEL_f845fea6823e456cb4216e9dd6aeaa52",
        "IPY_MODEL_494f564f12854993907324f027bc0016"
       ],
       "layout": "IPY_MODEL_fc75a224766e41eb81e07f3bfad39b02"
      }
     },
     "4d3f28626da441a3bd299c9714c3423e": {
      "model_module": "@jupyter-widgets/controls",
      "model_module_version": "1.5.0",
      "model_name": "DescriptionStyleModel",
      "state": {
       "description_width": ""
      }
     },
     "4d5ece8a30714eb68d379ae06c285367": {
      "model_module": "@jupyter-widgets/controls",
      "model_module_version": "1.5.0",
      "model_name": "ProgressStyleModel",
      "state": {
       "description_width": "initial"
      }
     },
     "4d8d10d1ac2e42fe96d28c96155c0e44": {
      "model_module": "@jupyter-widgets/controls",
      "model_module_version": "1.5.0",
      "model_name": "HTMLModel",
      "state": {
       "layout": "IPY_MODEL_bc6afd81dd3b4231a391b037c3c99e9f",
       "style": "IPY_MODEL_db4ade277ec14a259ef15d9161838464",
       "value": " 589/589 [1:40:38&lt;00:00,  2.24it/s]"
      }
     },
     "4db406aed2f440b3844657cbb0ba10a9": {
      "model_module": "@jupyter-widgets/base",
      "model_module_version": "1.2.0",
      "model_name": "LayoutModel",
      "state": {}
     },
     "4ddd32cbf5c84cb8aa39bd0cd88a240f": {
      "model_module": "@jupyter-widgets/base",
      "model_module_version": "1.2.0",
      "model_name": "LayoutModel",
      "state": {}
     },
     "4df6644d5a274311abac17302846c7f7": {
      "model_module": "@jupyter-widgets/controls",
      "model_module_version": "1.5.0",
      "model_name": "DescriptionStyleModel",
      "state": {
       "description_width": ""
      }
     },
     "4dfc3742d58d455e8b2841fcc8d39baf": {
      "model_module": "@jupyter-widgets/base",
      "model_module_version": "1.2.0",
      "model_name": "LayoutModel",
      "state": {}
     },
     "4e048249fffc400ab1317928016c1c61": {
      "model_module": "@jupyter-widgets/controls",
      "model_module_version": "1.5.0",
      "model_name": "FloatProgressModel",
      "state": {
       "description": "Val Epoch #89 - loss:   8.665: 100%",
       "layout": "IPY_MODEL_90659339ce414f0da6574eabfd433a1a",
       "max": 74,
       "style": "IPY_MODEL_5ab9aad5695147f0907237d12e367a8e",
       "value": 74
      }
     },
     "4e1030211bfd4c668b44edfca7d225d8": {
      "model_module": "@jupyter-widgets/controls",
      "model_module_version": "1.5.0",
      "model_name": "HBoxModel",
      "state": {
       "children": [
        "IPY_MODEL_6c9b7788eb314e5fb247210b1aff2125",
        "IPY_MODEL_bc04dd6127bc4aefa4e764a8376a6f52"
       ],
       "layout": "IPY_MODEL_f193df1d4d5b4991a4525b0b8e9a55cc"
      }
     },
     "4e12ae04c7f642ee8615461ea6d37100": {
      "model_module": "@jupyter-widgets/controls",
      "model_module_version": "1.5.0",
      "model_name": "DescriptionStyleModel",
      "state": {
       "description_width": ""
      }
     },
     "4e5808842bc14498bc355845071dbc17": {
      "model_module": "@jupyter-widgets/controls",
      "model_module_version": "1.5.0",
      "model_name": "DescriptionStyleModel",
      "state": {
       "description_width": ""
      }
     },
     "4e60986a15f74395990ea4973cec3440": {
      "model_module": "@jupyter-widgets/controls",
      "model_module_version": "1.5.0",
      "model_name": "ProgressStyleModel",
      "state": {
       "description_width": "initial"
      }
     },
     "4e615439701543ee944242e04eba2e43": {
      "model_module": "@jupyter-widgets/controls",
      "model_module_version": "1.5.0",
      "model_name": "HBoxModel",
      "state": {
       "children": [
        "IPY_MODEL_a90e04865e0f49398dc75e0fe4c45d55",
        "IPY_MODEL_206235664b2c4bea8ec6d3b0f00c8026"
       ],
       "layout": "IPY_MODEL_ec3372a2441341b0b36ba59a2fd55b52"
      }
     },
     "4eb94b3a3a0f4084835383cb04bbdb8f": {
      "model_module": "@jupyter-widgets/base",
      "model_module_version": "1.2.0",
      "model_name": "LayoutModel",
      "state": {}
     },
     "4ed7616c27da4f42883b18a0f0964d7f": {
      "model_module": "@jupyter-widgets/controls",
      "model_module_version": "1.5.0",
      "model_name": "FloatProgressModel",
      "state": {
       "description": "Val Epoch #75 - loss:   8.474: 100%",
       "layout": "IPY_MODEL_5bc44b46107443ffa2ce097a864ebe12",
       "max": 74,
       "style": "IPY_MODEL_5b97d66211304cf5b6538a744b796dd7",
       "value": 74
      }
     },
     "4f071a613004430aa3ec06418ba2f525": {
      "model_module": "@jupyter-widgets/base",
      "model_module_version": "1.2.0",
      "model_name": "LayoutModel",
      "state": {}
     },
     "4f144aa43e604fa4b2c95cb36b2fd867": {
      "model_module": "@jupyter-widgets/controls",
      "model_module_version": "1.5.0",
      "model_name": "FloatProgressModel",
      "state": {
       "description": "Train Epoch #31 - loss:   3.203: 100%",
       "layout": "IPY_MODEL_1ce211fe9a69470dbcd8e56433e92efa",
       "max": 589,
       "style": "IPY_MODEL_792e3a64e93a4abb84295da467b8cc9c",
       "value": 589
      }
     },
     "4f3045aa3ded480b9a53bcc4597ee2df": {
      "model_module": "@jupyter-widgets/controls",
      "model_module_version": "1.5.0",
      "model_name": "FloatProgressModel",
      "state": {
       "description": "Train Epoch #4 - loss:   7.147: 100%",
       "layout": "IPY_MODEL_efc91cc4c1084144922637d024169bab",
       "max": 589,
       "style": "IPY_MODEL_8af8848f46dc4ebba9ce0514756c9514",
       "value": 589
      }
     },
     "4f40c71a85b24a8898ce4bea5c37a92a": {
      "model_module": "@jupyter-widgets/controls",
      "model_module_version": "1.5.0",
      "model_name": "HTMLModel",
      "state": {
       "layout": "IPY_MODEL_f5d097dce0b14d67b926a214f96b37f3",
       "style": "IPY_MODEL_38b3eb1b5a3f4a8ebeab2329a31a2bc6",
       "value": " 74/74 [1:49:19&lt;00:00,  5.66it/s]"
      }
     },
     "4f64fb02a0c6478c8d9b8e1678963f0c": {
      "model_module": "@jupyter-widgets/controls",
      "model_module_version": "1.5.0",
      "model_name": "DescriptionStyleModel",
      "state": {
       "description_width": ""
      }
     },
     "4f85c8b71e084cb59fcd9855b6c64276": {
      "model_module": "@jupyter-widgets/base",
      "model_module_version": "1.2.0",
      "model_name": "LayoutModel",
      "state": {}
     },
     "4f8d12a6daa8499d9a596b3500a128e5": {
      "model_module": "@jupyter-widgets/controls",
      "model_module_version": "1.5.0",
      "model_name": "ProgressStyleModel",
      "state": {
       "description_width": "initial"
      }
     },
     "4f9b7c9128614116ac2e6211dff10193": {
      "model_module": "@jupyter-widgets/base",
      "model_module_version": "1.2.0",
      "model_name": "LayoutModel",
      "state": {}
     },
     "4fba919dc4664f539344c1083314b0ed": {
      "model_module": "@jupyter-widgets/controls",
      "model_module_version": "1.5.0",
      "model_name": "HTMLModel",
      "state": {
       "layout": "IPY_MODEL_3ff92247511f46f5af0bc4fe4ddd766a",
       "style": "IPY_MODEL_d824a0212946433e88e7bbcbc99eb5f0",
       "value": " 74/74 [1:40:52&lt;00:00,  5.40it/s]"
      }
     },
     "4fc01551f4ea41af914cb83a170383d5": {
      "model_module": "@jupyter-widgets/controls",
      "model_module_version": "1.5.0",
      "model_name": "HBoxModel",
      "state": {
       "children": [
        "IPY_MODEL_b990ef01d6d747258c27fcb37948824d",
        "IPY_MODEL_8f6164b88502471b8f4d86e3f3518e4f"
       ],
       "layout": "IPY_MODEL_c9c1697bf0974f6f8fe05774aca70165"
      }
     },
     "4fc598b09eb04d2db63ddf4490c3aaf5": {
      "model_module": "@jupyter-widgets/controls",
      "model_module_version": "1.5.0",
      "model_name": "DescriptionStyleModel",
      "state": {
       "description_width": ""
      }
     },
     "4fd346dc6106462ea7c09c84eaa2b2c8": {
      "model_module": "@jupyter-widgets/controls",
      "model_module_version": "1.5.0",
      "model_name": "HTMLModel",
      "state": {
       "layout": "IPY_MODEL_17051c842c0440b2810ac805da3f7248",
       "style": "IPY_MODEL_28abb468bed947c3b7f4a4feaef2db35",
       "value": " 589/589 [4:04:32&lt;00:00,  2.39it/s]"
      }
     },
     "4fd58330d55443c28108aac039a87393": {
      "model_module": "@jupyter-widgets/controls",
      "model_module_version": "1.5.0",
      "model_name": "ProgressStyleModel",
      "state": {
       "description_width": "initial"
      }
     },
     "4fdccda019714ddf8774c38c9b81dbf3": {
      "model_module": "@jupyter-widgets/controls",
      "model_module_version": "1.5.0",
      "model_name": "FloatProgressModel",
      "state": {
       "description": "Val Epoch #4 - loss:   9.397: 100%",
       "layout": "IPY_MODEL_d7b3c2becc144ef1b6081cf2585cc792",
       "max": 74,
       "style": "IPY_MODEL_a10f7dc87da14449aa6b6b160c33a88a",
       "value": 74
      }
     },
     "5001d985339d4dc48c3ed637c65eb3e9": {
      "model_module": "@jupyter-widgets/base",
      "model_module_version": "1.2.0",
      "model_name": "LayoutModel",
      "state": {}
     },
     "501404fbf76941f8befc923a5f1a9635": {
      "model_module": "@jupyter-widgets/controls",
      "model_module_version": "1.5.0",
      "model_name": "FloatProgressModel",
      "state": {
       "description": "Train Epoch #80 - loss:   1.396: 100%",
       "layout": "IPY_MODEL_1286931ffad4435bb254b201d8fd82b2",
       "max": 589,
       "style": "IPY_MODEL_68abe02cc5c64165b8413489f3103c98",
       "value": 589
      }
     },
     "5016731e909249a9b27f9be2960ace1e": {
      "model_module": "@jupyter-widgets/controls",
      "model_module_version": "1.5.0",
      "model_name": "FloatProgressModel",
      "state": {
       "description": "Train Epoch #4 - loss:   7.309:  72%",
       "layout": "IPY_MODEL_4eb94b3a3a0f4084835383cb04bbdb8f",
       "max": 589,
       "style": "IPY_MODEL_3f8d513b1d194f0b93412b2a3956231f",
       "value": 426
      }
     },
     "501da8ce56e34d37913958b6e2664a8e": {
      "model_module": "@jupyter-widgets/base",
      "model_module_version": "1.2.0",
      "model_name": "LayoutModel",
      "state": {}
     },
     "5031927fecba4fc5abd8f4f14d481d1f": {
      "model_module": "@jupyter-widgets/controls",
      "model_module_version": "1.5.0",
      "model_name": "ProgressStyleModel",
      "state": {
       "description_width": "initial"
      }
     },
     "5037e85856264bc2895ee09cd73259d1": {
      "model_module": "@jupyter-widgets/base",
      "model_module_version": "1.2.0",
      "model_name": "LayoutModel",
      "state": {}
     },
     "5039666dc5dc468db3e17f2c97179b45": {
      "model_module": "@jupyter-widgets/controls",
      "model_module_version": "1.5.0",
      "model_name": "HBoxModel",
      "state": {
       "children": [
        "IPY_MODEL_11cbd47a9f89493b9615d8e48bb30a01",
        "IPY_MODEL_816abe7d00954fa281a5043fda2319d6"
       ],
       "layout": "IPY_MODEL_07945c70a998421eaaa47a779dece529"
      }
     },
     "5054187f90e34e1aa4c626b62bda1336": {
      "model_module": "@jupyter-widgets/base",
      "model_module_version": "1.2.0",
      "model_name": "LayoutModel",
      "state": {}
     },
     "508716811a0e4a9695df5379c1e0c854": {
      "model_module": "@jupyter-widgets/controls",
      "model_module_version": "1.5.0",
      "model_name": "DescriptionStyleModel",
      "state": {
       "description_width": ""
      }
     },
     "508c64a9809f40b980d040bdf31b5fec": {
      "model_module": "@jupyter-widgets/base",
      "model_module_version": "1.2.0",
      "model_name": "LayoutModel",
      "state": {}
     },
     "50938ec771fc4c5d9778f14903f09625": {
      "model_module": "@jupyter-widgets/controls",
      "model_module_version": "1.5.0",
      "model_name": "HTMLModel",
      "state": {
       "layout": "IPY_MODEL_dbe74966a50f4ba6904aa037b92ef369",
       "style": "IPY_MODEL_1cfead26cc984f6fb8e05a21c31bb742",
       "value": " 74/74 [3:25:38&lt;00:00,  5.46it/s]"
      }
     },
     "50b15074cf4140539941deec3acc5700": {
      "model_module": "@jupyter-widgets/controls",
      "model_module_version": "1.5.0",
      "model_name": "ProgressStyleModel",
      "state": {
       "description_width": "initial"
      }
     },
     "50d5c4b6b1cb4460aaf61ca93831c05a": {
      "model_module": "@jupyter-widgets/base",
      "model_module_version": "1.2.0",
      "model_name": "LayoutModel",
      "state": {}
     },
     "50d9e28b06bd484d81841a56847001cd": {
      "model_module": "@jupyter-widgets/base",
      "model_module_version": "1.2.0",
      "model_name": "LayoutModel",
      "state": {}
     },
     "50deb9f45bfb4a328597aeda34ed3780": {
      "model_module": "@jupyter-widgets/controls",
      "model_module_version": "1.5.0",
      "model_name": "ProgressStyleModel",
      "state": {
       "description_width": "initial"
      }
     },
     "50e03c4025af48469b3db1d1266f5586": {
      "model_module": "@jupyter-widgets/controls",
      "model_module_version": "1.5.0",
      "model_name": "FloatProgressModel",
      "state": {
       "description": "Val Epoch #93 - loss:   8.702: 100%",
       "layout": "IPY_MODEL_c929d7eab9304b5cb196b45f575897ce",
       "max": 74,
       "style": "IPY_MODEL_83f3b7a12e8a4089a18e689c7e4e3cdd",
       "value": 74
      }
     },
     "50f16fe2105a4ded8ef991c8d3546f47": {
      "model_module": "@jupyter-widgets/base",
      "model_module_version": "1.2.0",
      "model_name": "LayoutModel",
      "state": {}
     },
     "50f809659a6348a89ba66f9e980aea11": {
      "model_module": "@jupyter-widgets/controls",
      "model_module_version": "1.5.0",
      "model_name": "DescriptionStyleModel",
      "state": {
       "description_width": ""
      }
     },
     "511efc2c3fad4d7aabeff49dcfbb8d2f": {
      "model_module": "@jupyter-widgets/controls",
      "model_module_version": "1.5.0",
      "model_name": "DescriptionStyleModel",
      "state": {
       "description_width": ""
      }
     },
     "51453e4bdb384a69b7121b2034d83023": {
      "model_module": "@jupyter-widgets/base",
      "model_module_version": "1.2.0",
      "model_name": "LayoutModel",
      "state": {}
     },
     "514d872a21e548e3bef3072b7461fbb2": {
      "model_module": "@jupyter-widgets/base",
      "model_module_version": "1.2.0",
      "model_name": "LayoutModel",
      "state": {}
     },
     "515aadab793b4187bc1eee966dc9662f": {
      "model_module": "@jupyter-widgets/controls",
      "model_module_version": "1.5.0",
      "model_name": "ProgressStyleModel",
      "state": {
       "description_width": "initial"
      }
     },
     "5161eecaef594eb196b80e68c13ca10f": {
      "model_module": "@jupyter-widgets/base",
      "model_module_version": "1.2.0",
      "model_name": "LayoutModel",
      "state": {}
     },
     "516d08dc67fa42519e3970880702b3d0": {
      "model_module": "@jupyter-widgets/base",
      "model_module_version": "1.2.0",
      "model_name": "LayoutModel",
      "state": {}
     },
     "518a26162d9846978f319bf4cdaf5da9": {
      "model_module": "@jupyter-widgets/controls",
      "model_module_version": "1.5.0",
      "model_name": "ProgressStyleModel",
      "state": {
       "description_width": "initial"
      }
     },
     "518b3ec8349949dfbb7daa5b1221a5c7": {
      "model_module": "@jupyter-widgets/controls",
      "model_module_version": "1.5.0",
      "model_name": "DescriptionStyleModel",
      "state": {
       "description_width": ""
      }
     },
     "51bf9e84984445adbd2f7c23799e49df": {
      "model_module": "@jupyter-widgets/base",
      "model_module_version": "1.2.0",
      "model_name": "LayoutModel",
      "state": {}
     },
     "51efad07aece42859a607252ec5c1fcf": {
      "model_module": "@jupyter-widgets/controls",
      "model_module_version": "1.5.0",
      "model_name": "FloatProgressModel",
      "state": {
       "description": "Val Epoch #92 - loss:   8.726: 100%",
       "layout": "IPY_MODEL_6840f37481484ee0b7bd62a4893270ee",
       "max": 74,
       "style": "IPY_MODEL_183a1377568749948237863a8412d95f",
       "value": 74
      }
     },
     "51f08f30dbc740e083b72ab628c78365": {
      "model_module": "@jupyter-widgets/controls",
      "model_module_version": "1.5.0",
      "model_name": "HTMLModel",
      "state": {
       "layout": "IPY_MODEL_84c258196ba8400cb1eb6a525864fe31",
       "style": "IPY_MODEL_c045d7c594db4b3186b5970b05a94b7b",
       "value": " 196/589 [7:21:05&lt;02:12,  2.96it/s]"
      }
     },
     "51febc1f560948caabf238967d0882ec": {
      "model_module": "@jupyter-widgets/controls",
      "model_module_version": "1.5.0",
      "model_name": "FloatProgressModel",
      "state": {
       "description": "Val Epoch #3 - loss:   8.809: 100%",
       "layout": "IPY_MODEL_05e8fab1a54448568b49cc65b570a35c",
       "max": 74,
       "style": "IPY_MODEL_6e848143ae6242a580de28a7a2a2aa34",
       "value": 74
      }
     },
     "520ea70f0cc349aaabb651da4dd5fc65": {
      "model_module": "@jupyter-widgets/controls",
      "model_module_version": "1.5.0",
      "model_name": "FloatProgressModel",
      "state": {
       "description": "Train Epoch #2 - loss:   7.903:   1%",
       "layout": "IPY_MODEL_e0663a44ad1a4aa485dfa3e4279fd854",
       "max": 589,
       "style": "IPY_MODEL_0535028574fc4181930908c573cbeecb",
       "value": 4
      }
     },
     "521525f0048545028e2dedaa0d54e6c5": {
      "model_module": "@jupyter-widgets/base",
      "model_module_version": "1.2.0",
      "model_name": "LayoutModel",
      "state": {}
     },
     "5222ec73f2e34accb267f5158b37e976": {
      "model_module": "@jupyter-widgets/base",
      "model_module_version": "1.2.0",
      "model_name": "LayoutModel",
      "state": {}
     },
     "522dbba272364366a074fd9cc949c389": {
      "model_module": "@jupyter-widgets/controls",
      "model_module_version": "1.5.0",
      "model_name": "DescriptionStyleModel",
      "state": {
       "description_width": ""
      }
     },
     "5232561178f94feb89bb580f44f7506e": {
      "model_module": "@jupyter-widgets/controls",
      "model_module_version": "1.5.0",
      "model_name": "ProgressStyleModel",
      "state": {
       "description_width": "initial"
      }
     },
     "5237f28bd23c488a860e81d74716b795": {
      "model_module": "@jupyter-widgets/base",
      "model_module_version": "1.2.0",
      "model_name": "LayoutModel",
      "state": {}
     },
     "523e6696f4b347b0b96e891b9562b966": {
      "model_module": "@jupyter-widgets/controls",
      "model_module_version": "1.5.0",
      "model_name": "ProgressStyleModel",
      "state": {
       "description_width": "initial"
      }
     },
     "5272216afaf94ccf9b141cbbd0ca1c30": {
      "model_module": "@jupyter-widgets/controls",
      "model_module_version": "1.5.0",
      "model_name": "ProgressStyleModel",
      "state": {
       "description_width": "initial"
      }
     },
     "52802db1c8bb41a696b5e49add24f580": {
      "model_module": "@jupyter-widgets/base",
      "model_module_version": "1.2.0",
      "model_name": "LayoutModel",
      "state": {}
     },
     "528e69ce6b2047d897fe6eba40710604": {
      "model_module": "@jupyter-widgets/controls",
      "model_module_version": "1.5.0",
      "model_name": "DescriptionStyleModel",
      "state": {
       "description_width": ""
      }
     },
     "52a1abba6ed14d30a9fc2203946ddd0e": {
      "model_module": "@jupyter-widgets/controls",
      "model_module_version": "1.5.0",
      "model_name": "HBoxModel",
      "state": {
       "children": [
        "IPY_MODEL_916b52bc071547089bbeeb7b54f11ab3",
        "IPY_MODEL_8bb78a0fe97c46aebce27ff0f55c7201"
       ],
       "layout": "IPY_MODEL_03be6ea929604f279caa10ae151ceb0b"
      }
     },
     "52aa6eb794374a83a42516de9bab65e8": {
      "model_module": "@jupyter-widgets/base",
      "model_module_version": "1.2.0",
      "model_name": "LayoutModel",
      "state": {}
     },
     "52b05a492508497789f8c7ec7b0274e5": {
      "model_module": "@jupyter-widgets/controls",
      "model_module_version": "1.5.0",
      "model_name": "FloatProgressModel",
      "state": {
       "description": "Train Epoch #1 - loss:   7.231: 100%",
       "layout": "IPY_MODEL_46c14a066b094937ab11638d775a74a9",
       "max": 589,
       "style": "IPY_MODEL_940ac41baffd46febb07692b430c6071",
       "value": 589
      }
     },
     "52b56ae265fd4cfaa6e5d62a351a9ae9": {
      "model_module": "@jupyter-widgets/base",
      "model_module_version": "1.2.0",
      "model_name": "LayoutModel",
      "state": {}
     },
     "52bcb139fa2048e191c59fe6b880b487": {
      "model_module": "@jupyter-widgets/controls",
      "model_module_version": "1.5.0",
      "model_name": "DescriptionStyleModel",
      "state": {
       "description_width": ""
      }
     },
     "52e4d87300a842568f0090fe868407ff": {
      "model_module": "@jupyter-widgets/base",
      "model_module_version": "1.2.0",
      "model_name": "LayoutModel",
      "state": {}
     },
     "53082b9dd4ba40fbaa18eaf4d083063b": {
      "model_module": "@jupyter-widgets/controls",
      "model_module_version": "1.5.0",
      "model_name": "HTMLModel",
      "state": {
       "layout": "IPY_MODEL_3505ad2df0da4dc18b72dee132f0adc1",
       "style": "IPY_MODEL_f3926174d5df4eb1bdfa3280fba96fff",
       "value": " 74/74 [00:12&lt;00:00,  6.00it/s]"
      }
     },
     "532378a099ca4cc0a642f32382085fd6": {
      "model_module": "@jupyter-widgets/controls",
      "model_module_version": "1.5.0",
      "model_name": "HBoxModel",
      "state": {
       "children": [
        "IPY_MODEL_9d38f719be1b4f1897dff4288aa7e8d7",
        "IPY_MODEL_930d1ddc51384b49960cfa8c7cdd4247"
       ],
       "layout": "IPY_MODEL_05b3220da8f942e5a3ff9471ff71c814"
      }
     },
     "5373e1e39ddc45b3a52354aba117c99f": {
      "model_module": "@jupyter-widgets/controls",
      "model_module_version": "1.5.0",
      "model_name": "DescriptionStyleModel",
      "state": {
       "description_width": ""
      }
     },
     "5394c4b49fc542dd873a0555a6077662": {
      "model_module": "@jupyter-widgets/controls",
      "model_module_version": "1.5.0",
      "model_name": "ProgressStyleModel",
      "state": {
       "description_width": "initial"
      }
     },
     "53c907451b3b413aabbda2dd7dd46e9b": {
      "model_module": "@jupyter-widgets/controls",
      "model_module_version": "1.5.0",
      "model_name": "FloatProgressModel",
      "state": {
       "description": "Train Epoch #2 - loss:   7.149: 100%",
       "layout": "IPY_MODEL_1f831c84927e47a988e8c624980d4392",
       "max": 589,
       "style": "IPY_MODEL_61eaf0d0ef04443cbf6c6384fa88e78c",
       "value": 589
      }
     },
     "53d60fbf3f5b4e0c9bf8683a49f29487": {
      "model_module": "@jupyter-widgets/controls",
      "model_module_version": "1.5.0",
      "model_name": "HBoxModel",
      "state": {
       "children": [
        "IPY_MODEL_086c2db3d36a43eda94221fba45a91b4",
        "IPY_MODEL_9b1845a9289e40f481055f2eff30f2d0"
       ],
       "layout": "IPY_MODEL_29573c24b1fd445a90955f010237b541"
      }
     },
     "53f322b83ff243f58d5e3c5d5db76331": {
      "model_module": "@jupyter-widgets/controls",
      "model_module_version": "1.5.0",
      "model_name": "HTMLModel",
      "state": {
       "layout": "IPY_MODEL_ce51e276413d49d79c18e35d480800b6",
       "style": "IPY_MODEL_8dc79bf86fc64a4db9fd61c72a710ad9",
       "value": " 589/589 [1:53:19&lt;00:00,  2.17it/s]"
      }
     },
     "54956667665c48449662aad23673f12b": {
      "model_module": "@jupyter-widgets/base",
      "model_module_version": "1.2.0",
      "model_name": "LayoutModel",
      "state": {}
     },
     "54ac82b307e54cbdb383c1a1c8e2f74c": {
      "model_module": "@jupyter-widgets/base",
      "model_module_version": "1.2.0",
      "model_name": "LayoutModel",
      "state": {}
     },
     "54b510e9fc3542ee9ff185264f19cde6": {
      "model_module": "@jupyter-widgets/controls",
      "model_module_version": "1.5.0",
      "model_name": "FloatProgressModel",
      "state": {
       "description": "Train Epoch #81 - loss:    1.39: 100%",
       "layout": "IPY_MODEL_ad3b11c39d034ad9a685fa8dfca511ee",
       "max": 589,
       "style": "IPY_MODEL_43f4961a634c4505a454da23d8eea7fc",
       "value": 589
      }
     },
     "54c9063860fe4ffdb9f777a8d702b028": {
      "model_module": "@jupyter-widgets/controls",
      "model_module_version": "1.5.0",
      "model_name": "FloatProgressModel",
      "state": {
       "description": "Train Epoch #96 - loss:   1.292: 100%",
       "layout": "IPY_MODEL_52b56ae265fd4cfaa6e5d62a351a9ae9",
       "max": 589,
       "style": "IPY_MODEL_6757b649059e48579279907ed8f17d84",
       "value": 589
      }
     },
     "5506f5b8ef13465c8eb0cbdc79f2cc77": {
      "model_module": "@jupyter-widgets/controls",
      "model_module_version": "1.5.0",
      "model_name": "HBoxModel",
      "state": {
       "children": [
        "IPY_MODEL_b04f638c0284416fba561b2184ed43dd",
        "IPY_MODEL_8448a85c55fa48cc821ef0ce0a0053e9"
       ],
       "layout": "IPY_MODEL_ae430b5ce35b47079d83bc71ad26c74e"
      }
     },
     "5509fe4a0f4447e8baa0efea96f65945": {
      "model_module": "@jupyter-widgets/base",
      "model_module_version": "1.2.0",
      "model_name": "LayoutModel",
      "state": {}
     },
     "5515d8dca35341248d6ed1570355508d": {
      "model_module": "@jupyter-widgets/base",
      "model_module_version": "1.2.0",
      "model_name": "LayoutModel",
      "state": {}
     },
     "551ca64f063c4623954dc9b521f305a1": {
      "model_module": "@jupyter-widgets/controls",
      "model_module_version": "1.5.0",
      "model_name": "DescriptionStyleModel",
      "state": {
       "description_width": ""
      }
     },
     "552888d1cdad47dcb64981e8bf656a45": {
      "model_module": "@jupyter-widgets/base",
      "model_module_version": "1.2.0",
      "model_name": "LayoutModel",
      "state": {}
     },
     "5537be898d8c47aa9458cf671765f6ec": {
      "model_module": "@jupyter-widgets/controls",
      "model_module_version": "1.5.0",
      "model_name": "HTMLModel",
      "state": {
       "layout": "IPY_MODEL_9fe6b0a8e2a941b18e882ec18923fe05",
       "style": "IPY_MODEL_e58538a5921844b88b0a5ea19989465a",
       "value": " 74/74 [6:14:02&lt;00:00,  4.98it/s]"
      }
     },
     "553fcd2caa7e490c81bfe62f7e75b005": {
      "model_module": "@jupyter-widgets/base",
      "model_module_version": "1.2.0",
      "model_name": "LayoutModel",
      "state": {}
     },
     "5556cd63c5c54319ad7654d3a6831535": {
      "model_module": "@jupyter-widgets/base",
      "model_module_version": "1.2.0",
      "model_name": "LayoutModel",
      "state": {}
     },
     "559a4ce0f3d94102b9f98ed09a867d13": {
      "model_module": "@jupyter-widgets/controls",
      "model_module_version": "1.5.0",
      "model_name": "ProgressStyleModel",
      "state": {
       "description_width": "initial"
      }
     },
     "55be5bad8b014369b161b50d2d193125": {
      "model_module": "@jupyter-widgets/controls",
      "model_module_version": "1.5.0",
      "model_name": "DescriptionStyleModel",
      "state": {
       "description_width": ""
      }
     },
     "55dcbde13d56408cbfb4240579999a8e": {
      "model_module": "@jupyter-widgets/controls",
      "model_module_version": "1.5.0",
      "model_name": "FloatProgressModel",
      "state": {
       "description": "Train Epoch #12 - loss:    6.01: 100%",
       "layout": "IPY_MODEL_41c3226f696a4dfe82ecb6646f0b0ebc",
       "max": 589,
       "style": "IPY_MODEL_a61f61a2c6e3466fa6a7ac9d43af1acf",
       "value": 589
      }
     },
     "55e09faf1a604e0c9a68738f899661ba": {
      "model_module": "@jupyter-widgets/base",
      "model_module_version": "1.2.0",
      "model_name": "LayoutModel",
      "state": {}
     },
     "561429adfada47439ef8629923f70f0f": {
      "model_module": "@jupyter-widgets/controls",
      "model_module_version": "1.5.0",
      "model_name": "HBoxModel",
      "state": {
       "children": [
        "IPY_MODEL_4b5102fa011843108140428cd5e3c4d8",
        "IPY_MODEL_de2ca28ad2f2457db72fa1a8257bd1ca"
       ],
       "layout": "IPY_MODEL_671543b8b3c94299b736b6ff08ba2dc8"
      }
     },
     "567ccc3040ad4e8db87b607bd9938fb3": {
      "model_module": "@jupyter-widgets/base",
      "model_module_version": "1.2.0",
      "model_name": "LayoutModel",
      "state": {}
     },
     "569d51f798b14fb7bee6312ba1401c7c": {
      "model_module": "@jupyter-widgets/base",
      "model_module_version": "1.2.0",
      "model_name": "LayoutModel",
      "state": {}
     },
     "56d99983688a4a2f9107cef4c834534e": {
      "model_module": "@jupyter-widgets/base",
      "model_module_version": "1.2.0",
      "model_name": "LayoutModel",
      "state": {}
     },
     "56f8bbf32de24544a957d24f13ec61dc": {
      "model_module": "@jupyter-widgets/controls",
      "model_module_version": "1.5.0",
      "model_name": "FloatProgressModel",
      "state": {
       "description": "Val Epoch #48 - loss:   7.749: 100%",
       "layout": "IPY_MODEL_b7d8db16596241529bcaaf3fc9de8ccb",
       "max": 74,
       "style": "IPY_MODEL_fc4165714ec24d17aa357b48a509e47a",
       "value": 74
      }
     },
     "5704e0d6da0943fbbf6c09a5df92a719": {
      "model_module": "@jupyter-widgets/controls",
      "model_module_version": "1.5.0",
      "model_name": "FloatProgressModel",
      "state": {
       "description": "Val Epoch #86 - loss:   8.615: 100%",
       "layout": "IPY_MODEL_447e358c1ff34a198cb2cf99035c4d90",
       "max": 74,
       "style": "IPY_MODEL_1899a3a09b62434e81a9f384bc16e230",
       "value": 74
      }
     },
     "5707afd9b117403ba3b21b949e1c2a15": {
      "model_module": "@jupyter-widgets/controls",
      "model_module_version": "1.5.0",
      "model_name": "ProgressStyleModel",
      "state": {
       "description_width": "initial"
      }
     },
     "571a3f697ec84af690b38d3ad588b238": {
      "model_module": "@jupyter-widgets/controls",
      "model_module_version": "1.5.0",
      "model_name": "DescriptionStyleModel",
      "state": {
       "description_width": ""
      }
     },
     "573c0c0599b6424eb3faf9bba8b31c6c": {
      "model_module": "@jupyter-widgets/controls",
      "model_module_version": "1.5.0",
      "model_name": "HTMLModel",
      "state": {
       "layout": "IPY_MODEL_28a911f5a3a740909776589519963aff",
       "style": "IPY_MODEL_7473e0e887f147aeb3ff66f3a49e4c44",
       "value": " 589/589 [7:46:38&lt;00:00,  2.59it/s]"
      }
     },
     "579fb2f643e74b6485ec87a6fddb2919": {
      "model_module": "@jupyter-widgets/base",
      "model_module_version": "1.2.0",
      "model_name": "LayoutModel",
      "state": {}
     },
     "57a34304575740228a53b97052e10100": {
      "model_module": "@jupyter-widgets/controls",
      "model_module_version": "1.5.0",
      "model_name": "HTMLModel",
      "state": {
       "layout": "IPY_MODEL_08a716c99b774f5c888288607262eb87",
       "style": "IPY_MODEL_f8a06c75b3254d30adcc157f49c6cbe3",
       "value": " 74/74 [2:56:58&lt;00:00,  5.49it/s]"
      }
     },
     "57d309908a9f4dd090a77d1e396da536": {
      "model_module": "@jupyter-widgets/controls",
      "model_module_version": "1.5.0",
      "model_name": "HBoxModel",
      "state": {
       "children": [
        "IPY_MODEL_b2ca8385e02e41ffb35be0dc2d43a70f",
        "IPY_MODEL_716b6d16d03146bab516e7fe42766186"
       ],
       "layout": "IPY_MODEL_3e9f07e87a034dc186ff4b664414be6f"
      }
     },
     "57dbe78f8a894669b26cf5ad6b818a22": {
      "model_module": "@jupyter-widgets/controls",
      "model_module_version": "1.5.0",
      "model_name": "HTMLModel",
      "state": {
       "layout": "IPY_MODEL_bbb160eb67684d4c9185317cc54e0b5a",
       "style": "IPY_MODEL_8ccbc6eea2df4cac924d9fac2bd89a41",
       "value": " 74/74 [8:52:07&lt;00:00,  6.15it/s]"
      }
     },
     "57e1d36ab299421b98d16bf3144c1468": {
      "model_module": "@jupyter-widgets/controls",
      "model_module_version": "1.5.0",
      "model_name": "HBoxModel",
      "state": {
       "children": [
        "IPY_MODEL_7bf4cfcca0484160986eaf5007f9d385",
        "IPY_MODEL_0af3253195f74d06aae8a91fb479c805"
       ],
       "layout": "IPY_MODEL_4265326e9042425c9ce2c9bedd4d9c61"
      }
     },
     "57e6e8f13ae9451fb4345c3575209dd4": {
      "model_module": "@jupyter-widgets/base",
      "model_module_version": "1.2.0",
      "model_name": "LayoutModel",
      "state": {}
     },
     "5825727beedf467098cc520d6c9d383a": {
      "model_module": "@jupyter-widgets/base",
      "model_module_version": "1.2.0",
      "model_name": "LayoutModel",
      "state": {}
     },
     "5876ffd6ffdf4b4ca959af6092b343e9": {
      "model_module": "@jupyter-widgets/base",
      "model_module_version": "1.2.0",
      "model_name": "LayoutModel",
      "state": {}
     },
     "58aed9eeb8eb40758986fad7d97fdff8": {
      "model_module": "@jupyter-widgets/controls",
      "model_module_version": "1.5.0",
      "model_name": "ProgressStyleModel",
      "state": {
       "description_width": "initial"
      }
     },
     "58b70ae196194193804920344f3205e0": {
      "model_module": "@jupyter-widgets/base",
      "model_module_version": "1.2.0",
      "model_name": "LayoutModel",
      "state": {}
     },
     "59086bef58104890b7a9b921a7a86fff": {
      "model_module": "@jupyter-widgets/base",
      "model_module_version": "1.2.0",
      "model_name": "LayoutModel",
      "state": {}
     },
     "5919fa98139149a7a79d49384c3f7646": {
      "model_module": "@jupyter-widgets/base",
      "model_module_version": "1.2.0",
      "model_name": "LayoutModel",
      "state": {}
     },
     "592419866eb44eb89ac15c298aed6628": {
      "model_module": "@jupyter-widgets/base",
      "model_module_version": "1.2.0",
      "model_name": "LayoutModel",
      "state": {}
     },
     "5949b6c40a854e32ad180d484a801a8a": {
      "model_module": "@jupyter-widgets/controls",
      "model_module_version": "1.5.0",
      "model_name": "DescriptionStyleModel",
      "state": {
       "description_width": ""
      }
     },
     "599a4d373e01436390f10ec0120a1f23": {
      "model_module": "@jupyter-widgets/base",
      "model_module_version": "1.2.0",
      "model_name": "LayoutModel",
      "state": {}
     },
     "59a73c5cc54b418ea4b0a665731ed89e": {
      "model_module": "@jupyter-widgets/base",
      "model_module_version": "1.2.0",
      "model_name": "LayoutModel",
      "state": {}
     },
     "59bb916f681a46a4904f115facf5c7c5": {
      "model_module": "@jupyter-widgets/controls",
      "model_module_version": "1.5.0",
      "model_name": "HBoxModel",
      "state": {
       "children": [
        "IPY_MODEL_42824f4ea0a64dc58101526270d4e04b",
        "IPY_MODEL_ce028b99649d4734b0dfdf36eb44cd19"
       ],
       "layout": "IPY_MODEL_c3e88c395763422a97ddb80f3c5ec92f"
      }
     },
     "59d294b6c6be4d2bbdfbe0f89feec4d2": {
      "model_module": "@jupyter-widgets/base",
      "model_module_version": "1.2.0",
      "model_name": "LayoutModel",
      "state": {}
     },
     "59e94505f85f42bfa326292e21646283": {
      "model_module": "@jupyter-widgets/controls",
      "model_module_version": "1.5.0",
      "model_name": "HBoxModel",
      "state": {
       "children": [
        "IPY_MODEL_e01adc0cf38d431b89e58c8660506701",
        "IPY_MODEL_f87297caafb345b2b65dae842e51af92"
       ],
       "layout": "IPY_MODEL_9a19620b2d94436e992f285196829a95"
      }
     },
     "59ecf0cf718f4ed0bccfa507ba1fe8b6": {
      "model_module": "@jupyter-widgets/controls",
      "model_module_version": "1.5.0",
      "model_name": "FloatProgressModel",
      "state": {
       "description": "Train Epoch #84 - loss:   1.366: 100%",
       "layout": "IPY_MODEL_b8b9a8a7131f4464abb9cbc94a2733e4",
       "max": 589,
       "style": "IPY_MODEL_bfbbde3dfbc5473aa00a01b930f09020",
       "value": 589
      }
     },
     "5a08fdce372b42c4a630202b179cd14f": {
      "model_module": "@jupyter-widgets/base",
      "model_module_version": "1.2.0",
      "model_name": "LayoutModel",
      "state": {}
     },
     "5a683ef5a2d14890a6d1b586335f956e": {
      "model_module": "@jupyter-widgets/controls",
      "model_module_version": "1.5.0",
      "model_name": "FloatProgressModel",
      "state": {
       "description": "Val Epoch #1 - loss:   8.688: 100%",
       "layout": "IPY_MODEL_627203118be74b2a821df9102c89ed1c",
       "max": 74,
       "style": "IPY_MODEL_1ff0366da6f9453daa51f9ec03695bef",
       "value": 74
      }
     },
     "5a7823b8bc154153a4ebf036ace55308": {
      "model_module": "@jupyter-widgets/controls",
      "model_module_version": "1.5.0",
      "model_name": "HTMLModel",
      "state": {
       "layout": "IPY_MODEL_91d0e787dedc46ffa2b309f7dad2896c",
       "style": "IPY_MODEL_cbbdd6f8c5ca42919d731b8983f2e95e",
       "value": " 589/589 [8:05:12&lt;00:00,  4.16it/s]"
      }
     },
     "5aa159cb6a9b401ba18800efd8cfca69": {
      "model_module": "@jupyter-widgets/controls",
      "model_module_version": "1.5.0",
      "model_name": "HTMLModel",
      "state": {
       "layout": "IPY_MODEL_f07828e3f9d44f898888d1f6e780daab",
       "style": "IPY_MODEL_551ca64f063c4623954dc9b521f305a1",
       "value": " 589/589 [11:31&lt;00:00,  1.36s/it]"
      }
     },
     "5ab540c7ccec473eac881b8a286508d5": {
      "model_module": "@jupyter-widgets/base",
      "model_module_version": "1.2.0",
      "model_name": "LayoutModel",
      "state": {}
     },
     "5ab9aad5695147f0907237d12e367a8e": {
      "model_module": "@jupyter-widgets/controls",
      "model_module_version": "1.5.0",
      "model_name": "ProgressStyleModel",
      "state": {
       "description_width": "initial"
      }
     },
     "5abea99129cf464b97426fd1009f2963": {
      "model_module": "@jupyter-widgets/controls",
      "model_module_version": "1.5.0",
      "model_name": "ProgressStyleModel",
      "state": {
       "description_width": "initial"
      }
     },
     "5ad593814ad646458f91d4165d8b16a4": {
      "model_module": "@jupyter-widgets/controls",
      "model_module_version": "1.5.0",
      "model_name": "DescriptionStyleModel",
      "state": {
       "description_width": ""
      }
     },
     "5afca717c298448c921a5a825f34de2b": {
      "model_module": "@jupyter-widgets/controls",
      "model_module_version": "1.5.0",
      "model_name": "ProgressStyleModel",
      "state": {
       "description_width": "initial"
      }
     },
     "5afe5a0de58846928d5c2b1aeb32d392": {
      "model_module": "@jupyter-widgets/controls",
      "model_module_version": "1.5.0",
      "model_name": "FloatProgressModel",
      "state": {
       "description": "Val Epoch #69 - loss:   8.326: 100%",
       "layout": "IPY_MODEL_8bcdcca5dd064312b9820f0116838352",
       "max": 74,
       "style": "IPY_MODEL_1e30132733cb4936bdcb421ccacf03da",
       "value": 74
      }
     },
     "5b2d95298d06457eb0f6c78e004a554a": {
      "model_module": "@jupyter-widgets/base",
      "model_module_version": "1.2.0",
      "model_name": "LayoutModel",
      "state": {}
     },
     "5b491058f3c8422e965885197c98b9c5": {
      "model_module": "@jupyter-widgets/base",
      "model_module_version": "1.2.0",
      "model_name": "LayoutModel",
      "state": {}
     },
     "5b501a8a480f42fd8974a885081a35b3": {
      "model_module": "@jupyter-widgets/controls",
      "model_module_version": "1.5.0",
      "model_name": "FloatProgressModel",
      "state": {
       "description": "Train Epoch #79 - loss:   1.405: 100%",
       "layout": "IPY_MODEL_7006d288c9ce4039b870878f99ff019f",
       "max": 589,
       "style": "IPY_MODEL_40358c42283548e6908e2b5840da2aa0",
       "value": 589
      }
     },
     "5b50c04cf29f4592abb1ac660f0af56b": {
      "model_module": "@jupyter-widgets/base",
      "model_module_version": "1.2.0",
      "model_name": "LayoutModel",
      "state": {}
     },
     "5b70fae421a64d1eb8cc9e7868360e8f": {
      "model_module": "@jupyter-widgets/base",
      "model_module_version": "1.2.0",
      "model_name": "LayoutModel",
      "state": {}
     },
     "5b97d66211304cf5b6538a744b796dd7": {
      "model_module": "@jupyter-widgets/controls",
      "model_module_version": "1.5.0",
      "model_name": "ProgressStyleModel",
      "state": {
       "description_width": "initial"
      }
     },
     "5ba70d913c714401bf4e07a98e24f527": {
      "model_module": "@jupyter-widgets/controls",
      "model_module_version": "1.5.0",
      "model_name": "FloatProgressModel",
      "state": {
       "description": "Val Epoch #0 - loss:   7.839: 100%",
       "layout": "IPY_MODEL_7178d6f8909146829829245c8186f010",
       "max": 74,
       "style": "IPY_MODEL_72ad6fc217234d558caef9cd39c61b26",
       "value": 74
      }
     },
     "5bb253e23bb247c88f062cf03f9f06fd": {
      "model_module": "@jupyter-widgets/controls",
      "model_module_version": "1.5.0",
      "model_name": "FloatProgressModel",
      "state": {
       "description": "Train Epoch #67 - loss:   1.546: 100%",
       "layout": "IPY_MODEL_efd1c8b1e1da4eed845cdf3d8da712ff",
       "max": 589,
       "style": "IPY_MODEL_d19dbe6ce25f409481d393768a8d84f2",
       "value": 589
      }
     },
     "5bb5b7d2e33d454da5289fe867e64a16": {
      "model_module": "@jupyter-widgets/base",
      "model_module_version": "1.2.0",
      "model_name": "LayoutModel",
      "state": {}
     },
     "5bc44b46107443ffa2ce097a864ebe12": {
      "model_module": "@jupyter-widgets/base",
      "model_module_version": "1.2.0",
      "model_name": "LayoutModel",
      "state": {}
     },
     "5bd08031c00840f4b922661cf22b660b": {
      "model_module": "@jupyter-widgets/controls",
      "model_module_version": "1.5.0",
      "model_name": "ProgressStyleModel",
      "state": {
       "description_width": "initial"
      }
     },
     "5c0a1044c70245338549d90ac3da7004": {
      "model_module": "@jupyter-widgets/controls",
      "model_module_version": "1.5.0",
      "model_name": "FloatProgressModel",
      "state": {
       "description": "Val Epoch #3 - loss:   8.851: 100%",
       "layout": "IPY_MODEL_8cbcfa019c7e441ab32afda9aba2d429",
       "max": 74,
       "style": "IPY_MODEL_02bc794a34004ac0ae2d0ec0ca4fdfb6",
       "value": 74
      }
     },
     "5c1959b90dc04bf6b9c875271ba1b2d1": {
      "model_module": "@jupyter-widgets/controls",
      "model_module_version": "1.5.0",
      "model_name": "HBoxModel",
      "state": {
       "children": [
        "IPY_MODEL_26393d0836b74be8964820d384660542",
        "IPY_MODEL_8bbaa0f9ee664f16b07ae81f030a0963"
       ],
       "layout": "IPY_MODEL_9c66efcfa9904f6da1d2560dafdaffa5"
      }
     },
     "5c2a6c03f50b4424bd5db643d6c3f27b": {
      "model_module": "@jupyter-widgets/base",
      "model_module_version": "1.2.0",
      "model_name": "LayoutModel",
      "state": {}
     },
     "5c4ff0b91965426db3310d80e7ae632d": {
      "model_module": "@jupyter-widgets/controls",
      "model_module_version": "1.5.0",
      "model_name": "ProgressStyleModel",
      "state": {
       "description_width": "initial"
      }
     },
     "5c56b884f9ee419289530c11f10e4077": {
      "model_module": "@jupyter-widgets/base",
      "model_module_version": "1.2.0",
      "model_name": "LayoutModel",
      "state": {}
     },
     "5c65ec25dc1f41cba2afed0124e129cc": {
      "model_module": "@jupyter-widgets/base",
      "model_module_version": "1.2.0",
      "model_name": "LayoutModel",
      "state": {}
     },
     "5c8a131c20b04e29bb8625044ed3ec17": {
      "model_module": "@jupyter-widgets/base",
      "model_module_version": "1.2.0",
      "model_name": "LayoutModel",
      "state": {}
     },
     "5c9942fd3a06492897bf6851cb2fc949": {
      "model_module": "@jupyter-widgets/base",
      "model_module_version": "1.2.0",
      "model_name": "LayoutModel",
      "state": {}
     },
     "5ca096d0ae94491880b239ec21ecd14b": {
      "model_module": "@jupyter-widgets/controls",
      "model_module_version": "1.5.0",
      "model_name": "HBoxModel",
      "state": {
       "children": [
        "IPY_MODEL_bfa86d50a1d24c3887ba72fdddbc9c82",
        "IPY_MODEL_04ef7d4fa98e4b84998b8424b28ce478"
       ],
       "layout": "IPY_MODEL_85b30fc7cb304c29b28befed747ac70b"
      }
     },
     "5ca09d76a73c4bb7b5a9e6b8bb437e02": {
      "model_module": "@jupyter-widgets/base",
      "model_module_version": "1.2.0",
      "model_name": "LayoutModel",
      "state": {}
     },
     "5caf1cee5a4f4d69b31b953064a33e47": {
      "model_module": "@jupyter-widgets/controls",
      "model_module_version": "1.5.0",
      "model_name": "FloatProgressModel",
      "state": {
       "description": "Val Epoch #58 - loss:   8.112: 100%",
       "layout": "IPY_MODEL_5919fa98139149a7a79d49384c3f7646",
       "max": 74,
       "style": "IPY_MODEL_40720998031048be8ee6f6f9ca1588f3",
       "value": 74
      }
     },
     "5cbe3f6120904c4588157c2039ca0d09": {
      "model_module": "@jupyter-widgets/controls",
      "model_module_version": "1.5.0",
      "model_name": "HTMLModel",
      "state": {
       "layout": "IPY_MODEL_149c9ed29be94f89a151cafc8617dd02",
       "style": "IPY_MODEL_b26b2799f8274c25a1dd54c84fddf31b",
       "value": " 74/74 [7:21:20&lt;00:00,  7.76it/s]"
      }
     },
     "5d0b4624ac964579b8e8de7905bdefb1": {
      "model_module": "@jupyter-widgets/base",
      "model_module_version": "1.2.0",
      "model_name": "LayoutModel",
      "state": {}
     },
     "5d0f4efd159b4d16a77d8ede59fa428a": {
      "model_module": "@jupyter-widgets/base",
      "model_module_version": "1.2.0",
      "model_name": "LayoutModel",
      "state": {}
     },
     "5d31514e36864e3582d061d01f4e9dc5": {
      "model_module": "@jupyter-widgets/base",
      "model_module_version": "1.2.0",
      "model_name": "LayoutModel",
      "state": {}
     },
     "5d35c52ea7d34881ac01cb591844c639": {
      "model_module": "@jupyter-widgets/controls",
      "model_module_version": "1.5.0",
      "model_name": "ProgressStyleModel",
      "state": {
       "description_width": "initial"
      }
     },
     "5d6d2fd9b878495b8731a3a2b84e5c9a": {
      "model_module": "@jupyter-widgets/controls",
      "model_module_version": "1.5.0",
      "model_name": "HBoxModel",
      "state": {
       "children": [
        "IPY_MODEL_d159ad95c70d40258260e47b0b91f1b9",
        "IPY_MODEL_de4d1243ddd04d11a19dedc9567857a9"
       ],
       "layout": "IPY_MODEL_281c9d8da03b4ee781c0477bed6d1c36"
      }
     },
     "5dda5a670a0d4795903d7f721e75ace8": {
      "model_module": "@jupyter-widgets/controls",
      "model_module_version": "1.5.0",
      "model_name": "HBoxModel",
      "state": {
       "children": [
        "IPY_MODEL_8de2b244e8f24f92ae12b3a7737d36ee",
        "IPY_MODEL_b29c6c02c9d7429085047d0ead2eeb49"
       ],
       "layout": "IPY_MODEL_2177534bf23a476283b7c88d11610e4c"
      }
     },
     "5df59473f7c242d7abb535b2bcd624a1": {
      "model_module": "@jupyter-widgets/controls",
      "model_module_version": "1.5.0",
      "model_name": "HTMLModel",
      "state": {
       "layout": "IPY_MODEL_79779d8abcdf4db99babeff5b3eac94e",
       "style": "IPY_MODEL_202b01b0f7b44053ae1833e18fbf11d3",
       "value": " 74/74 [5:54:16&lt;00:00,  6.11it/s]"
      }
     },
     "5e037112edc04ebdb1f8c2482b2ba730": {
      "model_module": "@jupyter-widgets/base",
      "model_module_version": "1.2.0",
      "model_name": "LayoutModel",
      "state": {}
     },
     "5e2ca1277aca48c48a61ec8ee7cba097": {
      "model_module": "@jupyter-widgets/base",
      "model_module_version": "1.2.0",
      "model_name": "LayoutModel",
      "state": {}
     },
     "5e5039a44cc74a82a0c1b23a40f07edb": {
      "model_module": "@jupyter-widgets/controls",
      "model_module_version": "1.5.0",
      "model_name": "FloatProgressModel",
      "state": {
       "description": "Val Epoch #1 - loss:   8.946: 100%",
       "layout": "IPY_MODEL_19b6f50ea9c8467292d76b8f0d5d2cd3",
       "max": 74,
       "style": "IPY_MODEL_674af1ca498141c09e69b79f1a28b7ac",
       "value": 74
      }
     },
     "5e5104bdd2cf4e14b9d08ed5295fe2b7": {
      "model_module": "@jupyter-widgets/base",
      "model_module_version": "1.2.0",
      "model_name": "LayoutModel",
      "state": {}
     },
     "5e786805b10c47699f4ad6bb1c255489": {
      "model_module": "@jupyter-widgets/controls",
      "model_module_version": "1.5.0",
      "model_name": "DescriptionStyleModel",
      "state": {
       "description_width": ""
      }
     },
     "5e8fe502d9034647abfb3380a2251d87": {
      "model_module": "@jupyter-widgets/controls",
      "model_module_version": "1.5.0",
      "model_name": "FloatProgressModel",
      "state": {
       "description": "Train Epoch #3 - loss:   7.494: 100%",
       "layout": "IPY_MODEL_ef301361dfdc4fc1972b4892599d28c3",
       "max": 589,
       "style": "IPY_MODEL_795699fa0894405fa074af5e55d20d83",
       "value": 589
      }
     },
     "5e989a1cca0b45c29cc832e2b45eedbc": {
      "model_module": "@jupyter-widgets/controls",
      "model_module_version": "1.5.0",
      "model_name": "ProgressStyleModel",
      "state": {
       "description_width": "initial"
      }
     },
     "5ea20e407b3349a2840d308666e0d249": {
      "model_module": "@jupyter-widgets/controls",
      "model_module_version": "1.5.0",
      "model_name": "HBoxModel",
      "state": {
       "children": [
        "IPY_MODEL_fbe773615d0a4d12aa50390459373a1c",
        "IPY_MODEL_f357b7de2810452ba24078534d56373c"
       ],
       "layout": "IPY_MODEL_9c4536424a4543f39b18d7f3a45ac19a"
      }
     },
     "5f14ac80038a42d481c5d6933a4fd1d6": {
      "model_module": "@jupyter-widgets/base",
      "model_module_version": "1.2.0",
      "model_name": "LayoutModel",
      "state": {}
     },
     "5f1628fd87564d069f2ac11e4dd8a818": {
      "model_module": "@jupyter-widgets/controls",
      "model_module_version": "1.5.0",
      "model_name": "FloatProgressModel",
      "state": {
       "description": "Val Epoch #2 - loss:    7.82: 100%",
       "layout": "IPY_MODEL_27e8ebd434b24d9985c0033cd7ad1ae0",
       "max": 74,
       "style": "IPY_MODEL_c6715ef152004f3ebb8fcaa2e83638ff",
       "value": 74
      }
     },
     "5fcd4fd407f04492a233d40b485e5ebb": {
      "model_module": "@jupyter-widgets/controls",
      "model_module_version": "1.5.0",
      "model_name": "HBoxModel",
      "state": {
       "children": [
        "IPY_MODEL_291c2f8c10fa41998ac3bbe53bd34382",
        "IPY_MODEL_33a6f01e7ee9402e85f4173f54fd8daa"
       ],
       "layout": "IPY_MODEL_d17f7713e9f34432a3f227fece976958"
      }
     },
     "5fdd99312b244758b2c8db585527047e": {
      "model_module": "@jupyter-widgets/controls",
      "model_module_version": "1.5.0",
      "model_name": "FloatProgressModel",
      "state": {
       "description": "Train Epoch #3 - loss:   3.043:   2%",
       "layout": "IPY_MODEL_3a151a740057455890c9023eaadc06ed",
       "max": 589,
       "style": "IPY_MODEL_e332dc5cb8a84999b8fc829cd45bb2c3",
       "value": 10
      }
     },
     "5ff2509836024a3babf5d6c717758190": {
      "model_module": "@jupyter-widgets/controls",
      "model_module_version": "1.5.0",
      "model_name": "ProgressStyleModel",
      "state": {
       "description_width": "initial"
      }
     },
     "6002988899914a81a5f0ecf7efca7221": {
      "model_module": "@jupyter-widgets/controls",
      "model_module_version": "1.5.0",
      "model_name": "ProgressStyleModel",
      "state": {
       "description_width": "initial"
      }
     },
     "60442e1c49f043f4841767c7f8c44b8c": {
      "model_module": "@jupyter-widgets/controls",
      "model_module_version": "1.5.0",
      "model_name": "ProgressStyleModel",
      "state": {
       "description_width": "initial"
      }
     },
     "607f7d7c162b4a6b9a04edcb7483372c": {
      "model_module": "@jupyter-widgets/base",
      "model_module_version": "1.2.0",
      "model_name": "LayoutModel",
      "state": {}
     },
     "607fac198b3e46e2b9e2be377337e94a": {
      "model_module": "@jupyter-widgets/controls",
      "model_module_version": "1.5.0",
      "model_name": "ProgressStyleModel",
      "state": {
       "description_width": "initial"
      }
     },
     "60cf6f2dc5e343399b3cad414f5c4e11": {
      "model_module": "@jupyter-widgets/controls",
      "model_module_version": "1.5.0",
      "model_name": "HTMLModel",
      "state": {
       "layout": "IPY_MODEL_3792a3da6e304532a5de99bb5d6d70a2",
       "style": "IPY_MODEL_528e69ce6b2047d897fe6eba40710604",
       "value": " 589/589 [7:04:28&lt;00:00,  2.68it/s]"
      }
     },
     "60ee8a4fd20049eb86facbf0e70e283a": {
      "model_module": "@jupyter-widgets/base",
      "model_module_version": "1.2.0",
      "model_name": "LayoutModel",
      "state": {}
     },
     "60f1ce40a42c46f6aa49aebbbf9c4ddf": {
      "model_module": "@jupyter-widgets/controls",
      "model_module_version": "1.5.0",
      "model_name": "HTMLModel",
      "state": {
       "layout": "IPY_MODEL_b3e54b63a761457daa3604d5e267dab2",
       "style": "IPY_MODEL_50f809659a6348a89ba66f9e980aea11",
       "value": " 74/74 [2:44:21&lt;00:00,  5.60it/s]"
      }
     },
     "612761b5714644d1a035cb4da5901cca": {
      "model_module": "@jupyter-widgets/controls",
      "model_module_version": "1.5.0",
      "model_name": "ProgressStyleModel",
      "state": {
       "description_width": "initial"
      }
     },
     "61335aa1666745639f4ee59e0e61029a": {
      "model_module": "@jupyter-widgets/controls",
      "model_module_version": "1.5.0",
      "model_name": "DescriptionStyleModel",
      "state": {
       "description_width": ""
      }
     },
     "61364e2d4c1a4c1696f095416da6ba28": {
      "model_module": "@jupyter-widgets/controls",
      "model_module_version": "1.5.0",
      "model_name": "HBoxModel",
      "state": {
       "children": [
        "IPY_MODEL_86f4d19b68ae4674a6b6dd54d778df49",
        "IPY_MODEL_2b20543e3638455ab56d22095422e4f4"
       ],
       "layout": "IPY_MODEL_be18bbe4758e4563872e707b2ef8188f"
      }
     },
     "615a1f554f55406e84a5abb08bdc40db": {
      "model_module": "@jupyter-widgets/controls",
      "model_module_version": "1.5.0",
      "model_name": "HBoxModel",
      "state": {
       "children": [
        "IPY_MODEL_82e986b4999e43ab850c052c12f970bb",
        "IPY_MODEL_319398eec607464b8b1af2c672b39de6"
       ],
       "layout": "IPY_MODEL_ba5a0229489d406891e05c60e4f95b1a"
      }
     },
     "616354c1d5af40a7bcdea0a24db2748b": {
      "model_module": "@jupyter-widgets/controls",
      "model_module_version": "1.5.0",
      "model_name": "ProgressStyleModel",
      "state": {
       "description_width": "initial"
      }
     },
     "61637810ac1246b19e022700ead22274": {
      "model_module": "@jupyter-widgets/controls",
      "model_module_version": "1.5.0",
      "model_name": "HTMLModel",
      "state": {
       "layout": "IPY_MODEL_cac4b0c064c0442f998453355237f64f",
       "style": "IPY_MODEL_9475dc2fc19c40579300302654fb6c32",
       "value": " 589/589 [5:16:39&lt;00:00,  2.59it/s]"
      }
     },
     "616a89741dad4073b7a47c5b4daff8f7": {
      "model_module": "@jupyter-widgets/base",
      "model_module_version": "1.2.0",
      "model_name": "LayoutModel",
      "state": {}
     },
     "61ae1972385741d492cbe247fd255ac7": {
      "model_module": "@jupyter-widgets/base",
      "model_module_version": "1.2.0",
      "model_name": "LayoutModel",
      "state": {}
     },
     "61bf3264998a490c865ed86a5ed8c687": {
      "model_module": "@jupyter-widgets/base",
      "model_module_version": "1.2.0",
      "model_name": "LayoutModel",
      "state": {}
     },
     "61eaf0d0ef04443cbf6c6384fa88e78c": {
      "model_module": "@jupyter-widgets/controls",
      "model_module_version": "1.5.0",
      "model_name": "ProgressStyleModel",
      "state": {
       "description_width": "initial"
      }
     },
     "61f66d7a5aee4d0088e1cdfa8a589835": {
      "model_module": "@jupyter-widgets/controls",
      "model_module_version": "1.5.0",
      "model_name": "HBoxModel",
      "state": {
       "children": [
        "IPY_MODEL_920398a7f16040fbbef881a9b658f4af",
        "IPY_MODEL_74ef876b1c144d3a929ef7c26c060bdb"
       ],
       "layout": "IPY_MODEL_aee4a3fc45c64479b4a697b12f5410a4"
      }
     },
     "6214749d26434f6a8fc5c11f69d113f0": {
      "model_module": "@jupyter-widgets/base",
      "model_module_version": "1.2.0",
      "model_name": "LayoutModel",
      "state": {}
     },
     "6226918402954df9a228d8ccf27b1085": {
      "model_module": "@jupyter-widgets/controls",
      "model_module_version": "1.5.0",
      "model_name": "FloatProgressModel",
      "state": {
       "description": "Val Epoch #78 - loss:   8.557: 100%",
       "layout": "IPY_MODEL_85b44d69a6a44a98b60f18afe6f50184",
       "max": 74,
       "style": "IPY_MODEL_b8a1180b9d54465b8d88d0f4ddd6d8c4",
       "value": 74
      }
     },
     "6239cb93db1d44978f4b9d102878cdb0": {
      "model_module": "@jupyter-widgets/controls",
      "model_module_version": "1.5.0",
      "model_name": "FloatProgressModel",
      "state": {
       "description": "Train Epoch #2 - loss:   1.483: 100%",
       "layout": "IPY_MODEL_68072e7771bf4eac8233ca5a72ea05dd",
       "max": 589,
       "style": "IPY_MODEL_c0a188ba81e74e14a03cd296ce813676",
       "value": 589
      }
     },
     "627203118be74b2a821df9102c89ed1c": {
      "model_module": "@jupyter-widgets/base",
      "model_module_version": "1.2.0",
      "model_name": "LayoutModel",
      "state": {}
     },
     "629a08e7b1294d67973c2239710def1e": {
      "model_module": "@jupyter-widgets/controls",
      "model_module_version": "1.5.0",
      "model_name": "HTMLModel",
      "state": {
       "layout": "IPY_MODEL_b48852ea9ed24684938906b50ce5d14c",
       "style": "IPY_MODEL_425dc8aeb28b4fbca1e09aedb6937298",
       "value": " 589/589 [8:35:13&lt;00:00,  3.41it/s]"
      }
     },
     "62ce1e464c8c40949fe8859577e8e43f": {
      "model_module": "@jupyter-widgets/controls",
      "model_module_version": "1.5.0",
      "model_name": "HTMLModel",
      "state": {
       "layout": "IPY_MODEL_c5dd403152c94c2496aaf5934cd57f08",
       "style": "IPY_MODEL_092145de29924aea93c4f7506fbb9b0d",
       "value": " 589/589 [58:20&lt;00:00,  2.23it/s]"
      }
     },
     "62fb92b6319a45b8adadc913538aad2b": {
      "model_module": "@jupyter-widgets/controls",
      "model_module_version": "1.5.0",
      "model_name": "FloatProgressModel",
      "state": {
       "description": "Train Epoch #62 - loss:   1.639: 100%",
       "layout": "IPY_MODEL_54956667665c48449662aad23673f12b",
       "max": 589,
       "style": "IPY_MODEL_8a98dea6efe64e608d729f8feb2098ab",
       "value": 589
      }
     },
     "633b0cb1654e4292894ed7f5b9fe96b9": {
      "model_module": "@jupyter-widgets/controls",
      "model_module_version": "1.5.0",
      "model_name": "HBoxModel",
      "state": {
       "children": [
        "IPY_MODEL_3f349e7d4ccc4ed1b5868b3cf02880e9",
        "IPY_MODEL_a49b38662a5d4afb8056c1fe032120be"
       ],
       "layout": "IPY_MODEL_ea34b33d22774bc68c7975934290e59e"
      }
     },
     "63bd11b966dc46f28163073e9cd9142c": {
      "model_module": "@jupyter-widgets/base",
      "model_module_version": "1.2.0",
      "model_name": "LayoutModel",
      "state": {}
     },
     "63f1c01bec96414fb8c9aec1a627eb9d": {
      "model_module": "@jupyter-widgets/controls",
      "model_module_version": "1.5.0",
      "model_name": "ProgressStyleModel",
      "state": {
       "description_width": "initial"
      }
     },
     "63fbe1b6a9a741788f63efe432f42ca0": {
      "model_module": "@jupyter-widgets/controls",
      "model_module_version": "1.5.0",
      "model_name": "HTMLModel",
      "state": {
       "layout": "IPY_MODEL_1dc63bb7d9f444bb8785962ff2a1d47b",
       "style": "IPY_MODEL_439737cecf344effb4146dc180b21501",
       "value": " 589/589 [6:05:27&lt;00:00,  3.13it/s]"
      }
     },
     "63ffdec2c3ae4ce68f74829472bd6e00": {
      "model_module": "@jupyter-widgets/base",
      "model_module_version": "1.2.0",
      "model_name": "LayoutModel",
      "state": {}
     },
     "6451160456e5404ca255fa24b601c6fe": {
      "model_module": "@jupyter-widgets/controls",
      "model_module_version": "1.5.0",
      "model_name": "HTMLModel",
      "state": {
       "layout": "IPY_MODEL_c41e3bb6f1084a2bacdbf73654081805",
       "style": "IPY_MODEL_ffcfad07e7704eea92eb38165bd3602f",
       "value": " 74/74 [5:36:13&lt;00:00,  5.89it/s]"
      }
     },
     "645db48556564886911e4e75535841fe": {
      "model_module": "@jupyter-widgets/controls",
      "model_module_version": "1.5.0",
      "model_name": "HTMLModel",
      "state": {
       "layout": "IPY_MODEL_85861166363e45bc95160aabde176818",
       "style": "IPY_MODEL_ef74422fba4945768dead374e37de9cc",
       "value": " 589/589 [2:06:03&lt;00:00,  2.24it/s]"
      }
     },
     "648e01ce051a4855ba9d8aa52592ff1b": {
      "model_module": "@jupyter-widgets/controls",
      "model_module_version": "1.5.0",
      "model_name": "DescriptionStyleModel",
      "state": {
       "description_width": ""
      }
     },
     "649db50d27ab46e0a52b7e8757e28a5b": {
      "model_module": "@jupyter-widgets/controls",
      "model_module_version": "1.5.0",
      "model_name": "HTMLModel",
      "state": {
       "layout": "IPY_MODEL_961b4f581ac94636ab843e4c8db85147",
       "style": "IPY_MODEL_3d3a39f454fb4142b7c6688f21e64994",
       "value": " 74/74 [5:51:20&lt;00:00,  5.88it/s]"
      }
     },
     "64b4725f43c04a89a621e5ab6ed043b7": {
      "model_module": "@jupyter-widgets/base",
      "model_module_version": "1.2.0",
      "model_name": "LayoutModel",
      "state": {}
     },
     "64eeef6844fa4ee4afc7a2d75bb12a46": {
      "model_module": "@jupyter-widgets/controls",
      "model_module_version": "1.5.0",
      "model_name": "HBoxModel",
      "state": {
       "children": [
        "IPY_MODEL_cec6d075c12245ffbac9e4bb03b947a7",
        "IPY_MODEL_53f322b83ff243f58d5e3c5d5db76331"
       ],
       "layout": "IPY_MODEL_842262a3d59c47e4aaad70e106e5670f"
      }
     },
     "6506b5d1803d420a8ec714f0f7e3ce68": {
      "model_module": "@jupyter-widgets/controls",
      "model_module_version": "1.5.0",
      "model_name": "ProgressStyleModel",
      "state": {
       "description_width": "initial"
      }
     },
     "653463c182c740f48d019b341a484709": {
      "model_module": "@jupyter-widgets/base",
      "model_module_version": "1.2.0",
      "model_name": "LayoutModel",
      "state": {}
     },
     "65394a9591e442958624485e5d93366d": {
      "model_module": "@jupyter-widgets/base",
      "model_module_version": "1.2.0",
      "model_name": "LayoutModel",
      "state": {}
     },
     "6579034386904d04b7e05b30f81c9fec": {
      "model_module": "@jupyter-widgets/controls",
      "model_module_version": "1.5.0",
      "model_name": "FloatProgressModel",
      "state": {
       "description": "Train Epoch #33 - loss:   3.026: 100%",
       "layout": "IPY_MODEL_d53c676a4d4241fdb34e0e35b0f57014",
       "max": 589,
       "style": "IPY_MODEL_f46135ed3b334cc9a1faf323bb944fa1",
       "value": 589
      }
     },
     "65aaa229ba49418f80188bc5ecfbbf05": {
      "model_module": "@jupyter-widgets/base",
      "model_module_version": "1.2.0",
      "model_name": "LayoutModel",
      "state": {}
     },
     "65c58f30a30f44bea5c933641091a286": {
      "model_module": "@jupyter-widgets/controls",
      "model_module_version": "1.5.0",
      "model_name": "HTMLModel",
      "state": {
       "layout": "IPY_MODEL_5222ec73f2e34accb267f5158b37e976",
       "style": "IPY_MODEL_b4c447e31b7f420bbe88ab648cf9a1ca",
       "value": " 74/74 [2:10:31&lt;00:00,  5.90it/s]"
      }
     },
     "65cd1834448845d98172fd67e68e29ad": {
      "model_module": "@jupyter-widgets/controls",
      "model_module_version": "1.5.0",
      "model_name": "DescriptionStyleModel",
      "state": {
       "description_width": ""
      }
     },
     "65d2275a52d0455888e1cb628a46aab1": {
      "model_module": "@jupyter-widgets/controls",
      "model_module_version": "1.5.0",
      "model_name": "HTMLModel",
      "state": {
       "layout": "IPY_MODEL_d48befe969f14c9b913fcfe1d4f25f5c",
       "style": "IPY_MODEL_3ea48f136ad54554af70d7483ae10a42",
       "value": " 589/589 [1:19:25&lt;00:00,  2.16it/s]"
      }
     },
     "65dc71b9695642ec9968fb5b2617a31b": {
      "model_module": "@jupyter-widgets/controls",
      "model_module_version": "1.5.0",
      "model_name": "HBoxModel",
      "state": {
       "children": [
        "IPY_MODEL_8ba141e50c5442ff9cc7f9f729eb9b0e",
        "IPY_MODEL_e47b7f2756d84f4d8cc2b453aa07a573"
       ],
       "layout": "IPY_MODEL_14c727c2c8844da8ba04a798eb29869d"
      }
     },
     "65ea4fb1ffb64c9289311ebc1602c5fb": {
      "model_module": "@jupyter-widgets/controls",
      "model_module_version": "1.5.0",
      "model_name": "DescriptionStyleModel",
      "state": {
       "description_width": ""
      }
     },
     "65f8a155d88f4015a089638b4ba076b3": {
      "model_module": "@jupyter-widgets/controls",
      "model_module_version": "1.5.0",
      "model_name": "HTMLModel",
      "state": {
       "layout": "IPY_MODEL_f65029c06d2648288dfd6e43dfc70434",
       "style": "IPY_MODEL_7d2a7c6d380f470bb794f9f3940250c3",
       "value": " 74/74 [2:06:17&lt;00:00,  5.66it/s]"
      }
     },
     "6629de0b62164f28afca60339309848a": {
      "model_module": "@jupyter-widgets/controls",
      "model_module_version": "1.5.0",
      "model_name": "FloatProgressModel",
      "state": {
       "description": "Train Epoch #56 - loss:   1.781: 100%",
       "layout": "IPY_MODEL_4222b11ee3c046829205fdccb3326665",
       "max": 589,
       "style": "IPY_MODEL_7a5f1260d87a411083e7eb9e33d50d3a",
       "value": 589
      }
     },
     "663907fa6a2247d2b0c7c4cb44b91372": {
      "model_module": "@jupyter-widgets/controls",
      "model_module_version": "1.5.0",
      "model_name": "HTMLModel",
      "state": {
       "layout": "IPY_MODEL_b2ad3f12cadb4ee6b85bb36f3c182019",
       "style": "IPY_MODEL_b3a9bf76d511499e9a4bdedecfe2e155",
       "value": " 418/589 [8:13:58&lt;00:48,  3.50it/s]"
      }
     },
     "6640bbcd90a042969521bb261e8c9096": {
      "model_module": "@jupyter-widgets/base",
      "model_module_version": "1.2.0",
      "model_name": "LayoutModel",
      "state": {}
     },
     "6655515456564bd49df0ef1dd2e3c05c": {
      "model_module": "@jupyter-widgets/controls",
      "model_module_version": "1.5.0",
      "model_name": "HBoxModel",
      "state": {
       "children": [
        "IPY_MODEL_50e03c4025af48469b3db1d1266f5586",
        "IPY_MODEL_b25d4d462496402cbf657ec95ca95d47"
       ],
       "layout": "IPY_MODEL_4c7dea9829104798a2568e7408a5eeb8"
      }
     },
     "6655e2472f454587a2a0c16733a414bf": {
      "model_module": "@jupyter-widgets/controls",
      "model_module_version": "1.5.0",
      "model_name": "ProgressStyleModel",
      "state": {
       "description_width": "initial"
      }
     },
     "666cf38737924592ac346ea0bf94b6d3": {
      "model_module": "@jupyter-widgets/base",
      "model_module_version": "1.2.0",
      "model_name": "LayoutModel",
      "state": {}
     },
     "666d3e9965aa42abbe90169e25685f8b": {
      "model_module": "@jupyter-widgets/controls",
      "model_module_version": "1.5.0",
      "model_name": "ProgressStyleModel",
      "state": {
       "description_width": "initial"
      }
     },
     "669c048a4e1240c7b9508d002cd1a39b": {
      "model_module": "@jupyter-widgets/controls",
      "model_module_version": "1.5.0",
      "model_name": "FloatProgressModel",
      "state": {
       "description": "Val Epoch #13 - loss:   6.917: 100%",
       "layout": "IPY_MODEL_a1363c72278d41c4bbdb90e21d6e9c4d",
       "max": 74,
       "style": "IPY_MODEL_8451387f93cf41309f8512324db0f2aa",
       "value": 74
      }
     },
     "66b4e9371a1e4fa99b9ef213e0d0a1c3": {
      "model_module": "@jupyter-widgets/controls",
      "model_module_version": "1.5.0",
      "model_name": "FloatProgressModel",
      "state": {
       "description": "Val Epoch #95 - loss:   8.749: 100%",
       "layout": "IPY_MODEL_27e08989846c49ee99842175ae95438f",
       "max": 74,
       "style": "IPY_MODEL_5272216afaf94ccf9b141cbbd0ca1c30",
       "value": 74
      }
     },
     "66ba11dae3924978be7070cc2b70dcac": {
      "model_module": "@jupyter-widgets/base",
      "model_module_version": "1.2.0",
      "model_name": "LayoutModel",
      "state": {}
     },
     "66d3954c48fc4e9d96500004be15e95b": {
      "model_module": "@jupyter-widgets/base",
      "model_module_version": "1.2.0",
      "model_name": "LayoutModel",
      "state": {}
     },
     "66eb95abeb654d5489c19cdf115f7ce4": {
      "model_module": "@jupyter-widgets/controls",
      "model_module_version": "1.5.0",
      "model_name": "FloatProgressModel",
      "state": {
       "description": "Train Epoch #29 - loss:   3.405: 100%",
       "layout": "IPY_MODEL_7c79863ed2b04aba8a2571c35dd70662",
       "max": 589,
       "style": "IPY_MODEL_4d5ece8a30714eb68d379ae06c285367",
       "value": 589
      }
     },
     "66f371d0bb58451f8b49eb063e80970d": {
      "model_module": "@jupyter-widgets/base",
      "model_module_version": "1.2.0",
      "model_name": "LayoutModel",
      "state": {}
     },
     "66feafd38d5e469cb9f1735965257cdb": {
      "model_module": "@jupyter-widgets/base",
      "model_module_version": "1.2.0",
      "model_name": "LayoutModel",
      "state": {}
     },
     "6703957ea42d4528b07c6bfb5a0048e9": {
      "model_module": "@jupyter-widgets/controls",
      "model_module_version": "1.5.0",
      "model_name": "ProgressStyleModel",
      "state": {
       "description_width": "initial"
      }
     },
     "671543b8b3c94299b736b6ff08ba2dc8": {
      "model_module": "@jupyter-widgets/base",
      "model_module_version": "1.2.0",
      "model_name": "LayoutModel",
      "state": {}
     },
     "67191c6a924a45f483d2f9640d689f19": {
      "model_module": "@jupyter-widgets/controls",
      "model_module_version": "1.5.0",
      "model_name": "FloatProgressModel",
      "state": {
       "description": "Train Epoch #0 - loss:   5.504: 100%",
       "layout": "IPY_MODEL_66ba11dae3924978be7070cc2b70dcac",
       "max": 589,
       "style": "IPY_MODEL_7dde16f7376247699c77b47010ff8421",
       "value": 589
      }
     },
     "674ae15771334b478cf5bb989af396d3": {
      "model_module": "@jupyter-widgets/base",
      "model_module_version": "1.2.0",
      "model_name": "LayoutModel",
      "state": {}
     },
     "674af1ca498141c09e69b79f1a28b7ac": {
      "model_module": "@jupyter-widgets/controls",
      "model_module_version": "1.5.0",
      "model_name": "ProgressStyleModel",
      "state": {
       "description_width": "initial"
      }
     },
     "6757b649059e48579279907ed8f17d84": {
      "model_module": "@jupyter-widgets/controls",
      "model_module_version": "1.5.0",
      "model_name": "ProgressStyleModel",
      "state": {
       "description_width": "initial"
      }
     },
     "6775bc75f8ac420694e69defb4a53fc4": {
      "model_module": "@jupyter-widgets/base",
      "model_module_version": "1.2.0",
      "model_name": "LayoutModel",
      "state": {}
     },
     "677b751a0a1241f2849cb2e2ba3db523": {
      "model_module": "@jupyter-widgets/base",
      "model_module_version": "1.2.0",
      "model_name": "LayoutModel",
      "state": {}
     },
     "6780194dc27e45b199dce7e1012b3bef": {
      "model_module": "@jupyter-widgets/controls",
      "model_module_version": "1.5.0",
      "model_name": "HTMLModel",
      "state": {
       "layout": "IPY_MODEL_73dfb34765004462a9750880fe9533bf",
       "style": "IPY_MODEL_de014047234444b3859969b950b002e0",
       "value": " 589/589 [8:57:14&lt;00:00,  3.24it/s]"
      }
     },
     "67ba9c19999546d68e8bd95790a45f3e": {
      "model_module": "@jupyter-widgets/controls",
      "model_module_version": "1.5.0",
      "model_name": "DescriptionStyleModel",
      "state": {
       "description_width": ""
      }
     },
     "67e8a24c897d4a6c94b0156a285ff9a6": {
      "model_module": "@jupyter-widgets/controls",
      "model_module_version": "1.5.0",
      "model_name": "HBoxModel",
      "state": {
       "children": [
        "IPY_MODEL_2726bbb3861544ab9176c86a5ca1e9a1",
        "IPY_MODEL_74d539be85cf4a258f937808feedfddb"
       ],
       "layout": "IPY_MODEL_784d2d3b8e654e63a93ed3669a208688"
      }
     },
     "68072e7771bf4eac8233ca5a72ea05dd": {
      "model_module": "@jupyter-widgets/base",
      "model_module_version": "1.2.0",
      "model_name": "LayoutModel",
      "state": {}
     },
     "6840f37481484ee0b7bd62a4893270ee": {
      "model_module": "@jupyter-widgets/base",
      "model_module_version": "1.2.0",
      "model_name": "LayoutModel",
      "state": {}
     },
     "6885250019994b0c8b49277182ab22ec": {
      "model_module": "@jupyter-widgets/controls",
      "model_module_version": "1.5.0",
      "model_name": "HTMLModel",
      "state": {
       "layout": "IPY_MODEL_30c6b3f47b074dffacfa83b1cbb0a1e8",
       "style": "IPY_MODEL_b999c5636ee3437381b7a07502258594",
       "value": " 74/74 [7:59:29&lt;00:00, 11.69it/s]"
      }
     },
     "688f7e44e0d04225980bd7afd64024e6": {
      "model_module": "@jupyter-widgets/base",
      "model_module_version": "1.2.0",
      "model_name": "LayoutModel",
      "state": {}
     },
     "689ce625189a4303899e410daf8e593a": {
      "model_module": "@jupyter-widgets/controls",
      "model_module_version": "1.5.0",
      "model_name": "FloatProgressModel",
      "state": {
       "description": "Train Epoch #4 - loss:   6.342: 100%",
       "layout": "IPY_MODEL_e41c8cfe21244733ab6b7a1e87d976e2",
       "max": 589,
       "style": "IPY_MODEL_58aed9eeb8eb40758986fad7d97fdff8",
       "value": 589
      }
     },
     "68abe02cc5c64165b8413489f3103c98": {
      "model_module": "@jupyter-widgets/controls",
      "model_module_version": "1.5.0",
      "model_name": "ProgressStyleModel",
      "state": {
       "description_width": "initial"
      }
     },
     "68c3bb7835394af8b2e865cf6eb24639": {
      "model_module": "@jupyter-widgets/controls",
      "model_module_version": "1.5.0",
      "model_name": "FloatProgressModel",
      "state": {
       "description": "Val Epoch #83 - loss:   8.584: 100%",
       "layout": "IPY_MODEL_71e3019d0f4242a2b1ddcacb858392ea",
       "max": 74,
       "style": "IPY_MODEL_7ae6c038ee47428282f7a6dfccfd6881",
       "value": 74
      }
     },
     "68e1cbcfaaf14af89c29fdc88bd339b6": {
      "model_module": "@jupyter-widgets/controls",
      "model_module_version": "1.5.0",
      "model_name": "FloatProgressModel",
      "state": {
       "description": "Val Epoch #3 - loss:   8.058: 100%",
       "layout": "IPY_MODEL_5d0f4efd159b4d16a77d8ede59fa428a",
       "max": 74,
       "style": "IPY_MODEL_b3aefbc0a5f14b37a6f31012f8822825",
       "value": 74
      }
     },
     "68fbc5a4100e42d591a1787ed26e8a7f": {
      "model_module": "@jupyter-widgets/base",
      "model_module_version": "1.2.0",
      "model_name": "LayoutModel",
      "state": {}
     },
     "6918dfc2dffa473fa3f82b9e11f1b462": {
      "model_module": "@jupyter-widgets/base",
      "model_module_version": "1.2.0",
      "model_name": "LayoutModel",
      "state": {}
     },
     "693f51e5fc3d48cc90f43020085b9d0b": {
      "model_module": "@jupyter-widgets/controls",
      "model_module_version": "1.5.0",
      "model_name": "HTMLModel",
      "state": {
       "layout": "IPY_MODEL_af998c3adad6468d989971441baea682",
       "style": "IPY_MODEL_97b991beb2fb46ea83852ed200ec587b",
       "value": " 589/589 [8:46:26&lt;00:00,  3.24it/s]"
      }
     },
     "6947569cffc447c9843405997f39b6ad": {
      "model_module": "@jupyter-widgets/controls",
      "model_module_version": "1.5.0",
      "model_name": "ProgressStyleModel",
      "state": {
       "description_width": "initial"
      }
     },
     "69b61fd6a8834f14be6124275d325af2": {
      "model_module": "@jupyter-widgets/base",
      "model_module_version": "1.2.0",
      "model_name": "LayoutModel",
      "state": {}
     },
     "69f5fb6b42604db8a9f00226ee24ec22": {
      "model_module": "@jupyter-widgets/controls",
      "model_module_version": "1.5.0",
      "model_name": "FloatProgressModel",
      "state": {
       "description": "Train Epoch #18 - loss:   5.666: 100%",
       "layout": "IPY_MODEL_f87c1819302947b1af62298b1638d6ca",
       "max": 589,
       "style": "IPY_MODEL_8cf0d32d46f248f5b9c8fce2b06126b6",
       "value": 589
      }
     },
     "6a0babd06f50403984f0ddbdef6c1ce6": {
      "model_module": "@jupyter-widgets/base",
      "model_module_version": "1.2.0",
      "model_name": "LayoutModel",
      "state": {}
     },
     "6a1a87a5ec51429197fa3571f9a76133": {
      "model_module": "@jupyter-widgets/controls",
      "model_module_version": "1.5.0",
      "model_name": "DescriptionStyleModel",
      "state": {
       "description_width": ""
      }
     },
     "6a6004d4da51407d968c015c2daf4e0f": {
      "model_module": "@jupyter-widgets/controls",
      "model_module_version": "1.5.0",
      "model_name": "DescriptionStyleModel",
      "state": {
       "description_width": ""
      }
     },
     "6a684dee7bd94e248918035e72742a7b": {
      "model_module": "@jupyter-widgets/base",
      "model_module_version": "1.2.0",
      "model_name": "LayoutModel",
      "state": {}
     },
     "6a863802a5af4d1f8f2ab6421ad95687": {
      "model_module": "@jupyter-widgets/base",
      "model_module_version": "1.2.0",
      "model_name": "LayoutModel",
      "state": {}
     },
     "6ae98c00fdeb46c7944d828b9c293972": {
      "model_module": "@jupyter-widgets/controls",
      "model_module_version": "1.5.0",
      "model_name": "FloatProgressModel",
      "state": {
       "description": "Val Epoch #96 - loss:   8.718: 100%",
       "layout": "IPY_MODEL_f473c69d0e704a76a6a6087ca117c695",
       "max": 74,
       "style": "IPY_MODEL_ca219d7f6a7e4f96900b5a3a01623d52",
       "value": 74
      }
     },
     "6b3f6e16316e4e6e9d712fde1d50752a": {
      "model_module": "@jupyter-widgets/controls",
      "model_module_version": "1.5.0",
      "model_name": "HBoxModel",
      "state": {
       "children": [
        "IPY_MODEL_6239cb93db1d44978f4b9d102878cdb0",
        "IPY_MODEL_0e74b39717a14b10b77967ef7541b6ca"
       ],
       "layout": "IPY_MODEL_470a4900b95c49359fd97616fb8c8ff0"
      }
     },
     "6b64a425f78641a38cca806ca105db32": {
      "model_module": "@jupyter-widgets/controls",
      "model_module_version": "1.5.0",
      "model_name": "DescriptionStyleModel",
      "state": {
       "description_width": ""
      }
     },
     "6b6db492cbd345f5b619d82f26e708d3": {
      "model_module": "@jupyter-widgets/controls",
      "model_module_version": "1.5.0",
      "model_name": "FloatProgressModel",
      "state": {
       "description": "Val Epoch #10 - loss:   7.072: 100%",
       "layout": "IPY_MODEL_5825727beedf467098cc520d6c9d383a",
       "max": 74,
       "style": "IPY_MODEL_bb07f7efc60f400c8cda24f45fe69fe1",
       "value": 74
      }
     },
     "6b7a1134de4445b7810a4a1e1c97896d": {
      "model_module": "@jupyter-widgets/base",
      "model_module_version": "1.2.0",
      "model_name": "LayoutModel",
      "state": {}
     },
     "6b8acdb9019b40d087cd2a8dbdab389b": {
      "model_module": "@jupyter-widgets/controls",
      "model_module_version": "1.5.0",
      "model_name": "HTMLModel",
      "state": {
       "layout": "IPY_MODEL_9620e74554c340dead0392caa3cdf6ac",
       "style": "IPY_MODEL_a5bba3c8eec24d208bf261d5764f4eb5",
       "value": " 589/589 [4:15:48&lt;00:00,  2.33it/s]"
      }
     },
     "6be64d42d7dc4ff7a0d6117f8c4d965a": {
      "model_module": "@jupyter-widgets/controls",
      "model_module_version": "1.5.0",
      "model_name": "FloatProgressModel",
      "state": {
       "description": "Train Epoch #68 - loss:   1.532: 100%",
       "layout": "IPY_MODEL_d4a8283d0f1247e88c0fdc3442ad4075",
       "max": 589,
       "style": "IPY_MODEL_8d783f8172a1417bab1e527d17e7e280",
       "value": 589
      }
     },
     "6bf24283154549adaa2f8ad35035c9e1": {
      "model_module": "@jupyter-widgets/base",
      "model_module_version": "1.2.0",
      "model_name": "LayoutModel",
      "state": {}
     },
     "6c088e82f9554229b02216fa13d76069": {
      "model_module": "@jupyter-widgets/controls",
      "model_module_version": "1.5.0",
      "model_name": "FloatProgressModel",
      "state": {
       "description": "Val Epoch #4 - loss:   7.724: 100%",
       "layout": "IPY_MODEL_1ff9f20f06b5488f81c2472f6618c9b8",
       "max": 74,
       "style": "IPY_MODEL_6703957ea42d4528b07c6bfb5a0048e9",
       "value": 74
      }
     },
     "6c7165d4b7da4a3d89c489f747277df8": {
      "model_module": "@jupyter-widgets/controls",
      "model_module_version": "1.5.0",
      "model_name": "HBoxModel",
      "state": {
       "children": [
        "IPY_MODEL_66b4e9371a1e4fa99b9ef213e0d0a1c3",
        "IPY_MODEL_8e6c5f8c57c043588da1b1e01cfdb466"
       ],
       "layout": "IPY_MODEL_9e56bd21551646538b74f60318e3892f"
      }
     },
     "6c8b6518179741dd9a37aa2e67c83211": {
      "model_module": "@jupyter-widgets/base",
      "model_module_version": "1.2.0",
      "model_name": "LayoutModel",
      "state": {}
     },
     "6c8c2b0db8f2417cbc66c9bc4753d0d8": {
      "model_module": "@jupyter-widgets/controls",
      "model_module_version": "1.5.0",
      "model_name": "ProgressStyleModel",
      "state": {
       "description_width": "initial"
      }
     },
     "6c9824f32973456aa82d859166f3c912": {
      "model_module": "@jupyter-widgets/base",
      "model_module_version": "1.2.0",
      "model_name": "LayoutModel",
      "state": {}
     },
     "6c9b7788eb314e5fb247210b1aff2125": {
      "model_module": "@jupyter-widgets/controls",
      "model_module_version": "1.5.0",
      "model_name": "FloatProgressModel",
      "state": {
       "description": "Val Epoch #38 - loss:    7.48: 100%",
       "layout": "IPY_MODEL_a184708e88ad40d4bef5a2954012e651",
       "max": 74,
       "style": "IPY_MODEL_2d74f4da4af848868a047f37ee287ead",
       "value": 74
      }
     },
     "6cab7e1fb5f14992ad127f36c96ed661": {
      "model_module": "@jupyter-widgets/controls",
      "model_module_version": "1.5.0",
      "model_name": "HTMLModel",
      "state": {
       "layout": "IPY_MODEL_314d932232674ea78528683aee81abcb",
       "style": "IPY_MODEL_a8fc2603cd3945fb9347bc12f7c4627c",
       "value": " 589/589 [8:09:05&lt;00:00,  4.45it/s]"
      }
     },
     "6cabbe82f3d8411993f92891ca3497c0": {
      "model_module": "@jupyter-widgets/controls",
      "model_module_version": "1.5.0",
      "model_name": "DescriptionStyleModel",
      "state": {
       "description_width": ""
      }
     },
     "6cb57f11c3c547acb79ff868ea2879f5": {
      "model_module": "@jupyter-widgets/base",
      "model_module_version": "1.2.0",
      "model_name": "LayoutModel",
      "state": {}
     },
     "6cdacea8188448ceb9f1259a330c6e66": {
      "model_module": "@jupyter-widgets/base",
      "model_module_version": "1.2.0",
      "model_name": "LayoutModel",
      "state": {}
     },
     "6d009f9a3cbb4076beb0913b401e7417": {
      "model_module": "@jupyter-widgets/controls",
      "model_module_version": "1.5.0",
      "model_name": "ProgressStyleModel",
      "state": {
       "description_width": "initial"
      }
     },
     "6d0d14ad923a4517940b4b665897dbf6": {
      "model_module": "@jupyter-widgets/controls",
      "model_module_version": "1.5.0",
      "model_name": "ProgressStyleModel",
      "state": {
       "description_width": "initial"
      }
     },
     "6d43e2c3e4dd430f983da34e16449755": {
      "model_module": "@jupyter-widgets/controls",
      "model_module_version": "1.5.0",
      "model_name": "FloatProgressModel",
      "state": {
       "description": "Train Epoch #7 - loss:   7.254: 100%",
       "layout": "IPY_MODEL_40caae155fe745c2901d4d87e7f0dc8f",
       "max": 589,
       "style": "IPY_MODEL_3018c5ccd4254f4387294deabcc092ca",
       "value": 589
      }
     },
     "6d70b95d95674f66a0959cb420cbf0c5": {
      "model_module": "@jupyter-widgets/controls",
      "model_module_version": "1.5.0",
      "model_name": "FloatProgressModel",
      "state": {
       "description": "Train Epoch #0 - loss:   8.326:  22%",
       "layout": "IPY_MODEL_830627b0b3534b9b83fbfbeb429f990b",
       "max": 589,
       "style": "IPY_MODEL_ad5124d98417446785b025b449486a25",
       "value": 127
      }
     },
     "6d8a2befa14a4cbdbecf6d9d012376de": {
      "model_module": "@jupyter-widgets/controls",
      "model_module_version": "1.5.0",
      "model_name": "FloatProgressModel",
      "state": {
       "description": "Val Epoch #0 - loss:   8.763: 100%",
       "layout": "IPY_MODEL_8c2da179e12847b5a605708397ae0a56",
       "max": 74,
       "style": "IPY_MODEL_b583b39c722242ce961d601bbb4e5f35",
       "value": 74
      }
     },
     "6d92a85f11874f689cddad640b335191": {
      "model_module": "@jupyter-widgets/controls",
      "model_module_version": "1.5.0",
      "model_name": "ProgressStyleModel",
      "state": {
       "description_width": "initial"
      }
     },
     "6db4225dfda643e0a538e232104a5331": {
      "model_module": "@jupyter-widgets/base",
      "model_module_version": "1.2.0",
      "model_name": "LayoutModel",
      "state": {}
     },
     "6db7e3440ed146878eb2ea8d5fb916ce": {
      "model_module": "@jupyter-widgets/controls",
      "model_module_version": "1.5.0",
      "model_name": "HBoxModel",
      "state": {
       "children": [
        "IPY_MODEL_3068c9a9ea9c4236b80ae6ab01b8f885",
        "IPY_MODEL_2e73466b86cb460f863e811cee032720"
       ],
       "layout": "IPY_MODEL_b95d63604475462393605d0cb2fba02a"
      }
     },
     "6dbb76f532a04868a09b7d38355afcf3": {
      "model_module": "@jupyter-widgets/controls",
      "model_module_version": "1.5.0",
      "model_name": "FloatProgressModel",
      "state": {
       "description": "Train Epoch #7 - loss:   6.361: 100%",
       "layout": "IPY_MODEL_82d3430a0e0749e388f1bd0c4bf6ac57",
       "max": 589,
       "style": "IPY_MODEL_c326565d628c4e26854d1de1709c0132",
       "value": 589
      }
     },
     "6ddcc68a1e17446c9d279ef435d5515f": {
      "model_module": "@jupyter-widgets/controls",
      "model_module_version": "1.5.0",
      "model_name": "HBoxModel",
      "state": {
       "children": [
        "IPY_MODEL_9cf9a7906ccd4ccb9b1ab2eebd3b91f7",
        "IPY_MODEL_292dd1597b204d0dbc93d2c1fb498cc8"
       ],
       "layout": "IPY_MODEL_c42a4518df964945aa3e9f01a02c984b"
      }
     },
     "6dec82777061457ea7a4c82f96f8ef43": {
      "model_module": "@jupyter-widgets/controls",
      "model_module_version": "1.5.0",
      "model_name": "HTMLModel",
      "state": {
       "layout": "IPY_MODEL_b9d33dde84e545c7856ff5fdc3c62882",
       "style": "IPY_MODEL_c5124f76f29f41508c468d502233c009",
       "value": " 589/589 [5:42:05&lt;00:00,  3.12it/s]"
      }
     },
     "6e0d6567326c4c52a0708fd00b56d689": {
      "model_module": "@jupyter-widgets/controls",
      "model_module_version": "1.5.0",
      "model_name": "HBoxModel",
      "state": {
       "children": [
        "IPY_MODEL_e7d081b52f104432986e58c5f3626906",
        "IPY_MODEL_204c178511a443d4871764c56a9832d7"
       ],
       "layout": "IPY_MODEL_b517db61b3da48e69c4360139f9cde73"
      }
     },
     "6e0f9bd042bc48c09f2784285c060364": {
      "model_module": "@jupyter-widgets/controls",
      "model_module_version": "1.5.0",
      "model_name": "ProgressStyleModel",
      "state": {
       "description_width": "initial"
      }
     },
     "6e203035beb3405a9942218e6b52f82f": {
      "model_module": "@jupyter-widgets/controls",
      "model_module_version": "1.5.0",
      "model_name": "DescriptionStyleModel",
      "state": {
       "description_width": ""
      }
     },
     "6e2990d797c447e6b4723a9f909367b1": {
      "model_module": "@jupyter-widgets/base",
      "model_module_version": "1.2.0",
      "model_name": "LayoutModel",
      "state": {}
     },
     "6e2af48862aa41669f5f0162581dd46b": {
      "model_module": "@jupyter-widgets/base",
      "model_module_version": "1.2.0",
      "model_name": "LayoutModel",
      "state": {}
     },
     "6e7bc2ba9eef4ba1be3d1e6c29d06ec9": {
      "model_module": "@jupyter-widgets/controls",
      "model_module_version": "1.5.0",
      "model_name": "DescriptionStyleModel",
      "state": {
       "description_width": ""
      }
     },
     "6e848143ae6242a580de28a7a2a2aa34": {
      "model_module": "@jupyter-widgets/controls",
      "model_module_version": "1.5.0",
      "model_name": "ProgressStyleModel",
      "state": {
       "description_width": "initial"
      }
     },
     "6ebd1b9962b04107b66ed510f71d55ad": {
      "model_module": "@jupyter-widgets/base",
      "model_module_version": "1.2.0",
      "model_name": "LayoutModel",
      "state": {}
     },
     "6eea261ae56047389ee2fe9b8bbba510": {
      "model_module": "@jupyter-widgets/controls",
      "model_module_version": "1.5.0",
      "model_name": "HBoxModel",
      "state": {
       "children": [
        "IPY_MODEL_59ecf0cf718f4ed0bccfa507ba1fe8b6",
        "IPY_MODEL_20a8daf8ed9a42419144bc097ca520cf"
       ],
       "layout": "IPY_MODEL_f18e639b6ebb430da546effb36c110e5"
      }
     },
     "6eeb1a05abe647db9b35d8a841b56b84": {
      "model_module": "@jupyter-widgets/controls",
      "model_module_version": "1.5.0",
      "model_name": "FloatProgressModel",
      "state": {
       "description": "Train Epoch #39 - loss:   2.559: 100%",
       "layout": "IPY_MODEL_22e0369354ad44d494149ed0fda92981",
       "max": 589,
       "style": "IPY_MODEL_834f106c183840448062c1ce374966da",
       "value": 589
      }
     },
     "6ef521c5949b4211b4e1df34732a84a6": {
      "model_module": "@jupyter-widgets/base",
      "model_module_version": "1.2.0",
      "model_name": "LayoutModel",
      "state": {}
     },
     "6ef8a97fc30e4e438873b0c6afd08ef3": {
      "model_module": "@jupyter-widgets/controls",
      "model_module_version": "1.5.0",
      "model_name": "HBoxModel",
      "state": {
       "children": [
        "IPY_MODEL_ed24f7accff94b23957ef4c818479077",
        "IPY_MODEL_90b36dd8ac8a459d98d9612d80a701b6"
       ],
       "layout": "IPY_MODEL_7f053d3c46d44ae591f19902f8fc4b2a"
      }
     },
     "6f16a8f1a0df4ee9ac7071269ac98f65": {
      "model_module": "@jupyter-widgets/base",
      "model_module_version": "1.2.0",
      "model_name": "LayoutModel",
      "state": {}
     },
     "6f18d9189d6f4284b4dd2e78135898da": {
      "model_module": "@jupyter-widgets/controls",
      "model_module_version": "1.5.0",
      "model_name": "HBoxModel",
      "state": {
       "children": [
        "IPY_MODEL_ba580831051c468b9200353a03c49352",
        "IPY_MODEL_649db50d27ab46e0a52b7e8757e28a5b"
       ],
       "layout": "IPY_MODEL_508c64a9809f40b980d040bdf31b5fec"
      }
     },
     "6f1bb4935a834091a0975b9c7fe9943a": {
      "model_module": "@jupyter-widgets/base",
      "model_module_version": "1.2.0",
      "model_name": "LayoutModel",
      "state": {}
     },
     "6f755e47608e443b8bfd31f45e5d798d": {
      "model_module": "@jupyter-widgets/base",
      "model_module_version": "1.2.0",
      "model_name": "LayoutModel",
      "state": {}
     },
     "6f862bbb0c324e62bdd37eeee00f2a82": {
      "model_module": "@jupyter-widgets/base",
      "model_module_version": "1.2.0",
      "model_name": "LayoutModel",
      "state": {}
     },
     "6f8bc8338a86479b90c5b5839b11335c": {
      "model_module": "@jupyter-widgets/base",
      "model_module_version": "1.2.0",
      "model_name": "LayoutModel",
      "state": {}
     },
     "6f8ccd2b8748448cadba7a7367acfa1e": {
      "model_module": "@jupyter-widgets/controls",
      "model_module_version": "1.5.0",
      "model_name": "HTMLModel",
      "state": {
       "layout": "IPY_MODEL_fce50469f188424ab88493b254ec6960",
       "style": "IPY_MODEL_43c54eb7738d4234870fd90e0ce97233",
       "value": " 418/589 [8:32:19&lt;00:45,  3.77it/s]"
      }
     },
     "6f91ece2de81401098c2d30d32b6419d": {
      "model_module": "@jupyter-widgets/base",
      "model_module_version": "1.2.0",
      "model_name": "LayoutModel",
      "state": {}
     },
     "6f9c165b12d1403d93cd3c13202986af": {
      "model_module": "@jupyter-widgets/controls",
      "model_module_version": "1.5.0",
      "model_name": "DescriptionStyleModel",
      "state": {
       "description_width": ""
      }
     },
     "6fbb9413400d4ae2b84ffe49fbc73f94": {
      "model_module": "@jupyter-widgets/controls",
      "model_module_version": "1.5.0",
      "model_name": "HBoxModel",
      "state": {
       "children": [
        "IPY_MODEL_d17287441ca24f49a8d466afaec67b22",
        "IPY_MODEL_a269cc7be7c44bd498469690f4913c6e"
       ],
       "layout": "IPY_MODEL_fb25748e6a734a85b3c525d35bec8bef"
      }
     },
     "6fd9986153ee417a851adeae2cf3820c": {
      "model_module": "@jupyter-widgets/controls",
      "model_module_version": "1.5.0",
      "model_name": "ProgressStyleModel",
      "state": {
       "description_width": "initial"
      }
     },
     "6fee563f552349ec961c700022c260c4": {
      "model_module": "@jupyter-widgets/controls",
      "model_module_version": "1.5.0",
      "model_name": "DescriptionStyleModel",
      "state": {
       "description_width": ""
      }
     },
     "70043df436804c7ab01a6eff4cb6c861": {
      "model_module": "@jupyter-widgets/controls",
      "model_module_version": "1.5.0",
      "model_name": "HBoxModel",
      "state": {
       "children": [
        "IPY_MODEL_4e048249fffc400ab1317928016c1c61",
        "IPY_MODEL_d1125f201f5f463fa58a0deccc9d5e27"
       ],
       "layout": "IPY_MODEL_3ab4ab088669462e8766ba93f0eb1904"
      }
     },
     "7006d288c9ce4039b870878f99ff019f": {
      "model_module": "@jupyter-widgets/base",
      "model_module_version": "1.2.0",
      "model_name": "LayoutModel",
      "state": {}
     },
     "702209a5f63341d1a4292f284927a7e8": {
      "model_module": "@jupyter-widgets/controls",
      "model_module_version": "1.5.0",
      "model_name": "HTMLModel",
      "state": {
       "layout": "IPY_MODEL_e45e9c3a50814ff48fdc7ea46242e7a6",
       "style": "IPY_MODEL_518b3ec8349949dfbb7daa5b1221a5c7",
       "value": " 589/589 [7:28:12&lt;00:00,  2.35it/s]"
      }
     },
     "7032605d0a164580afdfceea8d3ef394": {
      "model_module": "@jupyter-widgets/controls",
      "model_module_version": "1.5.0",
      "model_name": "HTMLModel",
      "state": {
       "layout": "IPY_MODEL_493f267aa902476a8c198a8d38fff846",
       "style": "IPY_MODEL_b35e968833d94762aaf548212c30fec4",
       "value": " 589/589 [2:35:41&lt;00:00,  2.24it/s]"
      }
     },
     "703952eee17f48e2bf7506b7c9ead500": {
      "model_module": "@jupyter-widgets/controls",
      "model_module_version": "1.5.0",
      "model_name": "ProgressStyleModel",
      "state": {
       "description_width": "initial"
      }
     },
     "7043ec52af8448c28b3b8e97fa1617c5": {
      "model_module": "@jupyter-widgets/controls",
      "model_module_version": "1.5.0",
      "model_name": "FloatProgressModel",
      "state": {
       "description": "Train Epoch #0 :   0%",
       "layout": "IPY_MODEL_316b6257c771438f9eadf50660edaac1",
       "max": 589,
       "style": "IPY_MODEL_5d35c52ea7d34881ac01cb591844c639"
      }
     },
     "7049e1ea0eca4d45b92562267a714942": {
      "model_module": "@jupyter-widgets/controls",
      "model_module_version": "1.5.0",
      "model_name": "DescriptionStyleModel",
      "state": {
       "description_width": ""
      }
     },
     "706053a5a87847fa826c6cbca7f5eb52": {
      "model_module": "@jupyter-widgets/controls",
      "model_module_version": "1.5.0",
      "model_name": "DescriptionStyleModel",
      "state": {
       "description_width": ""
      }
     },
     "7099fa85d3734c89998c68dc041f3bda": {
      "model_module": "@jupyter-widgets/base",
      "model_module_version": "1.2.0",
      "model_name": "LayoutModel",
      "state": {}
     },
     "709c859e6130441083342a30834a4ad1": {
      "model_module": "@jupyter-widgets/base",
      "model_module_version": "1.2.0",
      "model_name": "LayoutModel",
      "state": {}
     },
     "70a0395d841e4770a92d99663f1c0b45": {
      "model_module": "@jupyter-widgets/controls",
      "model_module_version": "1.5.0",
      "model_name": "ProgressStyleModel",
      "state": {
       "description_width": "initial"
      }
     },
     "70a8394f4ebf4ce1908e51f0375514f8": {
      "model_module": "@jupyter-widgets/base",
      "model_module_version": "1.2.0",
      "model_name": "LayoutModel",
      "state": {}
     },
     "70ed7d8515ee441e85c1eef84c6273cd": {
      "model_module": "@jupyter-widgets/base",
      "model_module_version": "1.2.0",
      "model_name": "LayoutModel",
      "state": {}
     },
     "712ca24503a64c859e96d87c728cba69": {
      "model_module": "@jupyter-widgets/controls",
      "model_module_version": "1.5.0",
      "model_name": "ProgressStyleModel",
      "state": {
       "description_width": "initial"
      }
     },
     "712f540134324971b79049b986929436": {
      "model_module": "@jupyter-widgets/base",
      "model_module_version": "1.2.0",
      "model_name": "LayoutModel",
      "state": {}
     },
     "7145c27ecaae4e02b2993383ba360eb0": {
      "model_module": "@jupyter-widgets/controls",
      "model_module_version": "1.5.0",
      "model_name": "ProgressStyleModel",
      "state": {
       "description_width": "initial"
      }
     },
     "7147e2da4ae64255a9d901b1108a746b": {
      "model_module": "@jupyter-widgets/base",
      "model_module_version": "1.2.0",
      "model_name": "LayoutModel",
      "state": {}
     },
     "716b6d16d03146bab516e7fe42766186": {
      "model_module": "@jupyter-widgets/controls",
      "model_module_version": "1.5.0",
      "model_name": "HTMLModel",
      "state": {
       "layout": "IPY_MODEL_b85ad7431e4d489fa5cb01509dfcf8c5",
       "style": "IPY_MODEL_795dd5ede53b4b74b1e40d6054ee5b6c",
       "value": " 589/589 [7:50:57&lt;00:00,  4.53it/s]"
      }
     },
     "7178d6f8909146829829245c8186f010": {
      "model_module": "@jupyter-widgets/base",
      "model_module_version": "1.2.0",
      "model_name": "LayoutModel",
      "state": {}
     },
     "71861bb83c8e40dc94ec601bc551ec86": {
      "model_module": "@jupyter-widgets/controls",
      "model_module_version": "1.5.0",
      "model_name": "ProgressStyleModel",
      "state": {
       "description_width": "initial"
      }
     },
     "71aded160443418082c724388081244d": {
      "model_module": "@jupyter-widgets/controls",
      "model_module_version": "1.5.0",
      "model_name": "HTMLModel",
      "state": {
       "layout": "IPY_MODEL_96d21ad5cc074ee9902c2bfe8de3efac",
       "style": "IPY_MODEL_bd30fa41a6be423bbbf228867b813850",
       "value": " 74/74 [4:45:22&lt;00:00,  5.52it/s]"
      }
     },
     "71afe426b3e748f698884a339c20a828": {
      "model_module": "@jupyter-widgets/controls",
      "model_module_version": "1.5.0",
      "model_name": "ProgressStyleModel",
      "state": {
       "description_width": "initial"
      }
     },
     "71b3a596d4104c99942fc1c71add8cb4": {
      "model_module": "@jupyter-widgets/base",
      "model_module_version": "1.2.0",
      "model_name": "LayoutModel",
      "state": {}
     },
     "71b6fe8afd144528848f75ff51bc4ebc": {
      "model_module": "@jupyter-widgets/controls",
      "model_module_version": "1.5.0",
      "model_name": "DescriptionStyleModel",
      "state": {
       "description_width": ""
      }
     },
     "71e3019d0f4242a2b1ddcacb858392ea": {
      "model_module": "@jupyter-widgets/base",
      "model_module_version": "1.2.0",
      "model_name": "LayoutModel",
      "state": {}
     },
     "720eaac798df4edb85cb59df1b0bc2bd": {
      "model_module": "@jupyter-widgets/controls",
      "model_module_version": "1.5.0",
      "model_name": "HTMLModel",
      "state": {
       "layout": "IPY_MODEL_1c025b03225f4d9499e5e4ec7796184e",
       "style": "IPY_MODEL_6f9c165b12d1403d93cd3c13202986af",
       "value": " 589/589 [7:00:38&lt;00:00,  2.73it/s]"
      }
     },
     "723ea5b4be38462c9e7b26bc4851d1f5": {
      "model_module": "@jupyter-widgets/controls",
      "model_module_version": "1.5.0",
      "model_name": "ProgressStyleModel",
      "state": {
       "description_width": "initial"
      }
     },
     "729e60223d314009b6e62a8a8691db25": {
      "model_module": "@jupyter-widgets/controls",
      "model_module_version": "1.5.0",
      "model_name": "FloatProgressModel",
      "state": {
       "description": "Train Epoch #11 - loss:   5.483: 100%",
       "layout": "IPY_MODEL_1214a720495d4121b379df3a755b6545",
       "max": 589,
       "style": "IPY_MODEL_bb6d1f8f621f49368c3232debe983e55",
       "value": 589
      }
     },
     "72ad1676da7341bb988e6948a9e6a3f6": {
      "model_module": "@jupyter-widgets/controls",
      "model_module_version": "1.5.0",
      "model_name": "FloatProgressModel",
      "state": {
       "description": "Val Epoch #6 - loss:    7.39: 100%",
       "layout": "IPY_MODEL_3b9796a63bb049b1a47f952572f79c2a",
       "max": 74,
       "style": "IPY_MODEL_041481ceb5854573ba7e5c1f9263d63f",
       "value": 74
      }
     },
     "72ad6fc217234d558caef9cd39c61b26": {
      "model_module": "@jupyter-widgets/controls",
      "model_module_version": "1.5.0",
      "model_name": "ProgressStyleModel",
      "state": {
       "description_width": "initial"
      }
     },
     "72b2fd87115f4134a345e159758d3b84": {
      "model_module": "@jupyter-widgets/base",
      "model_module_version": "1.2.0",
      "model_name": "LayoutModel",
      "state": {}
     },
     "72c45482ad4743239cec372a59f96fac": {
      "model_module": "@jupyter-widgets/controls",
      "model_module_version": "1.5.0",
      "model_name": "ProgressStyleModel",
      "state": {
       "description_width": "initial"
      }
     },
     "72db30522d734d9c9d29123d25f90309": {
      "model_module": "@jupyter-widgets/base",
      "model_module_version": "1.2.0",
      "model_name": "LayoutModel",
      "state": {}
     },
     "73591e841c0349d1a440351292d160a6": {
      "model_module": "@jupyter-widgets/base",
      "model_module_version": "1.2.0",
      "model_name": "LayoutModel",
      "state": {}
     },
     "7392564f94384d46a1f7e6610f1f27d4": {
      "model_module": "@jupyter-widgets/controls",
      "model_module_version": "1.5.0",
      "model_name": "FloatProgressModel",
      "state": {
       "description": "Train Epoch #24 - loss:   3.936: 100%",
       "layout": "IPY_MODEL_e2cbb39dc71e4d12ac097c64eb419f32",
       "max": 589,
       "style": "IPY_MODEL_08d18e8274974db081124db4fc926dc0",
       "value": 589
      }
     },
     "739e76f2a26f4f43979aad296e353f87": {
      "model_module": "@jupyter-widgets/controls",
      "model_module_version": "1.5.0",
      "model_name": "HBoxModel",
      "state": {
       "children": [
        "IPY_MODEL_d3f9d25ba12d4c7c9c8fadcb9bdce0de",
        "IPY_MODEL_170b7805db844b8f994d211fe29de0bd"
       ],
       "layout": "IPY_MODEL_970ac6876b1c4bfcb45b147018042a6b"
      }
     },
     "73dfb34765004462a9750880fe9533bf": {
      "model_module": "@jupyter-widgets/base",
      "model_module_version": "1.2.0",
      "model_name": "LayoutModel",
      "state": {}
     },
     "73e3064dab514bc29823c5b17cafc1db": {
      "model_module": "@jupyter-widgets/base",
      "model_module_version": "1.2.0",
      "model_name": "LayoutModel",
      "state": {}
     },
     "73f79577ce3a457e9fba2d35956a8a86": {
      "model_module": "@jupyter-widgets/base",
      "model_module_version": "1.2.0",
      "model_name": "LayoutModel",
      "state": {}
     },
     "744da4483e2d4eeebccac849526d9742": {
      "model_module": "@jupyter-widgets/controls",
      "model_module_version": "1.5.0",
      "model_name": "DescriptionStyleModel",
      "state": {
       "description_width": ""
      }
     },
     "7459ad0cf8cb416bb0d95c00bad0f83b": {
      "model_module": "@jupyter-widgets/controls",
      "model_module_version": "1.5.0",
      "model_name": "DescriptionStyleModel",
      "state": {
       "description_width": ""
      }
     },
     "746539fe2f954cc29d6fbe6006208a74": {
      "model_module": "@jupyter-widgets/controls",
      "model_module_version": "1.5.0",
      "model_name": "HBoxModel",
      "state": {
       "children": [
        "IPY_MODEL_6c088e82f9554229b02216fa13d76069",
        "IPY_MODEL_a17fba5d87a9439d9f05abc6af5c46e9"
       ],
       "layout": "IPY_MODEL_0eec7d9478514cb5b76eebdeadd285c4"
      }
     },
     "7473e0e887f147aeb3ff66f3a49e4c44": {
      "model_module": "@jupyter-widgets/controls",
      "model_module_version": "1.5.0",
      "model_name": "DescriptionStyleModel",
      "state": {
       "description_width": ""
      }
     },
     "74801128b6714e509a6881da82791902": {
      "model_module": "@jupyter-widgets/base",
      "model_module_version": "1.2.0",
      "model_name": "LayoutModel",
      "state": {}
     },
     "749bac9042d042a88f554840b918b2d4": {
      "model_module": "@jupyter-widgets/controls",
      "model_module_version": "1.5.0",
      "model_name": "DescriptionStyleModel",
      "state": {
       "description_width": ""
      }
     },
     "74bb556d64be4859a81b8254a8adf7bf": {
      "model_module": "@jupyter-widgets/controls",
      "model_module_version": "1.5.0",
      "model_name": "HTMLModel",
      "state": {
       "layout": "IPY_MODEL_b21d434e52094fa1a2daa3c4eadd0ff8",
       "style": "IPY_MODEL_0bb4d2ac3b0945738f58e61ac1cbdb79",
       "value": " 74/74 [5:03:04&lt;00:00,  5.38it/s]"
      }
     },
     "74d539be85cf4a258f937808feedfddb": {
      "model_module": "@jupyter-widgets/controls",
      "model_module_version": "1.5.0",
      "model_name": "HTMLModel",
      "state": {
       "layout": "IPY_MODEL_6f755e47608e443b8bfd31f45e5d798d",
       "style": "IPY_MODEL_025d449ab7ef47bea77534386101861d",
       "value": " 74/74 [5:39:18&lt;00:00,  5.84it/s]"
      }
     },
     "74ef876b1c144d3a929ef7c26c060bdb": {
      "model_module": "@jupyter-widgets/controls",
      "model_module_version": "1.5.0",
      "model_name": "HTMLModel",
      "state": {
       "layout": "IPY_MODEL_eef53d164f9545d097e5ee728ff0acf4",
       "style": "IPY_MODEL_0fa296eed83f4cc08b48b8e6b5cb937f",
       "value": " 589/589 [6:30:52&lt;00:00,  2.65it/s]"
      }
     },
     "751c4007552b488dbb4c62bbcd3bc0f9": {
      "model_module": "@jupyter-widgets/controls",
      "model_module_version": "1.5.0",
      "model_name": "DescriptionStyleModel",
      "state": {
       "description_width": ""
      }
     },
     "751fdc98828e4682877f0ca0d8a6166f": {
      "model_module": "@jupyter-widgets/controls",
      "model_module_version": "1.5.0",
      "model_name": "HTMLModel",
      "state": {
       "layout": "IPY_MODEL_653463c182c740f48d019b341a484709",
       "style": "IPY_MODEL_0a4d7ba7add248adb3f7503ec6d6280a",
       "value": " 74/74 [8:03:22&lt;00:00, 12.05it/s]"
      }
     },
     "752ee94c1cd44a95bf642d65a69e8869": {
      "model_module": "@jupyter-widgets/controls",
      "model_module_version": "1.5.0",
      "model_name": "ProgressStyleModel",
      "state": {
       "description_width": "initial"
      }
     },
     "75394c4c9fdf47d49f7914ee39a8e49d": {
      "model_module": "@jupyter-widgets/controls",
      "model_module_version": "1.5.0",
      "model_name": "FloatProgressModel",
      "state": {
       "description": "Train Epoch #6 - loss:   6.077: 100%",
       "layout": "IPY_MODEL_981c200b21d843fa94404cf8cc101f99",
       "max": 589,
       "style": "IPY_MODEL_35923cb2cb12467fab9462d4b66af74e",
       "value": 589
      }
     },
     "756055437a7c4aed842b82859c265321": {
      "model_module": "@jupyter-widgets/base",
      "model_module_version": "1.2.0",
      "model_name": "LayoutModel",
      "state": {}
     },
     "75a8ad49e37545f88682abfd29ca6da5": {
      "model_module": "@jupyter-widgets/controls",
      "model_module_version": "1.5.0",
      "model_name": "FloatProgressModel",
      "state": {
       "description": "Val Epoch #27 - loss:   7.006: 100%",
       "layout": "IPY_MODEL_78b5e05d56894d2e90a909a73e238c61",
       "max": 74,
       "style": "IPY_MODEL_50deb9f45bfb4a328597aeda34ed3780",
       "value": 74
      }
     },
     "75b588e5e2f6437f842d66dce9abe7b5": {
      "model_module": "@jupyter-widgets/controls",
      "model_module_version": "1.5.0",
      "model_name": "HTMLModel",
      "state": {
       "layout": "IPY_MODEL_3ec6bbfa3fab4b2db92585fa7f0e463f",
       "style": "IPY_MODEL_9946f3adfd9440c595be398ab3d52953",
       "value": " 74/74 [8:46:41&lt;00:00,  6.07it/s]"
      }
     },
     "75b8b332307e46a8800e07bcab49c2ba": {
      "model_module": "@jupyter-widgets/base",
      "model_module_version": "1.2.0",
      "model_name": "LayoutModel",
      "state": {}
     },
     "75ea0c72403b44fbbf7c559f57e9b401": {
      "model_module": "@jupyter-widgets/base",
      "model_module_version": "1.2.0",
      "model_name": "LayoutModel",
      "state": {}
     },
     "75f8904847fd4ad8adf36569715a0765": {
      "model_module": "@jupyter-widgets/base",
      "model_module_version": "1.2.0",
      "model_name": "LayoutModel",
      "state": {}
     },
     "7615e76433584439bc63b0feddaf68d5": {
      "model_module": "@jupyter-widgets/controls",
      "model_module_version": "1.5.0",
      "model_name": "FloatProgressModel",
      "state": {
       "description": "Val Epoch #40 - loss:    7.41: 100%",
       "layout": "IPY_MODEL_2acc9ac793794b1ca97526a2a7eced02",
       "max": 74,
       "style": "IPY_MODEL_8c47a3ad2b87421285340bfb6d649cf8",
       "value": 74
      }
     },
     "7616e20d823541afa3b01d00e18e2718": {
      "model_module": "@jupyter-widgets/controls",
      "model_module_version": "1.5.0",
      "model_name": "FloatProgressModel",
      "state": {
       "description": "Train Epoch #59 - loss:   1.708: 100%",
       "layout": "IPY_MODEL_1897ebcc0f4f4b8db026172cfb940fed",
       "max": 589,
       "style": "IPY_MODEL_871ba0fa2f7346efa5366083e2a685aa",
       "value": 589
      }
     },
     "762a7e31439446ca994b18dfe04d917d": {
      "model_module": "@jupyter-widgets/base",
      "model_module_version": "1.2.0",
      "model_name": "LayoutModel",
      "state": {}
     },
     "762de3f577cd4d3fbe8dbc2798dc4bc5": {
      "model_module": "@jupyter-widgets/controls",
      "model_module_version": "1.5.0",
      "model_name": "DescriptionStyleModel",
      "state": {
       "description_width": ""
      }
     },
     "7662636c2e3140879fdeaa85589e73f2": {
      "model_module": "@jupyter-widgets/controls",
      "model_module_version": "1.5.0",
      "model_name": "ProgressStyleModel",
      "state": {
       "description_width": "initial"
      }
     },
     "7664b173920044d0abdde4facc509c93": {
      "model_module": "@jupyter-widgets/controls",
      "model_module_version": "1.5.0",
      "model_name": "HBoxModel",
      "state": {
       "children": [
        "IPY_MODEL_961f064752c64f43abf0775311b4d0ac",
        "IPY_MODEL_43ab195365c54083b215788076ed2595"
       ],
       "layout": "IPY_MODEL_9b927c5301f74436bad6bd53890cc64e"
      }
     },
     "766ddb1327af4818a6d8e572c59fc400": {
      "model_module": "@jupyter-widgets/base",
      "model_module_version": "1.2.0",
      "model_name": "LayoutModel",
      "state": {}
     },
     "76793c5d6685402c9baca2dae9097285": {
      "model_module": "@jupyter-widgets/controls",
      "model_module_version": "1.5.0",
      "model_name": "HTMLModel",
      "state": {
       "layout": "IPY_MODEL_5c56b884f9ee419289530c11f10e4077",
       "style": "IPY_MODEL_96ce0415dd014710bd47c906c56dc419",
       "value": " 74/74 [07:12&lt;00:00, 10.79it/s]"
      }
     },
     "769c9c23f7e7487d84c8382f8ccbf22a": {
      "model_module": "@jupyter-widgets/controls",
      "model_module_version": "1.5.0",
      "model_name": "ProgressStyleModel",
      "state": {
       "description_width": "initial"
      }
     },
     "771a08688af24121a1df449fccba7e8f": {
      "model_module": "@jupyter-widgets/controls",
      "model_module_version": "1.5.0",
      "model_name": "HBoxModel",
      "state": {
       "children": [
        "IPY_MODEL_5e8fe502d9034647abfb3380a2251d87",
        "IPY_MODEL_b719e0d39afd4625841d9584ad5fc45b"
       ],
       "layout": "IPY_MODEL_0fe18e7e9c754b989c444ece51ac3db1"
      }
     },
     "771b34e0999d49a986532ffb3cad42b8": {
      "model_module": "@jupyter-widgets/controls",
      "model_module_version": "1.5.0",
      "model_name": "HTMLModel",
      "state": {
       "layout": "IPY_MODEL_8558311b2030468f9d29154cda669992",
       "style": "IPY_MODEL_4f64fb02a0c6478c8d9b8e1678963f0c",
       "value": " 589/589 [6:54:03&lt;00:00,  2.80it/s]"
      }
     },
     "7769c8f93633481bacb66d26014b880b": {
      "model_module": "@jupyter-widgets/base",
      "model_module_version": "1.2.0",
      "model_name": "LayoutModel",
      "state": {}
     },
     "7775819d40b54007b77dc86e34a4c011": {
      "model_module": "@jupyter-widgets/base",
      "model_module_version": "1.2.0",
      "model_name": "LayoutModel",
      "state": {}
     },
     "77c9e56748d74ea69dfd5fee47a5403a": {
      "model_module": "@jupyter-widgets/controls",
      "model_module_version": "1.5.0",
      "model_name": "HBoxModel",
      "state": {
       "children": [
        "IPY_MODEL_b9894ee2f27b4ac78a91b2f627f89a11",
        "IPY_MODEL_01210978123143729c3564a344467a5e"
       ],
       "layout": "IPY_MODEL_131e4030ea314c94ae81074e901cf4db"
      }
     },
     "77d4bd854c3f4cac97d0b69ad1e00c49": {
      "model_module": "@jupyter-widgets/base",
      "model_module_version": "1.2.0",
      "model_name": "LayoutModel",
      "state": {}
     },
     "77f690e7668049739c2307041dbdea51": {
      "model_module": "@jupyter-widgets/base",
      "model_module_version": "1.2.0",
      "model_name": "LayoutModel",
      "state": {}
     },
     "77f93c8b199542d5ab209da3d448ec7f": {
      "model_module": "@jupyter-widgets/controls",
      "model_module_version": "1.5.0",
      "model_name": "HTMLModel",
      "state": {
       "layout": "IPY_MODEL_1a1d9fd8b52c4f86b0b5a0e1139cf250",
       "style": "IPY_MODEL_11738076522c4d3591305e44e3dcb439",
       "value": " 74/74 [7:53:03&lt;00:00, 11.61it/s]"
      }
     },
     "7805bb7aa3b24d8e89d06d60f68aef3a": {
      "model_module": "@jupyter-widgets/controls",
      "model_module_version": "1.5.0",
      "model_name": "ProgressStyleModel",
      "state": {
       "description_width": "initial"
      }
     },
     "784d2d3b8e654e63a93ed3669a208688": {
      "model_module": "@jupyter-widgets/base",
      "model_module_version": "1.2.0",
      "model_name": "LayoutModel",
      "state": {}
     },
     "78580942d1514ac7be473cb9bf123fab": {
      "model_module": "@jupyter-widgets/base",
      "model_module_version": "1.2.0",
      "model_name": "LayoutModel",
      "state": {}
     },
     "786da688b2bd48999b2fae7c0dd93868": {
      "model_module": "@jupyter-widgets/base",
      "model_module_version": "1.2.0",
      "model_name": "LayoutModel",
      "state": {}
     },
     "78b37a8d117b464e906245ddbb46e6db": {
      "model_module": "@jupyter-widgets/controls",
      "model_module_version": "1.5.0",
      "model_name": "HBoxModel",
      "state": {
       "children": [
        "IPY_MODEL_b5b1876fe62e4e4dab259625e905dd8d",
        "IPY_MODEL_f22e2d88b4b944ae9252561e4377db16"
       ],
       "layout": "IPY_MODEL_3c2c6be2f88649a59860c125f856e047"
      }
     },
     "78b5e05d56894d2e90a909a73e238c61": {
      "model_module": "@jupyter-widgets/base",
      "model_module_version": "1.2.0",
      "model_name": "LayoutModel",
      "state": {}
     },
     "78ca93982fd8492c8c5b5a9de7a59f8a": {
      "model_module": "@jupyter-widgets/base",
      "model_module_version": "1.2.0",
      "model_name": "LayoutModel",
      "state": {}
     },
     "792e3a64e93a4abb84295da467b8cc9c": {
      "model_module": "@jupyter-widgets/controls",
      "model_module_version": "1.5.0",
      "model_name": "ProgressStyleModel",
      "state": {
       "description_width": "initial"
      }
     },
     "793597c6429b487d953752dac9bc81f3": {
      "model_module": "@jupyter-widgets/controls",
      "model_module_version": "1.5.0",
      "model_name": "HTMLModel",
      "state": {
       "layout": "IPY_MODEL_3ad9860d9c7242508c1a61836b337d8c",
       "style": "IPY_MODEL_6a1a87a5ec51429197fa3571f9a76133",
       "value": " 74/74 [2:35:55&lt;00:00,  5.86it/s]"
      }
     },
     "79564fa2fd114f76abc0fb99abd665ee": {
      "model_module": "@jupyter-widgets/base",
      "model_module_version": "1.2.0",
      "model_name": "LayoutModel",
      "state": {}
     },
     "795699fa0894405fa074af5e55d20d83": {
      "model_module": "@jupyter-widgets/controls",
      "model_module_version": "1.5.0",
      "model_name": "ProgressStyleModel",
      "state": {
       "description_width": "initial"
      }
     },
     "795dd5ede53b4b74b1e40d6054ee5b6c": {
      "model_module": "@jupyter-widgets/controls",
      "model_module_version": "1.5.0",
      "model_name": "DescriptionStyleModel",
      "state": {
       "description_width": ""
      }
     },
     "79779d8abcdf4db99babeff5b3eac94e": {
      "model_module": "@jupyter-widgets/base",
      "model_module_version": "1.2.0",
      "model_name": "LayoutModel",
      "state": {}
     },
     "7998ea3d01e14445925169f72b1415de": {
      "model_module": "@jupyter-widgets/base",
      "model_module_version": "1.2.0",
      "model_name": "LayoutModel",
      "state": {}
     },
     "79e1ae8245574e1e8076827795bf4fa4": {
      "model_module": "@jupyter-widgets/controls",
      "model_module_version": "1.5.0",
      "model_name": "FloatProgressModel",
      "state": {
       "description": "Train Epoch #98 - loss:   1.283: 100%",
       "layout": "IPY_MODEL_0e509b06669d4d6796b995e552712f61",
       "max": 589,
       "style": "IPY_MODEL_3634c891d9404add860fed79d601000d",
       "value": 589
      }
     },
     "7a0ecfe1154444f3bca93be79157dd3e": {
      "model_module": "@jupyter-widgets/base",
      "model_module_version": "1.2.0",
      "model_name": "LayoutModel",
      "state": {}
     },
     "7a14a74ffbf64ab2934bac216d28aec0": {
      "model_module": "@jupyter-widgets/base",
      "model_module_version": "1.2.0",
      "model_name": "LayoutModel",
      "state": {}
     },
     "7a1ab56d5a76479b9f2629794a5109b0": {
      "model_module": "@jupyter-widgets/base",
      "model_module_version": "1.2.0",
      "model_name": "LayoutModel",
      "state": {}
     },
     "7a5f1260d87a411083e7eb9e33d50d3a": {
      "model_module": "@jupyter-widgets/controls",
      "model_module_version": "1.5.0",
      "model_name": "ProgressStyleModel",
      "state": {
       "description_width": "initial"
      }
     },
     "7a76bf17fcd14f95913273911b00311a": {
      "model_module": "@jupyter-widgets/controls",
      "model_module_version": "1.5.0",
      "model_name": "HBoxModel",
      "state": {
       "children": [
        "IPY_MODEL_907fde6a9b984c84b3607c0cc336e84f",
        "IPY_MODEL_3e220ddf4d6040e9baf729f1b1d2462c"
       ],
       "layout": "IPY_MODEL_7dac0848c79e4be2b0d35dc2d515397d"
      }
     },
     "7a80c031246441da8d0e825ccf0b5268": {
      "model_module": "@jupyter-widgets/controls",
      "model_module_version": "1.5.0",
      "model_name": "FloatProgressModel",
      "state": {
       "description": "Val Epoch #0 - loss:   8.029: 100%",
       "layout": "IPY_MODEL_712f540134324971b79049b986929436",
       "max": 74,
       "style": "IPY_MODEL_3f496a8f0d1b4e3c86860145f35736c2",
       "value": 74
      }
     },
     "7a88a0d621514ba3974b7f5f48e2870c": {
      "model_module": "@jupyter-widgets/base",
      "model_module_version": "1.2.0",
      "model_name": "LayoutModel",
      "state": {}
     },
     "7a9590d36ccc492a8a0df0da70689b2a": {
      "model_module": "@jupyter-widgets/controls",
      "model_module_version": "1.5.0",
      "model_name": "DescriptionStyleModel",
      "state": {
       "description_width": ""
      }
     },
     "7ae07c1a2d91454f96fa388cdaa1a524": {
      "model_module": "@jupyter-widgets/base",
      "model_module_version": "1.2.0",
      "model_name": "LayoutModel",
      "state": {}
     },
     "7ae6c038ee47428282f7a6dfccfd6881": {
      "model_module": "@jupyter-widgets/controls",
      "model_module_version": "1.5.0",
      "model_name": "ProgressStyleModel",
      "state": {
       "description_width": "initial"
      }
     },
     "7af56b0f1fa74c28841efda0d05140fc": {
      "model_module": "@jupyter-widgets/base",
      "model_module_version": "1.2.0",
      "model_name": "LayoutModel",
      "state": {}
     },
     "7b22dc47099d49cd8603b3884e7af72d": {
      "model_module": "@jupyter-widgets/controls",
      "model_module_version": "1.5.0",
      "model_name": "FloatProgressModel",
      "state": {
       "description": "Train Epoch #2 - loss:    7.56: 100%",
       "layout": "IPY_MODEL_dd55c4df5bd84303a2daecb5dec4f1e1",
       "max": 589,
       "style": "IPY_MODEL_6fd9986153ee417a851adeae2cf3820c",
       "value": 589
      }
     },
     "7b3ea2b9e3524ad1bfe1814a0c8d8fd3": {
      "model_module": "@jupyter-widgets/base",
      "model_module_version": "1.2.0",
      "model_name": "LayoutModel",
      "state": {}
     },
     "7b863310046a446ebf7d76837435cbb4": {
      "model_module": "@jupyter-widgets/controls",
      "model_module_version": "1.5.0",
      "model_name": "ProgressStyleModel",
      "state": {
       "description_width": "initial"
      }
     },
     "7b97f2ee370c4f768ee4778d4c1ef19c": {
      "model_module": "@jupyter-widgets/controls",
      "model_module_version": "1.5.0",
      "model_name": "HBoxModel",
      "state": {
       "children": [
        "IPY_MODEL_7043ec52af8448c28b3b8e97fa1617c5",
        "IPY_MODEL_ca6976f6062a4958b6471da1e3258036"
       ],
       "layout": "IPY_MODEL_2e79b809a27e470d9bb5bf078c4ace81"
      }
     },
     "7bbb4eac6d7f45e88d692131961a7abb": {
      "model_module": "@jupyter-widgets/base",
      "model_module_version": "1.2.0",
      "model_name": "LayoutModel",
      "state": {}
     },
     "7bf4cfcca0484160986eaf5007f9d385": {
      "model_module": "@jupyter-widgets/controls",
      "model_module_version": "1.5.0",
      "model_name": "FloatProgressModel",
      "state": {
       "description": "Train Epoch #57 - loss:   1.755: 100%",
       "layout": "IPY_MODEL_bc32b047e87f46568d1d2c82de76483c",
       "max": 589,
       "style": "IPY_MODEL_ca2ebc60ac2249a399b9f8b8e987f503",
       "value": 589
      }
     },
     "7c42e673e72d4184a1b9793499243ebb": {
      "model_module": "@jupyter-widgets/controls",
      "model_module_version": "1.5.0",
      "model_name": "ProgressStyleModel",
      "state": {
       "description_width": "initial"
      }
     },
     "7c4793c321844188aba0ab2c574882c8": {
      "model_module": "@jupyter-widgets/base",
      "model_module_version": "1.2.0",
      "model_name": "LayoutModel",
      "state": {}
     },
     "7c709f8131c34a9cb541a6e69df6862e": {
      "model_module": "@jupyter-widgets/controls",
      "model_module_version": "1.5.0",
      "model_name": "HTMLModel",
      "state": {
       "layout": "IPY_MODEL_2a99c94dddbc4d11ae0d017a03c52f7c",
       "style": "IPY_MODEL_0309564383514f988543a0488091f8c3",
       "value": " 589/589 [1:11:00&lt;00:00,  2.20it/s]"
      }
     },
     "7c73d304b6d8403996364a6bc9bb08d7": {
      "model_module": "@jupyter-widgets/controls",
      "model_module_version": "1.5.0",
      "model_name": "DescriptionStyleModel",
      "state": {
       "description_width": ""
      }
     },
     "7c79863ed2b04aba8a2571c35dd70662": {
      "model_module": "@jupyter-widgets/base",
      "model_module_version": "1.2.0",
      "model_name": "LayoutModel",
      "state": {}
     },
     "7c94308b32fa4c32ba307fcca6efe409": {
      "model_module": "@jupyter-widgets/base",
      "model_module_version": "1.2.0",
      "model_name": "LayoutModel",
      "state": {}
     },
     "7c968f9700de493b81fc4d81db2c429f": {
      "model_module": "@jupyter-widgets/controls",
      "model_module_version": "1.5.0",
      "model_name": "FloatProgressModel",
      "state": {
       "description": "Val Epoch #14 - loss:   6.993: 100%",
       "layout": "IPY_MODEL_922e554b50b2442399e210b46e5c34cf",
       "max": 74,
       "style": "IPY_MODEL_6d92a85f11874f689cddad640b335191",
       "value": 74
      }
     },
     "7cb2e6cf9ada4e81b56e1a3d8e6f936c": {
      "model_module": "@jupyter-widgets/controls",
      "model_module_version": "1.5.0",
      "model_name": "HTMLModel",
      "state": {
       "layout": "IPY_MODEL_92a5640a527d4c4eb27b467e2394df2a",
       "style": "IPY_MODEL_4e5808842bc14498bc355845071dbc17",
       "value": " 74/74 [7:56:57&lt;00:00, 11.72it/s]"
      }
     },
     "7cdeedd7327f4010a94a783cd0c6d03f": {
      "model_module": "@jupyter-widgets/base",
      "model_module_version": "1.2.0",
      "model_name": "LayoutModel",
      "state": {}
     },
     "7cef6eee51294818a1668b6ea095b318": {
      "model_module": "@jupyter-widgets/base",
      "model_module_version": "1.2.0",
      "model_name": "LayoutModel",
      "state": {}
     },
     "7cfa428ba9ea4bd5bedf583d107e9c4e": {
      "model_module": "@jupyter-widgets/controls",
      "model_module_version": "1.5.0",
      "model_name": "DescriptionStyleModel",
      "state": {
       "description_width": ""
      }
     },
     "7d223ad0a9d74cee82a88a8ba39f1af9": {
      "model_module": "@jupyter-widgets/controls",
      "model_module_version": "1.5.0",
      "model_name": "FloatProgressModel",
      "state": {
       "description": "Val Epoch #30 - loss:   7.034: 100%",
       "layout": "IPY_MODEL_914a634552604ac8bc8969af222d4a21",
       "max": 74,
       "style": "IPY_MODEL_46012bc46c6f469787bebbf6e89c3dec",
       "value": 74
      }
     },
     "7d2a7c6d380f470bb794f9f3940250c3": {
      "model_module": "@jupyter-widgets/controls",
      "model_module_version": "1.5.0",
      "model_name": "DescriptionStyleModel",
      "state": {
       "description_width": ""
      }
     },
     "7d855ad3406b4cef9701438c27297784": {
      "model_module": "@jupyter-widgets/base",
      "model_module_version": "1.2.0",
      "model_name": "LayoutModel",
      "state": {}
     },
     "7d8f0bf67a014877adcf61c7bdd6a5e4": {
      "model_module": "@jupyter-widgets/base",
      "model_module_version": "1.2.0",
      "model_name": "LayoutModel",
      "state": {}
     },
     "7dac0848c79e4be2b0d35dc2d515397d": {
      "model_module": "@jupyter-widgets/base",
      "model_module_version": "1.2.0",
      "model_name": "LayoutModel",
      "state": {}
     },
     "7db5cea67c854073a99584fd36357d4e": {
      "model_module": "@jupyter-widgets/controls",
      "model_module_version": "1.5.0",
      "model_name": "HBoxModel",
      "state": {
       "children": [
        "IPY_MODEL_54b510e9fc3542ee9ff185264f19cde6",
        "IPY_MODEL_3fe08a0e665a4ec9a96345a858cb72d8"
       ],
       "layout": "IPY_MODEL_80f55683bc8d49e38270378574bc5bf4"
      }
     },
     "7dde16f7376247699c77b47010ff8421": {
      "model_module": "@jupyter-widgets/controls",
      "model_module_version": "1.5.0",
      "model_name": "ProgressStyleModel",
      "state": {
       "description_width": "initial"
      }
     },
     "7e35ff163058427282bdcd20f7b10e0b": {
      "model_module": "@jupyter-widgets/controls",
      "model_module_version": "1.5.0",
      "model_name": "HTMLModel",
      "state": {
       "layout": "IPY_MODEL_5037e85856264bc2895ee09cd73259d1",
       "style": "IPY_MODEL_52bcb139fa2048e191c59fe6b880b487",
       "value": " 74/74 [4:19:44&lt;00:00,  5.82it/s]"
      }
     },
     "7e39fcf74e5045a08ff8bb190e0c2263": {
      "model_module": "@jupyter-widgets/controls",
      "model_module_version": "1.5.0",
      "model_name": "DescriptionStyleModel",
      "state": {
       "description_width": ""
      }
     },
     "7e47d0961efc48bda18280511e4a574a": {
      "model_module": "@jupyter-widgets/base",
      "model_module_version": "1.2.0",
      "model_name": "LayoutModel",
      "state": {}
     },
     "7e6eba069bff49febfc10ef924d1817b": {
      "model_module": "@jupyter-widgets/controls",
      "model_module_version": "1.5.0",
      "model_name": "ProgressStyleModel",
      "state": {
       "description_width": "initial"
      }
     },
     "7e730cfa90fb4dc8b99d20e3af86e651": {
      "model_module": "@jupyter-widgets/controls",
      "model_module_version": "1.5.0",
      "model_name": "HBoxModel",
      "state": {
       "children": [
        "IPY_MODEL_d2c7810804cd45b8903de474e6404799",
        "IPY_MODEL_76793c5d6685402c9baca2dae9097285"
       ],
       "layout": "IPY_MODEL_e6e329dd5c0d4fb5b34c5bae06fb8ad0"
      }
     },
     "7e8e4a63c9e54f2ea292c2b9b01e804f": {
      "model_module": "@jupyter-widgets/controls",
      "model_module_version": "1.5.0",
      "model_name": "HTMLModel",
      "state": {
       "layout": "IPY_MODEL_87537a36b61d488b9dff3978759608f5",
       "style": "IPY_MODEL_d03f55f95bd047978b6d47a482a66b4d",
       "value": " 74/74 [7:28:26&lt;00:00,  5.72it/s]"
      }
     },
     "7eafad45769f40c1b35ee8853273688f": {
      "model_module": "@jupyter-widgets/controls",
      "model_module_version": "1.5.0",
      "model_name": "DescriptionStyleModel",
      "state": {
       "description_width": ""
      }
     },
     "7edb874fba154602ad8ea01a41a86dc6": {
      "model_module": "@jupyter-widgets/base",
      "model_module_version": "1.2.0",
      "model_name": "LayoutModel",
      "state": {}
     },
     "7f053d3c46d44ae591f19902f8fc4b2a": {
      "model_module": "@jupyter-widgets/base",
      "model_module_version": "1.2.0",
      "model_name": "LayoutModel",
      "state": {}
     },
     "7f0f21c75aac46b79df59e4559698649": {
      "model_module": "@jupyter-widgets/controls",
      "model_module_version": "1.5.0",
      "model_name": "HBoxModel",
      "state": {
       "children": [
        "IPY_MODEL_2f45167541d84c10b1241fbbb24e2dcc",
        "IPY_MODEL_936d0e2875b4461dbd22f68882378fef"
       ],
       "layout": "IPY_MODEL_edc5d86bc7cb48d9b350229d78957c29"
      }
     },
     "7f3f6404e211495cb59cdc20c56af7a3": {
      "model_module": "@jupyter-widgets/controls",
      "model_module_version": "1.5.0",
      "model_name": "HBoxModel",
      "state": {
       "children": [
        "IPY_MODEL_d2fe91e2bbff4db7906637bded737302",
        "IPY_MODEL_a44dec28003748629c99b733a9e948a7"
       ],
       "layout": "IPY_MODEL_a94fb3386984444c90ae6957631727a9"
      }
     },
     "7f43ccb39adf4f3596df2ee3ca5f6850": {
      "model_module": "@jupyter-widgets/controls",
      "model_module_version": "1.5.0",
      "model_name": "HBoxModel",
      "state": {
       "children": [
        "IPY_MODEL_85b79c3f117c443797d425d6a92c80d5",
        "IPY_MODEL_f050c7ef6528493d8fc74c1249adaa7a"
       ],
       "layout": "IPY_MODEL_36cb73ca5e534fd8a2391a616c690a89"
      }
     },
     "7f60f23eb06a4b598df78810c5435a50": {
      "model_module": "@jupyter-widgets/controls",
      "model_module_version": "1.5.0",
      "model_name": "HTMLModel",
      "state": {
       "layout": "IPY_MODEL_72db30522d734d9c9d29123d25f90309",
       "style": "IPY_MODEL_0455b1c3966348249f305e455c8b19d0",
       "value": " 589/589 [6:24:01&lt;00:00,  2.64it/s]"
      }
     },
     "7f8cc396465d4acc9a62d1532e918ddf": {
      "model_module": "@jupyter-widgets/base",
      "model_module_version": "1.2.0",
      "model_name": "LayoutModel",
      "state": {}
     },
     "7fb254302a1d4ab5b2491030a1485a73": {
      "model_module": "@jupyter-widgets/controls",
      "model_module_version": "1.5.0",
      "model_name": "HBoxModel",
      "state": {
       "children": [
        "IPY_MODEL_338312d2595a4735a92dfc225ce3a49a",
        "IPY_MODEL_290c618ef1664b56967c0f69ede9cf2e"
       ],
       "layout": "IPY_MODEL_f26b74c3cd994992a90f6435950fcb57"
      }
     },
     "7fbab1ac63b74c8db5fe1fd468361ced": {
      "model_module": "@jupyter-widgets/controls",
      "model_module_version": "1.5.0",
      "model_name": "HBoxModel",
      "state": {
       "children": [
        "IPY_MODEL_fdd524c7cfac4da29e536efe62b1e206",
        "IPY_MODEL_645db48556564886911e4e75535841fe"
       ],
       "layout": "IPY_MODEL_8593d12dfa3641b1af367fdf2ee555d5"
      }
     },
     "7ff2454243324666b15d0f53fb61f884": {
      "model_module": "@jupyter-widgets/controls",
      "model_module_version": "1.5.0",
      "model_name": "ProgressStyleModel",
      "state": {
       "description_width": "initial"
      }
     },
     "801c8cc7435241f49301f61a1974fb90": {
      "model_module": "@jupyter-widgets/controls",
      "model_module_version": "1.5.0",
      "model_name": "ProgressStyleModel",
      "state": {
       "description_width": "initial"
      }
     },
     "8086476e60c943f78cfa20dda18914be": {
      "model_module": "@jupyter-widgets/base",
      "model_module_version": "1.2.0",
      "model_name": "LayoutModel",
      "state": {}
     },
     "80aaaadf1d4346f4a302ed00d6f78a19": {
      "model_module": "@jupyter-widgets/base",
      "model_module_version": "1.2.0",
      "model_name": "LayoutModel",
      "state": {}
     },
     "80b1c520f8264577921c3702ce9db76f": {
      "model_module": "@jupyter-widgets/base",
      "model_module_version": "1.2.0",
      "model_name": "LayoutModel",
      "state": {}
     },
     "80b7f061c97446de9a114959499085d3": {
      "model_module": "@jupyter-widgets/base",
      "model_module_version": "1.2.0",
      "model_name": "LayoutModel",
      "state": {}
     },
     "80b872d45dd84c5a898dc580c61a689a": {
      "model_module": "@jupyter-widgets/controls",
      "model_module_version": "1.5.0",
      "model_name": "HBoxModel",
      "state": {
       "children": [
        "IPY_MODEL_98b13359ec054185aa5a495aa54ecb4c",
        "IPY_MODEL_0f0e8e3b374d4caa83274dd810a8a7d1"
       ],
       "layout": "IPY_MODEL_22a400a47a474f8292e620fecc26429b"
      }
     },
     "80d0f9c10dc84341bb2e1284d1d8649e": {
      "model_module": "@jupyter-widgets/controls",
      "model_module_version": "1.5.0",
      "model_name": "HTMLModel",
      "state": {
       "layout": "IPY_MODEL_2c7649c450d745af92a75a30e5ab77ab",
       "style": "IPY_MODEL_980ec3fe42fd4d67b6618024aebb0582",
       "value": " 74/74 [6:24:19&lt;00:00,  5.33it/s]"
      }
     },
     "80f55683bc8d49e38270378574bc5bf4": {
      "model_module": "@jupyter-widgets/base",
      "model_module_version": "1.2.0",
      "model_name": "LayoutModel",
      "state": {}
     },
     "81194b8143d14642b77640d6057fdc9f": {
      "model_module": "@jupyter-widgets/base",
      "model_module_version": "1.2.0",
      "model_name": "LayoutModel",
      "state": {}
     },
     "812ae7a6369f44ed9bda4abf874a3c9f": {
      "model_module": "@jupyter-widgets/controls",
      "model_module_version": "1.5.0",
      "model_name": "HBoxModel",
      "state": {
       "children": [
        "IPY_MODEL_924879a7fec14def9c1d13cb50010bf3",
        "IPY_MODEL_71aded160443418082c724388081244d"
       ],
       "layout": "IPY_MODEL_3056e73010274d48ba4731370fb7054a"
      }
     },
     "8149e73855c44f20b3b87591eb24d69c": {
      "model_module": "@jupyter-widgets/controls",
      "model_module_version": "1.5.0",
      "model_name": "FloatProgressModel",
      "state": {
       "description": "Val Epoch #18 - loss:   7.144: 100%",
       "layout": "IPY_MODEL_172d4afd1a164dda91fb20db69c2890b",
       "max": 74,
       "style": "IPY_MODEL_a5206ca36c5940859dcba13a81ede3c2",
       "value": 74
      }
     },
     "8156aa6d154d484ca7912baccf542e61": {
      "model_module": "@jupyter-widgets/controls",
      "model_module_version": "1.5.0",
      "model_name": "DescriptionStyleModel",
      "state": {
       "description_width": ""
      }
     },
     "815e673c943545ee9677f73fbf1b8599": {
      "model_module": "@jupyter-widgets/base",
      "model_module_version": "1.2.0",
      "model_name": "LayoutModel",
      "state": {}
     },
     "816abe7d00954fa281a5043fda2319d6": {
      "model_module": "@jupyter-widgets/controls",
      "model_module_version": "1.5.0",
      "model_name": "HTMLModel",
      "state": {
       "layout": "IPY_MODEL_2cbffb7c2fa640a09aec5a1d41a24e67",
       "style": "IPY_MODEL_a2570daaed6f4763856f31cd890609a0",
       "value": " 74/74 [5:16:55&lt;00:00,  5.61it/s]"
      }
     },
     "817318ed72fa4f379bdd6050c3214d17": {
      "model_module": "@jupyter-widgets/controls",
      "model_module_version": "1.5.0",
      "model_name": "HTMLModel",
      "state": {
       "layout": "IPY_MODEL_89a447b681c94030a903d523b509a8bb",
       "style": "IPY_MODEL_13e124ca6c114ab3b5edfb604616b399",
       "value": " 74/74 [54:20&lt;00:00,  5.80it/s]"
      }
     },
     "817db1ff79a54fe9969c39204f3c4448": {
      "model_module": "@jupyter-widgets/base",
      "model_module_version": "1.2.0",
      "model_name": "LayoutModel",
      "state": {}
     },
     "819a557506464d37b4ec0ad1810a17a6": {
      "model_module": "@jupyter-widgets/controls",
      "model_module_version": "1.5.0",
      "model_name": "ProgressStyleModel",
      "state": {
       "description_width": "initial"
      }
     },
     "81c5a36821134acab3d943828e8a7729": {
      "model_module": "@jupyter-widgets/base",
      "model_module_version": "1.2.0",
      "model_name": "LayoutModel",
      "state": {}
     },
     "81de4f6a8fa8411e881ff830f7f776eb": {
      "model_module": "@jupyter-widgets/controls",
      "model_module_version": "1.5.0",
      "model_name": "FloatProgressModel",
      "state": {
       "description": "Train Epoch #49 - loss:   2.024: 100%",
       "layout": "IPY_MODEL_4026c1c026a54ee5a7a5fd6af0a757f6",
       "max": 589,
       "style": "IPY_MODEL_4fd58330d55443c28108aac039a87393",
       "value": 589
      }
     },
     "81e2f94397ca4a4d8ab05af8119e358f": {
      "model_module": "@jupyter-widgets/base",
      "model_module_version": "1.2.0",
      "model_name": "LayoutModel",
      "state": {}
     },
     "820539aae58e409bb836da8e57cd8ffc": {
      "model_module": "@jupyter-widgets/controls",
      "model_module_version": "1.5.0",
      "model_name": "ProgressStyleModel",
      "state": {
       "description_width": "initial"
      }
     },
     "823b1c7765b34eef87c0b4f75dfc42c9": {
      "model_module": "@jupyter-widgets/controls",
      "model_module_version": "1.5.0",
      "model_name": "FloatProgressModel",
      "state": {
       "description": "Train Epoch #14 - loss:   5.893: 100%",
       "layout": "IPY_MODEL_3ee4c4e061154ffcb4f58e6645be4906",
       "max": 589,
       "style": "IPY_MODEL_94889bd1e4334bcd9f490814277efb9c",
       "value": 589
      }
     },
     "8259a3e1208e44ec844786305b3d401c": {
      "model_module": "@jupyter-widgets/controls",
      "model_module_version": "1.5.0",
      "model_name": "HTMLModel",
      "state": {
       "layout": "IPY_MODEL_fb16a3f5c2e045c5915ccf145857141f",
       "style": "IPY_MODEL_2ca32ad47064458ab5191d0ef984b7d1",
       "value": " 74/74 [50:07&lt;00:00,  5.63it/s]"
      }
     },
     "825caa15c91e4cf9be0a111e9da1882f": {
      "model_module": "@jupyter-widgets/controls",
      "model_module_version": "1.5.0",
      "model_name": "FloatProgressModel",
      "state": {
       "description": "Val Epoch #53 - loss:   7.962: 100%",
       "layout": "IPY_MODEL_d16f04201a364683887b09b59e685c62",
       "max": 74,
       "style": "IPY_MODEL_1fcfc83255ad44c1a6d0905b7ee3c56a",
       "value": 74
      }
     },
     "828da0d949544ad18eb2a7c08f175ff1": {
      "model_module": "@jupyter-widgets/controls",
      "model_module_version": "1.5.0",
      "model_name": "HTMLModel",
      "state": {
       "layout": "IPY_MODEL_3e63760c58a34cd8b9884f0aef75350c",
       "style": "IPY_MODEL_911aaf2c31154d8b98bc9cff5256f7de",
       "value": " 589/589 [54:06&lt;00:00,  2.15it/s]"
      }
     },
     "82d3430a0e0749e388f1bd0c4bf6ac57": {
      "model_module": "@jupyter-widgets/base",
      "model_module_version": "1.2.0",
      "model_name": "LayoutModel",
      "state": {}
     },
     "82e986b4999e43ab850c052c12f970bb": {
      "model_module": "@jupyter-widgets/controls",
      "model_module_version": "1.5.0",
      "model_name": "FloatProgressModel",
      "state": {
       "description": "Val Epoch #50 - loss:   7.842: 100%",
       "layout": "IPY_MODEL_1e828677d8fe43208eeb9af21daa88ee",
       "max": 74,
       "style": "IPY_MODEL_99fd23147f3e4c2a92cf97799458d5fa",
       "value": 74
      }
     },
     "830627b0b3534b9b83fbfbeb429f990b": {
      "model_module": "@jupyter-widgets/base",
      "model_module_version": "1.2.0",
      "model_name": "LayoutModel",
      "state": {}
     },
     "830c05456c7045acaaaf9e188a2b8a22": {
      "model_module": "@jupyter-widgets/base",
      "model_module_version": "1.2.0",
      "model_name": "LayoutModel",
      "state": {}
     },
     "8342aa4fa8144f2ab2667f1986bdebfc": {
      "model_module": "@jupyter-widgets/controls",
      "model_module_version": "1.5.0",
      "model_name": "FloatProgressModel",
      "state": {
       "description": "Val Epoch #35 - loss:   7.307: 100%",
       "layout": "IPY_MODEL_db1cab08d2c24af5ab69b53f573ddec0",
       "max": 74,
       "style": "IPY_MODEL_a202c9ffa93d4eb7b018666e792c4c3e",
       "value": 74
      }
     },
     "834f106c183840448062c1ce374966da": {
      "model_module": "@jupyter-widgets/controls",
      "model_module_version": "1.5.0",
      "model_name": "ProgressStyleModel",
      "state": {
       "description_width": "initial"
      }
     },
     "83618c94660241d4abf7a9ec5541db6e": {
      "model_module": "@jupyter-widgets/base",
      "model_module_version": "1.2.0",
      "model_name": "LayoutModel",
      "state": {}
     },
     "83807df73e93473791304f807bd7ee03": {
      "model_module": "@jupyter-widgets/controls",
      "model_module_version": "1.5.0",
      "model_name": "DescriptionStyleModel",
      "state": {
       "description_width": ""
      }
     },
     "83979fcb8d194091843a93790a367a20": {
      "model_module": "@jupyter-widgets/controls",
      "model_module_version": "1.5.0",
      "model_name": "HBoxModel",
      "state": {
       "children": [
        "IPY_MODEL_bcf65d2c344c4df6bd62c1abcce22770",
        "IPY_MODEL_35cd9b912e9741b39ad522bb7ad1302a"
       ],
       "layout": "IPY_MODEL_b0530e1b4c4b49e5978c6ed5fe18ec38"
      }
     },
     "8399fd265ba54a6eb52bba23628e90af": {
      "model_module": "@jupyter-widgets/base",
      "model_module_version": "1.2.0",
      "model_name": "LayoutModel",
      "state": {}
     },
     "839c3f1387c74aa0ba9f67ded8730520": {
      "model_module": "@jupyter-widgets/controls",
      "model_module_version": "1.5.0",
      "model_name": "ProgressStyleModel",
      "state": {
       "description_width": "initial"
      }
     },
     "839eecf41f91402c8dd471ce6c28df50": {
      "model_module": "@jupyter-widgets/base",
      "model_module_version": "1.2.0",
      "model_name": "LayoutModel",
      "state": {}
     },
     "83af2fb03ae3413482c739fbac75c75c": {
      "model_module": "@jupyter-widgets/base",
      "model_module_version": "1.2.0",
      "model_name": "LayoutModel",
      "state": {}
     },
     "83b4d454ec3e43acaf649b42b266e7a8": {
      "model_module": "@jupyter-widgets/base",
      "model_module_version": "1.2.0",
      "model_name": "LayoutModel",
      "state": {}
     },
     "83b4e9f3460f48788fe206107fb72294": {
      "model_module": "@jupyter-widgets/controls",
      "model_module_version": "1.5.0",
      "model_name": "FloatProgressModel",
      "state": {
       "description": "Val Epoch #9 - loss:   7.144: 100%",
       "layout": "IPY_MODEL_0f0f21afa0c04be3afe331bee00bb3a3",
       "max": 74,
       "style": "IPY_MODEL_2bfd9f49afa340d1ab74bab357293a50",
       "value": 74
      }
     },
     "83d4fa89ad3441b3860fd1d562ac28c9": {
      "model_module": "@jupyter-widgets/controls",
      "model_module_version": "1.5.0",
      "model_name": "DescriptionStyleModel",
      "state": {
       "description_width": ""
      }
     },
     "83f3b7a12e8a4089a18e689c7e4e3cdd": {
      "model_module": "@jupyter-widgets/controls",
      "model_module_version": "1.5.0",
      "model_name": "ProgressStyleModel",
      "state": {
       "description_width": "initial"
      }
     },
     "842262a3d59c47e4aaad70e106e5670f": {
      "model_module": "@jupyter-widgets/base",
      "model_module_version": "1.2.0",
      "model_name": "LayoutModel",
      "state": {}
     },
     "843f885cae204aed8ce851a716da5d24": {
      "model_module": "@jupyter-widgets/base",
      "model_module_version": "1.2.0",
      "model_name": "LayoutModel",
      "state": {}
     },
     "8444cef847634aaab13aae366aea59ec": {
      "model_module": "@jupyter-widgets/controls",
      "model_module_version": "1.5.0",
      "model_name": "ProgressStyleModel",
      "state": {
       "description_width": "initial"
      }
     },
     "8448a85c55fa48cc821ef0ce0a0053e9": {
      "model_module": "@jupyter-widgets/controls",
      "model_module_version": "1.5.0",
      "model_name": "HTMLModel",
      "state": {
       "layout": "IPY_MODEL_2f67b32fe04f477296ff6e62e6409399",
       "style": "IPY_MODEL_018a2fc6a64d48adbd7aca21b5672d16",
       "value": " 74/74 [7:55:00&lt;00:00, 11.42it/s]"
      }
     },
     "8451387f93cf41309f8512324db0f2aa": {
      "model_module": "@jupyter-widgets/controls",
      "model_module_version": "1.5.0",
      "model_name": "ProgressStyleModel",
      "state": {
       "description_width": "initial"
      }
     },
     "8458919cbabb47e9a7631b89ae9bf919": {
      "model_module": "@jupyter-widgets/base",
      "model_module_version": "1.2.0",
      "model_name": "LayoutModel",
      "state": {}
     },
     "84ab93081a604f8d9f9a8553cc934253": {
      "model_module": "@jupyter-widgets/controls",
      "model_module_version": "1.5.0",
      "model_name": "DescriptionStyleModel",
      "state": {
       "description_width": ""
      }
     },
     "84b5e83ed3f349b4a5926237f6eb8ba7": {
      "model_module": "@jupyter-widgets/base",
      "model_module_version": "1.2.0",
      "model_name": "LayoutModel",
      "state": {}
     },
     "84c258196ba8400cb1eb6a525864fe31": {
      "model_module": "@jupyter-widgets/base",
      "model_module_version": "1.2.0",
      "model_name": "LayoutModel",
      "state": {}
     },
     "84f09c47a889429b9d9e9adcf46b9572": {
      "model_module": "@jupyter-widgets/controls",
      "model_module_version": "1.5.0",
      "model_name": "HBoxModel",
      "state": {
       "children": [
        "IPY_MODEL_81de4f6a8fa8411e881ff830f7f776eb",
        "IPY_MODEL_3775c17e42bf4fa08adc368cd0b95675"
       ],
       "layout": "IPY_MODEL_553fcd2caa7e490c81bfe62f7e75b005"
      }
     },
     "850c4e8a9e14497fb059e7eb6e974a1d": {
      "model_module": "@jupyter-widgets/controls",
      "model_module_version": "1.5.0",
      "model_name": "FloatProgressModel",
      "state": {
       "description": "Train Epoch #61 - loss:   1.658: 100%",
       "layout": "IPY_MODEL_7d855ad3406b4cef9701438c27297784",
       "max": 589,
       "style": "IPY_MODEL_3bd7a129732742869b5a30964c40f20f",
       "value": 589
      }
     },
     "853e4b696ee6491b9e1ce1555756a211": {
      "model_module": "@jupyter-widgets/base",
      "model_module_version": "1.2.0",
      "model_name": "LayoutModel",
      "state": {}
     },
     "854ba70239b04fde8aaa5bcefc45f30f": {
      "model_module": "@jupyter-widgets/base",
      "model_module_version": "1.2.0",
      "model_name": "LayoutModel",
      "state": {}
     },
     "8558311b2030468f9d29154cda669992": {
      "model_module": "@jupyter-widgets/base",
      "model_module_version": "1.2.0",
      "model_name": "LayoutModel",
      "state": {}
     },
     "85861166363e45bc95160aabde176818": {
      "model_module": "@jupyter-widgets/base",
      "model_module_version": "1.2.0",
      "model_name": "LayoutModel",
      "state": {}
     },
     "8593d12dfa3641b1af367fdf2ee555d5": {
      "model_module": "@jupyter-widgets/base",
      "model_module_version": "1.2.0",
      "model_name": "LayoutModel",
      "state": {}
     },
     "85b30fc7cb304c29b28befed747ac70b": {
      "model_module": "@jupyter-widgets/base",
      "model_module_version": "1.2.0",
      "model_name": "LayoutModel",
      "state": {}
     },
     "85b44d69a6a44a98b60f18afe6f50184": {
      "model_module": "@jupyter-widgets/base",
      "model_module_version": "1.2.0",
      "model_name": "LayoutModel",
      "state": {}
     },
     "85b79c3f117c443797d425d6a92c80d5": {
      "model_module": "@jupyter-widgets/controls",
      "model_module_version": "1.5.0",
      "model_name": "FloatProgressModel",
      "state": {
       "description": "Train Epoch #5 - loss:   6.222: 100%",
       "layout": "IPY_MODEL_a1eb9416f5344a05973d093c2c8b088e",
       "max": 589,
       "style": "IPY_MODEL_3632e4cab4754e2c87bb4c66434a6e0f",
       "value": 589
      }
     },
     "85bd981863bc4534b17044b9156baa7c": {
      "model_module": "@jupyter-widgets/base",
      "model_module_version": "1.2.0",
      "model_name": "LayoutModel",
      "state": {}
     },
     "85bef85b54584d2e96646090528bf1de": {
      "model_module": "@jupyter-widgets/controls",
      "model_module_version": "1.5.0",
      "model_name": "FloatProgressModel",
      "state": {
       "description": "Val Epoch #12 - loss:    6.96: 100%",
       "layout": "IPY_MODEL_c04bdce2fd384e9f85ea5faa5a6a2022",
       "max": 74,
       "style": "IPY_MODEL_16f3ef0e52934af581a32108ca14dc39",
       "value": 74
      }
     },
     "85c3a87389a440128f07bf5b2a7514c0": {
      "model_module": "@jupyter-widgets/base",
      "model_module_version": "1.2.0",
      "model_name": "LayoutModel",
      "state": {}
     },
     "85e2cde586bb4c9fb2768853e503dbd9": {
      "model_module": "@jupyter-widgets/controls",
      "model_module_version": "1.5.0",
      "model_name": "HTMLModel",
      "state": {
       "layout": "IPY_MODEL_5b70fae421a64d1eb8cc9e7868360e8f",
       "style": "IPY_MODEL_a7181faea8be4bd389dab783c29d6dfe",
       "value": " 74/74 [2:27:34&lt;00:00,  5.86it/s]"
      }
     },
     "85e7196fef5a44b0913e6303d67e3b88": {
      "model_module": "@jupyter-widgets/base",
      "model_module_version": "1.2.0",
      "model_name": "LayoutModel",
      "state": {}
     },
     "85eafbd2c7024e3b88a6c4c651142d9e": {
      "model_module": "@jupyter-widgets/controls",
      "model_module_version": "1.5.0",
      "model_name": "HTMLModel",
      "state": {
       "layout": "IPY_MODEL_00508ef359194cebba2845a3a9559c53",
       "style": "IPY_MODEL_f35cef7f905d434fa7bc6d2cd884b0b6",
       "value": " 589/589 [5:26:30&lt;00:00,  2.62it/s]"
      }
     },
     "85ef76d8b1a24c12b2e16dc1084ecd52": {
      "model_module": "@jupyter-widgets/controls",
      "model_module_version": "1.5.0",
      "model_name": "HBoxModel",
      "state": {
       "children": [
        "IPY_MODEL_7615e76433584439bc63b0feddaf68d5",
        "IPY_MODEL_2328a2c5c1374d82a2c91a3e1c15e4a8"
       ],
       "layout": "IPY_MODEL_6f91ece2de81401098c2d30d32b6419d"
      }
     },
     "85fce407f1ac41b6811d1e5f2b5d369c": {
      "model_module": "@jupyter-widgets/controls",
      "model_module_version": "1.5.0",
      "model_name": "HBoxModel",
      "state": {
       "children": [
        "IPY_MODEL_f0b0cdf77ec146e88234d101cf41a33f",
        "IPY_MODEL_90d1991db8144c66950c604566b410f1"
       ],
       "layout": "IPY_MODEL_8932afc4d0d84d8c9769ba1ade1b9cfe"
      }
     },
     "85feee6e6b914255bfcdf5d14bd72c28": {
      "model_module": "@jupyter-widgets/controls",
      "model_module_version": "1.5.0",
      "model_name": "FloatProgressModel",
      "state": {
       "description": "Val Epoch #8 - loss:   7.669: 100%",
       "layout": "IPY_MODEL_47dc0f6f1ca74c848d8a4a0997522b54",
       "max": 74,
       "style": "IPY_MODEL_e292691dd52d4ed9bf4c1b9ef34ee2f7",
       "value": 74
      }
     },
     "86008d6475da494d849697057bb750e1": {
      "model_module": "@jupyter-widgets/controls",
      "model_module_version": "1.5.0",
      "model_name": "HBoxModel",
      "state": {
       "children": [
        "IPY_MODEL_a2ca8351c1064a5ba1328c0a42601b21",
        "IPY_MODEL_2c078853f4d94cd6b1e1b764311b2b61"
       ],
       "layout": "IPY_MODEL_81e2f94397ca4a4d8ab05af8119e358f"
      }
     },
     "86191ab6de74421096075a377d1bb918": {
      "model_module": "@jupyter-widgets/controls",
      "model_module_version": "1.5.0",
      "model_name": "DescriptionStyleModel",
      "state": {
       "description_width": ""
      }
     },
     "865b404fae674e55955e0c8144709d40": {
      "model_module": "@jupyter-widgets/controls",
      "model_module_version": "1.5.0",
      "model_name": "HBoxModel",
      "state": {
       "children": [
        "IPY_MODEL_c6cc579aaca14a3b8eba8587d2ef287b",
        "IPY_MODEL_d0be2e8a8c5b450c9beeb25b2b514ead"
       ],
       "layout": "IPY_MODEL_4db406aed2f440b3844657cbb0ba10a9"
      }
     },
     "8689b55be4d545748997bdb4f0b2aa84": {
      "model_module": "@jupyter-widgets/controls",
      "model_module_version": "1.5.0",
      "model_name": "DescriptionStyleModel",
      "state": {
       "description_width": ""
      }
     },
     "86a824adf6784b36a68350539372c91d": {
      "model_module": "@jupyter-widgets/base",
      "model_module_version": "1.2.0",
      "model_name": "LayoutModel",
      "state": {}
     },
     "86cab94c1ce64954966f81e01ea833c5": {
      "model_module": "@jupyter-widgets/controls",
      "model_module_version": "1.5.0",
      "model_name": "ProgressStyleModel",
      "state": {
       "description_width": "initial"
      }
     },
     "86f4d19b68ae4674a6b6dd54d778df49": {
      "model_module": "@jupyter-widgets/controls",
      "model_module_version": "1.5.0",
      "model_name": "FloatProgressModel",
      "state": {
       "description": "Train Epoch #7 - loss:   5.951: 100%",
       "layout": "IPY_MODEL_e4bf33b1ecfe49fabab353156b580aca",
       "max": 589,
       "style": "IPY_MODEL_de08886814bb49dc85b72a0b1357efd6",
       "value": 589
      }
     },
     "86f9052c7f9f4268b59d9616f904843c": {
      "model_module": "@jupyter-widgets/base",
      "model_module_version": "1.2.0",
      "model_name": "LayoutModel",
      "state": {}
     },
     "8702f19cc01241dcbc3854df5718a289": {
      "model_module": "@jupyter-widgets/base",
      "model_module_version": "1.2.0",
      "model_name": "LayoutModel",
      "state": {}
     },
     "8710ecedaf9e457a9d3d93c7fe551922": {
      "model_module": "@jupyter-widgets/controls",
      "model_module_version": "1.5.0",
      "model_name": "DescriptionStyleModel",
      "state": {
       "description_width": ""
      }
     },
     "871ba0fa2f7346efa5366083e2a685aa": {
      "model_module": "@jupyter-widgets/controls",
      "model_module_version": "1.5.0",
      "model_name": "ProgressStyleModel",
      "state": {
       "description_width": "initial"
      }
     },
     "87208b8ce8274c6696241f1feaaa10e7": {
      "model_module": "@jupyter-widgets/base",
      "model_module_version": "1.2.0",
      "model_name": "LayoutModel",
      "state": {}
     },
     "87537a36b61d488b9dff3978759608f5": {
      "model_module": "@jupyter-widgets/base",
      "model_module_version": "1.2.0",
      "model_name": "LayoutModel",
      "state": {}
     },
     "877d752a77ee48ad80a8b71d360eed72": {
      "model_module": "@jupyter-widgets/base",
      "model_module_version": "1.2.0",
      "model_name": "LayoutModel",
      "state": {}
     },
     "87a76ecb48f04b2791b16a0ecf5adfff": {
      "model_module": "@jupyter-widgets/base",
      "model_module_version": "1.2.0",
      "model_name": "LayoutModel",
      "state": {}
     },
     "87f2b26e64164a25a23c914d78e46ced": {
      "model_module": "@jupyter-widgets/controls",
      "model_module_version": "1.5.0",
      "model_name": "HBoxModel",
      "state": {
       "children": [
        "IPY_MODEL_8342aa4fa8144f2ab2667f1986bdebfc",
        "IPY_MODEL_a26ef96bad8443b5aec97fd4e46474a1"
       ],
       "layout": "IPY_MODEL_2155c79699a144aea18565eb177df90b"
      }
     },
     "881111f7dbb146b5ac0e3e2431065772": {
      "model_module": "@jupyter-widgets/controls",
      "model_module_version": "1.5.0",
      "model_name": "ProgressStyleModel",
      "state": {
       "description_width": "initial"
      }
     },
     "881a62d4f4864c7cb5bd27be6d049bc7": {
      "model_module": "@jupyter-widgets/controls",
      "model_module_version": "1.5.0",
      "model_name": "HBoxModel",
      "state": {
       "children": [
        "IPY_MODEL_adf43e9b027d4adca16769ae400c4724",
        "IPY_MODEL_6885250019994b0c8b49277182ab22ec"
       ],
       "layout": "IPY_MODEL_baa9b04e2ada42fd99e7de1d2945f90c"
      }
     },
     "881becc8ca4742628a3460c2fb9de7d7": {
      "model_module": "@jupyter-widgets/controls",
      "model_module_version": "1.5.0",
      "model_name": "ProgressStyleModel",
      "state": {
       "description_width": "initial"
      }
     },
     "884b4fc2471846f3b46e40d093504816": {
      "model_module": "@jupyter-widgets/controls",
      "model_module_version": "1.5.0",
      "model_name": "DescriptionStyleModel",
      "state": {
       "description_width": ""
      }
     },
     "885952938739452e9d092d5ad998d326": {
      "model_module": "@jupyter-widgets/controls",
      "model_module_version": "1.5.0",
      "model_name": "DescriptionStyleModel",
      "state": {
       "description_width": ""
      }
     },
     "8861d791cd6e4ba3a12df123e3da7169": {
      "model_module": "@jupyter-widgets/controls",
      "model_module_version": "1.5.0",
      "model_name": "DescriptionStyleModel",
      "state": {
       "description_width": ""
      }
     },
     "8876fddb99ad4f85a7fbcd1854532afb": {
      "model_module": "@jupyter-widgets/controls",
      "model_module_version": "1.5.0",
      "model_name": "ProgressStyleModel",
      "state": {
       "description_width": "initial"
      }
     },
     "8893e172366d498db8424d77edf2b723": {
      "model_module": "@jupyter-widgets/controls",
      "model_module_version": "1.5.0",
      "model_name": "HTMLModel",
      "state": {
       "layout": "IPY_MODEL_8c635887c1a64a8bbad5d4b10d98da23",
       "style": "IPY_MODEL_885952938739452e9d092d5ad998d326",
       "value": " 74/74 [03:49&lt;00:00,  8.27it/s]"
      }
     },
     "88c3b0b2df3e4393887e82237160411e": {
      "model_module": "@jupyter-widgets/base",
      "model_module_version": "1.2.0",
      "model_name": "LayoutModel",
      "state": {}
     },
     "88cafcd3c06f4b58a4b9bd26383e7b5b": {
      "model_module": "@jupyter-widgets/base",
      "model_module_version": "1.2.0",
      "model_name": "LayoutModel",
      "state": {}
     },
     "88df11f7fa464e5db5827e3cea137559": {
      "model_module": "@jupyter-widgets/controls",
      "model_module_version": "1.5.0",
      "model_name": "FloatProgressModel",
      "state": {
       "description": "Val Epoch #85 - loss:   8.658: 100%",
       "layout": "IPY_MODEL_5e5104bdd2cf4e14b9d08ed5295fe2b7",
       "max": 74,
       "style": "IPY_MODEL_d849bc56481c4d1c810cc766d4958f10",
       "value": 74
      }
     },
     "88ebb26cb1524ceba1f98eff8425bb23": {
      "model_module": "@jupyter-widgets/base",
      "model_module_version": "1.2.0",
      "model_name": "LayoutModel",
      "state": {}
     },
     "88f1ebeceeac4912a9d7e6793ad66f20": {
      "model_module": "@jupyter-widgets/controls",
      "model_module_version": "1.5.0",
      "model_name": "HTMLModel",
      "state": {
       "layout": "IPY_MODEL_492d2b260cea4838b8ec58171f788e5c",
       "style": "IPY_MODEL_8689b55be4d545748997bdb4f0b2aa84",
       "value": " 74/74 [1:36:40&lt;00:00,  5.48it/s]"
      }
     },
     "88f63eb74dd84e6fb2046b5f10ad9e88": {
      "model_module": "@jupyter-widgets/controls",
      "model_module_version": "1.5.0",
      "model_name": "DescriptionStyleModel",
      "state": {
       "description_width": ""
      }
     },
     "89284e711c3a43a49c1ed3ab96700d43": {
      "model_module": "@jupyter-widgets/base",
      "model_module_version": "1.2.0",
      "model_name": "LayoutModel",
      "state": {}
     },
     "8932afc4d0d84d8c9769ba1ade1b9cfe": {
      "model_module": "@jupyter-widgets/base",
      "model_module_version": "1.2.0",
      "model_name": "LayoutModel",
      "state": {}
     },
     "89361305c25c468bad5e9912ec65150d": {
      "model_module": "@jupyter-widgets/controls",
      "model_module_version": "1.5.0",
      "model_name": "HTMLModel",
      "state": {
       "layout": "IPY_MODEL_41b215dc1a9442ab9c6e13855c4d1b2e",
       "style": "IPY_MODEL_a9220385d5c34cf0963df280a2a77972",
       "value": " 74/74 [6:51:07&lt;00:00,  5.55it/s]"
      }
     },
     "8971f835037b44f58e3c56da5fd9e1ac": {
      "model_module": "@jupyter-widgets/base",
      "model_module_version": "1.2.0",
      "model_name": "LayoutModel",
      "state": {}
     },
     "897d3ffde67a4d818e2539d7abb4a898": {
      "model_module": "@jupyter-widgets/controls",
      "model_module_version": "1.5.0",
      "model_name": "HBoxModel",
      "state": {
       "children": [
        "IPY_MODEL_281ebf1abf0d4981b1c9cd91429a278a",
        "IPY_MODEL_cf58232b0de4445382da488711221bcf"
       ],
       "layout": "IPY_MODEL_58b70ae196194193804920344f3205e0"
      }
     },
     "897f26bdd3f64ad3a95a108bfe5e1450": {
      "model_module": "@jupyter-widgets/controls",
      "model_module_version": "1.5.0",
      "model_name": "HBoxModel",
      "state": {
       "children": [
        "IPY_MODEL_520ea70f0cc349aaabb651da4dd5fc65",
        "IPY_MODEL_d61349113c9945a2812ab77600be1d90"
       ],
       "layout": "IPY_MODEL_aa9a6420ab3a439fb7463b44ced2b2bb"
      }
     },
     "89a447b681c94030a903d523b509a8bb": {
      "model_module": "@jupyter-widgets/base",
      "model_module_version": "1.2.0",
      "model_name": "LayoutModel",
      "state": {}
     },
     "89ad7c69adfa45fe9327e4194069c7d2": {
      "model_module": "@jupyter-widgets/base",
      "model_module_version": "1.2.0",
      "model_name": "LayoutModel",
      "state": {}
     },
     "89cff10b4253450aa5777a1dd031ec9c": {
      "model_module": "@jupyter-widgets/controls",
      "model_module_version": "1.5.0",
      "model_name": "ProgressStyleModel",
      "state": {
       "description_width": "initial"
      }
     },
     "8a1207d701f6461da252f2596153f2c5": {
      "model_module": "@jupyter-widgets/controls",
      "model_module_version": "1.5.0",
      "model_name": "HTMLModel",
      "state": {
       "layout": "IPY_MODEL_89284e711c3a43a49c1ed3ab96700d43",
       "style": "IPY_MODEL_744da4483e2d4eeebccac849526d9742",
       "value": " 589/589 [3:21:21&lt;00:00,  2.30it/s]"
      }
     },
     "8a1c73b2b9184995950f89645b551115": {
      "model_module": "@jupyter-widgets/base",
      "model_module_version": "1.2.0",
      "model_name": "LayoutModel",
      "state": {}
     },
     "8a22ef3d68ee4dfe81e675addde92ca4": {
      "model_module": "@jupyter-widgets/controls",
      "model_module_version": "1.5.0",
      "model_name": "HTMLModel",
      "state": {
       "layout": "IPY_MODEL_6e2990d797c447e6b4723a9f909367b1",
       "style": "IPY_MODEL_751c4007552b488dbb4c62bbcd3bc0f9",
       "value": " 589/589 [4:55:45&lt;00:00,  2.50it/s]"
      }
     },
     "8a733a940624436ebfa5bfabee33b24f": {
      "model_module": "@jupyter-widgets/controls",
      "model_module_version": "1.5.0",
      "model_name": "HBoxModel",
      "state": {
       "children": [
        "IPY_MODEL_f0bcccd544214e0d996d047d42643041",
        "IPY_MODEL_629a08e7b1294d67973c2239710def1e"
       ],
       "layout": "IPY_MODEL_6cdacea8188448ceb9f1259a330c6e66"
      }
     },
     "8a98dea6efe64e608d729f8feb2098ab": {
      "model_module": "@jupyter-widgets/controls",
      "model_module_version": "1.5.0",
      "model_name": "ProgressStyleModel",
      "state": {
       "description_width": "initial"
      }
     },
     "8ab6852cb7f74dd4a731ad71f571a15e": {
      "model_module": "@jupyter-widgets/base",
      "model_module_version": "1.2.0",
      "model_name": "LayoutModel",
      "state": {}
     },
     "8abd92940e9f474db19c39f566d2b990": {
      "model_module": "@jupyter-widgets/controls",
      "model_module_version": "1.5.0",
      "model_name": "FloatProgressModel",
      "state": {
       "description": "Val Epoch #55 - loss:   8.011: 100%",
       "layout": "IPY_MODEL_3599490172b54a40b9113b3c9eb0b735",
       "max": 74,
       "style": "IPY_MODEL_7805bb7aa3b24d8e89d06d60f68aef3a",
       "value": 74
      }
     },
     "8aee49ba38cd4cafb6d4b20d49a53e05": {
      "model_module": "@jupyter-widgets/controls",
      "model_module_version": "1.5.0",
      "model_name": "HBoxModel",
      "state": {
       "children": [
        "IPY_MODEL_1b13aae48300444a96ac87c8cd28ed62",
        "IPY_MODEL_6dec82777061457ea7a4c82f96f8ef43"
       ],
       "layout": "IPY_MODEL_11949d74235a464fa8922ef98dce6767"
      }
     },
     "8af8848f46dc4ebba9ce0514756c9514": {
      "model_module": "@jupyter-widgets/controls",
      "model_module_version": "1.5.0",
      "model_name": "ProgressStyleModel",
      "state": {
       "description_width": "initial"
      }
     },
     "8b199beb60ca4349a6f71b5fba530f3f": {
      "model_module": "@jupyter-widgets/controls",
      "model_module_version": "1.5.0",
      "model_name": "FloatProgressModel",
      "state": {
       "description": "Val Epoch #0 - loss:   8.363: 100%",
       "layout": "IPY_MODEL_7147e2da4ae64255a9d901b1108a746b",
       "max": 74,
       "style": "IPY_MODEL_ff15dcf2c80b4d9c936fe754d39c56b3",
       "value": 74
      }
     },
     "8b2bc8072cc34dbd91872c56ef440e21": {
      "model_module": "@jupyter-widgets/controls",
      "model_module_version": "1.5.0",
      "model_name": "ProgressStyleModel",
      "state": {
       "description_width": "initial"
      }
     },
     "8b370a0bf1554c828e628b39ebc99f3f": {
      "model_module": "@jupyter-widgets/base",
      "model_module_version": "1.2.0",
      "model_name": "LayoutModel",
      "state": {}
     },
     "8b55558afadd454f86f4d56b32bbaa0c": {
      "model_module": "@jupyter-widgets/base",
      "model_module_version": "1.2.0",
      "model_name": "LayoutModel",
      "state": {}
     },
     "8b563bf83b9844839f5c631528053e45": {
      "model_module": "@jupyter-widgets/base",
      "model_module_version": "1.2.0",
      "model_name": "LayoutModel",
      "state": {}
     },
     "8b87a10d25944a5b9c8f50d0f15a9732": {
      "model_module": "@jupyter-widgets/base",
      "model_module_version": "1.2.0",
      "model_name": "LayoutModel",
      "state": {}
     },
     "8b8adabb63a34243aadea44edf07dbe5": {
      "model_module": "@jupyter-widgets/base",
      "model_module_version": "1.2.0",
      "model_name": "LayoutModel",
      "state": {}
     },
     "8b8c186600944fb78ba4a8aeb5aeddc1": {
      "model_module": "@jupyter-widgets/controls",
      "model_module_version": "1.5.0",
      "model_name": "HTMLModel",
      "state": {
       "layout": "IPY_MODEL_a8b582befda7461fa754b07f855394c8",
       "style": "IPY_MODEL_25a6f96f32974769bf78190b69f57762",
       "value": " 74/74 [7:49:06&lt;00:00, 11.11it/s]"
      }
     },
     "8ba141e50c5442ff9cc7f9f729eb9b0e": {
      "model_module": "@jupyter-widgets/controls",
      "model_module_version": "1.5.0",
      "model_name": "FloatProgressModel",
      "state": {
       "description": "Val Epoch #2 - loss:   9.941: 100%",
       "layout": "IPY_MODEL_b35054ac297c4a4db1215e7c3554ff21",
       "max": 74,
       "style": "IPY_MODEL_e10387e3d3d24160bbd6991b97b6ab4e",
       "value": 74
      }
     },
     "8bb304cefd53453faa7dc1430fc2872b": {
      "model_module": "@jupyter-widgets/controls",
      "model_module_version": "1.5.0",
      "model_name": "HBoxModel",
      "state": {
       "children": [
        "IPY_MODEL_b2ff7831b5094c1c8fb40527ee921a61",
        "IPY_MODEL_6f8ccd2b8748448cadba7a7367acfa1e"
       ],
       "layout": "IPY_MODEL_37662f1ab1194d7f854ee97048888acc"
      }
     },
     "8bb78a0fe97c46aebce27ff0f55c7201": {
      "model_module": "@jupyter-widgets/controls",
      "model_module_version": "1.5.0",
      "model_name": "HTMLModel",
      "state": {
       "layout": "IPY_MODEL_ed563363463c4e898e25708e15586da2",
       "style": "IPY_MODEL_08db1e14b5464a74acdc61369355e5a2",
       "value": " 0/589 [00:00&lt;?, ?it/s]"
      }
     },
     "8bbaa0f9ee664f16b07ae81f030a0963": {
      "model_module": "@jupyter-widgets/controls",
      "model_module_version": "1.5.0",
      "model_name": "HTMLModel",
      "state": {
       "layout": "IPY_MODEL_2c8a767f8737455cafadc7d51a2b7a15",
       "style": "IPY_MODEL_f98e9bf9601d49a48b10b19dea6b3df7",
       "value": " 74/74 [7:43:44&lt;00:00,  6.00it/s]"
      }
     },
     "8bcdcca5dd064312b9820f0116838352": {
      "model_module": "@jupyter-widgets/base",
      "model_module_version": "1.2.0",
      "model_name": "LayoutModel",
      "state": {}
     },
     "8be49a370f044ca595b4c5002867a4ee": {
      "model_module": "@jupyter-widgets/base",
      "model_module_version": "1.2.0",
      "model_name": "LayoutModel",
      "state": {}
     },
     "8bf8fd1c53eb4724b3b7287859e662d2": {
      "model_module": "@jupyter-widgets/controls",
      "model_module_version": "1.5.0",
      "model_name": "HBoxModel",
      "state": {
       "children": [
        "IPY_MODEL_40fff8dec7544120990c0d8f79166eaa",
        "IPY_MODEL_d362a79accdd494c9bb6526317e41944"
       ],
       "layout": "IPY_MODEL_8b87a10d25944a5b9c8f50d0f15a9732"
      }
     },
     "8bff9425bfce4fae9fe90c9cbd963d72": {
      "model_module": "@jupyter-widgets/base",
      "model_module_version": "1.2.0",
      "model_name": "LayoutModel",
      "state": {}
     },
     "8c0f626e15884d0d8271e73fe672088f": {
      "model_module": "@jupyter-widgets/controls",
      "model_module_version": "1.5.0",
      "model_name": "DescriptionStyleModel",
      "state": {
       "description_width": ""
      }
     },
     "8c21d22521c04374863a5177d38ae2a9": {
      "model_module": "@jupyter-widgets/base",
      "model_module_version": "1.2.0",
      "model_name": "LayoutModel",
      "state": {}
     },
     "8c2da179e12847b5a605708397ae0a56": {
      "model_module": "@jupyter-widgets/base",
      "model_module_version": "1.2.0",
      "model_name": "LayoutModel",
      "state": {}
     },
     "8c47a3ad2b87421285340bfb6d649cf8": {
      "model_module": "@jupyter-widgets/controls",
      "model_module_version": "1.5.0",
      "model_name": "ProgressStyleModel",
      "state": {
       "description_width": "initial"
      }
     },
     "8c635887c1a64a8bbad5d4b10d98da23": {
      "model_module": "@jupyter-widgets/base",
      "model_module_version": "1.2.0",
      "model_name": "LayoutModel",
      "state": {}
     },
     "8c9a50b068534797887f25a4bbc7a0da": {
      "model_module": "@jupyter-widgets/controls",
      "model_module_version": "1.5.0",
      "model_name": "DescriptionStyleModel",
      "state": {
       "description_width": ""
      }
     },
     "8ca3e45784ed4f889af097fc91d7bf04": {
      "model_module": "@jupyter-widgets/controls",
      "model_module_version": "1.5.0",
      "model_name": "HBoxModel",
      "state": {
       "children": [
        "IPY_MODEL_69f5fb6b42604db8a9f00226ee24ec22",
        "IPY_MODEL_702209a5f63341d1a4292f284927a7e8"
       ],
       "layout": "IPY_MODEL_bd869a90082749ae9d5335e6d19b49f3"
      }
     },
     "8ca6482d35724a10ad301cb573311a18": {
      "model_module": "@jupyter-widgets/controls",
      "model_module_version": "1.5.0",
      "model_name": "FloatProgressModel",
      "state": {
       "description": "Train Epoch #17 - loss:   5.727: 100%",
       "layout": "IPY_MODEL_2e82bf9aed2540219855ec21b415442d",
       "max": 589,
       "style": "IPY_MODEL_090d3a0d8fd647019aba457caf3dfda6",
       "value": 589
      }
     },
     "8cbcfa019c7e441ab32afda9aba2d429": {
      "model_module": "@jupyter-widgets/base",
      "model_module_version": "1.2.0",
      "model_name": "LayoutModel",
      "state": {}
     },
     "8cbda2a9edda4ea08ffc49e835619c53": {
      "model_module": "@jupyter-widgets/controls",
      "model_module_version": "1.5.0",
      "model_name": "HBoxModel",
      "state": {
       "children": [
        "IPY_MODEL_1961a82a2c00409497f6c81c5812102a",
        "IPY_MODEL_ff2d4d507a5e4feebf444d27e13d7085"
       ],
       "layout": "IPY_MODEL_c056e5f391074d95861f3d52ade4e869"
      }
     },
     "8cc8fee2f13c479c867cb4fbd94ffd8e": {
      "model_module": "@jupyter-widgets/controls",
      "model_module_version": "1.5.0",
      "model_name": "FloatProgressModel",
      "state": {
       "description": "Val Epoch #26 - loss:   6.938: 100%",
       "layout": "IPY_MODEL_66feafd38d5e469cb9f1735965257cdb",
       "max": 74,
       "style": "IPY_MODEL_2db8348e1c3849daae52f4731cbe6e45",
       "value": 74
      }
     },
     "8ccbc6eea2df4cac924d9fac2bd89a41": {
      "model_module": "@jupyter-widgets/controls",
      "model_module_version": "1.5.0",
      "model_name": "DescriptionStyleModel",
      "state": {
       "description_width": ""
      }
     },
     "8cf0d32d46f248f5b9c8fce2b06126b6": {
      "model_module": "@jupyter-widgets/controls",
      "model_module_version": "1.5.0",
      "model_name": "ProgressStyleModel",
      "state": {
       "description_width": "initial"
      }
     },
     "8cfb6defa2aa4ceba060c8779afa8fa4": {
      "model_module": "@jupyter-widgets/controls",
      "model_module_version": "1.5.0",
      "model_name": "HBoxModel",
      "state": {
       "children": [
        "IPY_MODEL_c349bb1ff50d4875a1e9d4802d806c15",
        "IPY_MODEL_ad6d652210e24339931204792259ace2"
       ],
       "layout": "IPY_MODEL_e8f03add44d94788848c99f3448d032a"
      }
     },
     "8d5b23775902421fb10c28204fa78046": {
      "model_module": "@jupyter-widgets/controls",
      "model_module_version": "1.5.0",
      "model_name": "HBoxModel",
      "state": {
       "children": [
        "IPY_MODEL_2e701ce06feb4289a9c4dcf062f57a24",
        "IPY_MODEL_7cb2e6cf9ada4e81b56e1a3d8e6f936c"
       ],
       "layout": "IPY_MODEL_85c3a87389a440128f07bf5b2a7514c0"
      }
     },
     "8d783f8172a1417bab1e527d17e7e280": {
      "model_module": "@jupyter-widgets/controls",
      "model_module_version": "1.5.0",
      "model_name": "ProgressStyleModel",
      "state": {
       "description_width": "initial"
      }
     },
     "8d875f7278d248ecb8ab3c5b819ba074": {
      "model_module": "@jupyter-widgets/controls",
      "model_module_version": "1.5.0",
      "model_name": "DescriptionStyleModel",
      "state": {
       "description_width": ""
      }
     },
     "8d91bc9c7a884cb78f193d6b05735722": {
      "model_module": "@jupyter-widgets/base",
      "model_module_version": "1.2.0",
      "model_name": "LayoutModel",
      "state": {}
     },
     "8db7ab0313f14d51bba1bc5f26db3e1f": {
      "model_module": "@jupyter-widgets/controls",
      "model_module_version": "1.5.0",
      "model_name": "HTMLModel",
      "state": {
       "layout": "IPY_MODEL_af0f1619b7d04e4a8291818fd34e286f",
       "style": "IPY_MODEL_fa5cff9838984ee7bfce3583a796c23f",
       "value": " 74/74 [7:31:48&lt;00:00,  4.38it/s]"
      }
     },
     "8dbad0caa0d549809c33fff4b9be446e": {
      "model_module": "@jupyter-widgets/base",
      "model_module_version": "1.2.0",
      "model_name": "LayoutModel",
      "state": {}
     },
     "8dc79bf86fc64a4db9fd61c72a710ad9": {
      "model_module": "@jupyter-widgets/controls",
      "model_module_version": "1.5.0",
      "model_name": "DescriptionStyleModel",
      "state": {
       "description_width": ""
      }
     },
     "8dd2a86bda354d0caf5222a882fedee1": {
      "model_module": "@jupyter-widgets/base",
      "model_module_version": "1.2.0",
      "model_name": "LayoutModel",
      "state": {}
     },
     "8ddf2ba237e142beb4428f6b53c1da08": {
      "model_module": "@jupyter-widgets/controls",
      "model_module_version": "1.5.0",
      "model_name": "HTMLModel",
      "state": {
       "layout": "IPY_MODEL_5001d985339d4dc48c3ed637c65eb3e9",
       "style": "IPY_MODEL_ef9164ad86dc4bedb4e3d33d6168261c",
       "value": " 74/74 [7:40:49&lt;00:00,  6.07it/s]"
      }
     },
     "8de2b244e8f24f92ae12b3a7737d36ee": {
      "model_module": "@jupyter-widgets/controls",
      "model_module_version": "1.5.0",
      "model_name": "FloatProgressModel",
      "state": {
       "description": "Train Epoch #22 - loss:   4.164: 100%",
       "layout": "IPY_MODEL_34bc09ba34d2482787b9e573b1735319",
       "max": 589,
       "style": "IPY_MODEL_90d0e6c1e5144e21b75c4922cc33689d",
       "value": 589
      }
     },
     "8e09c5f78fcd48339f31350439859f3a": {
      "model_module": "@jupyter-widgets/base",
      "model_module_version": "1.2.0",
      "model_name": "LayoutModel",
      "state": {}
     },
     "8e43dc7dc77f49c6bfe9f7a56b162099": {
      "model_module": "@jupyter-widgets/base",
      "model_module_version": "1.2.0",
      "model_name": "LayoutModel",
      "state": {}
     },
     "8e4c16ec716b4ad6ad79c3378948d1bd": {
      "model_module": "@jupyter-widgets/base",
      "model_module_version": "1.2.0",
      "model_name": "LayoutModel",
      "state": {}
     },
     "8e6c5f8c57c043588da1b1e01cfdb466": {
      "model_module": "@jupyter-widgets/controls",
      "model_module_version": "1.5.0",
      "model_name": "HTMLModel",
      "state": {
       "layout": "IPY_MODEL_9140ce0c211e49ac9fcfae70cc20c669",
       "style": "IPY_MODEL_01b6573926274904beb5e10992287d41",
       "value": " 74/74 [1:07:01&lt;00:00,  5.40it/s]"
      }
     },
     "8ecfae9c9af6467f93d3d566354ae185": {
      "model_module": "@jupyter-widgets/controls",
      "model_module_version": "1.5.0",
      "model_name": "FloatProgressModel",
      "state": {
       "description": "Train Epoch #60 - loss:   1.682: 100%",
       "layout": "IPY_MODEL_edf0d941ab994cc0ac19d3da4d35eb1a",
       "max": 589,
       "style": "IPY_MODEL_e1c85b24ccdf4a4e8533dfc1ecffe201",
       "value": 589
      }
     },
     "8ed96eca6ba74ddca8ef12efcc997cdb": {
      "model_module": "@jupyter-widgets/controls",
      "model_module_version": "1.5.0",
      "model_name": "HBoxModel",
      "state": {
       "children": [
        "IPY_MODEL_10eeddd851cb483280d9e54405415200",
        "IPY_MODEL_5cbe3f6120904c4588157c2039ca0d09"
       ],
       "layout": "IPY_MODEL_f0914e3c2f494b8aa3f7ebd5958e2256"
      }
     },
     "8f00ea15e32d4517b1e77d936024ba10": {
      "model_module": "@jupyter-widgets/controls",
      "model_module_version": "1.5.0",
      "model_name": "HBoxModel",
      "state": {
       "children": [
        "IPY_MODEL_4c1b4e511c8c491889d3dad22735c495",
        "IPY_MODEL_96c6c34ae1ec425e9a4f3060c0897b03"
       ],
       "layout": "IPY_MODEL_dbc30c0c8dcd4d4cadb7e2f6f293c2ce"
      }
     },
     "8f0452d003e94dc689a0258b12026e80": {
      "model_module": "@jupyter-widgets/controls",
      "model_module_version": "1.5.0",
      "model_name": "FloatProgressModel",
      "state": {
       "description": "Val Epoch #76 - loss:   8.504: 100%",
       "layout": "IPY_MODEL_7a1ab56d5a76479b9f2629794a5109b0",
       "max": 74,
       "style": "IPY_MODEL_a1efaa26569044a1bf114848b0059d83",
       "value": 74
      }
     },
     "8f2692f8995741a4bdd3ae05ea223ab3": {
      "model_module": "@jupyter-widgets/base",
      "model_module_version": "1.2.0",
      "model_name": "LayoutModel",
      "state": {}
     },
     "8f50b50ee16f44fba8e2c8d51e8ded88": {
      "model_module": "@jupyter-widgets/controls",
      "model_module_version": "1.5.0",
      "model_name": "HTMLModel",
      "state": {
       "layout": "IPY_MODEL_9dff687bd2a84f2cb0f88a2d12af90b7",
       "style": "IPY_MODEL_d44428e8a3eb49d8a6c5915b15258abe",
       "value": " 74/74 [3:17:31&lt;00:00,  5.79it/s]"
      }
     },
     "8f6164b88502471b8f4d86e3f3518e4f": {
      "model_module": "@jupyter-widgets/controls",
      "model_module_version": "1.5.0",
      "model_name": "HTMLModel",
      "state": {
       "layout": "IPY_MODEL_4ae6d068726f436d8b8327259a35b9d1",
       "style": "IPY_MODEL_e0889452b4f6449eb9316b97168e6a2a",
       "value": " 589/589 [5:54:02&lt;00:00,  2.96it/s]"
      }
     },
     "8f6aedd9ce1b4574b763dfcbb0920591": {
      "model_module": "@jupyter-widgets/controls",
      "model_module_version": "1.5.0",
      "model_name": "HTMLModel",
      "state": {
       "layout": "IPY_MODEL_eca09ed76ae74337aea2c7abec28c6d4",
       "style": "IPY_MODEL_dfac1b1fe9b8485e887f7c82b6784a5c",
       "value": " 589/589 [3:09:07&lt;00:00,  2.25it/s]"
      }
     },
     "8f6c57c0594149669241911a01f187a2": {
      "model_module": "@jupyter-widgets/controls",
      "model_module_version": "1.5.0",
      "model_name": "FloatProgressModel",
      "state": {
       "description": "Train Epoch #4 - loss:    6.66: 100%",
       "layout": "IPY_MODEL_1ce7a1d0ebec4b58a1df974f7f750468",
       "max": 589,
       "style": "IPY_MODEL_4f8d12a6daa8499d9a596b3500a128e5",
       "value": 589
      }
     },
     "8f924687385a44c795567059379229a0": {
      "model_module": "@jupyter-widgets/controls",
      "model_module_version": "1.5.0",
      "model_name": "HBoxModel",
      "state": {
       "children": [
        "IPY_MODEL_444a8f9ed4ef4ee0a14065f58bb7824d",
        "IPY_MODEL_7e8e4a63c9e54f2ea292c2b9b01e804f"
       ],
       "layout": "IPY_MODEL_d4179ad6f300418795abc7ec75cf5a00"
      }
     },
     "8fbc8323a66b4ab581ed9b2cdad064e0": {
      "model_module": "@jupyter-widgets/controls",
      "model_module_version": "1.5.0",
      "model_name": "ProgressStyleModel",
      "state": {
       "description_width": "initial"
      }
     },
     "901476c18c554699a9d5fd7653d28b62": {
      "model_module": "@jupyter-widgets/base",
      "model_module_version": "1.2.0",
      "model_name": "LayoutModel",
      "state": {}
     },
     "90659339ce414f0da6574eabfd433a1a": {
      "model_module": "@jupyter-widgets/base",
      "model_module_version": "1.2.0",
      "model_name": "LayoutModel",
      "state": {}
     },
     "907fde6a9b984c84b3607c0cc336e84f": {
      "model_module": "@jupyter-widgets/controls",
      "model_module_version": "1.5.0",
      "model_name": "FloatProgressModel",
      "state": {
       "description": "Val Epoch #43 - loss:    7.52: 100%",
       "layout": "IPY_MODEL_95bbe7e22f484d9f9aea9d09e53393d8",
       "max": 74,
       "style": "IPY_MODEL_45745155fc2f41679d6cfdd48a25f389",
       "value": 74
      }
     },
     "908457f8f9654eee99c4439c57087b1f": {
      "model_module": "@jupyter-widgets/base",
      "model_module_version": "1.2.0",
      "model_name": "LayoutModel",
      "state": {}
     },
     "9090a2870a6845bd8d3540c5a65e8350": {
      "model_module": "@jupyter-widgets/base",
      "model_module_version": "1.2.0",
      "model_name": "LayoutModel",
      "state": {}
     },
     "909c5c9bfae94976908de936a3691d47": {
      "model_module": "@jupyter-widgets/controls",
      "model_module_version": "1.5.0",
      "model_name": "HTMLModel",
      "state": {
       "layout": "IPY_MODEL_368109887bfb4e26a63f4d67bc991dc7",
       "style": "IPY_MODEL_11306d0234914689ac33924645a4b131",
       "value": " 74/74 [4:23:26&lt;00:00,  5.79it/s]"
      }
     },
     "90b26c1efba941b19af1f663b8ae98c3": {
      "model_module": "@jupyter-widgets/controls",
      "model_module_version": "1.5.0",
      "model_name": "FloatProgressModel",
      "state": {
       "description": "Train Epoch #0 :   0%",
       "layout": "IPY_MODEL_48854c7a85b14748aed6b629a1cbf62a",
       "max": 589,
       "style": "IPY_MODEL_b6489dba8f64422ea3c87d0ac2c9d557"
      }
     },
     "90b36dd8ac8a459d98d9612d80a701b6": {
      "model_module": "@jupyter-widgets/controls",
      "model_module_version": "1.5.0",
      "model_name": "HTMLModel",
      "state": {
       "layout": "IPY_MODEL_e83b87a73c48470287cf29d0e39a5a3b",
       "style": "IPY_MODEL_4ad54835ee8745f8a4e98aaf44ccb6ae",
       "value": " 74/74 [6:02:51&lt;00:00,  6.67it/s]"
      }
     },
     "90b6c8098bfe414c9a2c4bbd28dcc58d": {
      "model_module": "@jupyter-widgets/controls",
      "model_module_version": "1.5.0",
      "model_name": "HTMLModel",
      "state": {
       "layout": "IPY_MODEL_6cb57f11c3c547acb79ff868ea2879f5",
       "style": "IPY_MODEL_b27506591b174cc884411764f92dcd9d",
       "value": " 589/589 [6:50:50&lt;00:00,  2.68it/s]"
      }
     },
     "90c89b8887204bdf9999970047c32d36": {
      "model_module": "@jupyter-widgets/controls",
      "model_module_version": "1.5.0",
      "model_name": "HTMLModel",
      "state": {
       "layout": "IPY_MODEL_cb8c8906c6c84d31a92776aad20be4b1",
       "style": "IPY_MODEL_d22cedeb3c4e4799802b3eda60339a57",
       "value": " 74/74 [58:33&lt;00:00,  5.45it/s]"
      }
     },
     "90d0e6c1e5144e21b75c4922cc33689d": {
      "model_module": "@jupyter-widgets/controls",
      "model_module_version": "1.5.0",
      "model_name": "ProgressStyleModel",
      "state": {
       "description_width": "initial"
      }
     },
     "90d1991db8144c66950c604566b410f1": {
      "model_module": "@jupyter-widgets/controls",
      "model_module_version": "1.5.0",
      "model_name": "HTMLModel",
      "state": {
       "layout": "IPY_MODEL_20f35ed5ae714f40a22a6f22ddc84a12",
       "style": "IPY_MODEL_8c9a50b068534797887f25a4bbc7a0da",
       "value": " 74/74 [3:13:26&lt;00:00,  5.42it/s]"
      }
     },
     "90db053db8d040f48e06abcfbe105016": {
      "model_module": "@jupyter-widgets/controls",
      "model_module_version": "1.5.0",
      "model_name": "ProgressStyleModel",
      "state": {
       "description_width": "initial"
      }
     },
     "90e31148bcee4b28b97cbbd7c36d01d3": {
      "model_module": "@jupyter-widgets/controls",
      "model_module_version": "1.5.0",
      "model_name": "HBoxModel",
      "state": {
       "children": [
        "IPY_MODEL_5e5039a44cc74a82a0c1b23a40f07edb",
        "IPY_MODEL_8893e172366d498db8424d77edf2b723"
       ],
       "layout": "IPY_MODEL_d496e3ca975a4206b57b88b4b8f4c79e"
      }
     },
     "90eaac5153cf47bbb92f4f7be5da2325": {
      "model_module": "@jupyter-widgets/controls",
      "model_module_version": "1.5.0",
      "model_name": "HBoxModel",
      "state": {
       "children": [
        "IPY_MODEL_bcd4cbe559734c4b941eb9f06e6afd2a",
        "IPY_MODEL_fad383f783fa4817b8363210084a0740"
       ],
       "layout": "IPY_MODEL_2208625a8bf44b5995a213d0913e1309"
      }
     },
     "911aaf2c31154d8b98bc9cff5256f7de": {
      "model_module": "@jupyter-widgets/controls",
      "model_module_version": "1.5.0",
      "model_name": "DescriptionStyleModel",
      "state": {
       "description_width": ""
      }
     },
     "9140ce0c211e49ac9fcfae70cc20c669": {
      "model_module": "@jupyter-widgets/base",
      "model_module_version": "1.2.0",
      "model_name": "LayoutModel",
      "state": {}
     },
     "91461c2946ef4338804ee641804bed1c": {
      "model_module": "@jupyter-widgets/controls",
      "model_module_version": "1.5.0",
      "model_name": "HTMLModel",
      "state": {
       "layout": "IPY_MODEL_08b6ba200c314dbf908db90f06119bb6",
       "style": "IPY_MODEL_03b207bea7b94df680c0ee9060ed8ebb",
       "value": " 589/589 [4:26:55&lt;00:00,  2.35it/s]"
      }
     },
     "914a634552604ac8bc8969af222d4a21": {
      "model_module": "@jupyter-widgets/base",
      "model_module_version": "1.2.0",
      "model_name": "LayoutModel",
      "state": {}
     },
     "915fbf7a51274159b2ad5e5cb5816c4d": {
      "model_module": "@jupyter-widgets/controls",
      "model_module_version": "1.5.0",
      "model_name": "FloatProgressModel",
      "state": {
       "description": "Val Epoch #77 - loss:   8.478: 100%",
       "layout": "IPY_MODEL_1676a8e2d7c94343be7a61592d6ac40a",
       "max": 74,
       "style": "IPY_MODEL_16ddb05a65a94d0bb8874cd5c83812ba",
       "value": 74
      }
     },
     "916b52bc071547089bbeeb7b54f11ab3": {
      "model_module": "@jupyter-widgets/controls",
      "model_module_version": "1.5.0",
      "model_name": "FloatProgressModel",
      "state": {
       "description": "Train Epoch #0 :   0%",
       "layout": "IPY_MODEL_0b057d1c1ea541a596acc29dfad6ab9a",
       "max": 589,
       "style": "IPY_MODEL_0f02d88dfbf34f328f1ad26d6023a615"
      }
     },
     "9190c35eae7f4ac48610c358865e56bd": {
      "model_module": "@jupyter-widgets/controls",
      "model_module_version": "1.5.0",
      "model_name": "HTMLModel",
      "state": {
       "layout": "IPY_MODEL_bdc21c74ae0f4fb88c373be8c0c4b14b",
       "style": "IPY_MODEL_960e3db23c664449bdc3bb39ec89579b",
       "value": " 589/589 [8:30:10&lt;00:00,  3.46it/s]"
      }
     },
     "91a25e6218d94113ba18366b09aa83d7": {
      "model_module": "@jupyter-widgets/controls",
      "model_module_version": "1.5.0",
      "model_name": "HBoxModel",
      "state": {
       "children": [
        "IPY_MODEL_7c968f9700de493b81fc4d81db2c429f",
        "IPY_MODEL_eca938d13e7242f8adb53f95d8cccc24"
       ],
       "layout": "IPY_MODEL_03484af57e8a41aca7c018fdffb5d7e5"
      }
     },
     "91aa04a10b9c4b8bb6ddff03a96304d6": {
      "model_module": "@jupyter-widgets/base",
      "model_module_version": "1.2.0",
      "model_name": "LayoutModel",
      "state": {}
     },
     "91d0e787dedc46ffa2b309f7dad2896c": {
      "model_module": "@jupyter-widgets/base",
      "model_module_version": "1.2.0",
      "model_name": "LayoutModel",
      "state": {}
     },
     "91de98ec0eff438c946853babfb5793e": {
      "model_module": "@jupyter-widgets/controls",
      "model_module_version": "1.5.0",
      "model_name": "HBoxModel",
      "state": {
       "children": [
        "IPY_MODEL_f34f1518f5f14953885c203e7a5f0e16",
        "IPY_MODEL_ca03260481ae492f94be70961e323018"
       ],
       "layout": "IPY_MODEL_f6cd7dc417714b29925dcbf03b8dfe79"
      }
     },
     "91e8667c49874c50ace94c97250966af": {
      "model_module": "@jupyter-widgets/controls",
      "model_module_version": "1.5.0",
      "model_name": "DescriptionStyleModel",
      "state": {
       "description_width": ""
      }
     },
     "91e947ef9a924da48a2b8868bf0c07ff": {
      "model_module": "@jupyter-widgets/controls",
      "model_module_version": "1.5.0",
      "model_name": "HTMLModel",
      "state": {
       "layout": "IPY_MODEL_b42a233c22f242ffa2ebca0008c6e161",
       "style": "IPY_MODEL_32a0429d439c460c9fcd523725a882a2",
       "value": " 74/74 [2:02:03&lt;00:00,  5.52it/s]"
      }
     },
     "91f370c06ec4497ab1118a8223c14a9e": {
      "model_module": "@jupyter-widgets/controls",
      "model_module_version": "1.5.0",
      "model_name": "ProgressStyleModel",
      "state": {
       "description_width": "initial"
      }
     },
     "920398a7f16040fbbef881a9b658f4af": {
      "model_module": "@jupyter-widgets/controls",
      "model_module_version": "1.5.0",
      "model_name": "FloatProgressModel",
      "state": {
       "description": "Train Epoch #9 - loss:   5.719: 100%",
       "layout": "IPY_MODEL_fcda8bb546a24f018a78112a1a4f42b5",
       "max": 589,
       "style": "IPY_MODEL_7ff2454243324666b15d0f53fb61f884",
       "value": 589
      }
     },
     "92081b6d2b084a9c800365b7484b711c": {
      "model_module": "@jupyter-widgets/base",
      "model_module_version": "1.2.0",
      "model_name": "LayoutModel",
      "state": {}
     },
     "922e554b50b2442399e210b46e5c34cf": {
      "model_module": "@jupyter-widgets/base",
      "model_module_version": "1.2.0",
      "model_name": "LayoutModel",
      "state": {}
     },
     "923efc4739c1485392e9a3213d74b504": {
      "model_module": "@jupyter-widgets/controls",
      "model_module_version": "1.5.0",
      "model_name": "HBoxModel",
      "state": {
       "children": [
        "IPY_MODEL_67191c6a924a45f483d2f9640d689f19",
        "IPY_MODEL_32aca9d18cea484f82e0744f7e002955"
       ],
       "layout": "IPY_MODEL_bef133b7175948979c9669394b71e637"
      }
     },
     "924879a7fec14def9c1d13cb50010bf3": {
      "model_module": "@jupyter-widgets/controls",
      "model_module_version": "1.5.0",
      "model_name": "FloatProgressModel",
      "state": {
       "description": "Val Epoch #41 - loss:   7.465: 100%",
       "layout": "IPY_MODEL_3e8bf0081af642ddba4b2b48c787d962",
       "max": 74,
       "style": "IPY_MODEL_2e8e75c2155c4a2a8a3c60caf0164b5d",
       "value": 74
      }
     },
     "924ad360933244089a094bad9c268e4d": {
      "model_module": "@jupyter-widgets/controls",
      "model_module_version": "1.5.0",
      "model_name": "HBoxModel",
      "state": {
       "children": [
        "IPY_MODEL_d7d122f7b3d44530a7d252d6cf2aad82",
        "IPY_MODEL_25c1d6ed30264da688df526ae1738b99"
       ],
       "layout": "IPY_MODEL_46b06d36a7d9492f8b5a55483bdb68bd"
      }
     },
     "92574cec1e584428ad3e0e06d4ca89d5": {
      "model_module": "@jupyter-widgets/controls",
      "model_module_version": "1.5.0",
      "model_name": "ProgressStyleModel",
      "state": {
       "description_width": "initial"
      }
     },
     "9261e48a952a49b3aa0e26c89d21615d": {
      "model_module": "@jupyter-widgets/base",
      "model_module_version": "1.2.0",
      "model_name": "LayoutModel",
      "state": {}
     },
     "926986b07e60454e8892a36930c4cced": {
      "model_module": "@jupyter-widgets/controls",
      "model_module_version": "1.5.0",
      "model_name": "ProgressStyleModel",
      "state": {
       "description_width": "initial"
      }
     },
     "928b6308d42c4303afa01c10fa32d7cb": {
      "model_module": "@jupyter-widgets/base",
      "model_module_version": "1.2.0",
      "model_name": "LayoutModel",
      "state": {}
     },
     "92a5640a527d4c4eb27b467e2394df2a": {
      "model_module": "@jupyter-widgets/base",
      "model_module_version": "1.2.0",
      "model_name": "LayoutModel",
      "state": {}
     },
     "92abd81dd0ac462f8162d9883e3e4aa7": {
      "model_module": "@jupyter-widgets/controls",
      "model_module_version": "1.5.0",
      "model_name": "HTMLModel",
      "state": {
       "layout": "IPY_MODEL_a0a09e300ed044fba3c6c9104f9db648",
       "style": "IPY_MODEL_1032c6859e754984ad47a8f253e4de38",
       "value": " 589/589 [3:45:15&lt;00:00,  2.65it/s]"
      }
     },
     "92d3b89d41ce4292875e8090f88a0068": {
      "model_module": "@jupyter-widgets/controls",
      "model_module_version": "1.5.0",
      "model_name": "ProgressStyleModel",
      "state": {
       "description_width": "initial"
      }
     },
     "92dc9130bdb34f7ead956d5ed3ce4d73": {
      "model_module": "@jupyter-widgets/base",
      "model_module_version": "1.2.0",
      "model_name": "LayoutModel",
      "state": {}
     },
     "92de024dd15747498284752a0fad48e9": {
      "model_module": "@jupyter-widgets/base",
      "model_module_version": "1.2.0",
      "model_name": "LayoutModel",
      "state": {}
     },
     "92f748b9d7934a1a97a1dba95b627b5e": {
      "model_module": "@jupyter-widgets/controls",
      "model_module_version": "1.5.0",
      "model_name": "DescriptionStyleModel",
      "state": {
       "description_width": ""
      }
     },
     "930d1ddc51384b49960cfa8c7cdd4247": {
      "model_module": "@jupyter-widgets/controls",
      "model_module_version": "1.5.0",
      "model_name": "HTMLModel",
      "state": {
       "layout": "IPY_MODEL_69b61fd6a8834f14be6124275d325af2",
       "style": "IPY_MODEL_5949b6c40a854e32ad180d484a801a8a",
       "value": " 74/74 [7:37:43&lt;00:00,  5.51it/s]"
      }
     },
     "932b90524d3a416594b568ecf92e9e2c": {
      "model_module": "@jupyter-widgets/base",
      "model_module_version": "1.2.0",
      "model_name": "LayoutModel",
      "state": {}
     },
     "93571344e56f4691be0a95253173e3b6": {
      "model_module": "@jupyter-widgets/controls",
      "model_module_version": "1.5.0",
      "model_name": "FloatProgressModel",
      "state": {
       "description": "Val Epoch #2 - loss:   9.239: 100%",
       "layout": "IPY_MODEL_85bd981863bc4534b17044b9156baa7c",
       "max": 74,
       "style": "IPY_MODEL_4e60986a15f74395990ea4973cec3440",
       "value": 74
      }
     },
     "936249e1aff74b279b7bf5d1b5e7643a": {
      "model_module": "@jupyter-widgets/base",
      "model_module_version": "1.2.0",
      "model_name": "LayoutModel",
      "state": {}
     },
     "936d0e2875b4461dbd22f68882378fef": {
      "model_module": "@jupyter-widgets/controls",
      "model_module_version": "1.5.0",
      "model_name": "HTMLModel",
      "state": {
       "layout": "IPY_MODEL_1a69e6371aab4665a1416ddfd9a4b6e1",
       "style": "IPY_MODEL_83d4fa89ad3441b3860fd1d562ac28c9",
       "value": " 589/589 [8:40:54&lt;00:00,  3.44it/s]"
      }
     },
     "93a8502401da42caa3e3807684ae53b8": {
      "model_module": "@jupyter-widgets/controls",
      "model_module_version": "1.5.0",
      "model_name": "DescriptionStyleModel",
      "state": {
       "description_width": ""
      }
     },
     "93b28d34a8514964b9393b9467915a26": {
      "model_module": "@jupyter-widgets/controls",
      "model_module_version": "1.5.0",
      "model_name": "HTMLModel",
      "state": {
       "layout": "IPY_MODEL_5bb5b7d2e33d454da5289fe867e64a16",
       "style": "IPY_MODEL_a963efc01d8a43319af2a6527391c474",
       "value": " 74/74 [3:05:14&lt;00:00,  5.25it/s]"
      }
     },
     "93e4d300b2cc4b84a827f9ce901370c0": {
      "model_module": "@jupyter-widgets/controls",
      "model_module_version": "1.5.0",
      "model_name": "DescriptionStyleModel",
      "state": {
       "description_width": ""
      }
     },
     "93e973f7a70f4723bb0a46874a40bd98": {
      "model_module": "@jupyter-widgets/controls",
      "model_module_version": "1.5.0",
      "model_name": "DescriptionStyleModel",
      "state": {
       "description_width": ""
      }
     },
     "93ffebfa137048d9b01feeeec8716961": {
      "model_module": "@jupyter-widgets/controls",
      "model_module_version": "1.5.0",
      "model_name": "FloatProgressModel",
      "state": {
       "description": "Val Epoch #18 - loss:   6.833: 100%",
       "layout": "IPY_MODEL_cfd56b42621c40b592ebf4913aded0f8",
       "max": 74,
       "style": "IPY_MODEL_1bbf56c4decb47c1abe7c565b2bfaad1",
       "value": 74
      }
     },
     "940ac41baffd46febb07692b430c6071": {
      "model_module": "@jupyter-widgets/controls",
      "model_module_version": "1.5.0",
      "model_name": "ProgressStyleModel",
      "state": {
       "description_width": "initial"
      }
     },
     "941ca6ca9ecf418482c9e12a6e4c74d7": {
      "model_module": "@jupyter-widgets/controls",
      "model_module_version": "1.5.0",
      "model_name": "HTMLModel",
      "state": {
       "layout": "IPY_MODEL_fe867a31bbcc44d68e8bc6f2b0064049",
       "style": "IPY_MODEL_17eea5653cce473e9bb651128231d837",
       "value": " 74/74 [1:57:50&lt;00:00,  5.25it/s]"
      }
     },
     "9452da43b0514b789522279185a72f4a": {
      "model_module": "@jupyter-widgets/controls",
      "model_module_version": "1.5.0",
      "model_name": "DescriptionStyleModel",
      "state": {
       "description_width": ""
      }
     },
     "9475dc2fc19c40579300302654fb6c32": {
      "model_module": "@jupyter-widgets/controls",
      "model_module_version": "1.5.0",
      "model_name": "DescriptionStyleModel",
      "state": {
       "description_width": ""
      }
     },
     "947615bc3f84443ab531a5c9c854772c": {
      "model_module": "@jupyter-widgets/controls",
      "model_module_version": "1.5.0",
      "model_name": "FloatProgressModel",
      "state": {
       "description": "Train Epoch #1 - loss:   7.165: 100%",
       "layout": "IPY_MODEL_95b321c1e77d471a933bc7c045913376",
       "max": 589,
       "style": "IPY_MODEL_71afe426b3e748f698884a339c20a828",
       "value": 589
      }
     },
     "94889bd1e4334bcd9f490814277efb9c": {
      "model_module": "@jupyter-widgets/controls",
      "model_module_version": "1.5.0",
      "model_name": "ProgressStyleModel",
      "state": {
       "description_width": "initial"
      }
     },
     "94a9155d3de241bcb857ed3ffc934447": {
      "model_module": "@jupyter-widgets/base",
      "model_module_version": "1.2.0",
      "model_name": "LayoutModel",
      "state": {}
     },
     "957e20e52d1c4ec78ce56bee3788a68c": {
      "model_module": "@jupyter-widgets/base",
      "model_module_version": "1.2.0",
      "model_name": "LayoutModel",
      "state": {}
     },
     "95b321c1e77d471a933bc7c045913376": {
      "model_module": "@jupyter-widgets/base",
      "model_module_version": "1.2.0",
      "model_name": "LayoutModel",
      "state": {}
     },
     "95bbe7e22f484d9f9aea9d09e53393d8": {
      "model_module": "@jupyter-widgets/base",
      "model_module_version": "1.2.0",
      "model_name": "LayoutModel",
      "state": {}
     },
     "95df42e9689b4fe8874d2694d1aed14a": {
      "model_module": "@jupyter-widgets/controls",
      "model_module_version": "1.5.0",
      "model_name": "HBoxModel",
      "state": {
       "children": [
        "IPY_MODEL_2b268b1f5b534cab8fe6e783b522835d",
        "IPY_MODEL_57dbe78f8a894669b26cf5ad6b818a22"
       ],
       "layout": "IPY_MODEL_d02270dcd1fd4af5b05194e9f67783f4"
      }
     },
     "95e518154e90424cb9a00d66f27e9091": {
      "model_module": "@jupyter-widgets/controls",
      "model_module_version": "1.5.0",
      "model_name": "ProgressStyleModel",
      "state": {
       "description_width": "initial"
      }
     },
     "9601627a22dd48bb9929969ea0ab1a74": {
      "model_module": "@jupyter-widgets/base",
      "model_module_version": "1.2.0",
      "model_name": "LayoutModel",
      "state": {}
     },
     "960ab5363c334058be284f3f8c6dd697": {
      "model_module": "@jupyter-widgets/base",
      "model_module_version": "1.2.0",
      "model_name": "LayoutModel",
      "state": {}
     },
     "960ae09711744eb79fbc0c215855f98d": {
      "model_module": "@jupyter-widgets/controls",
      "model_module_version": "1.5.0",
      "model_name": "FloatProgressModel",
      "state": {
       "description": "Val Epoch #36 - loss:    7.24: 100%",
       "layout": "IPY_MODEL_2706b98685d048e48a2f7cb5ec800ff4",
       "max": 74,
       "style": "IPY_MODEL_801c8cc7435241f49301f61a1974fb90",
       "value": 74
      }
     },
     "960e3db23c664449bdc3bb39ec89579b": {
      "model_module": "@jupyter-widgets/controls",
      "model_module_version": "1.5.0",
      "model_name": "DescriptionStyleModel",
      "state": {
       "description_width": ""
      }
     },
     "961b4f581ac94636ab843e4c8db85147": {
      "model_module": "@jupyter-widgets/base",
      "model_module_version": "1.2.0",
      "model_name": "LayoutModel",
      "state": {}
     },
     "961f064752c64f43abf0775311b4d0ac": {
      "model_module": "@jupyter-widgets/controls",
      "model_module_version": "1.5.0",
      "model_name": "FloatProgressModel",
      "state": {
       "description": "Train Epoch #16 - loss:   4.881: 100%",
       "layout": "IPY_MODEL_2c2ad9bcb4604967a3b73f1579374bb7",
       "max": 589,
       "style": "IPY_MODEL_92574cec1e584428ad3e0e06d4ca89d5",
       "value": 589
      }
     },
     "9620e74554c340dead0392caa3cdf6ac": {
      "model_module": "@jupyter-widgets/base",
      "model_module_version": "1.2.0",
      "model_name": "LayoutModel",
      "state": {}
     },
     "9645d14fdfe34e7ba7e64d19bf0a4ed3": {
      "model_module": "@jupyter-widgets/controls",
      "model_module_version": "1.5.0",
      "model_name": "HTMLModel",
      "state": {
       "layout": "IPY_MODEL_99bf17b5387a40fcbc22248d2b0ea07c",
       "style": "IPY_MODEL_e2d732f099fd4abab574beafb62d62a9",
       "value": " 74/74 [4:59:32&lt;00:00,  5.81it/s]"
      }
     },
     "9660e3aaf36643e7bfb75258ed617ccb": {
      "model_module": "@jupyter-widgets/base",
      "model_module_version": "1.2.0",
      "model_name": "LayoutModel",
      "state": {}
     },
     "967d87349f9d4cb681a046768fc8b481": {
      "model_module": "@jupyter-widgets/base",
      "model_module_version": "1.2.0",
      "model_name": "LayoutModel",
      "state": {}
     },
     "968b4af632bb4ef1b5a9a239c604cf38": {
      "model_module": "@jupyter-widgets/controls",
      "model_module_version": "1.5.0",
      "model_name": "HTMLModel",
      "state": {
       "layout": "IPY_MODEL_b7031d34d70840f6ae76397abc679855",
       "style": "IPY_MODEL_1b6f1eefccd24d32b85c14a54d62678e",
       "value": " 74/74 [3:57:11&lt;00:00,  5.51it/s]"
      }
     },
     "96aef360a1ac41558bc1319c227862e4": {
      "model_module": "@jupyter-widgets/controls",
      "model_module_version": "1.5.0",
      "model_name": "FloatProgressModel",
      "state": {
       "description": "Train Epoch #0 - loss:   5.502: 100%",
       "layout": "IPY_MODEL_843f885cae204aed8ce851a716da5d24",
       "max": 589,
       "style": "IPY_MODEL_41c35088a70b484f8c24f235a2d268c8",
       "value": 589
      }
     },
     "96c6c34ae1ec425e9a4f3060c0897b03": {
      "model_module": "@jupyter-widgets/controls",
      "model_module_version": "1.5.0",
      "model_name": "HTMLModel",
      "state": {
       "layout": "IPY_MODEL_8b55558afadd454f86f4d56b32bbaa0c",
       "style": "IPY_MODEL_6e7bc2ba9eef4ba1be3d1e6c29d06ec9",
       "value": " 589/589 [8:51:52&lt;00:00,  3.40it/s]"
      }
     },
     "96ce0415dd014710bd47c906c56dc419": {
      "model_module": "@jupyter-widgets/controls",
      "model_module_version": "1.5.0",
      "model_name": "DescriptionStyleModel",
      "state": {
       "description_width": ""
      }
     },
     "96d21ad5cc074ee9902c2bfe8de3efac": {
      "model_module": "@jupyter-widgets/base",
      "model_module_version": "1.2.0",
      "model_name": "LayoutModel",
      "state": {}
     },
     "96ec1b19611d40a096d95e21774f0381": {
      "model_module": "@jupyter-widgets/controls",
      "model_module_version": "1.5.0",
      "model_name": "HBoxModel",
      "state": {
       "children": [
        "IPY_MODEL_56f8bbf32de24544a957d24f13ec61dc",
        "IPY_MODEL_7e35ff163058427282bdcd20f7b10e0b"
       ],
       "layout": "IPY_MODEL_49d5715217064382b8572133cf52749e"
      }
     },
     "96fedc03f66843ad82fa642b2a01bbeb": {
      "model_module": "@jupyter-widgets/controls",
      "model_module_version": "1.5.0",
      "model_name": "ProgressStyleModel",
      "state": {
       "description_width": "initial"
      }
     },
     "970ac6876b1c4bfcb45b147018042a6b": {
      "model_module": "@jupyter-widgets/base",
      "model_module_version": "1.2.0",
      "model_name": "LayoutModel",
      "state": {}
     },
     "9753231a61594250a5a4b1f3272f7042": {
      "model_module": "@jupyter-widgets/controls",
      "model_module_version": "1.5.0",
      "model_name": "DescriptionStyleModel",
      "state": {
       "description_width": ""
      }
     },
     "9783fd13f5b64dadaa85732c0070a78e": {
      "model_module": "@jupyter-widgets/controls",
      "model_module_version": "1.5.0",
      "model_name": "HTMLModel",
      "state": {
       "layout": "IPY_MODEL_dff8c109dd424a348b224ce38b2ab4f8",
       "style": "IPY_MODEL_0daa7d1f44dd486eb79c26448d53177e",
       "value": " 74/74 [3:45:29&lt;00:00,  5.60it/s]"
      }
     },
     "978c832a07fa40078e8481dda877b17b": {
      "model_module": "@jupyter-widgets/controls",
      "model_module_version": "1.5.0",
      "model_name": "HBoxModel",
      "state": {
       "children": [
        "IPY_MODEL_df7d72aea48847f78047385a4ec8e9d8",
        "IPY_MODEL_65f8a155d88f4015a089638b4ba076b3"
       ],
       "layout": "IPY_MODEL_42bfc9c2e17c4168b27e884280d46cc0"
      }
     },
     "97ada353f5804445ad2d2f3d9914112e": {
      "model_module": "@jupyter-widgets/controls",
      "model_module_version": "1.5.0",
      "model_name": "ProgressStyleModel",
      "state": {
       "description_width": "initial"
      }
     },
     "97b991beb2fb46ea83852ed200ec587b": {
      "model_module": "@jupyter-widgets/controls",
      "model_module_version": "1.5.0",
      "model_name": "DescriptionStyleModel",
      "state": {
       "description_width": ""
      }
     },
     "97c431e461d14938a0637b84945b294a": {
      "model_module": "@jupyter-widgets/controls",
      "model_module_version": "1.5.0",
      "model_name": "HBoxModel",
      "state": {
       "children": [
        "IPY_MODEL_825caa15c91e4cf9be0a111e9da1882f",
        "IPY_MODEL_f52c7f3cf7cc42158a457e1f0f601f4b"
       ],
       "layout": "IPY_MODEL_38597055dba24f00931220b9380f5b52"
      }
     },
     "97d8e207e6a14d439e523449b253db00": {
      "model_module": "@jupyter-widgets/controls",
      "model_module_version": "1.5.0",
      "model_name": "ProgressStyleModel",
      "state": {
       "description_width": "initial"
      }
     },
     "980ec3fe42fd4d67b6618024aebb0582": {
      "model_module": "@jupyter-widgets/controls",
      "model_module_version": "1.5.0",
      "model_name": "DescriptionStyleModel",
      "state": {
       "description_width": ""
      }
     },
     "981c200b21d843fa94404cf8cc101f99": {
      "model_module": "@jupyter-widgets/base",
      "model_module_version": "1.2.0",
      "model_name": "LayoutModel",
      "state": {}
     },
     "98233107441e4f8784d0b4ee594892fd": {
      "model_module": "@jupyter-widgets/controls",
      "model_module_version": "1.5.0",
      "model_name": "HBoxModel",
      "state": {
       "children": [
        "IPY_MODEL_cdbcb61a3e774d7686ba9254cf5433ab",
        "IPY_MODEL_b3fa999f5e0b4775aa77eec9bced5891"
       ],
       "layout": "IPY_MODEL_61ae1972385741d492cbe247fd255ac7"
      }
     },
     "9852ff74816e4c31922547ddf781502d": {
      "model_module": "@jupyter-widgets/controls",
      "model_module_version": "1.5.0",
      "model_name": "HTMLModel",
      "state": {
       "layout": "IPY_MODEL_7b3ea2b9e3524ad1bfe1814a0c8d8fd3",
       "style": "IPY_MODEL_a9a67ad98e4d42a5819eed2f343ceaef",
       "value": " 589/589 [1:15:11&lt;00:00,  2.12it/s]"
      }
     },
     "985a1102639e4363961fd1c8ff6edfd8": {
      "model_module": "@jupyter-widgets/base",
      "model_module_version": "1.2.0",
      "model_name": "LayoutModel",
      "state": {}
     },
     "98961dbffbbe432eaa0f6f24bbf1221d": {
      "model_module": "@jupyter-widgets/controls",
      "model_module_version": "1.5.0",
      "model_name": "HBoxModel",
      "state": {
       "children": [
        "IPY_MODEL_96aef360a1ac41558bc1319c227862e4",
        "IPY_MODEL_e0057eec0eeb47929c04c04d6c55abc7"
       ],
       "layout": "IPY_MODEL_7c4793c321844188aba0ab2c574882c8"
      }
     },
     "98b13359ec054185aa5a495aa54ecb4c": {
      "model_module": "@jupyter-widgets/controls",
      "model_module_version": "1.5.0",
      "model_name": "FloatProgressModel",
      "state": {
       "description": "Train Epoch #13 - loss:   5.238: 100%",
       "layout": "IPY_MODEL_f272a2d3ab0c4b8d89431361eb33f6fd",
       "max": 589,
       "style": "IPY_MODEL_ad6bd80bf43e46b981791a7bb9073696",
       "value": 589
      }
     },
     "98cec6613cfd4b85a4166f9a68632c2e": {
      "model_module": "@jupyter-widgets/controls",
      "model_module_version": "1.5.0",
      "model_name": "DescriptionStyleModel",
      "state": {
       "description_width": ""
      }
     },
     "99183d2a32db4798856b2fd641a7e278": {
      "model_module": "@jupyter-widgets/base",
      "model_module_version": "1.2.0",
      "model_name": "LayoutModel",
      "state": {}
     },
     "991a6175b7734e9a8ae7a6f74c206322": {
      "model_module": "@jupyter-widgets/controls",
      "model_module_version": "1.5.0",
      "model_name": "ProgressStyleModel",
      "state": {
       "description_width": "initial"
      }
     },
     "993305dda0244e4d8ad5044cb428f06b": {
      "model_module": "@jupyter-widgets/controls",
      "model_module_version": "1.5.0",
      "model_name": "HBoxModel",
      "state": {
       "children": [
        "IPY_MODEL_03f617ec42ef4ce1a513661c64af56d8",
        "IPY_MODEL_88f1ebeceeac4912a9d7e6793ad66f20"
       ],
       "layout": "IPY_MODEL_286a37550f5348649c518dee1e123846"
      }
     },
     "99392adc0f6c4aefbe77e2e7e1be024e": {
      "model_module": "@jupyter-widgets/base",
      "model_module_version": "1.2.0",
      "model_name": "LayoutModel",
      "state": {}
     },
     "9946f3adfd9440c595be398ab3d52953": {
      "model_module": "@jupyter-widgets/controls",
      "model_module_version": "1.5.0",
      "model_name": "DescriptionStyleModel",
      "state": {
       "description_width": ""
      }
     },
     "994b0f4bae124cc0b02b8aec2e3e09b1": {
      "model_module": "@jupyter-widgets/controls",
      "model_module_version": "1.5.0",
      "model_name": "HBoxModel",
      "state": {
       "children": [
        "IPY_MODEL_51febc1f560948caabf238967d0882ec",
        "IPY_MODEL_75b588e5e2f6437f842d66dce9abe7b5"
       ],
       "layout": "IPY_MODEL_dd79070928b24cebbe79609aa08675ff"
      }
     },
     "99bf17b5387a40fcbc22248d2b0ea07c": {
      "model_module": "@jupyter-widgets/base",
      "model_module_version": "1.2.0",
      "model_name": "LayoutModel",
      "state": {}
     },
     "99e6ff7ea53a4b0b88f0b922dad5a542": {
      "model_module": "@jupyter-widgets/base",
      "model_module_version": "1.2.0",
      "model_name": "LayoutModel",
      "state": {}
     },
     "99fd23147f3e4c2a92cf97799458d5fa": {
      "model_module": "@jupyter-widgets/controls",
      "model_module_version": "1.5.0",
      "model_name": "ProgressStyleModel",
      "state": {
       "description_width": "initial"
      }
     },
     "9a05c840baa3481782b528dc75a397e8": {
      "model_module": "@jupyter-widgets/controls",
      "model_module_version": "1.5.0",
      "model_name": "HBoxModel",
      "state": {
       "children": [
        "IPY_MODEL_6d43e2c3e4dd430f983da34e16449755",
        "IPY_MODEL_3fac38ecb35f4949908022010950fbc6"
       ],
       "layout": "IPY_MODEL_2b344eb35c1b4294a5394607107d5229"
      }
     },
     "9a0d735659b441b3816a1cb9ea769de4": {
      "model_module": "@jupyter-widgets/controls",
      "model_module_version": "1.5.0",
      "model_name": "FloatProgressModel",
      "state": {
       "description": "Val Epoch #90 - loss:     8.7: 100%",
       "layout": "IPY_MODEL_fb63b985120a431ab72bd5b4195e9003",
       "max": 74,
       "style": "IPY_MODEL_444685c9458a479fbc2b29f548309034",
       "value": 74
      }
     },
     "9a19620b2d94436e992f285196829a95": {
      "model_module": "@jupyter-widgets/base",
      "model_module_version": "1.2.0",
      "model_name": "LayoutModel",
      "state": {}
     },
     "9a2ac9e659524a22a7a59f46a3cf17bd": {
      "model_module": "@jupyter-widgets/controls",
      "model_module_version": "1.5.0",
      "model_name": "DescriptionStyleModel",
      "state": {
       "description_width": ""
      }
     },
     "9a540891cd5c412bbfa297cd361fe62f": {
      "model_module": "@jupyter-widgets/controls",
      "model_module_version": "1.5.0",
      "model_name": "HTMLModel",
      "state": {
       "layout": "IPY_MODEL_c594dd6758d245ebb510d7e9b6adc260",
       "style": "IPY_MODEL_84ab93081a604f8d9f9a8553cc934253",
       "value": " 589/589 [4:00:46&lt;00:00,  2.45it/s]"
      }
     },
     "9a5dcce382b846c8aba6bd3aa488de26": {
      "model_module": "@jupyter-widgets/base",
      "model_module_version": "1.2.0",
      "model_name": "LayoutModel",
      "state": {}
     },
     "9a6a0282268f4aa39991deb8a5d51049": {
      "model_module": "@jupyter-widgets/controls",
      "model_module_version": "1.5.0",
      "model_name": "DescriptionStyleModel",
      "state": {
       "description_width": ""
      }
     },
     "9a95b3a28b1f4e8ea66c961a7b534066": {
      "model_module": "@jupyter-widgets/base",
      "model_module_version": "1.2.0",
      "model_name": "LayoutModel",
      "state": {}
     },
     "9aaae4b48b5346cb9c886beebaaa2456": {
      "model_module": "@jupyter-widgets/controls",
      "model_module_version": "1.5.0",
      "model_name": "HTMLModel",
      "state": {
       "layout": "IPY_MODEL_23baf69d3089441faea56b8c6a09ba80",
       "style": "IPY_MODEL_171a8364323b4fe8a53c1ea7d48494c7",
       "value": " 74/74 [5:26:47&lt;00:00,  5.46it/s]"
      }
     },
     "9b11bbac0fa4411781ae911a16cc8d06": {
      "model_module": "@jupyter-widgets/base",
      "model_module_version": "1.2.0",
      "model_name": "LayoutModel",
      "state": {}
     },
     "9b1845a9289e40f481055f2eff30f2d0": {
      "model_module": "@jupyter-widgets/controls",
      "model_module_version": "1.5.0",
      "model_name": "HTMLModel",
      "state": {
       "layout": "IPY_MODEL_65394a9591e442958624485e5d93366d",
       "style": "IPY_MODEL_0a1ad64a46ab4058976d24e4861193e2",
       "value": " 74/74 [4:34:30&lt;00:00,  5.88it/s]"
      }
     },
     "9b212d1d6e4142c587abffd1b644f9f1": {
      "model_module": "@jupyter-widgets/controls",
      "model_module_version": "1.5.0",
      "model_name": "HBoxModel",
      "state": {
       "children": [
        "IPY_MODEL_85bef85b54584d2e96646090528bf1de",
        "IPY_MODEL_3ccb47b0e9644983b75bb220668a2153"
       ],
       "layout": "IPY_MODEL_c9b467579cfd4affa66419590d1141e3"
      }
     },
     "9b665e449c3842b4bb3461c6569f303b": {
      "model_module": "@jupyter-widgets/controls",
      "model_module_version": "1.5.0",
      "model_name": "DescriptionStyleModel",
      "state": {
       "description_width": ""
      }
     },
     "9b68eec21b4345d0b4e8988e13c7c108": {
      "model_module": "@jupyter-widgets/base",
      "model_module_version": "1.2.0",
      "model_name": "LayoutModel",
      "state": {}
     },
     "9b927c5301f74436bad6bd53890cc64e": {
      "model_module": "@jupyter-widgets/base",
      "model_module_version": "1.2.0",
      "model_name": "LayoutModel",
      "state": {}
     },
     "9b98cf31fa0b45ac93daa4d5c0bd4217": {
      "model_module": "@jupyter-widgets/base",
      "model_module_version": "1.2.0",
      "model_name": "LayoutModel",
      "state": {}
     },
     "9baf25879a914ef6a298250b7d8ee6cd": {
      "model_module": "@jupyter-widgets/base",
      "model_module_version": "1.2.0",
      "model_name": "LayoutModel",
      "state": {}
     },
     "9be3df5cc91445ce952c2ade6daf6d5a": {
      "model_module": "@jupyter-widgets/controls",
      "model_module_version": "1.5.0",
      "model_name": "HBoxModel",
      "state": {
       "children": [
        "IPY_MODEL_669c048a4e1240c7b9508d002cd1a39b",
        "IPY_MODEL_5537be898d8c47aa9458cf671765f6ec"
       ],
       "layout": "IPY_MODEL_c383c77f5fff4639ae7507161c3bd2e6"
      }
     },
     "9c08c75e77384f38b9a99bfdeda337c2": {
      "model_module": "@jupyter-widgets/controls",
      "model_module_version": "1.5.0",
      "model_name": "FloatProgressModel",
      "state": {
       "description": "Val Epoch #5 - loss:   8.911: 100%",
       "layout": "IPY_MODEL_00cb58c6232f4d34997565c886ddf373",
       "max": 74,
       "style": "IPY_MODEL_90db053db8d040f48e06abcfbe105016",
       "value": 74
      }
     },
     "9c41e129b7734cc0b2e53ae147f7511c": {
      "model_module": "@jupyter-widgets/controls",
      "model_module_version": "1.5.0",
      "model_name": "HBoxModel",
      "state": {
       "children": [
        "IPY_MODEL_93571344e56f4691be0a95253173e3b6",
        "IPY_MODEL_53082b9dd4ba40fbaa18eaf4d083063b"
       ],
       "layout": "IPY_MODEL_2cf5ad4bf9e4432a8df6b3abe50f34f5"
      }
     },
     "9c4536424a4543f39b18d7f3a45ac19a": {
      "model_module": "@jupyter-widgets/base",
      "model_module_version": "1.2.0",
      "model_name": "LayoutModel",
      "state": {}
     },
     "9c66efcfa9904f6da1d2560dafdaffa5": {
      "model_module": "@jupyter-widgets/base",
      "model_module_version": "1.2.0",
      "model_name": "LayoutModel",
      "state": {}
     },
     "9c85059c2d2c4f2abb8d499ef3f416dc": {
      "model_module": "@jupyter-widgets/controls",
      "model_module_version": "1.5.0",
      "model_name": "FloatProgressModel",
      "state": {
       "description": "Val Epoch #99 - loss:   8.802: 100%",
       "layout": "IPY_MODEL_5054187f90e34e1aa4c626b62bda1336",
       "max": 74,
       "style": "IPY_MODEL_c64e659c55fd426aa303ae42cbfbd15c",
       "value": 74
      }
     },
     "9c8cbfbfeeae4452b5ab63ca962dba18": {
      "model_module": "@jupyter-widgets/controls",
      "model_module_version": "1.5.0",
      "model_name": "FloatProgressModel",
      "state": {
       "description": "Train Epoch #64 - loss:   1.596: 100%",
       "layout": "IPY_MODEL_27a46105cef541b8b71431df9acf6237",
       "max": 589,
       "style": "IPY_MODEL_376a6176de2a4b00853b98f938d9a2e3",
       "value": 589
      }
     },
     "9c9ed2c79cbf4644855b128560fe1dc8": {
      "model_module": "@jupyter-widgets/controls",
      "model_module_version": "1.5.0",
      "model_name": "HBoxModel",
      "state": {
       "children": [
        "IPY_MODEL_216f6044458c466abfaa6baefed693d9",
        "IPY_MODEL_9a540891cd5c412bbfa297cd361fe62f"
       ],
       "layout": "IPY_MODEL_01262591f1a14c97802c3df55fd60cd7"
      }
     },
     "9ca5c68491d249018da8f9520c3e071e": {
      "model_module": "@jupyter-widgets/base",
      "model_module_version": "1.2.0",
      "model_name": "LayoutModel",
      "state": {}
     },
     "9cadd892459a4c4a96eb72a6b56f55df": {
      "model_module": "@jupyter-widgets/base",
      "model_module_version": "1.2.0",
      "model_name": "LayoutModel",
      "state": {}
     },
     "9cb0df706f194298863506080d951093": {
      "model_module": "@jupyter-widgets/controls",
      "model_module_version": "1.5.0",
      "model_name": "HTMLModel",
      "state": {
       "layout": "IPY_MODEL_fd5d5018e6ef48a5bfd81c0f0f6407ea",
       "style": "IPY_MODEL_b64ca72130f74b34b50c9eef021c6de7",
       "value": " 74/74 [5:29:58&lt;00:00,  5.61it/s]"
      }
     },
     "9cf9a7906ccd4ccb9b1ab2eebd3b91f7": {
      "model_module": "@jupyter-widgets/controls",
      "model_module_version": "1.5.0",
      "model_name": "FloatProgressModel",
      "state": {
       "description": "Train Epoch #76 - loss:   1.431: 100%",
       "layout": "IPY_MODEL_afe6e40baf484b918421fd7ea5cb7ad0",
       "max": 589,
       "style": "IPY_MODEL_a76a0cadadd547f79640039671788fec",
       "value": 589
      }
     },
     "9d38f719be1b4f1897dff4288aa7e8d7": {
      "model_module": "@jupyter-widgets/controls",
      "model_module_version": "1.5.0",
      "model_name": "FloatProgressModel",
      "state": {
       "description": "Val Epoch #14 - loss:   7.302: 100%",
       "layout": "IPY_MODEL_73591e841c0349d1a440351292d160a6",
       "max": 74,
       "style": "IPY_MODEL_ea5e979908b54ca1a7465656e23d4f81",
       "value": 74
      }
     },
     "9d987be475904b9b9979ecf0d747e3db": {
      "model_module": "@jupyter-widgets/controls",
      "model_module_version": "1.5.0",
      "model_name": "FloatProgressModel",
      "state": {
       "description": "Val Epoch #0 - loss:   6.971: 100%",
       "layout": "IPY_MODEL_aeb431b332614024bf53bc13971a84cc",
       "max": 74,
       "style": "IPY_MODEL_8fbc8323a66b4ab581ed9b2cdad064e0",
       "value": 74
      }
     },
     "9d998a6a73b34294b5bf2820e9ce7b71": {
      "model_module": "@jupyter-widgets/controls",
      "model_module_version": "1.5.0",
      "model_name": "FloatProgressModel",
      "state": {
       "description": "Val Epoch #28 - loss:   7.129: 100%",
       "layout": "IPY_MODEL_fad057fe372744e5b86d2f0253a14da7",
       "max": 74,
       "style": "IPY_MODEL_118bd266fe7b4ebdbdacaf6a84784780",
       "value": 74
      }
     },
     "9d9cdad42f954cff9c7ac4e74e2e32cb": {
      "model_module": "@jupyter-widgets/controls",
      "model_module_version": "1.5.0",
      "model_name": "ProgressStyleModel",
      "state": {
       "description_width": "initial"
      }
     },
     "9dbf0636b3a54747a9eab702401a3508": {
      "model_module": "@jupyter-widgets/controls",
      "model_module_version": "1.5.0",
      "model_name": "HBoxModel",
      "state": {
       "children": [
        "IPY_MODEL_9a0d735659b441b3816a1cb9ea769de4",
        "IPY_MODEL_b65d77ca40d046bb9bdc74100bff4aaa"
       ],
       "layout": "IPY_MODEL_0db9fe48fb77417199ac614bdea7a353"
      }
     },
     "9dc5589b605845b0afb3d52d50761efe": {
      "model_module": "@jupyter-widgets/base",
      "model_module_version": "1.2.0",
      "model_name": "LayoutModel",
      "state": {}
     },
     "9de0495714ce411cbd6857676999497e": {
      "model_module": "@jupyter-widgets/base",
      "model_module_version": "1.2.0",
      "model_name": "LayoutModel",
      "state": {}
     },
     "9dec52b4a26b4052b72a95432cfaac64": {
      "model_module": "@jupyter-widgets/controls",
      "model_module_version": "1.5.0",
      "model_name": "DescriptionStyleModel",
      "state": {
       "description_width": ""
      }
     },
     "9dff687bd2a84f2cb0f88a2d12af90b7": {
      "model_module": "@jupyter-widgets/base",
      "model_module_version": "1.2.0",
      "model_name": "LayoutModel",
      "state": {}
     },
     "9e1c83a55c82477b8182aa24ed084621": {
      "model_module": "@jupyter-widgets/controls",
      "model_module_version": "1.5.0",
      "model_name": "HTMLModel",
      "state": {
       "layout": "IPY_MODEL_1e442475f53649f6a704c5f8de1b4dd6",
       "style": "IPY_MODEL_f8f15495df054a21972f32d18c07cf8f",
       "value": " 74/74 [4:16:02&lt;00:00,  5.30it/s]"
      }
     },
     "9e56bd21551646538b74f60318e3892f": {
      "model_module": "@jupyter-widgets/base",
      "model_module_version": "1.2.0",
      "model_name": "LayoutModel",
      "state": {}
     },
     "9e610e3d704142d7b313f34aa5a2b2c5": {
      "model_module": "@jupyter-widgets/controls",
      "model_module_version": "1.5.0",
      "model_name": "HTMLModel",
      "state": {
       "layout": "IPY_MODEL_dce0bd99ebec48e2803a31a031382b21",
       "style": "IPY_MODEL_c6daf6bdce11409e87c85ceb50c4103d",
       "value": " 589/589 [4:48:42&lt;00:00,  2.41it/s]"
      }
     },
     "9e6170db0e884fcab99f47e4e8d5acca": {
      "model_module": "@jupyter-widgets/controls",
      "model_module_version": "1.5.0",
      "model_name": "FloatProgressModel",
      "state": {
       "description": "Train Epoch #51 - loss:   1.947: 100%",
       "layout": "IPY_MODEL_369c1b25c04a48d9a976b5b031ddc528",
       "max": 589,
       "style": "IPY_MODEL_cc7fce022bd44d68b1ab33d9c276d8d3",
       "value": 589
      }
     },
     "9e8eee6f90b5437dbbc3fa88a3d86a05": {
      "model_module": "@jupyter-widgets/controls",
      "model_module_version": "1.5.0",
      "model_name": "HTMLModel",
      "state": {
       "layout": "IPY_MODEL_81c5a36821134acab3d943828e8a7729",
       "style": "IPY_MODEL_7cfa428ba9ea4bd5bedf583d107e9c4e",
       "value": " 74/74 [8:09:17&lt;00:00,  6.65it/s]"
      }
     },
     "9eb55fa10a8647408cac649f1c6462ef": {
      "model_module": "@jupyter-widgets/controls",
      "model_module_version": "1.5.0",
      "model_name": "HBoxModel",
      "state": {
       "children": [
        "IPY_MODEL_85feee6e6b914255bfcdf5d14bd72c28",
        "IPY_MODEL_77f93c8b199542d5ab209da3d448ec7f"
       ],
       "layout": "IPY_MODEL_2a5abea1c20347e5966a501d9d017845"
      }
     },
     "9eb9d638e99f472ca74a8fda74149ab4": {
      "model_module": "@jupyter-widgets/base",
      "model_module_version": "1.2.0",
      "model_name": "LayoutModel",
      "state": {}
     },
     "9ee41cd01f2a4f7ba84e598b07460470": {
      "model_module": "@jupyter-widgets/controls",
      "model_module_version": "1.5.0",
      "model_name": "HBoxModel",
      "state": {
       "children": [
        "IPY_MODEL_3da9194e3d054a908819bc9aadc7f355",
        "IPY_MODEL_b0df86f6bb8046b7845ff397036d81b6"
       ],
       "layout": "IPY_MODEL_213ee906651f4a0a91dc4150e575f369"
      }
     },
     "9f0b61c8236947699dd80f52a2e0413d": {
      "model_module": "@jupyter-widgets/controls",
      "model_module_version": "1.5.0",
      "model_name": "HTMLModel",
      "state": {
       "layout": "IPY_MODEL_f467e56679634f8a8bddf73bacea5504",
       "style": "IPY_MODEL_762de3f577cd4d3fbe8dbc2798dc4bc5",
       "value": " 74/74 [3:41:34&lt;00:00,  5.48it/s]"
      }
     },
     "9f191a37ed0940f79dca01863cec6e92": {
      "model_module": "@jupyter-widgets/controls",
      "model_module_version": "1.5.0",
      "model_name": "DescriptionStyleModel",
      "state": {
       "description_width": ""
      }
     },
     "9f47688f4f674d38a5f917340d720271": {
      "model_module": "@jupyter-widgets/controls",
      "model_module_version": "1.5.0",
      "model_name": "HTMLModel",
      "state": {
       "layout": "IPY_MODEL_4f071a613004430aa3ec06418ba2f525",
       "style": "IPY_MODEL_2a57bc9a102f4e92a669c44ec87b510c",
       "value": " 589/589 [8:19:27&lt;00:00,  3.31it/s]"
      }
     },
     "9f72a755016446da9ac73bdcadcd1cf9": {
      "model_module": "@jupyter-widgets/base",
      "model_module_version": "1.2.0",
      "model_name": "LayoutModel",
      "state": {}
     },
     "9f8b585dc77d48bc9ab809e69961bc6e": {
      "model_module": "@jupyter-widgets/controls",
      "model_module_version": "1.5.0",
      "model_name": "ProgressStyleModel",
      "state": {
       "description_width": "initial"
      }
     },
     "9fbc930d1ce642bdacae2a0c7c307436": {
      "model_module": "@jupyter-widgets/controls",
      "model_module_version": "1.5.0",
      "model_name": "HBoxModel",
      "state": {
       "children": [
        "IPY_MODEL_6579034386904d04b7e05b30f81c9fec",
        "IPY_MODEL_61637810ac1246b19e022700ead22274"
       ],
       "layout": "IPY_MODEL_7a88a0d621514ba3974b7f5f48e2870c"
      }
     },
     "9fbeca5c285a461cb4a396b4e18583fc": {
      "model_module": "@jupyter-widgets/controls",
      "model_module_version": "1.5.0",
      "model_name": "HTMLModel",
      "state": {
       "layout": "IPY_MODEL_fad4e817e23e4e1ebfb1fe4e6d125525",
       "style": "IPY_MODEL_d7c5638f73154b069109a97bf9267db0",
       "value": " 74/74 [8:32:36&lt;00:00,  5.40it/s]"
      }
     },
     "9fd0dddcb0bf40a7bdc1f070667b9dd2": {
      "model_module": "@jupyter-widgets/controls",
      "model_module_version": "1.5.0",
      "model_name": "ProgressStyleModel",
      "state": {
       "description_width": "initial"
      }
     },
     "9fe6b0a8e2a941b18e882ec18923fe05": {
      "model_module": "@jupyter-widgets/base",
      "model_module_version": "1.2.0",
      "model_name": "LayoutModel",
      "state": {}
     },
     "a0151f897db843cba890eebdb30e2960": {
      "model_module": "@jupyter-widgets/controls",
      "model_module_version": "1.5.0",
      "model_name": "DescriptionStyleModel",
      "state": {
       "description_width": ""
      }
     },
     "a025532e3d8241e5857a2cb1bc1e59a8": {
      "model_module": "@jupyter-widgets/controls",
      "model_module_version": "1.5.0",
      "model_name": "ProgressStyleModel",
      "state": {
       "description_width": "initial"
      }
     },
     "a06233148a944a668a4bf5c78b091462": {
      "model_module": "@jupyter-widgets/controls",
      "model_module_version": "1.5.0",
      "model_name": "DescriptionStyleModel",
      "state": {
       "description_width": ""
      }
     },
     "a089073fe31f4e6cbe31c92da02f2506": {
      "model_module": "@jupyter-widgets/base",
      "model_module_version": "1.2.0",
      "model_name": "LayoutModel",
      "state": {}
     },
     "a0a09e300ed044fba3c6c9104f9db648": {
      "model_module": "@jupyter-widgets/base",
      "model_module_version": "1.2.0",
      "model_name": "LayoutModel",
      "state": {}
     },
     "a0d39a4518054f1d9061d05fdc82b7f2": {
      "model_module": "@jupyter-widgets/controls",
      "model_module_version": "1.5.0",
      "model_name": "ProgressStyleModel",
      "state": {
       "description_width": "initial"
      }
     },
     "a101400d0b674ce7bfab09c1e924488c": {
      "model_module": "@jupyter-widgets/controls",
      "model_module_version": "1.5.0",
      "model_name": "DescriptionStyleModel",
      "state": {
       "description_width": ""
      }
     },
     "a10f7dc87da14449aa6b6b160c33a88a": {
      "model_module": "@jupyter-widgets/controls",
      "model_module_version": "1.5.0",
      "model_name": "ProgressStyleModel",
      "state": {
       "description_width": "initial"
      }
     },
     "a1159f94533b4b7abf39ab15e09547f0": {
      "model_module": "@jupyter-widgets/base",
      "model_module_version": "1.2.0",
      "model_name": "LayoutModel",
      "state": {}
     },
     "a11c491e014649e6909b47b043a35c21": {
      "model_module": "@jupyter-widgets/controls",
      "model_module_version": "1.5.0",
      "model_name": "HBoxModel",
      "state": {
       "children": [
        "IPY_MODEL_8abd92940e9f474db19c39f566d2b990",
        "IPY_MODEL_2a39ff23d0fa4122976f4c90528cdc84"
       ],
       "layout": "IPY_MODEL_177f291eef1d424a9a9426ea0156b00c"
      }
     },
     "a11fea4816bc4f52bb0be743182c427b": {
      "model_module": "@jupyter-widgets/controls",
      "model_module_version": "1.5.0",
      "model_name": "ProgressStyleModel",
      "state": {
       "description_width": "initial"
      }
     },
     "a122a72e1b96418b8f27453700ba94bd": {
      "model_module": "@jupyter-widgets/base",
      "model_module_version": "1.2.0",
      "model_name": "LayoutModel",
      "state": {}
     },
     "a12dcd2c435049548f2ca8bd6b7f3c48": {
      "model_module": "@jupyter-widgets/controls",
      "model_module_version": "1.5.0",
      "model_name": "HBoxModel",
      "state": {
       "children": [
        "IPY_MODEL_9c8cbfbfeeae4452b5ab63ca962dba18",
        "IPY_MODEL_8a1207d701f6461da252f2596153f2c5"
       ],
       "layout": "IPY_MODEL_4507e5a1c83a445fab0bfe3fca117a87"
      }
     },
     "a1363c72278d41c4bbdb90e21d6e9c4d": {
      "model_module": "@jupyter-widgets/base",
      "model_module_version": "1.2.0",
      "model_name": "LayoutModel",
      "state": {}
     },
     "a1652c5caf5542ccbf23863b734780d0": {
      "model_module": "@jupyter-widgets/controls",
      "model_module_version": "1.5.0",
      "model_name": "HBoxModel",
      "state": {
       "children": [
        "IPY_MODEL_9d998a6a73b34294b5bf2820e9ce7b71",
        "IPY_MODEL_9cb0df706f194298863506080d951093"
       ],
       "layout": "IPY_MODEL_5c2a6c03f50b4424bd5db643d6c3f27b"
      }
     },
     "a17fba5d87a9439d9f05abc6af5c46e9": {
      "model_module": "@jupyter-widgets/controls",
      "model_module_version": "1.5.0",
      "model_name": "HTMLModel",
      "state": {
       "layout": "IPY_MODEL_3ed00cfd924840f79747a8446a97c3fb",
       "style": "IPY_MODEL_371337ee354443f69c8fab1f3b65aef8",
       "value": " 74/74 [8:01:26&lt;00:00, 11.99it/s]"
      }
     },
     "a184708e88ad40d4bef5a2954012e651": {
      "model_module": "@jupyter-widgets/base",
      "model_module_version": "1.2.0",
      "model_name": "LayoutModel",
      "state": {}
     },
     "a18ae495a0f940d68511777be25179d9": {
      "model_module": "@jupyter-widgets/controls",
      "model_module_version": "1.5.0",
      "model_name": "HTMLModel",
      "state": {
       "layout": "IPY_MODEL_308c138c784b4ac2b37ed9fa3ee16f74",
       "style": "IPY_MODEL_2fb5263460ab41b38e914568ce714875",
       "value": " 589/589 [4:59:17&lt;00:00,  2.46it/s]"
      }
     },
     "a196ca4e0e8e4f34afe9a6077161af5f": {
      "model_module": "@jupyter-widgets/controls",
      "model_module_version": "1.5.0",
      "model_name": "HTMLModel",
      "state": {
       "layout": "IPY_MODEL_da47c1ba76c5418a94ed2e8c53ec8ccc",
       "style": "IPY_MODEL_8c0f626e15884d0d8271e73fe672088f",
       "value": " 589/589 [5:06:14&lt;00:00,  2.50it/s]"
      }
     },
     "a199fabc6be44616993027bad0113d15": {
      "model_module": "@jupyter-widgets/controls",
      "model_module_version": "1.5.0",
      "model_name": "HBoxModel",
      "state": {
       "children": [
        "IPY_MODEL_d66e74aa0ca2416e87bcde39e588cb8e",
        "IPY_MODEL_e2bef2ac3f474a1887d792ceef522a7a"
       ],
       "layout": "IPY_MODEL_59a73c5cc54b418ea4b0a665731ed89e"
      }
     },
     "a1adec5b23ee44b9bbbe8b6cd6b045e2": {
      "model_module": "@jupyter-widgets/controls",
      "model_module_version": "1.5.0",
      "model_name": "HTMLModel",
      "state": {
       "layout": "IPY_MODEL_dde9aa85eff24b20b8593b10eb10133e",
       "style": "IPY_MODEL_b1af453a9a9943f3992663075d302aaf",
       "value": " 74/74 [8:27:45&lt;00:00,  5.85it/s]"
      }
     },
     "a1eb9416f5344a05973d093c2c8b088e": {
      "model_module": "@jupyter-widgets/base",
      "model_module_version": "1.2.0",
      "model_name": "LayoutModel",
      "state": {}
     },
     "a1efaa26569044a1bf114848b0059d83": {
      "model_module": "@jupyter-widgets/controls",
      "model_module_version": "1.5.0",
      "model_name": "ProgressStyleModel",
      "state": {
       "description_width": "initial"
      }
     },
     "a1ff2156b5f740539fc40c856ee4c08e": {
      "model_module": "@jupyter-widgets/controls",
      "model_module_version": "1.5.0",
      "model_name": "HBoxModel",
      "state": {
       "children": [
        "IPY_MODEL_5b501a8a480f42fd8974a885081a35b3",
        "IPY_MODEL_f9b595549f88402c80a0bd50305382d4"
       ],
       "layout": "IPY_MODEL_d716b69ef6eb4fd4baa16d3e7811f166"
      }
     },
     "a202c9ffa93d4eb7b018666e792c4c3e": {
      "model_module": "@jupyter-widgets/controls",
      "model_module_version": "1.5.0",
      "model_name": "ProgressStyleModel",
      "state": {
       "description_width": "initial"
      }
     },
     "a231fbefdb8944f09378b8df73cdfd7c": {
      "model_module": "@jupyter-widgets/base",
      "model_module_version": "1.2.0",
      "model_name": "LayoutModel",
      "state": {}
     },
     "a23f7164abf845039658758176dce62f": {
      "model_module": "@jupyter-widgets/base",
      "model_module_version": "1.2.0",
      "model_name": "LayoutModel",
      "state": {}
     },
     "a24007a8e8184e368f1b37321f94888d": {
      "model_module": "@jupyter-widgets/controls",
      "model_module_version": "1.5.0",
      "model_name": "DescriptionStyleModel",
      "state": {
       "description_width": ""
      }
     },
     "a24eb76df2b9493a9c27d438b913cb1a": {
      "model_module": "@jupyter-widgets/controls",
      "model_module_version": "1.5.0",
      "model_name": "HBoxModel",
      "state": {
       "children": [
        "IPY_MODEL_2bf9c0a954784b44ac85d1c1fe8ce9b9",
        "IPY_MODEL_d29da10e18844a9190bd6cd8d7753cfe"
       ],
       "layout": "IPY_MODEL_e9a3397b37da440084cd5c756e30107f"
      }
     },
     "a2526edff76b46a082c26d6e47a262c5": {
      "model_module": "@jupyter-widgets/controls",
      "model_module_version": "1.5.0",
      "model_name": "HBoxModel",
      "state": {
       "children": [
        "IPY_MODEL_28c3befdc00547f59b95f71290d97836",
        "IPY_MODEL_45919a1763044400938514457852881f"
       ],
       "layout": "IPY_MODEL_33906820954c47f091edde920472aab7"
      }
     },
     "a2570daaed6f4763856f31cd890609a0": {
      "model_module": "@jupyter-widgets/controls",
      "model_module_version": "1.5.0",
      "model_name": "DescriptionStyleModel",
      "state": {
       "description_width": ""
      }
     },
     "a2674842ff354acbb58038b9feb2775b": {
      "model_module": "@jupyter-widgets/controls",
      "model_module_version": "1.5.0",
      "model_name": "HBoxModel",
      "state": {
       "children": [
        "IPY_MODEL_310c43a95c454455bef60f2a419e5421",
        "IPY_MODEL_1b24e3f4a46f47aca2eacf5055c5a541"
       ],
       "layout": "IPY_MODEL_4bb4f33565b4461588aaae53b87fbea4"
      }
     },
     "a269cc7be7c44bd498469690f4913c6e": {
      "model_module": "@jupyter-widgets/controls",
      "model_module_version": "1.5.0",
      "model_name": "HTMLModel",
      "state": {
       "layout": "IPY_MODEL_ea3a2353b6b248ac8f2a366e18cc52f3",
       "style": "IPY_MODEL_508716811a0e4a9695df5379c1e0c854",
       "value": " 589/589 [8:22:09&lt;00:00,  3.43it/s]"
      }
     },
     "a26ef96bad8443b5aec97fd4e46474a1": {
      "model_module": "@jupyter-widgets/controls",
      "model_module_version": "1.5.0",
      "model_name": "HTMLModel",
      "state": {
       "layout": "IPY_MODEL_607f7d7c162b4a6b9a04edcb7483372c",
       "style": "IPY_MODEL_2f8eeb1801274a79b3ad26d3b79a4edb",
       "value": " 74/74 [5:06:30&lt;00:00,  5.49it/s]"
      }
     },
     "a2ca8351c1064a5ba1328c0a42601b21": {
      "model_module": "@jupyter-widgets/controls",
      "model_module_version": "1.5.0",
      "model_name": "FloatProgressModel",
      "state": {
       "description": "Val Epoch #3 - loss:   7.828: 100%",
       "layout": "IPY_MODEL_567ccc3040ad4e8db87b607bd9938fb3",
       "max": 74,
       "style": "IPY_MODEL_361051f330b8401691aa4e91f21bd62a",
       "value": 74
      }
     },
     "a2dbccd2aff1447d8e1370a9d6400352": {
      "model_module": "@jupyter-widgets/controls",
      "model_module_version": "1.5.0",
      "model_name": "ProgressStyleModel",
      "state": {
       "description_width": "initial"
      }
     },
     "a310edd587bd482ab5064c733a6f9b97": {
      "model_module": "@jupyter-widgets/base",
      "model_module_version": "1.2.0",
      "model_name": "LayoutModel",
      "state": {}
     },
     "a38dd07baa5d434cb8c8f60a778b80e2": {
      "model_module": "@jupyter-widgets/base",
      "model_module_version": "1.2.0",
      "model_name": "LayoutModel",
      "state": {}
     },
     "a393fc0ca35f41e6b00fd977202ec1f6": {
      "model_module": "@jupyter-widgets/controls",
      "model_module_version": "1.5.0",
      "model_name": "ProgressStyleModel",
      "state": {
       "description_width": "initial"
      }
     },
     "a3abb46b75c548dda7fa474b616eeed1": {
      "model_module": "@jupyter-widgets/controls",
      "model_module_version": "1.5.0",
      "model_name": "DescriptionStyleModel",
      "state": {
       "description_width": ""
      }
     },
     "a3b45c028d914626a04061dbcb1f4be8": {
      "model_module": "@jupyter-widgets/controls",
      "model_module_version": "1.5.0",
      "model_name": "ProgressStyleModel",
      "state": {
       "description_width": "initial"
      }
     },
     "a3bc474676204145bbefb479e48a60cd": {
      "model_module": "@jupyter-widgets/base",
      "model_module_version": "1.2.0",
      "model_name": "LayoutModel",
      "state": {}
     },
     "a3e3a2ef70fe44a38eb3e734d1778383": {
      "model_module": "@jupyter-widgets/controls",
      "model_module_version": "1.5.0",
      "model_name": "HTMLModel",
      "state": {
       "layout": "IPY_MODEL_86a824adf6784b36a68350539372c91d",
       "style": "IPY_MODEL_9b665e449c3842b4bb3461c6569f303b",
       "value": " 74/74 [9:02:22&lt;00:00,  5.84it/s]"
      }
     },
     "a3f8fe6b8ea1437aab3eb744b7d1bfc8": {
      "model_module": "@jupyter-widgets/base",
      "model_module_version": "1.2.0",
      "model_name": "LayoutModel",
      "state": {}
     },
     "a40d2ef94c1741a88704fc2b00cfe8d6": {
      "model_module": "@jupyter-widgets/base",
      "model_module_version": "1.2.0",
      "model_name": "LayoutModel",
      "state": {}
     },
     "a41061a2f9b14add9986877b3c4353de": {
      "model_module": "@jupyter-widgets/controls",
      "model_module_version": "1.5.0",
      "model_name": "DescriptionStyleModel",
      "state": {
       "description_width": ""
      }
     },
     "a43e2db4d290448aa39735401d940e32": {
      "model_module": "@jupyter-widgets/controls",
      "model_module_version": "1.5.0",
      "model_name": "HBoxModel",
      "state": {
       "children": [
        "IPY_MODEL_3c1d27c8aae54deb95fa02b854ecdba6",
        "IPY_MODEL_93b28d34a8514964b9393b9467915a26"
       ],
       "layout": "IPY_MODEL_552888d1cdad47dcb64981e8bf656a45"
      }
     },
     "a441f26044ee4c178eabf852856fa721": {
      "model_module": "@jupyter-widgets/controls",
      "model_module_version": "1.5.0",
      "model_name": "FloatProgressModel",
      "state": {
       "description": "Val Epoch #16 - loss:   7.173: 100%",
       "layout": "IPY_MODEL_2e6926b9dc314c14925a874ce11e2081",
       "max": 74,
       "style": "IPY_MODEL_769c9c23f7e7487d84c8382f8ccbf22a",
       "value": 74
      }
     },
     "a44dec28003748629c99b733a9e948a7": {
      "model_module": "@jupyter-widgets/controls",
      "model_module_version": "1.5.0",
      "model_name": "HTMLModel",
      "state": {
       "layout": "IPY_MODEL_592419866eb44eb89ac15c298aed6628",
       "style": "IPY_MODEL_c8fd2350d6224338a8345acb18963352",
       "value": " 589/589 [2:39:54&lt;00:00,  2.14it/s]"
      }
     },
     "a462fb94acfd4d64a7373542d94390a3": {
      "model_module": "@jupyter-widgets/controls",
      "model_module_version": "1.5.0",
      "model_name": "FloatProgressModel",
      "state": {
       "description": "Val Epoch #74 - loss:   8.466: 100%",
       "layout": "IPY_MODEL_99183d2a32db4798856b2fd641a7e278",
       "max": 74,
       "style": "IPY_MODEL_b18dbd17a9fe45d0b226fb12cda7ad70",
       "value": 74
      }
     },
     "a4956505976244da9d47426013f8f9d1": {
      "model_module": "@jupyter-widgets/controls",
      "model_module_version": "1.5.0",
      "model_name": "HTMLModel",
      "state": {
       "layout": "IPY_MODEL_fb5d67b68ee44f298ed85ae4727d7aa5",
       "style": "IPY_MODEL_3900acd49bf2485ab1f14336668a3cc9",
       "value": " 589/589 [6:47:35&lt;00:00,  2.71it/s]"
      }
     },
     "a49b38662a5d4afb8056c1fe032120be": {
      "model_module": "@jupyter-widgets/controls",
      "model_module_version": "1.5.0",
      "model_name": "HTMLModel",
      "state": {
       "layout": "IPY_MODEL_f1d06067019a48d9aab383981ba886d4",
       "style": "IPY_MODEL_ad311ed50edb467f8e080c27ac961153",
       "value": " 589/589 [5:39:03&lt;00:00,  2.94it/s]"
      }
     },
     "a4a0cb0c2ed1472592fba099cd86d82d": {
      "model_module": "@jupyter-widgets/controls",
      "model_module_version": "1.5.0",
      "model_name": "DescriptionStyleModel",
      "state": {
       "description_width": ""
      }
     },
     "a4a886c3fdb64bc9b8b3155da471e010": {
      "model_module": "@jupyter-widgets/controls",
      "model_module_version": "1.5.0",
      "model_name": "HBoxModel",
      "state": {
       "children": [
        "IPY_MODEL_54c9063860fe4ffdb9f777a8d702b028",
        "IPY_MODEL_34601a5cef7f48a0b531f067e2fa097c"
       ],
       "layout": "IPY_MODEL_5b2d95298d06457eb0f6c78e004a554a"
      }
     },
     "a4e83cd4e7884b14a9eb750c2d4939a6": {
      "model_module": "@jupyter-widgets/base",
      "model_module_version": "1.2.0",
      "model_name": "LayoutModel",
      "state": {}
     },
     "a4e8ddfa45ad495f901fbddc6ba282af": {
      "model_module": "@jupyter-widgets/controls",
      "model_module_version": "1.5.0",
      "model_name": "DescriptionStyleModel",
      "state": {
       "description_width": ""
      }
     },
     "a5206ca36c5940859dcba13a81ede3c2": {
      "model_module": "@jupyter-widgets/controls",
      "model_module_version": "1.5.0",
      "model_name": "ProgressStyleModel",
      "state": {
       "description_width": "initial"
      }
     },
     "a54c3fad310e4a7bba867e13406f1536": {
      "model_module": "@jupyter-widgets/controls",
      "model_module_version": "1.5.0",
      "model_name": "FloatProgressModel",
      "state": {
       "description": "Train Epoch #55 - loss:   1.812: 100%",
       "layout": "IPY_MODEL_99392adc0f6c4aefbe77e2e7e1be024e",
       "max": 589,
       "style": "IPY_MODEL_dba11b523f124bdf9e05d132ac02fbf5",
       "value": 589
      }
     },
     "a5bba3c8eec24d208bf261d5764f4eb5": {
      "model_module": "@jupyter-widgets/controls",
      "model_module_version": "1.5.0",
      "model_name": "DescriptionStyleModel",
      "state": {
       "description_width": ""
      }
     },
     "a5d5d01eac44499581481a3fa47d7f73": {
      "model_module": "@jupyter-widgets/base",
      "model_module_version": "1.2.0",
      "model_name": "LayoutModel",
      "state": {}
     },
     "a61f61a2c6e3466fa6a7ac9d43af1acf": {
      "model_module": "@jupyter-widgets/controls",
      "model_module_version": "1.5.0",
      "model_name": "ProgressStyleModel",
      "state": {
       "description_width": "initial"
      }
     },
     "a62ef05964144c93b9e11f017f9dad50": {
      "model_module": "@jupyter-widgets/controls",
      "model_module_version": "1.5.0",
      "model_name": "HTMLModel",
      "state": {
       "layout": "IPY_MODEL_5c9942fd3a06492897bf6851cb2fc949",
       "style": "IPY_MODEL_6fee563f552349ec961c700022c260c4",
       "value": " 589/589 [5:48:06&lt;00:00,  3.11it/s]"
      }
     },
     "a637bbd9dd1f4a7e8502b7c9ef032cb2": {
      "model_module": "@jupyter-widgets/base",
      "model_module_version": "1.2.0",
      "model_name": "LayoutModel",
      "state": {}
     },
     "a64e0479d9ce4e7fb60f84b54e047202": {
      "model_module": "@jupyter-widgets/base",
      "model_module_version": "1.2.0",
      "model_name": "LayoutModel",
      "state": {}
     },
     "a6851ae047384bb9a4b310761d517eb2": {
      "model_module": "@jupyter-widgets/controls",
      "model_module_version": "1.5.0",
      "model_name": "HBoxModel",
      "state": {
       "children": [
        "IPY_MODEL_bbfc880b117e412f80f7b6b316bf67b0",
        "IPY_MODEL_85eafbd2c7024e3b88a6c4c651142d9e"
       ],
       "layout": "IPY_MODEL_fcf55125c9d749dbb154590df28d30aa"
      }
     },
     "a6996e5460c944c1912cbd4fb7ccc4ce": {
      "model_module": "@jupyter-widgets/base",
      "model_module_version": "1.2.0",
      "model_name": "LayoutModel",
      "state": {}
     },
     "a6b8c6a8f607447b9b852949122ce629": {
      "model_module": "@jupyter-widgets/controls",
      "model_module_version": "1.5.0",
      "model_name": "DescriptionStyleModel",
      "state": {
       "description_width": ""
      }
     },
     "a6fb7aab60a9401e89df146cc7718a73": {
      "model_module": "@jupyter-widgets/base",
      "model_module_version": "1.2.0",
      "model_name": "LayoutModel",
      "state": {}
     },
     "a7181faea8be4bd389dab783c29d6dfe": {
      "model_module": "@jupyter-widgets/controls",
      "model_module_version": "1.5.0",
      "model_name": "DescriptionStyleModel",
      "state": {
       "description_width": ""
      }
     },
     "a749c2105dba4cd1bab9ad783ceb2802": {
      "model_module": "@jupyter-widgets/controls",
      "model_module_version": "1.5.0",
      "model_name": "FloatProgressModel",
      "state": {
       "description": "Train Epoch #0 - loss:   7.112: 100%",
       "layout": "IPY_MODEL_6f1bb4935a834091a0975b9c7fe9943a",
       "max": 589,
       "style": "IPY_MODEL_dee28e7f7e97444895c4af136bb9d86c",
       "value": 589
      }
     },
     "a7693429cb0f4f0bb1929d4c957f1357": {
      "model_module": "@jupyter-widgets/base",
      "model_module_version": "1.2.0",
      "model_name": "LayoutModel",
      "state": {}
     },
     "a76a0cadadd547f79640039671788fec": {
      "model_module": "@jupyter-widgets/controls",
      "model_module_version": "1.5.0",
      "model_name": "ProgressStyleModel",
      "state": {
       "description_width": "initial"
      }
     },
     "a77d9988586c46c7b130cff1f9b2ba2a": {
      "model_module": "@jupyter-widgets/controls",
      "model_module_version": "1.5.0",
      "model_name": "ProgressStyleModel",
      "state": {
       "description_width": "initial"
      }
     },
     "a793807604074db68d447631ae5c03fd": {
      "model_module": "@jupyter-widgets/controls",
      "model_module_version": "1.5.0",
      "model_name": "ProgressStyleModel",
      "state": {
       "description_width": "initial"
      }
     },
     "a7ef125e35a544e28ef8f20c75b582e6": {
      "model_module": "@jupyter-widgets/controls",
      "model_module_version": "1.5.0",
      "model_name": "FloatProgressModel",
      "state": {
       "description": "Val Epoch #22 - loss:   6.853: 100%",
       "layout": "IPY_MODEL_9f72a755016446da9ac73bdcadcd1cf9",
       "max": 74,
       "style": "IPY_MODEL_13f89919d82e41c18e78d61f399af5d3",
       "value": 74
      }
     },
     "a82eebd102a04bc3b354ebd7c7f96b3b": {
      "model_module": "@jupyter-widgets/controls",
      "model_module_version": "1.5.0",
      "model_name": "ProgressStyleModel",
      "state": {
       "description_width": "initial"
      }
     },
     "a830d810c07b42589b0e90b7ad31904a": {
      "model_module": "@jupyter-widgets/controls",
      "model_module_version": "1.5.0",
      "model_name": "FloatProgressModel",
      "state": {
       "description": "Train Epoch #0 - loss:   7.914: 100%",
       "layout": "IPY_MODEL_c5c3663dd92c4d7fa6c3a0c17b59029b",
       "max": 589,
       "style": "IPY_MODEL_96fedc03f66843ad82fa642b2a01bbeb",
       "value": 589
      }
     },
     "a83614fcddf24ea7b19407021c45fbf2": {
      "model_module": "@jupyter-widgets/controls",
      "model_module_version": "1.5.0",
      "model_name": "DescriptionStyleModel",
      "state": {
       "description_width": ""
      }
     },
     "a83c7378a4f64e188f4a599ed98daad2": {
      "model_module": "@jupyter-widgets/controls",
      "model_module_version": "1.5.0",
      "model_name": "HBoxModel",
      "state": {
       "children": [
        "IPY_MODEL_0ad96651c39147649f32d58d12915910",
        "IPY_MODEL_7c709f8131c34a9cb541a6e69df6862e"
       ],
       "layout": "IPY_MODEL_dedf627b23fe40dbb4e2cf77275f7552"
      }
     },
     "a870f7329b064541bfb8b88c7e17060e": {
      "model_module": "@jupyter-widgets/base",
      "model_module_version": "1.2.0",
      "model_name": "LayoutModel",
      "state": {}
     },
     "a8828015552f4ff3948f2e3ba6f0c367": {
      "model_module": "@jupyter-widgets/controls",
      "model_module_version": "1.5.0",
      "model_name": "FloatProgressModel",
      "state": {
       "description": "Train Epoch #0 - loss:   7.144: 100%",
       "layout": "IPY_MODEL_967d87349f9d4cb681a046768fc8b481",
       "max": 589,
       "style": "IPY_MODEL_e874f784cbb3446d88ec6718eb0e9671",
       "value": 589
      }
     },
     "a8b582befda7461fa754b07f855394c8": {
      "model_module": "@jupyter-widgets/base",
      "model_module_version": "1.2.0",
      "model_name": "LayoutModel",
      "state": {}
     },
     "a8cf2af412c84fc692da9733d8e2d15f": {
      "model_module": "@jupyter-widgets/controls",
      "model_module_version": "1.5.0",
      "model_name": "FloatProgressModel",
      "state": {
       "description": "Val Epoch #68 - loss:   8.372: 100%",
       "layout": "IPY_MODEL_bc22b2b205c24e478de94c4bfa827475",
       "max": 74,
       "style": "IPY_MODEL_a025532e3d8241e5857a2cb1bc1e59a8",
       "value": 74
      }
     },
     "a8d5810eb86447a5a6ec82b0d8da1b49": {
      "model_module": "@jupyter-widgets/controls",
      "model_module_version": "1.5.0",
      "model_name": "ProgressStyleModel",
      "state": {
       "description_width": "initial"
      }
     },
     "a8e5e47a9ab04ff3a0aca8fb55fba862": {
      "model_module": "@jupyter-widgets/controls",
      "model_module_version": "1.5.0",
      "model_name": "HTMLModel",
      "state": {
       "layout": "IPY_MODEL_50d9e28b06bd484d81841a56847001cd",
       "style": "IPY_MODEL_27ed24f7aa04457b83aeda5113d45b76",
       "value": " 74/74 [6:27:47&lt;00:00,  5.09it/s]"
      }
     },
     "a8fc2603cd3945fb9347bc12f7c4627c": {
      "model_module": "@jupyter-widgets/controls",
      "model_module_version": "1.5.0",
      "model_name": "DescriptionStyleModel",
      "state": {
       "description_width": ""
      }
     },
     "a90e04865e0f49398dc75e0fe4c45d55": {
      "model_module": "@jupyter-widgets/controls",
      "model_module_version": "1.5.0",
      "model_name": "FloatProgressModel",
      "state": {
       "description": "Train Epoch #44 - loss:   2.257: 100%",
       "layout": "IPY_MODEL_ba8c9a275eeb45fe99ebed2784d92311",
       "max": 589,
       "style": "IPY_MODEL_05e9f05aa06e47358da96faba8e0beab",
       "value": 589
      }
     },
     "a915cc300e7042028e698b62d89d0af3": {
      "model_module": "@jupyter-widgets/controls",
      "model_module_version": "1.5.0",
      "model_name": "HBoxModel",
      "state": {
       "children": [
        "IPY_MODEL_75394c4c9fdf47d49f7914ee39a8e49d",
        "IPY_MODEL_d4d83b77ecb8407a8a3001fd461abeaf"
       ],
       "layout": "IPY_MODEL_e3c9ae846c354ff9bae8b13c65684544"
      }
     },
     "a91a2f05288142989bedcd1d535a413a": {
      "model_module": "@jupyter-widgets/controls",
      "model_module_version": "1.5.0",
      "model_name": "HBoxModel",
      "state": {
       "children": [
        "IPY_MODEL_90b26c1efba941b19af1f663b8ae98c3",
        "IPY_MODEL_03700cfba1734b498e3ba6dde3e38c02"
       ],
       "layout": "IPY_MODEL_516d08dc67fa42519e3970880702b3d0"
      }
     },
     "a9220385d5c34cf0963df280a2a77972": {
      "model_module": "@jupyter-widgets/controls",
      "model_module_version": "1.5.0",
      "model_name": "DescriptionStyleModel",
      "state": {
       "description_width": ""
      }
     },
     "a938837d57cb4eb38feab865691059a3": {
      "model_module": "@jupyter-widgets/controls",
      "model_module_version": "1.5.0",
      "model_name": "HBoxModel",
      "state": {
       "children": [
        "IPY_MODEL_51efad07aece42859a607252ec5c1fcf",
        "IPY_MODEL_1ca74973edc34ac3afd70e4245d0228b"
       ],
       "layout": "IPY_MODEL_2eebdd362b7746fdaff00e226d3365a5"
      }
     },
     "a94fb3386984444c90ae6957631727a9": {
      "model_module": "@jupyter-widgets/base",
      "model_module_version": "1.2.0",
      "model_name": "LayoutModel",
      "state": {}
     },
     "a95883ee472642689cdd492687f7c3ef": {
      "model_module": "@jupyter-widgets/base",
      "model_module_version": "1.2.0",
      "model_name": "LayoutModel",
      "state": {}
     },
     "a963efc01d8a43319af2a6527391c474": {
      "model_module": "@jupyter-widgets/controls",
      "model_module_version": "1.5.0",
      "model_name": "DescriptionStyleModel",
      "state": {
       "description_width": ""
      }
     },
     "a9912f9af53f498496b63ebcf216502d": {
      "model_module": "@jupyter-widgets/controls",
      "model_module_version": "1.5.0",
      "model_name": "HBoxModel",
      "state": {
       "children": [
        "IPY_MODEL_5caf1cee5a4f4d69b31b953064a33e47",
        "IPY_MODEL_9f0b61c8236947699dd80f52a2e0413d"
       ],
       "layout": "IPY_MODEL_ad715f63a1f143519fcf0b9870f27844"
      }
     },
     "a9929a4856664630918181fae8b7d90b": {
      "model_module": "@jupyter-widgets/base",
      "model_module_version": "1.2.0",
      "model_name": "LayoutModel",
      "state": {}
     },
     "a9a67ad98e4d42a5819eed2f343ceaef": {
      "model_module": "@jupyter-widgets/controls",
      "model_module_version": "1.5.0",
      "model_name": "DescriptionStyleModel",
      "state": {
       "description_width": ""
      }
     },
     "a9e85e6854e54b0a8a6574ed365dd038": {
      "model_module": "@jupyter-widgets/base",
      "model_module_version": "1.2.0",
      "model_name": "LayoutModel",
      "state": {}
     },
     "aa8fd0d34fe54d0ba3ca8c7f54106021": {
      "model_module": "@jupyter-widgets/base",
      "model_module_version": "1.2.0",
      "model_name": "LayoutModel",
      "state": {}
     },
     "aa968b44d72c48deb5e303780a821f08": {
      "model_module": "@jupyter-widgets/controls",
      "model_module_version": "1.5.0",
      "model_name": "HBoxModel",
      "state": {
       "children": [
        "IPY_MODEL_7616e20d823541afa3b01d00e18e2718",
        "IPY_MODEL_eff47cc9cf964d11858301f66a5dfcf5"
       ],
       "layout": "IPY_MODEL_569d51f798b14fb7bee6312ba1401c7c"
      }
     },
     "aa9a6420ab3a439fb7463b44ced2b2bb": {
      "model_module": "@jupyter-widgets/base",
      "model_module_version": "1.2.0",
      "model_name": "LayoutModel",
      "state": {}
     },
     "aaa948b90d1d4815956a94c2c255c5a4": {
      "model_module": "@jupyter-widgets/base",
      "model_module_version": "1.2.0",
      "model_name": "LayoutModel",
      "state": {}
     },
     "aac4e52025244102a59d307209cf7259": {
      "model_module": "@jupyter-widgets/controls",
      "model_module_version": "1.5.0",
      "model_name": "HBoxModel",
      "state": {
       "children": [
        "IPY_MODEL_e99029e9f3c149c790749e0a50a52102",
        "IPY_MODEL_9fbeca5c285a461cb4a396b4e18583fc"
       ],
       "layout": "IPY_MODEL_1ad9c059f3b442c98f0d4d409ad72ac3"
      }
     },
     "aad94831c5a642eaa6e7fe88c3e4359d": {
      "model_module": "@jupyter-widgets/controls",
      "model_module_version": "1.5.0",
      "model_name": "HBoxModel",
      "state": {
       "children": [
        "IPY_MODEL_14b5e8ee1d224c6a9f1b5aaa3ddfe798",
        "IPY_MODEL_21fe34db13a5442bbc6bb3238d5bf909"
       ],
       "layout": "IPY_MODEL_b77999b6cf58420b95eec85080ee75d7"
      }
     },
     "aaedc70dc1ae4e5fabe9ff941059f1b7": {
      "model_module": "@jupyter-widgets/controls",
      "model_module_version": "1.5.0",
      "model_name": "HTMLModel",
      "state": {
       "layout": "IPY_MODEL_48ce8dabe92542218f1c4235cda60fcf",
       "style": "IPY_MODEL_61335aa1666745639f4ee59e0e61029a",
       "value": " 74/74 [8:43:56&lt;00:00,  5.68it/s]"
      }
     },
     "ab2bed0bfad04ec999dcca5b394fc9ef": {
      "model_module": "@jupyter-widgets/controls",
      "model_module_version": "1.5.0",
      "model_name": "HTMLModel",
      "state": {
       "layout": "IPY_MODEL_9baf25879a914ef6a298250b7d8ee6cd",
       "style": "IPY_MODEL_4a13498ee2134d96ae94a2fa484aa72b",
       "value": " 74/74 [8:41:10&lt;00:00,  5.95it/s]"
      }
     },
     "abc47b7d665246bd9370bc875c73157b": {
      "model_module": "@jupyter-widgets/controls",
      "model_module_version": "1.5.0",
      "model_name": "DescriptionStyleModel",
      "state": {
       "description_width": ""
      }
     },
     "abdb3b2b3dfd49b88d3852c64ec93fe6": {
      "model_module": "@jupyter-widgets/base",
      "model_module_version": "1.2.0",
      "model_name": "LayoutModel",
      "state": {}
     },
     "abe3a16273424844b42d042814e24ce3": {
      "model_module": "@jupyter-widgets/controls",
      "model_module_version": "1.5.0",
      "model_name": "HBoxModel",
      "state": {
       "children": [
        "IPY_MODEL_c2c708469cd94885af16579b67f23f1a",
        "IPY_MODEL_60f1ce40a42c46f6aa49aebbbf9c4ddf"
       ],
       "layout": "IPY_MODEL_24c75b01384d4e2a8ae50526fea0d0f9"
      }
     },
     "abe5e8e19f12421ca2709208928bd6d4": {
      "model_module": "@jupyter-widgets/controls",
      "model_module_version": "1.5.0",
      "model_name": "DescriptionStyleModel",
      "state": {
       "description_width": ""
      }
     },
     "abe796fb2a5d44bbb53efb4e87729792": {
      "model_module": "@jupyter-widgets/base",
      "model_module_version": "1.2.0",
      "model_name": "LayoutModel",
      "state": {}
     },
     "abe949812ab741c8858bf5a75b9761e7": {
      "model_module": "@jupyter-widgets/controls",
      "model_module_version": "1.5.0",
      "model_name": "HTMLModel",
      "state": {
       "layout": "IPY_MODEL_fdec684ec54d43088f4765649641e6ee",
       "style": "IPY_MODEL_10d625ab9d6d46ffbf6bab1bcd2b8ef9",
       "value": " 74/74 [2:31:45&lt;00:00,  5.05it/s]"
      }
     },
     "abef7ee76c9e40938636bdbb295c8c70": {
      "model_module": "@jupyter-widgets/controls",
      "model_module_version": "1.5.0",
      "model_name": "ProgressStyleModel",
      "state": {
       "description_width": "initial"
      }
     },
     "ac26abc04da943b0bd9dd1392ad84f0a": {
      "model_module": "@jupyter-widgets/controls",
      "model_module_version": "1.5.0",
      "model_name": "FloatProgressModel",
      "state": {
       "description": "Val Epoch #37 - loss:   7.327: 100%",
       "layout": "IPY_MODEL_192a2b73734f4414a553a2811342489e",
       "max": 74,
       "style": "IPY_MODEL_4a48f984c0884ccab9a6aaf3c48d30c2",
       "value": 74
      }
     },
     "ac7c2671ee9a4d6a9abf1a2efe42f825": {
      "model_module": "@jupyter-widgets/base",
      "model_module_version": "1.2.0",
      "model_name": "LayoutModel",
      "state": {}
     },
     "ac9492dcf1cf4258a10bc2825245161f": {
      "model_module": "@jupyter-widgets/controls",
      "model_module_version": "1.5.0",
      "model_name": "HBoxModel",
      "state": {
       "children": [
        "IPY_MODEL_eebb1044f05940e8925639e63ae3504b",
        "IPY_MODEL_50938ec771fc4c5d9778f14903f09625"
       ],
       "layout": "IPY_MODEL_5b491058f3c8422e965885197c98b9c5"
      }
     },
     "acb5ff84b2cb42569f6c322e3f99d2e1": {
      "model_module": "@jupyter-widgets/base",
      "model_module_version": "1.2.0",
      "model_name": "LayoutModel",
      "state": {}
     },
     "acea97a949fa4d52afd24265060dcfb3": {
      "model_module": "@jupyter-widgets/controls",
      "model_module_version": "1.5.0",
      "model_name": "HBoxModel",
      "state": {
       "children": [
        "IPY_MODEL_68e1cbcfaaf14af89c29fdc88bd339b6",
        "IPY_MODEL_3f660af6eac84a2a865f0da25fe484dd"
       ],
       "layout": "IPY_MODEL_1e9fdf29c57b472b901f83bf32e1f4dd"
      }
     },
     "acf52a6a36d443329f4a90dfcfb52a9e": {
      "model_module": "@jupyter-widgets/base",
      "model_module_version": "1.2.0",
      "model_name": "LayoutModel",
      "state": {}
     },
     "ad311ed50edb467f8e080c27ac961153": {
      "model_module": "@jupyter-widgets/controls",
      "model_module_version": "1.5.0",
      "model_name": "DescriptionStyleModel",
      "state": {
       "description_width": ""
      }
     },
     "ad3b11c39d034ad9a685fa8dfca511ee": {
      "model_module": "@jupyter-widgets/base",
      "model_module_version": "1.2.0",
      "model_name": "LayoutModel",
      "state": {}
     },
     "ad5124d98417446785b025b449486a25": {
      "model_module": "@jupyter-widgets/controls",
      "model_module_version": "1.5.0",
      "model_name": "ProgressStyleModel",
      "state": {
       "description_width": "initial"
      }
     },
     "ad5d890d367d46c69c7b60c40b246d92": {
      "model_module": "@jupyter-widgets/controls",
      "model_module_version": "1.5.0",
      "model_name": "ProgressStyleModel",
      "state": {
       "description_width": "initial"
      }
     },
     "ad6bd80bf43e46b981791a7bb9073696": {
      "model_module": "@jupyter-widgets/controls",
      "model_module_version": "1.5.0",
      "model_name": "ProgressStyleModel",
      "state": {
       "description_width": "initial"
      }
     },
     "ad6d652210e24339931204792259ace2": {
      "model_module": "@jupyter-widgets/controls",
      "model_module_version": "1.5.0",
      "model_name": "HTMLModel",
      "state": {
       "layout": "IPY_MODEL_88ebb26cb1524ceba1f98eff8425bb23",
       "style": "IPY_MODEL_c0a8a0a7288249328d27d226e2d6be57",
       "value": " 589/589 [1:36:26&lt;00:00,  2.16it/s]"
      }
     },
     "ad715f63a1f143519fcf0b9870f27844": {
      "model_module": "@jupyter-widgets/base",
      "model_module_version": "1.2.0",
      "model_name": "LayoutModel",
      "state": {}
     },
     "ad80b5d74de44b85b0d38e19e66d7388": {
      "model_module": "@jupyter-widgets/controls",
      "model_module_version": "1.5.0",
      "model_name": "DescriptionStyleModel",
      "state": {
       "description_width": ""
      }
     },
     "ad879d4ca70a4f7bb862eb7ddab94996": {
      "model_module": "@jupyter-widgets/base",
      "model_module_version": "1.2.0",
      "model_name": "LayoutModel",
      "state": {}
     },
     "ad97222e94ff46e2809683416b4125f7": {
      "model_module": "@jupyter-widgets/base",
      "model_module_version": "1.2.0",
      "model_name": "LayoutModel",
      "state": {}
     },
     "ade38bdd8aad4fd69be2d46ac7ef24cb": {
      "model_module": "@jupyter-widgets/base",
      "model_module_version": "1.2.0",
      "model_name": "LayoutModel",
      "state": {}
     },
     "adf43e9b027d4adca16769ae400c4724": {
      "model_module": "@jupyter-widgets/controls",
      "model_module_version": "1.5.0",
      "model_name": "FloatProgressModel",
      "state": {
       "description": "Val Epoch #5 - loss:   7.665: 100%",
       "layout": "IPY_MODEL_4c864bb852754b3f916e6e95f78d84ad",
       "max": 74,
       "style": "IPY_MODEL_6d0d14ad923a4517940b4b665897dbf6",
       "value": 74
      }
     },
     "adf5bbb163bb4fccbabd601c067070f7": {
      "model_module": "@jupyter-widgets/controls",
      "model_module_version": "1.5.0",
      "model_name": "DescriptionStyleModel",
      "state": {
       "description_width": ""
      }
     },
     "ae07df45f5bf4fe4b70f941e3fcdb8d3": {
      "model_module": "@jupyter-widgets/controls",
      "model_module_version": "1.5.0",
      "model_name": "HBoxModel",
      "state": {
       "children": [
        "IPY_MODEL_db5d768f7c0049c1a895d6b673e374ee",
        "IPY_MODEL_6b8acdb9019b40d087cd2a8dbdab389b"
       ],
       "layout": "IPY_MODEL_be7665b05d5141dbabb373139450791d"
      }
     },
     "ae19350d59644148958629b4f340935d": {
      "model_module": "@jupyter-widgets/controls",
      "model_module_version": "1.5.0",
      "model_name": "ProgressStyleModel",
      "state": {
       "description_width": "initial"
      }
     },
     "ae430b5ce35b47079d83bc71ad26c74e": {
      "model_module": "@jupyter-widgets/base",
      "model_module_version": "1.2.0",
      "model_name": "LayoutModel",
      "state": {}
     },
     "ae85eef3c18d42da8ec67ac7564f57c5": {
      "model_module": "@jupyter-widgets/base",
      "model_module_version": "1.2.0",
      "model_name": "LayoutModel",
      "state": {}
     },
     "ae86af50bfef43008fc8912bf71ad696": {
      "model_module": "@jupyter-widgets/base",
      "model_module_version": "1.2.0",
      "model_name": "LayoutModel",
      "state": {}
     },
     "ae8f0abfceb146c19a402435019814b0": {
      "model_module": "@jupyter-widgets/controls",
      "model_module_version": "1.5.0",
      "model_name": "DescriptionStyleModel",
      "state": {
       "description_width": ""
      }
     },
     "ae974aacc0394bc9ae77403a80dc12d0": {
      "model_module": "@jupyter-widgets/controls",
      "model_module_version": "1.5.0",
      "model_name": "DescriptionStyleModel",
      "state": {
       "description_width": ""
      }
     },
     "aeb431b332614024bf53bc13971a84cc": {
      "model_module": "@jupyter-widgets/base",
      "model_module_version": "1.2.0",
      "model_name": "LayoutModel",
      "state": {}
     },
     "aed7268d239a42ee87226e8ee68a2a00": {
      "model_module": "@jupyter-widgets/controls",
      "model_module_version": "1.5.0",
      "model_name": "HBoxModel",
      "state": {
       "children": [
        "IPY_MODEL_4f144aa43e604fa4b2c95cb36b2fd867",
        "IPY_MODEL_3ab8891a7e2b4caea24aa68ac287d582"
       ],
       "layout": "IPY_MODEL_54ac82b307e54cbdb383c1a1c8e2f74c"
      }
     },
     "aee4a3fc45c64479b4a697b12f5410a4": {
      "model_module": "@jupyter-widgets/base",
      "model_module_version": "1.2.0",
      "model_name": "LayoutModel",
      "state": {}
     },
     "af0f1619b7d04e4a8291818fd34e286f": {
      "model_module": "@jupyter-widgets/base",
      "model_module_version": "1.2.0",
      "model_name": "LayoutModel",
      "state": {}
     },
     "af1afac359e04df7a392d58bbfaacb63": {
      "model_module": "@jupyter-widgets/base",
      "model_module_version": "1.2.0",
      "model_name": "LayoutModel",
      "state": {}
     },
     "af22f8cd950b48fe84c943398399c16e": {
      "model_module": "@jupyter-widgets/controls",
      "model_module_version": "1.5.0",
      "model_name": "DescriptionStyleModel",
      "state": {
       "description_width": ""
      }
     },
     "af3c1621afb94633a397e5131e454faf": {
      "model_module": "@jupyter-widgets/base",
      "model_module_version": "1.2.0",
      "model_name": "LayoutModel",
      "state": {}
     },
     "af466a96568649599a982e036195457a": {
      "model_module": "@jupyter-widgets/base",
      "model_module_version": "1.2.0",
      "model_name": "LayoutModel",
      "state": {}
     },
     "af575b0355c145aea9418e0686ac38e5": {
      "model_module": "@jupyter-widgets/controls",
      "model_module_version": "1.5.0",
      "model_name": "ProgressStyleModel",
      "state": {
       "description_width": "initial"
      }
     },
     "af998c3adad6468d989971441baea682": {
      "model_module": "@jupyter-widgets/base",
      "model_module_version": "1.2.0",
      "model_name": "LayoutModel",
      "state": {}
     },
     "afa620d66d98453dac4b06be02532a26": {
      "model_module": "@jupyter-widgets/controls",
      "model_module_version": "1.5.0",
      "model_name": "ProgressStyleModel",
      "state": {
       "description_width": "initial"
      }
     },
     "afac44ccd7574218b9d6fe74bc7c8105": {
      "model_module": "@jupyter-widgets/controls",
      "model_module_version": "1.5.0",
      "model_name": "FloatProgressModel",
      "state": {
       "description": "Val Epoch #87 - loss:   8.661: 100%",
       "layout": "IPY_MODEL_0d0edcbb4d4f45a7a7c6cc23f9eb15cf",
       "max": 74,
       "style": "IPY_MODEL_e9e6199b02ee4aee94d4bcc6cbc2c5ef",
       "value": 74
      }
     },
     "afe6e40baf484b918421fd7ea5cb7ad0": {
      "model_module": "@jupyter-widgets/base",
      "model_module_version": "1.2.0",
      "model_name": "LayoutModel",
      "state": {}
     },
     "afead963a2454e18bdc5e29ba1a2112a": {
      "model_module": "@jupyter-widgets/controls",
      "model_module_version": "1.5.0",
      "model_name": "DescriptionStyleModel",
      "state": {
       "description_width": ""
      }
     },
     "b04f638c0284416fba561b2184ed43dd": {
      "model_module": "@jupyter-widgets/controls",
      "model_module_version": "1.5.0",
      "model_name": "FloatProgressModel",
      "state": {
       "description": "Val Epoch #7 - loss:   7.737: 100%",
       "layout": "IPY_MODEL_cd6e656624e34fa5a7ea6f73b53e7388",
       "max": 74,
       "style": "IPY_MODEL_612761b5714644d1a035cb4da5901cca",
       "value": 74
      }
     },
     "b0530e1b4c4b49e5978c6ed5fe18ec38": {
      "model_module": "@jupyter-widgets/base",
      "model_module_version": "1.2.0",
      "model_name": "LayoutModel",
      "state": {}
     },
     "b05b76702e014d0781470a8b2762a84d": {
      "model_module": "@jupyter-widgets/base",
      "model_module_version": "1.2.0",
      "model_name": "LayoutModel",
      "state": {}
     },
     "b05f5dc114f44988825ca311189d55eb": {
      "model_module": "@jupyter-widgets/controls",
      "model_module_version": "1.5.0",
      "model_name": "HBoxModel",
      "state": {
       "children": [
        "IPY_MODEL_33c708b442bc48618f7eed1bfce44b7f",
        "IPY_MODEL_968b4af632bb4ef1b5a9a239c604cf38"
       ],
       "layout": "IPY_MODEL_dab6342fa0fb4374ab9784d32255356b"
      }
     },
     "b090f3c4770e4933b2170a45f6615763": {
      "model_module": "@jupyter-widgets/controls",
      "model_module_version": "1.5.0",
      "model_name": "HTMLModel",
      "state": {
       "layout": "IPY_MODEL_81194b8143d14642b77640d6057fdc9f",
       "style": "IPY_MODEL_a4a0cb0c2ed1472592fba099cd86d82d",
       "value": " 589/589 [5:19:58&lt;00:00,  2.67it/s]"
      }
     },
     "b095f819d9cd4490acc30be36e7b4ec3": {
      "model_module": "@jupyter-widgets/controls",
      "model_module_version": "1.5.0",
      "model_name": "HBoxModel",
      "state": {
       "children": [
        "IPY_MODEL_f09b129374ee4290b058563599298871",
        "IPY_MODEL_bbf523824af64e4189c0781024022639"
       ],
       "layout": "IPY_MODEL_c49ed9fd759b47d6a7722caf33cacfc5"
      }
     },
     "b0b34a08f4a04c2eb99f892c638557dd": {
      "model_module": "@jupyter-widgets/controls",
      "model_module_version": "1.5.0",
      "model_name": "HBoxModel",
      "state": {
       "children": [
        "IPY_MODEL_d6f6a3b53c2441d8a47a80a41146c44b",
        "IPY_MODEL_1539b2497a244d7ab7cc168bb0507fe7"
       ],
       "layout": "IPY_MODEL_d40aff7f02fe41208a11e014ce4c59ef"
      }
     },
     "b0df86f6bb8046b7845ff397036d81b6": {
      "model_module": "@jupyter-widgets/controls",
      "model_module_version": "1.5.0",
      "model_name": "HTMLModel",
      "state": {
       "layout": "IPY_MODEL_3ceace26052a4334bdccdcbdb88ce35e",
       "style": "IPY_MODEL_9a2ac9e659524a22a7a59f46a3cf17bd",
       "value": " 589/589 [1:28:00&lt;00:00,  2.16it/s]"
      }
     },
     "b106f5cfc8ef4992a87b99a124817c3e": {
      "model_module": "@jupyter-widgets/controls",
      "model_module_version": "1.5.0",
      "model_name": "HTMLModel",
      "state": {
       "layout": "IPY_MODEL_1e44274fc84f40909dce3a1503012eb5",
       "style": "IPY_MODEL_4df6644d5a274311abac17302846c7f7",
       "value": " 589/589 [2:14:33&lt;00:00,  2.01it/s]"
      }
     },
     "b125eb881c484d77a5499ebbe322ffa4": {
      "model_module": "@jupyter-widgets/controls",
      "model_module_version": "1.5.0",
      "model_name": "ProgressStyleModel",
      "state": {
       "description_width": "initial"
      }
     },
     "b12c23798d1f42a199a29463ced0326b": {
      "model_module": "@jupyter-widgets/controls",
      "model_module_version": "1.5.0",
      "model_name": "DescriptionStyleModel",
      "state": {
       "description_width": ""
      }
     },
     "b17222fa9cdb42c6ae026f72da7a3881": {
      "model_module": "@jupyter-widgets/controls",
      "model_module_version": "1.5.0",
      "model_name": "HBoxModel",
      "state": {
       "children": [
        "IPY_MODEL_8ecfae9c9af6467f93d3d566354ae185",
        "IPY_MODEL_17e377a91b43468982fa365b50d24725"
       ],
       "layout": "IPY_MODEL_928b6308d42c4303afa01c10fa32d7cb"
      }
     },
     "b1722cc1ed8e4b8dbf4346932693fbaa": {
      "model_module": "@jupyter-widgets/base",
      "model_module_version": "1.2.0",
      "model_name": "LayoutModel",
      "state": {}
     },
     "b17edbc6a51c416e99612a58b780983d": {
      "model_module": "@jupyter-widgets/base",
      "model_module_version": "1.2.0",
      "model_name": "LayoutModel",
      "state": {}
     },
     "b18ab03c3bfd4ae59893e2ac5c73ab45": {
      "model_module": "@jupyter-widgets/controls",
      "model_module_version": "1.5.0",
      "model_name": "HTMLModel",
      "state": {
       "layout": "IPY_MODEL_9eb9d638e99f472ca74a8fda74149ab4",
       "style": "IPY_MODEL_ae974aacc0394bc9ae77403a80dc12d0",
       "value": " 74/74 [8:38:20&lt;00:00,  5.94it/s]"
      }
     },
     "b18dbd17a9fe45d0b226fb12cda7ad70": {
      "model_module": "@jupyter-widgets/controls",
      "model_module_version": "1.5.0",
      "model_name": "ProgressStyleModel",
      "state": {
       "description_width": "initial"
      }
     },
     "b1933a6227b7442180c3d9981ab40765": {
      "model_module": "@jupyter-widgets/controls",
      "model_module_version": "1.5.0",
      "model_name": "ProgressStyleModel",
      "state": {
       "description_width": "initial"
      }
     },
     "b1af453a9a9943f3992663075d302aaf": {
      "model_module": "@jupyter-widgets/controls",
      "model_module_version": "1.5.0",
      "model_name": "DescriptionStyleModel",
      "state": {
       "description_width": ""
      }
     },
     "b1e2806ed90049398c3e130f02925bd1": {
      "model_module": "@jupyter-widgets/base",
      "model_module_version": "1.2.0",
      "model_name": "LayoutModel",
      "state": {}
     },
     "b1f114d160594dbd86b9411e55694c2a": {
      "model_module": "@jupyter-widgets/controls",
      "model_module_version": "1.5.0",
      "model_name": "HBoxModel",
      "state": {
       "children": [
        "IPY_MODEL_bbe91d9045a74947815bce7393a901af",
        "IPY_MODEL_92abd81dd0ac462f8162d9883e3e4aa7"
       ],
       "layout": "IPY_MODEL_94a9155d3de241bcb857ed3ffc934447"
      }
     },
     "b21d434e52094fa1a2daa3c4eadd0ff8": {
      "model_module": "@jupyter-widgets/base",
      "model_module_version": "1.2.0",
      "model_name": "LayoutModel",
      "state": {}
     },
     "b235b604fb0148778b0da9abf9ee11b9": {
      "model_module": "@jupyter-widgets/base",
      "model_module_version": "1.2.0",
      "model_name": "LayoutModel",
      "state": {}
     },
     "b25d4d462496402cbf657ec95ca95d47": {
      "model_module": "@jupyter-widgets/controls",
      "model_module_version": "1.5.0",
      "model_name": "HTMLModel",
      "state": {
       "layout": "IPY_MODEL_6c9824f32973456aa82d859166f3c912",
       "style": "IPY_MODEL_ec2cacb51092492c96302c72e38bf2d7",
       "value": " 74/74 [1:15:25&lt;00:00,  5.45it/s]"
      }
     },
     "b26b2799f8274c25a1dd54c84fddf31b": {
      "model_module": "@jupyter-widgets/controls",
      "model_module_version": "1.5.0",
      "model_name": "DescriptionStyleModel",
      "state": {
       "description_width": ""
      }
     },
     "b27506591b174cc884411764f92dcd9d": {
      "model_module": "@jupyter-widgets/controls",
      "model_module_version": "1.5.0",
      "model_name": "DescriptionStyleModel",
      "state": {
       "description_width": ""
      }
     },
     "b27f3b56ba8742968b5e7ceef973d9d7": {
      "model_module": "@jupyter-widgets/controls",
      "model_module_version": "1.5.0",
      "model_name": "FloatProgressModel",
      "state": {
       "description": "Val Epoch #34 - loss:   7.409: 100%",
       "layout": "IPY_MODEL_277374b9027f4272b48ef575c3856cea",
       "max": 74,
       "style": "IPY_MODEL_346645d27bbe43b6a3932cad80b2b08c",
       "value": 74
      }
     },
     "b28b122bf3484123b503351070023070": {
      "model_module": "@jupyter-widgets/controls",
      "model_module_version": "1.5.0",
      "model_name": "ProgressStyleModel",
      "state": {
       "description_width": "initial"
      }
     },
     "b29c6c02c9d7429085047d0ead2eeb49": {
      "model_module": "@jupyter-widgets/controls",
      "model_module_version": "1.5.0",
      "model_name": "HTMLModel",
      "state": {
       "layout": "IPY_MODEL_1a9b2e76338648f4a7dedb772a29729d",
       "style": "IPY_MODEL_02346cc607e44a0690fadb990cf955cc",
       "value": " 589/589 [5:51:04&lt;00:00,  3.09it/s]"
      }
     },
     "b2a1b929a770485e9e55fe40affaf406": {
      "model_module": "@jupyter-widgets/controls",
      "model_module_version": "1.5.0",
      "model_name": "DescriptionStyleModel",
      "state": {
       "description_width": ""
      }
     },
     "b2ad3f12cadb4ee6b85bb36f3c182019": {
      "model_module": "@jupyter-widgets/base",
      "model_module_version": "1.2.0",
      "model_name": "LayoutModel",
      "state": {}
     },
     "b2b3f5d5a7dd4cf7a21f24cc6e75002d": {
      "model_module": "@jupyter-widgets/controls",
      "model_module_version": "1.5.0",
      "model_name": "HBoxModel",
      "state": {
       "children": [
        "IPY_MODEL_66eb95abeb654d5489c19cdf115f7ce4",
        "IPY_MODEL_bb422e12da864ca28030e2729908d7f5"
       ],
       "layout": "IPY_MODEL_af1afac359e04df7a392d58bbfaacb63"
      }
     },
     "b2b9416d65254c35aea47f3e95f0b5f6": {
      "model_module": "@jupyter-widgets/base",
      "model_module_version": "1.2.0",
      "model_name": "LayoutModel",
      "state": {}
     },
     "b2ca8385e02e41ffb35be0dc2d43a70f": {
      "model_module": "@jupyter-widgets/controls",
      "model_module_version": "1.5.0",
      "model_name": "FloatProgressModel",
      "state": {
       "description": "Train Epoch #10 - loss:   6.143: 100%",
       "layout": "IPY_MODEL_9ca5c68491d249018da8f9520c3e071e",
       "max": 589,
       "style": "IPY_MODEL_395e19ffbf3748348ccd0c4c214f31d5",
       "value": 589
      }
     },
     "b2e4f9b1e5ea427c9d151893702cf1bb": {
      "model_module": "@jupyter-widgets/controls",
      "model_module_version": "1.5.0",
      "model_name": "FloatProgressModel",
      "state": {
       "description": "Train Epoch #16 - loss:   5.775: 100%",
       "layout": "IPY_MODEL_e5a06aad90d343a5bafecbdd8d4b1253",
       "max": 589,
       "style": "IPY_MODEL_246b892f638a4714a6cd9120ae5b9ccc",
       "value": 589
      }
     },
     "b2f11b5ccd614995926831ee06f9e1cd": {
      "model_module": "@jupyter-widgets/controls",
      "model_module_version": "1.5.0",
      "model_name": "ProgressStyleModel",
      "state": {
       "description_width": "initial"
      }
     },
     "b2ff7831b5094c1c8fb40527ee921a61": {
      "model_module": "@jupyter-widgets/controls",
      "model_module_version": "1.5.0",
      "model_name": "FloatProgressModel",
      "state": {
       "description": "Train Epoch #9 - loss:    7.12:  71%",
       "layout": "IPY_MODEL_48547498639f4d419328ce21198efd70",
       "max": 589,
       "style": "IPY_MODEL_b988630f881b4316acf1fd220d685f85",
       "value": 418
      }
     },
     "b31d8854b89e455bbd3b609715b81f91": {
      "model_module": "@jupyter-widgets/base",
      "model_module_version": "1.2.0",
      "model_name": "LayoutModel",
      "state": {}
     },
     "b3360209a2d844a8b167af50728be084": {
      "model_module": "@jupyter-widgets/controls",
      "model_module_version": "1.5.0",
      "model_name": "DescriptionStyleModel",
      "state": {
       "description_width": ""
      }
     },
     "b34d3a9f846a423abcf52e3913070e2d": {
      "model_module": "@jupyter-widgets/base",
      "model_module_version": "1.2.0",
      "model_name": "LayoutModel",
      "state": {}
     },
     "b35054ac297c4a4db1215e7c3554ff21": {
      "model_module": "@jupyter-widgets/base",
      "model_module_version": "1.2.0",
      "model_name": "LayoutModel",
      "state": {}
     },
     "b35e968833d94762aaf548212c30fec4": {
      "model_module": "@jupyter-widgets/controls",
      "model_module_version": "1.5.0",
      "model_name": "DescriptionStyleModel",
      "state": {
       "description_width": ""
      }
     },
     "b3a9bf76d511499e9a4bdedecfe2e155": {
      "model_module": "@jupyter-widgets/controls",
      "model_module_version": "1.5.0",
      "model_name": "DescriptionStyleModel",
      "state": {
       "description_width": ""
      }
     },
     "b3aefbc0a5f14b37a6f31012f8822825": {
      "model_module": "@jupyter-widgets/controls",
      "model_module_version": "1.5.0",
      "model_name": "ProgressStyleModel",
      "state": {
       "description_width": "initial"
      }
     },
     "b3e54b63a761457daa3604d5e267dab2": {
      "model_module": "@jupyter-widgets/base",
      "model_module_version": "1.2.0",
      "model_name": "LayoutModel",
      "state": {}
     },
     "b3fa999f5e0b4775aa77eec9bced5891": {
      "model_module": "@jupyter-widgets/controls",
      "model_module_version": "1.5.0",
      "model_name": "HTMLModel",
      "state": {
       "layout": "IPY_MODEL_5a08fdce372b42c4a630202b179cd14f",
       "style": "IPY_MODEL_04ed710270e943f18e5a549c944691b9",
       "value": " 589/589 [5:13:06&lt;00:00,  2.81it/s]"
      }
     },
     "b42a233c22f242ffa2ebca0008c6e161": {
      "model_module": "@jupyter-widgets/base",
      "model_module_version": "1.2.0",
      "model_name": "LayoutModel",
      "state": {}
     },
     "b48852ea9ed24684938906b50ce5d14c": {
      "model_module": "@jupyter-widgets/base",
      "model_module_version": "1.2.0",
      "model_name": "LayoutModel",
      "state": {}
     },
     "b4c447e31b7f420bbe88ab648cf9a1ca": {
      "model_module": "@jupyter-widgets/controls",
      "model_module_version": "1.5.0",
      "model_name": "DescriptionStyleModel",
      "state": {
       "description_width": ""
      }
     },
     "b517db61b3da48e69c4360139f9cde73": {
      "model_module": "@jupyter-widgets/base",
      "model_module_version": "1.2.0",
      "model_name": "LayoutModel",
      "state": {}
     },
     "b52d7804f5d74b5ab85552444e92ea39": {
      "model_module": "@jupyter-widgets/controls",
      "model_module_version": "1.5.0",
      "model_name": "HBoxModel",
      "state": {
       "children": [
        "IPY_MODEL_9c08c75e77384f38b9a99bfdeda337c2",
        "IPY_MODEL_ab2bed0bfad04ec999dcca5b394fc9ef"
       ],
       "layout": "IPY_MODEL_bd124119b6bf454a94f6799166354f45"
      }
     },
     "b53947806cd14fb1b3e176c55fbd8943": {
      "model_module": "@jupyter-widgets/controls",
      "model_module_version": "1.5.0",
      "model_name": "DescriptionStyleModel",
      "state": {
       "description_width": ""
      }
     },
     "b55c18167f6148e7b3f8fc99934101ef": {
      "model_module": "@jupyter-widgets/base",
      "model_module_version": "1.2.0",
      "model_name": "LayoutModel",
      "state": {}
     },
     "b55fae42c9de40e08f256c1bc196de4b": {
      "model_module": "@jupyter-widgets/base",
      "model_module_version": "1.2.0",
      "model_name": "LayoutModel",
      "state": {}
     },
     "b56287ebad6b47aaa79551d84092db86": {
      "model_module": "@jupyter-widgets/controls",
      "model_module_version": "1.5.0",
      "model_name": "HBoxModel",
      "state": {
       "children": [
        "IPY_MODEL_fa5f51285235412ba1fc228b3f81c803",
        "IPY_MODEL_4d8d10d1ac2e42fe96d28c96155c0e44"
       ],
       "layout": "IPY_MODEL_501da8ce56e34d37913958b6e2664a8e"
      }
     },
     "b583b39c722242ce961d601bbb4e5f35": {
      "model_module": "@jupyter-widgets/controls",
      "model_module_version": "1.5.0",
      "model_name": "ProgressStyleModel",
      "state": {
       "description_width": "initial"
      }
     },
     "b5b1876fe62e4e4dab259625e905dd8d": {
      "model_module": "@jupyter-widgets/controls",
      "model_module_version": "1.5.0",
      "model_name": "FloatProgressModel",
      "state": {
       "description": "Train Epoch #78 - loss:   1.412: 100%",
       "layout": "IPY_MODEL_674ae15771334b478cf5bb989af396d3",
       "max": 589,
       "style": "IPY_MODEL_eed786e6d74e4fcd9cfe40b11423082f",
       "value": 589
      }
     },
     "b5f0580cb5464b19ad764c27fb22d936": {
      "model_module": "@jupyter-widgets/controls",
      "model_module_version": "1.5.0",
      "model_name": "ProgressStyleModel",
      "state": {
       "description_width": "initial"
      }
     },
     "b60f2c8819754401aced37597ff2b4ca": {
      "model_module": "@jupyter-widgets/controls",
      "model_module_version": "1.5.0",
      "model_name": "DescriptionStyleModel",
      "state": {
       "description_width": ""
      }
     },
     "b62c74e06ede474281f0bd5e9dbdd225": {
      "model_module": "@jupyter-widgets/controls",
      "model_module_version": "1.5.0",
      "model_name": "DescriptionStyleModel",
      "state": {
       "description_width": ""
      }
     },
     "b636406cf71b478d81997a99a3882e11": {
      "model_module": "@jupyter-widgets/base",
      "model_module_version": "1.2.0",
      "model_name": "LayoutModel",
      "state": {}
     },
     "b6489dba8f64422ea3c87d0ac2c9d557": {
      "model_module": "@jupyter-widgets/controls",
      "model_module_version": "1.5.0",
      "model_name": "ProgressStyleModel",
      "state": {
       "description_width": "initial"
      }
     },
     "b64a763d4c0946b48f2b7f726729a95d": {
      "model_module": "@jupyter-widgets/controls",
      "model_module_version": "1.5.0",
      "model_name": "FloatProgressModel",
      "state": {
       "description": "Val Epoch #11 - loss:    7.52: 100%",
       "layout": "IPY_MODEL_7099fa85d3734c89998c68dc041f3bda",
       "max": 74,
       "style": "IPY_MODEL_8b2bc8072cc34dbd91872c56ef440e21",
       "value": 74
      }
     },
     "b64ca72130f74b34b50c9eef021c6de7": {
      "model_module": "@jupyter-widgets/controls",
      "model_module_version": "1.5.0",
      "model_name": "DescriptionStyleModel",
      "state": {
       "description_width": ""
      }
     },
     "b65d77ca40d046bb9bdc74100bff4aaa": {
      "model_module": "@jupyter-widgets/controls",
      "model_module_version": "1.5.0",
      "model_name": "HTMLModel",
      "state": {
       "layout": "IPY_MODEL_fda12c6000754c408921c0bd6a01df62",
       "style": "IPY_MODEL_6cabbe82f3d8411993f92891ca3497c0",
       "value": " 74/74 [1:28:13&lt;00:00,  5.25it/s]"
      }
     },
     "b6661b49210b4e4b9bf8947ff6544c09": {
      "model_module": "@jupyter-widgets/controls",
      "model_module_version": "1.5.0",
      "model_name": "ProgressStyleModel",
      "state": {
       "description_width": "initial"
      }
     },
     "b674b70146364aa19b37c80865ec9621": {
      "model_module": "@jupyter-widgets/controls",
      "model_module_version": "1.5.0",
      "model_name": "DescriptionStyleModel",
      "state": {
       "description_width": ""
      }
     },
     "b676aae5497741c9919541277e946345": {
      "model_module": "@jupyter-widgets/base",
      "model_module_version": "1.2.0",
      "model_name": "LayoutModel",
      "state": {}
     },
     "b6837e9f201249768c04ee2b378f6b42": {
      "model_module": "@jupyter-widgets/controls",
      "model_module_version": "1.5.0",
      "model_name": "HBoxModel",
      "state": {
       "children": [
        "IPY_MODEL_4c00768e60ed40dab438bff23e56a362",
        "IPY_MODEL_9783fd13f5b64dadaa85732c0070a78e"
       ],
       "layout": "IPY_MODEL_68fbc5a4100e42d591a1787ed26e8a7f"
      }
     },
     "b686294a129849faba114a309ec4253b": {
      "model_module": "@jupyter-widgets/controls",
      "model_module_version": "1.5.0",
      "model_name": "FloatProgressModel",
      "state": {
       "description": "Train Epoch #66 - loss:   1.565: 100%",
       "layout": "IPY_MODEL_78580942d1514ac7be473cb9bf123fab",
       "max": 589,
       "style": "IPY_MODEL_616354c1d5af40a7bcdea0a24db2748b",
       "value": 589
      }
     },
     "b6dddf3eda0947858f17bb3d4b30bc1d": {
      "model_module": "@jupyter-widgets/controls",
      "model_module_version": "1.5.0",
      "model_name": "HBoxModel",
      "state": {
       "children": [
        "IPY_MODEL_236e72d98b6f406087922d3058d78555",
        "IPY_MODEL_65d2275a52d0455888e1cb628a46aab1"
       ],
       "layout": "IPY_MODEL_d0950ffb21fc49828fa17dd414867f35"
      }
     },
     "b6e9492663a04ff8b937efadb6fce102": {
      "model_module": "@jupyter-widgets/controls",
      "model_module_version": "1.5.0",
      "model_name": "HBoxModel",
      "state": {
       "children": [
        "IPY_MODEL_6629de0b62164f28afca60339309848a",
        "IPY_MODEL_e98a72d6a1634a33a7faac66226c4be7"
       ],
       "layout": "IPY_MODEL_a122a72e1b96418b8f27453700ba94bd"
      }
     },
     "b7031d34d70840f6ae76397abc679855": {
      "model_module": "@jupyter-widgets/base",
      "model_module_version": "1.2.0",
      "model_name": "LayoutModel",
      "state": {}
     },
     "b719e0d39afd4625841d9584ad5fc45b": {
      "model_module": "@jupyter-widgets/controls",
      "model_module_version": "1.5.0",
      "model_name": "HTMLModel",
      "state": {
       "layout": "IPY_MODEL_4b1538e7ad8f4c1b88b0742236092c0c",
       "style": "IPY_MODEL_9a6a0282268f4aa39991deb8a5d51049",
       "value": " 589/589 [9:02:09&lt;00:00,  3.30it/s]"
      }
     },
     "b72fd696871b4ebd91f485c876a1340e": {
      "model_module": "@jupyter-widgets/controls",
      "model_module_version": "1.5.0",
      "model_name": "FloatProgressModel",
      "state": {
       "description": "Train Epoch #11 - loss:   6.076: 100%",
       "layout": "IPY_MODEL_d4e8507863ce44a09daed32a3c63e308",
       "max": 589,
       "style": "IPY_MODEL_1ffa0a3024f64f9280f539c2e271e553",
       "value": 589
      }
     },
     "b74ed78499d24fd790c3721562d94011": {
      "model_module": "@jupyter-widgets/controls",
      "model_module_version": "1.5.0",
      "model_name": "FloatProgressModel",
      "state": {
       "description": "Train Epoch #3 - loss:   7.318: 100%",
       "layout": "IPY_MODEL_0217b0221dd041b5b775722ee63a1185",
       "max": 589,
       "style": "IPY_MODEL_12564200b69c49739d5808e4f08156b3",
       "value": 589
      }
     },
     "b75460c2e37a4e89baf825d45e1138cb": {
      "model_module": "@jupyter-widgets/controls",
      "model_module_version": "1.5.0",
      "model_name": "HBoxModel",
      "state": {
       "children": [
        "IPY_MODEL_d64973275513401c975b3aabe068fb82",
        "IPY_MODEL_22cc1e83bffa4a5c971e80bccbe9616d"
       ],
       "layout": "IPY_MODEL_07525e36a49c4064b29fa3c1cb2d73a7"
      }
     },
     "b77999b6cf58420b95eec85080ee75d7": {
      "model_module": "@jupyter-widgets/base",
      "model_module_version": "1.2.0",
      "model_name": "LayoutModel",
      "state": {}
     },
     "b7d8db16596241529bcaaf3fc9de8ccb": {
      "model_module": "@jupyter-widgets/base",
      "model_module_version": "1.2.0",
      "model_name": "LayoutModel",
      "state": {}
     },
     "b80ef460ad194260985e4df66ab90420": {
      "model_module": "@jupyter-widgets/controls",
      "model_module_version": "1.5.0",
      "model_name": "HTMLModel",
      "state": {
       "layout": "IPY_MODEL_3c5fb6c8a6c049bd8925a8beb2553f3b",
       "style": "IPY_MODEL_8710ecedaf9e457a9d3d93c7fe551922",
       "value": " 74/74 [7:34:50&lt;00:00,  4.01it/s]"
      }
     },
     "b8180994f41c4967855018717dfff095": {
      "model_module": "@jupyter-widgets/base",
      "model_module_version": "1.2.0",
      "model_name": "LayoutModel",
      "state": {}
     },
     "b85ad7431e4d489fa5cb01509dfcf8c5": {
      "model_module": "@jupyter-widgets/base",
      "model_module_version": "1.2.0",
      "model_name": "LayoutModel",
      "state": {}
     },
     "b85c44732ae5446facbd799c6c20f873": {
      "model_module": "@jupyter-widgets/base",
      "model_module_version": "1.2.0",
      "model_name": "LayoutModel",
      "state": {}
     },
     "b86a5fed05454ecf8e4d08a4d1500f2b": {
      "model_module": "@jupyter-widgets/controls",
      "model_module_version": "1.5.0",
      "model_name": "DescriptionStyleModel",
      "state": {
       "description_width": ""
      }
     },
     "b8747f4f477b4f6d914271b20fd56a74": {
      "model_module": "@jupyter-widgets/controls",
      "model_module_version": "1.5.0",
      "model_name": "HTMLModel",
      "state": {
       "layout": "IPY_MODEL_5e037112edc04ebdb1f8c2482b2ba730",
       "style": "IPY_MODEL_27b252e2550e432ab263486c9eafc02f",
       "value": " 589/589 [6:20:35&lt;00:00,  2.70it/s]"
      }
     },
     "b88ba63ea0524c7ea07950d6a4d379cf": {
      "model_module": "@jupyter-widgets/base",
      "model_module_version": "1.2.0",
      "model_name": "LayoutModel",
      "state": {}
     },
     "b8a1180b9d54465b8d88d0f4ddd6d8c4": {
      "model_module": "@jupyter-widgets/controls",
      "model_module_version": "1.5.0",
      "model_name": "ProgressStyleModel",
      "state": {
       "description_width": "initial"
      }
     },
     "b8b9a8a7131f4464abb9cbc94a2733e4": {
      "model_module": "@jupyter-widgets/base",
      "model_module_version": "1.2.0",
      "model_name": "LayoutModel",
      "state": {}
     },
     "b8dc518b01d8445cae25d52fa89bb502": {
      "model_module": "@jupyter-widgets/controls",
      "model_module_version": "1.5.0",
      "model_name": "HBoxModel",
      "state": {
       "children": [
        "IPY_MODEL_bff55cdfe12a460a9e6a846070928a4f",
        "IPY_MODEL_c2c06f27037e42709db221d2f434da65"
       ],
       "layout": "IPY_MODEL_221c0d96f1c54705818a3c3503619b14"
      }
     },
     "b8fefb1b49b044849e664b3c32456d2f": {
      "model_module": "@jupyter-widgets/base",
      "model_module_version": "1.2.0",
      "model_name": "LayoutModel",
      "state": {}
     },
     "b91da857b9b1437a90eaafcc02cc80b1": {
      "model_module": "@jupyter-widgets/controls",
      "model_module_version": "1.5.0",
      "model_name": "HTMLModel",
      "state": {
       "layout": "IPY_MODEL_2598915d46754cfbaea619dd0630bcdd",
       "style": "IPY_MODEL_cf45e12745004f359c0e207958ffdca1",
       "value": " 589/589 [7:48:58&lt;00:00,  3.31it/s]"
      }
     },
     "b92ae8c37d3c427d9f415d4c6ebffc16": {
      "model_module": "@jupyter-widgets/controls",
      "model_module_version": "1.5.0",
      "model_name": "DescriptionStyleModel",
      "state": {
       "description_width": ""
      }
     },
     "b936549777764717b629ef2ee5ab0ae5": {
      "model_module": "@jupyter-widgets/controls",
      "model_module_version": "1.5.0",
      "model_name": "DescriptionStyleModel",
      "state": {
       "description_width": ""
      }
     },
     "b949982347d74a50981cc4d0ac5b82be": {
      "model_module": "@jupyter-widgets/controls",
      "model_module_version": "1.5.0",
      "model_name": "HTMLModel",
      "state": {
       "layout": "IPY_MODEL_3353d5affcfc4cedb7e160c83ef5a997",
       "style": "IPY_MODEL_0581bd6d206c4aefa19c993abd238b52",
       "value": " 589/589 [4:45:09&lt;00:00,  2.49it/s]"
      }
     },
     "b957001f927d4163961367d2746895fb": {
      "model_module": "@jupyter-widgets/base",
      "model_module_version": "1.2.0",
      "model_name": "LayoutModel",
      "state": {}
     },
     "b95d63604475462393605d0cb2fba02a": {
      "model_module": "@jupyter-widgets/base",
      "model_module_version": "1.2.0",
      "model_name": "LayoutModel",
      "state": {}
     },
     "b9604fecdb4749438bca23f0b0022342": {
      "model_module": "@jupyter-widgets/controls",
      "model_module_version": "1.5.0",
      "model_name": "ProgressStyleModel",
      "state": {
       "description_width": "initial"
      }
     },
     "b988630f881b4316acf1fd220d685f85": {
      "model_module": "@jupyter-widgets/controls",
      "model_module_version": "1.5.0",
      "model_name": "ProgressStyleModel",
      "state": {
       "description_width": "initial"
      }
     },
     "b9894ee2f27b4ac78a91b2f627f89a11": {
      "model_module": "@jupyter-widgets/controls",
      "model_module_version": "1.5.0",
      "model_name": "FloatProgressModel",
      "state": {
       "description": "Train Epoch #46 - loss:   2.155: 100%",
       "layout": "IPY_MODEL_d32d36459094440fa7562eec0ccc1447",
       "max": 589,
       "style": "IPY_MODEL_a3b45c028d914626a04061dbcb1f4be8",
       "value": 589
      }
     },
     "b990ef01d6d747258c27fcb37948824d": {
      "model_module": "@jupyter-widgets/controls",
      "model_module_version": "1.5.0",
      "model_name": "FloatProgressModel",
      "state": {
       "description": "Train Epoch #21 - loss:   4.288: 100%",
       "layout": "IPY_MODEL_1c1696e979174229aa9174423fb9367f",
       "max": 589,
       "style": "IPY_MODEL_a77d9988586c46c7b130cff1f9b2ba2a",
       "value": 589
      }
     },
     "b999c5636ee3437381b7a07502258594": {
      "model_module": "@jupyter-widgets/controls",
      "model_module_version": "1.5.0",
      "model_name": "DescriptionStyleModel",
      "state": {
       "description_width": ""
      }
     },
     "b99b9a35868c40c8abe699318891e422": {
      "model_module": "@jupyter-widgets/controls",
      "model_module_version": "1.5.0",
      "model_name": "FloatProgressModel",
      "state": {
       "description": "Train Epoch #42 - loss:   2.368: 100%",
       "layout": "IPY_MODEL_0e17b0c53a0e49739edef3c6587dba6d",
       "max": 589,
       "style": "IPY_MODEL_607fac198b3e46e2b9e2be377337e94a",
       "value": 589
      }
     },
     "b9b82e7647294bd8b7cfa51144a93c3d": {
      "model_module": "@jupyter-widgets/controls",
      "model_module_version": "1.5.0",
      "model_name": "DescriptionStyleModel",
      "state": {
       "description_width": ""
      }
     },
     "b9c0840a6d2942a8a264fc0031d4537e": {
      "model_module": "@jupyter-widgets/base",
      "model_module_version": "1.2.0",
      "model_name": "LayoutModel",
      "state": {}
     },
     "b9ce2817dbe84ce7b48c6af60bafa1ff": {
      "model_module": "@jupyter-widgets/controls",
      "model_module_version": "1.5.0",
      "model_name": "FloatProgressModel",
      "state": {
       "description": "Train Epoch #32 - loss:   3.113: 100%",
       "layout": "IPY_MODEL_7a0ecfe1154444f3bca93be79157dd3e",
       "max": 589,
       "style": "IPY_MODEL_4955a51622c4479786d0ded45701921d",
       "value": 589
      }
     },
     "b9d33dde84e545c7856ff5fdc3c62882": {
      "model_module": "@jupyter-widgets/base",
      "model_module_version": "1.2.0",
      "model_name": "LayoutModel",
      "state": {}
     },
     "b9e009c8c96a41bbbbed1b9d88306229": {
      "model_module": "@jupyter-widgets/controls",
      "model_module_version": "1.5.0",
      "model_name": "HTMLModel",
      "state": {
       "layout": "IPY_MODEL_dd99cda1f2f14d55bd36a4c2104f3bc6",
       "style": "IPY_MODEL_f2a43c36a75a4233b6fa40dacaa58d0c",
       "value": " 589/589 [7:34:34&lt;00:00,  3.26it/s]"
      }
     },
     "b9e3172695b546ae944c6ab44e204b78": {
      "model_module": "@jupyter-widgets/controls",
      "model_module_version": "1.5.0",
      "model_name": "HBoxModel",
      "state": {
       "children": [
        "IPY_MODEL_469bc88bb4ac4bfdb2f762ceb668cc08",
        "IPY_MODEL_0de8abf159844fa6ac9a7c8162f0659e"
       ],
       "layout": "IPY_MODEL_ad879d4ca70a4f7bb862eb7ddab94996"
      }
     },
     "b9e33b99ada0467e89d32ed3f0852965": {
      "model_module": "@jupyter-widgets/base",
      "model_module_version": "1.2.0",
      "model_name": "LayoutModel",
      "state": {}
     },
     "ba54eb743ef4465ebe170017948eece7": {
      "model_module": "@jupyter-widgets/controls",
      "model_module_version": "1.5.0",
      "model_name": "HTMLModel",
      "state": {
       "layout": "IPY_MODEL_36eeeeb8e19d486c82e7ebbb0e5a3534",
       "style": "IPY_MODEL_4cb5f23dc306410d89006bba0daa0e30",
       "value": " 589/589 [1:44:51&lt;00:00,  2.13it/s]"
      }
     },
     "ba580831051c468b9200353a03c49352": {
      "model_module": "@jupyter-widgets/controls",
      "model_module_version": "1.5.0",
      "model_name": "FloatProgressModel",
      "state": {
       "description": "Val Epoch #21 - loss:   6.829: 100%",
       "layout": "IPY_MODEL_84b5e83ed3f349b4a5926237f6eb8ba7",
       "max": 74,
       "style": "IPY_MODEL_12efb9755314456f875632168fe65d31",
       "value": 74
      }
     },
     "ba5a0229489d406891e05c60e4f95b1a": {
      "model_module": "@jupyter-widgets/base",
      "model_module_version": "1.2.0",
      "model_name": "LayoutModel",
      "state": {}
     },
     "ba5b47301be0442180be41748e17ba27": {
      "model_module": "@jupyter-widgets/controls",
      "model_module_version": "1.5.0",
      "model_name": "HBoxModel",
      "state": {
       "children": [
        "IPY_MODEL_c2535ebb7d7d4e6ead76f3fa1410e857",
        "IPY_MODEL_1a35091ce69442108adaa4699ffcb055"
       ],
       "layout": "IPY_MODEL_b31d8854b89e455bbd3b609715b81f91"
      }
     },
     "ba7e9b3b1fd34049b3bd6dcbbdcdb862": {
      "model_module": "@jupyter-widgets/controls",
      "model_module_version": "1.5.0",
      "model_name": "HBoxModel",
      "state": {
       "children": [
        "IPY_MODEL_e6a98cf7e6ee4721a44d7f3fdd030c38",
        "IPY_MODEL_2cd098f9609240809b50987ee5cba2e0"
       ],
       "layout": "IPY_MODEL_63bd11b966dc46f28163073e9cd9142c"
      }
     },
     "ba841106594148b2ad2c4ff1a101f986": {
      "model_module": "@jupyter-widgets/base",
      "model_module_version": "1.2.0",
      "model_name": "LayoutModel",
      "state": {}
     },
     "ba8c46e6992e4c75b817cc5b5d712109": {
      "model_module": "@jupyter-widgets/base",
      "model_module_version": "1.2.0",
      "model_name": "LayoutModel",
      "state": {}
     },
     "ba8c9a275eeb45fe99ebed2784d92311": {
      "model_module": "@jupyter-widgets/base",
      "model_module_version": "1.2.0",
      "model_name": "LayoutModel",
      "state": {}
     },
     "baa9b04e2ada42fd99e7de1d2945f90c": {
      "model_module": "@jupyter-widgets/base",
      "model_module_version": "1.2.0",
      "model_name": "LayoutModel",
      "state": {}
     },
     "badbbf0789ef459ea8dd6d4a6a4ff6e4": {
      "model_module": "@jupyter-widgets/controls",
      "model_module_version": "1.5.0",
      "model_name": "HBoxModel",
      "state": {
       "children": [
        "IPY_MODEL_01694262bb654a3bb0d0b927da5bfe4b",
        "IPY_MODEL_51f08f30dbc740e083b72ab628c78365"
       ],
       "layout": "IPY_MODEL_cbb7c41af89545879a501c9e17189977"
      }
     },
     "bb07f7efc60f400c8cda24f45fe69fe1": {
      "model_module": "@jupyter-widgets/controls",
      "model_module_version": "1.5.0",
      "model_name": "ProgressStyleModel",
      "state": {
       "description_width": "initial"
      }
     },
     "bb3c6ac9e3014d7a98c0af14718f59d0": {
      "model_module": "@jupyter-widgets/controls",
      "model_module_version": "1.5.0",
      "model_name": "HTMLModel",
      "state": {
       "layout": "IPY_MODEL_51453e4bdb384a69b7121b2034d83023",
       "style": "IPY_MODEL_abc47b7d665246bd9370bc875c73157b",
       "value": " 74/74 [8:59:39&lt;00:00,  5.87it/s]"
      }
     },
     "bb3d5341dccc4b2a93ebc71486d08468": {
      "model_module": "@jupyter-widgets/base",
      "model_module_version": "1.2.0",
      "model_name": "LayoutModel",
      "state": {}
     },
     "bb422e12da864ca28030e2729908d7f5": {
      "model_module": "@jupyter-widgets/controls",
      "model_module_version": "1.5.0",
      "model_name": "HTMLModel",
      "state": {
       "layout": "IPY_MODEL_51bf9e84984445adbd2f7c23799e49df",
       "style": "IPY_MODEL_43b7e71aedab460cbde1a87995ce57ca",
       "value": " 589/589 [5:29:42&lt;00:00,  2.80it/s]"
      }
     },
     "bb530a2871d14986888879645c7ecf71": {
      "model_module": "@jupyter-widgets/base",
      "model_module_version": "1.2.0",
      "model_name": "LayoutModel",
      "state": {}
     },
     "bb6d1f8f621f49368c3232debe983e55": {
      "model_module": "@jupyter-widgets/controls",
      "model_module_version": "1.5.0",
      "model_name": "ProgressStyleModel",
      "state": {
       "description_width": "initial"
      }
     },
     "bbb160eb67684d4c9185317cc54e0b5a": {
      "model_module": "@jupyter-widgets/base",
      "model_module_version": "1.2.0",
      "model_name": "LayoutModel",
      "state": {}
     },
     "bbc6c06fc27940959609743877011f19": {
      "model_module": "@jupyter-widgets/base",
      "model_module_version": "1.2.0",
      "model_name": "LayoutModel",
      "state": {}
     },
     "bbe91d9045a74947815bce7393a901af": {
      "model_module": "@jupyter-widgets/controls",
      "model_module_version": "1.5.0",
      "model_name": "FloatProgressModel",
      "state": {
       "description": "Train Epoch #58 - loss:    1.73: 100%",
       "layout": "IPY_MODEL_1c6b45ecabe0476e8ee0ac443dbc1c12",
       "max": 589,
       "style": "IPY_MODEL_f8dafdc5e1e7493eb20f8b603f60ab4d",
       "value": 589
      }
     },
     "bbf523824af64e4189c0781024022639": {
      "model_module": "@jupyter-widgets/controls",
      "model_module_version": "1.5.0",
      "model_name": "HTMLModel",
      "state": {
       "layout": "IPY_MODEL_87a76ecb48f04b2791b16a0ecf5adfff",
       "style": "IPY_MODEL_d1046f838a3f4940aeffd5e0ad884a23",
       "value": " 589/589 [3:00:52&lt;00:00,  2.32it/s]"
      }
     },
     "bbfc880b117e412f80f7b6b316bf67b0": {
      "model_module": "@jupyter-widgets/controls",
      "model_module_version": "1.5.0",
      "model_name": "FloatProgressModel",
      "state": {
       "description": "Train Epoch #30 - loss:   3.302: 100%",
       "layout": "IPY_MODEL_d91ea6cc4f3741b9bb10f124d2cd6df5",
       "max": 589,
       "style": "IPY_MODEL_752ee94c1cd44a95bf642d65a69e8869",
       "value": 589
      }
     },
     "bc04dd6127bc4aefa4e764a8376a6f52": {
      "model_module": "@jupyter-widgets/controls",
      "model_module_version": "1.5.0",
      "model_name": "HTMLModel",
      "state": {
       "layout": "IPY_MODEL_10e075a167914b0589ec2435d27b7596",
       "style": "IPY_MODEL_41d1714b2b55484cb6f4299efcc57b69",
       "value": " 74/74 [4:56:01&lt;00:00,  5.62it/s]"
      }
     },
     "bc22b2b205c24e478de94c4bfa827475": {
      "model_module": "@jupyter-widgets/base",
      "model_module_version": "1.2.0",
      "model_name": "LayoutModel",
      "state": {}
     },
     "bc32285cbfb64e718c3bdee5aeac1d90": {
      "model_module": "@jupyter-widgets/base",
      "model_module_version": "1.2.0",
      "model_name": "LayoutModel",
      "state": {}
     },
     "bc32b047e87f46568d1d2c82de76483c": {
      "model_module": "@jupyter-widgets/base",
      "model_module_version": "1.2.0",
      "model_name": "LayoutModel",
      "state": {}
     },
     "bc3769d25c9f4d8aa2b12a5f7ea45ecd": {
      "model_module": "@jupyter-widgets/controls",
      "model_module_version": "1.5.0",
      "model_name": "DescriptionStyleModel",
      "state": {
       "description_width": ""
      }
     },
     "bc395d1b4cb046148de720a2ad08a0e3": {
      "model_module": "@jupyter-widgets/controls",
      "model_module_version": "1.5.0",
      "model_name": "ProgressStyleModel",
      "state": {
       "description_width": "initial"
      }
     },
     "bc43da4ac641480198743f11f2039a93": {
      "model_module": "@jupyter-widgets/base",
      "model_module_version": "1.2.0",
      "model_name": "LayoutModel",
      "state": {}
     },
     "bc6afd81dd3b4231a391b037c3c99e9f": {
      "model_module": "@jupyter-widgets/base",
      "model_module_version": "1.2.0",
      "model_name": "LayoutModel",
      "state": {}
     },
     "bc78ff750a2c48a0bc704e0a95bf161b": {
      "model_module": "@jupyter-widgets/base",
      "model_module_version": "1.2.0",
      "model_name": "LayoutModel",
      "state": {}
     },
     "bc7da27f4c7041a79fd1a5e1b17a0d97": {
      "model_module": "@jupyter-widgets/base",
      "model_module_version": "1.2.0",
      "model_name": "LayoutModel",
      "state": {}
     },
     "bcd4cbe559734c4b941eb9f06e6afd2a": {
      "model_module": "@jupyter-widgets/controls",
      "model_module_version": "1.5.0",
      "model_name": "FloatProgressModel",
      "state": {
       "description": "Train Epoch #83 - loss:   1.371: 100%",
       "layout": "IPY_MODEL_4071deabe30f4cd6ad32a6571b0be28a",
       "max": 589,
       "style": "IPY_MODEL_6947569cffc447c9843405997f39b6ad",
       "value": 589
      }
     },
     "bce765c37be04b9e9e35fb9860b04e78": {
      "model_module": "@jupyter-widgets/controls",
      "model_module_version": "1.5.0",
      "model_name": "HBoxModel",
      "state": {
       "children": [
        "IPY_MODEL_e93e7c89ae9a4c41a34c7a157ea9fc9f",
        "IPY_MODEL_8ddf2ba237e142beb4428f6b53c1da08"
       ],
       "layout": "IPY_MODEL_c5a01045f564454b93a10c70981dfdc9"
      }
     },
     "bcf65d2c344c4df6bd62c1abcce22770": {
      "model_module": "@jupyter-widgets/controls",
      "model_module_version": "1.5.0",
      "model_name": "FloatProgressModel",
      "state": {
       "description": "Train Epoch #1 - loss:   7.149: 100%",
       "layout": "IPY_MODEL_44bb0ca781034d6ba3e88fb0667d39fc",
       "max": 589,
       "style": "IPY_MODEL_27ca15d0b7b44b22afdac5df4f690d6a",
       "value": 589
      }
     },
     "bcff7af7ed164edc9fa717f391944d67": {
      "model_module": "@jupyter-widgets/controls",
      "model_module_version": "1.5.0",
      "model_name": "ProgressStyleModel",
      "state": {
       "description_width": "initial"
      }
     },
     "bd124119b6bf454a94f6799166354f45": {
      "model_module": "@jupyter-widgets/base",
      "model_module_version": "1.2.0",
      "model_name": "LayoutModel",
      "state": {}
     },
     "bd30fa41a6be423bbbf228867b813850": {
      "model_module": "@jupyter-widgets/controls",
      "model_module_version": "1.5.0",
      "model_name": "DescriptionStyleModel",
      "state": {
       "description_width": ""
      }
     },
     "bd5f77c7aaf34efb83cb27fd560d9448": {
      "model_module": "@jupyter-widgets/base",
      "model_module_version": "1.2.0",
      "model_name": "LayoutModel",
      "state": {}
     },
     "bd8678baaa094fffa931353e9b845cff": {
      "model_module": "@jupyter-widgets/controls",
      "model_module_version": "1.5.0",
      "model_name": "HBoxModel",
      "state": {
       "children": [
        "IPY_MODEL_b72fd696871b4ebd91f485c876a1340e",
        "IPY_MODEL_b91da857b9b1437a90eaafcc02cc80b1"
       ],
       "layout": "IPY_MODEL_b957001f927d4163961367d2746895fb"
      }
     },
     "bd869a90082749ae9d5335e6d19b49f3": {
      "model_module": "@jupyter-widgets/base",
      "model_module_version": "1.2.0",
      "model_name": "LayoutModel",
      "state": {}
     },
     "bd9fa18b9f9a4b7abb7c81f2c579875c": {
      "model_module": "@jupyter-widgets/base",
      "model_module_version": "1.2.0",
      "model_name": "LayoutModel",
      "state": {}
     },
     "bdc21c74ae0f4fb88c373be8c0c4b14b": {
      "model_module": "@jupyter-widgets/base",
      "model_module_version": "1.2.0",
      "model_name": "LayoutModel",
      "state": {}
     },
     "be18bbe4758e4563872e707b2ef8188f": {
      "model_module": "@jupyter-widgets/base",
      "model_module_version": "1.2.0",
      "model_name": "LayoutModel",
      "state": {}
     },
     "be7665b05d5141dbabb373139450791d": {
      "model_module": "@jupyter-widgets/base",
      "model_module_version": "1.2.0",
      "model_name": "LayoutModel",
      "state": {}
     },
     "be88148d8a8a4190813da1072cd06a01": {
      "model_module": "@jupyter-widgets/controls",
      "model_module_version": "1.5.0",
      "model_name": "HBoxModel",
      "state": {
       "children": [
        "IPY_MODEL_d71accb7394a4645b7205e0a2e46a27d",
        "IPY_MODEL_91461c2946ef4338804ee641804bed1c"
       ],
       "layout": "IPY_MODEL_0164b0e219da41ba873f4b3e344c8e2a"
      }
     },
     "be9d750c396e44aca774aa98cf93115d": {
      "model_module": "@jupyter-widgets/base",
      "model_module_version": "1.2.0",
      "model_name": "LayoutModel",
      "state": {}
     },
     "beb9562479b6462090d3609604aaeb41": {
      "model_module": "@jupyter-widgets/base",
      "model_module_version": "1.2.0",
      "model_name": "LayoutModel",
      "state": {}
     },
     "bedfc047613943899bfd2b61e30db323": {
      "model_module": "@jupyter-widgets/controls",
      "model_module_version": "1.5.0",
      "model_name": "HTMLModel",
      "state": {
       "layout": "IPY_MODEL_bc78ff750a2c48a0bc704e0a95bf161b",
       "style": "IPY_MODEL_2b8c740d8d9a4fdbb18e36294a526c4f",
       "value": " 589/589 [6:11:01&lt;00:00,  3.24it/s]"
      }
     },
     "bef133b7175948979c9669394b71e637": {
      "model_module": "@jupyter-widgets/base",
      "model_module_version": "1.2.0",
      "model_name": "LayoutModel",
      "state": {}
     },
     "bf0f55057b33454ea66cb795b8f5d70e": {
      "model_module": "@jupyter-widgets/controls",
      "model_module_version": "1.5.0",
      "model_name": "HBoxModel",
      "state": {
       "children": [
        "IPY_MODEL_0655bad732a9453a83e9b02db8fa872c",
        "IPY_MODEL_f1689d042f4f4a4886ce67487933789a"
       ],
       "layout": "IPY_MODEL_c06e0d17fae04e4e8bd18416df36c66d"
      }
     },
     "bf50c54ce6f54a6b8766c42aa183a5fe": {
      "model_module": "@jupyter-widgets/base",
      "model_module_version": "1.2.0",
      "model_name": "LayoutModel",
      "state": {}
     },
     "bfa86d50a1d24c3887ba72fdddbc9c82": {
      "model_module": "@jupyter-widgets/controls",
      "model_module_version": "1.5.0",
      "model_name": "FloatProgressModel",
      "state": {
       "description": "Train Epoch #52 - loss:   1.909: 100%",
       "layout": "IPY_MODEL_af3c1621afb94633a397e5131e454faf",
       "max": 589,
       "style": "IPY_MODEL_0723d0856ef44836adb7b07ab5d69239",
       "value": 589
      }
     },
     "bfbbde3dfbc5473aa00a01b930f09020": {
      "model_module": "@jupyter-widgets/controls",
      "model_module_version": "1.5.0",
      "model_name": "ProgressStyleModel",
      "state": {
       "description_width": "initial"
      }
     },
     "bfc56768d3c04edc9eaf7720c053cfe5": {
      "model_module": "@jupyter-widgets/controls",
      "model_module_version": "1.5.0",
      "model_name": "HBoxModel",
      "state": {
       "children": [
        "IPY_MODEL_22213eccb57e451fbc2a1d52a909dbf1",
        "IPY_MODEL_0752922c796942d29d6d8315b0e7288c"
       ],
       "layout": "IPY_MODEL_2e8b92b194384186a8747362d6a89eb2"
      }
     },
     "bff55cdfe12a460a9e6a846070928a4f": {
      "model_module": "@jupyter-widgets/controls",
      "model_module_version": "1.5.0",
      "model_name": "FloatProgressModel",
      "state": {
       "description": "Val Epoch #9 - loss:   7.627: 100%",
       "layout": "IPY_MODEL_d989bbe5b80a4fb6b849095c11b02030",
       "max": 74,
       "style": "IPY_MODEL_a393fc0ca35f41e6b00fd977202ec1f6",
       "value": 74
      }
     },
     "c045d7c594db4b3186b5970b05a94b7b": {
      "model_module": "@jupyter-widgets/controls",
      "model_module_version": "1.5.0",
      "model_name": "DescriptionStyleModel",
      "state": {
       "description_width": ""
      }
     },
     "c04bdce2fd384e9f85ea5faa5a6a2022": {
      "model_module": "@jupyter-widgets/base",
      "model_module_version": "1.2.0",
      "model_name": "LayoutModel",
      "state": {}
     },
     "c056e5f391074d95861f3d52ade4e869": {
      "model_module": "@jupyter-widgets/base",
      "model_module_version": "1.2.0",
      "model_name": "LayoutModel",
      "state": {}
     },
     "c06e0d17fae04e4e8bd18416df36c66d": {
      "model_module": "@jupyter-widgets/base",
      "model_module_version": "1.2.0",
      "model_name": "LayoutModel",
      "state": {}
     },
     "c075c15302bd4da5ab34419c0e16911d": {
      "model_module": "@jupyter-widgets/controls",
      "model_module_version": "1.5.0",
      "model_name": "HBoxModel",
      "state": {
       "children": [
        "IPY_MODEL_4035984302724672959acf1290dd68b5",
        "IPY_MODEL_8f50b50ee16f44fba8e2c8d51e8ded88"
       ],
       "layout": "IPY_MODEL_ff2639b5a6744312b4e297785e3e0f13"
      }
     },
     "c086a25fdfa84c6e9e1a4e03c57a59cd": {
      "model_module": "@jupyter-widgets/base",
      "model_module_version": "1.2.0",
      "model_name": "LayoutModel",
      "state": {}
     },
     "c0a188ba81e74e14a03cd296ce813676": {
      "model_module": "@jupyter-widgets/controls",
      "model_module_version": "1.5.0",
      "model_name": "ProgressStyleModel",
      "state": {
       "description_width": "initial"
      }
     },
     "c0a8a0a7288249328d27d226e2d6be57": {
      "model_module": "@jupyter-widgets/controls",
      "model_module_version": "1.5.0",
      "model_name": "DescriptionStyleModel",
      "state": {
       "description_width": ""
      }
     },
     "c0b859674144435592980bf5052f5051": {
      "model_module": "@jupyter-widgets/base",
      "model_module_version": "1.2.0",
      "model_name": "LayoutModel",
      "state": {}
     },
     "c0cfb11838e145e3929d6d5e38220920": {
      "model_module": "@jupyter-widgets/controls",
      "model_module_version": "1.5.0",
      "model_name": "DescriptionStyleModel",
      "state": {
       "description_width": ""
      }
     },
     "c10eefa2c7074ca8be9fbe726c83ac02": {
      "model_module": "@jupyter-widgets/controls",
      "model_module_version": "1.5.0",
      "model_name": "FloatProgressModel",
      "state": {
       "description": "Train Epoch #87 - loss:   1.342: 100%",
       "layout": "IPY_MODEL_367fdf31a98844d292853c4c59f40c75",
       "max": 589,
       "style": "IPY_MODEL_86cab94c1ce64954966f81e01ea833c5",
       "value": 589
      }
     },
     "c1362a5f037243be821622d6ceb8c948": {
      "model_module": "@jupyter-widgets/controls",
      "model_module_version": "1.5.0",
      "model_name": "FloatProgressModel",
      "state": {
       "description": "Train Epoch #20 - loss:   4.405: 100%",
       "layout": "IPY_MODEL_9601627a22dd48bb9929969ea0ab1a74",
       "max": 589,
       "style": "IPY_MODEL_89cff10b4253450aa5777a1dd031ec9c",
       "value": 589
      }
     },
     "c1553311cc584ca8ac69747bfe436cf9": {
      "model_module": "@jupyter-widgets/controls",
      "model_module_version": "1.5.0",
      "model_name": "ProgressStyleModel",
      "state": {
       "description_width": "initial"
      }
     },
     "c158b0cf319c4ec1905df21d7f5c22f9": {
      "model_module": "@jupyter-widgets/controls",
      "model_module_version": "1.5.0",
      "model_name": "HBoxModel",
      "state": {
       "children": [
        "IPY_MODEL_f2d2798c924042dd8120995c34279130",
        "IPY_MODEL_817318ed72fa4f379bdd6050c3214d17"
       ],
       "layout": "IPY_MODEL_7edb874fba154602ad8ea01a41a86dc6"
      }
     },
     "c1ef9734d0dd437695297ed02a6f2bd7": {
      "model_module": "@jupyter-widgets/controls",
      "model_module_version": "1.5.0",
      "model_name": "DescriptionStyleModel",
      "state": {
       "description_width": ""
      }
     },
     "c2378734340e4583871be0a8aac7ed1a": {
      "model_module": "@jupyter-widgets/controls",
      "model_module_version": "1.5.0",
      "model_name": "ProgressStyleModel",
      "state": {
       "description_width": "initial"
      }
     },
     "c2535ebb7d7d4e6ead76f3fa1410e857": {
      "model_module": "@jupyter-widgets/controls",
      "model_module_version": "1.5.0",
      "model_name": "FloatProgressModel",
      "state": {
       "description": "Train Epoch #90 - loss:   1.327: 100%",
       "layout": "IPY_MODEL_b1e2806ed90049398c3e130f02925bd1",
       "max": 589,
       "style": "IPY_MODEL_2cac886eacb14a1aab227758fb70254f",
       "value": 589
      }
     },
     "c2893e0ea79f4b37b652b3aeca35f0f9": {
      "model_module": "@jupyter-widgets/controls",
      "model_module_version": "1.5.0",
      "model_name": "HBoxModel",
      "state": {
       "children": [
        "IPY_MODEL_c5ef47ca6aa54f619f2b63f2b46a9acd",
        "IPY_MODEL_0c6b5cedaf2e407b89aea7b7dd772513"
       ],
       "layout": "IPY_MODEL_ff4a26d16203484d8d43fb10ea1499d1"
      }
     },
     "c28c2ceb85e14c1c9d91813321f83fcb": {
      "model_module": "@jupyter-widgets/controls",
      "model_module_version": "1.5.0",
      "model_name": "FloatProgressModel",
      "state": {
       "description": "Train Epoch #45 - loss:   2.204: 100%",
       "layout": "IPY_MODEL_c9851e469ec040c3957f8e454bfa4541",
       "max": 589,
       "style": "IPY_MODEL_3146ed856c1a47c397a32f68c6529c3d",
       "value": 589
      }
     },
     "c29775e52eb44c4b893e779a75e29e61": {
      "model_module": "@jupyter-widgets/controls",
      "model_module_version": "1.5.0",
      "model_name": "FloatProgressModel",
      "state": {
       "description": "Val Epoch #91 - loss:   8.718: 100%",
       "layout": "IPY_MODEL_cd86cf1cb38c462c9bdad237ff7ed91b",
       "max": 74,
       "style": "IPY_MODEL_1b4fb35ff86e4316bfa6029cfe1113a0",
       "value": 74
      }
     },
     "c2c06f27037e42709db221d2f434da65": {
      "model_module": "@jupyter-widgets/controls",
      "model_module_version": "1.5.0",
      "model_name": "HTMLModel",
      "state": {
       "layout": "IPY_MODEL_1504b5a257ca4b46bcc821547c122716",
       "style": "IPY_MODEL_f6a969e8e2634117b5d143772263b7ba",
       "value": " 74/74 [7:51:05&lt;00:00, 11.90it/s]"
      }
     },
     "c2c708469cd94885af16579b67f23f1a": {
      "model_module": "@jupyter-widgets/controls",
      "model_module_version": "1.5.0",
      "model_name": "FloatProgressModel",
      "state": {
       "description": "Val Epoch #72 - loss:   8.449: 100%",
       "layout": "IPY_MODEL_12fd537463f744f8af3aeff3085e56e4",
       "max": 74,
       "style": "IPY_MODEL_6002988899914a81a5f0ecf7efca7221",
       "value": 74
      }
     },
     "c301a65493c34a029250aeaca278c2f3": {
      "model_module": "@jupyter-widgets/controls",
      "model_module_version": "1.5.0",
      "model_name": "ProgressStyleModel",
      "state": {
       "description_width": "initial"
      }
     },
     "c326565d628c4e26854d1de1709c0132": {
      "model_module": "@jupyter-widgets/controls",
      "model_module_version": "1.5.0",
      "model_name": "ProgressStyleModel",
      "state": {
       "description_width": "initial"
      }
     },
     "c349bb1ff50d4875a1e9d4802d806c15": {
      "model_module": "@jupyter-widgets/controls",
      "model_module_version": "1.5.0",
      "model_name": "FloatProgressModel",
      "state": {
       "description": "Train Epoch #89 - loss:    1.33: 100%",
       "layout": "IPY_MODEL_1e4addab77e640359c6234c075dac51e",
       "max": 589,
       "style": "IPY_MODEL_5ff2509836024a3babf5d6c717758190",
       "value": 589
      }
     },
     "c3591918442748c3b9f9097d238bf1fe": {
      "model_module": "@jupyter-widgets/controls",
      "model_module_version": "1.5.0",
      "model_name": "HBoxModel",
      "state": {
       "children": [
        "IPY_MODEL_8149e73855c44f20b3b87591eb24d69c",
        "IPY_MODEL_e1f121cd138a4fddbe37c496a13fb389"
       ],
       "layout": "IPY_MODEL_a64e0479d9ce4e7fb60f84b54e047202"
      }
     },
     "c35c98a661284e8f897dd6def299dc06": {
      "model_module": "@jupyter-widgets/base",
      "model_module_version": "1.2.0",
      "model_name": "LayoutModel",
      "state": {}
     },
     "c383c77f5fff4639ae7507161c3bd2e6": {
      "model_module": "@jupyter-widgets/base",
      "model_module_version": "1.2.0",
      "model_name": "LayoutModel",
      "state": {}
     },
     "c3861751fb154f3caaafaf89276d4e7f": {
      "model_module": "@jupyter-widgets/base",
      "model_module_version": "1.2.0",
      "model_name": "LayoutModel",
      "state": {}
     },
     "c3c1cfe8c2ef4677bf0bbc24806557de": {
      "model_module": "@jupyter-widgets/controls",
      "model_module_version": "1.5.0",
      "model_name": "HTMLModel",
      "state": {
       "layout": "IPY_MODEL_1b863b524d9a45f9b0798e0df9798e82",
       "style": "IPY_MODEL_6a6004d4da51407d968c015c2daf4e0f",
       "value": " 589/589 [2:56:44&lt;00:00,  2.21it/s]"
      }
     },
     "c3e88c395763422a97ddb80f3c5ec92f": {
      "model_module": "@jupyter-widgets/base",
      "model_module_version": "1.2.0",
      "model_name": "LayoutModel",
      "state": {}
     },
     "c3f21d6723104084a5a461a49c2c4e7b": {
      "model_module": "@jupyter-widgets/controls",
      "model_module_version": "1.5.0",
      "model_name": "HBoxModel",
      "state": {
       "children": [
        "IPY_MODEL_d4e817a6adc64793a030d3950d0eb3dc",
        "IPY_MODEL_b18ab03c3bfd4ae59893e2ac5c73ab45"
       ],
       "layout": "IPY_MODEL_74801128b6714e509a6881da82791902"
      }
     },
     "c40d5fceeed54ac4be9d00ed498e0c6b": {
      "model_module": "@jupyter-widgets/base",
      "model_module_version": "1.2.0",
      "model_name": "LayoutModel",
      "state": {}
     },
     "c416b51518f1430485fbb633aee37f22": {
      "model_module": "@jupyter-widgets/base",
      "model_module_version": "1.2.0",
      "model_name": "LayoutModel",
      "state": {}
     },
     "c41e3bb6f1084a2bacdbf73654081805": {
      "model_module": "@jupyter-widgets/base",
      "model_module_version": "1.2.0",
      "model_name": "LayoutModel",
      "state": {}
     },
     "c421a8ac9e1f41afacc28940c8a0302c": {
      "model_module": "@jupyter-widgets/controls",
      "model_module_version": "1.5.0",
      "model_name": "FloatProgressModel",
      "state": {
       "description": "Train Epoch #1 - loss:   1.507: 100%",
       "layout": "IPY_MODEL_bc43da4ac641480198743f11f2039a93",
       "max": 589,
       "style": "IPY_MODEL_926986b07e60454e8892a36930c4cced",
       "value": 589
      }
     },
     "c42a4518df964945aa3e9f01a02c984b": {
      "model_module": "@jupyter-widgets/base",
      "model_module_version": "1.2.0",
      "model_name": "LayoutModel",
      "state": {}
     },
     "c43131df26fe4cb7abe8c70c08d8b2e5": {
      "model_module": "@jupyter-widgets/controls",
      "model_module_version": "1.5.0",
      "model_name": "HBoxModel",
      "state": {
       "children": [
        "IPY_MODEL_6dbb76f532a04868a09b7d38355afcf3",
        "IPY_MODEL_3d173a6df0874121b88428508eaaa128"
       ],
       "layout": "IPY_MODEL_03f903d16b77419585aa38109115eed5"
      }
     },
     "c44f72f0687643a092781b252e800a2f": {
      "model_module": "@jupyter-widgets/controls",
      "model_module_version": "1.5.0",
      "model_name": "HBoxModel",
      "state": {
       "children": [
        "IPY_MODEL_b686294a129849faba114a309ec4253b",
        "IPY_MODEL_26ca05993e844cc5a91366414a780ec0"
       ],
       "layout": "IPY_MODEL_2beb426334314a5593682f80d198107b"
      }
     },
     "c489a9763046480fb2225a35d0457a25": {
      "model_module": "@jupyter-widgets/base",
      "model_module_version": "1.2.0",
      "model_name": "LayoutModel",
      "state": {}
     },
     "c49ed9fd759b47d6a7722caf33cacfc5": {
      "model_module": "@jupyter-widgets/base",
      "model_module_version": "1.2.0",
      "model_name": "LayoutModel",
      "state": {}
     },
     "c4cd81e2e7804bd694132136dbe59f86": {
      "model_module": "@jupyter-widgets/controls",
      "model_module_version": "1.5.0",
      "model_name": "HBoxModel",
      "state": {
       "children": [
        "IPY_MODEL_e1650df623dc4ac782551a36b461c1a7",
        "IPY_MODEL_fa5ea951287b4037a054ab14abed9f48"
       ],
       "layout": "IPY_MODEL_44c22627537642f39d4137f11edce19f"
      }
     },
     "c4f74c6471bc46b79090197f05f72fae": {
      "model_module": "@jupyter-widgets/controls",
      "model_module_version": "1.5.0",
      "model_name": "HTMLModel",
      "state": {
       "layout": "IPY_MODEL_75f8904847fd4ad8adf36569715a0765",
       "style": "IPY_MODEL_6b64a425f78641a38cca806ca105db32",
       "value": " 74/74 [5:33:07&lt;00:00,  5.22it/s]"
      }
     },
     "c5124f76f29f41508c468d502233c009": {
      "model_module": "@jupyter-widgets/controls",
      "model_module_version": "1.5.0",
      "model_name": "DescriptionStyleModel",
      "state": {
       "description_width": ""
      }
     },
     "c522e5a525ac490f9d21ba77b8dff2f3": {
      "model_module": "@jupyter-widgets/controls",
      "model_module_version": "1.5.0",
      "model_name": "DescriptionStyleModel",
      "state": {
       "description_width": ""
      }
     },
     "c594dd6758d245ebb510d7e9b6adc260": {
      "model_module": "@jupyter-widgets/base",
      "model_module_version": "1.2.0",
      "model_name": "LayoutModel",
      "state": {}
     },
     "c59922b4e9284fa690e028dd99db6aa4": {
      "model_module": "@jupyter-widgets/base",
      "model_module_version": "1.2.0",
      "model_name": "LayoutModel",
      "state": {}
     },
     "c5a01045f564454b93a10c70981dfdc9": {
      "model_module": "@jupyter-widgets/base",
      "model_module_version": "1.2.0",
      "model_name": "LayoutModel",
      "state": {}
     },
     "c5a1cf5039784003b50c4b0ebd8a7857": {
      "model_module": "@jupyter-widgets/controls",
      "model_module_version": "1.5.0",
      "model_name": "HBoxModel",
      "state": {
       "children": [
        "IPY_MODEL_26077aedfb684c8d987d229fcaf7bcd2",
        "IPY_MODEL_9e610e3d704142d7b313f34aa5a2b2c5"
       ],
       "layout": "IPY_MODEL_1a95785fc2d44e5aa1cc14338f679caa"
      }
     },
     "c5c3663dd92c4d7fa6c3a0c17b59029b": {
      "model_module": "@jupyter-widgets/base",
      "model_module_version": "1.2.0",
      "model_name": "LayoutModel",
      "state": {}
     },
     "c5dd403152c94c2496aaf5934cd57f08": {
      "model_module": "@jupyter-widgets/base",
      "model_module_version": "1.2.0",
      "model_name": "LayoutModel",
      "state": {}
     },
     "c5ef47ca6aa54f619f2b63f2b46a9acd": {
      "model_module": "@jupyter-widgets/controls",
      "model_module_version": "1.5.0",
      "model_name": "FloatProgressModel",
      "state": {
       "description": "Train Epoch #0 - loss:   8.593:  60%",
       "layout": "IPY_MODEL_0978fa69d78e489ea55e69ef4a8ce60e",
       "max": 589,
       "style": "IPY_MODEL_5394c4b49fc542dd873a0555a6077662",
       "value": 351
      }
     },
     "c5f7ec5241d943b9ac571c29c26cd1b0": {
      "model_module": "@jupyter-widgets/base",
      "model_module_version": "1.2.0",
      "model_name": "LayoutModel",
      "state": {}
     },
     "c60e570266ee433cac8e2fdbb898c5ee": {
      "model_module": "@jupyter-widgets/base",
      "model_module_version": "1.2.0",
      "model_name": "LayoutModel",
      "state": {}
     },
     "c64e659c55fd426aa303ae42cbfbd15c": {
      "model_module": "@jupyter-widgets/controls",
      "model_module_version": "1.5.0",
      "model_name": "ProgressStyleModel",
      "state": {
       "description_width": "initial"
      }
     },
     "c6715ef152004f3ebb8fcaa2e83638ff": {
      "model_module": "@jupyter-widgets/controls",
      "model_module_version": "1.5.0",
      "model_name": "ProgressStyleModel",
      "state": {
       "description_width": "initial"
      }
     },
     "c6cc579aaca14a3b8eba8587d2ef287b": {
      "model_module": "@jupyter-widgets/controls",
      "model_module_version": "1.5.0",
      "model_name": "FloatProgressModel",
      "state": {
       "description": "Train Epoch #8 - loss:   6.282: 100%",
       "layout": "IPY_MODEL_edaeb05041254f3b97813e6f7c919f5f",
       "max": 589,
       "style": "IPY_MODEL_d8bcd0f3880a4f2a92a7dccc5506da29",
       "value": 589
      }
     },
     "c6daf6bdce11409e87c85ceb50c4103d": {
      "model_module": "@jupyter-widgets/controls",
      "model_module_version": "1.5.0",
      "model_name": "DescriptionStyleModel",
      "state": {
       "description_width": ""
      }
     },
     "c7102de80044489c985fab2709813825": {
      "model_module": "@jupyter-widgets/base",
      "model_module_version": "1.2.0",
      "model_name": "LayoutModel",
      "state": {}
     },
     "c7239c23fbf943c29abf7a0e79fcb402": {
      "model_module": "@jupyter-widgets/base",
      "model_module_version": "1.2.0",
      "model_name": "LayoutModel",
      "state": {}
     },
     "c749f8764f044c559b9ac09a17c3aff7": {
      "model_module": "@jupyter-widgets/controls",
      "model_module_version": "1.5.0",
      "model_name": "FloatProgressModel",
      "state": {
       "description": "Train Epoch #19 - loss:   5.621: 100%",
       "layout": "IPY_MODEL_a231fbefdb8944f09378b8df73cdfd7c",
       "max": 589,
       "style": "IPY_MODEL_abef7ee76c9e40938636bdbb295c8c70",
       "value": 589
      }
     },
     "c7624123a545495592f58c1ac15d7631": {
      "model_module": "@jupyter-widgets/controls",
      "model_module_version": "1.5.0",
      "model_name": "FloatProgressModel",
      "state": {
       "description": "Val Epoch #56 - loss:    8.07: 100%",
       "layout": "IPY_MODEL_05239dd3647d4a8ebf5bbd63e469ed24",
       "max": 74,
       "style": "IPY_MODEL_97d8e207e6a14d439e523449b253db00",
       "value": 74
      }
     },
     "c7e5052ad6834318bab94138d3293f04": {
      "model_module": "@jupyter-widgets/controls",
      "model_module_version": "1.5.0",
      "model_name": "ProgressStyleModel",
      "state": {
       "description_width": "initial"
      }
     },
     "c8278be7d1404aecbe13db56788720de": {
      "model_module": "@jupyter-widgets/controls",
      "model_module_version": "1.5.0",
      "model_name": "DescriptionStyleModel",
      "state": {
       "description_width": ""
      }
     },
     "c8343af4d06142f4a269e4d389b9020c": {
      "model_module": "@jupyter-widgets/base",
      "model_module_version": "1.2.0",
      "model_name": "LayoutModel",
      "state": {}
     },
     "c8ab98548e31432aa2e95dd097d75ada": {
      "model_module": "@jupyter-widgets/controls",
      "model_module_version": "1.5.0",
      "model_name": "DescriptionStyleModel",
      "state": {
       "description_width": ""
      }
     },
     "c8abbd6aad9b4b8aaacbd6115e069bd2": {
      "model_module": "@jupyter-widgets/controls",
      "model_module_version": "1.5.0",
      "model_name": "FloatProgressModel",
      "state": {
       "description": "Val Epoch #60 - loss:    8.09: 100%",
       "layout": "IPY_MODEL_e7bb0ae9b4aa4886a73786e7122aa7a1",
       "max": 74,
       "style": "IPY_MODEL_e0b61f5f0ff84d85ae7ef27f3bde29c2",
       "value": 74
      }
     },
     "c8fd2350d6224338a8345acb18963352": {
      "model_module": "@jupyter-widgets/controls",
      "model_module_version": "1.5.0",
      "model_name": "DescriptionStyleModel",
      "state": {
       "description_width": ""
      }
     },
     "c8ff94e82427432d8368ef5a7181efb0": {
      "model_module": "@jupyter-widgets/controls",
      "model_module_version": "1.5.0",
      "model_name": "FloatProgressModel",
      "state": {
       "description": "Val Epoch #2 - loss:   7.985: 100%",
       "layout": "IPY_MODEL_8f2692f8995741a4bdd3ae05ea223ab3",
       "max": 74,
       "style": "IPY_MODEL_0095e2c2e41a4c75a8ae5117b4ec5c44",
       "value": 74
      }
     },
     "c906eae195a344e0b09481977b07ead9": {
      "model_module": "@jupyter-widgets/controls",
      "model_module_version": "1.5.0",
      "model_name": "HTMLModel",
      "state": {
       "layout": "IPY_MODEL_276fc2f8c1db4ac5984a31ba17eb96a8",
       "style": "IPY_MODEL_b936549777764717b629ef2ee5ab0ae5",
       "value": " 589/589 [07:02&lt;00:00,  2.86it/s]"
      }
     },
     "c91c9775cbf34e90b3b21759d2d16796": {
      "model_module": "@jupyter-widgets/controls",
      "model_module_version": "1.5.0",
      "model_name": "HBoxModel",
      "state": {
       "children": [
        "IPY_MODEL_7392564f94384d46a1f7e6610f1f27d4",
        "IPY_MODEL_dc4f5a675ed04bb4965fd6d87219e1fa"
       ],
       "layout": "IPY_MODEL_9a5dcce382b846c8aba6bd3aa488de26"
      }
     },
     "c929d7eab9304b5cb196b45f575897ce": {
      "model_module": "@jupyter-widgets/base",
      "model_module_version": "1.2.0",
      "model_name": "LayoutModel",
      "state": {}
     },
     "c940f4773b62437583b4e308b07df3fc": {
      "model_module": "@jupyter-widgets/base",
      "model_module_version": "1.2.0",
      "model_name": "LayoutModel",
      "state": {}
     },
     "c9851e469ec040c3957f8e454bfa4541": {
      "model_module": "@jupyter-widgets/base",
      "model_module_version": "1.2.0",
      "model_name": "LayoutModel",
      "state": {}
     },
     "c995745b697f4dcf899190be8569db07": {
      "model_module": "@jupyter-widgets/base",
      "model_module_version": "1.2.0",
      "model_name": "LayoutModel",
      "state": {}
     },
     "c9a774109f4d45d69f17a50d5f2b36b8": {
      "model_module": "@jupyter-widgets/base",
      "model_module_version": "1.2.0",
      "model_name": "LayoutModel",
      "state": {}
     },
     "c9a7aa578024401aaae17700f20e1026": {
      "model_module": "@jupyter-widgets/base",
      "model_module_version": "1.2.0",
      "model_name": "LayoutModel",
      "state": {}
     },
     "c9b467579cfd4affa66419590d1141e3": {
      "model_module": "@jupyter-widgets/base",
      "model_module_version": "1.2.0",
      "model_name": "LayoutModel",
      "state": {}
     },
     "c9c1697bf0974f6f8fe05774aca70165": {
      "model_module": "@jupyter-widgets/base",
      "model_module_version": "1.2.0",
      "model_name": "LayoutModel",
      "state": {}
     },
     "c9e593f4f10a4919918a7fb15f179cf8": {
      "model_module": "@jupyter-widgets/base",
      "model_module_version": "1.2.0",
      "model_name": "LayoutModel",
      "state": {}
     },
     "ca03260481ae492f94be70961e323018": {
      "model_module": "@jupyter-widgets/controls",
      "model_module_version": "1.5.0",
      "model_name": "HTMLModel",
      "state": {
       "layout": "IPY_MODEL_0776b617bbd741ecb036bd97f60b7c8a",
       "style": "IPY_MODEL_9452da43b0514b789522279185a72f4a",
       "value": " 589/589 [1:02:34&lt;00:00,  2.26it/s]"
      }
     },
     "ca219d7f6a7e4f96900b5a3a01623d52": {
      "model_module": "@jupyter-widgets/controls",
      "model_module_version": "1.5.0",
      "model_name": "ProgressStyleModel",
      "state": {
       "description_width": "initial"
      }
     },
     "ca2ebc60ac2249a399b9f8b8e987f503": {
      "model_module": "@jupyter-widgets/controls",
      "model_module_version": "1.5.0",
      "model_name": "ProgressStyleModel",
      "state": {
       "description_width": "initial"
      }
     },
     "ca661600f36344f6bdb7cef760c84400": {
      "model_module": "@jupyter-widgets/controls",
      "model_module_version": "1.5.0",
      "model_name": "HTMLModel",
      "state": {
       "layout": "IPY_MODEL_bc7da27f4c7041a79fd1a5e1b17a0d97",
       "style": "IPY_MODEL_fe08acb876954b1083682b3f575ec373",
       "value": " 74/74 [6:37:49&lt;00:00,  5.74it/s]"
      }
     },
     "ca6976f6062a4958b6471da1e3258036": {
      "model_module": "@jupyter-widgets/controls",
      "model_module_version": "1.5.0",
      "model_name": "HTMLModel",
      "state": {
       "layout": "IPY_MODEL_762a7e31439446ca994b18dfe04d917d",
       "style": "IPY_MODEL_b3360209a2d844a8b167af50728be084",
       "value": " 0/589 [00:00&lt;?, ?it/s]"
      }
     },
     "cac4b0c064c0442f998453355237f64f": {
      "model_module": "@jupyter-widgets/base",
      "model_module_version": "1.2.0",
      "model_name": "LayoutModel",
      "state": {}
     },
     "cacc7186161b40d2992583f07dd947c2": {
      "model_module": "@jupyter-widgets/controls",
      "model_module_version": "1.5.0",
      "model_name": "HTMLModel",
      "state": {
       "layout": "IPY_MODEL_d0af9a9d8b604da0bb7a2994a73a39d2",
       "style": "IPY_MODEL_053d423120594f3088b9b60b12e3341e",
       "value": " 74/74 [7:10:33&lt;00:00,  5.85it/s]"
      }
     },
     "cb010581111a47b2bc31992ddf277ba4": {
      "model_module": "@jupyter-widgets/base",
      "model_module_version": "1.2.0",
      "model_name": "LayoutModel",
      "state": {}
     },
     "cb095eecc883446ea45482fdee1f91e2": {
      "model_module": "@jupyter-widgets/base",
      "model_module_version": "1.2.0",
      "model_name": "LayoutModel",
      "state": {}
     },
     "cb0ac53cfe9640119cf346995e440d6c": {
      "model_module": "@jupyter-widgets/controls",
      "model_module_version": "1.5.0",
      "model_name": "HBoxModel",
      "state": {
       "children": [
        "IPY_MODEL_18a18babb8fb44dda848d67224039c7b",
        "IPY_MODEL_2a0f922451dc4930a79baf61b150af8d"
       ],
       "layout": "IPY_MODEL_5515d8dca35341248d6ed1570355508d"
      }
     },
     "cb4001bf36f644c39568204ce38b5087": {
      "model_module": "@jupyter-widgets/base",
      "model_module_version": "1.2.0",
      "model_name": "LayoutModel",
      "state": {}
     },
     "cb4973dea67e4b5e8264c3b0aaee84fd": {
      "model_module": "@jupyter-widgets/controls",
      "model_module_version": "1.5.0",
      "model_name": "HBoxModel",
      "state": {
       "children": [
        "IPY_MODEL_4403c4e0a66d458e841981f8cf568eb5",
        "IPY_MODEL_db750e2aeb574cba903053d7b3e6acff"
       ],
       "layout": "IPY_MODEL_a637bbd9dd1f4a7e8502b7c9ef032cb2"
      }
     },
     "cb49c6b566884742b346d6677029f202": {
      "model_module": "@jupyter-widgets/base",
      "model_module_version": "1.2.0",
      "model_name": "LayoutModel",
      "state": {}
     },
     "cb514eeebd1f444e8951ec6dfca7cf6f": {
      "model_module": "@jupyter-widgets/base",
      "model_module_version": "1.2.0",
      "model_name": "LayoutModel",
      "state": {}
     },
     "cb8c8906c6c84d31a92776aad20be4b1": {
      "model_module": "@jupyter-widgets/base",
      "model_module_version": "1.2.0",
      "model_name": "LayoutModel",
      "state": {}
     },
     "cbb7c41af89545879a501c9e17189977": {
      "model_module": "@jupyter-widgets/base",
      "model_module_version": "1.2.0",
      "model_name": "LayoutModel",
      "state": {}
     },
     "cbbdd6f8c5ca42919d731b8983f2e95e": {
      "model_module": "@jupyter-widgets/controls",
      "model_module_version": "1.5.0",
      "model_name": "DescriptionStyleModel",
      "state": {
       "description_width": ""
      }
     },
     "cbc44a55a36541f39af374da8844d32c": {
      "model_module": "@jupyter-widgets/controls",
      "model_module_version": "1.5.0",
      "model_name": "DescriptionStyleModel",
      "state": {
       "description_width": ""
      }
     },
     "cbf2d9b00fad4417b727cd48294ce065": {
      "model_module": "@jupyter-widgets/controls",
      "model_module_version": "1.5.0",
      "model_name": "HTMLModel",
      "state": {
       "layout": "IPY_MODEL_8b563bf83b9844839f5c631528053e45",
       "style": "IPY_MODEL_c0cfb11838e145e3929d6d5e38220920",
       "value": " 589/589 [6:57:27&lt;00:00,  2.87it/s]"
      }
     },
     "cc019fe457ae41a2a174de394ef0ce26": {
      "model_module": "@jupyter-widgets/base",
      "model_module_version": "1.2.0",
      "model_name": "LayoutModel",
      "state": {}
     },
     "cc50dc35cf6e49ea9b538ab680dce8b3": {
      "model_module": "@jupyter-widgets/controls",
      "model_module_version": "1.5.0",
      "model_name": "FloatProgressModel",
      "state": {
       "description": "Train Epoch #86 - loss:   1.349: 100%",
       "layout": "IPY_MODEL_d118f8703d42412dbfa65c3755d32a04",
       "max": 589,
       "style": "IPY_MODEL_7145c27ecaae4e02b2993383ba360eb0",
       "value": 589
      }
     },
     "cc7fce022bd44d68b1ab33d9c276d8d3": {
      "model_module": "@jupyter-widgets/controls",
      "model_module_version": "1.5.0",
      "model_name": "ProgressStyleModel",
      "state": {
       "description_width": "initial"
      }
     },
     "ccbc9b11ea7940dbac4d573340160ec5": {
      "model_module": "@jupyter-widgets/controls",
      "model_module_version": "1.5.0",
      "model_name": "HBoxModel",
      "state": {
       "children": [
        "IPY_MODEL_dc97ed275a434d30acd70dc37cf021d7",
        "IPY_MODEL_1ecd61abc660429b8d411de0be805d1c"
       ],
       "layout": "IPY_MODEL_dd4882cabafd4567b1a94ad83660087d"
      }
     },
     "cd34687794424503b2ef7c6789ed74d8": {
      "model_module": "@jupyter-widgets/controls",
      "model_module_version": "1.5.0",
      "model_name": "DescriptionStyleModel",
      "state": {
       "description_width": ""
      }
     },
     "cd63d33932894caf9e1c18fcfd2fa67f": {
      "model_module": "@jupyter-widgets/base",
      "model_module_version": "1.2.0",
      "model_name": "LayoutModel",
      "state": {}
     },
     "cd6e656624e34fa5a7ea6f73b53e7388": {
      "model_module": "@jupyter-widgets/base",
      "model_module_version": "1.2.0",
      "model_name": "LayoutModel",
      "state": {}
     },
     "cd86cf1cb38c462c9bdad237ff7ed91b": {
      "model_module": "@jupyter-widgets/base",
      "model_module_version": "1.2.0",
      "model_name": "LayoutModel",
      "state": {}
     },
     "cdb62b2723af4972bcf2b0f8c7f16727": {
      "model_module": "@jupyter-widgets/controls",
      "model_module_version": "1.5.0",
      "model_name": "HTMLModel",
      "state": {
       "layout": "IPY_MODEL_b55fae42c9de40e08f256c1bc196de4b",
       "style": "IPY_MODEL_f82ee8fb3503490bb995e61fbe8e6288",
       "value": " 127/589 [7:09:32&lt;02:03,  3.75it/s]"
      }
     },
     "cdbcb61a3e774d7686ba9254cf5433ab": {
      "model_module": "@jupyter-widgets/controls",
      "model_module_version": "1.5.0",
      "model_name": "FloatProgressModel",
      "state": {
       "description": "Train Epoch #34 - loss:   2.933: 100%",
       "layout": "IPY_MODEL_c5f7ec5241d943b9ac571c29c26cd1b0",
       "max": 589,
       "style": "IPY_MODEL_92d3b89d41ce4292875e8090f88a0068",
       "value": 589
      }
     },
     "cdcd266f587f489d8bf406648d468f5e": {
      "model_module": "@jupyter-widgets/base",
      "model_module_version": "1.2.0",
      "model_name": "LayoutModel",
      "state": {}
     },
     "cde1bdde111e4a87b9bd37fbd5913030": {
      "model_module": "@jupyter-widgets/controls",
      "model_module_version": "1.5.0",
      "model_name": "DescriptionStyleModel",
      "state": {
       "description_width": ""
      }
     },
     "ce028b99649d4734b0dfdf36eb44cd19": {
      "model_module": "@jupyter-widgets/controls",
      "model_module_version": "1.5.0",
      "model_name": "HTMLModel",
      "state": {
       "layout": "IPY_MODEL_66d3954c48fc4e9d96500004be15e95b",
       "style": "IPY_MODEL_ef7727d2fb8b454fb2f92e483d952df4",
       "value": " 74/74 [8:14:10&lt;00:00,  5.78it/s]"
      }
     },
     "ce3a82b7083f4a8b9e73f40de7f6f807": {
      "model_module": "@jupyter-widgets/controls",
      "model_module_version": "1.5.0",
      "model_name": "HBoxModel",
      "state": {
       "children": [
        "IPY_MODEL_3f9e47ca0a2b40468a04979f9f26b1f2",
        "IPY_MODEL_90c89b8887204bdf9999970047c32d36"
       ],
       "layout": "IPY_MODEL_42a86823e3314a9482f05a3188a96f09"
      }
     },
     "ce51e276413d49d79c18e35d480800b6": {
      "model_module": "@jupyter-widgets/base",
      "model_module_version": "1.2.0",
      "model_name": "LayoutModel",
      "state": {}
     },
     "ceab08f0c2df466aaf49dadc51fbe2fd": {
      "model_module": "@jupyter-widgets/base",
      "model_module_version": "1.2.0",
      "model_name": "LayoutModel",
      "state": {}
     },
     "cec6d075c12245ffbac9e4bb03b947a7": {
      "model_module": "@jupyter-widgets/controls",
      "model_module_version": "1.5.0",
      "model_name": "FloatProgressModel",
      "state": {
       "description": "Train Epoch #85 - loss:   1.358: 100%",
       "layout": "IPY_MODEL_4628116f9d8c4168b1ec30d5e6ae1ba8",
       "max": 589,
       "style": "IPY_MODEL_151b07d3d1ca4d1fb409b6abd3940f01",
       "value": 589
      }
     },
     "cf095cb91ca847a8a3ebf2265473ba8d": {
      "model_module": "@jupyter-widgets/base",
      "model_module_version": "1.2.0",
      "model_name": "LayoutModel",
      "state": {}
     },
     "cf0f7ae198f1425896c2f5ef0ab32f58": {
      "model_module": "@jupyter-widgets/base",
      "model_module_version": "1.2.0",
      "model_name": "LayoutModel",
      "state": {}
     },
     "cf45e12745004f359c0e207958ffdca1": {
      "model_module": "@jupyter-widgets/controls",
      "model_module_version": "1.5.0",
      "model_name": "DescriptionStyleModel",
      "state": {
       "description_width": ""
      }
     },
     "cf58232b0de4445382da488711221bcf": {
      "model_module": "@jupyter-widgets/controls",
      "model_module_version": "1.5.0",
      "model_name": "HTMLModel",
      "state": {
       "layout": "IPY_MODEL_f70109928cef471281da8576e3c62438",
       "style": "IPY_MODEL_27f8df053a5a49219bd0c60b7d1b9bc7",
       "value": " 74/74 [6:08:28&lt;00:00,  6.50it/s]"
      }
     },
     "cf60130ed1d14a95959306dbd49c99bb": {
      "model_module": "@jupyter-widgets/controls",
      "model_module_version": "1.5.0",
      "model_name": "FloatProgressModel",
      "state": {
       "description": "Val Epoch #42 - loss:   7.555: 100%",
       "layout": "IPY_MODEL_6f8bc8338a86479b90c5b5839b11335c",
       "max": 74,
       "style": "IPY_MODEL_a82eebd102a04bc3b354ebd7c7f96b3b",
       "value": 74
      }
     },
     "cf662e12b54045409928371b1db8ebfe": {
      "model_module": "@jupyter-widgets/controls",
      "model_module_version": "1.5.0",
      "model_name": "ProgressStyleModel",
      "state": {
       "description_width": "initial"
      }
     },
     "cf69812cea3f4b32a1b30d117e46c2d8": {
      "model_module": "@jupyter-widgets/base",
      "model_module_version": "1.2.0",
      "model_name": "LayoutModel",
      "state": {}
     },
     "cf727437e545429fa7232b6d889db97e": {
      "model_module": "@jupyter-widgets/controls",
      "model_module_version": "1.5.0",
      "model_name": "HBoxModel",
      "state": {
       "children": [
        "IPY_MODEL_47023753b72b48cbacb8922502cbddae",
        "IPY_MODEL_b80ef460ad194260985e4df66ab90420"
       ],
       "layout": "IPY_MODEL_08c9011c9eb345a0beb6f15119e7da86"
      }
     },
     "cfa16639d4bc482ebc72125e2052867a": {
      "model_module": "@jupyter-widgets/controls",
      "model_module_version": "1.5.0",
      "model_name": "DescriptionStyleModel",
      "state": {
       "description_width": ""
      }
     },
     "cfd56b42621c40b592ebf4913aded0f8": {
      "model_module": "@jupyter-widgets/base",
      "model_module_version": "1.2.0",
      "model_name": "LayoutModel",
      "state": {}
     },
     "cfed31acba714bfe940238338965cb6f": {
      "model_module": "@jupyter-widgets/controls",
      "model_module_version": "1.5.0",
      "model_name": "FloatProgressModel",
      "state": {
       "description": "Val Epoch #51 - loss:   7.881: 100%",
       "layout": "IPY_MODEL_839eecf41f91402c8dd471ce6c28df50",
       "max": 74,
       "style": "IPY_MODEL_393699a20fb94142b8e1267768f03a71",
       "value": 74
      }
     },
     "cff378d13d3949878cb228c615d105c9": {
      "model_module": "@jupyter-widgets/controls",
      "model_module_version": "1.5.0",
      "model_name": "HTMLModel",
      "state": {
       "layout": "IPY_MODEL_a95883ee472642689cdd492687f7c3ef",
       "style": "IPY_MODEL_4134db6b3a9e455691724eae4a162327",
       "value": " 589/589 [8:43:41&lt;00:00,  3.34it/s]"
      }
     },
     "d0013a0275f047dcafb12ba386d48021": {
      "model_module": "@jupyter-widgets/controls",
      "model_module_version": "1.5.0",
      "model_name": "DescriptionStyleModel",
      "state": {
       "description_width": ""
      }
     },
     "d02270dcd1fd4af5b05194e9f67783f4": {
      "model_module": "@jupyter-widgets/base",
      "model_module_version": "1.2.0",
      "model_name": "LayoutModel",
      "state": {}
     },
     "d02c9107e8074eae8e522f1792044bdf": {
      "model_module": "@jupyter-widgets/controls",
      "model_module_version": "1.5.0",
      "model_name": "DescriptionStyleModel",
      "state": {
       "description_width": ""
      }
     },
     "d02e82f71e4e473283c7a83d7afaf7c1": {
      "model_module": "@jupyter-widgets/controls",
      "model_module_version": "1.5.0",
      "model_name": "HBoxModel",
      "state": {
       "children": [
        "IPY_MODEL_5c0a1044c70245338549d90ac3da7004",
        "IPY_MODEL_bb3c6ac9e3014d7a98c0af14718f59d0"
       ],
       "layout": "IPY_MODEL_2493f4a1d33e4c13ba9d1fdad36d071d"
      }
     },
     "d037c0f7a7394dfd80041ab1566b219a": {
      "model_module": "@jupyter-widgets/controls",
      "model_module_version": "1.5.0",
      "model_name": "HBoxModel",
      "state": {
       "children": [
        "IPY_MODEL_823b1c7765b34eef87c0b4f75dfc42c9",
        "IPY_MODEL_d495af345df447dd983c363c0a6ee141"
       ],
       "layout": "IPY_MODEL_d82ae790cdf9440ebe2070eb998228d3"
      }
     },
     "d03e3eabdfa2473cba21d36677205051": {
      "model_module": "@jupyter-widgets/controls",
      "model_module_version": "1.5.0",
      "model_name": "DescriptionStyleModel",
      "state": {
       "description_width": ""
      }
     },
     "d03f55f95bd047978b6d47a482a66b4d": {
      "model_module": "@jupyter-widgets/controls",
      "model_module_version": "1.5.0",
      "model_name": "DescriptionStyleModel",
      "state": {
       "description_width": ""
      }
     },
     "d0797d7666cc45c2a04d7b3fcff91030": {
      "model_module": "@jupyter-widgets/controls",
      "model_module_version": "1.5.0",
      "model_name": "HTMLModel",
      "state": {
       "layout": "IPY_MODEL_43f810bbacff4a8c83985204da32c669",
       "style": "IPY_MODEL_93a8502401da42caa3e3807684ae53b8",
       "value": " 74/74 [3:33:40&lt;00:00,  5.51it/s]"
      }
     },
     "d0950ffb21fc49828fa17dd414867f35": {
      "model_module": "@jupyter-widgets/base",
      "model_module_version": "1.2.0",
      "model_name": "LayoutModel",
      "state": {}
     },
     "d0969741eaca4c15a916bbb188159c72": {
      "model_module": "@jupyter-widgets/controls",
      "model_module_version": "1.5.0",
      "model_name": "HBoxModel",
      "state": {
       "children": [
        "IPY_MODEL_52b05a492508497789f8c7ec7b0274e5",
        "IPY_MODEL_6cab7e1fb5f14992ad127f36c96ed661"
       ],
       "layout": "IPY_MODEL_5509fe4a0f4447e8baa0efea96f65945"
      }
     },
     "d0af9a9d8b604da0bb7a2994a73a39d2": {
      "model_module": "@jupyter-widgets/base",
      "model_module_version": "1.2.0",
      "model_name": "LayoutModel",
      "state": {}
     },
     "d0be2e8a8c5b450c9beeb25b2b514ead": {
      "model_module": "@jupyter-widgets/controls",
      "model_module_version": "1.5.0",
      "model_name": "HTMLModel",
      "state": {
       "layout": "IPY_MODEL_3ea98c4c051042b797c7a151feaa75e0",
       "style": "IPY_MODEL_522dbba272364366a074fd9cc949c389",
       "value": " 589/589 [7:54:52&lt;00:00,  4.54it/s]"
      }
     },
     "d0dcc25bf968422d99093bd6340e6158": {
      "model_module": "@jupyter-widgets/base",
      "model_module_version": "1.2.0",
      "model_name": "LayoutModel",
      "state": {}
     },
     "d0e0e41f409145c0a7c2837e86b1af85": {
      "model_module": "@jupyter-widgets/controls",
      "model_module_version": "1.5.0",
      "model_name": "FloatProgressModel",
      "state": {
       "description": "Val Epoch #0 - loss:   8.115: 100%",
       "layout": "IPY_MODEL_a6996e5460c944c1912cbd4fb7ccc4ce",
       "max": 74,
       "style": "IPY_MODEL_7e6eba069bff49febfc10ef924d1817b",
       "value": 74
      }
     },
     "d0eff4f786f544f5b261ae70db016561": {
      "model_module": "@jupyter-widgets/base",
      "model_module_version": "1.2.0",
      "model_name": "LayoutModel",
      "state": {}
     },
     "d1046f838a3f4940aeffd5e0ad884a23": {
      "model_module": "@jupyter-widgets/controls",
      "model_module_version": "1.5.0",
      "model_name": "DescriptionStyleModel",
      "state": {
       "description_width": ""
      }
     },
     "d1125f201f5f463fa58a0deccc9d5e27": {
      "model_module": "@jupyter-widgets/controls",
      "model_module_version": "1.5.0",
      "model_name": "HTMLModel",
      "state": {
       "layout": "IPY_MODEL_d554506651404d1680330bc642ae3fb6",
       "style": "IPY_MODEL_cbc44a55a36541f39af374da8844d32c",
       "value": " 74/74 [1:32:26&lt;00:00,  5.41it/s]"
      }
     },
     "d118f8703d42412dbfa65c3755d32a04": {
      "model_module": "@jupyter-widgets/base",
      "model_module_version": "1.2.0",
      "model_name": "LayoutModel",
      "state": {}
     },
     "d11f3a59e65e4caab3d748919629436c": {
      "model_module": "@jupyter-widgets/controls",
      "model_module_version": "1.5.0",
      "model_name": "DescriptionStyleModel",
      "state": {
       "description_width": ""
      }
     },
     "d159ad95c70d40258260e47b0b91f1b9": {
      "model_module": "@jupyter-widgets/controls",
      "model_module_version": "1.5.0",
      "model_name": "FloatProgressModel",
      "state": {
       "description": "Train Epoch #73 - loss:   1.465: 100%",
       "layout": "IPY_MODEL_5ab540c7ccec473eac881b8a286508d5",
       "max": 589,
       "style": "IPY_MODEL_ae19350d59644148958629b4f340935d",
       "value": 589
      }
     },
     "d15e2a88495f44aba24d6cbae1d3239c": {
      "model_module": "@jupyter-widgets/controls",
      "model_module_version": "1.5.0",
      "model_name": "HBoxModel",
      "state": {
       "children": [
        "IPY_MODEL_5016731e909249a9b27f9be2960ace1e",
        "IPY_MODEL_f49326042a414dedbd4667af206fabed"
       ],
       "layout": "IPY_MODEL_756055437a7c4aed842b82859c265321"
      }
     },
     "d16f04201a364683887b09b59e685c62": {
      "model_module": "@jupyter-widgets/base",
      "model_module_version": "1.2.0",
      "model_name": "LayoutModel",
      "state": {}
     },
     "d17287441ca24f49a8d466afaec67b22": {
      "model_module": "@jupyter-widgets/controls",
      "model_module_version": "1.5.0",
      "model_name": "FloatProgressModel",
      "state": {
       "description": "Train Epoch #3 - loss:   7.147: 100%",
       "layout": "IPY_MODEL_d2e1a0c0a29f46b3a21c25fbc1ea202f",
       "max": 589,
       "style": "IPY_MODEL_5c4ff0b91965426db3310d80e7ae632d",
       "value": 589
      }
     },
     "d17f06b987f6436383311a7e349c4f2e": {
      "model_module": "@jupyter-widgets/base",
      "model_module_version": "1.2.0",
      "model_name": "LayoutModel",
      "state": {}
     },
     "d17f7713e9f34432a3f227fece976958": {
      "model_module": "@jupyter-widgets/base",
      "model_module_version": "1.2.0",
      "model_name": "LayoutModel",
      "state": {}
     },
     "d19dbe6ce25f409481d393768a8d84f2": {
      "model_module": "@jupyter-widgets/controls",
      "model_module_version": "1.5.0",
      "model_name": "ProgressStyleModel",
      "state": {
       "description_width": "initial"
      }
     },
     "d217ef446be848b2b489a909e268c521": {
      "model_module": "@jupyter-widgets/controls",
      "model_module_version": "1.5.0",
      "model_name": "HBoxModel",
      "state": {
       "children": [
        "IPY_MODEL_7d223ad0a9d74cee82a88a8ba39f1af9",
        "IPY_MODEL_3f0521dfe8f241a0ae298b7a8641f8e4"
       ],
       "layout": "IPY_MODEL_61bf3264998a490c865ed86a5ed8c687"
      }
     },
     "d2183b67644b42c4a55961449166434f": {
      "model_module": "@jupyter-widgets/base",
      "model_module_version": "1.2.0",
      "model_name": "LayoutModel",
      "state": {}
     },
     "d22cedeb3c4e4799802b3eda60339a57": {
      "model_module": "@jupyter-widgets/controls",
      "model_module_version": "1.5.0",
      "model_name": "DescriptionStyleModel",
      "state": {
       "description_width": ""
      }
     },
     "d267ed73d4354cd0b91c1c31055d7d97": {
      "model_module": "@jupyter-widgets/base",
      "model_module_version": "1.2.0",
      "model_name": "LayoutModel",
      "state": {}
     },
     "d29da10e18844a9190bd6cd8d7753cfe": {
      "model_module": "@jupyter-widgets/controls",
      "model_module_version": "1.5.0",
      "model_name": "HTMLModel",
      "state": {
       "layout": "IPY_MODEL_901476c18c554699a9d5fd7653d28b62",
       "style": "IPY_MODEL_a101400d0b674ce7bfab09c1e924488c",
       "value": " 74/74 [8:25:06&lt;00:00,  5.44it/s]"
      }
     },
     "d2c7810804cd45b8903de474e6404799": {
      "model_module": "@jupyter-widgets/controls",
      "model_module_version": "1.5.0",
      "model_name": "FloatProgressModel",
      "state": {
       "description": "Val Epoch #0 - loss:    8.91: 100%",
       "layout": "IPY_MODEL_4522548212734658bf55ea77e91aa900",
       "max": 74,
       "style": "IPY_MODEL_27b308de978e4bedbdcfdad858bc484c",
       "value": 74
      }
     },
     "d2e1a0c0a29f46b3a21c25fbc1ea202f": {
      "model_module": "@jupyter-widgets/base",
      "model_module_version": "1.2.0",
      "model_name": "LayoutModel",
      "state": {}
     },
     "d2e4ad1d58ee4e698f938d3d17b028f4": {
      "model_module": "@jupyter-widgets/base",
      "model_module_version": "1.2.0",
      "model_name": "LayoutModel",
      "state": {}
     },
     "d2fe91e2bbff4db7906637bded737302": {
      "model_module": "@jupyter-widgets/controls",
      "model_module_version": "1.5.0",
      "model_name": "FloatProgressModel",
      "state": {
       "description": "Train Epoch #74 - loss:   1.455: 100%",
       "layout": "IPY_MODEL_e6e55816d03e411c96d391b447daa35a",
       "max": 589,
       "style": "IPY_MODEL_fce31ac836c04adabcaecf5bb42700ce",
       "value": 589
      }
     },
     "d32d36459094440fa7562eec0ccc1447": {
      "model_module": "@jupyter-widgets/base",
      "model_module_version": "1.2.0",
      "model_name": "LayoutModel",
      "state": {}
     },
     "d362a79accdd494c9bb6526317e41944": {
      "model_module": "@jupyter-widgets/controls",
      "model_module_version": "1.5.0",
      "model_name": "HTMLModel",
      "state": {
       "layout": "IPY_MODEL_60ee8a4fd20049eb86facbf0e70e283a",
       "style": "IPY_MODEL_cfa16639d4bc482ebc72125e2052867a",
       "value": " 589/589 [2:48:20&lt;00:00,  2.24it/s]"
      }
     },
     "d39e41c703614517863f4775b590c8f1": {
      "model_module": "@jupyter-widgets/controls",
      "model_module_version": "1.5.0",
      "model_name": "HBoxModel",
      "state": {
       "children": [
        "IPY_MODEL_8cc8fee2f13c479c867cb4fbd94ffd8e",
        "IPY_MODEL_6451160456e5404ca255fa24b601c6fe"
       ],
       "layout": "IPY_MODEL_877d752a77ee48ad80a8b71d360eed72"
      }
     },
     "d3ac4f1cc9954cd5aa4baba679359dcd": {
      "model_module": "@jupyter-widgets/controls",
      "model_module_version": "1.5.0",
      "model_name": "HBoxModel",
      "state": {
       "children": [
        "IPY_MODEL_b64a763d4c0946b48f2b7f726729a95d",
        "IPY_MODEL_339c0793844a41129453c71c8cd004cb"
       ],
       "layout": "IPY_MODEL_e96c8914fc624af3b88ab4f9e74e7693"
      }
     },
     "d3b1c9014688454483a24956deb17892": {
      "model_module": "@jupyter-widgets/base",
      "model_module_version": "1.2.0",
      "model_name": "LayoutModel",
      "state": {}
     },
     "d3ced44949f740a5b13f04b26d833e57": {
      "model_module": "@jupyter-widgets/controls",
      "model_module_version": "1.5.0",
      "model_name": "ProgressStyleModel",
      "state": {
       "description_width": "initial"
      }
     },
     "d3f9d25ba12d4c7c9c8fadcb9bdce0de": {
      "model_module": "@jupyter-widgets/controls",
      "model_module_version": "1.5.0",
      "model_name": "FloatProgressModel",
      "state": {
       "description": "Val Epoch #7 - loss:   7.296: 100%",
       "layout": "IPY_MODEL_fe05883957fb41e7884574b8072364be",
       "max": 74,
       "style": "IPY_MODEL_2cddba25c2374b2e8787ae391318c20c",
       "value": 74
      }
     },
     "d40aff7f02fe41208a11e014ce4c59ef": {
      "model_module": "@jupyter-widgets/base",
      "model_module_version": "1.2.0",
      "model_name": "LayoutModel",
      "state": {}
     },
     "d4179ad6f300418795abc7ec75cf5a00": {
      "model_module": "@jupyter-widgets/base",
      "model_module_version": "1.2.0",
      "model_name": "LayoutModel",
      "state": {}
     },
     "d4264f57f9174400955907713ddf992e": {
      "model_module": "@jupyter-widgets/base",
      "model_module_version": "1.2.0",
      "model_name": "LayoutModel",
      "state": {}
     },
     "d432fc5ebda54c939af34786c4639fb7": {
      "model_module": "@jupyter-widgets/controls",
      "model_module_version": "1.5.0",
      "model_name": "DescriptionStyleModel",
      "state": {
       "description_width": ""
      }
     },
     "d44428e8a3eb49d8a6c5915b15258abe": {
      "model_module": "@jupyter-widgets/controls",
      "model_module_version": "1.5.0",
      "model_name": "DescriptionStyleModel",
      "state": {
       "description_width": ""
      }
     },
     "d48befe969f14c9b913fcfe1d4f25f5c": {
      "model_module": "@jupyter-widgets/base",
      "model_module_version": "1.2.0",
      "model_name": "LayoutModel",
      "state": {}
     },
     "d495af345df447dd983c363c0a6ee141": {
      "model_module": "@jupyter-widgets/controls",
      "model_module_version": "1.5.0",
      "model_name": "HTMLModel",
      "state": {
       "layout": "IPY_MODEL_d7837985db784ed49ef27811eb6b9f09",
       "style": "IPY_MODEL_7049e1ea0eca4d45b92562267a714942",
       "value": " 589/589 [7:40:35&lt;00:00,  2.79it/s]"
      }
     },
     "d496e3ca975a4206b57b88b4b8f4c79e": {
      "model_module": "@jupyter-widgets/base",
      "model_module_version": "1.2.0",
      "model_name": "LayoutModel",
      "state": {}
     },
     "d4a8283d0f1247e88c0fdc3442ad4075": {
      "model_module": "@jupyter-widgets/base",
      "model_module_version": "1.2.0",
      "model_name": "LayoutModel",
      "state": {}
     },
     "d4d83b77ecb8407a8a3001fd461abeaf": {
      "model_module": "@jupyter-widgets/controls",
      "model_module_version": "1.5.0",
      "model_name": "HTMLModel",
      "state": {
       "layout": "IPY_MODEL_d267ed73d4354cd0b91c1c31055d7d97",
       "style": "IPY_MODEL_37be8417389f464993e83bf1fbb2657b",
       "value": " 589/589 [6:40:49&lt;00:00,  2.74it/s]"
      }
     },
     "d4e817a6adc64793a030d3950d0eb3dc": {
      "model_module": "@jupyter-widgets/controls",
      "model_module_version": "1.5.0",
      "model_name": "FloatProgressModel",
      "state": {
       "description": "Val Epoch #6 - loss:   9.242: 100%",
       "layout": "IPY_MODEL_7d8f0bf67a014877adcf61c7bdd6a5e4",
       "max": 74,
       "style": "IPY_MODEL_5bd08031c00840f4b922661cf22b660b",
       "value": 74
      }
     },
     "d4e8507863ce44a09daed32a3c63e308": {
      "model_module": "@jupyter-widgets/base",
      "model_module_version": "1.2.0",
      "model_name": "LayoutModel",
      "state": {}
     },
     "d51f1394fa504bb2921b98696bf42799": {
      "model_module": "@jupyter-widgets/controls",
      "model_module_version": "1.5.0",
      "model_name": "DescriptionStyleModel",
      "state": {
       "description_width": ""
      }
     },
     "d5356b2817bb4227943187734274d682": {
      "model_module": "@jupyter-widgets/controls",
      "model_module_version": "1.5.0",
      "model_name": "HTMLModel",
      "state": {
       "layout": "IPY_MODEL_cf69812cea3f4b32a1b30d117e46c2d8",
       "style": "IPY_MODEL_9dec52b4a26b4052b72a95432cfaac64",
       "value": " 74/74 [6:00:01&lt;00:00,  6.14it/s]"
      }
     },
     "d53c676a4d4241fdb34e0e35b0f57014": {
      "model_module": "@jupyter-widgets/base",
      "model_module_version": "1.2.0",
      "model_name": "LayoutModel",
      "state": {}
     },
     "d554506651404d1680330bc642ae3fb6": {
      "model_module": "@jupyter-widgets/base",
      "model_module_version": "1.2.0",
      "model_name": "LayoutModel",
      "state": {}
     },
     "d55bf9b18e854f98a4861e076f1484fa": {
      "model_module": "@jupyter-widgets/controls",
      "model_module_version": "1.5.0",
      "model_name": "DescriptionStyleModel",
      "state": {
       "description_width": ""
      }
     },
     "d5a65e090dfc4bbe9cc2a6be9ec1072a": {
      "model_module": "@jupyter-widgets/base",
      "model_module_version": "1.2.0",
      "model_name": "LayoutModel",
      "state": {}
     },
     "d5b2eb9ed991472cb341c76c47eab779": {
      "model_module": "@jupyter-widgets/controls",
      "model_module_version": "1.5.0",
      "model_name": "ProgressStyleModel",
      "state": {
       "description_width": "initial"
      }
     },
     "d5b7eb010f1948cdbc7e1ca23524ac6a": {
      "model_module": "@jupyter-widgets/base",
      "model_module_version": "1.2.0",
      "model_name": "LayoutModel",
      "state": {}
     },
     "d5c007d3563b453993ebcf4f6fcf7f54": {
      "model_module": "@jupyter-widgets/controls",
      "model_module_version": "1.5.0",
      "model_name": "HBoxModel",
      "state": {
       "children": [
        "IPY_MODEL_6b6db492cbd345f5b619d82f26e708d3",
        "IPY_MODEL_80d0f9c10dc84341bb2e1284d1d8649e"
       ],
       "layout": "IPY_MODEL_dc4dddb3a5f44ebcbe3780d848d42386"
      }
     },
     "d5ce658dc03b4ff9b69a53fd2bc92ca2": {
      "model_module": "@jupyter-widgets/controls",
      "model_module_version": "1.5.0",
      "model_name": "FloatProgressModel",
      "state": {
       "description": "Train Epoch #15 - loss:   5.007: 100%",
       "layout": "IPY_MODEL_e96fd02b4fd141e5bd47d3a4f086b907",
       "max": 589,
       "style": "IPY_MODEL_7c42e673e72d4184a1b9793499243ebb",
       "value": 589
      }
     },
     "d5d77dee9bf44e8a9112ef27261b8dd8": {
      "model_module": "@jupyter-widgets/controls",
      "model_module_version": "1.5.0",
      "model_name": "HBoxModel",
      "state": {
       "children": [
        "IPY_MODEL_2557d012cab840feadc6f2bbb75cf259",
        "IPY_MODEL_4fd346dc6106462ea7c09c84eaa2b2c8"
       ],
       "layout": "IPY_MODEL_d60d4be9898d406995d178827db3248f"
      }
     },
     "d5f6466a3124446cba4040f29120671c": {
      "model_module": "@jupyter-widgets/controls",
      "model_module_version": "1.5.0",
      "model_name": "HBoxModel",
      "state": {
       "children": [
        "IPY_MODEL_d7e056c8cd7e4dbd9514115372bf11b4",
        "IPY_MODEL_ddee9ba442ca41c49b920b31ce364c56"
       ],
       "layout": "IPY_MODEL_6c8b6518179741dd9a37aa2e67c83211"
      }
     },
     "d60d4be9898d406995d178827db3248f": {
      "model_module": "@jupyter-widgets/base",
      "model_module_version": "1.2.0",
      "model_name": "LayoutModel",
      "state": {}
     },
     "d61349113c9945a2812ab77600be1d90": {
      "model_module": "@jupyter-widgets/controls",
      "model_module_version": "1.5.0",
      "model_name": "HTMLModel",
      "state": {
       "layout": "IPY_MODEL_de85250e205f473e9bcc1e9216cfc495",
       "style": "IPY_MODEL_a83614fcddf24ea7b19407021c45fbf2",
       "value": " 4/589 [7:01:34&lt;02:26,  3.99it/s]"
      }
     },
     "d636af84a0c84ff18a6ee948ea5437a1": {
      "model_module": "@jupyter-widgets/controls",
      "model_module_version": "1.5.0",
      "model_name": "ProgressStyleModel",
      "state": {
       "description_width": "initial"
      }
     },
     "d64973275513401c975b3aabe068fb82": {
      "model_module": "@jupyter-widgets/controls",
      "model_module_version": "1.5.0",
      "model_name": "FloatProgressModel",
      "state": {
       "description": "Train Epoch #13 - loss:    5.95: 100%",
       "layout": "IPY_MODEL_0e87ee845fbe4c4ead11ceb8ad804c42",
       "max": 589,
       "style": "IPY_MODEL_b5f0580cb5464b19ad764c27fb22d936",
       "value": 589
      }
     },
     "d66e74aa0ca2416e87bcde39e588cb8e": {
      "model_module": "@jupyter-widgets/controls",
      "model_module_version": "1.5.0",
      "model_name": "FloatProgressModel",
      "state": {
       "description": "Val Epoch #71 - loss:   8.429: 100%",
       "layout": "IPY_MODEL_ba841106594148b2ad2c4ff1a101f986",
       "max": 74,
       "style": "IPY_MODEL_c7e5052ad6834318bab94138d3293f04",
       "value": 74
      }
     },
     "d68262cfdab54954b4a2fa22b7e594bc": {
      "model_module": "@jupyter-widgets/controls",
      "model_module_version": "1.5.0",
      "model_name": "HBoxModel",
      "state": {
       "children": [
        "IPY_MODEL_79e1ae8245574e1e8076827795bf4fa4",
        "IPY_MODEL_62ce1e464c8c40949fe8859577e8e43f"
       ],
       "layout": "IPY_MODEL_7cdeedd7327f4010a94a783cd0c6d03f"
      }
     },
     "d687bb91db8444939630260dee5a396a": {
      "model_module": "@jupyter-widgets/controls",
      "model_module_version": "1.5.0",
      "model_name": "ProgressStyleModel",
      "state": {
       "description_width": "initial"
      }
     },
     "d6a79d4c5ef24bbe98a9414f5b1ebd73": {
      "model_module": "@jupyter-widgets/controls",
      "model_module_version": "1.5.0",
      "model_name": "HBoxModel",
      "state": {
       "children": [
        "IPY_MODEL_359f68f34ced44c9a655ff3c7c5dc3fa",
        "IPY_MODEL_5a7823b8bc154153a4ebf036ace55308"
       ],
       "layout": "IPY_MODEL_292830ea2d7e4756b9adb9ece10fd0ac"
      }
     },
     "d6ab0dbe57414db9972ee86207dc33c2": {
      "model_module": "@jupyter-widgets/controls",
      "model_module_version": "1.5.0",
      "model_name": "ProgressStyleModel",
      "state": {
       "description_width": "initial"
      }
     },
     "d6b99d7f849d49229fbce04594f8fa28": {
      "model_module": "@jupyter-widgets/controls",
      "model_module_version": "1.5.0",
      "model_name": "HBoxModel",
      "state": {
       "children": [
        "IPY_MODEL_dc05ecb66eb84b08bcb6aeac872bb8f1",
        "IPY_MODEL_e020dacaf56a470493cce7d72ad19dfa"
       ],
       "layout": "IPY_MODEL_7ae07c1a2d91454f96fa388cdaa1a524"
      }
     },
     "d6f6a3b53c2441d8a47a80a41146c44b": {
      "model_module": "@jupyter-widgets/controls",
      "model_module_version": "1.5.0",
      "model_name": "FloatProgressModel",
      "state": {
       "description": "Train Epoch #27 - loss:   3.614: 100%",
       "layout": "IPY_MODEL_d0dcc25bf968422d99093bd6340e6158",
       "max": 589,
       "style": "IPY_MODEL_f17c5b2e7b464281b116816d7fca5674",
       "value": 589
      }
     },
     "d716b69ef6eb4fd4baa16d3e7811f166": {
      "model_module": "@jupyter-widgets/base",
      "model_module_version": "1.2.0",
      "model_name": "LayoutModel",
      "state": {}
     },
     "d71accb7394a4645b7205e0a2e46a27d": {
      "model_module": "@jupyter-widgets/controls",
      "model_module_version": "1.5.0",
      "model_name": "FloatProgressModel",
      "state": {
       "description": "Train Epoch #47 - loss:   2.112: 100%",
       "layout": "IPY_MODEL_2333d0d998f448a1bd7fa603db31d816",
       "max": 589,
       "style": "IPY_MODEL_305cb406eaa64ddbbfabda8cf3a6a41d",
       "value": 589
      }
     },
     "d76e51ca8fd24e2ba36d0f7821815df2": {
      "model_module": "@jupyter-widgets/base",
      "model_module_version": "1.2.0",
      "model_name": "LayoutModel",
      "state": {}
     },
     "d7710656ad004c50a79debe2a4e4ebba": {
      "model_module": "@jupyter-widgets/base",
      "model_module_version": "1.2.0",
      "model_name": "LayoutModel",
      "state": {}
     },
     "d77fc8f336384d4f969c733126830744": {
      "model_module": "@jupyter-widgets/controls",
      "model_module_version": "1.5.0",
      "model_name": "HTMLModel",
      "state": {
       "layout": "IPY_MODEL_73f79577ce3a457e9fba2d35956a8a86",
       "style": "IPY_MODEL_36f2986349a74ebe97a0290f653ef6f2",
       "value": " 589/589 [7:52:55&lt;00:00,  4.50it/s]"
      }
     },
     "d7837985db784ed49ef27811eb6b9f09": {
      "model_module": "@jupyter-widgets/base",
      "model_module_version": "1.2.0",
      "model_name": "LayoutModel",
      "state": {}
     },
     "d78436f6e2e8404aadf167dfe72713ef": {
      "model_module": "@jupyter-widgets/controls",
      "model_module_version": "1.5.0",
      "model_name": "DescriptionStyleModel",
      "state": {
       "description_width": ""
      }
     },
     "d7b3c2becc144ef1b6081cf2585cc792": {
      "model_module": "@jupyter-widgets/base",
      "model_module_version": "1.2.0",
      "model_name": "LayoutModel",
      "state": {}
     },
     "d7c5638f73154b069109a97bf9267db0": {
      "model_module": "@jupyter-widgets/controls",
      "model_module_version": "1.5.0",
      "model_name": "DescriptionStyleModel",
      "state": {
       "description_width": ""
      }
     },
     "d7d122f7b3d44530a7d252d6cf2aad82": {
      "model_module": "@jupyter-widgets/controls",
      "model_module_version": "1.5.0",
      "model_name": "FloatProgressModel",
      "state": {
       "description": "Val Epoch #23 - loss:     6.9: 100%",
       "layout": "IPY_MODEL_830c05456c7045acaaaf9e188a2b8a22",
       "max": 74,
       "style": "IPY_MODEL_72c45482ad4743239cec372a59f96fac",
       "value": 74
      }
     },
     "d7e056c8cd7e4dbd9514115372bf11b4": {
      "model_module": "@jupyter-widgets/controls",
      "model_module_version": "1.5.0",
      "model_name": "FloatProgressModel",
      "state": {
       "description": "Train Epoch #40 - loss:   2.489: 100%",
       "layout": "IPY_MODEL_2071665ff77246068f23b6f79bb4d66e",
       "max": 589,
       "style": "IPY_MODEL_0c1a7ae2ad1940ce915c61399b54c0c1",
       "value": 589
      }
     },
     "d80c095f3c23404483aeba28ff6a071f": {
      "model_module": "@jupyter-widgets/base",
      "model_module_version": "1.2.0",
      "model_name": "LayoutModel",
      "state": {}
     },
     "d824a0212946433e88e7bbcbc99eb5f0": {
      "model_module": "@jupyter-widgets/controls",
      "model_module_version": "1.5.0",
      "model_name": "DescriptionStyleModel",
      "state": {
       "description_width": ""
      }
     },
     "d82ae790cdf9440ebe2070eb998228d3": {
      "model_module": "@jupyter-widgets/base",
      "model_module_version": "1.2.0",
      "model_name": "LayoutModel",
      "state": {}
     },
     "d83b9a7fa8c5468c9e9a3b72f1ce0bcc": {
      "model_module": "@jupyter-widgets/base",
      "model_module_version": "1.2.0",
      "model_name": "LayoutModel",
      "state": {}
     },
     "d849bc56481c4d1c810cc766d4958f10": {
      "model_module": "@jupyter-widgets/controls",
      "model_module_version": "1.5.0",
      "model_name": "ProgressStyleModel",
      "state": {
       "description_width": "initial"
      }
     },
     "d85252bba169420e814501c520eee318": {
      "model_module": "@jupyter-widgets/base",
      "model_module_version": "1.2.0",
      "model_name": "LayoutModel",
      "state": {}
     },
     "d85ab89ab9154090bc52b8cd9dcfe223": {
      "model_module": "@jupyter-widgets/controls",
      "model_module_version": "1.5.0",
      "model_name": "HBoxModel",
      "state": {
       "children": [
        "IPY_MODEL_d0e0e41f409145c0a7c2837e86b1af85",
        "IPY_MODEL_9e8eee6f90b5437dbbc3fa88a3d86a05"
       ],
       "layout": "IPY_MODEL_7af56b0f1fa74c28841efda0d05140fc"
      }
     },
     "d876f1a62e9647dca7a47fbabe7aeb31": {
      "model_module": "@jupyter-widgets/controls",
      "model_module_version": "1.5.0",
      "model_name": "HBoxModel",
      "state": {
       "children": [
        "IPY_MODEL_a54c3fad310e4a7bba867e13406f1536",
        "IPY_MODEL_4a1261dc116c45afb782bd1d5311db26"
       ],
       "layout": "IPY_MODEL_08a035f66e2f4d6292168027ee755a4f"
      }
     },
     "d8bcd0f3880a4f2a92a7dccc5506da29": {
      "model_module": "@jupyter-widgets/controls",
      "model_module_version": "1.5.0",
      "model_name": "ProgressStyleModel",
      "state": {
       "description_width": "initial"
      }
     },
     "d8c30d2ac7254602bb7f7f284d14ccd1": {
      "model_module": "@jupyter-widgets/controls",
      "model_module_version": "1.5.0",
      "model_name": "DescriptionStyleModel",
      "state": {
       "description_width": ""
      }
     },
     "d8d3b54b3bbc4654a61f6b78dae5a6bb": {
      "model_module": "@jupyter-widgets/base",
      "model_module_version": "1.2.0",
      "model_name": "LayoutModel",
      "state": {}
     },
     "d8ebd07c08e14cb6bda7cacf100a32de": {
      "model_module": "@jupyter-widgets/base",
      "model_module_version": "1.2.0",
      "model_name": "LayoutModel",
      "state": {}
     },
     "d91ea6cc4f3741b9bb10f124d2cd6df5": {
      "model_module": "@jupyter-widgets/base",
      "model_module_version": "1.2.0",
      "model_name": "LayoutModel",
      "state": {}
     },
     "d92d8b4ba876489490cab789784dc41b": {
      "model_module": "@jupyter-widgets/controls",
      "model_module_version": "1.5.0",
      "model_name": "DescriptionStyleModel",
      "state": {
       "description_width": ""
      }
     },
     "d989bbe5b80a4fb6b849095c11b02030": {
      "model_module": "@jupyter-widgets/base",
      "model_module_version": "1.2.0",
      "model_name": "LayoutModel",
      "state": {}
     },
     "d9ff1913f5d04780ae2e4f259153f6cf": {
      "model_module": "@jupyter-widgets/base",
      "model_module_version": "1.2.0",
      "model_name": "LayoutModel",
      "state": {}
     },
     "da0a191421ce41aa95c681114cfe03a2": {
      "model_module": "@jupyter-widgets/controls",
      "model_module_version": "1.5.0",
      "model_name": "DescriptionStyleModel",
      "state": {
       "description_width": ""
      }
     },
     "da0f88dac3ea47dbb685d304df0867bf": {
      "model_module": "@jupyter-widgets/controls",
      "model_module_version": "1.5.0",
      "model_name": "HTMLModel",
      "state": {
       "layout": "IPY_MODEL_8a1c73b2b9184995950f89645b551115",
       "style": "IPY_MODEL_06eccb3006134617a47ff9d7b0c25711",
       "value": " 589/589 [5:02:47&lt;00:00,  2.54it/s]"
      }
     },
     "da47c1ba76c5418a94ed2e8c53ec8ccc": {
      "model_module": "@jupyter-widgets/base",
      "model_module_version": "1.2.0",
      "model_name": "LayoutModel",
      "state": {}
     },
     "da8707040c80492cb37edc0a854ec803": {
      "model_module": "@jupyter-widgets/base",
      "model_module_version": "1.2.0",
      "model_name": "LayoutModel",
      "state": {}
     },
     "dab6342fa0fb4374ab9784d32255356b": {
      "model_module": "@jupyter-widgets/base",
      "model_module_version": "1.2.0",
      "model_name": "LayoutModel",
      "state": {}
     },
     "dac2fd3e0eec49f2a558909e9a5d847d": {
      "model_module": "@jupyter-widgets/controls",
      "model_module_version": "1.5.0",
      "model_name": "HBoxModel",
      "state": {
       "children": [
        "IPY_MODEL_0cce81e7a3724821bbf75f77c162f920",
        "IPY_MODEL_a3e3a2ef70fe44a38eb3e734d1778383"
       ],
       "layout": "IPY_MODEL_8702f19cc01241dcbc3854df5718a289"
      }
     },
     "db06674d64e64783808c9e5c1b8d5044": {
      "model_module": "@jupyter-widgets/base",
      "model_module_version": "1.2.0",
      "model_name": "LayoutModel",
      "state": {}
     },
     "db0e44e840cc441eae7e97376383a981": {
      "model_module": "@jupyter-widgets/controls",
      "model_module_version": "1.5.0",
      "model_name": "FloatProgressModel",
      "state": {
       "description": "Train Epoch #43 - loss:   2.316: 100%",
       "layout": "IPY_MODEL_3d5ae3c5606e4a51abeaf32aed84de5a",
       "max": 589,
       "style": "IPY_MODEL_881becc8ca4742628a3460c2fb9de7d7",
       "value": 589
      }
     },
     "db1cab08d2c24af5ab69b53f573ddec0": {
      "model_module": "@jupyter-widgets/base",
      "model_module_version": "1.2.0",
      "model_name": "LayoutModel",
      "state": {}
     },
     "db4ade277ec14a259ef15d9161838464": {
      "model_module": "@jupyter-widgets/controls",
      "model_module_version": "1.5.0",
      "model_name": "DescriptionStyleModel",
      "state": {
       "description_width": ""
      }
     },
     "db5b53e8617a41d49c9059921568459a": {
      "model_module": "@jupyter-widgets/controls",
      "model_module_version": "1.5.0",
      "model_name": "DescriptionStyleModel",
      "state": {
       "description_width": ""
      }
     },
     "db5d768f7c0049c1a895d6b673e374ee": {
      "model_module": "@jupyter-widgets/controls",
      "model_module_version": "1.5.0",
      "model_name": "FloatProgressModel",
      "state": {
       "description": "Train Epoch #50 - loss:    1.98: 100%",
       "layout": "IPY_MODEL_65aaa229ba49418f80188bc5ecfbbf05",
       "max": 589,
       "style": "IPY_MODEL_f83bf423e7234b6d9045583953b7f766",
       "value": 589
      }
     },
     "db750e2aeb574cba903053d7b3e6acff": {
      "model_module": "@jupyter-widgets/controls",
      "model_module_version": "1.5.0",
      "model_name": "HTMLModel",
      "state": {
       "layout": "IPY_MODEL_c940f4773b62437583b4e308b07df3fc",
       "style": "IPY_MODEL_e723ab600a014d6cb28541622a2bc272",
       "value": " 589/589 [6:34:14&lt;00:00,  2.73it/s]"
      }
     },
     "dba11b523f124bdf9e05d132ac02fbf5": {
      "model_module": "@jupyter-widgets/controls",
      "model_module_version": "1.5.0",
      "model_name": "ProgressStyleModel",
      "state": {
       "description_width": "initial"
      }
     },
     "dbb661dd280c42dca7394a066cc2234f": {
      "model_module": "@jupyter-widgets/controls",
      "model_module_version": "1.5.0",
      "model_name": "HTMLModel",
      "state": {
       "layout": "IPY_MODEL_fac76352520649469d29fb17f4835d29",
       "style": "IPY_MODEL_5e786805b10c47699f4ad6bb1c255489",
       "value": " 589/589 [3:33:26&lt;00:00,  2.22it/s]"
      }
     },
     "dbc30c0c8dcd4d4cadb7e2f6f293c2ce": {
      "model_module": "@jupyter-widgets/base",
      "model_module_version": "1.2.0",
      "model_name": "LayoutModel",
      "state": {}
     },
     "dbe74966a50f4ba6904aa037b92ef369": {
      "model_module": "@jupyter-widgets/base",
      "model_module_version": "1.2.0",
      "model_name": "LayoutModel",
      "state": {}
     },
     "dc05ecb66eb84b08bcb6aeac872bb8f1": {
      "model_module": "@jupyter-widgets/controls",
      "model_module_version": "1.5.0",
      "model_name": "FloatProgressModel",
      "state": {
       "description": "Train Epoch #19 - loss:    4.52: 100%",
       "layout": "IPY_MODEL_f5e92a2ca798468d9ebbac1df88375ab",
       "max": 589,
       "style": "IPY_MODEL_5707afd9b117403ba3b21b949e1c2a15",
       "value": 589
      }
     },
     "dc4dddb3a5f44ebcbe3780d848d42386": {
      "model_module": "@jupyter-widgets/base",
      "model_module_version": "1.2.0",
      "model_name": "LayoutModel",
      "state": {}
     },
     "dc4f5a675ed04bb4965fd6d87219e1fa": {
      "model_module": "@jupyter-widgets/controls",
      "model_module_version": "1.5.0",
      "model_name": "HTMLModel",
      "state": {
       "layout": "IPY_MODEL_c59922b4e9284fa690e028dd99db6aa4",
       "style": "IPY_MODEL_884b4fc2471846f3b46e40d093504816",
       "value": " 589/589 [5:45:07&lt;00:00,  2.96it/s]"
      }
     },
     "dc5764a4e3ff433a80492d2fff7b6274": {
      "model_module": "@jupyter-widgets/controls",
      "model_module_version": "1.5.0",
      "model_name": "DescriptionStyleModel",
      "state": {
       "description_width": ""
      }
     },
     "dc7d789b594541d08f6c82114e87cc78": {
      "model_module": "@jupyter-widgets/controls",
      "model_module_version": "1.5.0",
      "model_name": "FloatProgressModel",
      "state": {
       "description": "Train Epoch #1 - loss:   6.836: 100%",
       "layout": "IPY_MODEL_e1a6d98a2fff404491cb6e3109afa83e",
       "max": 589,
       "style": "IPY_MODEL_b9604fecdb4749438bca23f0b0022342",
       "value": 589
      }
     },
     "dc7e61bcaf28441890351da3b56ac357": {
      "model_module": "@jupyter-widgets/controls",
      "model_module_version": "1.5.0",
      "model_name": "HTMLModel",
      "state": {
       "layout": "IPY_MODEL_f3777650c0ce493692a4a44dedb2a5e7",
       "style": "IPY_MODEL_d03e3eabdfa2473cba21d36677205051",
       "value": " 74/74 [3:01:06&lt;00:00,  5.75it/s]"
      }
     },
     "dc886d189fce48a0a9f7eaac0c9c6209": {
      "model_module": "@jupyter-widgets/controls",
      "model_module_version": "1.5.0",
      "model_name": "FloatProgressModel",
      "state": {
       "description": "Train Epoch #15 - loss:   5.835: 100%",
       "layout": "IPY_MODEL_4b82ee0e936b4d3886461efd10851a71",
       "max": 589,
       "style": "IPY_MODEL_39a5416a963741288d36ea888e170dc6",
       "value": 589
      }
     },
     "dc97ed275a434d30acd70dc37cf021d7": {
      "model_module": "@jupyter-widgets/controls",
      "model_module_version": "1.5.0",
      "model_name": "FloatProgressModel",
      "state": {
       "description": "Val Epoch #45 - loss:   7.687: 100%",
       "layout": "IPY_MODEL_c489a9763046480fb2225a35d0457a25",
       "max": 74,
       "style": "IPY_MODEL_ecf1369f16c64b8c9d3809d76acddb6d",
       "value": 74
      }
     },
     "dce0bd99ebec48e2803a31a031382b21": {
      "model_module": "@jupyter-widgets/base",
      "model_module_version": "1.2.0",
      "model_name": "LayoutModel",
      "state": {}
     },
     "dd4882cabafd4567b1a94ad83660087d": {
      "model_module": "@jupyter-widgets/base",
      "model_module_version": "1.2.0",
      "model_name": "LayoutModel",
      "state": {}
     },
     "dd55c4df5bd84303a2daecb5dec4f1e1": {
      "model_module": "@jupyter-widgets/base",
      "model_module_version": "1.2.0",
      "model_name": "LayoutModel",
      "state": {}
     },
     "dd79070928b24cebbe79609aa08675ff": {
      "model_module": "@jupyter-widgets/base",
      "model_module_version": "1.2.0",
      "model_name": "LayoutModel",
      "state": {}
     },
     "dd99cda1f2f14d55bd36a4c2104f3bc6": {
      "model_module": "@jupyter-widgets/base",
      "model_module_version": "1.2.0",
      "model_name": "LayoutModel",
      "state": {}
     },
     "ddd1c30b88494c87a6e90f9676fecf99": {
      "model_module": "@jupyter-widgets/controls",
      "model_module_version": "1.5.0",
      "model_name": "HBoxModel",
      "state": {
       "children": [
        "IPY_MODEL_f1a244ab8ba54e80b8e09844df8f677d",
        "IPY_MODEL_04c8c2712dbe49009a61b58f4c676e65"
       ],
       "layout": "IPY_MODEL_380fdd5a69664581bad9976472f0668a"
      }
     },
     "dde9aa85eff24b20b8593b10eb10133e": {
      "model_module": "@jupyter-widgets/base",
      "model_module_version": "1.2.0",
      "model_name": "LayoutModel",
      "state": {}
     },
     "ddee9ba442ca41c49b920b31ce364c56": {
      "model_module": "@jupyter-widgets/controls",
      "model_module_version": "1.5.0",
      "model_name": "HTMLModel",
      "state": {
       "layout": "IPY_MODEL_70a8394f4ebf4ce1908e51f0375514f8",
       "style": "IPY_MODEL_36e5cb0a7d604efaad7a697e2bceea2d",
       "value": " 589/589 [4:52:14&lt;00:00,  2.73it/s]"
      }
     },
     "de014047234444b3859969b950b002e0": {
      "model_module": "@jupyter-widgets/controls",
      "model_module_version": "1.5.0",
      "model_name": "DescriptionStyleModel",
      "state": {
       "description_width": ""
      }
     },
     "de08886814bb49dc85b72a0b1357efd6": {
      "model_module": "@jupyter-widgets/controls",
      "model_module_version": "1.5.0",
      "model_name": "ProgressStyleModel",
      "state": {
       "description_width": "initial"
      }
     },
     "de0d580843de49af8017eddcb8ba13fa": {
      "model_module": "@jupyter-widgets/controls",
      "model_module_version": "1.5.0",
      "model_name": "HBoxModel",
      "state": {
       "children": [
        "IPY_MODEL_55dcbde13d56408cbfb4240579999a8e",
        "IPY_MODEL_573c0c0599b6424eb3faf9bba8b31c6c"
       ],
       "layout": "IPY_MODEL_b8180994f41c4967855018717dfff095"
      }
     },
     "de2ca28ad2f2457db72fa1a8257bd1ca": {
      "model_module": "@jupyter-widgets/controls",
      "model_module_version": "1.5.0",
      "model_name": "HTMLModel",
      "state": {
       "layout": "IPY_MODEL_17d64c46c8ec4ecfb252471872eceb32",
       "style": "IPY_MODEL_a41061a2f9b14add9986877b3c4353de",
       "value": " 74/74 [3:29:40&lt;00:00,  5.19it/s]"
      }
     },
     "de2f2fccff344d8e91775f928249edae": {
      "model_module": "@jupyter-widgets/controls",
      "model_module_version": "1.5.0",
      "model_name": "ProgressStyleModel",
      "state": {
       "description_width": "initial"
      }
     },
     "de4d1243ddd04d11a19dedc9567857a9": {
      "model_module": "@jupyter-widgets/controls",
      "model_module_version": "1.5.0",
      "model_name": "HTMLModel",
      "state": {
       "layout": "IPY_MODEL_fdbc2f80d73b4415b409fe1073c7b76e",
       "style": "IPY_MODEL_511efc2c3fad4d7aabeff49dcfbb8d2f",
       "value": " 589/589 [2:44:07&lt;00:00,  2.21it/s]"
      }
     },
     "de85250e205f473e9bcc1e9216cfc495": {
      "model_module": "@jupyter-widgets/base",
      "model_module_version": "1.2.0",
      "model_name": "LayoutModel",
      "state": {}
     },
     "decae615816f4274a113d126aca13cda": {
      "model_module": "@jupyter-widgets/controls",
      "model_module_version": "1.5.0",
      "model_name": "HBoxModel",
      "state": {
       "children": [
        "IPY_MODEL_eb27c6fde7724803bc158ce1fdacd713",
        "IPY_MODEL_c3c1cfe8c2ef4677bf0bbc24806557de"
       ],
       "layout": "IPY_MODEL_fdd3c1392f814e21988df22546f7eae8"
      }
     },
     "dedef48157794f7f98049c3b9c2fe36f": {
      "model_module": "@jupyter-widgets/controls",
      "model_module_version": "1.5.0",
      "model_name": "HBoxModel",
      "state": {
       "children": [
        "IPY_MODEL_5afe5a0de58846928d5c2b1aeb32d392",
        "IPY_MODEL_57a34304575740228a53b97052e10100"
       ],
       "layout": "IPY_MODEL_acf52a6a36d443329f4a90dfcfb52a9e"
      }
     },
     "dedf627b23fe40dbb4e2cf77275f7552": {
      "model_module": "@jupyter-widgets/base",
      "model_module_version": "1.2.0",
      "model_name": "LayoutModel",
      "state": {}
     },
     "dee28e7f7e97444895c4af136bb9d86c": {
      "model_module": "@jupyter-widgets/controls",
      "model_module_version": "1.5.0",
      "model_name": "ProgressStyleModel",
      "state": {
       "description_width": "initial"
      }
     },
     "defcd904fbc94b9c9037449a0ddc3bca": {
      "model_module": "@jupyter-widgets/controls",
      "model_module_version": "1.5.0",
      "model_name": "FloatProgressModel",
      "state": {
       "description": "Val Epoch #80 - loss:   8.611: 100%",
       "layout": "IPY_MODEL_abe796fb2a5d44bbb53efb4e87729792",
       "max": 74,
       "style": "IPY_MODEL_5abea99129cf464b97426fd1009f2963",
       "value": 74
      }
     },
     "df3a8717870e4fb5ac0f3d94797c124d": {
      "model_module": "@jupyter-widgets/controls",
      "model_module_version": "1.5.0",
      "model_name": "FloatProgressModel",
      "state": {
       "description": "Val Epoch #16 - loss:   6.804: 100%",
       "layout": "IPY_MODEL_189ab060f7444d15b398b8f0940ed592",
       "max": 74,
       "style": "IPY_MODEL_991a6175b7734e9a8ae7a6f74c206322",
       "value": 74
      }
     },
     "df7d72aea48847f78047385a4ec8e9d8": {
      "model_module": "@jupyter-widgets/controls",
      "model_module_version": "1.5.0",
      "model_name": "FloatProgressModel",
      "state": {
       "description": "Val Epoch #81 - loss:   8.588: 100%",
       "layout": "IPY_MODEL_40feac9edc3844c793fbc56a1c08d774",
       "max": 74,
       "style": "IPY_MODEL_c1553311cc584ca8ac69747bfe436cf9",
       "value": 74
      }
     },
     "dfa3c2a4ad37449ba6d433b664eba50d": {
      "model_module": "@jupyter-widgets/controls",
      "model_module_version": "1.5.0",
      "model_name": "HTMLModel",
      "state": {
       "layout": "IPY_MODEL_50f16fe2105a4ded8ef991c8d3546f47",
       "style": "IPY_MODEL_05aa6af69682441dae2bcc0a775b288d",
       "value": " 589/589 [8:01:18&lt;00:00,  4.59it/s]"
      }
     },
     "dfac1b1fe9b8485e887f7c82b6784a5c": {
      "model_module": "@jupyter-widgets/controls",
      "model_module_version": "1.5.0",
      "model_name": "DescriptionStyleModel",
      "state": {
       "description_width": ""
      }
     },
     "dfb145d4c5114421b2304b2274aef3cd": {
      "model_module": "@jupyter-widgets/base",
      "model_module_version": "1.2.0",
      "model_name": "LayoutModel",
      "state": {}
     },
     "dfc721c354654263ba5b13c504f0b768": {
      "model_module": "@jupyter-widgets/base",
      "model_module_version": "1.2.0",
      "model_name": "LayoutModel",
      "state": {}
     },
     "dfcce521426d4abeac3703fae341af51": {
      "model_module": "@jupyter-widgets/controls",
      "model_module_version": "1.5.0",
      "model_name": "FloatProgressModel",
      "state": {
       "description": "Val Epoch #73 - loss:   8.467: 100%",
       "layout": "IPY_MODEL_ceab08f0c2df466aaf49dadc51fbe2fd",
       "max": 74,
       "style": "IPY_MODEL_af575b0355c145aea9418e0686ac38e5",
       "value": 74
      }
     },
     "dff8c109dd424a348b224ce38b2ab4f8": {
      "model_module": "@jupyter-widgets/base",
      "model_module_version": "1.2.0",
      "model_name": "LayoutModel",
      "state": {}
     },
     "e0057eec0eeb47929c04c04d6c55abc7": {
      "model_module": "@jupyter-widgets/controls",
      "model_module_version": "1.5.0",
      "model_name": "HTMLModel",
      "state": {
       "layout": "IPY_MODEL_e572954a23624c29a6b3161f0dbc2964",
       "style": "IPY_MODEL_86191ab6de74421096075a377d1bb918",
       "value": " 589/589 [7:14:03&lt;00:00,  2.49it/s]"
      }
     },
     "e01adc0cf38d431b89e58c8660506701": {
      "model_module": "@jupyter-widgets/controls",
      "model_module_version": "1.5.0",
      "model_name": "FloatProgressModel",
      "state": {
       "description": "Train Epoch #6 - loss:   6.441: 100%",
       "layout": "IPY_MODEL_80b1c520f8264577921c3702ce9db76f",
       "max": 589,
       "style": "IPY_MODEL_fdf3ac4a180d4412943fae411e5d979b",
       "value": 589
      }
     },
     "e020dacaf56a470493cce7d72ad19dfa": {
      "model_module": "@jupyter-widgets/controls",
      "model_module_version": "1.5.0",
      "model_name": "HTMLModel",
      "state": {
       "layout": "IPY_MODEL_579fb2f643e74b6485ec87a6fddb2919",
       "style": "IPY_MODEL_00e009f7475c47d2960bf405e0129651",
       "value": " 589/589 [5:59:47&lt;00:00,  2.98it/s]"
      }
     },
     "e0663a44ad1a4aa485dfa3e4279fd854": {
      "model_module": "@jupyter-widgets/base",
      "model_module_version": "1.2.0",
      "model_name": "LayoutModel",
      "state": {}
     },
     "e07e77a6103c414d8b75843fb217ba3a": {
      "model_module": "@jupyter-widgets/base",
      "model_module_version": "1.2.0",
      "model_name": "LayoutModel",
      "state": {}
     },
     "e0889452b4f6449eb9316b97168e6a2a": {
      "model_module": "@jupyter-widgets/controls",
      "model_module_version": "1.5.0",
      "model_name": "DescriptionStyleModel",
      "state": {
       "description_width": ""
      }
     },
     "e08c4eda14134fd79ac26e73ebfc5d36": {
      "model_module": "@jupyter-widgets/controls",
      "model_module_version": "1.5.0",
      "model_name": "ProgressStyleModel",
      "state": {
       "description_width": "initial"
      }
     },
     "e0924d79540240b2bc92fdd5e438861e": {
      "model_module": "@jupyter-widgets/base",
      "model_module_version": "1.2.0",
      "model_name": "LayoutModel",
      "state": {}
     },
     "e097dbfb18c14ca688bf324827cef16e": {
      "model_module": "@jupyter-widgets/controls",
      "model_module_version": "1.5.0",
      "model_name": "HTMLModel",
      "state": {
       "layout": "IPY_MODEL_da8707040c80492cb37edc0a854ec803",
       "style": "IPY_MODEL_c522e5a525ac490f9d21ba77b8dff2f3",
       "value": " 74/74 [2:23:19&lt;00:00,  5.57it/s]"
      }
     },
     "e0b61f5f0ff84d85ae7ef27f3bde29c2": {
      "model_module": "@jupyter-widgets/controls",
      "model_module_version": "1.5.0",
      "model_name": "ProgressStyleModel",
      "state": {
       "description_width": "initial"
      }
     },
     "e0fe0f1523834e2faca6b6dee45c9a82": {
      "model_module": "@jupyter-widgets/controls",
      "model_module_version": "1.5.0",
      "model_name": "HBoxModel",
      "state": {
       "children": [
        "IPY_MODEL_62fb92b6319a45b8adadc913538aad2b",
        "IPY_MODEL_33783463b17f49d89dcbe8e665864776"
       ],
       "layout": "IPY_MODEL_f9ca0e9f3090411ab0c9f347e927ea5e"
      }
     },
     "e10387e3d3d24160bbd6991b97b6ab4e": {
      "model_module": "@jupyter-widgets/controls",
      "model_module_version": "1.5.0",
      "model_name": "ProgressStyleModel",
      "state": {
       "description_width": "initial"
      }
     },
     "e11baf88bb08479b8da179ebf3de76ae": {
      "model_module": "@jupyter-widgets/base",
      "model_module_version": "1.2.0",
      "model_name": "LayoutModel",
      "state": {}
     },
     "e14df2bd58b649358d049c3d9a3b09bc": {
      "model_module": "@jupyter-widgets/controls",
      "model_module_version": "1.5.0",
      "model_name": "ProgressStyleModel",
      "state": {
       "description_width": "initial"
      }
     },
     "e1650df623dc4ac782551a36b461c1a7": {
      "model_module": "@jupyter-widgets/controls",
      "model_module_version": "1.5.0",
      "model_name": "FloatProgressModel",
      "state": {
       "description": "Val Epoch #79 - loss:   8.541: 100%",
       "layout": "IPY_MODEL_ed909e8fe1984748a1399abbc076ff5b",
       "max": 74,
       "style": "IPY_MODEL_1db4de2818be4508a3789567f60c2a6a",
       "value": 74
      }
     },
     "e166c3ea030c49c0b5c81a357b9c2d85": {
      "model_module": "@jupyter-widgets/controls",
      "model_module_version": "1.5.0",
      "model_name": "HBoxModel",
      "state": {
       "children": [
        "IPY_MODEL_c29775e52eb44c4b893e779a75e29e61",
        "IPY_MODEL_2205b87d67824cfbbc1be47d1c4b955c"
       ],
       "layout": "IPY_MODEL_8e09c5f78fcd48339f31350439859f3a"
      }
     },
     "e1a6d98a2fff404491cb6e3109afa83e": {
      "model_module": "@jupyter-widgets/base",
      "model_module_version": "1.2.0",
      "model_name": "LayoutModel",
      "state": {}
     },
     "e1a87d5727224b559eca08cc0f02f7d5": {
      "model_module": "@jupyter-widgets/controls",
      "model_module_version": "1.5.0",
      "model_name": "FloatProgressModel",
      "state": {
       "description": "Val Epoch #5 - loss:   7.299: 100%",
       "layout": "IPY_MODEL_6a0babd06f50403984f0ddbdef6c1ce6",
       "max": 74,
       "style": "IPY_MODEL_6655e2472f454587a2a0c16733a414bf",
       "value": 74
      }
     },
     "e1c85b24ccdf4a4e8533dfc1ecffe201": {
      "model_module": "@jupyter-widgets/controls",
      "model_module_version": "1.5.0",
      "model_name": "ProgressStyleModel",
      "state": {
       "description_width": "initial"
      }
     },
     "e1ccc62453074c5c95ff5dcadf2c71f8": {
      "model_module": "@jupyter-widgets/controls",
      "model_module_version": "1.5.0",
      "model_name": "HBoxModel",
      "state": {
       "children": [
        "IPY_MODEL_4160bae73cfa4b62a36066a1849323c5",
        "IPY_MODEL_348baf641d96451889930250342d05e2"
       ],
       "layout": "IPY_MODEL_ff3bc4fec07d41e4bee2c9af72aef835"
      }
     },
     "e1d11fcff7b84ddca0980487f4b34dcc": {
      "model_module": "@jupyter-widgets/controls",
      "model_module_version": "1.5.0",
      "model_name": "HBoxModel",
      "state": {
       "children": [
        "IPY_MODEL_c1362a5f037243be821622d6ceb8c948",
        "IPY_MODEL_31d086bffc764bcc8d3defadab5b150a"
       ],
       "layout": "IPY_MODEL_4a3ac695ab9e4bb19b83e224f94d001a"
      }
     },
     "e1d9aab1d3364f0580716069187211bd": {
      "model_module": "@jupyter-widgets/controls",
      "model_module_version": "1.5.0",
      "model_name": "HTMLModel",
      "state": {
       "layout": "IPY_MODEL_815e673c943545ee9677f73fbf1b8599",
       "style": "IPY_MODEL_4326903256b14234884636c8c099f22a",
       "value": " 74/74 [2:40:08&lt;00:00,  5.53it/s]"
      }
     },
     "e1f121cd138a4fddbe37c496a13fb389": {
      "model_module": "@jupyter-widgets/controls",
      "model_module_version": "1.5.0",
      "model_name": "HTMLModel",
      "state": {
       "layout": "IPY_MODEL_a40d2ef94c1741a88704fc2b00cfe8d6",
       "style": "IPY_MODEL_4156dc91e57a45e1aee2d7873ea2461c",
       "value": " 74/74 [7:25:11&lt;00:00,  5.99it/s]"
      }
     },
     "e23779da4fc9422d8e70d947f4c969fb": {
      "model_module": "@jupyter-widgets/controls",
      "model_module_version": "1.5.0",
      "model_name": "HBoxModel",
      "state": {
       "children": [
        "IPY_MODEL_e6d8f6b5c8564057aa3b063f522dacd7",
        "IPY_MODEL_a62ef05964144c93b9e11f017f9dad50"
       ],
       "layout": "IPY_MODEL_15fa4806f64e4dcab36ad8a50ac1d730"
      }
     },
     "e261d6f0940d4df38f3b44ecf2306cdf": {
      "model_module": "@jupyter-widgets/base",
      "model_module_version": "1.2.0",
      "model_name": "LayoutModel",
      "state": {}
     },
     "e292691dd52d4ed9bf4c1b9ef34ee2f7": {
      "model_module": "@jupyter-widgets/controls",
      "model_module_version": "1.5.0",
      "model_name": "ProgressStyleModel",
      "state": {
       "description_width": "initial"
      }
     },
     "e299dd1d416a48bd8c3d0fc472b65289": {
      "model_module": "@jupyter-widgets/base",
      "model_module_version": "1.2.0",
      "model_name": "LayoutModel",
      "state": {}
     },
     "e2bef2ac3f474a1887d792ceef522a7a": {
      "model_module": "@jupyter-widgets/controls",
      "model_module_version": "1.5.0",
      "model_name": "HTMLModel",
      "state": {
       "layout": "IPY_MODEL_2509308874dc4a42b2006833649d8481",
       "style": "IPY_MODEL_1b46413e2b0a4ed9b4ef190f1874dcff",
       "value": " 74/74 [2:48:34&lt;00:00,  5.60it/s]"
      }
     },
     "e2cbb39dc71e4d12ac097c64eb419f32": {
      "model_module": "@jupyter-widgets/base",
      "model_module_version": "1.2.0",
      "model_name": "LayoutModel",
      "state": {}
     },
     "e2d732f099fd4abab574beafb62d62a9": {
      "model_module": "@jupyter-widgets/controls",
      "model_module_version": "1.5.0",
      "model_name": "DescriptionStyleModel",
      "state": {
       "description_width": ""
      }
     },
     "e315bd0593f1443d835796c2fef7190e": {
      "model_module": "@jupyter-widgets/base",
      "model_module_version": "1.2.0",
      "model_name": "LayoutModel",
      "state": {}
     },
     "e327453bf1914543a427117191a45fd4": {
      "model_module": "@jupyter-widgets/base",
      "model_module_version": "1.2.0",
      "model_name": "LayoutModel",
      "state": {}
     },
     "e332dc5cb8a84999b8fc829cd45bb2c3": {
      "model_module": "@jupyter-widgets/controls",
      "model_module_version": "1.5.0",
      "model_name": "ProgressStyleModel",
      "state": {
       "description_width": "initial"
      }
     },
     "e35f02c752a34a56a762c9b87a98e3f6": {
      "model_module": "@jupyter-widgets/base",
      "model_module_version": "1.2.0",
      "model_name": "LayoutModel",
      "state": {}
     },
     "e3752949b5c346f3849981a091eb60ab": {
      "model_module": "@jupyter-widgets/controls",
      "model_module_version": "1.5.0",
      "model_name": "ProgressStyleModel",
      "state": {
       "description_width": "initial"
      }
     },
     "e3acc8c2647d4a0bb7133cc44de79e4a": {
      "model_module": "@jupyter-widgets/controls",
      "model_module_version": "1.5.0",
      "model_name": "FloatProgressModel",
      "state": {
       "description": "Train Epoch #6 - loss:   7.005:  71%",
       "layout": "IPY_MODEL_2cf73dfb5dcf4071ac16a779c626fb09",
       "max": 589,
       "style": "IPY_MODEL_de2f2fccff344d8e91775f928249edae",
       "value": 418
      }
     },
     "e3b43bd2568b4c2397860fad4724a4f8": {
      "model_module": "@jupyter-widgets/controls",
      "model_module_version": "1.5.0",
      "model_name": "DescriptionStyleModel",
      "state": {
       "description_width": ""
      }
     },
     "e3bb62efab8e4432a4d25fc46a31715a": {
      "model_module": "@jupyter-widgets/controls",
      "model_module_version": "1.5.0",
      "model_name": "ProgressStyleModel",
      "state": {
       "description_width": "initial"
      }
     },
     "e3c9ae846c354ff9bae8b13c65684544": {
      "model_module": "@jupyter-widgets/base",
      "model_module_version": "1.2.0",
      "model_name": "LayoutModel",
      "state": {}
     },
     "e4072ac24974457b8c14da61c83dca83": {
      "model_module": "@jupyter-widgets/controls",
      "model_module_version": "1.5.0",
      "model_name": "HBoxModel",
      "state": {
       "children": [
        "IPY_MODEL_1ef4d570a4434dfab3fc667987d96bef",
        "IPY_MODEL_42227e13299d4d3aa32a3d4b2a870480"
       ],
       "layout": "IPY_MODEL_2693b91268734b73bee4edc85b74ca91"
      }
     },
     "e412d016435945af8d551eae2a3a6810": {
      "model_module": "@jupyter-widgets/base",
      "model_module_version": "1.2.0",
      "model_name": "LayoutModel",
      "state": {}
     },
     "e41a75f01c224234b875cf280dc26d48": {
      "model_module": "@jupyter-widgets/base",
      "model_module_version": "1.2.0",
      "model_name": "LayoutModel",
      "state": {}
     },
     "e41c8cfe21244733ab6b7a1e87d976e2": {
      "model_module": "@jupyter-widgets/base",
      "model_module_version": "1.2.0",
      "model_name": "LayoutModel",
      "state": {}
     },
     "e45e9c3a50814ff48fdc7ea46242e7a6": {
      "model_module": "@jupyter-widgets/base",
      "model_module_version": "1.2.0",
      "model_name": "LayoutModel",
      "state": {}
     },
     "e47b7f2756d84f4d8cc2b453aa07a573": {
      "model_module": "@jupyter-widgets/controls",
      "model_module_version": "1.5.0",
      "model_name": "HTMLModel",
      "state": {
       "layout": "IPY_MODEL_bb530a2871d14986888879645c7ecf71",
       "style": "IPY_MODEL_b12c23798d1f42a199a29463ced0326b",
       "value": " 74/74 [8:49:25&lt;00:00,  6.13it/s]"
      }
     },
     "e47e8a910d3d49998a8cfd88a5eb99a3": {
      "model_module": "@jupyter-widgets/controls",
      "model_module_version": "1.5.0",
      "model_name": "ProgressStyleModel",
      "state": {
       "description_width": "initial"
      }
     },
     "e4973aed1f114d25aa8948a07d221e44": {
      "model_module": "@jupyter-widgets/controls",
      "model_module_version": "1.5.0",
      "model_name": "FloatProgressModel",
      "state": {
       "description": "Train Epoch #36 - loss:   2.775: 100%",
       "layout": "IPY_MODEL_f21763d2bb914d53849d9317100c367a",
       "max": 589,
       "style": "IPY_MODEL_5031927fecba4fc5abd8f4f14d481d1f",
       "value": 589
      }
     },
     "e4b11d0a4037460ba8c6109eb162c213": {
      "model_module": "@jupyter-widgets/base",
      "model_module_version": "1.2.0",
      "model_name": "LayoutModel",
      "state": {}
     },
     "e4bed93276e8431b9a837ddc996884ab": {
      "model_module": "@jupyter-widgets/controls",
      "model_module_version": "1.5.0",
      "model_name": "DescriptionStyleModel",
      "state": {
       "description_width": ""
      }
     },
     "e4bf33b1ecfe49fabab353156b580aca": {
      "model_module": "@jupyter-widgets/base",
      "model_module_version": "1.2.0",
      "model_name": "LayoutModel",
      "state": {}
     },
     "e4d3a8bcf0884ac6b7db4315f7aceb12": {
      "model_module": "@jupyter-widgets/controls",
      "model_module_version": "1.5.0",
      "model_name": "DescriptionStyleModel",
      "state": {
       "description_width": ""
      }
     },
     "e51e9aeb4e0742ccbd1bf5cf9bb89a60": {
      "model_module": "@jupyter-widgets/controls",
      "model_module_version": "1.5.0",
      "model_name": "HTMLModel",
      "state": {
       "layout": "IPY_MODEL_8b8adabb63a34243aadea44edf07dbe5",
       "style": "IPY_MODEL_abe5e8e19f12421ca2709208928bd6d4",
       "value": " 10/589 [00:03&lt;02:52,  3.35it/s]"
      }
     },
     "e51f498c0b5a40ddba5a90a18afc8921": {
      "model_module": "@jupyter-widgets/base",
      "model_module_version": "1.2.0",
      "model_name": "LayoutModel",
      "state": {}
     },
     "e52108416fdb481da0e07a4869ca08bb": {
      "model_module": "@jupyter-widgets/base",
      "model_module_version": "1.2.0",
      "model_name": "LayoutModel",
      "state": {}
     },
     "e572954a23624c29a6b3161f0dbc2964": {
      "model_module": "@jupyter-widgets/base",
      "model_module_version": "1.2.0",
      "model_name": "LayoutModel",
      "state": {}
     },
     "e58538a5921844b88b0a5ea19989465a": {
      "model_module": "@jupyter-widgets/controls",
      "model_module_version": "1.5.0",
      "model_name": "DescriptionStyleModel",
      "state": {
       "description_width": ""
      }
     },
     "e5a06aad90d343a5bafecbdd8d4b1253": {
      "model_module": "@jupyter-widgets/base",
      "model_module_version": "1.2.0",
      "model_name": "LayoutModel",
      "state": {}
     },
     "e615882be88749b2b0e0ee93d725467d": {
      "model_module": "@jupyter-widgets/controls",
      "model_module_version": "1.5.0",
      "model_name": "HBoxModel",
      "state": {
       "children": [
        "IPY_MODEL_c7624123a545495592f58c1ac15d7631",
        "IPY_MODEL_21847ec7e2b644af8b72088ff707fdee"
       ],
       "layout": "IPY_MODEL_f7c415adb56a42acb435aad1f6e52920"
      }
     },
     "e66d9ec3e1274f3ea95a9141fa3a5810": {
      "model_module": "@jupyter-widgets/base",
      "model_module_version": "1.2.0",
      "model_name": "LayoutModel",
      "state": {}
     },
     "e6a98cf7e6ee4721a44d7f3fdd030c38": {
      "model_module": "@jupyter-widgets/controls",
      "model_module_version": "1.5.0",
      "model_name": "FloatProgressModel",
      "state": {
       "description": "Val Epoch #33 - loss:   7.127: 100%",
       "layout": "IPY_MODEL_ade38bdd8aad4fd69be2d46ac7ef24cb",
       "max": 74,
       "style": "IPY_MODEL_9fd0dddcb0bf40a7bdc1f070667b9dd2",
       "value": 74
      }
     },
     "e6d15f9b011344758e6d05d30e171c00": {
      "model_module": "@jupyter-widgets/controls",
      "model_module_version": "1.5.0",
      "model_name": "HBoxModel",
      "state": {
       "children": [
        "IPY_MODEL_3a162822287e48debefdc9300b01ac2f",
        "IPY_MODEL_63fbe1b6a9a741788f63efe432f42ca0"
       ],
       "layout": "IPY_MODEL_f8a2efe15ded44879b00743828ebbbb6"
      }
     },
     "e6d8f6b5c8564057aa3b063f522dacd7": {
      "model_module": "@jupyter-widgets/controls",
      "model_module_version": "1.5.0",
      "model_name": "FloatProgressModel",
      "state": {
       "description": "Train Epoch #23 - loss:    4.05: 100%",
       "layout": "IPY_MODEL_b9c0840a6d2942a8a264fc0031d4537e",
       "max": 589,
       "style": "IPY_MODEL_3c164d40001247d383eaca531bc8eacd",
       "value": 589
      }
     },
     "e6e329dd5c0d4fb5b34c5bae06fb8ad0": {
      "model_module": "@jupyter-widgets/base",
      "model_module_version": "1.2.0",
      "model_name": "LayoutModel",
      "state": {}
     },
     "e6e55816d03e411c96d391b447daa35a": {
      "model_module": "@jupyter-widgets/base",
      "model_module_version": "1.2.0",
      "model_name": "LayoutModel",
      "state": {}
     },
     "e6e7181cb3e94002883d7593e49ddb3a": {
      "model_module": "@jupyter-widgets/controls",
      "model_module_version": "1.5.0",
      "model_name": "FloatProgressModel",
      "state": {
       "description": "Train Epoch #5 - loss:    6.54: 100%",
       "layout": "IPY_MODEL_27fcdc1b85da4f2394b6f131c813eb07",
       "max": 589,
       "style": "IPY_MODEL_cf662e12b54045409928371b1db8ebfe",
       "value": 589
      }
     },
     "e723ab600a014d6cb28541622a2bc272": {
      "model_module": "@jupyter-widgets/controls",
      "model_module_version": "1.5.0",
      "model_name": "DescriptionStyleModel",
      "state": {
       "description_width": ""
      }
     },
     "e73af92fa62b48b9b9a8d4be2e9901b6": {
      "model_module": "@jupyter-widgets/controls",
      "model_module_version": "1.5.0",
      "model_name": "HTMLModel",
      "state": {
       "layout": "IPY_MODEL_063cafd3f5884e4792cd60ffd6e56fce",
       "style": "IPY_MODEL_3ac7246dc999460f9ed62530cada374c",
       "value": " 74/74 [4:52:27&lt;00:00,  5.66it/s]"
      }
     },
     "e7542d23607b4d8eabc106ad4d86f3e6": {
      "model_module": "@jupyter-widgets/base",
      "model_module_version": "1.2.0",
      "model_name": "LayoutModel",
      "state": {}
     },
     "e764cb5a92ef4e9ca75bd48301f8476f": {
      "model_module": "@jupyter-widgets/base",
      "model_module_version": "1.2.0",
      "model_name": "LayoutModel",
      "state": {}
     },
     "e780a5f33bbe4cb39f50183137a648c6": {
      "model_module": "@jupyter-widgets/controls",
      "model_module_version": "1.5.0",
      "model_name": "DescriptionStyleModel",
      "state": {
       "description_width": ""
      }
     },
     "e7bb0ae9b4aa4886a73786e7122aa7a1": {
      "model_module": "@jupyter-widgets/base",
      "model_module_version": "1.2.0",
      "model_name": "LayoutModel",
      "state": {}
     },
     "e7d081b52f104432986e58c5f3626906": {
      "model_module": "@jupyter-widgets/controls",
      "model_module_version": "1.5.0",
      "model_name": "FloatProgressModel",
      "state": {
       "description": "Val Epoch #84 - loss:   8.633: 100%",
       "layout": "IPY_MODEL_e412d016435945af8d551eae2a3a6810",
       "max": 74,
       "style": "IPY_MODEL_edd0826c10854123873f0d25e9630231",
       "value": 74
      }
     },
     "e7f2d42f9e324defad61a35133449ddd": {
      "model_module": "@jupyter-widgets/base",
      "model_module_version": "1.2.0",
      "model_name": "LayoutModel",
      "state": {}
     },
     "e83b87a73c48470287cf29d0e39a5a3b": {
      "model_module": "@jupyter-widgets/base",
      "model_module_version": "1.2.0",
      "model_name": "LayoutModel",
      "state": {}
     },
     "e83cf79c1e004b22b71f21f0b35e6226": {
      "model_module": "@jupyter-widgets/base",
      "model_module_version": "1.2.0",
      "model_name": "LayoutModel",
      "state": {}
     },
     "e874f784cbb3446d88ec6718eb0e9671": {
      "model_module": "@jupyter-widgets/controls",
      "model_module_version": "1.5.0",
      "model_name": "ProgressStyleModel",
      "state": {
       "description_width": "initial"
      }
     },
     "e8c9402277294c289c82091517887650": {
      "model_module": "@jupyter-widgets/controls",
      "model_module_version": "1.5.0",
      "model_name": "FloatProgressModel",
      "state": {
       "description": "Val Epoch #39 - loss:   7.373: 100%",
       "layout": "IPY_MODEL_24b940614d6247fd802beef2c39061f2",
       "max": 74,
       "style": "IPY_MODEL_34db2440961d454d83b9b47fafc8f3b8",
       "value": 74
      }
     },
     "e8f03add44d94788848c99f3448d032a": {
      "model_module": "@jupyter-widgets/base",
      "model_module_version": "1.2.0",
      "model_name": "LayoutModel",
      "state": {}
     },
     "e8f2dac68cb94e9a9f3b4ffe6e121530": {
      "model_module": "@jupyter-widgets/base",
      "model_module_version": "1.2.0",
      "model_name": "LayoutModel",
      "state": {}
     },
     "e93e7c89ae9a4c41a34c7a157ea9fc9f": {
      "model_module": "@jupyter-widgets/controls",
      "model_module_version": "1.5.0",
      "model_name": "FloatProgressModel",
      "state": {
       "description": "Val Epoch #13 - loss:   7.221: 100%",
       "layout": "IPY_MODEL_0fd2526ecf9e4c23b67eba36d0e96024",
       "max": 74,
       "style": "IPY_MODEL_3c10a011ee3d46d78e1fea73f183508c",
       "value": 74
      }
     },
     "e94940dad40c46d3a5c60fb4fe9f9f0b": {
      "model_module": "@jupyter-widgets/controls",
      "model_module_version": "1.5.0",
      "model_name": "ProgressStyleModel",
      "state": {
       "description_width": "initial"
      }
     },
     "e95df7c8b6944488ad35ec96e04ed578": {
      "model_module": "@jupyter-widgets/base",
      "model_module_version": "1.2.0",
      "model_name": "LayoutModel",
      "state": {}
     },
     "e96c8914fc624af3b88ab4f9e74e7693": {
      "model_module": "@jupyter-widgets/base",
      "model_module_version": "1.2.0",
      "model_name": "LayoutModel",
      "state": {}
     },
     "e96fd02b4fd141e5bd47d3a4f086b907": {
      "model_module": "@jupyter-widgets/base",
      "model_module_version": "1.2.0",
      "model_name": "LayoutModel",
      "state": {}
     },
     "e98a72d6a1634a33a7faac66226c4be7": {
      "model_module": "@jupyter-widgets/controls",
      "model_module_version": "1.5.0",
      "model_name": "HTMLModel",
      "state": {
       "layout": "IPY_MODEL_79564fa2fd114f76abc0fb99abd665ee",
       "style": "IPY_MODEL_3f9bfcda02ed4cb29b569db15db040ab",
       "value": " 589/589 [3:53:05&lt;00:00,  2.22it/s]"
      }
     },
     "e99029e9f3c149c790749e0a50a52102": {
      "model_module": "@jupyter-widgets/controls",
      "model_module_version": "1.5.0",
      "model_name": "FloatProgressModel",
      "state": {
       "description": "Val Epoch #8 - loss:   8.905: 100%",
       "layout": "IPY_MODEL_184430aa3ae540e0ab999db5a9ea579d",
       "max": 74,
       "style": "IPY_MODEL_01bcf3ce4b8543e7ad13f881e311587f",
       "value": 74
      }
     },
     "e9a3397b37da440084cd5c756e30107f": {
      "model_module": "@jupyter-widgets/base",
      "model_module_version": "1.2.0",
      "model_name": "LayoutModel",
      "state": {}
     },
     "e9b5a3c533ae42e484a19a7580210d00": {
      "model_module": "@jupyter-widgets/controls",
      "model_module_version": "1.5.0",
      "model_name": "FloatProgressModel",
      "state": {
       "description": "Val Epoch #70 - loss:   8.401: 100%",
       "layout": "IPY_MODEL_2f6d39e7dfba4b69b86d763609a708af",
       "max": 74,
       "style": "IPY_MODEL_70a0395d841e4770a92d99663f1c0b45",
       "value": 74
      }
     },
     "e9e6199b02ee4aee94d4bcc6cbc2c5ef": {
      "model_module": "@jupyter-widgets/controls",
      "model_module_version": "1.5.0",
      "model_name": "ProgressStyleModel",
      "state": {
       "description_width": "initial"
      }
     },
     "ea0a3d940ba3479386169e23b213718d": {
      "model_module": "@jupyter-widgets/base",
      "model_module_version": "1.2.0",
      "model_name": "LayoutModel",
      "state": {}
     },
     "ea34b33d22774bc68c7975934290e59e": {
      "model_module": "@jupyter-widgets/base",
      "model_module_version": "1.2.0",
      "model_name": "LayoutModel",
      "state": {}
     },
     "ea3a2353b6b248ac8f2a366e18cc52f3": {
      "model_module": "@jupyter-widgets/base",
      "model_module_version": "1.2.0",
      "model_name": "LayoutModel",
      "state": {}
     },
     "ea5e979908b54ca1a7465656e23d4f81": {
      "model_module": "@jupyter-widgets/controls",
      "model_module_version": "1.5.0",
      "model_name": "ProgressStyleModel",
      "state": {
       "description_width": "initial"
      }
     },
     "eaf38e68143b451a9a3942bba3b7a79d": {
      "model_module": "@jupyter-widgets/controls",
      "model_module_version": "1.5.0",
      "model_name": "DescriptionStyleModel",
      "state": {
       "description_width": ""
      }
     },
     "eb27c6fde7724803bc158ce1fdacd713": {
      "model_module": "@jupyter-widgets/controls",
      "model_module_version": "1.5.0",
      "model_name": "FloatProgressModel",
      "state": {
       "description": "Train Epoch #70 - loss:   1.505: 100%",
       "layout": "IPY_MODEL_13ce10733c514f0786d35d3d3504dddc",
       "max": 589,
       "style": "IPY_MODEL_ffdd0088c1024ae3bab566c5eff80e95",
       "value": 589
      }
     },
     "eb5125b74fbe4a06b6da5cf82fcf851e": {
      "model_module": "@jupyter-widgets/controls",
      "model_module_version": "1.5.0",
      "model_name": "ProgressStyleModel",
      "state": {
       "description_width": "initial"
      }
     },
     "eb754d6208a34f46b100ceb9168b5b20": {
      "model_module": "@jupyter-widgets/controls",
      "model_module_version": "1.5.0",
      "model_name": "HBoxModel",
      "state": {
       "children": [
        "IPY_MODEL_a8cf2af412c84fc692da9733d8e2d15f",
        "IPY_MODEL_dc7e61bcaf28441890351da3b56ac357"
       ],
       "layout": "IPY_MODEL_2da939beb0664c6d8fce54936f9d94b6"
      }
     },
     "eba2879a560546ffb2e6aed468641b05": {
      "model_module": "@jupyter-widgets/base",
      "model_module_version": "1.2.0",
      "model_name": "LayoutModel",
      "state": {}
     },
     "ebe1496c53a547b1ad5bf857489f47d7": {
      "model_module": "@jupyter-widgets/controls",
      "model_module_version": "1.5.0",
      "model_name": "ProgressStyleModel",
      "state": {
       "description_width": "initial"
      }
     },
     "ebf6d6d5468f4cacbbe2d87338d6d8fb": {
      "model_module": "@jupyter-widgets/controls",
      "model_module_version": "1.5.0",
      "model_name": "HTMLModel",
      "state": {
       "layout": "IPY_MODEL_d4264f57f9174400955907713ddf992e",
       "style": "IPY_MODEL_b60f2c8819754401aced37597ff2b4ca",
       "value": " 74/74 [2:52:47&lt;00:00,  5.62it/s]"
      }
     },
     "ec2cacb51092492c96302c72e38bf2d7": {
      "model_module": "@jupyter-widgets/controls",
      "model_module_version": "1.5.0",
      "model_name": "DescriptionStyleModel",
      "state": {
       "description_width": ""
      }
     },
     "ec30a086ca8e49e58f7d33a7770aebd9": {
      "model_module": "@jupyter-widgets/controls",
      "model_module_version": "1.5.0",
      "model_name": "ProgressStyleModel",
      "state": {
       "description_width": "initial"
      }
     },
     "ec3372a2441341b0b36ba59a2fd55b52": {
      "model_module": "@jupyter-widgets/base",
      "model_module_version": "1.2.0",
      "model_name": "LayoutModel",
      "state": {}
     },
     "eca09ed76ae74337aea2c7abec28c6d4": {
      "model_module": "@jupyter-widgets/base",
      "model_module_version": "1.2.0",
      "model_name": "LayoutModel",
      "state": {}
     },
     "eca2675341c542c28da8ea33494e7e10": {
      "model_module": "@jupyter-widgets/base",
      "model_module_version": "1.2.0",
      "model_name": "LayoutModel",
      "state": {}
     },
     "eca938d13e7242f8adb53f95d8cccc24": {
      "model_module": "@jupyter-widgets/controls",
      "model_module_version": "1.5.0",
      "model_name": "HTMLModel",
      "state": {
       "layout": "IPY_MODEL_57e6e8f13ae9451fb4345c3575209dd4",
       "style": "IPY_MODEL_93e973f7a70f4723bb0a46874a40bd98",
       "value": " 74/74 [6:11:14&lt;00:00,  6.74it/s]"
      }
     },
     "ecae87c9408e424db28460a5c04bd773": {
      "model_module": "@jupyter-widgets/controls",
      "model_module_version": "1.5.0",
      "model_name": "DescriptionStyleModel",
      "state": {
       "description_width": ""
      }
     },
     "ecf1369f16c64b8c9d3809d76acddb6d": {
      "model_module": "@jupyter-widgets/controls",
      "model_module_version": "1.5.0",
      "model_name": "ProgressStyleModel",
      "state": {
       "description_width": "initial"
      }
     },
     "ecf28ee13a4b446c8e1f0731a10085ef": {
      "model_module": "@jupyter-widgets/controls",
      "model_module_version": "1.5.0",
      "model_name": "FloatProgressModel",
      "state": {
       "description": "Val Epoch #10 - loss:   7.446: 100%",
       "layout": "IPY_MODEL_766ddb1327af4818a6d8e572c59fc400",
       "max": 74,
       "style": "IPY_MODEL_17771a0a876e4ddbb9a1b8fe39f4350d",
       "value": 74
      }
     },
     "ecf5f8d55e5a496bb38644e0f2f3f068": {
      "model_module": "@jupyter-widgets/controls",
      "model_module_version": "1.5.0",
      "model_name": "HTMLModel",
      "state": {
       "layout": "IPY_MODEL_fc7107ea0b104d12b7e4af410016c14b",
       "style": "IPY_MODEL_4d3f28626da441a3bd299c9714c3423e",
       "value": " 74/74 [4:41:47&lt;00:00,  5.53it/s]"
      }
     },
     "ed24f7accff94b23957ef4c818479077": {
      "model_module": "@jupyter-widgets/controls",
      "model_module_version": "1.5.0",
      "model_name": "FloatProgressModel",
      "state": {
       "description": "Val Epoch #17 - loss:   6.904: 100%",
       "layout": "IPY_MODEL_514d872a21e548e3bef3072b7461fbb2",
       "max": 74,
       "style": "IPY_MODEL_6506b5d1803d420a8ec714f0f7e3ce68",
       "value": 74
      }
     },
     "ed30771cbd7d41229448be1f4b8752c2": {
      "model_module": "@jupyter-widgets/controls",
      "model_module_version": "1.5.0",
      "model_name": "ProgressStyleModel",
      "state": {
       "description_width": "initial"
      }
     },
     "ed563363463c4e898e25708e15586da2": {
      "model_module": "@jupyter-widgets/base",
      "model_module_version": "1.2.0",
      "model_name": "LayoutModel",
      "state": {}
     },
     "ed635a7093644f2a95dce860bc608c27": {
      "model_module": "@jupyter-widgets/controls",
      "model_module_version": "1.5.0",
      "model_name": "HTMLModel",
      "state": {
       "layout": "IPY_MODEL_f72b0978b7fd4acc9db0753f6569a5c8",
       "style": "IPY_MODEL_a3abb46b75c548dda7fa474b616eeed1",
       "value": " 589/589 [1:49:05&lt;00:00,  2.13it/s]"
      }
     },
     "ed6b9f84d3674665999fb63bada0b9a8": {
      "model_module": "@jupyter-widgets/controls",
      "model_module_version": "1.5.0",
      "model_name": "ProgressStyleModel",
      "state": {
       "description_width": "initial"
      }
     },
     "ed909e8fe1984748a1399abbc076ff5b": {
      "model_module": "@jupyter-widgets/base",
      "model_module_version": "1.2.0",
      "model_name": "LayoutModel",
      "state": {}
     },
     "edaeb05041254f3b97813e6f7c919f5f": {
      "model_module": "@jupyter-widgets/base",
      "model_module_version": "1.2.0",
      "model_name": "LayoutModel",
      "state": {}
     },
     "edc5d86bc7cb48d9b350229d78957c29": {
      "model_module": "@jupyter-widgets/base",
      "model_module_version": "1.2.0",
      "model_name": "LayoutModel",
      "state": {}
     },
     "edd0826c10854123873f0d25e9630231": {
      "model_module": "@jupyter-widgets/controls",
      "model_module_version": "1.5.0",
      "model_name": "ProgressStyleModel",
      "state": {
       "description_width": "initial"
      }
     },
     "edf0d941ab994cc0ac19d3da4d35eb1a": {
      "model_module": "@jupyter-widgets/base",
      "model_module_version": "1.2.0",
      "model_name": "LayoutModel",
      "state": {}
     },
     "edf13522ceb6451e93744fa13b36af3c": {
      "model_module": "@jupyter-widgets/base",
      "model_module_version": "1.2.0",
      "model_name": "LayoutModel",
      "state": {}
     },
     "ee17311858984feb9706e30906be2e9b": {
      "model_module": "@jupyter-widgets/controls",
      "model_module_version": "1.5.0",
      "model_name": "HBoxModel",
      "state": {
       "children": [
        "IPY_MODEL_9d987be475904b9b9979ecf0d747e3db",
        "IPY_MODEL_cacc7186161b40d2992583f07dd947c2"
       ],
       "layout": "IPY_MODEL_496518a5ba6d4f6c96f24c92f5188820"
      }
     },
     "ee4bbfd0bac54fe8805f3c8135a93656": {
      "model_module": "@jupyter-widgets/controls",
      "model_module_version": "1.5.0",
      "model_name": "HBoxModel",
      "state": {
       "children": [
        "IPY_MODEL_017b8d826feb4907b06ad6a2fc96b862",
        "IPY_MODEL_909c5c9bfae94976908de936a3691d47"
       ],
       "layout": "IPY_MODEL_31b81dae4d1549cf9b4828da2b6ff1ea"
      }
     },
     "ee54a098435d4a17aa0b70c3f07e714b": {
      "model_module": "@jupyter-widgets/controls",
      "model_module_version": "1.5.0",
      "model_name": "HTMLModel",
      "state": {
       "layout": "IPY_MODEL_77d4bd854c3f4cac97d0b69ad1e00c49",
       "style": "IPY_MODEL_4729c7f5ee4946c2a491584947e40b5e",
       "value": " 589/589 [4:34:16&lt;00:00,  2.67it/s]"
      }
     },
     "ee5d89d20c524c58b5d65ce6b9e18200": {
      "model_module": "@jupyter-widgets/controls",
      "model_module_version": "1.5.0",
      "model_name": "ProgressStyleModel",
      "state": {
       "description_width": "initial"
      }
     },
     "ee912cead942463489dbc9a4fdc0b83d": {
      "model_module": "@jupyter-widgets/base",
      "model_module_version": "1.2.0",
      "model_name": "LayoutModel",
      "state": {}
     },
     "eea021cc3cc942a79f26a3e3e6218421": {
      "model_module": "@jupyter-widgets/controls",
      "model_module_version": "1.5.0",
      "model_name": "HTMLModel",
      "state": {
       "layout": "IPY_MODEL_55e09faf1a604e0c9a68738f899661ba",
       "style": "IPY_MODEL_a06233148a944a668a4bf5c78b091462",
       "value": " 589/589 [8:07:08&lt;00:00,  4.49it/s]"
      }
     },
     "eebb1044f05940e8925639e63ae3504b": {
      "model_module": "@jupyter-widgets/controls",
      "model_module_version": "1.5.0",
      "model_name": "FloatProgressModel",
      "state": {
       "description": "Val Epoch #62 - loss:   8.227: 100%",
       "layout": "IPY_MODEL_1542af1cc3da46eeac730a9026c0ec7c",
       "max": 74,
       "style": "IPY_MODEL_e08c4eda14134fd79ac26e73ebfc5d36",
       "value": 74
      }
     },
     "eec0f73a8d8b4743afb20738b824c0a0": {
      "model_module": "@jupyter-widgets/base",
      "model_module_version": "1.2.0",
      "model_name": "LayoutModel",
      "state": {}
     },
     "eec94b4d03de4077863bc03e7edf2322": {
      "model_module": "@jupyter-widgets/base",
      "model_module_version": "1.2.0",
      "model_name": "LayoutModel",
      "state": {}
     },
     "eed786e6d74e4fcd9cfe40b11423082f": {
      "model_module": "@jupyter-widgets/controls",
      "model_module_version": "1.5.0",
      "model_name": "ProgressStyleModel",
      "state": {
       "description_width": "initial"
      }
     },
     "eede02b2612e4b82985d79300274cd37": {
      "model_module": "@jupyter-widgets/base",
      "model_module_version": "1.2.0",
      "model_name": "LayoutModel",
      "state": {}
     },
     "eef53d164f9545d097e5ee728ff0acf4": {
      "model_module": "@jupyter-widgets/base",
      "model_module_version": "1.2.0",
      "model_name": "LayoutModel",
      "state": {}
     },
     "eef9df3bbe5e4502b276f9b6b7f3556c": {
      "model_module": "@jupyter-widgets/controls",
      "model_module_version": "1.5.0",
      "model_name": "FloatProgressModel",
      "state": {
       "description": "Train Epoch #94 - loss:   1.302: 100%",
       "layout": "IPY_MODEL_057d1b21f6c64cb0b5f27ed072bc6108",
       "max": 589,
       "style": "IPY_MODEL_71861bb83c8e40dc94ec601bc551ec86",
       "value": 589
      }
     },
     "ef301361dfdc4fc1972b4892599d28c3": {
      "model_module": "@jupyter-widgets/base",
      "model_module_version": "1.2.0",
      "model_name": "LayoutModel",
      "state": {}
     },
     "ef74422fba4945768dead374e37de9cc": {
      "model_module": "@jupyter-widgets/controls",
      "model_module_version": "1.5.0",
      "model_name": "DescriptionStyleModel",
      "state": {
       "description_width": ""
      }
     },
     "ef7727d2fb8b454fb2f92e483d952df4": {
      "model_module": "@jupyter-widgets/controls",
      "model_module_version": "1.5.0",
      "model_name": "DescriptionStyleModel",
      "state": {
       "description_width": ""
      }
     },
     "ef9164ad86dc4bedb4e3d33d6168261c": {
      "model_module": "@jupyter-widgets/controls",
      "model_module_version": "1.5.0",
      "model_name": "DescriptionStyleModel",
      "state": {
       "description_width": ""
      }
     },
     "ef9b1bcc83f0499495a54f2086e0df06": {
      "model_module": "@jupyter-widgets/base",
      "model_module_version": "1.2.0",
      "model_name": "LayoutModel",
      "state": {}
     },
     "ef9e7b1b0af04068a660eb0c1e75b7da": {
      "model_module": "@jupyter-widgets/controls",
      "model_module_version": "1.5.0",
      "model_name": "HBoxModel",
      "state": {
       "children": [
        "IPY_MODEL_4ed7616c27da4f42883b18a0f0964d7f",
        "IPY_MODEL_abe949812ab741c8858bf5a75b9761e7"
       ],
       "layout": "IPY_MODEL_5d31514e36864e3582d061d01f4e9dc5"
      }
     },
     "ef9fd3684fb04ee988ae20d5241b893c": {
      "model_module": "@jupyter-widgets/base",
      "model_module_version": "1.2.0",
      "model_name": "LayoutModel",
      "state": {}
     },
     "efc91cc4c1084144922637d024169bab": {
      "model_module": "@jupyter-widgets/base",
      "model_module_version": "1.2.0",
      "model_name": "LayoutModel",
      "state": {}
     },
     "efd1c8b1e1da4eed845cdf3d8da712ff": {
      "model_module": "@jupyter-widgets/base",
      "model_module_version": "1.2.0",
      "model_name": "LayoutModel",
      "state": {}
     },
     "eff47cc9cf964d11858301f66a5dfcf5": {
      "model_module": "@jupyter-widgets/controls",
      "model_module_version": "1.5.0",
      "model_name": "HTMLModel",
      "state": {
       "layout": "IPY_MODEL_960ab5363c334058be284f3f8c6dd697",
       "style": "IPY_MODEL_b62c74e06ede474281f0bd5e9dbdd225",
       "value": " 589/589 [3:41:21&lt;00:00,  2.36it/s]"
      }
     },
     "f050c7ef6528493d8fc74c1249adaa7a": {
      "model_module": "@jupyter-widgets/controls",
      "model_module_version": "1.5.0",
      "model_name": "HTMLModel",
      "state": {
       "layout": "IPY_MODEL_9b11bbac0fa4411781ae911a16cc8d06",
       "style": "IPY_MODEL_9f191a37ed0940f79dca01863cec6e92",
       "value": " 589/589 [6:44:13&lt;00:00,  2.75it/s]"
      }
     },
     "f066bda145c54432af88e620ed90f5e2": {
      "model_module": "@jupyter-widgets/controls",
      "model_module_version": "1.5.0",
      "model_name": "HBoxModel",
      "state": {
       "children": [
        "IPY_MODEL_e4973aed1f114d25aa8948a07d221e44",
        "IPY_MODEL_a196ca4e0e8e4f34afe9a6077161af5f"
       ],
       "layout": "IPY_MODEL_b34d3a9f846a423abcf52e3913070e2d"
      }
     },
     "f066daa0aed1490296f017004ef961ef": {
      "model_module": "@jupyter-widgets/controls",
      "model_module_version": "1.5.0",
      "model_name": "FloatProgressModel",
      "state": {
       "description": "Val Epoch #46 - loss:   7.681: 100%",
       "layout": "IPY_MODEL_75ea0c72403b44fbbf7c559f57e9b401",
       "max": 74,
       "style": "IPY_MODEL_eb5125b74fbe4a06b6da5cf82fcf851e",
       "value": 74
      }
     },
     "f07828e3f9d44f898888d1f6e780daab": {
      "model_module": "@jupyter-widgets/base",
      "model_module_version": "1.2.0",
      "model_name": "LayoutModel",
      "state": {}
     },
     "f08adde3bd5a49e599bad3ef28cc9896": {
      "model_module": "@jupyter-widgets/controls",
      "model_module_version": "1.5.0",
      "model_name": "HTMLModel",
      "state": {
       "layout": "IPY_MODEL_ac7c2671ee9a4d6a9abf1a2efe42f825",
       "style": "IPY_MODEL_c8ab98548e31432aa2e95dd097d75ada",
       "value": " 589/589 [3:05:00&lt;00:00,  2.43it/s]"
      }
     },
     "f0914e3c2f494b8aa3f7ebd5958e2256": {
      "model_module": "@jupyter-widgets/base",
      "model_module_version": "1.2.0",
      "model_name": "LayoutModel",
      "state": {}
     },
     "f09b129374ee4290b058563599298871": {
      "model_module": "@jupyter-widgets/controls",
      "model_module_version": "1.5.0",
      "model_name": "FloatProgressModel",
      "state": {
       "description": "Train Epoch #69 - loss:   1.522: 100%",
       "layout": "IPY_MODEL_c7102de80044489c985fab2709813825",
       "max": 589,
       "style": "IPY_MODEL_518a26162d9846978f319bf4cdaf5da9",
       "value": 589
      }
     },
     "f09dc96fbd3e4af5abaf778c1a601309": {
      "model_module": "@jupyter-widgets/controls",
      "model_module_version": "1.5.0",
      "model_name": "FloatProgressModel",
      "state": {
       "description": "Train Epoch #2 - loss:   6.909: 100%",
       "layout": "IPY_MODEL_0aa7e6a189e54d079b33e4d76eddf2e7",
       "max": 589,
       "style": "IPY_MODEL_d687bb91db8444939630260dee5a396a",
       "value": 589
      }
     },
     "f0b0cdf77ec146e88234d101cf41a33f": {
      "model_module": "@jupyter-widgets/controls",
      "model_module_version": "1.5.0",
      "model_name": "FloatProgressModel",
      "state": {
       "description": "Val Epoch #65 - loss:   8.261: 100%",
       "layout": "IPY_MODEL_24cc9b03413c40c6aeab8f2eb70f2043",
       "max": 74,
       "style": "IPY_MODEL_d3ced44949f740a5b13f04b26d833e57",
       "value": 74
      }
     },
     "f0bcccd544214e0d996d047d42643041": {
      "model_module": "@jupyter-widgets/controls",
      "model_module_version": "1.5.0",
      "model_name": "FloatProgressModel",
      "state": {
       "description": "Train Epoch #8 - loss:   7.239: 100%",
       "layout": "IPY_MODEL_b88ba63ea0524c7ea07950d6a4d379cf",
       "max": 589,
       "style": "IPY_MODEL_ebe1496c53a547b1ad5bf857489f47d7",
       "value": 589
      }
     },
     "f0c2710eaf0c461d8ffec42c1937e7ac": {
      "model_module": "@jupyter-widgets/controls",
      "model_module_version": "1.5.0",
      "model_name": "FloatProgressModel",
      "state": {
       "description": "Val Epoch #3 - loss:   7.744: 100%",
       "layout": "IPY_MODEL_a9929a4856664630918181fae8b7d90b",
       "max": 74,
       "style": "IPY_MODEL_b28b122bf3484123b503351070023070",
       "value": 74
      }
     },
     "f10b24a045cd405d8948d7514a521e6d": {
      "model_module": "@jupyter-widgets/controls",
      "model_module_version": "1.5.0",
      "model_name": "HTMLModel",
      "state": {
       "layout": "IPY_MODEL_9de0495714ce411cbd6857676999497e",
       "style": "IPY_MODEL_cd34687794424503b2ef7c6789ed74d8",
       "value": " 589/589 [4:41:32&lt;00:00,  2.66it/s]"
      }
     },
     "f1181c89801147b38d6f3e82ca038256": {
      "model_module": "@jupyter-widgets/controls",
      "model_module_version": "1.5.0",
      "model_name": "FloatProgressModel",
      "state": {
       "description": "Train Epoch #12 - loss:   5.355: 100%",
       "layout": "IPY_MODEL_edf13522ceb6451e93744fa13b36af3c",
       "max": 589,
       "style": "IPY_MODEL_666d3e9965aa42abbe90169e25685f8b",
       "value": 589
      }
     },
     "f12695f7d970492c807d64351fcc17fd": {
      "model_module": "@jupyter-widgets/controls",
      "model_module_version": "1.5.0",
      "model_name": "ProgressStyleModel",
      "state": {
       "description_width": "initial"
      }
     },
     "f1689d042f4f4a4886ce67487933789a": {
      "model_module": "@jupyter-widgets/controls",
      "model_module_version": "1.5.0",
      "model_name": "HTMLModel",
      "state": {
       "layout": "IPY_MODEL_e4b11d0a4037460ba8c6109eb162c213",
       "style": "IPY_MODEL_55be5bad8b014369b161b50d2d193125",
       "value": " 589/589 [7:07:30&lt;00:00,  2.99it/s]"
      }
     },
     "f17c5b2e7b464281b116816d7fca5674": {
      "model_module": "@jupyter-widgets/controls",
      "model_module_version": "1.5.0",
      "model_name": "ProgressStyleModel",
      "state": {
       "description_width": "initial"
      }
     },
     "f18e639b6ebb430da546effb36c110e5": {
      "model_module": "@jupyter-widgets/base",
      "model_module_version": "1.2.0",
      "model_name": "LayoutModel",
      "state": {}
     },
     "f193df1d4d5b4991a4525b0b8e9a55cc": {
      "model_module": "@jupyter-widgets/base",
      "model_module_version": "1.2.0",
      "model_name": "LayoutModel",
      "state": {}
     },
     "f199f4078ab54b849a906f70802e8479": {
      "model_module": "@jupyter-widgets/base",
      "model_module_version": "1.2.0",
      "model_name": "LayoutModel",
      "state": {}
     },
     "f1a244ab8ba54e80b8e09844df8f677d": {
      "model_module": "@jupyter-widgets/controls",
      "model_module_version": "1.5.0",
      "model_name": "FloatProgressModel",
      "state": {
       "description": "Val Epoch #1 - loss:   7.861: 100%",
       "layout": "IPY_MODEL_2ef3f8cca63a44f19c1bc27de76deaf2",
       "max": 74,
       "style": "IPY_MODEL_31a355e25ca849e4bf21b39887895886",
       "value": 74
      }
     },
     "f1cbca6f01aa4db390acd5dc839a6e46": {
      "model_module": "@jupyter-widgets/controls",
      "model_module_version": "1.5.0",
      "model_name": "HBoxModel",
      "state": {
       "children": [
        "IPY_MODEL_5bb253e23bb247c88f062cf03f9f06fd",
        "IPY_MODEL_8f6aedd9ce1b4574b763dfcbb0920591"
       ],
       "layout": "IPY_MODEL_5b50c04cf29f4592abb1ac660f0af56b"
      }
     },
     "f1d06067019a48d9aab383981ba886d4": {
      "model_module": "@jupyter-widgets/base",
      "model_module_version": "1.2.0",
      "model_name": "LayoutModel",
      "state": {}
     },
     "f21763d2bb914d53849d9317100c367a": {
      "model_module": "@jupyter-widgets/base",
      "model_module_version": "1.2.0",
      "model_name": "LayoutModel",
      "state": {}
     },
     "f22e2d88b4b944ae9252561e4377db16": {
      "model_module": "@jupyter-widgets/controls",
      "model_module_version": "1.5.0",
      "model_name": "HTMLModel",
      "state": {
       "layout": "IPY_MODEL_f4f66526e69f45b48ffcb6c062815226",
       "style": "IPY_MODEL_2756dc65ccd445e2857d599abfd2afc4",
       "value": " 589/589 [2:23:06&lt;00:00,  2.18it/s]"
      }
     },
     "f24c852003d14f108a80a8bcda199003": {
      "model_module": "@jupyter-widgets/base",
      "model_module_version": "1.2.0",
      "model_name": "LayoutModel",
      "state": {}
     },
     "f26b74c3cd994992a90f6435950fcb57": {
      "model_module": "@jupyter-widgets/base",
      "model_module_version": "1.2.0",
      "model_name": "LayoutModel",
      "state": {}
     },
     "f272a2d3ab0c4b8d89431361eb33f6fd": {
      "model_module": "@jupyter-widgets/base",
      "model_module_version": "1.2.0",
      "model_name": "LayoutModel",
      "state": {}
     },
     "f27b5035cea245a0a35bed8adfa3d1ea": {
      "model_module": "@jupyter-widgets/controls",
      "model_module_version": "1.5.0",
      "model_name": "HBoxModel",
      "state": {
       "children": [
        "IPY_MODEL_db0e44e840cc441eae7e97376383a981",
        "IPY_MODEL_f10b24a045cd405d8948d7514a521e6d"
       ],
       "layout": "IPY_MODEL_d2e4ad1d58ee4e698f938d3d17b028f4"
      }
     },
     "f2928ca0319a45d289cc62800be0c0f3": {
      "model_module": "@jupyter-widgets/controls",
      "model_module_version": "1.5.0",
      "model_name": "HBoxModel",
      "state": {
       "children": [
        "IPY_MODEL_d5ce658dc03b4ff9b69a53fd2bc92ca2",
        "IPY_MODEL_bedfc047613943899bfd2b61e30db323"
       ],
       "layout": "IPY_MODEL_4971a3aa29f84cd7b172d1304e3fdbe3"
      }
     },
     "f2a1f4fd830a4d2998e66f67905b3d32": {
      "model_module": "@jupyter-widgets/controls",
      "model_module_version": "1.5.0",
      "model_name": "HBoxModel",
      "state": {
       "children": [
        "IPY_MODEL_6be64d42d7dc4ff7a0d6117f8c4d965a",
        "IPY_MODEL_f08adde3bd5a49e599bad3ef28cc9896"
       ],
       "layout": "IPY_MODEL_9261e48a952a49b3aa0e26c89d21615d"
      }
     },
     "f2a43c36a75a4233b6fa40dacaa58d0c": {
      "model_module": "@jupyter-widgets/controls",
      "model_module_version": "1.5.0",
      "model_name": "DescriptionStyleModel",
      "state": {
       "description_width": ""
      }
     },
     "f2d2798c924042dd8120995c34279130": {
      "model_module": "@jupyter-widgets/controls",
      "model_module_version": "1.5.0",
      "model_name": "FloatProgressModel",
      "state": {
       "description": "Val Epoch #98 - loss:   8.783: 100%",
       "layout": "IPY_MODEL_3b13d36ddb0c4677b90a924b5e385742",
       "max": 74,
       "style": "IPY_MODEL_97ada353f5804445ad2d2f3d9914112e",
       "value": 74
      }
     },
     "f324dec7ab104aab9db3ef8b26163ef2": {
      "model_module": "@jupyter-widgets/controls",
      "model_module_version": "1.5.0",
      "model_name": "HTMLModel",
      "state": {
       "layout": "IPY_MODEL_7a14a74ffbf64ab2934bac216d28aec0",
       "style": "IPY_MODEL_2f711ee5d1f84200abc109c91afee6f6",
       "value": " 74/74 [8:16:55&lt;00:00,  5.82it/s]"
      }
     },
     "f34f1518f5f14953885c203e7a5f0e16": {
      "model_module": "@jupyter-widgets/controls",
      "model_module_version": "1.5.0",
      "model_name": "FloatProgressModel",
      "state": {
       "description": "Train Epoch #97 - loss:    1.29: 100%",
       "layout": "IPY_MODEL_56d99983688a4a2f9107cef4c834534e",
       "max": 589,
       "style": "IPY_MODEL_95e518154e90424cb9a00d66f27e9091",
       "value": 589
      }
     },
     "f357b7de2810452ba24078534d56373c": {
      "model_module": "@jupyter-widgets/controls",
      "model_module_version": "1.5.0",
      "model_name": "HTMLModel",
      "state": {
       "layout": "IPY_MODEL_7bbb4eac6d7f45e88d692131961a7abb",
       "style": "IPY_MODEL_a4e8ddfa45ad495f901fbddc6ba282af",
       "value": " 589/589 [6:02:37&lt;00:00,  3.16it/s]"
      }
     },
     "f35cef7f905d434fa7bc6d2cd884b0b6": {
      "model_module": "@jupyter-widgets/controls",
      "model_module_version": "1.5.0",
      "model_name": "DescriptionStyleModel",
      "state": {
       "description_width": ""
      }
     },
     "f36b115895f14f38aef51cb3e6aa17a5": {
      "model_module": "@jupyter-widgets/controls",
      "model_module_version": "1.5.0",
      "model_name": "HBoxModel",
      "state": {
       "children": [
        "IPY_MODEL_e8c9402277294c289c82091517887650",
        "IPY_MODEL_e73af92fa62b48b9b9a8d4be2e9901b6"
       ],
       "layout": "IPY_MODEL_ee912cead942463489dbc9a4fdc0b83d"
      }
     },
     "f3777650c0ce493692a4a44dedb2a5e7": {
      "model_module": "@jupyter-widgets/base",
      "model_module_version": "1.2.0",
      "model_name": "LayoutModel",
      "state": {}
     },
     "f3926174d5df4eb1bdfa3280fba96fff": {
      "model_module": "@jupyter-widgets/controls",
      "model_module_version": "1.5.0",
      "model_name": "DescriptionStyleModel",
      "state": {
       "description_width": ""
      }
     },
     "f39ac71618d8451e8328adf212836aa4": {
      "model_module": "@jupyter-widgets/controls",
      "model_module_version": "1.5.0",
      "model_name": "HBoxModel",
      "state": {
       "children": [
        "IPY_MODEL_c28c2ceb85e14c1c9d91813321f83fcb",
        "IPY_MODEL_ee54a098435d4a17aa0b70c3f07e714b"
       ],
       "layout": "IPY_MODEL_71b3a596d4104c99942fc1c71add8cb4"
      }
     },
     "f436248a913e4d418d1feb4c86ab1b26": {
      "model_module": "@jupyter-widgets/controls",
      "model_module_version": "1.5.0",
      "model_name": "FloatProgressModel",
      "state": {
       "description": "Val Epoch #29 - loss:   7.254: 100%",
       "layout": "IPY_MODEL_cd63d33932894caf9e1c18fcfd2fa67f",
       "max": 74,
       "style": "IPY_MODEL_3210c19354874027a068e3927921842d",
       "value": 74
      }
     },
     "f46135ed3b334cc9a1faf323bb944fa1": {
      "model_module": "@jupyter-widgets/controls",
      "model_module_version": "1.5.0",
      "model_name": "ProgressStyleModel",
      "state": {
       "description_width": "initial"
      }
     },
     "f467e56679634f8a8bddf73bacea5504": {
      "model_module": "@jupyter-widgets/base",
      "model_module_version": "1.2.0",
      "model_name": "LayoutModel",
      "state": {}
     },
     "f473c69d0e704a76a6a6087ca117c695": {
      "model_module": "@jupyter-widgets/base",
      "model_module_version": "1.2.0",
      "model_name": "LayoutModel",
      "state": {}
     },
     "f49326042a414dedbd4667af206fabed": {
      "model_module": "@jupyter-widgets/controls",
      "model_module_version": "1.5.0",
      "model_name": "HTMLModel",
      "state": {
       "layout": "IPY_MODEL_a089073fe31f4e6cbe31c92da02f2506",
       "style": "IPY_MODEL_d78436f6e2e8404aadf167dfe72713ef",
       "value": " 426/589 [8:59:27&lt;00:42,  3.82it/s]"
      }
     },
     "f4f66526e69f45b48ffcb6c062815226": {
      "model_module": "@jupyter-widgets/base",
      "model_module_version": "1.2.0",
      "model_name": "LayoutModel",
      "state": {}
     },
     "f502c6bf1feb4b15b9729168c1f009b8": {
      "model_module": "@jupyter-widgets/controls",
      "model_module_version": "1.5.0",
      "model_name": "HTMLModel",
      "state": {
       "layout": "IPY_MODEL_3f80ca9e7de64be7aa49318d8287ced7",
       "style": "IPY_MODEL_3c32ea0c62994b6589a00c51ef7a0803",
       "value": " 589/589 [8:16:42&lt;00:00,  3.25it/s]"
      }
     },
     "f52c7f3cf7cc42158a457e1f0f601f4b": {
      "model_module": "@jupyter-widgets/controls",
      "model_module_version": "1.5.0",
      "model_name": "HTMLModel",
      "state": {
       "layout": "IPY_MODEL_8399fd265ba54a6eb52bba23628e90af",
       "style": "IPY_MODEL_e4d3a8bcf0884ac6b7db4315f7aceb12",
       "value": " 74/74 [4:01:00&lt;00:00,  5.45it/s]"
      }
     },
     "f5583dc8ac6547daa681f6a67a84d762": {
      "model_module": "@jupyter-widgets/controls",
      "model_module_version": "1.5.0",
      "model_name": "HTMLModel",
      "state": {
       "layout": "IPY_MODEL_3c18aa25bebf44218511ffd6c7360a9b",
       "style": "IPY_MODEL_b92ae8c37d3c427d9f415d4c6ebffc16",
       "value": " 589/589 [9:07:31&lt;00:00,  3.44it/s]"
      }
     },
     "f5ba10e6bd4d45358cb2a2fc823f3df1": {
      "model_module": "@jupyter-widgets/controls",
      "model_module_version": "1.5.0",
      "model_name": "HBoxModel",
      "state": {
       "children": [
        "IPY_MODEL_353a71b2d9e74fbc984253ff2fe2b774",
        "IPY_MODEL_5df59473f7c242d7abb535b2bcd624a1"
       ],
       "layout": "IPY_MODEL_6918dfc2dffa473fa3f82b9e11f1b462"
      }
     },
     "f5bc3bf8e0cb49c8a8c53e5bf792ab9c": {
      "model_module": "@jupyter-widgets/controls",
      "model_module_version": "1.5.0",
      "model_name": "ProgressStyleModel",
      "state": {
       "description_width": "initial"
      }
     },
     "f5d097dce0b14d67b926a214f96b37f3": {
      "model_module": "@jupyter-widgets/base",
      "model_module_version": "1.2.0",
      "model_name": "LayoutModel",
      "state": {}
     },
     "f5d44d793a754aa9959e2eac10e2c4b6": {
      "model_module": "@jupyter-widgets/controls",
      "model_module_version": "1.5.0",
      "model_name": "DescriptionStyleModel",
      "state": {
       "description_width": ""
      }
     },
     "f5e92a2ca798468d9ebbac1df88375ab": {
      "model_module": "@jupyter-widgets/base",
      "model_module_version": "1.2.0",
      "model_name": "LayoutModel",
      "state": {}
     },
     "f6104511bbfd4c7f822bc9cab248cfee": {
      "model_module": "@jupyter-widgets/controls",
      "model_module_version": "1.5.0",
      "model_name": "DescriptionStyleModel",
      "state": {
       "description_width": ""
      }
     },
     "f625ba5e324f49fb9ff6d0fceb372555": {
      "model_module": "@jupyter-widgets/controls",
      "model_module_version": "1.5.0",
      "model_name": "HTMLModel",
      "state": {
       "layout": "IPY_MODEL_c7239c23fbf943c29abf7a0e79fcb402",
       "style": "IPY_MODEL_34dd628de96f4cbc98c3330e3a4f3f16",
       "value": " 74/74 [6:05:41&lt;00:00,  6.36it/s]"
      }
     },
     "f643f71e5b7145e4b9cb44d5d3fd0788": {
      "model_module": "@jupyter-widgets/base",
      "model_module_version": "1.2.0",
      "model_name": "LayoutModel",
      "state": {}
     },
     "f65029c06d2648288dfd6e43dfc70434": {
      "model_module": "@jupyter-widgets/base",
      "model_module_version": "1.2.0",
      "model_name": "LayoutModel",
      "state": {}
     },
     "f65688b885044b9793fea76c234d6cdf": {
      "model_module": "@jupyter-widgets/controls",
      "model_module_version": "1.5.0",
      "model_name": "HBoxModel",
      "state": {
       "children": [
        "IPY_MODEL_356fd2240a53469c86fe8593cbaf82ca",
        "IPY_MODEL_28b8ded380a44ea8b999c07220ca4cdc"
       ],
       "layout": "IPY_MODEL_cdcd266f587f489d8bf406648d468f5e"
      }
     },
     "f66447c78ce7452c8748194678616eb6": {
      "model_module": "@jupyter-widgets/controls",
      "model_module_version": "1.5.0",
      "model_name": "HBoxModel",
      "state": {
       "children": [
        "IPY_MODEL_c749f8764f044c559b9ac09a17c3aff7",
        "IPY_MODEL_1228736c89c1432e8899569e1fd40230"
       ],
       "layout": "IPY_MODEL_85e7196fef5a44b0913e6303d67e3b88"
      }
     },
     "f66fecd3875d46ce96e5e0ca90b3ec94": {
      "model_module": "@jupyter-widgets/base",
      "model_module_version": "1.2.0",
      "model_name": "LayoutModel",
      "state": {}
     },
     "f6a969e8e2634117b5d143772263b7ba": {
      "model_module": "@jupyter-widgets/controls",
      "model_module_version": "1.5.0",
      "model_name": "DescriptionStyleModel",
      "state": {
       "description_width": ""
      }
     },
     "f6cd7dc417714b29925dcbf03b8dfe79": {
      "model_module": "@jupyter-widgets/base",
      "model_module_version": "1.2.0",
      "model_name": "LayoutModel",
      "state": {}
     },
     "f6d834b49af04a00a61dede4ae2e38c4": {
      "model_module": "@jupyter-widgets/base",
      "model_module_version": "1.2.0",
      "model_name": "LayoutModel",
      "state": {}
     },
     "f6dc77664ab74f86977e15b9a2a3425e": {
      "model_module": "@jupyter-widgets/controls",
      "model_module_version": "1.5.0",
      "model_name": "ProgressStyleModel",
      "state": {
       "description_width": "initial"
      }
     },
     "f70109928cef471281da8576e3c62438": {
      "model_module": "@jupyter-widgets/base",
      "model_module_version": "1.2.0",
      "model_name": "LayoutModel",
      "state": {}
     },
     "f72b0978b7fd4acc9db0753f6569a5c8": {
      "model_module": "@jupyter-widgets/base",
      "model_module_version": "1.2.0",
      "model_name": "LayoutModel",
      "state": {}
     },
     "f76f2d44110d49ef95ea37a1bf45f590": {
      "model_module": "@jupyter-widgets/controls",
      "model_module_version": "1.5.0",
      "model_name": "DescriptionStyleModel",
      "state": {
       "description_width": ""
      }
     },
     "f7c415adb56a42acb435aad1f6e52920": {
      "model_module": "@jupyter-widgets/base",
      "model_module_version": "1.2.0",
      "model_name": "LayoutModel",
      "state": {}
     },
     "f7cb8cdb47cd4c4e9eb395db004886f1": {
      "model_module": "@jupyter-widgets/base",
      "model_module_version": "1.2.0",
      "model_name": "LayoutModel",
      "state": {}
     },
     "f82ee8fb3503490bb995e61fbe8e6288": {
      "model_module": "@jupyter-widgets/controls",
      "model_module_version": "1.5.0",
      "model_name": "DescriptionStyleModel",
      "state": {
       "description_width": ""
      }
     },
     "f83bf423e7234b6d9045583953b7f766": {
      "model_module": "@jupyter-widgets/controls",
      "model_module_version": "1.5.0",
      "model_name": "ProgressStyleModel",
      "state": {
       "description_width": "initial"
      }
     },
     "f845fea6823e456cb4216e9dd6aeaa52": {
      "model_module": "@jupyter-widgets/controls",
      "model_module_version": "1.5.0",
      "model_name": "FloatProgressModel",
      "state": {
       "description": "Val Epoch #7 - loss:   8.991: 100%",
       "layout": "IPY_MODEL_932b90524d3a416594b568ecf92e9e2c",
       "max": 74,
       "style": "IPY_MODEL_4254e0a1bb81471c9eeabce197b52e09",
       "value": 74
      }
     },
     "f84efa5a9eea4bfeab8b1ba96d0368ae": {
      "model_module": "@jupyter-widgets/base",
      "model_module_version": "1.2.0",
      "model_name": "LayoutModel",
      "state": {}
     },
     "f87297caafb345b2b65dae842e51af92": {
      "model_module": "@jupyter-widgets/controls",
      "model_module_version": "1.5.0",
      "model_name": "HTMLModel",
      "state": {
       "layout": "IPY_MODEL_7cef6eee51294818a1668b6ea095b318",
       "style": "IPY_MODEL_8156aa6d154d484ca7912baccf542e61",
       "value": " 589/589 [7:59:21&lt;00:00,  3.46it/s]"
      }
     },
     "f87c1819302947b1af62298b1638d6ca": {
      "model_module": "@jupyter-widgets/base",
      "model_module_version": "1.2.0",
      "model_name": "LayoutModel",
      "state": {}
     },
     "f8a06c75b3254d30adcc157f49c6cbe3": {
      "model_module": "@jupyter-widgets/controls",
      "model_module_version": "1.5.0",
      "model_name": "DescriptionStyleModel",
      "state": {
       "description_width": ""
      }
     },
     "f8a2efe15ded44879b00743828ebbbb6": {
      "model_module": "@jupyter-widgets/base",
      "model_module_version": "1.2.0",
      "model_name": "LayoutModel",
      "state": {}
     },
     "f8aafa95cd2149a3bbd7c31700bec704": {
      "model_module": "@jupyter-widgets/controls",
      "model_module_version": "1.5.0",
      "model_name": "HBoxModel",
      "state": {
       "children": [
        "IPY_MODEL_2459a543b58e42b59c1d8509f493ed71",
        "IPY_MODEL_5aa159cb6a9b401ba18800efd8cfca69"
       ],
       "layout": "IPY_MODEL_6db4225dfda643e0a538e232104a5331"
      }
     },
     "f8dafdc5e1e7493eb20f8b603f60ab4d": {
      "model_module": "@jupyter-widgets/controls",
      "model_module_version": "1.5.0",
      "model_name": "ProgressStyleModel",
      "state": {
       "description_width": "initial"
      }
     },
     "f8f15495df054a21972f32d18c07cf8f": {
      "model_module": "@jupyter-widgets/controls",
      "model_module_version": "1.5.0",
      "model_name": "DescriptionStyleModel",
      "state": {
       "description_width": ""
      }
     },
     "f8fe10c3bf244022b42b1c5fc51dfdbf": {
      "model_module": "@jupyter-widgets/controls",
      "model_module_version": "1.5.0",
      "model_name": "DescriptionStyleModel",
      "state": {
       "description_width": ""
      }
     },
     "f9613bbc51904cdd9f19a4c5544edf8e": {
      "model_module": "@jupyter-widgets/controls",
      "model_module_version": "1.5.0",
      "model_name": "DescriptionStyleModel",
      "state": {
       "description_width": ""
      }
     },
     "f97996729b9543c4bcabf8144bcb179a": {
      "model_module": "@jupyter-widgets/controls",
      "model_module_version": "1.5.0",
      "model_name": "HBoxModel",
      "state": {
       "children": [
        "IPY_MODEL_cfed31acba714bfe940238338965cb6f",
        "IPY_MODEL_168223c6a8af49259ec6b17d4daeffe7"
       ],
       "layout": "IPY_MODEL_6ef521c5949b4211b4e1df34732a84a6"
      }
     },
     "f98e9bf9601d49a48b10b19dea6b3df7": {
      "model_module": "@jupyter-widgets/controls",
      "model_module_version": "1.5.0",
      "model_name": "DescriptionStyleModel",
      "state": {
       "description_width": ""
      }
     },
     "f9b595549f88402c80a0bd50305382d4": {
      "model_module": "@jupyter-widgets/controls",
      "model_module_version": "1.5.0",
      "model_name": "HTMLModel",
      "state": {
       "layout": "IPY_MODEL_a5d5d01eac44499581481a3fa47d7f73",
       "style": "IPY_MODEL_03520e61cf6f43cba4792a8ea7638893",
       "value": " 589/589 [2:18:50&lt;00:00,  2.20it/s]"
      }
     },
     "f9ca0e9f3090411ab0c9f347e927ea5e": {
      "model_module": "@jupyter-widgets/base",
      "model_module_version": "1.2.0",
      "model_name": "LayoutModel",
      "state": {}
     },
     "fa1abdb939f6465c85eb06bb84b6a1bd": {
      "model_module": "@jupyter-widgets/controls",
      "model_module_version": "1.5.0",
      "model_name": "HBoxModel",
      "state": {
       "children": [
        "IPY_MODEL_c8abbd6aad9b4b8aaacbd6115e069bd2",
        "IPY_MODEL_d0797d7666cc45c2a04d7b3fcff91030"
       ],
       "layout": "IPY_MODEL_8bff9425bfce4fae9fe90c9cbd963d72"
      }
     },
     "fa5cff9838984ee7bfce3583a796c23f": {
      "model_module": "@jupyter-widgets/controls",
      "model_module_version": "1.5.0",
      "model_name": "DescriptionStyleModel",
      "state": {
       "description_width": ""
      }
     },
     "fa5ea951287b4037a054ab14abed9f48": {
      "model_module": "@jupyter-widgets/controls",
      "model_module_version": "1.5.0",
      "model_name": "HTMLModel",
      "state": {
       "layout": "IPY_MODEL_f643f71e5b7145e4b9cb44d5d3fd0788",
       "style": "IPY_MODEL_67ba9c19999546d68e8bd95790a45f3e",
       "value": " 74/74 [2:14:47&lt;00:00,  5.41it/s]"
      }
     },
     "fa5f51285235412ba1fc228b3f81c803": {
      "model_module": "@jupyter-widgets/controls",
      "model_module_version": "1.5.0",
      "model_name": "FloatProgressModel",
      "state": {
       "description": "Train Epoch #88 - loss:   1.338: 100%",
       "layout": "IPY_MODEL_db06674d64e64783808c9e5c1b8d5044",
       "max": 589,
       "style": "IPY_MODEL_bcff7af7ed164edc9fa717f391944d67",
       "value": 589
      }
     },
     "faa56af7d69040f393bdf0ac7e85defb": {
      "model_module": "@jupyter-widgets/controls",
      "model_module_version": "1.5.0",
      "model_name": "HBoxModel",
      "state": {
       "children": [
        "IPY_MODEL_b99b9a35868c40c8abe699318891e422",
        "IPY_MODEL_b949982347d74a50981cc4d0ac5b82be"
       ],
       "layout": "IPY_MODEL_83af2fb03ae3413482c739fbac75c75c"
      }
     },
     "fab5047ffc7448aca7fce8fddfaf0c09": {
      "model_module": "@jupyter-widgets/controls",
      "model_module_version": "1.5.0",
      "model_name": "ProgressStyleModel",
      "state": {
       "description_width": "initial"
      }
     },
     "fabd0d259159447ca0331ea505e70bcc": {
      "model_module": "@jupyter-widgets/controls",
      "model_module_version": "1.5.0",
      "model_name": "HTMLModel",
      "state": {
       "layout": "IPY_MODEL_e327453bf1914543a427117191a45fd4",
       "style": "IPY_MODEL_749bac9042d042a88f554840b918b2d4",
       "value": " 74/74 [6:57:42&lt;00:00,  5.95it/s]"
      }
     },
     "fac76352520649469d29fb17f4835d29": {
      "model_module": "@jupyter-widgets/base",
      "model_module_version": "1.2.0",
      "model_name": "LayoutModel",
      "state": {}
     },
     "fad057fe372744e5b86d2f0253a14da7": {
      "model_module": "@jupyter-widgets/base",
      "model_module_version": "1.2.0",
      "model_name": "LayoutModel",
      "state": {}
     },
     "fad383f783fa4817b8363210084a0740": {
      "model_module": "@jupyter-widgets/controls",
      "model_module_version": "1.5.0",
      "model_name": "HTMLModel",
      "state": {
       "layout": "IPY_MODEL_7775819d40b54007b77dc86e34a4c011",
       "style": "IPY_MODEL_a6b8c6a8f607447b9b852949122ce629",
       "value": " 589/589 [2:01:50&lt;00:00,  2.12it/s]"
      }
     },
     "fad4e817e23e4e1ebfb1fe4e6d125525": {
      "model_module": "@jupyter-widgets/base",
      "model_module_version": "1.2.0",
      "model_name": "LayoutModel",
      "state": {}
     },
     "fadc1a24d2314fba96ff8d1fd5cf1a22": {
      "model_module": "@jupyter-widgets/controls",
      "model_module_version": "1.5.0",
      "model_name": "HBoxModel",
      "state": {
       "children": [
        "IPY_MODEL_afac44ccd7574218b9d6fe74bc7c8105",
        "IPY_MODEL_4fba919dc4664f539344c1083314b0ed"
       ],
       "layout": "IPY_MODEL_52aa6eb794374a83a42516de9bab65e8"
      }
     },
     "fade015334af486788cf060b02a23b42": {
      "model_module": "@jupyter-widgets/controls",
      "model_module_version": "1.5.0",
      "model_name": "FloatProgressModel",
      "state": {
       "description": "Train Epoch #48 - loss:    2.06: 100%",
       "layout": "IPY_MODEL_43632b30411443c4af1aea4470cd907d",
       "max": 589,
       "style": "IPY_MODEL_05b896a30b994dd8ad8596bd3b0c4786",
       "value": 589
      }
     },
     "fb16a3f5c2e045c5915ccf145857141f": {
      "model_module": "@jupyter-widgets/base",
      "model_module_version": "1.2.0",
      "model_name": "LayoutModel",
      "state": {}
     },
     "fb25748e6a734a85b3c525d35bec8bef": {
      "model_module": "@jupyter-widgets/base",
      "model_module_version": "1.2.0",
      "model_name": "LayoutModel",
      "state": {}
     },
     "fb5d67b68ee44f298ed85ae4727d7aa5": {
      "model_module": "@jupyter-widgets/base",
      "model_module_version": "1.2.0",
      "model_name": "LayoutModel",
      "state": {}
     },
     "fb63b985120a431ab72bd5b4195e9003": {
      "model_module": "@jupyter-widgets/base",
      "model_module_version": "1.2.0",
      "model_name": "LayoutModel",
      "state": {}
     },
     "fbcbf7ebc52c432f93220a86aaec3c62": {
      "model_module": "@jupyter-widgets/controls",
      "model_module_version": "1.5.0",
      "model_name": "HBoxModel",
      "state": {
       "children": [
        "IPY_MODEL_1a9d93122fe34384b7f6130308b4db7f",
        "IPY_MODEL_91e947ef9a924da48a2b8868bf0c07ff"
       ],
       "layout": "IPY_MODEL_c9a774109f4d45d69f17a50d5f2b36b8"
      }
     },
     "fbe1d299847c4bbeada6ce47e226b30b": {
      "model_module": "@jupyter-widgets/controls",
      "model_module_version": "1.5.0",
      "model_name": "HTMLModel",
      "state": {
       "layout": "IPY_MODEL_16712ae71923437d8796d531ebdbe998",
       "style": "IPY_MODEL_397061d65e714a9c8d3d08a9c557deea",
       "value": " 74/74 [5:09:56&lt;00:00,  5.39it/s]"
      }
     },
     "fbe773615d0a4d12aa50390459373a1c": {
      "model_module": "@jupyter-widgets/controls",
      "model_module_version": "1.5.0",
      "model_name": "FloatProgressModel",
      "state": {
       "description": "Train Epoch #18 - loss:   4.648: 100%",
       "layout": "IPY_MODEL_c995745b697f4dcf899190be8569db07",
       "max": 589,
       "style": "IPY_MODEL_0c9b10a211044682ae27ea624d2cb202",
       "value": 589
      }
     },
     "fc4165714ec24d17aa357b48a509e47a": {
      "model_module": "@jupyter-widgets/controls",
      "model_module_version": "1.5.0",
      "model_name": "ProgressStyleModel",
      "state": {
       "description_width": "initial"
      }
     },
     "fc4fa9c58c0947228587a447330c0bda": {
      "model_module": "@jupyter-widgets/controls",
      "model_module_version": "1.5.0",
      "model_name": "HTMLModel",
      "state": {
       "layout": "IPY_MODEL_9660e3aaf36643e7bfb75258ed617ccb",
       "style": "IPY_MODEL_5ad593814ad646458f91d4165d8b16a4",
       "value": " 589/589 [9:04:51&lt;00:00,  3.35it/s]"
      }
     },
     "fc5909e2e4274624b7eb6dc6fee6a302": {
      "model_module": "@jupyter-widgets/controls",
      "model_module_version": "1.5.0",
      "model_name": "HBoxModel",
      "state": {
       "children": [
        "IPY_MODEL_cc50dc35cf6e49ea9b538ab680dce8b3",
        "IPY_MODEL_ed635a7093644f2a95dce860bc608c27"
       ],
       "layout": "IPY_MODEL_23e6265864cc42b1a3a4bf0979586198"
      }
     },
     "fc7107ea0b104d12b7e4af410016c14b": {
      "model_module": "@jupyter-widgets/base",
      "model_module_version": "1.2.0",
      "model_name": "LayoutModel",
      "state": {}
     },
     "fc75a224766e41eb81e07f3bfad39b02": {
      "model_module": "@jupyter-widgets/base",
      "model_module_version": "1.2.0",
      "model_name": "LayoutModel",
      "state": {}
     },
     "fc848555d9584f65b8f4aca92744fd70": {
      "model_module": "@jupyter-widgets/controls",
      "model_module_version": "1.5.0",
      "model_name": "DescriptionStyleModel",
      "state": {
       "description_width": ""
      }
     },
     "fc8df0f874b44911843c0990bbba971f": {
      "model_module": "@jupyter-widgets/controls",
      "model_module_version": "1.5.0",
      "model_name": "HBoxModel",
      "state": {
       "children": [
        "IPY_MODEL_501404fbf76941f8befc923a5f1a9635",
        "IPY_MODEL_b106f5cfc8ef4992a87b99a124817c3e"
       ],
       "layout": "IPY_MODEL_4c368f9d9b104244a63adbcdcaf40d6a"
      }
     },
     "fcd11db9e24141e59cea06b407b8fd38": {
      "model_module": "@jupyter-widgets/controls",
      "model_module_version": "1.5.0",
      "model_name": "DescriptionStyleModel",
      "state": {
       "description_width": ""
      }
     },
     "fcda8bb546a24f018a78112a1a4f42b5": {
      "model_module": "@jupyter-widgets/base",
      "model_module_version": "1.2.0",
      "model_name": "LayoutModel",
      "state": {}
     },
     "fce31ac836c04adabcaecf5bb42700ce": {
      "model_module": "@jupyter-widgets/controls",
      "model_module_version": "1.5.0",
      "model_name": "ProgressStyleModel",
      "state": {
       "description_width": "initial"
      }
     },
     "fce50469f188424ab88493b254ec6960": {
      "model_module": "@jupyter-widgets/base",
      "model_module_version": "1.2.0",
      "model_name": "LayoutModel",
      "state": {}
     },
     "fceb06d58e874329b3b2d9cc61bb7680": {
      "model_module": "@jupyter-widgets/controls",
      "model_module_version": "1.5.0",
      "model_name": "HBoxModel",
      "state": {
       "children": [
        "IPY_MODEL_fade015334af486788cf060b02a23b42",
        "IPY_MODEL_24891c4f92af42b38fc87ac471fda18f"
       ],
       "layout": "IPY_MODEL_92de024dd15747498284752a0fad48e9"
      }
     },
     "fcf55125c9d749dbb154590df28d30aa": {
      "model_module": "@jupyter-widgets/base",
      "model_module_version": "1.2.0",
      "model_name": "LayoutModel",
      "state": {}
     },
     "fd5d5018e6ef48a5bfd81c0f0f6407ea": {
      "model_module": "@jupyter-widgets/base",
      "model_module_version": "1.2.0",
      "model_name": "LayoutModel",
      "state": {}
     },
     "fda12c6000754c408921c0bd6a01df62": {
      "model_module": "@jupyter-widgets/base",
      "model_module_version": "1.2.0",
      "model_name": "LayoutModel",
      "state": {}
     },
     "fdbc2f80d73b4415b409fe1073c7b76e": {
      "model_module": "@jupyter-widgets/base",
      "model_module_version": "1.2.0",
      "model_name": "LayoutModel",
      "state": {}
     },
     "fdbfde06fbf647b2a10bb0405ef0cc9b": {
      "model_module": "@jupyter-widgets/controls",
      "model_module_version": "1.5.0",
      "model_name": "ProgressStyleModel",
      "state": {
       "description_width": "initial"
      }
     },
     "fdd2239ec30f4fe9a1c1b3230988d2d1": {
      "model_module": "@jupyter-widgets/base",
      "model_module_version": "1.2.0",
      "model_name": "LayoutModel",
      "state": {}
     },
     "fdd3c1392f814e21988df22546f7eae8": {
      "model_module": "@jupyter-widgets/base",
      "model_module_version": "1.2.0",
      "model_name": "LayoutModel",
      "state": {}
     },
     "fdd524c7cfac4da29e536efe62b1e206": {
      "model_module": "@jupyter-widgets/controls",
      "model_module_version": "1.5.0",
      "model_name": "FloatProgressModel",
      "state": {
       "description": "Train Epoch #82 - loss:   1.379: 100%",
       "layout": "IPY_MODEL_41a874980ff84ffaab137df84182d731",
       "max": 589,
       "style": "IPY_MODEL_110b7e72e10d42bc9ba2d28de6a58d9b",
       "value": 589
      }
     },
     "fdec684ec54d43088f4765649641e6ee": {
      "model_module": "@jupyter-widgets/base",
      "model_module_version": "1.2.0",
      "model_name": "LayoutModel",
      "state": {}
     },
     "fdf3ac4a180d4412943fae411e5d979b": {
      "model_module": "@jupyter-widgets/controls",
      "model_module_version": "1.5.0",
      "model_name": "ProgressStyleModel",
      "state": {
       "description_width": "initial"
      }
     },
     "fe05883957fb41e7884574b8072364be": {
      "model_module": "@jupyter-widgets/base",
      "model_module_version": "1.2.0",
      "model_name": "LayoutModel",
      "state": {}
     },
     "fe08acb876954b1083682b3f575ec373": {
      "model_module": "@jupyter-widgets/controls",
      "model_module_version": "1.5.0",
      "model_name": "DescriptionStyleModel",
      "state": {
       "description_width": ""
      }
     },
     "fe867a31bbcc44d68e8bc6f2b0064049": {
      "model_module": "@jupyter-widgets/base",
      "model_module_version": "1.2.0",
      "model_name": "LayoutModel",
      "state": {}
     },
     "febee90ddf4d4ba1aed358d5e6818cf8": {
      "model_module": "@jupyter-widgets/controls",
      "model_module_version": "1.5.0",
      "model_name": "HTMLModel",
      "state": {
       "layout": "IPY_MODEL_e0924d79540240b2bc92fdd5e438861e",
       "style": "IPY_MODEL_5373e1e39ddc45b3a52354aba117c99f",
       "value": " 589/589 [8:54:32&lt;00:00,  3.50it/s]"
      }
     },
     "fed74e6905b14f81b3dcc84fa8fb248a": {
      "model_module": "@jupyter-widgets/controls",
      "model_module_version": "1.5.0",
      "model_name": "ProgressStyleModel",
      "state": {
       "description_width": "initial"
      }
     },
     "ff15dcf2c80b4d9c936fe754d39c56b3": {
      "model_module": "@jupyter-widgets/controls",
      "model_module_version": "1.5.0",
      "model_name": "ProgressStyleModel",
      "state": {
       "description_width": "initial"
      }
     },
     "ff19cb8ab9264d728df31e8465271733": {
      "model_module": "@jupyter-widgets/controls",
      "model_module_version": "1.5.0",
      "model_name": "FloatProgressModel",
      "state": {
       "description": "Train Epoch #0 - loss:   8.383: 100%",
       "layout": "IPY_MODEL_eca2675341c542c28da8ea33494e7e10",
       "max": 589,
       "style": "IPY_MODEL_a8d5810eb86447a5a6ec82b0d8da1b49",
       "value": 589
      }
     },
     "ff1a10a294924d41a227b45f12c66f49": {
      "model_module": "@jupyter-widgets/controls",
      "model_module_version": "1.5.0",
      "model_name": "HBoxModel",
      "state": {
       "children": [
        "IPY_MODEL_f09dc96fbd3e4af5abaf778c1a601309",
        "IPY_MODEL_eea021cc3cc942a79f26a3e3e6218421"
       ],
       "layout": "IPY_MODEL_89ad7c69adfa45fe9327e4194069c7d2"
      }
     },
     "ff2639b5a6744312b4e297785e3e0f13": {
      "model_module": "@jupyter-widgets/base",
      "model_module_version": "1.2.0",
      "model_name": "LayoutModel",
      "state": {}
     },
     "ff2d4d507a5e4feebf444d27e13d7085": {
      "model_module": "@jupyter-widgets/controls",
      "model_module_version": "1.5.0",
      "model_name": "HTMLModel",
      "state": {
       "layout": "IPY_MODEL_92dc9130bdb34f7ead956d5ed3ce4d73",
       "style": "IPY_MODEL_706053a5a87847fa826c6cbca7f5eb52",
       "value": " 74/74 [3:21:34&lt;00:00,  5.52it/s]"
      }
     },
     "ff3bc4fec07d41e4bee2c9af72aef835": {
      "model_module": "@jupyter-widgets/base",
      "model_module_version": "1.2.0",
      "model_name": "LayoutModel",
      "state": {}
     },
     "ff4a26d16203484d8d43fb10ea1499d1": {
      "model_module": "@jupyter-widgets/base",
      "model_module_version": "1.2.0",
      "model_name": "LayoutModel",
      "state": {}
     },
     "ff5b1e706f644aa98bf72fad4f022361": {
      "model_module": "@jupyter-widgets/controls",
      "model_module_version": "1.5.0",
      "model_name": "HTMLModel",
      "state": {
       "layout": "IPY_MODEL_7f8cc396465d4acc9a62d1532e918ddf",
       "style": "IPY_MODEL_d51f1394fa504bb2921b98696bf42799",
       "value": " 74/74 [6:41:06&lt;00:00,  5.76it/s]"
      }
     },
     "ffcfad07e7704eea92eb38165bd3602f": {
      "model_module": "@jupyter-widgets/controls",
      "model_module_version": "1.5.0",
      "model_name": "DescriptionStyleModel",
      "state": {
       "description_width": ""
      }
     },
     "ffdd0088c1024ae3bab566c5eff80e95": {
      "model_module": "@jupyter-widgets/controls",
      "model_module_version": "1.5.0",
      "model_name": "ProgressStyleModel",
      "state": {
       "description_width": "initial"
      }
     }
    },
    "version_major": 2,
    "version_minor": 0
   }
  }
 },
 "nbformat": 4,
 "nbformat_minor": 2
}
